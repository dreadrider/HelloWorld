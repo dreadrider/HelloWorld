{
 "cells": [
  {
   "cell_type": "code",
   "execution_count": 1,
   "metadata": {},
   "outputs": [],
   "source": [
    "import os.path\n",
    "import glob\n",
    "import pandas as pd\n",
    "import numpy as np\n",
    "import matplotlib.pyplot as plt\n",
    "from ipywidgets import interact\n",
    "import ipywidgets as widgets\n",
    "from scipy.stats import hmean\n",
    "import datetime as dtm"
   ]
  },
  {
   "cell_type": "code",
   "execution_count": 2,
   "metadata": {},
   "outputs": [],
   "source": [
    "import wquantiles as wq"
   ]
  },
  {
   "cell_type": "code",
   "execution_count": 3,
   "metadata": {},
   "outputs": [],
   "source": [
    "all_files = glob.glob(\"D:/ahn_pc/workfile/2021/阪神事故リスク/TRP044_csv/202104/*.csv\")"
   ]
  },
  {
   "cell_type": "code",
   "execution_count": 4,
   "metadata": {
    "scrolled": true
   },
   "outputs": [
    {
     "name": "stdout",
     "output_type": "stream",
     "text": [
      "D:/ahn_pc/workfile/2021/阪神事故リスク/TRP044_csv/202104\\TRP044_20210404.csv\n",
      "D:/ahn_pc/workfile/2021/阪神事故リスク/TRP044_csv/202104\\TRP044_20210405.csv\n",
      "D:/ahn_pc/workfile/2021/阪神事故リスク/TRP044_csv/202104\\TRP044_20210406.csv\n",
      "D:/ahn_pc/workfile/2021/阪神事故リスク/TRP044_csv/202104\\TRP044_20210407.csv\n",
      "D:/ahn_pc/workfile/2021/阪神事故リスク/TRP044_csv/202104\\TRP044_20210408.csv\n",
      "D:/ahn_pc/workfile/2021/阪神事故リスク/TRP044_csv/202104\\TRP044_20210409.csv\n",
      "D:/ahn_pc/workfile/2021/阪神事故リスク/TRP044_csv/202104\\TRP044_20210410.csv\n",
      "D:/ahn_pc/workfile/2021/阪神事故リスク/TRP044_csv/202104\\TRP044_20210411.csv\n",
      "D:/ahn_pc/workfile/2021/阪神事故リスク/TRP044_csv/202104\\TRP044_20210412.csv\n",
      "D:/ahn_pc/workfile/2021/阪神事故リスク/TRP044_csv/202104\\TRP044_20210413.csv\n",
      "D:/ahn_pc/workfile/2021/阪神事故リスク/TRP044_csv/202104\\TRP044_20210414.csv\n",
      "D:/ahn_pc/workfile/2021/阪神事故リスク/TRP044_csv/202104\\TRP044_20210415.csv\n",
      "D:/ahn_pc/workfile/2021/阪神事故リスク/TRP044_csv/202104\\TRP044_20210416.csv\n",
      "D:/ahn_pc/workfile/2021/阪神事故リスク/TRP044_csv/202104\\TRP044_20210417.csv\n",
      "D:/ahn_pc/workfile/2021/阪神事故リスク/TRP044_csv/202104\\TRP044_20210418.csv\n",
      "D:/ahn_pc/workfile/2021/阪神事故リスク/TRP044_csv/202104\\TRP044_20210419.csv\n",
      "D:/ahn_pc/workfile/2021/阪神事故リスク/TRP044_csv/202104\\TRP044_20210420.csv\n",
      "D:/ahn_pc/workfile/2021/阪神事故リスク/TRP044_csv/202104\\TRP044_20210421.csv\n",
      "D:/ahn_pc/workfile/2021/阪神事故リスク/TRP044_csv/202104\\TRP044_20210422.csv\n",
      "D:/ahn_pc/workfile/2021/阪神事故リスク/TRP044_csv/202104\\TRP044_20210423.csv\n",
      "D:/ahn_pc/workfile/2021/阪神事故リスク/TRP044_csv/202104\\TRP044_20210424.csv\n",
      "D:/ahn_pc/workfile/2021/阪神事故リスク/TRP044_csv/202104\\TRP044_20210425.csv\n",
      "D:/ahn_pc/workfile/2021/阪神事故リスク/TRP044_csv/202104\\TRP044_20210426.csv\n",
      "D:/ahn_pc/workfile/2021/阪神事故リスク/TRP044_csv/202104\\TRP044_20210427.csv\n",
      "D:/ahn_pc/workfile/2021/阪神事故リスク/TRP044_csv/202104\\TRP044_20210428.csv\n",
      "D:/ahn_pc/workfile/2021/阪神事故リスク/TRP044_csv/202104\\TRP044_20210429.csv\n",
      "D:/ahn_pc/workfile/2021/阪神事故リスク/TRP044_csv/202104\\TRP044_20210430.csv\n"
     ]
    }
   ],
   "source": [
    "all_data_frames = []\n",
    "dc = []\n",
    "#for file in all_files[0:1]:\n",
    "for file in all_files:\n",
    "    #dc = pd.read_csv(file, header=None, encoding=\"shift_jis\", usecols=[6,18,34,36], names=(\"dt\", \"spd\", \"updown\", \"kp\"))\n",
    "    #dc = pd.read_csv(file, header=None, encoding=\"shift_jis\", names=(\"dt\", \"tim\", \"num\", \"err\", \"trf\", \"htrf\", \"occ\", \"spd\", \"ver\"))\n",
    "    #dc = pd.read_csv(file, encoding=\"shift_jis\")\n",
    "    dc = pd.read_csv(file, header=None, encoding=\"shift_jis\")\n",
    "    print(file)\n",
    "    #dc = data_frame.iloc[:,[6,18,34,36]]\n",
    "    #dc.columns = [\"dt\", \"spd\", \"updown\", \"kp\"]\n",
    "    #dc=dc[dc[\"updown\"]==2]\n",
    "    #dc=dc[dc[\"kp\"]<83.6]\n",
    "    all_data_frames.append(dc)\n",
    "dc = pd.concat(all_data_frames, axis = 0, ignore_index = True)"
   ]
  },
  {
   "cell_type": "code",
   "execution_count": null,
   "metadata": {},
   "outputs": [],
   "source": [
    "#dc = pd.read_csv(\"D:/ahn_pc/workfile/2021/阪神事故リスク/resultken/kendata_10a.csv\", encoding=\"shift_jis\")"
   ]
  },
  {
   "cell_type": "code",
   "execution_count": 5,
   "metadata": {},
   "outputs": [
    {
     "name": "stdout",
     "output_type": "stream",
     "text": [
      "                              0         1     2   3   4   5   6   7   8   9   \\\n",
      "0        2021-04-04 00:00:00.000  00:00:00     1   0   0   0   0   0   0   0   \n",
      "1        2021-04-04 00:00:00.000  00:00:00     2   0   0   0   0   0   0   0   \n",
      "2        2021-04-04 00:00:00.000  00:00:00     3   0   0   0   0   0   0   0   \n",
      "3        2021-04-04 00:00:00.000  00:00:00     4   0   0   0   0   0   0   0   \n",
      "4        2021-04-04 00:00:00.000  00:00:00     5   0   0   0   0   0   0   0   \n",
      "...                          ...       ...   ...  ..  ..  ..  ..  ..  ..  ..   \n",
      "8467055  2021-04-30 00:00:00.000  23:55:00  1290   0   0   0   0   0   0   0   \n",
      "8467056  2021-04-30 00:00:00.000  23:55:00  1291   0   0   0   0   0   0   0   \n",
      "8467057  2021-04-30 00:00:00.000  23:55:00  1292   0   0   0   0   0   0   0   \n",
      "8467058  2021-04-30 00:00:00.000  23:55:00  1293   0   0   0   0   0   0   0   \n",
      "8467059  2021-04-30 00:00:00.000  23:55:00  1294   0   0   0   0   0   0   0   \n",
      "\n",
      "         ...   24  25  26  27     28  29  30  31  32  33  \n",
      "0        ...  313  16   6   1   4671  64  -1  -1  -1  -1  \n",
      "1        ...  401  20   6   1  15003  80  -1  -1  -1  -1  \n",
      "2        ...   80   6   6   1   1319  24  -1  -1  -1  -1  \n",
      "3        ...  282  12   6   1   3120  48  -1  -1  -1  -1  \n",
      "4        ...   45   3   6   1    481  12  -1  -1  -1  -1  \n",
      "...      ...  ...  ..  ..  ..    ...  ..  ..  ..  ..  ..  \n",
      "8467055  ...   -1  -1  -1  -1     -1  -1  -1  -1  -1  -1  \n",
      "8467056  ...   -1  -1  -1  -1     -1  -1  -1  -1  -1  -1  \n",
      "8467057  ...   -1  -1  -1  -1     -1  -1  -1  -1  -1  -1  \n",
      "8467058  ...   -1  -1  -1  -1     -1  -1  -1  -1  -1  -1  \n",
      "8467059  ...   -1  -1  -1  -1     -1  -1  -1  -1  -1  -1  \n",
      "\n",
      "[8467060 rows x 34 columns]\n"
     ]
    }
   ],
   "source": [
    "print(dc)"
   ]
  },
  {
   "cell_type": "code",
   "execution_count": 6,
   "metadata": {},
   "outputs": [
    {
     "data": {
      "text/plain": [
       "8467060"
      ]
     },
     "execution_count": 6,
     "metadata": {},
     "output_type": "execute_result"
    }
   ],
   "source": [
    "dc.shape[0]"
   ]
  },
  {
   "cell_type": "code",
   "execution_count": null,
   "metadata": {},
   "outputs": [],
   "source": [
    "#dc.iloc[:,0]=pd.to_datetime(dc[0])\n",
    "#dc.iloc[:,1]=pd.to_datetime(dc[1])"
   ]
  },
  {
   "cell_type": "code",
   "execution_count": null,
   "metadata": {},
   "outputs": [],
   "source": [
    "#dtm.datetime(dc[0].dt.year,dc[0].dt.month,dc[0].dt.day,dc[1].dt.hour,dc[1].dt.minute)\n",
    "#dtm.datetime(2021,11,1,12,24)"
   ]
  },
  {
   "cell_type": "code",
   "execution_count": null,
   "metadata": {},
   "outputs": [],
   "source": [
    "#dc[\"y\"]=dc[0].dt.year\n",
    "#dc[\"m\"]=dc[0].dt.month\n",
    "#dc[\"d\"]=dc[0].dt.day\n",
    "#dc[\"h\"]=dc[1].dt.hour\n",
    "#dc[\"mm\"]=dc[1].dt.minute\n",
    "#dc[\"s\"]=dc[1].dt.second"
   ]
  },
  {
   "cell_type": "code",
   "execution_count": null,
   "metadata": {},
   "outputs": [],
   "source": [
    "#dc[\"dtt\"]=dc[\"y\"].astype(str)+\"-\"+dc[\"m\"].astype(str)+\"-\"+dc[\"d\"].astype(str)+\" \"+dc[\"h\"].astype(str)+\":\"+dc[\"mm\"].astype(str)+\":\"+dc[\"s\"].astype(str)"
   ]
  },
  {
   "cell_type": "code",
   "execution_count": null,
   "metadata": {},
   "outputs": [],
   "source": [
    "#pd.to_datetime(dc.dtt)"
   ]
  },
  {
   "cell_type": "code",
   "execution_count": 7,
   "metadata": {},
   "outputs": [],
   "source": [
    "dc=dc[dc[14]==2]"
   ]
  },
  {
   "cell_type": "code",
   "execution_count": 8,
   "metadata": {},
   "outputs": [],
   "source": [
    "dc[\"dtt\"]=dc[0].str[:10]+\" \"+dc[1]"
   ]
  },
  {
   "cell_type": "code",
   "execution_count": 9,
   "metadata": {},
   "outputs": [
    {
     "data": {
      "text/plain": [
       "0          2021-04-04 00:00:00\n",
       "1          2021-04-04 00:00:00\n",
       "2          2021-04-04 00:00:00\n",
       "3          2021-04-04 00:00:00\n",
       "4          2021-04-04 00:00:00\n",
       "                  ...         \n",
       "8467043    2021-04-30 23:55:00\n",
       "8467044    2021-04-30 23:55:00\n",
       "8467045    2021-04-30 23:55:00\n",
       "8467046    2021-04-30 23:55:00\n",
       "8467047    2021-04-30 23:55:00\n",
       "Name: dtt, Length: 8189836, dtype: object"
      ]
     },
     "execution_count": 9,
     "metadata": {},
     "output_type": "execute_result"
    }
   ],
   "source": [
    "dc.dtt"
   ]
  },
  {
   "cell_type": "code",
   "execution_count": 10,
   "metadata": {},
   "outputs": [],
   "source": [
    "dc[\"idx\"]=dc.dtt+\"_\"+dc[2].astype(str)"
   ]
  },
  {
   "cell_type": "code",
   "execution_count": 11,
   "metadata": {},
   "outputs": [
    {
     "data": {
      "text/plain": [
       "0             2021-04-04 00:00:00_1\n",
       "1             2021-04-04 00:00:00_2\n",
       "2             2021-04-04 00:00:00_3\n",
       "3             2021-04-04 00:00:00_4\n",
       "4             2021-04-04 00:00:00_5\n",
       "                     ...           \n",
       "8467043    2021-04-30 23:55:00_1278\n",
       "8467044    2021-04-30 23:55:00_1279\n",
       "8467045    2021-04-30 23:55:00_1280\n",
       "8467046    2021-04-30 23:55:00_1281\n",
       "8467047    2021-04-30 23:55:00_1282\n",
       "Name: idx, Length: 8189836, dtype: object"
      ]
     },
     "execution_count": 11,
     "metadata": {},
     "output_type": "execute_result"
    }
   ],
   "source": [
    "dc.idx"
   ]
  },
  {
   "cell_type": "code",
   "execution_count": 12,
   "metadata": {},
   "outputs": [
    {
     "data": {
      "text/plain": [
       "Index([    0,     1,     2,     3,     4,     5,     6,     7,     8,     9,\n",
       "          10,    11,    12,    13,    14,    15,    16,    17,    18,    19,\n",
       "          20,    21,    22,    23,    24,    25,    26,    27,    28,    29,\n",
       "          30,    31,    32,    33, 'dtt', 'idx'],\n",
       "      dtype='object')"
      ]
     },
     "execution_count": 12,
     "metadata": {},
     "output_type": "execute_result"
    }
   ],
   "source": [
    "dc.columns"
   ]
  },
  {
   "cell_type": "code",
   "execution_count": 34,
   "metadata": {},
   "outputs": [],
   "source": [
    "dc2=dc.iloc[:,[34,2,10,11,12,13,14,15,16,17,18,19,\n",
    "              20,21,22,23,24,25,26,27,28,29,35]]"
   ]
  },
  {
   "cell_type": "code",
   "execution_count": 35,
   "metadata": {},
   "outputs": [],
   "source": [
    "dc2.columns=[\"tm\",\"JDP番号\",\"事故形態1\",\"事故リスク水準1\",\"事故発生確率1\",\"走行台キロ1\",\n",
    "             \"事故形態2\",\"事故リスク水準2\",\"事故発生確率2\",\"走行台キロ2\",\n",
    "             \"事故形態3\",\"事故リスク水準3\",\"事故発生確率3\",\"走行台キロ3\",\n",
    "             \"事故形態4\",\"事故リスク水準4\",\"事故発生確率4\",\"走行台キロ4\",\n",
    "             \"事故形態5\",\"事故リスク水準5\",\"事故発生確率5\",\"走行台キロ5\",\"idx\"]"
   ]
  },
  {
   "cell_type": "code",
   "execution_count": 36,
   "metadata": {},
   "outputs": [
    {
     "name": "stdout",
     "output_type": "stream",
     "text": [
      "0 0 0 0 0 0 0 0 0 0\n"
     ]
    }
   ],
   "source": [
    "print(dc2[dc2.事故発生確率1==-1].shape[0],\n",
    "      dc2[dc2.事故発生確率2==-1].shape[0],\n",
    "      dc2[dc2.事故発生確率3==-1].shape[0],\n",
    "      dc2[dc2.事故発生確率4==-1].shape[0],\n",
    "      dc2[dc2.事故発生確率5==-1].shape[0],\n",
    "      dc2[dc2.走行台キロ1==-1].shape[0],\n",
    "      dc2[dc2.走行台キロ2==-1].shape[0],\n",
    "      dc2[dc2.走行台キロ3==-1].shape[0],\n",
    "      dc2[dc2.走行台キロ4==-1].shape[0],\n",
    "      dc2[dc2.走行台キロ5==-1].shape[0])"
   ]
  },
  {
   "cell_type": "code",
   "execution_count": 37,
   "metadata": {},
   "outputs": [
    {
     "name": "stderr",
     "output_type": "stream",
     "text": [
      "C:\\Users\\tssl-34\\Anaconda3\\lib\\site-packages\\ipykernel_launcher.py:1: SettingWithCopyWarning: \n",
      "A value is trying to be set on a copy of a slice from a DataFrame.\n",
      "Try using .loc[row_indexer,col_indexer] = value instead\n",
      "\n",
      "See the caveats in the documentation: http://pandas.pydata.org/pandas-docs/stable/user_guide/indexing.html#returning-a-view-versus-a-copy\n",
      "  \"\"\"Entry point for launching an IPython kernel.\n",
      "C:\\Users\\tssl-34\\Anaconda3\\lib\\site-packages\\ipykernel_launcher.py:2: SettingWithCopyWarning: \n",
      "A value is trying to be set on a copy of a slice from a DataFrame.\n",
      "Try using .loc[row_indexer,col_indexer] = value instead\n",
      "\n",
      "See the caveats in the documentation: http://pandas.pydata.org/pandas-docs/stable/user_guide/indexing.html#returning-a-view-versus-a-copy\n",
      "  \n",
      "C:\\Users\\tssl-34\\Anaconda3\\lib\\site-packages\\ipykernel_launcher.py:3: SettingWithCopyWarning: \n",
      "A value is trying to be set on a copy of a slice from a DataFrame.\n",
      "Try using .loc[row_indexer,col_indexer] = value instead\n",
      "\n",
      "See the caveats in the documentation: http://pandas.pydata.org/pandas-docs/stable/user_guide/indexing.html#returning-a-view-versus-a-copy\n",
      "  This is separate from the ipykernel package so we can avoid doing imports until\n",
      "C:\\Users\\tssl-34\\Anaconda3\\lib\\site-packages\\ipykernel_launcher.py:4: SettingWithCopyWarning: \n",
      "A value is trying to be set on a copy of a slice from a DataFrame.\n",
      "Try using .loc[row_indexer,col_indexer] = value instead\n",
      "\n",
      "See the caveats in the documentation: http://pandas.pydata.org/pandas-docs/stable/user_guide/indexing.html#returning-a-view-versus-a-copy\n",
      "  after removing the cwd from sys.path.\n",
      "C:\\Users\\tssl-34\\Anaconda3\\lib\\site-packages\\ipykernel_launcher.py:5: SettingWithCopyWarning: \n",
      "A value is trying to be set on a copy of a slice from a DataFrame.\n",
      "Try using .loc[row_indexer,col_indexer] = value instead\n",
      "\n",
      "See the caveats in the documentation: http://pandas.pydata.org/pandas-docs/stable/user_guide/indexing.html#returning-a-view-versus-a-copy\n",
      "  \"\"\"\n"
     ]
    }
   ],
   "source": [
    "dc2[\"事故件数1\"]=dc2.事故発生確率1*dc2.走行台キロ1\n",
    "dc2[\"事故件数2\"]=dc2.事故発生確率2*dc2.走行台キロ1\n",
    "dc2[\"事故件数3\"]=dc2.事故発生確率3*dc2.走行台キロ1\n",
    "dc2[\"事故件数4\"]=dc2.事故発生確率4*dc2.走行台キロ1\n",
    "dc2[\"事故件数5\"]=dc2.事故発生確率5*dc2.走行台キロ1"
   ]
  },
  {
   "cell_type": "code",
   "execution_count": 66,
   "metadata": {},
   "outputs": [
    {
     "data": {
      "text/plain": [
       "118535.90111597"
      ]
     },
     "execution_count": 66,
     "metadata": {},
     "output_type": "execute_result"
    }
   ],
   "source": [
    "sum(dc2.事故件数5)/100000000"
   ]
  },
  {
   "cell_type": "code",
   "execution_count": 63,
   "metadata": {},
   "outputs": [],
   "source": [
    "tt=dc2[dc2.keito==1]"
   ]
  },
  {
   "cell_type": "code",
   "execution_count": 65,
   "metadata": {},
   "outputs": [
    {
     "data": {
      "text/plain": [
       "4909.09446166"
      ]
     },
     "execution_count": 65,
     "metadata": {},
     "output_type": "execute_result"
    }
   ],
   "source": [
    "sum(tt.事故件数5)/100000000"
   ]
  },
  {
   "cell_type": "code",
   "execution_count": null,
   "metadata": {},
   "outputs": [],
   "source": []
  },
  {
   "cell_type": "code",
   "execution_count": null,
   "metadata": {},
   "outputs": [],
   "source": []
  },
  {
   "cell_type": "code",
   "execution_count": 38,
   "metadata": {},
   "outputs": [],
   "source": [
    "keito = pd.read_csv(\"D:/ahn_pc/workfile/2021/阪神事故リスク/jdp2keito.csv\", encoding=\"shift_jis\")"
   ]
  },
  {
   "cell_type": "code",
   "execution_count": 39,
   "metadata": {},
   "outputs": [],
   "source": [
    "dc2=pd.merge(dc2,keito, on=\"JDP番号\", how=\"left\")#, sort=True"
   ]
  },
  {
   "cell_type": "code",
   "execution_count": 40,
   "metadata": {},
   "outputs": [
    {
     "data": {
      "text/html": [
       "<div>\n",
       "<style scoped>\n",
       "    .dataframe tbody tr th:only-of-type {\n",
       "        vertical-align: middle;\n",
       "    }\n",
       "\n",
       "    .dataframe tbody tr th {\n",
       "        vertical-align: top;\n",
       "    }\n",
       "\n",
       "    .dataframe thead th {\n",
       "        text-align: right;\n",
       "    }\n",
       "</style>\n",
       "<table border=\"1\" class=\"dataframe\">\n",
       "  <thead>\n",
       "    <tr style=\"text-align: right;\">\n",
       "      <th></th>\n",
       "      <th>tm</th>\n",
       "      <th>JDP番号</th>\n",
       "      <th>事故形態1</th>\n",
       "      <th>事故リスク水準1</th>\n",
       "      <th>事故発生確率1</th>\n",
       "      <th>走行台キロ1</th>\n",
       "      <th>事故形態2</th>\n",
       "      <th>事故リスク水準2</th>\n",
       "      <th>事故発生確率2</th>\n",
       "      <th>走行台キロ2</th>\n",
       "      <th>...</th>\n",
       "      <th>事故件数1</th>\n",
       "      <th>事故件数2</th>\n",
       "      <th>事故件数3</th>\n",
       "      <th>事故件数4</th>\n",
       "      <th>事故件数5</th>\n",
       "      <th>JDP名</th>\n",
       "      <th>地区名</th>\n",
       "      <th>系統名</th>\n",
       "      <th>路線番号</th>\n",
       "      <th>keito</th>\n",
       "    </tr>\n",
       "  </thead>\n",
       "  <tbody>\n",
       "  </tbody>\n",
       "</table>\n",
       "<p>0 rows × 33 columns</p>\n",
       "</div>"
      ],
      "text/plain": [
       "Empty DataFrame\n",
       "Columns: [tm, JDP番号, 事故形態1, 事故リスク水準1, 事故発生確率1, 走行台キロ1, 事故形態2, 事故リスク水準2, 事故発生確率2, 走行台キロ2, 事故形態3, 事故リスク水準3, 事故発生確率3, 走行台キロ3, 事故形態4, 事故リスク水準4, 事故発生確率4, 走行台キロ4, 事故形態5, 事故リスク水準5, 事故発生確率5, 走行台キロ5, idx, 事故件数1, 事故件数2, 事故件数3, 事故件数4, 事故件数5, JDP名, 地区名, 系統名, 路線番号, keito]\n",
       "Index: []\n",
       "\n",
       "[0 rows x 33 columns]"
      ]
     },
     "execution_count": 40,
     "metadata": {},
     "output_type": "execute_result"
    }
   ],
   "source": [
    "dc2[pd.isna(dc2.keito)]"
   ]
  },
  {
   "cell_type": "code",
   "execution_count": null,
   "metadata": {},
   "outputs": [],
   "source": []
  },
  {
   "cell_type": "code",
   "execution_count": 41,
   "metadata": {},
   "outputs": [],
   "source": [
    "acc = pd.read_csv(\"D:/ahn_pc/workfile/2021/阪神事故リスク/accident2.csv\", encoding=\"shift_jis\")"
   ]
  },
  {
   "cell_type": "code",
   "execution_count": 42,
   "metadata": {},
   "outputs": [],
   "source": [
    "acc2=acc.loc[:,[\"idx\",\"発生時間_分\",\"JDP番号\",\"系統番号\",\"事故の形態１\"]]"
   ]
  },
  {
   "cell_type": "code",
   "execution_count": 43,
   "metadata": {},
   "outputs": [
    {
     "data": {
      "text/html": [
       "<div>\n",
       "<style scoped>\n",
       "    .dataframe tbody tr th:only-of-type {\n",
       "        vertical-align: middle;\n",
       "    }\n",
       "\n",
       "    .dataframe tbody tr th {\n",
       "        vertical-align: top;\n",
       "    }\n",
       "\n",
       "    .dataframe thead th {\n",
       "        text-align: right;\n",
       "    }\n",
       "</style>\n",
       "<table border=\"1\" class=\"dataframe\">\n",
       "  <thead>\n",
       "    <tr style=\"text-align: right;\">\n",
       "      <th></th>\n",
       "      <th>idx</th>\n",
       "      <th>発生時間_分</th>\n",
       "      <th>JDP番号</th>\n",
       "      <th>系統番号</th>\n",
       "      <th>事故の形態１</th>\n",
       "    </tr>\n",
       "  </thead>\n",
       "  <tbody>\n",
       "    <tr>\n",
       "      <th>0</th>\n",
       "      <td>2021-04-04 01:30:00_940</td>\n",
       "      <td>30</td>\n",
       "      <td>940</td>\n",
       "      <td>40</td>\n",
       "      <td>施設接触</td>\n",
       "    </tr>\n",
       "    <tr>\n",
       "      <th>2</th>\n",
       "      <td>2021-04-04 10:15:00_339</td>\n",
       "      <td>15</td>\n",
       "      <td>339</td>\n",
       "      <td>19</td>\n",
       "      <td>車両接触</td>\n",
       "    </tr>\n",
       "    <tr>\n",
       "      <th>6</th>\n",
       "      <td>2021-04-04 15:40:00_405</td>\n",
       "      <td>40</td>\n",
       "      <td>405</td>\n",
       "      <td>21</td>\n",
       "      <td>追突</td>\n",
       "    </tr>\n",
       "    <tr>\n",
       "      <th>9</th>\n",
       "      <td>2021-04-04 21:45:00_26</td>\n",
       "      <td>45</td>\n",
       "      <td>26</td>\n",
       "      <td>1</td>\n",
       "      <td>その他</td>\n",
       "    </tr>\n",
       "    <tr>\n",
       "      <th>25</th>\n",
       "      <td>2021-04-06 03:35:00_578</td>\n",
       "      <td>35</td>\n",
       "      <td>578</td>\n",
       "      <td>33</td>\n",
       "      <td>施設衝突</td>\n",
       "    </tr>\n",
       "    <tr>\n",
       "      <th>27</th>\n",
       "      <td>2021-04-06 07:40:00_112</td>\n",
       "      <td>40</td>\n",
       "      <td>112</td>\n",
       "      <td>4</td>\n",
       "      <td>多重追突</td>\n",
       "    </tr>\n",
       "    <tr>\n",
       "      <th>73</th>\n",
       "      <td>2021-04-10 13:25:00_84</td>\n",
       "      <td>25</td>\n",
       "      <td>84</td>\n",
       "      <td>2</td>\n",
       "      <td>車両衝突</td>\n",
       "    </tr>\n",
       "  </tbody>\n",
       "</table>\n",
       "</div>"
      ],
      "text/plain": [
       "                        idx  発生時間_分  JDP番号  系統番号 事故の形態１\n",
       "0   2021-04-04 01:30:00_940      30    940    40   施設接触\n",
       "2   2021-04-04 10:15:00_339      15    339    19   車両接触\n",
       "6   2021-04-04 15:40:00_405      40    405    21     追突\n",
       "9    2021-04-04 21:45:00_26      45     26     1    その他\n",
       "25  2021-04-06 03:35:00_578      35    578    33   施設衝突\n",
       "27  2021-04-06 07:40:00_112      40    112     4   多重追突\n",
       "73   2021-04-10 13:25:00_84      25     84     2   車両衝突"
      ]
     },
     "execution_count": 43,
     "metadata": {},
     "output_type": "execute_result"
    }
   ],
   "source": [
    "acc2[~acc2.duplicated(subset=\"事故の形態１\")]"
   ]
  },
  {
   "cell_type": "code",
   "execution_count": 44,
   "metadata": {},
   "outputs": [],
   "source": [
    "acc2[\"acckind\"]=0"
   ]
  },
  {
   "cell_type": "code",
   "execution_count": 45,
   "metadata": {},
   "outputs": [],
   "source": [
    "acc2.loc[(acc2[\"事故の形態１\"]==\"追突\")|(acc2[\"事故の形態１\"]==\"多重追突\"),\"acckind\"]=1\n",
    "acc2.loc[(acc2[\"事故の形態１\"]==\"車両接触\")|(acc2[\"事故の形態１\"]==\"車両衝突\"),\"acckind\"]=2\n",
    "acc2.loc[(acc2[\"事故の形態１\"]==\"施設接触\")|(acc2[\"事故の形態１\"]==\"施設衝突\"),\"acckind\"]=3"
   ]
  },
  {
   "cell_type": "code",
   "execution_count": null,
   "metadata": {},
   "outputs": [],
   "source": [
    "###4月～10月事故形態別合計計算\n",
    "\n",
    "#acc2[\"sum\"]=1\n",
    "#acc2[\"tsui\"]=0\n",
    "#acc2[\"car\"]=0\n",
    "#acc2[\"sise\"]=0\n",
    "#acc2[\"sonota\"]=0\n",
    "\n",
    "#acc2.loc[acc2.acckind==1,\"tsui\"]=1\n",
    "#acc2.loc[acc2.acckind==2,\"car\"]=1\n",
    "#acc2.loc[acc2.acckind==3,\"sise\"]=1\n",
    "#acc2.loc[acc2.acckind==0,\"sonota\"]=1\n",
    "\n",
    "#accd=pd.DataFrame(acc2.groupby([\"系統番号\"])[\"sum\"].count())\n",
    "\n",
    "#accd[\"keito\"]=accd.index\n",
    "\n",
    "#accd[\"tsui\"]=acc2.groupby([\"系統番号\"])[\"tsui\"].sum()\n",
    "#accd[\"car\"]=acc2.groupby([\"系統番号\"])[\"car\"].sum()\n",
    "#accd[\"sise\"]=acc2.groupby([\"系統番号\"])[\"sise\"].sum()\n",
    "#accd[\"sonota\"]=acc2.groupby([\"系統番号\"])[\"sonota\"].sum()\n",
    "\n",
    "#accd.to_csv(\"D:/ahn_pc/workfile/2021/阪神事故リスク/acckeito_jitseki_all.csv\", index = False, encoding=\"shift_jis\")"
   ]
  },
  {
   "cell_type": "code",
   "execution_count": null,
   "metadata": {},
   "outputs": [],
   "source": []
  },
  {
   "cell_type": "code",
   "execution_count": 46,
   "metadata": {},
   "outputs": [],
   "source": [
    "dm=pd.merge(dc2,acc2, on=\"idx\", how=\"left\")#, sort=True"
   ]
  },
  {
   "cell_type": "code",
   "execution_count": 47,
   "metadata": {},
   "outputs": [
    {
     "data": {
      "text/html": [
       "<div>\n",
       "<style scoped>\n",
       "    .dataframe tbody tr th:only-of-type {\n",
       "        vertical-align: middle;\n",
       "    }\n",
       "\n",
       "    .dataframe tbody tr th {\n",
       "        vertical-align: top;\n",
       "    }\n",
       "\n",
       "    .dataframe thead th {\n",
       "        text-align: right;\n",
       "    }\n",
       "</style>\n",
       "<table border=\"1\" class=\"dataframe\">\n",
       "  <thead>\n",
       "    <tr style=\"text-align: right;\">\n",
       "      <th></th>\n",
       "      <th>tm</th>\n",
       "      <th>JDP番号_x</th>\n",
       "      <th>事故形態1</th>\n",
       "      <th>事故リスク水準1</th>\n",
       "      <th>事故発生確率1</th>\n",
       "      <th>走行台キロ1</th>\n",
       "      <th>事故形態2</th>\n",
       "      <th>事故リスク水準2</th>\n",
       "      <th>事故発生確率2</th>\n",
       "      <th>走行台キロ2</th>\n",
       "      <th>...</th>\n",
       "      <th>JDP名</th>\n",
       "      <th>地区名</th>\n",
       "      <th>系統名</th>\n",
       "      <th>路線番号</th>\n",
       "      <th>keito</th>\n",
       "      <th>発生時間_分</th>\n",
       "      <th>JDP番号_y</th>\n",
       "      <th>系統番号</th>\n",
       "      <th>事故の形態１</th>\n",
       "      <th>acckind</th>\n",
       "    </tr>\n",
       "  </thead>\n",
       "  <tbody>\n",
       "    <tr>\n",
       "      <th>198341</th>\n",
       "      <td>2021-04-04 15:40:00</td>\n",
       "      <td>405</td>\n",
       "      <td>1</td>\n",
       "      <td>3</td>\n",
       "      <td>227464</td>\n",
       "      <td>101</td>\n",
       "      <td>2</td>\n",
       "      <td>2</td>\n",
       "      <td>49118</td>\n",
       "      <td>101</td>\n",
       "      <td>...</td>\n",
       "      <td>神上　  190</td>\n",
       "      <td>兵庫</td>\n",
       "      <td>神戸線上り</td>\n",
       "      <td>18</td>\n",
       "      <td>21</td>\n",
       "      <td>40.0</td>\n",
       "      <td>405.0</td>\n",
       "      <td>21.0</td>\n",
       "      <td>追突</td>\n",
       "      <td>1.0</td>\n",
       "    </tr>\n",
       "    <tr>\n",
       "      <th>398081</th>\n",
       "      <td>2021-04-05 07:30:00</td>\n",
       "      <td>329</td>\n",
       "      <td>1</td>\n",
       "      <td>3</td>\n",
       "      <td>103561</td>\n",
       "      <td>81</td>\n",
       "      <td>2</td>\n",
       "      <td>1</td>\n",
       "      <td>18175</td>\n",
       "      <td>81</td>\n",
       "      <td>...</td>\n",
       "      <td>松上　   71</td>\n",
       "      <td>大阪</td>\n",
       "      <td>松原線上り</td>\n",
       "      <td>13</td>\n",
       "      <td>19</td>\n",
       "      <td>30.0</td>\n",
       "      <td>329.0</td>\n",
       "      <td>19.0</td>\n",
       "      <td>追突</td>\n",
       "      <td>1.0</td>\n",
       "    </tr>\n",
       "    <tr>\n",
       "      <th>399625</th>\n",
       "      <td>2021-04-05 07:35:00</td>\n",
       "      <td>838</td>\n",
       "      <td>1</td>\n",
       "      <td>1</td>\n",
       "      <td>21130</td>\n",
       "      <td>180</td>\n",
       "      <td>2</td>\n",
       "      <td>1</td>\n",
       "      <td>21509</td>\n",
       "      <td>180</td>\n",
       "      <td>...</td>\n",
       "      <td>湾下　   45</td>\n",
       "      <td>湾岸</td>\n",
       "      <td>湾線下り</td>\n",
       "      <td>14</td>\n",
       "      <td>24</td>\n",
       "      <td>38.0</td>\n",
       "      <td>838.0</td>\n",
       "      <td>24.0</td>\n",
       "      <td>追突</td>\n",
       "      <td>1.0</td>\n",
       "    </tr>\n",
       "    <tr>\n",
       "      <th>498199</th>\n",
       "      <td>2021-04-05 15:25:00</td>\n",
       "      <td>441</td>\n",
       "      <td>1</td>\n",
       "      <td>1</td>\n",
       "      <td>7587</td>\n",
       "      <td>91</td>\n",
       "      <td>2</td>\n",
       "      <td>1</td>\n",
       "      <td>6711</td>\n",
       "      <td>91</td>\n",
       "      <td>...</td>\n",
       "      <td>神上　  370</td>\n",
       "      <td>兵庫</td>\n",
       "      <td>神戸線上り</td>\n",
       "      <td>18</td>\n",
       "      <td>21</td>\n",
       "      <td>28.0</td>\n",
       "      <td>441.0</td>\n",
       "      <td>21.0</td>\n",
       "      <td>追突</td>\n",
       "      <td>1.0</td>\n",
       "    </tr>\n",
       "    <tr>\n",
       "      <th>514900</th>\n",
       "      <td>2021-04-05 16:45:00</td>\n",
       "      <td>271</td>\n",
       "      <td>1</td>\n",
       "      <td>3</td>\n",
       "      <td>171605</td>\n",
       "      <td>135</td>\n",
       "      <td>2</td>\n",
       "      <td>1</td>\n",
       "      <td>26380</td>\n",
       "      <td>135</td>\n",
       "      <td>...</td>\n",
       "      <td>東下　   35</td>\n",
       "      <td>大阪</td>\n",
       "      <td>東大阪線下り</td>\n",
       "      <td>10</td>\n",
       "      <td>14</td>\n",
       "      <td>45.0</td>\n",
       "      <td>271.0</td>\n",
       "      <td>14.0</td>\n",
       "      <td>追突</td>\n",
       "      <td>1.0</td>\n",
       "    </tr>\n",
       "    <tr>\n",
       "      <th>523060</th>\n",
       "      <td>2021-04-05 17:25:00</td>\n",
       "      <td>9</td>\n",
       "      <td>1</td>\n",
       "      <td>1</td>\n",
       "      <td>8522</td>\n",
       "      <td>98</td>\n",
       "      <td>2</td>\n",
       "      <td>1</td>\n",
       "      <td>8376</td>\n",
       "      <td>98</td>\n",
       "      <td>...</td>\n",
       "      <td>池上　   40</td>\n",
       "      <td>大阪</td>\n",
       "      <td>池田線上り</td>\n",
       "      <td>3</td>\n",
       "      <td>1</td>\n",
       "      <td>28.0</td>\n",
       "      <td>9.0</td>\n",
       "      <td>1.0</td>\n",
       "      <td>追突</td>\n",
       "      <td>1.0</td>\n",
       "    </tr>\n",
       "    <tr>\n",
       "      <th>703291</th>\n",
       "      <td>2021-04-06 07:40:00</td>\n",
       "      <td>112</td>\n",
       "      <td>1</td>\n",
       "      <td>1</td>\n",
       "      <td>23429</td>\n",
       "      <td>158</td>\n",
       "      <td>2</td>\n",
       "      <td>1</td>\n",
       "      <td>20904</td>\n",
       "      <td>158</td>\n",
       "      <td>...</td>\n",
       "      <td>守上　    6</td>\n",
       "      <td>大阪</td>\n",
       "      <td>守口線上り</td>\n",
       "      <td>5</td>\n",
       "      <td>4</td>\n",
       "      <td>40.0</td>\n",
       "      <td>112.0</td>\n",
       "      <td>4.0</td>\n",
       "      <td>多重追突</td>\n",
       "      <td>1.0</td>\n",
       "    </tr>\n",
       "    <tr>\n",
       "      <th>1121991</th>\n",
       "      <td>2021-04-07 16:50:00</td>\n",
       "      <td>101</td>\n",
       "      <td>1</td>\n",
       "      <td>3</td>\n",
       "      <td>70373</td>\n",
       "      <td>256</td>\n",
       "      <td>2</td>\n",
       "      <td>3</td>\n",
       "      <td>345700</td>\n",
       "      <td>256</td>\n",
       "      <td>...</td>\n",
       "      <td>環　　   44</td>\n",
       "      <td>大阪</td>\n",
       "      <td>環状線</td>\n",
       "      <td>4</td>\n",
       "      <td>3</td>\n",
       "      <td>50.0</td>\n",
       "      <td>101.0</td>\n",
       "      <td>3.0</td>\n",
       "      <td>追突</td>\n",
       "      <td>1.0</td>\n",
       "    </tr>\n",
       "    <tr>\n",
       "      <th>1654496</th>\n",
       "      <td>2021-04-09 10:55:00</td>\n",
       "      <td>333</td>\n",
       "      <td>1</td>\n",
       "      <td>3</td>\n",
       "      <td>70404</td>\n",
       "      <td>102</td>\n",
       "      <td>2</td>\n",
       "      <td>2</td>\n",
       "      <td>43025</td>\n",
       "      <td>102</td>\n",
       "      <td>...</td>\n",
       "      <td>松上　   90</td>\n",
       "      <td>大阪</td>\n",
       "      <td>松原線上り</td>\n",
       "      <td>13</td>\n",
       "      <td>19</td>\n",
       "      <td>55.0</td>\n",
       "      <td>333.0</td>\n",
       "      <td>19.0</td>\n",
       "      <td>追突</td>\n",
       "      <td>1.0</td>\n",
       "    </tr>\n",
       "    <tr>\n",
       "      <th>1702154</th>\n",
       "      <td>2021-04-09 14:40:00</td>\n",
       "      <td>565</td>\n",
       "      <td>1</td>\n",
       "      <td>1</td>\n",
       "      <td>20283</td>\n",
       "      <td>144</td>\n",
       "      <td>2</td>\n",
       "      <td>1</td>\n",
       "      <td>20253</td>\n",
       "      <td>144</td>\n",
       "      <td>...</td>\n",
       "      <td>港下　   16</td>\n",
       "      <td>大阪</td>\n",
       "      <td>大阪港線下り</td>\n",
       "      <td>12</td>\n",
       "      <td>18</td>\n",
       "      <td>40.0</td>\n",
       "      <td>565.0</td>\n",
       "      <td>18.0</td>\n",
       "      <td>追突</td>\n",
       "      <td>1.0</td>\n",
       "    </tr>\n",
       "    <tr>\n",
       "      <th>1712552</th>\n",
       "      <td>2021-04-09 15:30:00</td>\n",
       "      <td>418</td>\n",
       "      <td>1</td>\n",
       "      <td>2</td>\n",
       "      <td>44206</td>\n",
       "      <td>148</td>\n",
       "      <td>2</td>\n",
       "      <td>1</td>\n",
       "      <td>13856</td>\n",
       "      <td>148</td>\n",
       "      <td>...</td>\n",
       "      <td>神上　  255</td>\n",
       "      <td>兵庫</td>\n",
       "      <td>神戸線上り</td>\n",
       "      <td>18</td>\n",
       "      <td>21</td>\n",
       "      <td>34.0</td>\n",
       "      <td>418.0</td>\n",
       "      <td>21.0</td>\n",
       "      <td>追突</td>\n",
       "      <td>1.0</td>\n",
       "    </tr>\n",
       "    <tr>\n",
       "      <th>1731141</th>\n",
       "      <td>2021-04-09 17:00:00</td>\n",
       "      <td>9</td>\n",
       "      <td>1</td>\n",
       "      <td>3</td>\n",
       "      <td>146431</td>\n",
       "      <td>111</td>\n",
       "      <td>2</td>\n",
       "      <td>1</td>\n",
       "      <td>25010</td>\n",
       "      <td>111</td>\n",
       "      <td>...</td>\n",
       "      <td>池上　   40</td>\n",
       "      <td>大阪</td>\n",
       "      <td>池田線上り</td>\n",
       "      <td>3</td>\n",
       "      <td>1</td>\n",
       "      <td>0.0</td>\n",
       "      <td>9.0</td>\n",
       "      <td>1.0</td>\n",
       "      <td>追突</td>\n",
       "      <td>1.0</td>\n",
       "    </tr>\n",
       "    <tr>\n",
       "      <th>1737932</th>\n",
       "      <td>2021-04-09 17:30:00</td>\n",
       "      <td>493</td>\n",
       "      <td>1</td>\n",
       "      <td>1</td>\n",
       "      <td>14737</td>\n",
       "      <td>142</td>\n",
       "      <td>2</td>\n",
       "      <td>1</td>\n",
       "      <td>14250</td>\n",
       "      <td>142</td>\n",
       "      <td>...</td>\n",
       "      <td>神下　  164</td>\n",
       "      <td>兵庫</td>\n",
       "      <td>神戸線下り</td>\n",
       "      <td>18</td>\n",
       "      <td>22</td>\n",
       "      <td>32.0</td>\n",
       "      <td>493.0</td>\n",
       "      <td>22.0</td>\n",
       "      <td>多重追突</td>\n",
       "      <td>1.0</td>\n",
       "    </tr>\n",
       "    <tr>\n",
       "      <th>1930786</th>\n",
       "      <td>2021-04-10 08:45:00</td>\n",
       "      <td>356</td>\n",
       "      <td>1</td>\n",
       "      <td>1</td>\n",
       "      <td>4080</td>\n",
       "      <td>52</td>\n",
       "      <td>2</td>\n",
       "      <td>1</td>\n",
       "      <td>3440</td>\n",
       "      <td>52</td>\n",
       "      <td>...</td>\n",
       "      <td>松下　   50</td>\n",
       "      <td>大阪</td>\n",
       "      <td>松原線下り</td>\n",
       "      <td>13</td>\n",
       "      <td>20</td>\n",
       "      <td>47.0</td>\n",
       "      <td>356.0</td>\n",
       "      <td>20.0</td>\n",
       "      <td>追突</td>\n",
       "      <td>1.0</td>\n",
       "    </tr>\n",
       "    <tr>\n",
       "      <th>1962369</th>\n",
       "      <td>2021-04-10 11:15:00</td>\n",
       "      <td>280</td>\n",
       "      <td>1</td>\n",
       "      <td>1</td>\n",
       "      <td>10145</td>\n",
       "      <td>99</td>\n",
       "      <td>2</td>\n",
       "      <td>1</td>\n",
       "      <td>11249</td>\n",
       "      <td>99</td>\n",
       "      <td>...</td>\n",
       "      <td>丼東　   10</td>\n",
       "      <td>大阪</td>\n",
       "      <td>丼池線東行き</td>\n",
       "      <td>11</td>\n",
       "      <td>15</td>\n",
       "      <td>15.0</td>\n",
       "      <td>280.0</td>\n",
       "      <td>15.0</td>\n",
       "      <td>追突</td>\n",
       "      <td>1.0</td>\n",
       "    </tr>\n",
       "    <tr>\n",
       "      <th>2019402</th>\n",
       "      <td>2021-04-10 15:45:00</td>\n",
       "      <td>408</td>\n",
       "      <td>1</td>\n",
       "      <td>1</td>\n",
       "      <td>10713</td>\n",
       "      <td>128</td>\n",
       "      <td>2</td>\n",
       "      <td>1</td>\n",
       "      <td>9477</td>\n",
       "      <td>128</td>\n",
       "      <td>...</td>\n",
       "      <td>神上　  204</td>\n",
       "      <td>兵庫</td>\n",
       "      <td>神戸線上り</td>\n",
       "      <td>18</td>\n",
       "      <td>21</td>\n",
       "      <td>45.0</td>\n",
       "      <td>408.0</td>\n",
       "      <td>21.0</td>\n",
       "      <td>追突</td>\n",
       "      <td>1.0</td>\n",
       "    </tr>\n",
       "    <tr>\n",
       "      <th>2020458</th>\n",
       "      <td>2021-04-10 15:50:00</td>\n",
       "      <td>410</td>\n",
       "      <td>1</td>\n",
       "      <td>3</td>\n",
       "      <td>165687</td>\n",
       "      <td>83</td>\n",
       "      <td>2</td>\n",
       "      <td>2</td>\n",
       "      <td>40104</td>\n",
       "      <td>83</td>\n",
       "      <td>...</td>\n",
       "      <td>神上　  215</td>\n",
       "      <td>兵庫</td>\n",
       "      <td>神戸線上り</td>\n",
       "      <td>18</td>\n",
       "      <td>21</td>\n",
       "      <td>54.0</td>\n",
       "      <td>410.0</td>\n",
       "      <td>21.0</td>\n",
       "      <td>追突</td>\n",
       "      <td>1.0</td>\n",
       "    </tr>\n",
       "    <tr>\n",
       "      <th>2535030</th>\n",
       "      <td>2021-04-12 08:30:00</td>\n",
       "      <td>487</td>\n",
       "      <td>1</td>\n",
       "      <td>3</td>\n",
       "      <td>115039</td>\n",
       "      <td>90</td>\n",
       "      <td>2</td>\n",
       "      <td>1</td>\n",
       "      <td>17684</td>\n",
       "      <td>90</td>\n",
       "      <td>...</td>\n",
       "      <td>神下　  195</td>\n",
       "      <td>兵庫</td>\n",
       "      <td>神戸線下り</td>\n",
       "      <td>18</td>\n",
       "      <td>22</td>\n",
       "      <td>33.0</td>\n",
       "      <td>487.0</td>\n",
       "      <td>22.0</td>\n",
       "      <td>多重追突</td>\n",
       "      <td>1.0</td>\n",
       "    </tr>\n",
       "    <tr>\n",
       "      <th>2622320</th>\n",
       "      <td>2021-04-12 15:25:00</td>\n",
       "      <td>411</td>\n",
       "      <td>1</td>\n",
       "      <td>1</td>\n",
       "      <td>23417</td>\n",
       "      <td>98</td>\n",
       "      <td>2</td>\n",
       "      <td>1</td>\n",
       "      <td>7340</td>\n",
       "      <td>98</td>\n",
       "      <td>...</td>\n",
       "      <td>神上　  220</td>\n",
       "      <td>兵庫</td>\n",
       "      <td>神戸線上り</td>\n",
       "      <td>18</td>\n",
       "      <td>21</td>\n",
       "      <td>26.0</td>\n",
       "      <td>411.0</td>\n",
       "      <td>21.0</td>\n",
       "      <td>追突</td>\n",
       "      <td>1.0</td>\n",
       "    </tr>\n",
       "    <tr>\n",
       "      <th>2645544</th>\n",
       "      <td>2021-04-12 17:15:00</td>\n",
       "      <td>471</td>\n",
       "      <td>1</td>\n",
       "      <td>1</td>\n",
       "      <td>6483</td>\n",
       "      <td>88</td>\n",
       "      <td>2</td>\n",
       "      <td>1</td>\n",
       "      <td>6221</td>\n",
       "      <td>88</td>\n",
       "      <td>...</td>\n",
       "      <td>神下　  276</td>\n",
       "      <td>兵庫</td>\n",
       "      <td>神戸線下り</td>\n",
       "      <td>18</td>\n",
       "      <td>22</td>\n",
       "      <td>15.0</td>\n",
       "      <td>471.0</td>\n",
       "      <td>22.0</td>\n",
       "      <td>多重追突</td>\n",
       "      <td>1.0</td>\n",
       "    </tr>\n",
       "    <tr>\n",
       "      <th>2794475</th>\n",
       "      <td>2021-04-13 05:00:00</td>\n",
       "      <td>733</td>\n",
       "      <td>1</td>\n",
       "      <td>1</td>\n",
       "      <td>387</td>\n",
       "      <td>7</td>\n",
       "      <td>2</td>\n",
       "      <td>1</td>\n",
       "      <td>605</td>\n",
       "      <td>7</td>\n",
       "      <td>...</td>\n",
       "      <td>湾上　  218</td>\n",
       "      <td>湾岸</td>\n",
       "      <td>湾線上り</td>\n",
       "      <td>14</td>\n",
       "      <td>23</td>\n",
       "      <td>4.0</td>\n",
       "      <td>733.0</td>\n",
       "      <td>23.0</td>\n",
       "      <td>追突</td>\n",
       "      <td>1.0</td>\n",
       "    </tr>\n",
       "    <tr>\n",
       "      <th>2936307</th>\n",
       "      <td>2021-04-13 16:15:00</td>\n",
       "      <td>262</td>\n",
       "      <td>1</td>\n",
       "      <td>1</td>\n",
       "      <td>4799</td>\n",
       "      <td>42</td>\n",
       "      <td>2</td>\n",
       "      <td>1</td>\n",
       "      <td>6620</td>\n",
       "      <td>42</td>\n",
       "      <td>...</td>\n",
       "      <td>東下　   79</td>\n",
       "      <td>大阪</td>\n",
       "      <td>東大阪線下り</td>\n",
       "      <td>10</td>\n",
       "      <td>14</td>\n",
       "      <td>15.0</td>\n",
       "      <td>262.0</td>\n",
       "      <td>14.0</td>\n",
       "      <td>追突</td>\n",
       "      <td>1.0</td>\n",
       "    </tr>\n",
       "    <tr>\n",
       "      <th>3129791</th>\n",
       "      <td>2021-04-14 07:35:00</td>\n",
       "      <td>105</td>\n",
       "      <td>1</td>\n",
       "      <td>2</td>\n",
       "      <td>42840</td>\n",
       "      <td>111</td>\n",
       "      <td>2</td>\n",
       "      <td>2</td>\n",
       "      <td>43348</td>\n",
       "      <td>111</td>\n",
       "      <td>...</td>\n",
       "      <td>環　　   23</td>\n",
       "      <td>大阪</td>\n",
       "      <td>環状線</td>\n",
       "      <td>4</td>\n",
       "      <td>3</td>\n",
       "      <td>39.0</td>\n",
       "      <td>105.0</td>\n",
       "      <td>3.0</td>\n",
       "      <td>多重追突</td>\n",
       "      <td>1.0</td>\n",
       "    </tr>\n",
       "    <tr>\n",
       "      <th>3516604</th>\n",
       "      <td>2021-04-15 14:10:00</td>\n",
       "      <td>103</td>\n",
       "      <td>1</td>\n",
       "      <td>3</td>\n",
       "      <td>73191</td>\n",
       "      <td>273</td>\n",
       "      <td>2</td>\n",
       "      <td>3</td>\n",
       "      <td>920761</td>\n",
       "      <td>273</td>\n",
       "      <td>...</td>\n",
       "      <td>環　　   33</td>\n",
       "      <td>大阪</td>\n",
       "      <td>環状線</td>\n",
       "      <td>4</td>\n",
       "      <td>3</td>\n",
       "      <td>10.0</td>\n",
       "      <td>103.0</td>\n",
       "      <td>3.0</td>\n",
       "      <td>追突</td>\n",
       "      <td>1.0</td>\n",
       "    </tr>\n",
       "    <tr>\n",
       "      <th>3551592</th>\n",
       "      <td>2021-04-15 16:55:00</td>\n",
       "      <td>333</td>\n",
       "      <td>1</td>\n",
       "      <td>3</td>\n",
       "      <td>860203</td>\n",
       "      <td>81</td>\n",
       "      <td>2</td>\n",
       "      <td>3</td>\n",
       "      <td>91350</td>\n",
       "      <td>81</td>\n",
       "      <td>...</td>\n",
       "      <td>松上　   90</td>\n",
       "      <td>大阪</td>\n",
       "      <td>松原線上り</td>\n",
       "      <td>13</td>\n",
       "      <td>19</td>\n",
       "      <td>55.0</td>\n",
       "      <td>333.0</td>\n",
       "      <td>19.0</td>\n",
       "      <td>追突</td>\n",
       "      <td>1.0</td>\n",
       "    </tr>\n",
       "    <tr>\n",
       "      <th>3558024</th>\n",
       "      <td>2021-04-15 17:25:00</td>\n",
       "      <td>441</td>\n",
       "      <td>1</td>\n",
       "      <td>3</td>\n",
       "      <td>183596</td>\n",
       "      <td>92</td>\n",
       "      <td>2</td>\n",
       "      <td>2</td>\n",
       "      <td>45668</td>\n",
       "      <td>92</td>\n",
       "      <td>...</td>\n",
       "      <td>神上　  370</td>\n",
       "      <td>兵庫</td>\n",
       "      <td>神戸線上り</td>\n",
       "      <td>18</td>\n",
       "      <td>21</td>\n",
       "      <td>25.0</td>\n",
       "      <td>441.0</td>\n",
       "      <td>21.0</td>\n",
       "      <td>多重追突</td>\n",
       "      <td>1.0</td>\n",
       "    </tr>\n",
       "    <tr>\n",
       "      <th>3831052</th>\n",
       "      <td>2021-04-16 15:00:00</td>\n",
       "      <td>439</td>\n",
       "      <td>1</td>\n",
       "      <td>1</td>\n",
       "      <td>29460</td>\n",
       "      <td>31</td>\n",
       "      <td>2</td>\n",
       "      <td>1</td>\n",
       "      <td>6352</td>\n",
       "      <td>31</td>\n",
       "      <td>...</td>\n",
       "      <td>神上　  361</td>\n",
       "      <td>兵庫</td>\n",
       "      <td>神戸線上り</td>\n",
       "      <td>18</td>\n",
       "      <td>21</td>\n",
       "      <td>0.0</td>\n",
       "      <td>439.0</td>\n",
       "      <td>21.0</td>\n",
       "      <td>追突</td>\n",
       "      <td>1.0</td>\n",
       "    </tr>\n",
       "    <tr>\n",
       "      <th>4036137</th>\n",
       "      <td>2021-04-17 07:15:00</td>\n",
       "      <td>84</td>\n",
       "      <td>1</td>\n",
       "      <td>1</td>\n",
       "      <td>15195</td>\n",
       "      <td>90</td>\n",
       "      <td>2</td>\n",
       "      <td>1</td>\n",
       "      <td>18997</td>\n",
       "      <td>90</td>\n",
       "      <td>...</td>\n",
       "      <td>池下　   11</td>\n",
       "      <td>大阪</td>\n",
       "      <td>池田線下り</td>\n",
       "      <td>3</td>\n",
       "      <td>2</td>\n",
       "      <td>15.0</td>\n",
       "      <td>84.0</td>\n",
       "      <td>2.0</td>\n",
       "      <td>追突</td>\n",
       "      <td>1.0</td>\n",
       "    </tr>\n",
       "    <tr>\n",
       "      <th>4086732</th>\n",
       "      <td>2021-04-17 11:15:00</td>\n",
       "      <td>111</td>\n",
       "      <td>1</td>\n",
       "      <td>1</td>\n",
       "      <td>8269</td>\n",
       "      <td>64</td>\n",
       "      <td>2</td>\n",
       "      <td>1</td>\n",
       "      <td>9916</td>\n",
       "      <td>64</td>\n",
       "      <td>...</td>\n",
       "      <td>守上　    0</td>\n",
       "      <td>大阪</td>\n",
       "      <td>守口線上り</td>\n",
       "      <td>5</td>\n",
       "      <td>4</td>\n",
       "      <td>17.0</td>\n",
       "      <td>111.0</td>\n",
       "      <td>4.0</td>\n",
       "      <td>追突</td>\n",
       "      <td>1.0</td>\n",
       "    </tr>\n",
       "    <tr>\n",
       "      <th>4096384</th>\n",
       "      <td>2021-04-17 12:00:00</td>\n",
       "      <td>272</td>\n",
       "      <td>1</td>\n",
       "      <td>1</td>\n",
       "      <td>7420</td>\n",
       "      <td>89</td>\n",
       "      <td>2</td>\n",
       "      <td>1</td>\n",
       "      <td>7701</td>\n",
       "      <td>89</td>\n",
       "      <td>...</td>\n",
       "      <td>東下　   29</td>\n",
       "      <td>大阪</td>\n",
       "      <td>東大阪線下り</td>\n",
       "      <td>10</td>\n",
       "      <td>14</td>\n",
       "      <td>1.0</td>\n",
       "      <td>272.0</td>\n",
       "      <td>14.0</td>\n",
       "      <td>追突</td>\n",
       "      <td>1.0</td>\n",
       "    </tr>\n",
       "    <tr>\n",
       "      <th>4748225</th>\n",
       "      <td>2021-04-19 15:35:00</td>\n",
       "      <td>448</td>\n",
       "      <td>1</td>\n",
       "      <td>3</td>\n",
       "      <td>111846</td>\n",
       "      <td>58</td>\n",
       "      <td>2</td>\n",
       "      <td>1</td>\n",
       "      <td>15813</td>\n",
       "      <td>58</td>\n",
       "      <td>...</td>\n",
       "      <td>神下　  392</td>\n",
       "      <td>兵庫</td>\n",
       "      <td>神戸線下り</td>\n",
       "      <td>18</td>\n",
       "      <td>22</td>\n",
       "      <td>35.0</td>\n",
       "      <td>448.0</td>\n",
       "      <td>22.0</td>\n",
       "      <td>追突</td>\n",
       "      <td>1.0</td>\n",
       "    </tr>\n",
       "    <tr>\n",
       "      <th>4762822</th>\n",
       "      <td>2021-04-19 16:45:00</td>\n",
       "      <td>272</td>\n",
       "      <td>1</td>\n",
       "      <td>3</td>\n",
       "      <td>275891</td>\n",
       "      <td>139</td>\n",
       "      <td>2</td>\n",
       "      <td>3</td>\n",
       "      <td>68625</td>\n",
       "      <td>139</td>\n",
       "      <td>...</td>\n",
       "      <td>東下　   29</td>\n",
       "      <td>大阪</td>\n",
       "      <td>東大阪線下り</td>\n",
       "      <td>10</td>\n",
       "      <td>14</td>\n",
       "      <td>48.0</td>\n",
       "      <td>272.0</td>\n",
       "      <td>14.0</td>\n",
       "      <td>追突</td>\n",
       "      <td>1.0</td>\n",
       "    </tr>\n",
       "    <tr>\n",
       "      <th>5046686</th>\n",
       "      <td>2021-04-20 15:10:00</td>\n",
       "      <td>806</td>\n",
       "      <td>1</td>\n",
       "      <td>1</td>\n",
       "      <td>11049</td>\n",
       "      <td>84</td>\n",
       "      <td>2</td>\n",
       "      <td>1</td>\n",
       "      <td>10223</td>\n",
       "      <td>84</td>\n",
       "      <td>...</td>\n",
       "      <td>湾下　  202</td>\n",
       "      <td>湾岸</td>\n",
       "      <td>湾線下り</td>\n",
       "      <td>14</td>\n",
       "      <td>24</td>\n",
       "      <td>10.0</td>\n",
       "      <td>806.0</td>\n",
       "      <td>24.0</td>\n",
       "      <td>追突</td>\n",
       "      <td>1.0</td>\n",
       "    </tr>\n",
       "    <tr>\n",
       "      <th>5243759</th>\n",
       "      <td>2021-04-21 06:45:00</td>\n",
       "      <td>718</td>\n",
       "      <td>1</td>\n",
       "      <td>1</td>\n",
       "      <td>17895</td>\n",
       "      <td>139</td>\n",
       "      <td>2</td>\n",
       "      <td>1</td>\n",
       "      <td>17882</td>\n",
       "      <td>139</td>\n",
       "      <td>...</td>\n",
       "      <td>湾上　  144</td>\n",
       "      <td>湾岸</td>\n",
       "      <td>湾線上り</td>\n",
       "      <td>14</td>\n",
       "      <td>23</td>\n",
       "      <td>48.0</td>\n",
       "      <td>718.0</td>\n",
       "      <td>23.0</td>\n",
       "      <td>多重追突</td>\n",
       "      <td>1.0</td>\n",
       "    </tr>\n",
       "    <tr>\n",
       "      <th>5567998</th>\n",
       "      <td>2021-04-22 08:25:00</td>\n",
       "      <td>467</td>\n",
       "      <td>1</td>\n",
       "      <td>1</td>\n",
       "      <td>10693</td>\n",
       "      <td>92</td>\n",
       "      <td>2</td>\n",
       "      <td>1</td>\n",
       "      <td>8390</td>\n",
       "      <td>92</td>\n",
       "      <td>...</td>\n",
       "      <td>神下　  294</td>\n",
       "      <td>兵庫</td>\n",
       "      <td>神戸線下り</td>\n",
       "      <td>18</td>\n",
       "      <td>22</td>\n",
       "      <td>25.0</td>\n",
       "      <td>467.0</td>\n",
       "      <td>22.0</td>\n",
       "      <td>追突</td>\n",
       "      <td>1.0</td>\n",
       "    </tr>\n",
       "    <tr>\n",
       "      <th>5656500</th>\n",
       "      <td>2021-04-22 15:25:00</td>\n",
       "      <td>411</td>\n",
       "      <td>1</td>\n",
       "      <td>1</td>\n",
       "      <td>25424</td>\n",
       "      <td>106</td>\n",
       "      <td>2</td>\n",
       "      <td>1</td>\n",
       "      <td>7969</td>\n",
       "      <td>106</td>\n",
       "      <td>...</td>\n",
       "      <td>神上　  220</td>\n",
       "      <td>兵庫</td>\n",
       "      <td>神戸線上り</td>\n",
       "      <td>18</td>\n",
       "      <td>21</td>\n",
       "      <td>25.0</td>\n",
       "      <td>411.0</td>\n",
       "      <td>21.0</td>\n",
       "      <td>追突</td>\n",
       "      <td>1.0</td>\n",
       "    </tr>\n",
       "    <tr>\n",
       "      <th>5677453</th>\n",
       "      <td>2021-04-22 17:05:00</td>\n",
       "      <td>269</td>\n",
       "      <td>1</td>\n",
       "      <td>1</td>\n",
       "      <td>9171</td>\n",
       "      <td>110</td>\n",
       "      <td>2</td>\n",
       "      <td>1</td>\n",
       "      <td>8112</td>\n",
       "      <td>110</td>\n",
       "      <td>...</td>\n",
       "      <td>東下　   44</td>\n",
       "      <td>大阪</td>\n",
       "      <td>東大阪線下り</td>\n",
       "      <td>10</td>\n",
       "      <td>14</td>\n",
       "      <td>7.0</td>\n",
       "      <td>269.0</td>\n",
       "      <td>14.0</td>\n",
       "      <td>追突</td>\n",
       "      <td>1.0</td>\n",
       "    </tr>\n",
       "    <tr>\n",
       "      <th>5897638</th>\n",
       "      <td>2021-04-23 10:35:00</td>\n",
       "      <td>472</td>\n",
       "      <td>1</td>\n",
       "      <td>3</td>\n",
       "      <td>235700</td>\n",
       "      <td>127</td>\n",
       "      <td>2</td>\n",
       "      <td>2</td>\n",
       "      <td>35708</td>\n",
       "      <td>127</td>\n",
       "      <td>...</td>\n",
       "      <td>神下　  270</td>\n",
       "      <td>兵庫</td>\n",
       "      <td>神戸線下り</td>\n",
       "      <td>18</td>\n",
       "      <td>22</td>\n",
       "      <td>38.0</td>\n",
       "      <td>472.0</td>\n",
       "      <td>22.0</td>\n",
       "      <td>追突</td>\n",
       "      <td>1.0</td>\n",
       "    </tr>\n",
       "    <tr>\n",
       "      <th>5961721</th>\n",
       "      <td>2021-04-23 15:40:00</td>\n",
       "      <td>422</td>\n",
       "      <td>1</td>\n",
       "      <td>2</td>\n",
       "      <td>37640</td>\n",
       "      <td>125</td>\n",
       "      <td>2</td>\n",
       "      <td>1</td>\n",
       "      <td>11480</td>\n",
       "      <td>125</td>\n",
       "      <td>...</td>\n",
       "      <td>神上　  276</td>\n",
       "      <td>兵庫</td>\n",
       "      <td>神戸線上り</td>\n",
       "      <td>18</td>\n",
       "      <td>21</td>\n",
       "      <td>40.0</td>\n",
       "      <td>422.0</td>\n",
       "      <td>21.0</td>\n",
       "      <td>追突</td>\n",
       "      <td>1.0</td>\n",
       "    </tr>\n",
       "    <tr>\n",
       "      <th>6227903</th>\n",
       "      <td>2021-04-24 12:45:00</td>\n",
       "      <td>119</td>\n",
       "      <td>1</td>\n",
       "      <td>1</td>\n",
       "      <td>1994</td>\n",
       "      <td>35</td>\n",
       "      <td>2</td>\n",
       "      <td>1</td>\n",
       "      <td>1958</td>\n",
       "      <td>35</td>\n",
       "      <td>...</td>\n",
       "      <td>守上　   40</td>\n",
       "      <td>大阪</td>\n",
       "      <td>守口線上り</td>\n",
       "      <td>5</td>\n",
       "      <td>4</td>\n",
       "      <td>47.0</td>\n",
       "      <td>119.0</td>\n",
       "      <td>4.0</td>\n",
       "      <td>追突</td>\n",
       "      <td>1.0</td>\n",
       "    </tr>\n",
       "    <tr>\n",
       "      <th>6285737</th>\n",
       "      <td>2021-04-24 17:20:00</td>\n",
       "      <td>9</td>\n",
       "      <td>1</td>\n",
       "      <td>1</td>\n",
       "      <td>9950</td>\n",
       "      <td>115</td>\n",
       "      <td>2</td>\n",
       "      <td>1</td>\n",
       "      <td>9780</td>\n",
       "      <td>115</td>\n",
       "      <td>...</td>\n",
       "      <td>池上　   40</td>\n",
       "      <td>大阪</td>\n",
       "      <td>池田線上り</td>\n",
       "      <td>3</td>\n",
       "      <td>1</td>\n",
       "      <td>23.0</td>\n",
       "      <td>9.0</td>\n",
       "      <td>1.0</td>\n",
       "      <td>追突</td>\n",
       "      <td>1.0</td>\n",
       "    </tr>\n",
       "    <tr>\n",
       "      <th>6289398</th>\n",
       "      <td>2021-04-24 17:35:00</td>\n",
       "      <td>533</td>\n",
       "      <td>1</td>\n",
       "      <td>1</td>\n",
       "      <td>7670</td>\n",
       "      <td>92</td>\n",
       "      <td>2</td>\n",
       "      <td>1</td>\n",
       "      <td>6785</td>\n",
       "      <td>92</td>\n",
       "      <td>...</td>\n",
       "      <td>港上　   30</td>\n",
       "      <td>大阪</td>\n",
       "      <td>大阪港線上り</td>\n",
       "      <td>12</td>\n",
       "      <td>17</td>\n",
       "      <td>39.0</td>\n",
       "      <td>533.0</td>\n",
       "      <td>17.0</td>\n",
       "      <td>追突</td>\n",
       "      <td>1.0</td>\n",
       "    </tr>\n",
       "    <tr>\n",
       "      <th>6489531</th>\n",
       "      <td>2021-04-25 09:25:00</td>\n",
       "      <td>419</td>\n",
       "      <td>1</td>\n",
       "      <td>1</td>\n",
       "      <td>4446</td>\n",
       "      <td>47</td>\n",
       "      <td>2</td>\n",
       "      <td>1</td>\n",
       "      <td>2910</td>\n",
       "      <td>47</td>\n",
       "      <td>...</td>\n",
       "      <td>神上　  260</td>\n",
       "      <td>兵庫</td>\n",
       "      <td>神戸線上り</td>\n",
       "      <td>18</td>\n",
       "      <td>21</td>\n",
       "      <td>25.0</td>\n",
       "      <td>419.0</td>\n",
       "      <td>21.0</td>\n",
       "      <td>追突</td>\n",
       "      <td>1.0</td>\n",
       "    </tr>\n",
       "    <tr>\n",
       "      <th>6595721</th>\n",
       "      <td>2021-04-25 17:50:00</td>\n",
       "      <td>164</td>\n",
       "      <td>1</td>\n",
       "      <td>1</td>\n",
       "      <td>9850</td>\n",
       "      <td>45</td>\n",
       "      <td>2</td>\n",
       "      <td>1</td>\n",
       "      <td>7905</td>\n",
       "      <td>45</td>\n",
       "      <td>...</td>\n",
       "      <td>堺上　    2</td>\n",
       "      <td>大阪</td>\n",
       "      <td>堺線上り</td>\n",
       "      <td>8</td>\n",
       "      <td>9</td>\n",
       "      <td>50.0</td>\n",
       "      <td>164.0</td>\n",
       "      <td>9.0</td>\n",
       "      <td>追突</td>\n",
       "      <td>1.0</td>\n",
       "    </tr>\n",
       "    <tr>\n",
       "      <th>6764694</th>\n",
       "      <td>2021-04-26 07:10:00</td>\n",
       "      <td>476</td>\n",
       "      <td>1</td>\n",
       "      <td>2</td>\n",
       "      <td>40053</td>\n",
       "      <td>146</td>\n",
       "      <td>2</td>\n",
       "      <td>1</td>\n",
       "      <td>10768</td>\n",
       "      <td>146</td>\n",
       "      <td>...</td>\n",
       "      <td>神下　  251</td>\n",
       "      <td>兵庫</td>\n",
       "      <td>神戸線下り</td>\n",
       "      <td>18</td>\n",
       "      <td>22</td>\n",
       "      <td>10.0</td>\n",
       "      <td>476.0</td>\n",
       "      <td>22.0</td>\n",
       "      <td>多重追突</td>\n",
       "      <td>1.0</td>\n",
       "    </tr>\n",
       "    <tr>\n",
       "      <th>6773966</th>\n",
       "      <td>2021-04-26 07:55:00</td>\n",
       "      <td>240</td>\n",
       "      <td>1</td>\n",
       "      <td>1</td>\n",
       "      <td>5919</td>\n",
       "      <td>71</td>\n",
       "      <td>2</td>\n",
       "      <td>1</td>\n",
       "      <td>5236</td>\n",
       "      <td>71</td>\n",
       "      <td>...</td>\n",
       "      <td>東上　   35</td>\n",
       "      <td>大阪</td>\n",
       "      <td>東大阪線上り</td>\n",
       "      <td>10</td>\n",
       "      <td>13</td>\n",
       "      <td>59.0</td>\n",
       "      <td>240.0</td>\n",
       "      <td>13.0</td>\n",
       "      <td>追突</td>\n",
       "      <td>1.0</td>\n",
       "    </tr>\n",
       "    <tr>\n",
       "      <th>6857374</th>\n",
       "      <td>2021-04-26 14:30:00</td>\n",
       "      <td>424</td>\n",
       "      <td>1</td>\n",
       "      <td>3</td>\n",
       "      <td>127750</td>\n",
       "      <td>100</td>\n",
       "      <td>2</td>\n",
       "      <td>1</td>\n",
       "      <td>19638</td>\n",
       "      <td>100</td>\n",
       "      <td>...</td>\n",
       "      <td>神上　  284</td>\n",
       "      <td>兵庫</td>\n",
       "      <td>神戸線上り</td>\n",
       "      <td>18</td>\n",
       "      <td>21</td>\n",
       "      <td>30.0</td>\n",
       "      <td>424.0</td>\n",
       "      <td>21.0</td>\n",
       "      <td>多重追突</td>\n",
       "      <td>1.0</td>\n",
       "    </tr>\n",
       "    <tr>\n",
       "      <th>6891762</th>\n",
       "      <td>2021-04-26 17:15:00</td>\n",
       "      <td>10</td>\n",
       "      <td>1</td>\n",
       "      <td>1</td>\n",
       "      <td>12922</td>\n",
       "      <td>155</td>\n",
       "      <td>2</td>\n",
       "      <td>1</td>\n",
       "      <td>11431</td>\n",
       "      <td>155</td>\n",
       "      <td>...</td>\n",
       "      <td>池上　   45</td>\n",
       "      <td>大阪</td>\n",
       "      <td>池田線上り</td>\n",
       "      <td>3</td>\n",
       "      <td>1</td>\n",
       "      <td>19.0</td>\n",
       "      <td>10.0</td>\n",
       "      <td>1.0</td>\n",
       "      <td>追突</td>\n",
       "      <td>1.0</td>\n",
       "    </tr>\n",
       "    <tr>\n",
       "      <th>7058305</th>\n",
       "      <td>2021-04-27 06:25:00</td>\n",
       "      <td>245</td>\n",
       "      <td>1</td>\n",
       "      <td>1</td>\n",
       "      <td>8308</td>\n",
       "      <td>132</td>\n",
       "      <td>2</td>\n",
       "      <td>1</td>\n",
       "      <td>11069</td>\n",
       "      <td>132</td>\n",
       "      <td>...</td>\n",
       "      <td>東上　   60</td>\n",
       "      <td>大阪</td>\n",
       "      <td>東大阪線上り</td>\n",
       "      <td>10</td>\n",
       "      <td>13</td>\n",
       "      <td>25.0</td>\n",
       "      <td>245.0</td>\n",
       "      <td>13.0</td>\n",
       "      <td>多重追突</td>\n",
       "      <td>1.0</td>\n",
       "    </tr>\n",
       "    <tr>\n",
       "      <th>7068223</th>\n",
       "      <td>2021-04-27 07:10:00</td>\n",
       "      <td>707</td>\n",
       "      <td>1</td>\n",
       "      <td>3</td>\n",
       "      <td>96170</td>\n",
       "      <td>86</td>\n",
       "      <td>2</td>\n",
       "      <td>1</td>\n",
       "      <td>16038</td>\n",
       "      <td>86</td>\n",
       "      <td>...</td>\n",
       "      <td>湾上　   83</td>\n",
       "      <td>湾岸</td>\n",
       "      <td>湾線上り</td>\n",
       "      <td>14</td>\n",
       "      <td>23</td>\n",
       "      <td>10.0</td>\n",
       "      <td>707.0</td>\n",
       "      <td>23.0</td>\n",
       "      <td>追突</td>\n",
       "      <td>1.0</td>\n",
       "    </tr>\n",
       "    <tr>\n",
       "      <th>7088872</th>\n",
       "      <td>2021-04-27 08:50:00</td>\n",
       "      <td>257</td>\n",
       "      <td>1</td>\n",
       "      <td>3</td>\n",
       "      <td>73438</td>\n",
       "      <td>37</td>\n",
       "      <td>2</td>\n",
       "      <td>1</td>\n",
       "      <td>18267</td>\n",
       "      <td>37</td>\n",
       "      <td>...</td>\n",
       "      <td>東下　  106</td>\n",
       "      <td>大阪</td>\n",
       "      <td>東大阪線下り</td>\n",
       "      <td>10</td>\n",
       "      <td>14</td>\n",
       "      <td>50.0</td>\n",
       "      <td>257.0</td>\n",
       "      <td>14.0</td>\n",
       "      <td>追突</td>\n",
       "      <td>1.0</td>\n",
       "    </tr>\n",
       "    <tr>\n",
       "      <th>7159459</th>\n",
       "      <td>2021-04-27 14:25:00</td>\n",
       "      <td>288</td>\n",
       "      <td>1</td>\n",
       "      <td>1</td>\n",
       "      <td>2787</td>\n",
       "      <td>25</td>\n",
       "      <td>2</td>\n",
       "      <td>1</td>\n",
       "      <td>2385</td>\n",
       "      <td>25</td>\n",
       "      <td>...</td>\n",
       "      <td>東下　  116</td>\n",
       "      <td>大阪</td>\n",
       "      <td>東大阪線下り</td>\n",
       "      <td>10</td>\n",
       "      <td>14</td>\n",
       "      <td>25.0</td>\n",
       "      <td>288.0</td>\n",
       "      <td>14.0</td>\n",
       "      <td>追突</td>\n",
       "      <td>1.0</td>\n",
       "    </tr>\n",
       "    <tr>\n",
       "      <th>7174309</th>\n",
       "      <td>2021-04-27 15:35:00</td>\n",
       "      <td>434</td>\n",
       "      <td>1</td>\n",
       "      <td>3</td>\n",
       "      <td>355486</td>\n",
       "      <td>140</td>\n",
       "      <td>2</td>\n",
       "      <td>3</td>\n",
       "      <td>93574</td>\n",
       "      <td>140</td>\n",
       "      <td>...</td>\n",
       "      <td>神上　  335</td>\n",
       "      <td>兵庫</td>\n",
       "      <td>神戸線上り</td>\n",
       "      <td>18</td>\n",
       "      <td>21</td>\n",
       "      <td>35.0</td>\n",
       "      <td>434.0</td>\n",
       "      <td>21.0</td>\n",
       "      <td>追突</td>\n",
       "      <td>1.0</td>\n",
       "    </tr>\n",
       "    <tr>\n",
       "      <th>7323352</th>\n",
       "      <td>2021-04-28 03:25:00</td>\n",
       "      <td>66</td>\n",
       "      <td>1</td>\n",
       "      <td>1</td>\n",
       "      <td>137</td>\n",
       "      <td>2</td>\n",
       "      <td>2</td>\n",
       "      <td>1</td>\n",
       "      <td>227</td>\n",
       "      <td>2</td>\n",
       "      <td>...</td>\n",
       "      <td>池下　  100</td>\n",
       "      <td>大阪</td>\n",
       "      <td>池田線下り</td>\n",
       "      <td>3</td>\n",
       "      <td>2</td>\n",
       "      <td>26.0</td>\n",
       "      <td>66.0</td>\n",
       "      <td>2.0</td>\n",
       "      <td>追突</td>\n",
       "      <td>1.0</td>\n",
       "    </tr>\n",
       "    <tr>\n",
       "      <th>7394919</th>\n",
       "      <td>2021-04-28 09:05:00</td>\n",
       "      <td>17</td>\n",
       "      <td>1</td>\n",
       "      <td>3</td>\n",
       "      <td>196531</td>\n",
       "      <td>121</td>\n",
       "      <td>2</td>\n",
       "      <td>2</td>\n",
       "      <td>37511</td>\n",
       "      <td>121</td>\n",
       "      <td>...</td>\n",
       "      <td>池上　   80</td>\n",
       "      <td>大阪</td>\n",
       "      <td>池田線上り</td>\n",
       "      <td>3</td>\n",
       "      <td>1</td>\n",
       "      <td>6.0</td>\n",
       "      <td>17.0</td>\n",
       "      <td>1.0</td>\n",
       "      <td>追突</td>\n",
       "      <td>1.0</td>\n",
       "    </tr>\n",
       "    <tr>\n",
       "      <th>7414503</th>\n",
       "      <td>2021-04-28 10:35:00</td>\n",
       "      <td>710</td>\n",
       "      <td>1</td>\n",
       "      <td>3</td>\n",
       "      <td>99909</td>\n",
       "      <td>84</td>\n",
       "      <td>2</td>\n",
       "      <td>1</td>\n",
       "      <td>17177</td>\n",
       "      <td>84</td>\n",
       "      <td>...</td>\n",
       "      <td>湾上　   99</td>\n",
       "      <td>湾岸</td>\n",
       "      <td>湾線上り</td>\n",
       "      <td>14</td>\n",
       "      <td>23</td>\n",
       "      <td>35.0</td>\n",
       "      <td>710.0</td>\n",
       "      <td>23.0</td>\n",
       "      <td>追突</td>\n",
       "      <td>1.0</td>\n",
       "    </tr>\n",
       "    <tr>\n",
       "      <th>7485733</th>\n",
       "      <td>2021-04-28 16:15:00</td>\n",
       "      <td>248</td>\n",
       "      <td>1</td>\n",
       "      <td>3</td>\n",
       "      <td>417224</td>\n",
       "      <td>76</td>\n",
       "      <td>2</td>\n",
       "      <td>3</td>\n",
       "      <td>158378</td>\n",
       "      <td>76</td>\n",
       "      <td>...</td>\n",
       "      <td>東上　   75</td>\n",
       "      <td>大阪</td>\n",
       "      <td>東大阪線上り</td>\n",
       "      <td>10</td>\n",
       "      <td>13</td>\n",
       "      <td>17.0</td>\n",
       "      <td>248.0</td>\n",
       "      <td>13.0</td>\n",
       "      <td>追突</td>\n",
       "      <td>1.0</td>\n",
       "    </tr>\n",
       "    <tr>\n",
       "      <th>7491159</th>\n",
       "      <td>2021-04-28 16:40:00</td>\n",
       "      <td>428</td>\n",
       "      <td>1</td>\n",
       "      <td>3</td>\n",
       "      <td>124426</td>\n",
       "      <td>91</td>\n",
       "      <td>2</td>\n",
       "      <td>1</td>\n",
       "      <td>23991</td>\n",
       "      <td>91</td>\n",
       "      <td>...</td>\n",
       "      <td>神上　  304</td>\n",
       "      <td>兵庫</td>\n",
       "      <td>神戸線上り</td>\n",
       "      <td>18</td>\n",
       "      <td>21</td>\n",
       "      <td>40.0</td>\n",
       "      <td>428.0</td>\n",
       "      <td>21.0</td>\n",
       "      <td>追突</td>\n",
       "      <td>1.0</td>\n",
       "    </tr>\n",
       "    <tr>\n",
       "      <th>7491910</th>\n",
       "      <td>2021-04-28 16:45:00</td>\n",
       "      <td>105</td>\n",
       "      <td>1</td>\n",
       "      <td>3</td>\n",
       "      <td>78337</td>\n",
       "      <td>72</td>\n",
       "      <td>2</td>\n",
       "      <td>1</td>\n",
       "      <td>22294</td>\n",
       "      <td>72</td>\n",
       "      <td>...</td>\n",
       "      <td>環　　   23</td>\n",
       "      <td>大阪</td>\n",
       "      <td>環状線</td>\n",
       "      <td>4</td>\n",
       "      <td>3</td>\n",
       "      <td>49.0</td>\n",
       "      <td>105.0</td>\n",
       "      <td>3.0</td>\n",
       "      <td>多重追突</td>\n",
       "      <td>1.0</td>\n",
       "    </tr>\n",
       "    <tr>\n",
       "      <th>8018821</th>\n",
       "      <td>2021-04-30 10:25:00</td>\n",
       "      <td>530</td>\n",
       "      <td>1</td>\n",
       "      <td>1</td>\n",
       "      <td>6404</td>\n",
       "      <td>71</td>\n",
       "      <td>2</td>\n",
       "      <td>1</td>\n",
       "      <td>4639</td>\n",
       "      <td>71</td>\n",
       "      <td>...</td>\n",
       "      <td>港上　   13</td>\n",
       "      <td>大阪</td>\n",
       "      <td>大阪港線上り</td>\n",
       "      <td>12</td>\n",
       "      <td>17</td>\n",
       "      <td>27.0</td>\n",
       "      <td>530.0</td>\n",
       "      <td>17.0</td>\n",
       "      <td>追突</td>\n",
       "      <td>1.0</td>\n",
       "    </tr>\n",
       "  </tbody>\n",
       "</table>\n",
       "<p>60 rows × 38 columns</p>\n",
       "</div>"
      ],
      "text/plain": [
       "                          tm  JDP番号_x  事故形態1  事故リスク水準1  事故発生確率1  走行台キロ1  \\\n",
       "198341   2021-04-04 15:40:00      405      1         3   227464     101   \n",
       "398081   2021-04-05 07:30:00      329      1         3   103561      81   \n",
       "399625   2021-04-05 07:35:00      838      1         1    21130     180   \n",
       "498199   2021-04-05 15:25:00      441      1         1     7587      91   \n",
       "514900   2021-04-05 16:45:00      271      1         3   171605     135   \n",
       "523060   2021-04-05 17:25:00        9      1         1     8522      98   \n",
       "703291   2021-04-06 07:40:00      112      1         1    23429     158   \n",
       "1121991  2021-04-07 16:50:00      101      1         3    70373     256   \n",
       "1654496  2021-04-09 10:55:00      333      1         3    70404     102   \n",
       "1702154  2021-04-09 14:40:00      565      1         1    20283     144   \n",
       "1712552  2021-04-09 15:30:00      418      1         2    44206     148   \n",
       "1731141  2021-04-09 17:00:00        9      1         3   146431     111   \n",
       "1737932  2021-04-09 17:30:00      493      1         1    14737     142   \n",
       "1930786  2021-04-10 08:45:00      356      1         1     4080      52   \n",
       "1962369  2021-04-10 11:15:00      280      1         1    10145      99   \n",
       "2019402  2021-04-10 15:45:00      408      1         1    10713     128   \n",
       "2020458  2021-04-10 15:50:00      410      1         3   165687      83   \n",
       "2535030  2021-04-12 08:30:00      487      1         3   115039      90   \n",
       "2622320  2021-04-12 15:25:00      411      1         1    23417      98   \n",
       "2645544  2021-04-12 17:15:00      471      1         1     6483      88   \n",
       "2794475  2021-04-13 05:00:00      733      1         1      387       7   \n",
       "2936307  2021-04-13 16:15:00      262      1         1     4799      42   \n",
       "3129791  2021-04-14 07:35:00      105      1         2    42840     111   \n",
       "3516604  2021-04-15 14:10:00      103      1         3    73191     273   \n",
       "3551592  2021-04-15 16:55:00      333      1         3   860203      81   \n",
       "3558024  2021-04-15 17:25:00      441      1         3   183596      92   \n",
       "3831052  2021-04-16 15:00:00      439      1         1    29460      31   \n",
       "4036137  2021-04-17 07:15:00       84      1         1    15195      90   \n",
       "4086732  2021-04-17 11:15:00      111      1         1     8269      64   \n",
       "4096384  2021-04-17 12:00:00      272      1         1     7420      89   \n",
       "4748225  2021-04-19 15:35:00      448      1         3   111846      58   \n",
       "4762822  2021-04-19 16:45:00      272      1         3   275891     139   \n",
       "5046686  2021-04-20 15:10:00      806      1         1    11049      84   \n",
       "5243759  2021-04-21 06:45:00      718      1         1    17895     139   \n",
       "5567998  2021-04-22 08:25:00      467      1         1    10693      92   \n",
       "5656500  2021-04-22 15:25:00      411      1         1    25424     106   \n",
       "5677453  2021-04-22 17:05:00      269      1         1     9171     110   \n",
       "5897638  2021-04-23 10:35:00      472      1         3   235700     127   \n",
       "5961721  2021-04-23 15:40:00      422      1         2    37640     125   \n",
       "6227903  2021-04-24 12:45:00      119      1         1     1994      35   \n",
       "6285737  2021-04-24 17:20:00        9      1         1     9950     115   \n",
       "6289398  2021-04-24 17:35:00      533      1         1     7670      92   \n",
       "6489531  2021-04-25 09:25:00      419      1         1     4446      47   \n",
       "6595721  2021-04-25 17:50:00      164      1         1     9850      45   \n",
       "6764694  2021-04-26 07:10:00      476      1         2    40053     146   \n",
       "6773966  2021-04-26 07:55:00      240      1         1     5919      71   \n",
       "6857374  2021-04-26 14:30:00      424      1         3   127750     100   \n",
       "6891762  2021-04-26 17:15:00       10      1         1    12922     155   \n",
       "7058305  2021-04-27 06:25:00      245      1         1     8308     132   \n",
       "7068223  2021-04-27 07:10:00      707      1         3    96170      86   \n",
       "7088872  2021-04-27 08:50:00      257      1         3    73438      37   \n",
       "7159459  2021-04-27 14:25:00      288      1         1     2787      25   \n",
       "7174309  2021-04-27 15:35:00      434      1         3   355486     140   \n",
       "7323352  2021-04-28 03:25:00       66      1         1      137       2   \n",
       "7394919  2021-04-28 09:05:00       17      1         3   196531     121   \n",
       "7414503  2021-04-28 10:35:00      710      1         3    99909      84   \n",
       "7485733  2021-04-28 16:15:00      248      1         3   417224      76   \n",
       "7491159  2021-04-28 16:40:00      428      1         3   124426      91   \n",
       "7491910  2021-04-28 16:45:00      105      1         3    78337      72   \n",
       "8018821  2021-04-30 10:25:00      530      1         1     6404      71   \n",
       "\n",
       "         事故形態2  事故リスク水準2  事故発生確率2  走行台キロ2  ...      JDP名  地区名        系統名  \\\n",
       "198341       2         2    49118     101  ...  神上　  190   兵庫  神戸線上り　　　　   \n",
       "398081       2         1    18175      81  ...  松上　   71   大阪  松原線上り　　　　   \n",
       "399625       2         1    21509     180  ...  湾下　   45   湾岸  湾線下り　　　　　   \n",
       "498199       2         1     6711      91  ...  神上　  370   兵庫  神戸線上り　　　　   \n",
       "514900       2         1    26380     135  ...  東下　   35   大阪  東大阪線下り　　　   \n",
       "523060       2         1     8376      98  ...  池上　   40   大阪  池田線上り　　　　   \n",
       "703291       2         1    20904     158  ...  守上　    6   大阪  守口線上り　　　　   \n",
       "1121991      2         3   345700     256  ...  環　　   44   大阪  環状線　　　　　　   \n",
       "1654496      2         2    43025     102  ...  松上　   90   大阪  松原線上り　　　　   \n",
       "1702154      2         1    20253     144  ...  港下　   16   大阪  大阪港線下り　　　   \n",
       "1712552      2         1    13856     148  ...  神上　  255   兵庫  神戸線上り　　　　   \n",
       "1731141      2         1    25010     111  ...  池上　   40   大阪  池田線上り　　　　   \n",
       "1737932      2         1    14250     142  ...  神下　  164   兵庫  神戸線下り　　　　   \n",
       "1930786      2         1     3440      52  ...  松下　   50   大阪  松原線下り　　　　   \n",
       "1962369      2         1    11249      99  ...  丼東　   10   大阪  丼池線東行き　　　   \n",
       "2019402      2         1     9477     128  ...  神上　  204   兵庫  神戸線上り　　　　   \n",
       "2020458      2         2    40104      83  ...  神上　  215   兵庫  神戸線上り　　　　   \n",
       "2535030      2         1    17684      90  ...  神下　  195   兵庫  神戸線下り　　　　   \n",
       "2622320      2         1     7340      98  ...  神上　  220   兵庫  神戸線上り　　　　   \n",
       "2645544      2         1     6221      88  ...  神下　  276   兵庫  神戸線下り　　　　   \n",
       "2794475      2         1      605       7  ...  湾上　  218   湾岸  湾線上り　　　　　   \n",
       "2936307      2         1     6620      42  ...  東下　   79   大阪  東大阪線下り　　　   \n",
       "3129791      2         2    43348     111  ...  環　　   23   大阪  環状線　　　　　　   \n",
       "3516604      2         3   920761     273  ...  環　　   33   大阪  環状線　　　　　　   \n",
       "3551592      2         3    91350      81  ...  松上　   90   大阪  松原線上り　　　　   \n",
       "3558024      2         2    45668      92  ...  神上　  370   兵庫  神戸線上り　　　　   \n",
       "3831052      2         1     6352      31  ...  神上　  361   兵庫  神戸線上り　　　　   \n",
       "4036137      2         1    18997      90  ...  池下　   11   大阪  池田線下り　　　　   \n",
       "4086732      2         1     9916      64  ...  守上　    0   大阪  守口線上り　　　　   \n",
       "4096384      2         1     7701      89  ...  東下　   29   大阪  東大阪線下り　　　   \n",
       "4748225      2         1    15813      58  ...  神下　  392   兵庫  神戸線下り　　　　   \n",
       "4762822      2         3    68625     139  ...  東下　   29   大阪  東大阪線下り　　　   \n",
       "5046686      2         1    10223      84  ...  湾下　  202   湾岸  湾線下り　　　　　   \n",
       "5243759      2         1    17882     139  ...  湾上　  144   湾岸  湾線上り　　　　　   \n",
       "5567998      2         1     8390      92  ...  神下　  294   兵庫  神戸線下り　　　　   \n",
       "5656500      2         1     7969     106  ...  神上　  220   兵庫  神戸線上り　　　　   \n",
       "5677453      2         1     8112     110  ...  東下　   44   大阪  東大阪線下り　　　   \n",
       "5897638      2         2    35708     127  ...  神下　  270   兵庫  神戸線下り　　　　   \n",
       "5961721      2         1    11480     125  ...  神上　  276   兵庫  神戸線上り　　　　   \n",
       "6227903      2         1     1958      35  ...  守上　   40   大阪  守口線上り　　　　   \n",
       "6285737      2         1     9780     115  ...  池上　   40   大阪  池田線上り　　　　   \n",
       "6289398      2         1     6785      92  ...  港上　   30   大阪  大阪港線上り　　　   \n",
       "6489531      2         1     2910      47  ...  神上　  260   兵庫  神戸線上り　　　　   \n",
       "6595721      2         1     7905      45  ...  堺上　    2   大阪  堺線上り　　　　　   \n",
       "6764694      2         1    10768     146  ...  神下　  251   兵庫  神戸線下り　　　　   \n",
       "6773966      2         1     5236      71  ...  東上　   35   大阪  東大阪線上り　　　   \n",
       "6857374      2         1    19638     100  ...  神上　  284   兵庫  神戸線上り　　　　   \n",
       "6891762      2         1    11431     155  ...  池上　   45   大阪  池田線上り　　　　   \n",
       "7058305      2         1    11069     132  ...  東上　   60   大阪  東大阪線上り　　　   \n",
       "7068223      2         1    16038      86  ...  湾上　   83   湾岸  湾線上り　　　　　   \n",
       "7088872      2         1    18267      37  ...  東下　  106   大阪  東大阪線下り　　　   \n",
       "7159459      2         1     2385      25  ...  東下　  116   大阪  東大阪線下り　　　   \n",
       "7174309      2         3    93574     140  ...  神上　  335   兵庫  神戸線上り　　　　   \n",
       "7323352      2         1      227       2  ...  池下　  100   大阪  池田線下り　　　　   \n",
       "7394919      2         2    37511     121  ...  池上　   80   大阪  池田線上り　　　　   \n",
       "7414503      2         1    17177      84  ...  湾上　   99   湾岸  湾線上り　　　　　   \n",
       "7485733      2         3   158378      76  ...  東上　   75   大阪  東大阪線上り　　　   \n",
       "7491159      2         1    23991      91  ...  神上　  304   兵庫  神戸線上り　　　　   \n",
       "7491910      2         1    22294      72  ...  環　　   23   大阪  環状線　　　　　　   \n",
       "8018821      2         1     4639      71  ...  港上　   13   大阪  大阪港線上り　　　   \n",
       "\n",
       "         路線番号  keito  発生時間_分  JDP番号_y  系統番号  事故の形態１  acckind  \n",
       "198341     18     21    40.0    405.0  21.0      追突      1.0  \n",
       "398081     13     19    30.0    329.0  19.0      追突      1.0  \n",
       "399625     14     24    38.0    838.0  24.0      追突      1.0  \n",
       "498199     18     21    28.0    441.0  21.0      追突      1.0  \n",
       "514900     10     14    45.0    271.0  14.0      追突      1.0  \n",
       "523060      3      1    28.0      9.0   1.0      追突      1.0  \n",
       "703291      5      4    40.0    112.0   4.0    多重追突      1.0  \n",
       "1121991     4      3    50.0    101.0   3.0      追突      1.0  \n",
       "1654496    13     19    55.0    333.0  19.0      追突      1.0  \n",
       "1702154    12     18    40.0    565.0  18.0      追突      1.0  \n",
       "1712552    18     21    34.0    418.0  21.0      追突      1.0  \n",
       "1731141     3      1     0.0      9.0   1.0      追突      1.0  \n",
       "1737932    18     22    32.0    493.0  22.0    多重追突      1.0  \n",
       "1930786    13     20    47.0    356.0  20.0      追突      1.0  \n",
       "1962369    11     15    15.0    280.0  15.0      追突      1.0  \n",
       "2019402    18     21    45.0    408.0  21.0      追突      1.0  \n",
       "2020458    18     21    54.0    410.0  21.0      追突      1.0  \n",
       "2535030    18     22    33.0    487.0  22.0    多重追突      1.0  \n",
       "2622320    18     21    26.0    411.0  21.0      追突      1.0  \n",
       "2645544    18     22    15.0    471.0  22.0    多重追突      1.0  \n",
       "2794475    14     23     4.0    733.0  23.0      追突      1.0  \n",
       "2936307    10     14    15.0    262.0  14.0      追突      1.0  \n",
       "3129791     4      3    39.0    105.0   3.0    多重追突      1.0  \n",
       "3516604     4      3    10.0    103.0   3.0      追突      1.0  \n",
       "3551592    13     19    55.0    333.0  19.0      追突      1.0  \n",
       "3558024    18     21    25.0    441.0  21.0    多重追突      1.0  \n",
       "3831052    18     21     0.0    439.0  21.0      追突      1.0  \n",
       "4036137     3      2    15.0     84.0   2.0      追突      1.0  \n",
       "4086732     5      4    17.0    111.0   4.0      追突      1.0  \n",
       "4096384    10     14     1.0    272.0  14.0      追突      1.0  \n",
       "4748225    18     22    35.0    448.0  22.0      追突      1.0  \n",
       "4762822    10     14    48.0    272.0  14.0      追突      1.0  \n",
       "5046686    14     24    10.0    806.0  24.0      追突      1.0  \n",
       "5243759    14     23    48.0    718.0  23.0    多重追突      1.0  \n",
       "5567998    18     22    25.0    467.0  22.0      追突      1.0  \n",
       "5656500    18     21    25.0    411.0  21.0      追突      1.0  \n",
       "5677453    10     14     7.0    269.0  14.0      追突      1.0  \n",
       "5897638    18     22    38.0    472.0  22.0      追突      1.0  \n",
       "5961721    18     21    40.0    422.0  21.0      追突      1.0  \n",
       "6227903     5      4    47.0    119.0   4.0      追突      1.0  \n",
       "6285737     3      1    23.0      9.0   1.0      追突      1.0  \n",
       "6289398    12     17    39.0    533.0  17.0      追突      1.0  \n",
       "6489531    18     21    25.0    419.0  21.0      追突      1.0  \n",
       "6595721     8      9    50.0    164.0   9.0      追突      1.0  \n",
       "6764694    18     22    10.0    476.0  22.0    多重追突      1.0  \n",
       "6773966    10     13    59.0    240.0  13.0      追突      1.0  \n",
       "6857374    18     21    30.0    424.0  21.0    多重追突      1.0  \n",
       "6891762     3      1    19.0     10.0   1.0      追突      1.0  \n",
       "7058305    10     13    25.0    245.0  13.0    多重追突      1.0  \n",
       "7068223    14     23    10.0    707.0  23.0      追突      1.0  \n",
       "7088872    10     14    50.0    257.0  14.0      追突      1.0  \n",
       "7159459    10     14    25.0    288.0  14.0      追突      1.0  \n",
       "7174309    18     21    35.0    434.0  21.0      追突      1.0  \n",
       "7323352     3      2    26.0     66.0   2.0      追突      1.0  \n",
       "7394919     3      1     6.0     17.0   1.0      追突      1.0  \n",
       "7414503    14     23    35.0    710.0  23.0      追突      1.0  \n",
       "7485733    10     13    17.0    248.0  13.0      追突      1.0  \n",
       "7491159    18     21    40.0    428.0  21.0      追突      1.0  \n",
       "7491910     4      3    49.0    105.0   3.0    多重追突      1.0  \n",
       "8018821    12     17    27.0    530.0  17.0      追突      1.0  \n",
       "\n",
       "[60 rows x 38 columns]"
      ]
     },
     "execution_count": 47,
     "metadata": {},
     "output_type": "execute_result"
    }
   ],
   "source": [
    "dm[dm.acckind==1]"
   ]
  },
  {
   "cell_type": "code",
   "execution_count": 48,
   "metadata": {},
   "outputs": [],
   "source": [
    "dm[\"acc\"]=1\n",
    "dm.loc[pd.isna(dm.acckind),\"acc\"]=0"
   ]
  },
  {
   "cell_type": "code",
   "execution_count": 49,
   "metadata": {},
   "outputs": [],
   "source": [
    "dm[\"tsui\"]=0\n",
    "dm[\"car\"]=0\n",
    "dm[\"sise\"]=0\n",
    "dm[\"sonota\"]=0\n",
    "\n",
    "dm.loc[dm.acckind==1,\"tsui\"]=1\n",
    "dm.loc[dm.acckind==2,\"car\"]=1\n",
    "dm.loc[dm.acckind==3,\"sise\"]=1\n",
    "dm.loc[dm.acckind==0,\"sonota\"]=1"
   ]
  },
  {
   "cell_type": "code",
   "execution_count": 56,
   "metadata": {},
   "outputs": [],
   "source": [
    "df=pd.DataFrame(dm.groupby([\"keito\"])[\"acc\"].sum())"
   ]
  },
  {
   "cell_type": "code",
   "execution_count": 57,
   "metadata": {},
   "outputs": [],
   "source": [
    "df[\"keito\"]=df.index"
   ]
  },
  {
   "cell_type": "code",
   "execution_count": 58,
   "metadata": {},
   "outputs": [],
   "source": [
    "df[\"tsui\"]=dm.groupby([\"keito\"])[\"tsui\"].sum()\n",
    "df[\"car\"]=dm.groupby([\"keito\"])[\"car\"].sum()\n",
    "df[\"sise\"]=dm.groupby([\"keito\"])[\"sise\"].sum()\n",
    "df[\"sonota\"]=dm.groupby([\"keito\"])[\"sonota\"].sum()"
   ]
  },
  {
   "cell_type": "code",
   "execution_count": 59,
   "metadata": {},
   "outputs": [],
   "source": [
    "df[\"prob5\"]=dm.groupby([\"keito\"])[\"事故発生確率5\"].sum()\n",
    "df[\"kensu5\"]=dm.groupby([\"keito\"])[\"事故件数5\"].sum()\n",
    "df[\"prob1\"]=dm.groupby([\"keito\"])[\"事故発生確率1\"].sum()\n",
    "df[\"kensu1\"]=dm.groupby([\"keito\"])[\"事故件数1\"].sum()\n",
    "df[\"runkm1\"]=dm.groupby([\"keito\"])[\"走行台キロ1\"].sum()\n",
    "df[\"prob2\"]=dm.groupby([\"keito\"])[\"事故発生確率2\"].sum()\n",
    "df[\"kensu2\"]=dm.groupby([\"keito\"])[\"事故件数2\"].sum()\n",
    "df[\"prob3\"]=dm.groupby([\"keito\"])[\"事故発生確率3\"].sum()\n",
    "df[\"kensu3\"]=dm.groupby([\"keito\"])[\"事故件数3\"].sum()\n",
    "df[\"prob4\"]=dm.groupby([\"keito\"])[\"事故発生確率4\"].sum()\n",
    "df[\"kensu4\"]=dm.groupby([\"keito\"])[\"事故件数4\"].sum()"
   ]
  },
  {
   "cell_type": "code",
   "execution_count": 60,
   "metadata": {},
   "outputs": [],
   "source": [
    "df[\"prob\"]=df.acc/df.runkm1*100000000\n",
    "df[\"pr5\"]=df.kensu5/100000000\n",
    "df[\"pr_tsui\"]=df.tsui/df.runkm1*100000000\n",
    "df[\"pr1\"]=df.kensu1/100000000\n",
    "df[\"pr_car\"]=df.car/df.runkm1*100000000\n",
    "df[\"pr2\"]=df.kensu2/100000000\n",
    "df[\"pr_sise\"]=df.sise/df.runkm1*100000000\n",
    "df[\"pr3\"]=df.kensu3/100000000\n",
    "df[\"pr_sonota\"]=df.sonota/df.runkm1*100000000\n",
    "df[\"pr4\"]=df.kensu4/100000000"
   ]
  },
  {
   "cell_type": "code",
   "execution_count": 61,
   "metadata": {},
   "outputs": [
    {
     "name": "stdout",
     "output_type": "stream",
     "text": [
      "313 60 86 101 66\n"
     ]
    }
   ],
   "source": [
    "print(sum(df.acc),sum(df.tsui),sum(df.car),sum(df.sise),sum(df.sonota))"
   ]
  },
  {
   "cell_type": "code",
   "execution_count": 62,
   "metadata": {},
   "outputs": [],
   "source": [
    "df.to_csv(\"D:/ahn_pc/workfile/2021/阪神事故リスク/daccrisk04.csv\", index = False, encoding=\"shift_jis\")"
   ]
  },
  {
   "cell_type": "code",
   "execution_count": null,
   "metadata": {},
   "outputs": [],
   "source": []
  },
  {
   "cell_type": "code",
   "execution_count": null,
   "metadata": {},
   "outputs": [],
   "source": []
  },
  {
   "cell_type": "code",
   "execution_count": null,
   "metadata": {},
   "outputs": [],
   "source": []
  },
  {
   "cell_type": "code",
   "execution_count": null,
   "metadata": {},
   "outputs": [],
   "source": [
    "dc.teikyo[0]"
   ]
  },
  {
   "cell_type": "code",
   "execution_count": null,
   "metadata": {},
   "outputs": [],
   "source": [
    "tt=1845\n",
    "print(dc.tm[tt])\n",
    "at=5+dc.sa[tt+5]\n",
    "while dc.teikyo[tt+at]:\n",
    "    print(dc.tm[tt+at])\n",
    "    at=at+dc.sa[tt+at]\n",
    "    print(\"sa\",at)"
   ]
  },
  {
   "cell_type": "code",
   "execution_count": null,
   "metadata": {},
   "outputs": [],
   "source": []
  },
  {
   "cell_type": "code",
   "execution_count": null,
   "metadata": {},
   "outputs": [],
   "source": []
  },
  {
   "cell_type": "code",
   "execution_count": null,
   "metadata": {},
   "outputs": [],
   "source": [
    "kenj = pd.read_csv(\"D:/ahn_pc/workfile/2021/阪神事故リスク/ken2jdp.csv\", encoding=\"shift_jis\")\n",
    "mojin = pd.read_csv(\"D:/ahn_pc/workfile/2021/阪神事故リスク/moji_name2.csv\", encoding=\"shift_jis\")"
   ]
  },
  {
   "cell_type": "code",
   "execution_count": null,
   "metadata": {},
   "outputs": [],
   "source": [
    "kenj[kenj.ken==35][\"jdp\"]\n",
    "#kenj[kenj.ken==11][\"keitoname\"]"
   ]
  },
  {
   "cell_type": "code",
   "execution_count": null,
   "metadata": {},
   "outputs": [],
   "source": [
    "kenj.ken"
   ]
  },
  {
   "cell_type": "code",
   "execution_count": null,
   "metadata": {},
   "outputs": [],
   "source": [
    "mojin[mojin.vsnum==11][\"name\"][0]"
   ]
  },
  {
   "cell_type": "code",
   "execution_count": null,
   "metadata": {},
   "outputs": [],
   "source": [
    "dc.tm[1386732]\n",
    "#dc.検知器番号[24219]"
   ]
  },
  {
   "cell_type": "code",
   "execution_count": null,
   "metadata": {
    "scrolled": true
   },
   "outputs": [],
   "source": [
    "st=0\n",
    "stat=0\n",
    "stat2=0\n",
    "stat3=0\n",
    "curnum=0\n",
    "cnt=0\n",
    "kai=0\n",
    "fst=0\n",
    "ama=0\n",
    "cnt2=0\n",
    "dat=[]\n",
    "dt=[]\n",
    "cnt3=0\n",
    "dat2=[]\n",
    "dt2=[]\n",
    "dff=[]\n",
    "dff2=[]\n",
    "#dt=np.zeros(62,dtype=int)\n",
    "#for i in range(31932,31964):\n",
    "#for i in range(41516,41550):\n",
    "#for i in range(5650,5667):\n",
    "#for i in range(544429):\n",
    "#for i in range(544429,1386733):\n",
    "for i in range(1386733,1876877):\n",
    "    if i%1000==0:\n",
    "        print(i)\n",
    "    stat3=\"なし\"\n",
    "    if dc.teikyo[i]==0:\n",
    "        if cnt==0:\n",
    "            if dc.teikyo[i+5]!=1:\n",
    "                print(i,\"_err_before\")\n",
    "                continue\n",
    "        stat=\"開始直前\"\n",
    "        stat2=\"開始直前\"\n",
    "        if cnt<4:\n",
    "            cnt=cnt+1\n",
    "        else:\n",
    "            cnt=0\n",
    "    elif dc.teikyo[i]==2:\n",
    "        if cnt==0:\n",
    "            if dc.teikyo[i+5]!=0:\n",
    "                print(\"err_after\")\n",
    "                continue\n",
    "        stat=\"停止直後\"\n",
    "        stat2=\"停止直後\"\n",
    "        if cnt<4:\n",
    "            cnt=cnt+1\n",
    "        else:\n",
    "            cnt=0\n",
    "    else:\n",
    "        kai=int(cnt/5)\n",
    "        ama=cnt%5\n",
    "        sa=dc.sa[i]\n",
    "        if kai==0:\n",
    "            stat=\"開始直後\"\n",
    "            if dc.teikyo[i+5]==2:\n",
    "                stat2=\"停止直前\"\n",
    "                if fst==0:\n",
    "                    fama=ama\n",
    "                if fst>=5-fama:\n",
    "                    stat3=\"あまり\"\n",
    "                fst=fst+1\n",
    "            else:\n",
    "                stat2=\"開始直後\"\n",
    "        else:\n",
    "            #stat=\"継続\"+str(kai)\n",
    "            stat=\"継続\"\n",
    "            #あまり処理\n",
    "            #停止直前処理\n",
    "            if dc.teikyo[i+5]==2:\n",
    "                stat2=\"停止直前\"\n",
    "                if fst==0:\n",
    "                    fama=ama\n",
    "                if fst>=5-fama:\n",
    "                    stat3=\"あまり\"\n",
    "                fst=fst+1\n",
    "            else:\n",
    "                stat2=\"継続\"\n",
    "        if dc.tm[i+1]==dc.cend[i]:\n",
    "            cnt=0\n",
    "            kai=0\n",
    "            fst=0\n",
    "        else:\n",
    "            cnt=cnt+1\n",
    "    \n",
    "    #print(cnt,stat,stat2,stat3,ama)\n",
    "    #continue\n",
    "    \n",
    "    if stat==\"開始直前\":\n",
    "        if dc.teikyo[i]!=0:\n",
    "            print(\"err_startbefore\")\n",
    "            break\n",
    "        if cnt2==0:\n",
    "            spd=[]\n",
    "            trf=[]\n",
    "            #su=pd.DataFrame(np.zeros((1,23),dtype=int))\n",
    "            su=np.zeros(23,dtype=int)\n",
    "            #tr=pd.DataFrame(np.zeros((1,23),dtype=int))\n",
    "            tr=np.zeros(23,dtype=int)\n",
    "        spd.append(dc.平均速度[i])\n",
    "        trf.append(dc.交通量[i])\n",
    "        if dc.平均速度[i]>=120:\n",
    "            sloc=23\n",
    "        elif dc.平均速度[i]<15:\n",
    "            sloc=1\n",
    "        else:\n",
    "            sloc=int(dc.平均速度[i]/5-1)\n",
    "        #su.iloc[0,sloc-1]=su.iloc[0,sloc-1]+1\n",
    "        su[sloc-1]=su[sloc-1]+1\n",
    "        tr[sloc-1]=tr[sloc-1]+dc.交通量[i]\n",
    "        #tr.iloc[0,sloc-1]=tr.iloc[0,sloc-1]+dc.交通量[i]\n",
    "        if cnt2==4:\n",
    "            if sum(trf)==0:\n",
    "                smean=0\n",
    "                sq1=0\n",
    "                smed=0\n",
    "                sq3=0\n",
    "            else:\n",
    "                smean=np.around(np.average(spd, weights=trf),2)\n",
    "                sq1=np.around(wq.quantile(np.array(spd),np.array(trf),0.25),2)\n",
    "                smed=np.around(wq.quantile(np.array(spd),np.array(trf),0.5),2)\n",
    "                sq3=np.around(wq.quantile(np.array(spd),np.array(trf),0.75),2)\n",
    "            #print(smean,sq1,smed,sq3)\n",
    "            #print(su)\n",
    "            \n",
    "            #dat[\"keito\"]=dc.keito[i]\n",
    "            #dat[\"mojin\"]=dc.mojin[i]\n",
    "            #dat[\"mojina\"]\n",
    "            #dat[\"mojikp\"]=dc.kp[i]\n",
    "            #dat[\"ichi\"]=int((dc.detnum[i]-1)/4)\n",
    "            #dat[\"ken\"]=dc.検知器番号[i]\n",
    "            #dat[\"kp\"]=dc.キロポスト[i]\n",
    "            #dat[\"jdp\"]\n",
    "            #dat[\"lane\"]=dc.detnum[i]%4\n",
    "            #dat[\"stat\"]=\"開始直前\"\n",
    "            #dat[\"sa\"]\n",
    "            #dat[\"kind\"] 2がリスク情報1、は他の情報、0はリスク情報提供時間帯\n",
    "            #dat[\"hour\"]=pd.to_datetime(dc.tm[i]).hour\n",
    "            #dat[\"25%\"]=sq1\n",
    "            #dat[\"median\"]=smed\n",
    "            #dat[\"75%\"]=sq3\n",
    "            #dat[\"mean\"]=smean\n",
    "            #dat[\"kensu\"]\n",
    "            #dat[\"trfvol\"]\n",
    "            \n",
    "            dat.append(dc.keito[i])\n",
    "            dat.append(mojin[mojin.vsnum==dc.mojin[i]].iloc[0,5])\n",
    "            dat.append(dc.mojin[i])\n",
    "            dat.append(mojin[mojin.vsnum==dc.mojin[i]].iloc[0,4])\n",
    "            dat.append(dc.kp[i])\n",
    "            dat.append(int((dc.detnum[i]-1)/4)+1)\n",
    "            dat.append(dc.検知器番号[i])\n",
    "            dat.append(dc.キロポスト[i])\n",
    "            #dat.append(int(kenj[kenj.ken==dc.検知器番号[i]].iloc[0,1]))\n",
    "            dat.append(int(kenj[kenj.ken==dc.検知器番号[i]][\"jdp\"]))\n",
    "            dat.append(dc.detnum[i]%4)\n",
    "            dat.append(stat)\n",
    "            dat.append(dc.sa[i])\n",
    "            dat.append(dc.kind[i])\n",
    "            dat.append(pd.to_datetime(dc.tm[i]).hour)\n",
    "            dat.append(sq1)\n",
    "            dat.append(smed)\n",
    "            dat.append(sq3)\n",
    "            dat.append(smean)\n",
    "            dat.append(sum(su))\n",
    "            dat.append(sum(tr))\n",
    "            #print(len(dat),len(su),len(tr))\n",
    "            dt.append(pd.DataFrame(np.r_[dat,su,tr]).T)\n",
    "            dat=[]\n",
    "            cnt2=0\n",
    "        else:\n",
    "            cnt2=cnt2+1\n",
    "    \n",
    "    if stat==\"開始直後\":\n",
    "        if dc.teikyo[i]!=1:\n",
    "            print(\"err_startafter\")\n",
    "            break\n",
    "        if cnt2==0:\n",
    "            spd=[]\n",
    "            trf=[]\n",
    "            #su=pd.DataFrame(np.zeros((1,23),dtype=int))\n",
    "            su=np.zeros(23,dtype=int)\n",
    "            #tr=pd.DataFrame(np.zeros((1,23),dtype=int))\n",
    "            tr=np.zeros(23,dtype=int)\n",
    "        spd.append(dc.平均速度[i])\n",
    "        trf.append(dc.交通量[i])\n",
    "        if dc.平均速度[i]>=120:\n",
    "            sloc=23\n",
    "        elif dc.平均速度[i]<15:\n",
    "            sloc=1\n",
    "        else:\n",
    "            sloc=int(dc.平均速度[i]/5-1)\n",
    "        #su.iloc[0,sloc-1]=su.iloc[0,sloc-1]+1\n",
    "        su[sloc-1]=su[sloc-1]+1\n",
    "        tr[sloc-1]=tr[sloc-1]+dc.交通量[i]\n",
    "        #tr.iloc[0,sloc-1]=tr.iloc[0,sloc-1]+dc.交通量[i]\n",
    "        if cnt2==4:\n",
    "            if sum(trf)==0:\n",
    "                smean=0\n",
    "                sq1=0\n",
    "                smed=0\n",
    "                sq3=0\n",
    "            else:\n",
    "                smean=np.around(np.average(spd, weights=trf),2)\n",
    "                sq1=np.around(wq.quantile(np.array(spd),np.array(trf),0.25),2)\n",
    "                smed=np.around(wq.quantile(np.array(spd),np.array(trf),0.5),2)\n",
    "                sq3=np.around(wq.quantile(np.array(spd),np.array(trf),0.75),2)\n",
    "            #print(smean,sq1,smed,sq3)\n",
    "            #print(su)\n",
    "            \n",
    "            #dat[\"keito\"]=dc.keito[i]\n",
    "            #dat[\"mojin\"]=dc.mojin[i]\n",
    "            #dat[\"mojina\"]\n",
    "            #dat[\"mojikp\"]=dc.kp[i]\n",
    "            #dat[\"ichi\"]=int((dc.detnum[i]-1)/4)\n",
    "            #dat[\"ken\"]=dc.検知器番号[i]\n",
    "            #dat[\"kp\"]=dc.キロポスト[i]\n",
    "            #dat[\"jdp\"]\n",
    "            #dat[\"lane\"]=dc.detnum[i]%4\n",
    "            #dat[\"stat\"]=\"開始直前\"\n",
    "            #dat[\"hour\"]=pd.to_datetime(dc.tm[i]).hour\n",
    "            #dat[\"25%\"]=sq1\n",
    "            #dat[\"median\"]=smed\n",
    "            #dat[\"75%\"]=sq3\n",
    "            #dat[\"mean\"]=smean\n",
    "            #dat[\"kensu\"]\n",
    "            #dat[\"trfvol\"]\n",
    "            \n",
    "            dat.append(dc.keito[i])\n",
    "            dat.append(mojin[mojin.vsnum==dc.mojin[i]].iloc[0,5])\n",
    "            dat.append(dc.mojin[i])\n",
    "            dat.append(mojin[mojin.vsnum==dc.mojin[i]].iloc[0,4])\n",
    "            dat.append(dc.kp[i])\n",
    "            dat.append(int((dc.detnum[i]-1)/4)+1)\n",
    "            dat.append(dc.検知器番号[i])\n",
    "            dat.append(dc.キロポスト[i])\n",
    "            dat.append(int(kenj[kenj.ken==dc.検知器番号[i]][\"jdp\"]))\n",
    "            dat.append(dc.detnum[i]%4)\n",
    "            dat.append(stat)\n",
    "            dat.append(dc.sa[i])\n",
    "            dat.append(dc.kind[i])\n",
    "            dat.append(pd.to_datetime(dc.tm[i]).hour)\n",
    "            dat.append(sq1)\n",
    "            dat.append(smed)\n",
    "            dat.append(sq3)\n",
    "            dat.append(smean)\n",
    "            dat.append(sum(su))\n",
    "            dat.append(sum(tr))\n",
    "            #print(len(dat),len(su),len(tr))\n",
    "            dt.append(pd.DataFrame(np.r_[dat,su,tr]).T)\n",
    "            dat=[]\n",
    "            cnt2=0\n",
    "        else:\n",
    "            cnt2=cnt2+1\n",
    "            \n",
    "    if stat==\"継続\":\n",
    "        if dc.teikyo[i]!=1:\n",
    "            print(\"err_continue\")\n",
    "            break\n",
    "        \n",
    "        if kai>5 or stat3==\"あまり\":\n",
    "            continue\n",
    "\n",
    "        if cnt2==0:\n",
    "            spd=[]\n",
    "            trf=[]\n",
    "            #su=pd.DataFrame(np.zeros((1,23),dtype=int))\n",
    "            su=np.zeros(23,dtype=int)\n",
    "            #tr=pd.DataFrame(np.zeros((1,23),dtype=int))\n",
    "            tr=np.zeros(23,dtype=int)\n",
    "        spd.append(dc.平均速度[i])\n",
    "        trf.append(dc.交通量[i])\n",
    "        if dc.平均速度[i]>=120:\n",
    "            sloc=23\n",
    "        elif dc.平均速度[i]<15:\n",
    "            sloc=1\n",
    "        else:\n",
    "            sloc=int(dc.平均速度[i]/5-1)\n",
    "        #su.iloc[0,sloc-1]=su.iloc[0,sloc-1]+1\n",
    "        su[sloc-1]=su[sloc-1]+1\n",
    "        tr[sloc-1]=tr[sloc-1]+dc.交通量[i]\n",
    "        #tr.iloc[0,sloc-1]=tr.iloc[0,sloc-1]+dc.交通量[i]\n",
    "        if cnt2==4:\n",
    "            if sum(trf)==0:\n",
    "                smean=0\n",
    "                sq1=0\n",
    "                smed=0\n",
    "                sq3=0\n",
    "            else:\n",
    "                smean=np.around(np.average(spd, weights=trf),2)\n",
    "                sq1=np.around(wq.quantile(np.array(spd),np.array(trf),0.25),2)\n",
    "                smed=np.around(wq.quantile(np.array(spd),np.array(trf),0.5),2)\n",
    "                sq3=np.around(wq.quantile(np.array(spd),np.array(trf),0.75),2)\n",
    "            #print(smean,sq1,smed,sq3)\n",
    "            #print(su)\n",
    "            \n",
    "            #dat[\"keito\"]=dc.keito[i]\n",
    "            #dat[\"mojin\"]=dc.mojin[i]\n",
    "            #dat[\"mojina\"]\n",
    "            #dat[\"mojikp\"]=dc.kp[i]\n",
    "            #dat[\"ichi\"]=int((dc.detnum[i]-1)/4)\n",
    "            #dat[\"ken\"]=dc.検知器番号[i]\n",
    "            #dat[\"kp\"]=dc.キロポスト[i]\n",
    "            #dat[\"jdp\"]\n",
    "            #dat[\"lane\"]=dc.detnum[i]%4\n",
    "            #dat[\"stat\"]=\"開始直前\"\n",
    "            #dat[\"hour\"]=pd.to_datetime(dc.tm[i]).hour\n",
    "            #dat[\"25%\"]=sq1\n",
    "            #dat[\"median\"]=smed\n",
    "            #dat[\"75%\"]=sq3\n",
    "            #dat[\"mean\"]=smean\n",
    "            #dat[\"kensu\"]\n",
    "            #dat[\"trfvol\"]\n",
    "            \n",
    "            dat.append(dc.keito[i])\n",
    "            dat.append(mojin[mojin.vsnum==dc.mojin[i]].iloc[0,5])\n",
    "            dat.append(dc.mojin[i])\n",
    "            dat.append(mojin[mojin.vsnum==dc.mojin[i]].iloc[0,4])\n",
    "            dat.append(dc.kp[i])\n",
    "            dat.append(int((dc.detnum[i]-1)/4)+1)\n",
    "            dat.append(dc.検知器番号[i])\n",
    "            dat.append(dc.キロポスト[i])\n",
    "            dat.append(int(kenj[kenj.ken==dc.検知器番号[i]][\"jdp\"]))\n",
    "            dat.append(dc.detnum[i]%4)\n",
    "            dat.append(stat+str(kai))\n",
    "            dat.append(dc.sa[i])\n",
    "            dat.append(dc.kind[i])\n",
    "            dat.append(pd.to_datetime(dc.tm[i]).hour)\n",
    "            dat.append(sq1)\n",
    "            dat.append(smed)\n",
    "            dat.append(sq3)\n",
    "            dat.append(smean)\n",
    "            dat.append(sum(su))\n",
    "            dat.append(sum(tr))\n",
    "            #print(len(dat),len(su),len(tr))\n",
    "            dt.append(pd.DataFrame(np.r_[dat,su,tr]).T)\n",
    "            dat=[]\n",
    "            cnt2=0\n",
    "        else:\n",
    "            cnt2=cnt2+1\n",
    "    \n",
    "    if stat2==\"停止直前\":\n",
    "        if dc.teikyo[i]!=1:\n",
    "            print(\"err_stopbefore\")\n",
    "            break\n",
    "        \n",
    "        if cnt3==0:\n",
    "            spd2=[]\n",
    "            trf2=[]\n",
    "            #su=pd.DataFrame(np.zeros((1,23),dtype=int))\n",
    "            su2=np.zeros(23,dtype=int)\n",
    "            #tr=pd.DataFrame(np.zeros((1,23),dtype=int))\n",
    "            tr2=np.zeros(23,dtype=int)\n",
    "        spd2.append(dc.平均速度[i])\n",
    "        trf2.append(dc.交通量[i])\n",
    "        if dc.平均速度[i]>=120:\n",
    "            sloc2=23\n",
    "        elif dc.平均速度[i]<15:\n",
    "            sloc2=1\n",
    "        else:\n",
    "            sloc2=int(dc.平均速度[i]/5-1)\n",
    "        #su.iloc[0,sloc-1]=su.iloc[0,sloc-1]+1\n",
    "        su2[sloc2-1]=su2[sloc2-1]+1\n",
    "        tr2[sloc2-1]=tr2[sloc2-1]+dc.交通量[i]\n",
    "        #tr.iloc[0,sloc-1]=tr.iloc[0,sloc-1]+dc.交通量[i]\n",
    "        if cnt3==4:\n",
    "            if sum(trf2)==0:\n",
    "                smean_2=0\n",
    "                sq1_2=0\n",
    "                smed_2=0\n",
    "                sq3_2=0\n",
    "            else:\n",
    "                smean_2=np.around(np.average(spd2, weights=trf2),2)\n",
    "                sq1_2=np.around(wq.quantile(np.array(spd2),np.array(trf2),0.25),2)\n",
    "                smed_2=np.around(wq.quantile(np.array(spd2),np.array(trf2),0.5),2)\n",
    "                sq3_2=np.around(wq.quantile(np.array(spd2),np.array(trf2),0.75),2)\n",
    "            #print(smean_2,sq1_2,smed_2,sq3_2)\n",
    "            #print(su2)\n",
    "            \n",
    "            #dat[\"keito\"]=dc.keito[i]\n",
    "            #dat[\"mojin\"]=dc.mojin[i]\n",
    "            #dat[\"mojina\"]\n",
    "            #dat[\"mojikp\"]=dc.kp[i]\n",
    "            #dat[\"ichi\"]=int((dc.detnum[i]-1)/4)\n",
    "            #dat[\"ken\"]=dc.検知器番号[i]\n",
    "            #dat[\"kp\"]=dc.キロポスト[i]\n",
    "            #dat[\"jdp\"]\n",
    "            #dat[\"lane\"]=dc.detnum[i]%4\n",
    "            #dat[\"stat\"]=\"開始直前\"\n",
    "            #dat[\"hour\"]=pd.to_datetime(dc.tm[i]).hour\n",
    "            #dat[\"25%\"]=sq1\n",
    "            #dat[\"median\"]=smed\n",
    "            #dat[\"75%\"]=sq3\n",
    "            #dat[\"mean\"]=smean\n",
    "            #dat[\"kensu\"]\n",
    "            #dat[\"trfvol\"]\n",
    "            \n",
    "            dat2.append(dc.keito[i])\n",
    "            dat2.append(mojin[mojin.vsnum==dc.mojin[i]].iloc[0,5])\n",
    "            dat2.append(dc.mojin[i])\n",
    "            dat2.append(mojin[mojin.vsnum==dc.mojin[i]].iloc[0,4])\n",
    "            dat2.append(dc.kp[i])\n",
    "            dat2.append(int((dc.detnum[i]-1)/4)+1)\n",
    "            dat2.append(dc.検知器番号[i])\n",
    "            dat2.append(dc.キロポスト[i])\n",
    "            dat2.append(int(kenj[kenj.ken==dc.検知器番号[i]][\"jdp\"]))\n",
    "            dat2.append(dc.detnum[i]%4)\n",
    "            dat2.append(stat2)\n",
    "            dat2.append(dc.sa[i])\n",
    "            dat2.append(dc.kind[i])\n",
    "            dat2.append(pd.to_datetime(dc.tm[i]).hour)\n",
    "            dat2.append(sq1_2)\n",
    "            dat2.append(smed_2)\n",
    "            dat2.append(sq3_2)\n",
    "            dat2.append(smean_2)\n",
    "            dat2.append(sum(su2))\n",
    "            dat2.append(sum(tr2))\n",
    "            #print(len(dat),len(su),len(tr))\n",
    "            dt.append(pd.DataFrame(np.r_[dat2,su2,tr2]).T)\n",
    "            dat2=[]\n",
    "            cnt3=0\n",
    "        else:\n",
    "            cnt3=cnt3+1\n",
    "            \n",
    "    if stat==\"停止直後\":\n",
    "        if dc.teikyo[i]!=2:\n",
    "            print(\"err_stopafter\")\n",
    "            break\n",
    "        if cnt2==0:\n",
    "            spd=[]\n",
    "            trf=[]\n",
    "            #su=pd.DataFrame(np.zeros((1,23),dtype=int))\n",
    "            su=np.zeros(23,dtype=int)\n",
    "            #tr=pd.DataFrame(np.zeros((1,23),dtype=int))\n",
    "            tr=np.zeros(23,dtype=int)\n",
    "        spd.append(dc.平均速度[i])\n",
    "        trf.append(dc.交通量[i])\n",
    "        if dc.平均速度[i]>=120:\n",
    "            sloc=23\n",
    "        elif dc.平均速度[i]<15:\n",
    "            sloc=1\n",
    "        else:\n",
    "            sloc=int(dc.平均速度[i]/5-1)\n",
    "        #su.iloc[0,sloc-1]=su.iloc[0,sloc-1]+1\n",
    "        su[sloc-1]=su[sloc-1]+1\n",
    "        tr[sloc-1]=tr[sloc-1]+dc.交通量[i]\n",
    "        #tr.iloc[0,sloc-1]=tr.iloc[0,sloc-1]+dc.交通量[i]\n",
    "        if cnt2==4:\n",
    "            if sum(trf)==0:\n",
    "                smean=0\n",
    "                sq1=0\n",
    "                smed=0\n",
    "                sq3=0\n",
    "            else:\n",
    "                smean=np.around(np.average(spd, weights=trf),2)\n",
    "                sq1=np.around(wq.quantile(np.array(spd),np.array(trf),0.25),2)\n",
    "                smed=np.around(wq.quantile(np.array(spd),np.array(trf),0.5),2)\n",
    "                sq3=np.around(wq.quantile(np.array(spd),np.array(trf),0.75),2)\n",
    "            #print(smean,sq1,smed,sq3)\n",
    "            #print(su)\n",
    "            \n",
    "            #dat[\"keito\"]=dc.keito[i]\n",
    "            #dat[\"mojin\"]=dc.mojin[i]\n",
    "            #dat[\"mojina\"]\n",
    "            #dat[\"mojikp\"]=dc.kp[i]\n",
    "            #dat[\"ichi\"]=int((dc.detnum[i]-1)/4)\n",
    "            #dat[\"ken\"]=dc.検知器番号[i]\n",
    "            #dat[\"kp\"]=dc.キロポスト[i]\n",
    "            #dat[\"jdp\"]\n",
    "            #dat[\"lane\"]=dc.detnum[i]%4\n",
    "            #dat[\"stat\"]=\"開始直前\"\n",
    "            #dat[\"hour\"]=pd.to_datetime(dc.tm[i]).hour\n",
    "            #dat[\"25%\"]=sq1\n",
    "            #dat[\"median\"]=smed\n",
    "            #dat[\"75%\"]=sq3\n",
    "            #dat[\"mean\"]=smean\n",
    "            #dat[\"kensu\"]\n",
    "            #dat[\"trfvol\"]\n",
    "            \n",
    "            dat.append(dc.keito[i])\n",
    "            dat.append(mojin[mojin.vsnum==dc.mojin[i]].iloc[0,5])\n",
    "            dat.append(dc.mojin[i])\n",
    "            dat.append(mojin[mojin.vsnum==dc.mojin[i]].iloc[0,4])\n",
    "            dat.append(dc.kp[i])\n",
    "            dat.append(int((dc.detnum[i]-1)/4)+1)\n",
    "            dat.append(dc.検知器番号[i])\n",
    "            dat.append(dc.キロポスト[i])\n",
    "            dat.append(int(kenj[kenj.ken==dc.検知器番号[i]][\"jdp\"]))\n",
    "            dat.append(dc.detnum[i]%4)\n",
    "            dat.append(stat)\n",
    "            dat.append(dc.sa[i])\n",
    "            dat.append(dc.kind[i])\n",
    "            dat.append(pd.to_datetime(dc.tm[i]).hour)\n",
    "            dat.append(sq1)\n",
    "            dat.append(smed)\n",
    "            dat.append(sq3)\n",
    "            dat.append(smean)\n",
    "            dat.append(sum(su))\n",
    "            dat.append(sum(tr))\n",
    "            #print(len(dat),len(su),len(tr))\n",
    "            dt.append(pd.DataFrame(np.r_[dat,su,tr]).T)\n",
    "            dat=[]\n",
    "            cnt2=0\n",
    "        else:\n",
    "            cnt2=cnt2+1\n",
    "    \n",
    "dff = pd.concat(dt, axis = 0, ignore_index = True)\n",
    "#dff2 = pd.concat(dt2, axis = 0, ignore_index = True)"
   ]
  },
  {
   "cell_type": "code",
   "execution_count": null,
   "metadata": {},
   "outputs": [],
   "source": [
    "#np.r_[dat,su,tr]\n",
    "dff = pd.concat(dt, axis = 0, ignore_index = True)"
   ]
  },
  {
   "cell_type": "code",
   "execution_count": null,
   "metadata": {},
   "outputs": [],
   "source": [
    "dff.iloc[:,:15]"
   ]
  },
  {
   "cell_type": "code",
   "execution_count": null,
   "metadata": {},
   "outputs": [],
   "source": [
    "#dff.to_csv(\"D:/ahn_pc/workfile/2021/阪神事故リスク/mojispeed_a.csv\", index = False, encoding=\"shift_jis\")\n",
    "#dff.to_csv(\"D:/ahn_pc/workfile/2021/阪神事故リスク/mojispeed_b.csv\", index = False, encoding=\"shift_jis\")\n",
    "dff.to_csv(\"D:/ahn_pc/workfile/2021/阪神事故リスク/mojispeed_c.csv\", index = False, encoding=\"shift_jis\")"
   ]
  },
  {
   "cell_type": "code",
   "execution_count": null,
   "metadata": {},
   "outputs": [],
   "source": []
  },
  {
   "cell_type": "code",
   "execution_count": null,
   "metadata": {},
   "outputs": [],
   "source": [
    "aa"
   ]
  },
  {
   "cell_type": "code",
   "execution_count": null,
   "metadata": {},
   "outputs": [],
   "source": [
    "pd.to_datetime(dc.tm[0]).hour"
   ]
  },
  {
   "cell_type": "code",
   "execution_count": null,
   "metadata": {},
   "outputs": [],
   "source": []
  },
  {
   "cell_type": "code",
   "execution_count": null,
   "metadata": {},
   "outputs": [],
   "source": [
    "st=0\n",
    "stat=0\n",
    "curnum=0\n",
    "cnt=0\n",
    "#for i in range(15274,15310):\n",
    "for i in range(30):\n",
    "    if dc.teikyo[i]==0:\n",
    "        if cnt==0:\n",
    "            if dc.teikyo[i+5]!=1:\n",
    "                print(\"err_before\")\n",
    "                break\n",
    "        stat=\"開始直前\"\n",
    "        if cnt<4:\n",
    "            cnt=cnt+1\n",
    "        else:\n",
    "            cnt=0\n",
    "    elif dc.teikyo[i]==2:\n",
    "        if cnt==0:\n",
    "            if dc.teikyo[i+5]!=1:\n",
    "                print(\"err_after\")\n",
    "                break\n",
    "        stat=\"停止直後\"\n",
    "        if cnt<4:\n",
    "            cnt=cnt+1\n",
    "        else:\n",
    "            cnt=0\n",
    "    else:\n",
    "        stat=\"提供\"\n",
    "    \n",
    "    print(cnt,stat)\n",
    "    continue\n",
    "    \n",
    "    \n",
    "    \n",
    "    \n",
    "    \n",
    "    \n",
    "    detnum=dc.detnum[i]\n",
    "    nexnum=dc.detnum[i+1]\n",
    "    if detnum!=curnum:\n",
    "        st=1#最初\n",
    "        st_i=i\n",
    "        if dc.teikyo[st_i+5]:\n",
    "            aft_i=5+dc.sa[st_i+5]\n",
    "        else:\n",
    "            print(\"err_teikyo\")\n",
    "            break\n",
    "        while dc.teikyo[st_i+aft_i]:\n",
    "            aft_i=aft_i+dc.sa[st_i+aft_i]\n",
    "    elif detnum!=nexnum:\n",
    "        st=2#最後\n",
    "    else:\n",
    "        st=0#継続\n",
    "    print(\"i-st\",i,st_i)\n",
    "    if (i-st_i)<5:\n",
    "        stat=\"直前\"\n",
    "    elif (i-st_i)<aft_i:\n",
    "        stat=\"提供\"\n",
    "    else:\n",
    "        stat=\"直後\"\n",
    "    print(stat)\n",
    "    print(dc.tm[i])\n",
    "    curnum=detnum\n",
    "    continue\n",
    "    if cnt<5:\n",
    "        if stat!=\"提供\":\n",
    "            if dc.teikyo[i]==1:\n",
    "                print(\"err\")\n",
    "                break\n",
    "        if cnt==0:\n",
    "            spd=[]\n",
    "            trf=[]\n",
    "            su=pd.DataFrame(np.zeros((1,23),dtype=int))\n",
    "            tr=pd.DataFrame(np.zeros((1,23),dtype=int))\n",
    "        spd.append(dc.平均速度[i])\n",
    "        trf.append(dc.交通量[i])\n",
    "        sloc=int(dc.平均速度[i]/5-1)\n",
    "        su.iloc[0,sloc-1]=su.iloc[0,sloc-1]+1\n",
    "        tr.iloc[0,sloc-1]=tr.iloc[0,sloc-1]+dc.交通量[i]\n",
    "        if cnt==4:\n",
    "            smean=np.around(np.average(spd, weights=trf),2)\n",
    "            sq1=np.around(wq.quantile(np.array(spd),np.array(trf),0.25),2)\n",
    "            smed=np.around(wq.quantile(np.array(spd),np.array(trf),0.5),2)\n",
    "            sq3=np.around(wq.quantile(np.array(spd),np.array(trf),0.75),2)\n",
    "            print(smean,sq1,smed,sq3)\n",
    "            print(su)\n",
    "            cnt=0\n",
    "        else:\n",
    "            cnt=cnt+1\n",
    "    curnum=detnum"
   ]
  },
  {
   "cell_type": "code",
   "execution_count": null,
   "metadata": {},
   "outputs": [],
   "source": []
  },
  {
   "cell_type": "code",
   "execution_count": null,
   "metadata": {},
   "outputs": [],
   "source": []
  },
  {
   "cell_type": "code",
   "execution_count": null,
   "metadata": {},
   "outputs": [],
   "source": []
  },
  {
   "cell_type": "code",
   "execution_count": null,
   "metadata": {},
   "outputs": [],
   "source": []
  },
  {
   "cell_type": "code",
   "execution_count": null,
   "metadata": {},
   "outputs": [],
   "source": []
  },
  {
   "cell_type": "code",
   "execution_count": null,
   "metadata": {},
   "outputs": [],
   "source": [
    "mojin=dc[~dc.duplicated(subset=\"mojin\")].mojin"
   ]
  },
  {
   "cell_type": "code",
   "execution_count": null,
   "metadata": {},
   "outputs": [],
   "source": [
    "mojin.size"
   ]
  },
  {
   "cell_type": "code",
   "execution_count": null,
   "metadata": {},
   "outputs": [],
   "source": [
    "nip = pd.read_csv(\"D:/ahn_pc/workfile/2021/阪神事故リスク/dnippo_10_3all.csv\", encoding=\"shift_jis\")"
   ]
  },
  {
   "cell_type": "code",
   "execution_count": null,
   "metadata": {},
   "outputs": [],
   "source": [
    "nip[\"idx\"]=nip.キロポスト.astype(str)+\"_\"+nip.系統番号.astype(str)"
   ]
  },
  {
   "cell_type": "code",
   "execution_count": null,
   "metadata": {},
   "outputs": [],
   "source": [
    "nip.idx"
   ]
  },
  {
   "cell_type": "code",
   "execution_count": null,
   "metadata": {},
   "outputs": [],
   "source": [
    "kasa=nip.groupby([\"idx\",\"文字情報板番号\"], as_index=False).count()"
   ]
  },
  {
   "cell_type": "code",
   "execution_count": null,
   "metadata": {},
   "outputs": [],
   "source": [
    "kasa2=kasa.loc[:,[\"idx\",\"文字情報板番号\",\"sa\"]]"
   ]
  },
  {
   "cell_type": "code",
   "execution_count": null,
   "metadata": {},
   "outputs": [],
   "source": [
    "kasa2.to_csv(\"D:/ahn_pc/workfile/2021/阪神事故リスク/kasa10.csv\", index = False, encoding=\"shift_jis\")"
   ]
  },
  {
   "cell_type": "code",
   "execution_count": null,
   "metadata": {},
   "outputs": [],
   "source": []
  },
  {
   "cell_type": "code",
   "execution_count": null,
   "metadata": {},
   "outputs": [],
   "source": [
    "dc[\"idx\"]=dc.tm.astype(str)+\"_\"+dc.keito.astype(str)+\"_\"+dc.kp.astype(str)+\"_\"+dc.detnum.astype(str)+\"_\"+dc.teikyo.astype(str)"
   ]
  },
  {
   "cell_type": "code",
   "execution_count": null,
   "metadata": {},
   "outputs": [],
   "source": [
    "dc2=dc[dc.teikyo==1]"
   ]
  },
  {
   "cell_type": "code",
   "execution_count": null,
   "metadata": {},
   "outputs": [],
   "source": [
    "dc2[dc2.duplicated(subset=\"idx\")]\n",
    "dc[dc.idx==\"2021-10-04 12:17:00_3_2.1_1_1\"]"
   ]
  },
  {
   "cell_type": "code",
   "execution_count": null,
   "metadata": {},
   "outputs": [],
   "source": []
  },
  {
   "cell_type": "code",
   "execution_count": null,
   "metadata": {},
   "outputs": [],
   "source": []
  },
  {
   "cell_type": "code",
   "execution_count": null,
   "metadata": {},
   "outputs": [],
   "source": []
  },
  {
   "cell_type": "code",
   "execution_count": null,
   "metadata": {},
   "outputs": [],
   "source": [
    "dset=dc[dc.mojin==mojin[0]]"
   ]
  },
  {
   "cell_type": "code",
   "execution_count": null,
   "metadata": {},
   "outputs": [],
   "source": [
    "dl=dset[dset.detnum==1]"
   ]
  },
  {
   "cell_type": "code",
   "execution_count": null,
   "metadata": {},
   "outputs": [],
   "source": [
    "dl[\"tim\"]=pd.to_datetime(dl.tm)"
   ]
  },
  {
   "cell_type": "code",
   "execution_count": null,
   "metadata": {},
   "outputs": [],
   "source": [
    "(dl.tim[1]-dl.tim[0]).seconds"
   ]
  },
  {
   "cell_type": "code",
   "execution_count": null,
   "metadata": {},
   "outputs": [],
   "source": [
    "dl[\"nex\"]=dl.tim.shift(-1)"
   ]
  },
  {
   "cell_type": "code",
   "execution_count": null,
   "metadata": {},
   "outputs": [],
   "source": [
    "dl[\"sa\"]=(dl.nex-dl.tim).dt.seconds"
   ]
  },
  {
   "cell_type": "code",
   "execution_count": null,
   "metadata": {},
   "outputs": [],
   "source": [
    "dl[\"lst\"]=0\n",
    "dl.loc[dl.sa!=60,\"lst\"]=1"
   ]
  },
  {
   "cell_type": "code",
   "execution_count": null,
   "metadata": {},
   "outputs": [],
   "source": [
    "dl[dl.lst==1]"
   ]
  },
  {
   "cell_type": "code",
   "execution_count": null,
   "metadata": {},
   "outputs": [],
   "source": [
    "dl.iloc[:1,5:15]"
   ]
  },
  {
   "cell_type": "code",
   "execution_count": null,
   "metadata": {},
   "outputs": [],
   "source": [
    "#spdsu=pd.DataFrame(np.zeros((1,23),dtype=int),columns=[\"15km\",\"20km\",\"25km\",\"30km\",\n",
    "#      \"35km\",\"40km\",\"45km\",\"50km\",\"55km\",\"60km\",\"65km\",\"70km\",\"75km\",\"80km\",\"85km\",\n",
    "#      \"90km\",\"95km\",\"100km\",\"105km\",\"110km\",\"115km\",\"120km\",\"120kmup\"])\n",
    "#spdtr=pd.DataFrame(np.zeros((1,23),dtype=int),columns=[\"15km\",\"20km\",\"25km\",\"30km\",\n",
    "#      \"35km\",\"40km\",\"45km\",\"50km\",\"55km\",\"60km\",\"65km\",\"70km\",\"75km\",\"80km\",\"85km\",\n",
    "#      \"90km\",\"95km\",\"100km\",\"105km\",\"110km\",\"115km\",\"120km\",\"120kmup\"])"
   ]
  },
  {
   "cell_type": "code",
   "execution_count": null,
   "metadata": {},
   "outputs": [],
   "source": [
    "#spdsu=[]\n",
    "#spdtr=[]"
   ]
  },
  {
   "cell_type": "code",
   "execution_count": null,
   "metadata": {},
   "outputs": [],
   "source": [
    "#su=pd.DataFrame(np.zeros((1,23),dtype=int))\n",
    "#tmp=int(62/5-1)\n",
    "#su.iloc[0,tmp-1]=1"
   ]
  },
  {
   "cell_type": "code",
   "execution_count": null,
   "metadata": {},
   "outputs": [],
   "source": [
    "#su.iloc[:,:12]"
   ]
  },
  {
   "cell_type": "code",
   "execution_count": null,
   "metadata": {},
   "outputs": [],
   "source": [
    "import wquantiles as wq"
   ]
  },
  {
   "cell_type": "code",
   "execution_count": null,
   "metadata": {},
   "outputs": [],
   "source": [
    "#a=np.array([1,3,6,2])\n",
    "#b=np.array([10,3,20,1])"
   ]
  },
  {
   "cell_type": "code",
   "execution_count": null,
   "metadata": {},
   "outputs": [],
   "source": [
    "#wq.quantile(a,b,0.5)"
   ]
  },
  {
   "cell_type": "code",
   "execution_count": null,
   "metadata": {},
   "outputs": [],
   "source": [
    "#np.average(a, weights=b)"
   ]
  },
  {
   "cell_type": "code",
   "execution_count": null,
   "metadata": {},
   "outputs": [],
   "source": [
    "#c=32.943\n",
    "#np.around(c,1)"
   ]
  },
  {
   "cell_type": "code",
   "execution_count": null,
   "metadata": {},
   "outputs": [],
   "source": [
    "tk=dl.teikyo.values\n",
    "cnt=0\n",
    "for i in range(50):\n",
    "    if cnt<15:\n",
    "        stat=0\n",
    "        #print(i,tk[i])\n",
    "        #if tk[i]:\n",
    "        #    print(\"err_noprovidingtime\")\n",
    "        #    break\n",
    "        #if tk[i+15]:\n",
    "        #    print(\"err_not15min\")\n",
    "        #    break\n",
    "        cnt=cnt+1\n",
    "        continue\n",
    "    elif cnt<30:\n",
    "        if stat==0:\n",
    "            \n",
    "        \n",
    "        \n",
    "        print(\"end\")\n",
    "        break\n",
    "        \n",
    "        "
   ]
  },
  {
   "cell_type": "code",
   "execution_count": null,
   "metadata": {},
   "outputs": [],
   "source": [
    "tky=0\n",
    "cntpb=0\n",
    "cntpa=0\n",
    "cntsb=0\n",
    "cntsa=0\n",
    "#for i in range(dl.shape[0]):\n",
    "for i in range(50):\n",
    "    if dl.sa[i]==1:\n",
    "        print(\"sa isn't 1\")\n",
    "        break\n",
    "    if (tky==0) and (dl.teikyo[i+15]==1):\n",
    "        #print(dl.tm[i],dl.tm[i+15])\n",
    "        spd=[]\n",
    "        trf=[]\n",
    "        su=pd.DataFrame(np.zeros((1,23),dtype=int))\n",
    "        tr=pd.DataFrame(np.zeros((1,23),dtype=int))\n",
    "        tky=1\n",
    "    if tky==1:\n",
    "        if cntpb<15:\n",
    "            spd.append(dl.平均速度[i])\n",
    "            trf.append(dl.交通量[i])\n",
    "            sloc=int(dl.平均速度[i]/5-1)\n",
    "            su.iloc[0,sloc-1]=su.iloc[0,sloc-1]+1\n",
    "            tr.iloc[0,sloc-1]=tr.iloc[0,sloc-1]+dl.交通量[i]\n",
    "            cntpb=cntpb+1\n",
    "        else:\n",
    "            if cntpa<1:\n",
    "                smean=np.around(np.average(spd, weights=trf),2)\n",
    "                sq1=np.around(wq.quantile(np.array(spd),np.array(trf),0.25),2)\n",
    "                smed=np.around(wq.quantile(np.array(spd),np.array(trf),0.5),2)\n",
    "                sq3=np.around(wq.quantile(np.array(spd),np.array(trf),0.75),2)\n",
    "                print(smean,sq1,smed,sq3)\n",
    "                print(su)\n",
    "                spd=[]\n",
    "                trf=[]\n",
    "                su=pd.DataFrame(np.zeros((1,23),dtype=int))\n",
    "                tr=pd.DataFrame(np.zeros((1,23),dtype=int))\n",
    "            if dl.teikyo[i]==1:\n",
    "                if cntpa<15:\n",
    "                    spd.append(dl.平均速度[i])\n",
    "                    trf.append(dl.交通量[i])\n",
    "                    sloc=int(dl.平均速度[i]/5-1)\n",
    "                    su.iloc[0,sloc-1]=su.iloc[0,sloc-1]+1\n",
    "                    tr.iloc[0,sloc-1]=tr.iloc[0,sloc-1]+dl.交通量[i]\n",
    "                    print(cntpa,i)\n",
    "                    cntpa=cntpa+1\n",
    "                else:\n",
    "                    smean=np.around(np.average(spd, weights=trf),2)\n",
    "                    sq1=np.around(wq.quantile(np.array(spd),np.array(trf),0.25),2)\n",
    "                    smed=np.around(wq.quantile(np.array(spd),np.array(trf),0.5),2)\n",
    "                    sq3=np.around(wq.quantile(np.array(spd),np.array(trf),0.75),2)\n",
    "                    print(smean,sq1,smed,sq3)\n",
    "                    print(su)\n",
    "                    #継続\n",
    "                    \n",
    "                    \n",
    "                    if cntpa==15:\n",
    "                        break\n",
    "            else:\n",
    "                if cntpa<15:\n",
    "                    print(\"under15\")\n",
    "                    break\n",
    "                else:\n",
    "                    smean=np.around(np.average(spd, weights=trf),2)\n",
    "                    sq1=np.around(wq.quantile(np.array(spd),np.array(trf),0.25),2)\n",
    "                    smed=np.around(wq.quantile(np.array(spd),np.array(trf),0.5),2)\n",
    "                    sq3=np.around(wq.quantile(np.array(spd),np.array(trf),0.75),2)\n",
    "                    print(smean,sq1,smed,sq3)\n",
    "                    print(su)\n",
    "                    break"
   ]
  },
  {
   "cell_type": "code",
   "execution_count": null,
   "metadata": {},
   "outputs": [],
   "source": [
    "su.iloc[0,5:15]"
   ]
  },
  {
   "cell_type": "code",
   "execution_count": null,
   "metadata": {},
   "outputs": [],
   "source": [
    "tr.iloc[0,5:15]"
   ]
  },
  {
   "cell_type": "code",
   "execution_count": null,
   "metadata": {},
   "outputs": [],
   "source": []
  },
  {
   "cell_type": "code",
   "execution_count": null,
   "metadata": {},
   "outputs": [],
   "source": []
  },
  {
   "cell_type": "code",
   "execution_count": null,
   "metadata": {},
   "outputs": [],
   "source": []
  },
  {
   "cell_type": "code",
   "execution_count": null,
   "metadata": {},
   "outputs": [],
   "source": []
  },
  {
   "cell_type": "code",
   "execution_count": null,
   "metadata": {},
   "outputs": [],
   "source": []
  },
  {
   "cell_type": "code",
   "execution_count": null,
   "metadata": {},
   "outputs": [],
   "source": []
  },
  {
   "cell_type": "code",
   "execution_count": null,
   "metadata": {},
   "outputs": [],
   "source": []
  },
  {
   "cell_type": "code",
   "execution_count": null,
   "metadata": {},
   "outputs": [],
   "source": [
    "dc[\"tm\"]=pd.to_datetime(dc.年.astype(str)+\"-\"+dc.月.astype(str)+\"-\"+dc.日.astype(str)+\" \"+dc.時刻)"
   ]
  },
  {
   "cell_type": "code",
   "execution_count": null,
   "metadata": {},
   "outputs": [],
   "source": [
    "#print(dc[\"tm\"].iloc[0])\n",
    "#dc[\"tm\"].iloc[0]<\"2021-10-10 07:10\"\n",
    "#pd.to_datetime(dc[\"tm\"].iloc[0])<pd.to_datetime(\"2021-10-10 07:10\")\n",
    "#dc[(dc[\"tm\"]<pd.to_datetime(\"2021-10-3 07:15\"))&(dc[\"tm\"]>pd.to_datetime(\"2021-10-3 07:10\"))]"
   ]
  },
  {
   "cell_type": "code",
   "execution_count": null,
   "metadata": {},
   "outputs": [],
   "source": [
    "#dc.query(\"検知器番号 in [35,36,32,29,30]\")\n",
    "#x=[35,36,32,29,30]\n",
    "#dc.query(\"検知器番号 in @x\")"
   ]
  },
  {
   "cell_type": "code",
   "execution_count": null,
   "metadata": {},
   "outputs": [],
   "source": [
    "nip = pd.read_csv(\"D:/ahn_pc/workfile/2021/阪神事故リスク/dnippo_10_2a.csv\", encoding=\"shift_jis\")"
   ]
  },
  {
   "cell_type": "code",
   "execution_count": null,
   "metadata": {},
   "outputs": [],
   "source": [
    "nip"
   ]
  },
  {
   "cell_type": "code",
   "execution_count": null,
   "metadata": {},
   "outputs": [],
   "source": [
    "det = pd.read_csv(\"D:/ahn_pc/workfile/2021/阪神事故リスク/moji_detec.csv\", encoding=\"shift_jis\")"
   ]
  },
  {
   "cell_type": "code",
   "execution_count": null,
   "metadata": {},
   "outputs": [],
   "source": [
    "#pd.to_datetime(tst)+pd.offsets.Minute(30)"
   ]
  },
  {
   "cell_type": "code",
   "execution_count": null,
   "metadata": {},
   "outputs": [],
   "source": []
  },
  {
   "cell_type": "code",
   "execution_count": null,
   "metadata": {},
   "outputs": [],
   "source": [
    "moji=nip.文字情報板番号.values\n",
    "adet=[]\n",
    "dken=[]\n",
    "ken=[]\n",
    "\n",
    "for i in range(nip.shape[0]):\n",
    "#for i in range(1):\n",
    "    #i=544\n",
    "    if (i%100==0):\n",
    "        print(i)\n",
    "    mdet = det[det.vsidx==moji[i]].values\n",
    "    if mdet.size==0:\n",
    "        print(\"size zero i is \",i,\" moji \",nip.文字情報板番号[i])\n",
    "        continue\n",
    "    for j in range(16):\n",
    "        if not pd.isna(mdet[0,5+j]):\n",
    "            adet.append(mdet[0,5+j])\n",
    "        else:\n",
    "            adet.append(-1)\n",
    "    \n",
    "    tst=pd.to_datetime(nip.stt.iloc[i])\n",
    "    tend=pd.to_datetime(nip.endt.iloc[i])\n",
    "        \n",
    "    pst=pd.to_datetime(nip.st.iloc[i])\n",
    "    pend=pd.to_datetime(nip.end.iloc[i])\n",
    "        \n",
    "    keito=nip.系統番号[i]\n",
    "    mojin=nip.文字情報板番号[i]\n",
    "    kotei=nip.固定パターン番号[i]\n",
    "    kp=nip.キロポスト[i]\n",
    "\n",
    "    if nip.iloc[i].cst:\n",
    "        if i!=0:\n",
    "            temp = pd.concat(ken, axis = 0, ignore_index = True)\n",
    "            dken.append(temp)\n",
    "        ken=[]\n",
    "        for k in range(16):\n",
    "        #for k in range(1):\n",
    "            if adet[k]!=-1:\n",
    "                dtemp=dc[dc.検知器番号==adet[k]]\n",
    "                dt=dtemp[(dtemp.tm>=tst)&(dtemp.tm<=tend)]\n",
    "                \n",
    "                dt[\"keito\"]=keito\n",
    "                dt[\"mojin\"]=mojin\n",
    "                dt[\"kp\"]=kp\n",
    "                dt[\"detnum\"]=k+1\n",
    "                dt[\"kotei\"]=0\n",
    "                dt[\"teikyo\"]=0\n",
    "                dt.loc[((dt.tm>=pst)&(dt.tm<=pend)),\"kotei\"]=kotei\n",
    "                dt.loc[((dt.tm>=pst)&(dt.tm<=pend)),\"teikyo\"]=1\n",
    "                ken.append(dt)\n",
    "    else:\n",
    "        for l in range(len(ken)):\n",
    "            dt=ken[l]\n",
    "            dt[\"keito\"]=keito\n",
    "            dt[\"mojin\"]=mojin\n",
    "            dt[\"kp\"]=kp\n",
    "            #dt[\"detnum\"]=k+1\n",
    "            #dt[\"kotei\"]=0\n",
    "            #dt[\"teikyo\"]=0\n",
    "            dt.loc[((dt.tm>=pst)&(dt.tm<=pend)),\"kotei\"]=kotei\n",
    "            dt.loc[((dt.tm>=pst)&(dt.tm<=pend)),\"teikyo\"]=1\n",
    "\n",
    "temp = pd.concat(ken, axis = 0, ignore_index = True)\n",
    "dken.append(temp)\n",
    "df = pd.concat(dken, axis = 0, ignore_index = True)"
   ]
  },
  {
   "cell_type": "code",
   "execution_count": null,
   "metadata": {},
   "outputs": [],
   "source": [
    "df = pd.concat(dken, axis = 0, ignore_index = True)"
   ]
  },
  {
   "cell_type": "code",
   "execution_count": null,
   "metadata": {},
   "outputs": [],
   "source": [
    "df"
   ]
  },
  {
   "cell_type": "code",
   "execution_count": null,
   "metadata": {},
   "outputs": [],
   "source": [
    "#df.to_csv(\"D:/ahn_pc/workfile/2021/阪神事故リスク/kendata_10a.csv\", index = False, encoding=\"shift_jis\")"
   ]
  },
  {
   "cell_type": "code",
   "execution_count": null,
   "metadata": {},
   "outputs": [],
   "source": [
    "df1=df.iloc[:1000000,:]\n",
    "df2=df.iloc[1000000:2000000,:]\n",
    "df3=df.iloc[2000000:3000000,:]\n",
    "df4=df.iloc[3000000:4000000,:]"
   ]
  },
  {
   "cell_type": "code",
   "execution_count": null,
   "metadata": {},
   "outputs": [],
   "source": [
    "df1.to_csv(\"D:/ahn_pc/workfile/2021/阪神事故リスク/kendata10a1.csv\", index = False, encoding=\"shift_jis\")\n",
    "df2.to_csv(\"D:/ahn_pc/workfile/2021/阪神事故リスク/kendata10a2.csv\", index = False, encoding=\"shift_jis\")\n",
    "df3.to_csv(\"D:/ahn_pc/workfile/2021/阪神事故リスク/kendata10a3.csv\", index = False, encoding=\"shift_jis\")\n",
    "df4.to_csv(\"D:/ahn_pc/workfile/2021/阪神事故リスク/kendata10a4.csv\", index = False, encoding=\"shift_jis\")"
   ]
  },
  {
   "cell_type": "code",
   "execution_count": null,
   "metadata": {},
   "outputs": [],
   "source": [
    "#dken[1]"
   ]
  },
  {
   "cell_type": "code",
   "execution_count": null,
   "metadata": {},
   "outputs": [],
   "source": [
    "#ken[1][ken[1].teikyo==1]"
   ]
  },
  {
   "cell_type": "code",
   "execution_count": null,
   "metadata": {},
   "outputs": [],
   "source": []
  },
  {
   "cell_type": "code",
   "execution_count": null,
   "metadata": {},
   "outputs": [],
   "source": []
  },
  {
   "cell_type": "code",
   "execution_count": null,
   "metadata": {},
   "outputs": [],
   "source": []
  },
  {
   "cell_type": "code",
   "execution_count": null,
   "metadata": {},
   "outputs": [],
   "source": []
  },
  {
   "cell_type": "code",
   "execution_count": null,
   "metadata": {},
   "outputs": [],
   "source": []
  },
  {
   "cell_type": "code",
   "execution_count": null,
   "metadata": {},
   "outputs": [],
   "source": []
  },
  {
   "cell_type": "code",
   "execution_count": null,
   "metadata": {},
   "outputs": [],
   "source": []
  },
  {
   "cell_type": "code",
   "execution_count": null,
   "metadata": {},
   "outputs": [],
   "source": []
  },
  {
   "cell_type": "code",
   "execution_count": null,
   "metadata": {},
   "outputs": [],
   "source": [
    "#for i in range(nip.shape[0]):\n",
    "moji=nip.文字情報板番号.values\n",
    "for i in range(1):\n",
    "    mdet = det[det.vsidx==moji[i]]\n",
    "    #\n",
    "    if ~pd.isna(mdet.d1l1.iloc[0]):\n",
    "        d1l1 = mdet.d1l1\n",
    "    else:\n",
    "        d1l1 = -1\n",
    "\n",
    "    if ~pd.isna(mdet.d1l2.iloc[0]):\n",
    "        d1l2 = mdet.d1l2\n",
    "    else:\n",
    "        d1l2 = -1\n",
    "    \n",
    "    if ~pd.isna(mdet.d1l3.iloc[0]):\n",
    "        d1l3 = mdet.d1l3\n",
    "    else:\n",
    "        d1l3 = -1\n",
    "    \n",
    "    if ~pd.isna(mdet.d1l4.iloc[0]):\n",
    "        d1l4 = mdet.d1l4\n",
    "    else:\n",
    "        d1l4 = -1\n",
    "    #\n",
    "    if ~pd.isna(mdet.d2l1.iloc[0]):\n",
    "        d2l1 = mdet.d2l1\n",
    "    else:\n",
    "        d2l1 = -1\n",
    "    \n",
    "    if ~pd.isna(mdet.d2l2.iloc[0]):\n",
    "        d2l2 = mdet.d2l2\n",
    "    else:\n",
    "        d2l2 = -1\n",
    "    \n",
    "    if ~pd.isna(mdet.d2l3.iloc[0]):\n",
    "        d2l3 = mdet.d2l3\n",
    "    else:\n",
    "        d2l3 = -1\n",
    "    \n",
    "    if ~pd.isna(mdet.d2l4.iloc[0]):\n",
    "        d2l4 = mdet.d2l4\n",
    "    else:\n",
    "        d2l4 = -1\n",
    "    #\n",
    "    if ~pd.isna(mdet.d3l1.iloc[0]):\n",
    "        d3l1 = mdet.d3l1\n",
    "    else:\n",
    "        d3l1 = -1\n",
    "    \n",
    "    if ~pd.isna(mdet.d3l2.iloc[0]):\n",
    "        d3l2 = mdet.d3l2\n",
    "    else:\n",
    "        d3l2 = -1\n",
    "    \n",
    "    if ~pd.isna(mdet.d3l3.iloc[0]):\n",
    "        d3l3 = mdet.d3l3\n",
    "    else:\n",
    "        d3l3 = -1\n",
    "    \n",
    "    if ~pd.isna(mdet.d3l4.iloc[0]):\n",
    "        d3l4 = mdet.d3l4\n",
    "    else:\n",
    "        d3l4 = -1\n",
    "    #\n",
    "    if ~pd.isna(mdet.d4l1.iloc[0]):\n",
    "        d4l1 = mdet.d4l1\n",
    "    else:\n",
    "        d4l1 = -1\n",
    "    \n",
    "    if ~pd.isna(mdet.d4l2.iloc[0]):\n",
    "        d4l2 = mdet.d4l2\n",
    "    else:\n",
    "        d4l2 = -1\n",
    "    \n",
    "    if ~pd.isna(mdet.d4l3.iloc[0]):\n",
    "        d4l3 = mdet.d4l3\n",
    "    else:\n",
    "        d4l3 = -1\n",
    "    \n",
    "    if ~pd.isna(mdet.d4l4.iloc[0]):\n",
    "        d4l4 = mdet.d4l4\n",
    "    else:\n",
    "        d4l4 = -1    \n",
    "    "
   ]
  },
  {
   "cell_type": "code",
   "execution_count": null,
   "metadata": {},
   "outputs": [],
   "source": []
  },
  {
   "cell_type": "code",
   "execution_count": null,
   "metadata": {},
   "outputs": [],
   "source": []
  },
  {
   "cell_type": "code",
   "execution_count": null,
   "metadata": {},
   "outputs": [],
   "source": []
  },
  {
   "cell_type": "code",
   "execution_count": null,
   "metadata": {},
   "outputs": [],
   "source": []
  },
  {
   "cell_type": "code",
   "execution_count": null,
   "metadata": {},
   "outputs": [],
   "source": []
  },
  {
   "cell_type": "code",
   "execution_count": null,
   "metadata": {},
   "outputs": [],
   "source": []
  },
  {
   "cell_type": "code",
   "execution_count": null,
   "metadata": {},
   "outputs": [],
   "source": []
  },
  {
   "cell_type": "code",
   "execution_count": null,
   "metadata": {},
   "outputs": [],
   "source": []
  },
  {
   "cell_type": "code",
   "execution_count": null,
   "metadata": {},
   "outputs": [],
   "source": []
  },
  {
   "cell_type": "code",
   "execution_count": null,
   "metadata": {},
   "outputs": [],
   "source": [
    "df=dc[(dc.固定パターン番号==155)|(dc.固定パターン番号==158)\n",
    "     |(dc.固定パターン番号==156)|(dc.固定パターン番号==159)\n",
    "     |(dc.固定パターン番号==157)|(dc.固定パターン番号==160)]"
   ]
  },
  {
   "cell_type": "code",
   "execution_count": null,
   "metadata": {},
   "outputs": [],
   "source": [
    "df2=df.loc[:,[\"情報提供開始年\",\"情報提供開始月\",\"情報提供開始日\",\"情報提供開始時刻\",\"情報提供開始曜日\",\"情報提供開始日種\",\"情報提供終了年\",\"情報提供終了月\",\"情報提供終了日\",\"情報提供終了時刻\",\"情報提供終了曜日\",\"情報提供終了日種\",\"系統番号\",\"文字情報板番号\",\"固定パターン番号\",\"キロポスト\",\"系統名\",\"文字情報板\",\"エラー識別\"]]"
   ]
  },
  {
   "cell_type": "code",
   "execution_count": null,
   "metadata": {},
   "outputs": [],
   "source": [
    "#df2.to_csv(\"D:/ahn_pc/workfile/2021/阪神事故リスク/dnippo_10.csv\", index = False, encoding=\"shift_jis\")"
   ]
  },
  {
   "cell_type": "code",
   "execution_count": null,
   "metadata": {},
   "outputs": [],
   "source": [
    "df2.loc[df2.情報提供終了年==\" \",\"情報提供終了年\"]=df2.情報提供開始年\n",
    "df2.loc[df2.情報提供終了月==\" \",\"情報提供終了月\"]=df2.情報提供開始月\n",
    "df2.loc[df2.情報提供終了日==\" \",\"情報提供終了日\"]=df2.情報提供開始日\n",
    "df2.loc[df2.情報提供終了時刻==\" \",\"情報提供終了時刻\"]=df2.情報提供開始時刻"
   ]
  },
  {
   "cell_type": "code",
   "execution_count": null,
   "metadata": {},
   "outputs": [],
   "source": []
  },
  {
   "cell_type": "code",
   "execution_count": null,
   "metadata": {},
   "outputs": [],
   "source": [
    "df2[\"st\"]=pd.to_datetime(df2.情報提供開始年.astype(str)+\"-\"+df2.情報提供開始月.astype(str)+\"-\"+df2.情報提供開始日.astype(str)+\" \"+df2.情報提供開始時刻)"
   ]
  },
  {
   "cell_type": "code",
   "execution_count": null,
   "metadata": {},
   "outputs": [],
   "source": [
    "#df2.情報提供終了年.astype(str)+\"-\"+df2.情報提供終了月.astype(str)+\"-\"+df2.情報提供終了日.astype(str)+\" \"+df2.情報提供終了時刻"
   ]
  },
  {
   "cell_type": "code",
   "execution_count": null,
   "metadata": {},
   "outputs": [],
   "source": [
    "df2[\"end\"]=pd.to_datetime(df2.情報提供終了年.astype(str)+\"-\"+df2.情報提供終了月.astype(str)+\"-\"+df2.情報提供終了日.astype(str)+\" \"+df2.情報提供終了時刻)"
   ]
  },
  {
   "cell_type": "code",
   "execution_count": null,
   "metadata": {},
   "outputs": [],
   "source": [
    "df2"
   ]
  },
  {
   "cell_type": "code",
   "execution_count": null,
   "metadata": {},
   "outputs": [],
   "source": [
    "#df2.st+pd.offsets.Minute(0)"
   ]
  },
  {
   "cell_type": "code",
   "execution_count": null,
   "metadata": {},
   "outputs": [],
   "source": [
    "df2[\"sa\"]=((df2.end-df2.st).dt.seconds/60).astype(int)"
   ]
  },
  {
   "cell_type": "code",
   "execution_count": null,
   "metadata": {},
   "outputs": [],
   "source": [
    "#temp=[]\n",
    "#for i in range(df2.shape[0]):\n",
    "#for i in range(10):\n",
    "#    for j in range(df2[\"sa\"].iloc[i]):\n",
    "#        temp.append((df2[\"st\"].iloc[i]+pd.offsets.Minute(j)).strftime(\"%Y-%m-%d %H:%M:%S\"))"
   ]
  },
  {
   "cell_type": "code",
   "execution_count": null,
   "metadata": {},
   "outputs": [],
   "source": [
    "#temp[0]==temp[1]\n",
    "#df2[\"st\"].iloc[0]==df2[\"st\"].iloc[0]"
   ]
  },
  {
   "cell_type": "code",
   "execution_count": null,
   "metadata": {},
   "outputs": [],
   "source": [
    "df2"
   ]
  },
  {
   "cell_type": "code",
   "execution_count": null,
   "metadata": {},
   "outputs": [],
   "source": [
    "df2.to_csv(\"D:/ahn_pc/workfile/2021/阪神事故リスク/dnippo_10.csv\", index = False, encoding=\"shift_jis\")"
   ]
  },
  {
   "cell_type": "code",
   "execution_count": null,
   "metadata": {},
   "outputs": [],
   "source": []
  },
  {
   "cell_type": "code",
   "execution_count": null,
   "metadata": {},
   "outputs": [],
   "source": []
  },
  {
   "cell_type": "code",
   "execution_count": null,
   "metadata": {},
   "outputs": [],
   "source": []
  },
  {
   "cell_type": "code",
   "execution_count": null,
   "metadata": {},
   "outputs": [],
   "source": []
  },
  {
   "cell_type": "code",
   "execution_count": null,
   "metadata": {},
   "outputs": [],
   "source": []
  },
  {
   "cell_type": "code",
   "execution_count": null,
   "metadata": {},
   "outputs": [],
   "source": []
  },
  {
   "cell_type": "code",
   "execution_count": null,
   "metadata": {},
   "outputs": [],
   "source": []
  },
  {
   "cell_type": "code",
   "execution_count": null,
   "metadata": {},
   "outputs": [],
   "source": [
    "dc[\"indx\"]=dc.文字情報板番号"
   ]
  },
  {
   "cell_type": "code",
   "execution_count": null,
   "metadata": {},
   "outputs": [],
   "source": [
    "df=dc[dc.原因==\"リスク\"]"
   ]
  },
  {
   "cell_type": "code",
   "execution_count": null,
   "metadata": {},
   "outputs": [],
   "source": [
    "df"
   ]
  },
  {
   "cell_type": "code",
   "execution_count": null,
   "metadata": {},
   "outputs": [],
   "source": [
    "df2=df[df.提供フラグ==1]"
   ]
  },
  {
   "cell_type": "code",
   "execution_count": null,
   "metadata": {},
   "outputs": [],
   "source": [
    "df2"
   ]
  },
  {
   "cell_type": "code",
   "execution_count": null,
   "metadata": {},
   "outputs": [],
   "source": []
  },
  {
   "cell_type": "code",
   "execution_count": null,
   "metadata": {},
   "outputs": [],
   "source": []
  },
  {
   "cell_type": "code",
   "execution_count": null,
   "metadata": {},
   "outputs": [],
   "source": []
  },
  {
   "cell_type": "code",
   "execution_count": null,
   "metadata": {},
   "outputs": [],
   "source": []
  },
  {
   "cell_type": "code",
   "execution_count": null,
   "metadata": {},
   "outputs": [],
   "source": [
    "dc[dc.indx>900]"
   ]
  },
  {
   "cell_type": "code",
   "execution_count": null,
   "metadata": {},
   "outputs": [],
   "source": [
    "vs = pd.read_csv(\"D:/ahn_pc/workfile/2021/阪神事故リスク/CHSVSB_情報板3.csv\", encoding=\"shift_jis\")"
   ]
  },
  {
   "cell_type": "code",
   "execution_count": null,
   "metadata": {},
   "outputs": [],
   "source": [
    "vs"
   ]
  },
  {
   "cell_type": "code",
   "execution_count": null,
   "metadata": {},
   "outputs": [],
   "source": [
    "dc2 = pd.merge(dc,vs, on=\"indx\", how=\"left\")"
   ]
  },
  {
   "cell_type": "code",
   "execution_count": null,
   "metadata": {},
   "outputs": [],
   "source": [
    "dc2[dc2.indx==977]"
   ]
  },
  {
   "cell_type": "code",
   "execution_count": null,
   "metadata": {},
   "outputs": [],
   "source": []
  },
  {
   "cell_type": "code",
   "execution_count": null,
   "metadata": {},
   "outputs": [],
   "source": [
    "dc3 = dc2[~pd.isna(dc2.line)]"
   ]
  },
  {
   "cell_type": "code",
   "execution_count": null,
   "metadata": {},
   "outputs": [],
   "source": [
    "dc3"
   ]
  },
  {
   "cell_type": "code",
   "execution_count": null,
   "metadata": {},
   "outputs": [],
   "source": [
    "#dc3[\"drp\"]=dc3.記録日.astype(str)+\"_\"+dc3.記録時刻+\"_\"+dc3.文字情報板番号.astype(str)+\"_\"+dc3.事象内通番.astype(str)+\"_\"+dc3.原因+\"_\"+dc3.程度"
   ]
  },
  {
   "cell_type": "code",
   "execution_count": null,
   "metadata": {},
   "outputs": [],
   "source": [
    "dc3[\"vsidx\"]=dc3.記録日.astype(str)+\"_\"+dc3.記録時刻+\"_\"+dc3.文字情報板番号.astype(str)"
   ]
  },
  {
   "cell_type": "code",
   "execution_count": null,
   "metadata": {},
   "outputs": [],
   "source": [
    "#dc3d = dc3[~dc3.duplicated(subset=\"drop\")]\n",
    "dc3d = dc3[~dc3.duplicated()]"
   ]
  },
  {
   "cell_type": "code",
   "execution_count": null,
   "metadata": {},
   "outputs": [],
   "source": [
    "#dc3d[dc3d.vsidx==\"14_00:23_158\"].iloc[:,5:]"
   ]
  },
  {
   "cell_type": "code",
   "execution_count": null,
   "metadata": {},
   "outputs": [],
   "source": [
    "print(dc3.shape[0])\n",
    "print(dc3d.shape[0])"
   ]
  },
  {
   "cell_type": "code",
   "execution_count": null,
   "metadata": {},
   "outputs": [],
   "source": [
    "test=dc3d[dc3d.indx==945]"
   ]
  },
  {
   "cell_type": "code",
   "execution_count": null,
   "metadata": {},
   "outputs": [],
   "source": [
    "test2=test[test.提供フラグ==1]"
   ]
  },
  {
   "cell_type": "code",
   "execution_count": null,
   "metadata": {},
   "outputs": [],
   "source": [
    "test2.shape[0]"
   ]
  },
  {
   "cell_type": "code",
   "execution_count": null,
   "metadata": {},
   "outputs": [],
   "source": [
    "60*24*31"
   ]
  },
  {
   "cell_type": "code",
   "execution_count": null,
   "metadata": {},
   "outputs": [],
   "source": []
  },
  {
   "cell_type": "code",
   "execution_count": null,
   "metadata": {},
   "outputs": [],
   "source": [
    "#del dc3,dc3d,dc3r,dc5"
   ]
  },
  {
   "cell_type": "code",
   "execution_count": null,
   "metadata": {},
   "outputs": [],
   "source": [
    "#dc3d.to_csv(\"D:/ahn_pc/workfile/2021/阪神事故リスク/dc3d04.csv\", index = False, encoding=\"shift_jis\")"
   ]
  },
  {
   "cell_type": "code",
   "execution_count": null,
   "metadata": {},
   "outputs": [],
   "source": []
  },
  {
   "cell_type": "code",
   "execution_count": null,
   "metadata": {},
   "outputs": [],
   "source": [
    "dc3r = dc3d[dc3d.原因==\"リスク\"]"
   ]
  },
  {
   "cell_type": "code",
   "execution_count": null,
   "metadata": {},
   "outputs": [],
   "source": [
    "dc3r[\"risk\"]=1"
   ]
  },
  {
   "cell_type": "code",
   "execution_count": null,
   "metadata": {},
   "outputs": [],
   "source": [
    "dc3idx = dc3r.loc[:,[\"vsidx\",\"risk\"]]"
   ]
  },
  {
   "cell_type": "code",
   "execution_count": null,
   "metadata": {},
   "outputs": [],
   "source": [
    "dc3idx"
   ]
  },
  {
   "cell_type": "code",
   "execution_count": null,
   "metadata": {},
   "outputs": [],
   "source": [
    "dc4 = pd.merge(dc3d,dc3idx, on=\"vsidx\", how=\"left\")"
   ]
  },
  {
   "cell_type": "code",
   "execution_count": null,
   "metadata": {},
   "outputs": [],
   "source": [
    "dc4.shape[0]"
   ]
  },
  {
   "cell_type": "code",
   "execution_count": null,
   "metadata": {},
   "outputs": [],
   "source": [
    "dc3.shape[0]"
   ]
  },
  {
   "cell_type": "code",
   "execution_count": null,
   "metadata": {},
   "outputs": [],
   "source": [
    "dc4[(dc4.risk==1)&(dc4.原因==\"リスク\")&(dc4.提供フラグ!=1)].shape[0]\n",
    "#dc4[(dc4.risk==1)&(dc4.原因!=\"リスク\")&(dc4.提供フラグ==1)].shape[0]"
   ]
  },
  {
   "cell_type": "code",
   "execution_count": null,
   "metadata": {},
   "outputs": [],
   "source": [
    "#dc4[(dc4.risk==1)&(dc4.原因==\"リスク\")&(dc4.提供フラグ!=1)].shape[0]\n",
    "dc4[(dc4.risk==1)&(dc4.原因!=\"リスク\")&(dc4.提供フラグ==1)].shape[0]"
   ]
  },
  {
   "cell_type": "code",
   "execution_count": null,
   "metadata": {},
   "outputs": [],
   "source": [
    "dc4r = dc4[dc4.risk==1]"
   ]
  },
  {
   "cell_type": "code",
   "execution_count": null,
   "metadata": {},
   "outputs": [],
   "source": [
    "dc4r.shape[0]"
   ]
  },
  {
   "cell_type": "code",
   "execution_count": null,
   "metadata": {},
   "outputs": [],
   "source": [
    "dc4r.iloc[:5].loc[:,[\"記録日\",\"記録時刻\",\"原因\",\"vsidx\",\"risk\"]]"
   ]
  },
  {
   "cell_type": "code",
   "execution_count": null,
   "metadata": {},
   "outputs": [],
   "source": [
    "#dc4r.to_csv(\"D:/ahn_pc/workfile/2021/阪神事故リスク/dc4r04.csv\", index = False, encoding=\"shift_jis\")"
   ]
  },
  {
   "cell_type": "code",
   "execution_count": null,
   "metadata": {},
   "outputs": [],
   "source": [
    "dc4r[~dc4r.duplicated(subset=\"vsidx\")].shape[0]"
   ]
  },
  {
   "cell_type": "code",
   "execution_count": null,
   "metadata": {},
   "outputs": [],
   "source": [
    "def ts(d):\n",
    "    return d.原因.values\n",
    "def ts2(d):\n",
    "    return d.程度.values\n",
    "def ts3(d):\n",
    "    return d.提供フラグ.values"
   ]
  },
  {
   "cell_type": "code",
   "execution_count": null,
   "metadata": {},
   "outputs": [],
   "source": [
    "temp=dc4r.groupby(\"vsidx\").apply(ts)\n",
    "temp2=dc4r.groupby(\"vsidx\").apply(ts2)\n",
    "temp3=dc4r.groupby(\"vsidx\").apply(ts3)"
   ]
  },
  {
   "cell_type": "code",
   "execution_count": null,
   "metadata": {},
   "outputs": [],
   "source": [
    "dc5 = pd.DataFrame(temp)"
   ]
  },
  {
   "cell_type": "code",
   "execution_count": null,
   "metadata": {},
   "outputs": [],
   "source": [
    "dc5[\"vsidx\"]=dc5.index"
   ]
  },
  {
   "cell_type": "code",
   "execution_count": null,
   "metadata": {},
   "outputs": [],
   "source": [
    "dc5[\"gen\"]=dc5[0]"
   ]
  },
  {
   "cell_type": "code",
   "execution_count": null,
   "metadata": {},
   "outputs": [],
   "source": [
    "dc5[\"tei\"]=temp2"
   ]
  },
  {
   "cell_type": "code",
   "execution_count": null,
   "metadata": {},
   "outputs": [],
   "source": [
    "dc5[\"flg\"]=temp3"
   ]
  },
  {
   "cell_type": "code",
   "execution_count": null,
   "metadata": {},
   "outputs": [],
   "source": [
    "del dc5[0]"
   ]
  },
  {
   "cell_type": "code",
   "execution_count": null,
   "metadata": {},
   "outputs": [],
   "source": [
    "dc5.shape[0]"
   ]
  },
  {
   "cell_type": "code",
   "execution_count": null,
   "metadata": {},
   "outputs": [],
   "source": [
    "vsidx=dc5.vsidx.values\n",
    "gen=dc5.gen.values\n",
    "tei=dc5.tei.values\n",
    "flg=dc5.flg.values"
   ]
  },
  {
   "cell_type": "code",
   "execution_count": null,
   "metadata": {},
   "outputs": [],
   "source": [
    "cnt=[]\n",
    "cntstr=[]\n",
    "for i in range(gen.shape[0]):\n",
    "#for i in range(3):\n",
    "    ri2p=0\n",
    "    ri2n=0\n",
    "    ri3p=0\n",
    "    ri3n=0\n",
    "    nori=0\n",
    "    nostr=[]\n",
    "    for j in range(gen[i].shape[0]):\n",
    "        if gen[i][j]==\"リスク\":\n",
    "            if tei[i][j]==\"リスク２\":\n",
    "                if flg[i][j]==1:\n",
    "                    ri2p=ri2p+1\n",
    "                else:\n",
    "                    ri2n=ri2n+1\n",
    "            else:\n",
    "                if flg[i][j]==1:\n",
    "                    ri3p=ri3p+1\n",
    "                else:\n",
    "                    ri3n=ri3n+1\n",
    "        else:\n",
    "            if flg[i][j]==1:\n",
    "                nori=nori+1\n",
    "                nostr.append(gen[i][j])\n",
    "    cnt.append([vsidx[i],ri2p,ri2n,ri3p,ri3n,nori])\n",
    "    cntstr.append(nostr)"
   ]
  },
  {
   "cell_type": "code",
   "execution_count": null,
   "metadata": {},
   "outputs": [],
   "source": [
    "cntd = pd.DataFrame(cnt)"
   ]
  },
  {
   "cell_type": "code",
   "execution_count": null,
   "metadata": {},
   "outputs": [],
   "source": [
    "cntd[\"gen\"]=cntstr"
   ]
  },
  {
   "cell_type": "code",
   "execution_count": null,
   "metadata": {},
   "outputs": [],
   "source": [
    "#tt = dc4r[dc4r.vsidx==\"14_00:23_158\"].iloc[:,5:]"
   ]
  },
  {
   "cell_type": "code",
   "execution_count": null,
   "metadata": {},
   "outputs": [],
   "source": [
    "#tt.shape[0]"
   ]
  },
  {
   "cell_type": "code",
   "execution_count": null,
   "metadata": {},
   "outputs": [],
   "source": [
    "#tt[~tt.duplicated()].shape[0]"
   ]
  },
  {
   "cell_type": "code",
   "execution_count": null,
   "metadata": {},
   "outputs": [],
   "source": [
    "cntd[cntd[5]>1]"
   ]
  },
  {
   "cell_type": "code",
   "execution_count": null,
   "metadata": {},
   "outputs": [],
   "source": [
    "cntd[\"vsidx\"]=cntd[0]"
   ]
  },
  {
   "cell_type": "code",
   "execution_count": null,
   "metadata": {},
   "outputs": [],
   "source": [
    "cntd.shape[0]"
   ]
  },
  {
   "cell_type": "code",
   "execution_count": null,
   "metadata": {},
   "outputs": [],
   "source": [
    "df = pd.merge(dc4r,cntd, on=\"vsidx\", how=\"left\")"
   ]
  },
  {
   "cell_type": "code",
   "execution_count": null,
   "metadata": {},
   "outputs": [],
   "source": [
    "df.shape[0]"
   ]
  },
  {
   "cell_type": "code",
   "execution_count": null,
   "metadata": {},
   "outputs": [],
   "source": [
    "#del dc4,dc4r"
   ]
  },
  {
   "cell_type": "code",
   "execution_count": null,
   "metadata": {},
   "outputs": [],
   "source": [
    "df2=df[~df.duplicated(subset=\"vsidx\")]"
   ]
  },
  {
   "cell_type": "code",
   "execution_count": null,
   "metadata": {},
   "outputs": [],
   "source": [
    "df2.shape[0]"
   ]
  },
  {
   "cell_type": "code",
   "execution_count": null,
   "metadata": {},
   "outputs": [],
   "source": [
    "df2"
   ]
  },
  {
   "cell_type": "code",
   "execution_count": null,
   "metadata": {},
   "outputs": [],
   "source": [
    "df2.to_csv(\"D:/ahn_pc/workfile/2021/阪神事故リスク/df2_10.csv\", index = False, encoding=\"shift_jis\")"
   ]
  },
  {
   "cell_type": "code",
   "execution_count": null,
   "metadata": {},
   "outputs": [],
   "source": [
    "df2 = pd.read_csv(\"D:/ahn_pc/workfile/2021/阪神事故リスク/df2_10.csv\", encoding=\"shift_jis\")"
   ]
  },
  {
   "cell_type": "code",
   "execution_count": null,
   "metadata": {},
   "outputs": [],
   "source": []
  },
  {
   "cell_type": "code",
   "execution_count": null,
   "metadata": {},
   "outputs": [],
   "source": [
    "df2[\"tidx\"]=df2.記録年.astype(str)+\"-\"+df2.記録月.astype(str)+\"-\"+df2.記録日.astype(str)+\" \"+df2.記録時刻+\":00\""
   ]
  },
  {
   "cell_type": "code",
   "execution_count": null,
   "metadata": {},
   "outputs": [],
   "source": [
    "df2[\"tidx5m\"]=pd.to_datetime(df2.tidx).dt.floor(\"5T\")"
   ]
  },
  {
   "cell_type": "code",
   "execution_count": null,
   "metadata": {},
   "outputs": [],
   "source": [
    "df2[pd.isna(df2.jdp)]"
   ]
  },
  {
   "cell_type": "code",
   "execution_count": null,
   "metadata": {},
   "outputs": [],
   "source": [
    "df2[\"idx\"]=df2.tidx5m.astype(str)+\"_\"+df2.jdp.astype(int).astype(str)"
   ]
  },
  {
   "cell_type": "code",
   "execution_count": null,
   "metadata": {},
   "outputs": [],
   "source": [
    "df2[\"upidx\"]=df2.tidx5m.astype(str)+\"_\"+df2.jdpup1.astype(int).astype(str)"
   ]
  },
  {
   "cell_type": "code",
   "execution_count": null,
   "metadata": {},
   "outputs": [],
   "source": []
  },
  {
   "cell_type": "code",
   "execution_count": null,
   "metadata": {},
   "outputs": [],
   "source": [
    "dff = pd.read_csv(\"D:/ahn_pc/workfile/2021/阪神事故リスク/result/dff10.csv\", encoding=\"shift_jis\")"
   ]
  },
  {
   "cell_type": "code",
   "execution_count": null,
   "metadata": {},
   "outputs": [],
   "source": [
    "dff.columns"
   ]
  },
  {
   "cell_type": "code",
   "execution_count": null,
   "metadata": {},
   "outputs": [],
   "source": [
    "dff[\"idx\"]=dff.idx.str[:19]+\"_\"+dff.JDP番号.astype(str)"
   ]
  },
  {
   "cell_type": "code",
   "execution_count": null,
   "metadata": {},
   "outputs": [],
   "source": [
    "dff2=dff[pd.isna(dff.エラー)]"
   ]
  },
  {
   "cell_type": "code",
   "execution_count": null,
   "metadata": {},
   "outputs": [],
   "source": [
    "dff3=dff2[dff2.速度<200]"
   ]
  },
  {
   "cell_type": "code",
   "execution_count": null,
   "metadata": {},
   "outputs": [],
   "source": [
    "dffup=dff3.loc[:,[\"idx\",\"区間長\",\"速度\",\"交通量\",\"渋滞\",\"事故\"]]"
   ]
  },
  {
   "cell_type": "code",
   "execution_count": null,
   "metadata": {},
   "outputs": [],
   "source": [
    "dffup.columns=[\"upidx\",\"区間長up\",\"速度up\",\"交通量up\",\"渋滞up\",\"事故up\"]"
   ]
  },
  {
   "cell_type": "code",
   "execution_count": null,
   "metadata": {},
   "outputs": [],
   "source": [
    "dffup"
   ]
  },
  {
   "cell_type": "code",
   "execution_count": null,
   "metadata": {},
   "outputs": [],
   "source": [
    "dm = pd.merge(df2,dff3, on=\"idx\", how=\"left\")"
   ]
  },
  {
   "cell_type": "code",
   "execution_count": null,
   "metadata": {},
   "outputs": [],
   "source": [
    "#dm.iloc[:5,35:]"
   ]
  },
  {
   "cell_type": "code",
   "execution_count": null,
   "metadata": {},
   "outputs": [],
   "source": [
    "dm2 = pd.merge(dm,dffup, on=\"upidx\", how=\"left\")"
   ]
  },
  {
   "cell_type": "code",
   "execution_count": null,
   "metadata": {},
   "outputs": [],
   "source": [
    "dm2"
   ]
  },
  {
   "cell_type": "code",
   "execution_count": null,
   "metadata": {},
   "outputs": [],
   "source": [
    "dm2.to_csv(\"D:/ahn_pc/workfile/2021/阪神事故リスク/dm2_10.csv\", index = False, encoding=\"shift_jis\")"
   ]
  },
  {
   "cell_type": "code",
   "execution_count": null,
   "metadata": {},
   "outputs": [],
   "source": []
  },
  {
   "cell_type": "code",
   "execution_count": null,
   "metadata": {},
   "outputs": [],
   "source": []
  },
  {
   "cell_type": "code",
   "execution_count": null,
   "metadata": {},
   "outputs": [],
   "source": []
  },
  {
   "cell_type": "code",
   "execution_count": null,
   "metadata": {},
   "outputs": [],
   "source": []
  },
  {
   "cell_type": "code",
   "execution_count": null,
   "metadata": {},
   "outputs": [],
   "source": []
  },
  {
   "cell_type": "code",
   "execution_count": null,
   "metadata": {},
   "outputs": [],
   "source": []
  },
  {
   "cell_type": "code",
   "execution_count": null,
   "metadata": {},
   "outputs": [],
   "source": []
  },
  {
   "cell_type": "code",
   "execution_count": null,
   "metadata": {},
   "outputs": [],
   "source": []
  },
  {
   "cell_type": "code",
   "execution_count": null,
   "metadata": {},
   "outputs": [],
   "source": []
  },
  {
   "cell_type": "code",
   "execution_count": null,
   "metadata": {},
   "outputs": [],
   "source": [
    "df[df.vsidx==\"4_00:03_11\"].loc[:,\"原因\"]"
   ]
  },
  {
   "cell_type": "code",
   "execution_count": null,
   "metadata": {},
   "outputs": [],
   "source": [
    "df2 = df[~df.duplicated(subset=\"vsidx\")]"
   ]
  },
  {
   "cell_type": "code",
   "execution_count": null,
   "metadata": {},
   "outputs": [],
   "source": [
    "df2.iloc[1,:]"
   ]
  },
  {
   "cell_type": "code",
   "execution_count": null,
   "metadata": {},
   "outputs": [],
   "source": [
    "dc4r"
   ]
  },
  {
   "cell_type": "code",
   "execution_count": null,
   "metadata": {},
   "outputs": [],
   "source": []
  },
  {
   "cell_type": "code",
   "execution_count": null,
   "metadata": {},
   "outputs": [],
   "source": []
  },
  {
   "cell_type": "code",
   "execution_count": null,
   "metadata": {},
   "outputs": [],
   "source": []
  },
  {
   "cell_type": "code",
   "execution_count": null,
   "metadata": {},
   "outputs": [],
   "source": []
  },
  {
   "cell_type": "code",
   "execution_count": null,
   "metadata": {},
   "outputs": [],
   "source": []
  },
  {
   "cell_type": "code",
   "execution_count": null,
   "metadata": {},
   "outputs": [],
   "source": []
  },
  {
   "cell_type": "code",
   "execution_count": null,
   "metadata": {},
   "outputs": [],
   "source": []
  },
  {
   "cell_type": "code",
   "execution_count": null,
   "metadata": {},
   "outputs": [],
   "source": [
    "temp2 = dc4r[[\"vsidx\",\"indx\"]].groupby(\"vsidx\").count()"
   ]
  },
  {
   "cell_type": "code",
   "execution_count": null,
   "metadata": {},
   "outputs": [],
   "source": [
    "temp2[temp2.indx>5]"
   ]
  },
  {
   "cell_type": "code",
   "execution_count": null,
   "metadata": {},
   "outputs": [],
   "source": [
    "temp = dc4r[(dc4r.vsidx==\"10_12:52_368\")|(dc4r.vsidx==\"9_23:37_545\")]"
   ]
  },
  {
   "cell_type": "code",
   "execution_count": null,
   "metadata": {},
   "outputs": [],
   "source": [
    "def ts(d):\n",
    "    return d.原因.values\n",
    "def ts2(d):\n",
    "    return d.提供フラグ.values"
   ]
  },
  {
   "cell_type": "code",
   "execution_count": null,
   "metadata": {},
   "outputs": [],
   "source": [
    "temp2 = temp.groupby(\"vsidx\").apply(ts)\n",
    "temp3 = temp.groupby(\"vsidx\").apply(ts2)"
   ]
  },
  {
   "cell_type": "code",
   "execution_count": null,
   "metadata": {},
   "outputs": [],
   "source": [
    "print(temp2)\n",
    "print(temp3)"
   ]
  },
  {
   "cell_type": "code",
   "execution_count": null,
   "metadata": {},
   "outputs": [],
   "source": []
  },
  {
   "cell_type": "code",
   "execution_count": null,
   "metadata": {},
   "outputs": [],
   "source": []
  },
  {
   "cell_type": "code",
   "execution_count": null,
   "metadata": {},
   "outputs": [],
   "source": []
  },
  {
   "cell_type": "code",
   "execution_count": null,
   "metadata": {},
   "outputs": [],
   "source": [
    "tempr = dc4[(dc4.risk==1)&(dc4.原因==\"リスク\")]"
   ]
  },
  {
   "cell_type": "code",
   "execution_count": null,
   "metadata": {},
   "outputs": [],
   "source": [
    "tempnr = dc4[(dc4.risk==1)&(dc4.原因!=\"リスク\")]"
   ]
  },
  {
   "cell_type": "code",
   "execution_count": null,
   "metadata": {},
   "outputs": [],
   "source": [
    "temp.shape[0]==tempr.shape[0]+tempnr.shape[0]"
   ]
  },
  {
   "cell_type": "code",
   "execution_count": null,
   "metadata": {},
   "outputs": [],
   "source": [
    "print(tempr.shape[0])\n",
    "print(tempnr.shape[0])\n",
    "print(tempr[tempr.提供フラグ==1].shape[0])\n",
    "print(tempr[tempr.提供フラグ!=1].shape[0])\n",
    "print(tempnr[tempnr.提供フラグ==1].shape[0])\n",
    "print(tempnr[tempnr.提供フラグ!=1].shape[0])"
   ]
  },
  {
   "cell_type": "code",
   "execution_count": null,
   "metadata": {},
   "outputs": [],
   "source": []
  },
  {
   "cell_type": "code",
   "execution_count": null,
   "metadata": {},
   "outputs": [],
   "source": []
  },
  {
   "cell_type": "code",
   "execution_count": null,
   "metadata": {},
   "outputs": [],
   "source": []
  },
  {
   "cell_type": "code",
   "execution_count": null,
   "metadata": {},
   "outputs": [],
   "source": [
    "dc3a = dc3.loc[:,[\"記録日\",\"記録時刻\",\"文字情報板番号\",\"提供フラグ\",\"原因\",\"程度\",\"特記事項\"]]"
   ]
  },
  {
   "cell_type": "code",
   "execution_count": null,
   "metadata": {},
   "outputs": [],
   "source": [
    "dc3b = dc3a[((dc3a.原因==\"リスク\")&(dc3a.提供フラグ!=1))|(dc3a.提供フラグ==1)]"
   ]
  },
  {
   "cell_type": "code",
   "execution_count": null,
   "metadata": {},
   "outputs": [],
   "source": [
    "dc3b"
   ]
  },
  {
   "cell_type": "code",
   "execution_count": null,
   "metadata": {},
   "outputs": [],
   "source": [
    "dc3b[dc3b.提供フラグ!=1]"
   ]
  },
  {
   "cell_type": "code",
   "execution_count": null,
   "metadata": {},
   "outputs": [],
   "source": [
    "dc3amoji2 = dc3a[dc3a.文字情報板番号==17]"
   ]
  },
  {
   "cell_type": "code",
   "execution_count": null,
   "metadata": {},
   "outputs": [],
   "source": []
  },
  {
   "cell_type": "code",
   "execution_count": null,
   "metadata": {},
   "outputs": [],
   "source": []
  },
  {
   "cell_type": "code",
   "execution_count": null,
   "metadata": {},
   "outputs": [],
   "source": []
  },
  {
   "cell_type": "code",
   "execution_count": null,
   "metadata": {},
   "outputs": [],
   "source": []
  },
  {
   "cell_type": "code",
   "execution_count": null,
   "metadata": {},
   "outputs": [],
   "source": []
  },
  {
   "cell_type": "code",
   "execution_count": null,
   "metadata": {},
   "outputs": [],
   "source": [
    "dc2=dc[dc.原因==\"リスク\"]"
   ]
  },
  {
   "cell_type": "code",
   "execution_count": null,
   "metadata": {},
   "outputs": [],
   "source": [
    "dc2"
   ]
  },
  {
   "cell_type": "code",
   "execution_count": null,
   "metadata": {},
   "outputs": [],
   "source": [
    "dc2.to_csv(\"D:/ahn_pc/workfile/2021/阪神事故リスク/moji4.csv\", index = False, encoding=\"shift_jis\")"
   ]
  },
  {
   "cell_type": "code",
   "execution_count": null,
   "metadata": {},
   "outputs": [],
   "source": [
    "dc3=dc2[dc2.提供フラグ==1]"
   ]
  },
  {
   "cell_type": "code",
   "execution_count": null,
   "metadata": {},
   "outputs": [],
   "source": [
    "dc3"
   ]
  },
  {
   "cell_type": "code",
   "execution_count": null,
   "metadata": {},
   "outputs": [],
   "source": [
    "dc3.to_csv(\"D:/ahn_pc/workfile/2021/阪神事故リスク/moji4hyoji.csv\", index = False, encoding=\"shift_jis\")"
   ]
  },
  {
   "cell_type": "code",
   "execution_count": null,
   "metadata": {},
   "outputs": [],
   "source": []
  },
  {
   "cell_type": "code",
   "execution_count": null,
   "metadata": {},
   "outputs": [],
   "source": []
  },
  {
   "cell_type": "code",
   "execution_count": null,
   "metadata": {},
   "outputs": [],
   "source": [
    "dc[\"dtt\"]=dc[\"dt\"]+\" \"+dc[\"tim\"]"
   ]
  },
  {
   "cell_type": "code",
   "execution_count": null,
   "metadata": {},
   "outputs": [],
   "source": [
    "dc[\"dtt2\"] = pd.to_datetime(dc.dtt)"
   ]
  },
  {
   "cell_type": "code",
   "execution_count": null,
   "metadata": {},
   "outputs": [],
   "source": [
    "dtt = pd.DataFrame(dc[dc[\"num\"]==1].dtt2)"
   ]
  },
  {
   "cell_type": "code",
   "execution_count": null,
   "metadata": {},
   "outputs": [],
   "source": [
    "#dtt.dtt=dtt.dtt.astype(str)"
   ]
  },
  {
   "cell_type": "code",
   "execution_count": null,
   "metadata": {},
   "outputs": [],
   "source": [
    "dtt"
   ]
  },
  {
   "cell_type": "code",
   "execution_count": null,
   "metadata": {},
   "outputs": [],
   "source": [
    "occerr = dc[dc.occ>200].drop_duplicates(subset=\"num\")"
   ]
  },
  {
   "cell_type": "code",
   "execution_count": null,
   "metadata": {},
   "outputs": [],
   "source": [
    "occerr"
   ]
  },
  {
   "cell_type": "code",
   "execution_count": null,
   "metadata": {},
   "outputs": [],
   "source": [
    "occerr.to_csv(\"D:/ahn_pc/workfile/2021/阪神事故リスク/occerr4.csv\", index = False)"
   ]
  },
  {
   "cell_type": "code",
   "execution_count": null,
   "metadata": {},
   "outputs": [],
   "source": []
  },
  {
   "cell_type": "code",
   "execution_count": null,
   "metadata": {},
   "outputs": [],
   "source": [
    "kens = pd.read_csv(\"D:/ahn_pc/workfile/2021/阪神事故リスク/kenchiki_s2.csv\", header=None, encoding=\"shift_jis\")"
   ]
  },
  {
   "cell_type": "code",
   "execution_count": null,
   "metadata": {},
   "outputs": [],
   "source": [
    "kens.columns=[\"num\"]"
   ]
  },
  {
   "cell_type": "code",
   "execution_count": null,
   "metadata": {},
   "outputs": [],
   "source": [
    "kens"
   ]
  },
  {
   "cell_type": "code",
   "execution_count": null,
   "metadata": {},
   "outputs": [],
   "source": []
  },
  {
   "cell_type": "code",
   "execution_count": null,
   "metadata": {},
   "outputs": [],
   "source": [
    "sec = pd.read_csv(\"D:/ahn_pc/workfile/2021/阪神事故リスク/section_add.csv\", encoding=\"shift_jis\")\n",
    "#jdp = pd.read_csv(\"D:/ahn_pc/workfile/2021/阪神事故リスク/JDP2.csv\", encoding=\"shift_jis\")"
   ]
  },
  {
   "cell_type": "code",
   "execution_count": null,
   "metadata": {},
   "outputs": [],
   "source": [
    "#jdpd = jdp.loc[:,[\"JDP番号\",\"JDP担当範囲\",\"渋滞検知器番号1\",\"渋滞検知器番号2\",\"渋滞検知器番号3\",\"渋滞検知器番号4\",\"区間番号\"]]"
   ]
  },
  {
   "cell_type": "code",
   "execution_count": null,
   "metadata": {},
   "outputs": [],
   "source": [
    "noken = sec[pd.isna(sec.検知器番号1)].区間番号"
   ]
  },
  {
   "cell_type": "code",
   "execution_count": null,
   "metadata": {},
   "outputs": [],
   "source": [
    "noken.to_csv(\"D:/ahn_pc/workfile/2021/阪神事故リスク/noken.csv\", index = False)"
   ]
  },
  {
   "cell_type": "code",
   "execution_count": null,
   "metadata": {},
   "outputs": [],
   "source": [
    "dc"
   ]
  },
  {
   "cell_type": "code",
   "execution_count": null,
   "metadata": {},
   "outputs": [],
   "source": [
    "sec"
   ]
  },
  {
   "cell_type": "code",
   "execution_count": null,
   "metadata": {},
   "outputs": [],
   "source": [
    "sec_n = sec.区間番号\n",
    "sec_1 = sec.検知器番号1\n",
    "sec_2 = sec.検知器番号2\n",
    "sec_3 = sec.検知器番号3\n",
    "sec_4 = sec.検知器番号4\n",
    "\n",
    "df = []\n",
    "dtt[\"sec\"] = 0\n",
    "\n",
    "for idx in range(sec.shape[0]):\n",
    "#for idx in range(5):\n",
    "    secn = sec_n.values[idx]\n",
    "    dtt[\"sec\"] = secn\n",
    "    \n",
    "    tempc=[]\n",
    "    temp1 = dc[dc[\"num\"]==sec_1.values[idx]]\n",
    "    tempc = pd.merge(dtt,temp1, on=\"dtt2\")\n",
    "    \n",
    "    print(temp1)\n",
    "    print(tempc)\n",
    "    \n",
    "    if pd.notna(sec_2.values[idx]):\n",
    "        temp2 = dc[dc[\"num\"]==sec_2.values[idx]]\n",
    "        tempc = pd.merge(tempc,temp2, on=\"dtt2\")\n",
    "    \n",
    "    if pd.notna(sec_3.values[idx]):\n",
    "        temp3 = dc[dc[\"num\"]==sec_3.values[idx]]\n",
    "        tempc = pd.merge(tempc,temp3, on=\"dtt2\")\n",
    "    \n",
    "    if pd.notna(sec_4.values[idx]):\n",
    "        temp4 = dc[dc[\"num\"]==sec_4.values[idx]]\n",
    "        tempc = pd.merge(tempc,temp4, on=\"dtt2\")\n",
    "    \n",
    "    tempv = tempc.values\n",
    "    tempd = pd.DataFrame(tempv)\n",
    "    print(tempd)\n",
    "    df.append(tempd)"
   ]
  },
  {
   "cell_type": "code",
   "execution_count": null,
   "metadata": {},
   "outputs": [],
   "source": [
    "#dc[dc[\"num\"]==sec_1.values[0]]\n",
    "#dc[dc[\"num\"]==2508]"
   ]
  },
  {
   "cell_type": "code",
   "execution_count": null,
   "metadata": {},
   "outputs": [],
   "source": [
    "dfc = pd.concat(df, axis = 0, ignore_index=True)"
   ]
  },
  {
   "cell_type": "code",
   "execution_count": null,
   "metadata": {},
   "outputs": [],
   "source": [
    "dfc[dfc[1]==333]"
   ]
  },
  {
   "cell_type": "code",
   "execution_count": null,
   "metadata": {},
   "outputs": [],
   "source": [
    "dfc.iloc[0,:]"
   ]
  },
  {
   "cell_type": "code",
   "execution_count": null,
   "metadata": {},
   "outputs": [],
   "source": [
    "trf = dfc[6].values.tolist()\n",
    "trf1 = dfc[6].values.tolist()\n",
    "trf2 = dfc[16].values.tolist()\n",
    "trf3 = dfc[26].values.tolist()\n",
    "trf4 = dfc[36].values.tolist()"
   ]
  },
  {
   "cell_type": "code",
   "execution_count": null,
   "metadata": {},
   "outputs": [],
   "source": [
    "len(trf1)"
   ]
  },
  {
   "cell_type": "code",
   "execution_count": null,
   "metadata": {},
   "outputs": [],
   "source": [
    "for i in range(len(trf1)):\n",
    "#for i in range(11):\n",
    "    if not pd.isna(trf2[i]):\n",
    "        #print(trf2[i])\n",
    "        if not pd.isna(trf3[i]):\n",
    "            #rint(trf3[i])\n",
    "            if not pd.isna(trf4[i]):\n",
    "                trf[i]=trf1[i]+trf2[i]+trf3[i]+trf4[i]\n",
    "            else:\n",
    "                trf[i]=trf1[i]+trf2[i]+trf3[i]\n",
    "        else:\n",
    "            trf[i]=trf1[i]+trf2[i]\n",
    "    else:\n",
    "        trf[i]=trf1[i]"
   ]
  },
  {
   "cell_type": "code",
   "execution_count": null,
   "metadata": {},
   "outputs": [],
   "source": [
    "dfc.insert(1,\"trf\",trf)"
   ]
  },
  {
   "cell_type": "code",
   "execution_count": null,
   "metadata": {},
   "outputs": [],
   "source": [
    "dfc[dfc[1]==333]"
   ]
  },
  {
   "cell_type": "code",
   "execution_count": null,
   "metadata": {},
   "outputs": [],
   "source": [
    "dfc"
   ]
  },
  {
   "cell_type": "code",
   "execution_count": null,
   "metadata": {},
   "outputs": [],
   "source": [
    "temp=dfc[dfc[8]>65500][1]"
   ]
  },
  {
   "cell_type": "code",
   "execution_count": null,
   "metadata": {},
   "outputs": [],
   "source": [
    "temp"
   ]
  },
  {
   "cell_type": "code",
   "execution_count": null,
   "metadata": {},
   "outputs": [],
   "source": [
    "temp[temp!=518]"
   ]
  },
  {
   "cell_type": "code",
   "execution_count": null,
   "metadata": {},
   "outputs": [],
   "source": [
    "dfcidx = dfc.iloc[:,:3]"
   ]
  },
  {
   "cell_type": "code",
   "execution_count": null,
   "metadata": {},
   "outputs": [],
   "source": [
    "dfcidx[dfcidx[1]==333]"
   ]
  },
  {
   "cell_type": "code",
   "execution_count": null,
   "metadata": {},
   "outputs": [],
   "source": [
    "dfcidx.insert(0,\"idx\",dfcidx[0].astype(str)+\"_\"+dfcidx[1].astype(str))"
   ]
  },
  {
   "cell_type": "code",
   "execution_count": null,
   "metadata": {},
   "outputs": [],
   "source": [
    "dfcidx"
   ]
  },
  {
   "cell_type": "code",
   "execution_count": null,
   "metadata": {},
   "outputs": [],
   "source": [
    "#ttt3 = dfcidx[dfcidx[0]==\"2021-04-30 11:10:00\"]"
   ]
  },
  {
   "cell_type": "code",
   "execution_count": null,
   "metadata": {},
   "outputs": [],
   "source": [
    "#ttt3[ttt3[1]==27]"
   ]
  },
  {
   "cell_type": "code",
   "execution_count": null,
   "metadata": {},
   "outputs": [],
   "source": [
    "dfcidx[dfcidx[1]==333]"
   ]
  },
  {
   "cell_type": "code",
   "execution_count": null,
   "metadata": {},
   "outputs": [],
   "source": [
    "dfcidx[pd.isna(dfcidx.trf)]"
   ]
  },
  {
   "cell_type": "code",
   "execution_count": null,
   "metadata": {},
   "outputs": [],
   "source": [
    "jdp = pd.read_csv(\"D:/ahn_pc/workfile/2021/阪神事故リスク/JDP3.csv\", encoding=\"shift_jis\")"
   ]
  },
  {
   "cell_type": "code",
   "execution_count": null,
   "metadata": {},
   "outputs": [],
   "source": [
    "jdp"
   ]
  },
  {
   "cell_type": "code",
   "execution_count": null,
   "metadata": {},
   "outputs": [],
   "source": [
    "jdpd = jdp.loc[:,[\"JDP番号\",\"地区名\",\"JDP担当範囲\",\"渋滞検知器番号1\",\"渋滞検知器番号2\",\"渋滞検知器番号3\",\"渋滞検知器番号4\",\"区間番号修正\"]]"
   ]
  },
  {
   "cell_type": "code",
   "execution_count": null,
   "metadata": {},
   "outputs": [],
   "source": [
    "dtt2 = pd.DataFrame(dc[dc[\"num\"]==1].dtt2)"
   ]
  },
  {
   "cell_type": "code",
   "execution_count": null,
   "metadata": {},
   "outputs": [],
   "source": [
    "jdpd_j = jdpd.JDP番号\n",
    "jdpd_l = jdpd.地区名\n",
    "jdpd_s = jdpd.区間番号修正\n",
    "jdpd_km = jdpd.JDP担当範囲\n",
    "jdpd_1 = jdpd.渋滞検知器番号1\n",
    "jdpd_2 = jdpd.渋滞検知器番号2\n",
    "jdpd_3 = jdpd.渋滞検知器番号3\n",
    "jdpd_4 = jdpd.渋滞検知器番号4\n",
    "\n",
    "df2 = []\n",
    "dtt2[\"loca\"] = 0\n",
    "dtt2[\"jdp\"] = 0\n",
    "dtt2[\"secn\"] = 0\n",
    "\n",
    "for idx in range(jdpd.shape[0]):\n",
    "#for idx in range(5):\n",
    "    jdn = jdpd_j.values[idx]\n",
    "    loca = jdpd_l.values[idx]\n",
    "    secn = jdpd_s.values[idx]\n",
    "    kmn = jdpd_km.values[idx]\n",
    "    #jdn = jdp.JDP番号[idx]\n",
    "    #secn = jdp.区間番号[idx]\n",
    "    \n",
    "    dtt2[\"jdp\"] = jdn\n",
    "    dtt2[\"loca\"] = loca\n",
    "    dtt2[\"secn\"] = secn\n",
    "    dtt2[\"kmn\"] = kmn\n",
    "    \n",
    "    tempc=[]\n",
    "    temp1 = dc[dc[\"num\"]==jdpd_1.values[idx]]\n",
    "    tempc = pd.merge(dtt2,temp1, on=\"dtt2\")\n",
    "    \n",
    "    if pd.notna(jdpd_2.values[idx]):\n",
    "        temp2 = dc[dc[\"num\"]==jdpd_2.values[idx]]\n",
    "        tempc = pd.merge(tempc,temp2, on=\"dtt2\")\n",
    "    \n",
    "    if pd.notna(jdpd_3.values[idx]):\n",
    "        temp3 = dc[dc[\"num\"]==jdpd_3.values[idx]]\n",
    "        tempc = pd.merge(tempc,temp3, on=\"dtt2\")\n",
    "    \n",
    "    if pd.notna(jdpd_4.values[idx]):\n",
    "        temp4 = dc[dc[\"num\"]==jdpd_4.values[idx]]\n",
    "        tempc = pd.merge(tempc,temp4, on=\"dtt2\")\n",
    "    \n",
    "    tempv = tempc.values\n",
    "    tempd = pd.DataFrame(tempv)\n",
    "    df2.append(tempd)"
   ]
  },
  {
   "cell_type": "code",
   "execution_count": null,
   "metadata": {},
   "outputs": [],
   "source": [
    "dfc2 = pd.concat(df2, axis = 0, ignore_index=True)"
   ]
  },
  {
   "cell_type": "code",
   "execution_count": null,
   "metadata": {},
   "outputs": [],
   "source": [
    "dfc2[dfc2[2]==333]"
   ]
  },
  {
   "cell_type": "code",
   "execution_count": null,
   "metadata": {},
   "outputs": [],
   "source": [
    "dfc2"
   ]
  },
  {
   "cell_type": "code",
   "execution_count": null,
   "metadata": {},
   "outputs": [],
   "source": [
    "dfc2.insert(0,\"idx\",dfc2[0].astype(str)+\"_\"+dfc2[2].astype(str))"
   ]
  },
  {
   "cell_type": "code",
   "execution_count": null,
   "metadata": {},
   "outputs": [],
   "source": [
    "dfc2"
   ]
  },
  {
   "cell_type": "code",
   "execution_count": null,
   "metadata": {},
   "outputs": [],
   "source": []
  },
  {
   "cell_type": "code",
   "execution_count": null,
   "metadata": {},
   "outputs": [],
   "source": [
    "dfinal = pd.merge(dfc2,dfcidx, on=\"idx\", how=\"left\")"
   ]
  },
  {
   "cell_type": "code",
   "execution_count": null,
   "metadata": {},
   "outputs": [],
   "source": [
    "dfinal"
   ]
  },
  {
   "cell_type": "code",
   "execution_count": null,
   "metadata": {},
   "outputs": [],
   "source": [
    "#ttt = dfinal[dfinal[\"0_x\"]==\"2021-04-30 11:10:00\"]\n",
    "#ttt2 = dfc2[dfc2[0]==\"2021-04-30 11:10:00\"]"
   ]
  },
  {
   "cell_type": "code",
   "execution_count": null,
   "metadata": {},
   "outputs": [],
   "source": [
    "#ttt[ttt[\"1_x\"]==35]\n",
    "#ttt2[ttt2[1]==35]"
   ]
  },
  {
   "cell_type": "code",
   "execution_count": null,
   "metadata": {},
   "outputs": [],
   "source": [
    "test=dfinal[pd.isna(dfinal[\"1_y\"])].drop_duplicates(subset=\"1_x\")"
   ]
  },
  {
   "cell_type": "code",
   "execution_count": null,
   "metadata": {},
   "outputs": [],
   "source": [
    "test"
   ]
  },
  {
   "cell_type": "code",
   "execution_count": null,
   "metadata": {},
   "outputs": [],
   "source": []
  },
  {
   "cell_type": "code",
   "execution_count": null,
   "metadata": {},
   "outputs": [],
   "source": [
    "cong = pd.read_csv(\"D:/ahn_pc/workfile/2021/阪神事故リスク/cong04.csv\", encoding=\"shift_jis\")"
   ]
  },
  {
   "cell_type": "code",
   "execution_count": null,
   "metadata": {},
   "outputs": [],
   "source": [
    "cong"
   ]
  },
  {
   "cell_type": "code",
   "execution_count": null,
   "metadata": {},
   "outputs": [],
   "source": [
    "congd = cong.loc[:,[\"idx\",\"cong\"]]"
   ]
  },
  {
   "cell_type": "code",
   "execution_count": null,
   "metadata": {},
   "outputs": [],
   "source": [
    "congd"
   ]
  },
  {
   "cell_type": "code",
   "execution_count": null,
   "metadata": {},
   "outputs": [],
   "source": [
    "dfinal2 = pd.merge(dfinal,congd, on=\"idx\", how=\"left\")"
   ]
  },
  {
   "cell_type": "code",
   "execution_count": null,
   "metadata": {},
   "outputs": [],
   "source": [
    "dfinal2"
   ]
  },
  {
   "cell_type": "code",
   "execution_count": null,
   "metadata": {},
   "outputs": [],
   "source": [
    "dfinal2.to_csv(\"D:/ahn_pc/workfile/2021/阪神事故リスク/dfinal4.csv\", index = False)"
   ]
  },
  {
   "cell_type": "code",
   "execution_count": null,
   "metadata": {},
   "outputs": [],
   "source": [
    "dfinal2 = pd.read_csv(\"D:/ahn_pc/workfile/2021/阪神事故リスク/dfinal4.csv\", encoding=\"shift_jis\")"
   ]
  },
  {
   "cell_type": "code",
   "execution_count": null,
   "metadata": {},
   "outputs": [],
   "source": []
  },
  {
   "cell_type": "code",
   "execution_count": null,
   "metadata": {},
   "outputs": [],
   "source": [
    "acc = pd.read_csv(\"D:/ahn_pc/workfile/2021/阪神事故リスク/accident.csv\", encoding=\"shift_jis\")"
   ]
  },
  {
   "cell_type": "code",
   "execution_count": null,
   "metadata": {},
   "outputs": [],
   "source": [
    "accd = acc.loc[:,[\"idx\",\"天候\",\"事故の形態\",\"交通状態\",\"発生日_曜日\",\"曜日種別E（営業）\"]]"
   ]
  },
  {
   "cell_type": "code",
   "execution_count": null,
   "metadata": {},
   "outputs": [],
   "source": [
    "accd[\"acci\"]=1"
   ]
  },
  {
   "cell_type": "code",
   "execution_count": null,
   "metadata": {},
   "outputs": [],
   "source": [
    "accd"
   ]
  },
  {
   "cell_type": "code",
   "execution_count": null,
   "metadata": {},
   "outputs": [],
   "source": [
    "dfinal3 = pd.merge(dfinal2,accd, on=\"idx\", how=\"left\")"
   ]
  },
  {
   "cell_type": "code",
   "execution_count": null,
   "metadata": {},
   "outputs": [],
   "source": [
    "dfinal3"
   ]
  },
  {
   "cell_type": "code",
   "execution_count": null,
   "metadata": {},
   "outputs": [],
   "source": [
    "dfinal3.to_csv(\"D:/ahn_pc/workfile/2021/阪神事故リスク/dfinal4_2.csv\", index = False)"
   ]
  },
  {
   "cell_type": "code",
   "execution_count": null,
   "metadata": {},
   "outputs": [],
   "source": [
    "#dfinal3 = pd.read_csv(\"D:/ahn_pc/workfile/2021/阪神事故リスク/dfinal4_2.csv\", encoding=\"shift_jis\")\n",
    "dfinal3 = pd.read_csv(\"D:/ahn_pc/workfile/2021/阪神事故リスク/dfinal4_2.csv\")"
   ]
  },
  {
   "cell_type": "code",
   "execution_count": null,
   "metadata": {},
   "outputs": [],
   "source": []
  },
  {
   "cell_type": "code",
   "execution_count": null,
   "metadata": {},
   "outputs": [],
   "source": [
    "dfinal3[\"tm\"]=pd.to_datetime(dfinal3[\"0_x\"])"
   ]
  },
  {
   "cell_type": "code",
   "execution_count": null,
   "metadata": {},
   "outputs": [],
   "source": [
    "dfinal3[\"week\"]=dfinal3.tm.dt.weekday"
   ]
  },
  {
   "cell_type": "code",
   "execution_count": null,
   "metadata": {},
   "outputs": [],
   "source": [
    "dfinal3[\"wcode\"]=1"
   ]
  },
  {
   "cell_type": "code",
   "execution_count": null,
   "metadata": {},
   "outputs": [],
   "source": [
    "#dc2.loc[(dfinal3.week>4)|(dc2.JDP状態==\"A\")|(dc2.JDP状態==\"D\"),\"cong\"]=2\n",
    "dfinal3.loc[(dfinal3.week==5),\"wcode\"]=2\n",
    "dfinal3.loc[(dfinal3.week==6),\"wcode\"]=3"
   ]
  },
  {
   "cell_type": "code",
   "execution_count": null,
   "metadata": {},
   "outputs": [],
   "source": [
    "dfinal3[\"hour\"]=dfinal3.tm.dt.hour"
   ]
  },
  {
   "cell_type": "code",
   "execution_count": null,
   "metadata": {},
   "outputs": [],
   "source": [
    "dfinal3[\"hcode\"]=2"
   ]
  },
  {
   "cell_type": "code",
   "execution_count": null,
   "metadata": {},
   "outputs": [],
   "source": [
    "dfinal3.loc[(dfinal3.hour>6)&(dfinal3.hour<20),\"hcode\"]=1"
   ]
  },
  {
   "cell_type": "code",
   "execution_count": null,
   "metadata": {},
   "outputs": [],
   "source": []
  },
  {
   "cell_type": "code",
   "execution_count": null,
   "metadata": {},
   "outputs": [],
   "source": [
    "dfinal3[\"dy\"]=pd.to_datetime(dfinal3[5])"
   ]
  },
  {
   "cell_type": "code",
   "execution_count": null,
   "metadata": {},
   "outputs": [],
   "source": [
    "dfinal3.dy"
   ]
  },
  {
   "cell_type": "code",
   "execution_count": null,
   "metadata": {},
   "outputs": [],
   "source": [
    "kyu = pd.read_csv(\"D:/ahn_pc/workfile/2021/阪神事故リスク/kyujitsu_2021.csv\", header=None)"
   ]
  },
  {
   "cell_type": "code",
   "execution_count": null,
   "metadata": {},
   "outputs": [],
   "source": [
    "kyu[\"dy\"]=pd.to_datetime(kyu[0])"
   ]
  },
  {
   "cell_type": "code",
   "execution_count": null,
   "metadata": {},
   "outputs": [],
   "source": [
    "kyu[\"kcode\"]=1"
   ]
  },
  {
   "cell_type": "code",
   "execution_count": null,
   "metadata": {},
   "outputs": [],
   "source": [
    "kyu.dy"
   ]
  },
  {
   "cell_type": "code",
   "execution_count": null,
   "metadata": {},
   "outputs": [],
   "source": [
    "dfinal4 = pd.merge(dfinal3,kyu, on=\"dy\", how=\"left\")"
   ]
  },
  {
   "cell_type": "code",
   "execution_count": null,
   "metadata": {},
   "outputs": [],
   "source": [
    "dfinal4"
   ]
  },
  {
   "cell_type": "code",
   "execution_count": null,
   "metadata": {},
   "outputs": [],
   "source": [
    "dfinal4[~pd.isna(dfinal4.kcode)].kcode"
   ]
  },
  {
   "cell_type": "code",
   "execution_count": null,
   "metadata": {},
   "outputs": [],
   "source": [
    "dfinal4.loc[(dfinal4.kcode==1),\"wcode\"]=3"
   ]
  },
  {
   "cell_type": "code",
   "execution_count": null,
   "metadata": {},
   "outputs": [],
   "source": []
  },
  {
   "cell_type": "code",
   "execution_count": null,
   "metadata": {},
   "outputs": [],
   "source": [
    "dfinal4.to_csv(\"D:/ahn_pc/workfile/2021/阪神事故リスク/dfinal4_3.csv\", index = False)"
   ]
  },
  {
   "cell_type": "code",
   "execution_count": null,
   "metadata": {},
   "outputs": [],
   "source": [
    "dfinal4 = pd.read_csv(\"D:/ahn_pc/workfile/2021/阪神事故リスク/dfinal4_3.csv\")"
   ]
  },
  {
   "cell_type": "code",
   "execution_count": null,
   "metadata": {},
   "outputs": [],
   "source": [
    "dfinal4"
   ]
  },
  {
   "cell_type": "code",
   "execution_count": null,
   "metadata": {},
   "outputs": [],
   "source": [
    "dfinal4.columns"
   ]
  },
  {
   "cell_type": "code",
   "execution_count": null,
   "metadata": {},
   "outputs": [],
   "source": [
    "dff = dfinal4.loc[:,[\"idx\",\"1_x\",\"2\",\"4\",\"5\",\"3\",\"7\",\"11\",\"trf\",\"cong\",\"acci\",\"wcode\",\"hcode\",\"kcode\"]]"
   ]
  },
  {
   "cell_type": "code",
   "execution_count": null,
   "metadata": {},
   "outputs": [],
   "source": [
    "dff"
   ]
  },
  {
   "cell_type": "code",
   "execution_count": null,
   "metadata": {},
   "outputs": [],
   "source": [
    "dff.to_csv(\"D:/ahn_pc/workfile/2021/阪神事故リスク/dff4.csv\", index = False)"
   ]
  },
  {
   "cell_type": "code",
   "execution_count": null,
   "metadata": {},
   "outputs": [],
   "source": []
  }
 ],
 "metadata": {
  "kernelspec": {
   "display_name": "Python 3",
   "language": "python",
   "name": "python3"
  },
  "language_info": {
   "codemirror_mode": {
    "name": "ipython",
    "version": 3
   },
   "file_extension": ".py",
   "mimetype": "text/x-python",
   "name": "python",
   "nbconvert_exporter": "python",
   "pygments_lexer": "ipython3",
   "version": "3.7.6"
  }
 },
 "nbformat": 4,
 "nbformat_minor": 4
}
