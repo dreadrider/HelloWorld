{
 "cells": [
  {
   "cell_type": "code",
   "execution_count": 1,
   "metadata": {},
   "outputs": [],
   "source": [
    "import os.path\n",
    "import glob\n",
    "import pandas as pd\n",
    "import numpy as np\n",
    "import matplotlib.pyplot as plt\n",
    "from ipywidgets import interact\n",
    "import ipywidgets as widgets\n",
    "from scipy.stats import hmean\n",
    "from datetime import datetime as dtm"
   ]
  },
  {
   "cell_type": "code",
   "execution_count": 2,
   "metadata": {},
   "outputs": [
    {
     "name": "stderr",
     "output_type": "stream",
     "text": [
      "C:\\Users\\tssl-34\\Anaconda3\\lib\\site-packages\\IPython\\core\\interactiveshell.py:3051: DtypeWarning: Columns (7) have mixed types. Specify dtype option on import or set low_memory=False.\n",
      "  interactivity=interactivity, compiler=compiler, result=result)\n"
     ]
    }
   ],
   "source": [
    "df = pd.read_csv(\"D:/ahn_pc/workfile/2021/阪神事故リスク/result/final/df3_04.csv\", encoding=\"shift_jis\")"
   ]
  },
  {
   "cell_type": "code",
   "execution_count": 26,
   "metadata": {},
   "outputs": [],
   "source": [
    "#df2[~df2.duplicated(subset=\"jidx\")].shape[0]\n",
    "#df2[df2.duplicated(subset=\"jidx\")]"
   ]
  },
  {
   "cell_type": "code",
   "execution_count": 3,
   "metadata": {},
   "outputs": [],
   "source": [
    "df[\"jdp\"]=df.JDP番号"
   ]
  },
  {
   "cell_type": "code",
   "execution_count": 4,
   "metadata": {},
   "outputs": [],
   "source": [
    "jdp = pd.read_csv(\"D:/ahn_pc/workfile/2021/阪神事故リスク/jdp100/jdp100e2.csv\", encoding=\"shift_jis\")\n",
    "jdp = jdp.loc[:,[\"jdp\",\"keito\",\"hei\",\"sag\",\"fare\"]]"
   ]
  },
  {
   "cell_type": "code",
   "execution_count": 5,
   "metadata": {},
   "outputs": [],
   "source": [
    "dm = pd.merge(df,jdp, on=\"jdp\", how=\"left\")"
   ]
  },
  {
   "cell_type": "code",
   "execution_count": 9,
   "metadata": {},
   "outputs": [],
   "source": [
    "#test=dm[pd.isna(dm.keito)]\n",
    "#test[~test.duplicated(subset=\"jdp\")].jdp"
   ]
  },
  {
   "cell_type": "code",
   "execution_count": 6,
   "metadata": {},
   "outputs": [],
   "source": [
    "dm = dm[pd.isna(dm.エラー)]\n",
    "dm = dm[dm.速度<200]\n",
    "dm = dm[~pd.isna(dm.keito)]"
   ]
  },
  {
   "cell_type": "code",
   "execution_count": 30,
   "metadata": {},
   "outputs": [],
   "source": [
    "#dm[dm.jocc1>99]"
   ]
  },
  {
   "cell_type": "code",
   "execution_count": 7,
   "metadata": {},
   "outputs": [],
   "source": [
    "acc = pd.read_csv(\"D:/ahn_pc/workfile/2021/阪神事故リスク/accident2.csv\", encoding=\"shift_jis\")"
   ]
  },
  {
   "cell_type": "code",
   "execution_count": 8,
   "metadata": {},
   "outputs": [
    {
     "data": {
      "text/html": [
       "<div>\n",
       "<style scoped>\n",
       "    .dataframe tbody tr th:only-of-type {\n",
       "        vertical-align: middle;\n",
       "    }\n",
       "\n",
       "    .dataframe tbody tr th {\n",
       "        vertical-align: top;\n",
       "    }\n",
       "\n",
       "    .dataframe thead th {\n",
       "        text-align: right;\n",
       "    }\n",
       "</style>\n",
       "<table border=\"1\" class=\"dataframe\">\n",
       "  <thead>\n",
       "    <tr style=\"text-align: right;\">\n",
       "      <th></th>\n",
       "      <th>発生日</th>\n",
       "      <th>発生年度</th>\n",
       "      <th>発生日_年</th>\n",
       "      <th>発生日_月</th>\n",
       "      <th>発生日_日</th>\n",
       "      <th>発生時間_時</th>\n",
       "      <th>発生時間_分</th>\n",
       "      <th>5分</th>\n",
       "      <th>date</th>\n",
       "      <th>time</th>\n",
       "      <th>dt</th>\n",
       "      <th>idx</th>\n",
       "      <th>発生日_曜日</th>\n",
       "      <th>曜日種別E（営業）</th>\n",
       "      <th>路線名(上下)</th>\n",
       "      <th>路線詳細</th>\n",
       "      <th>ランプ名</th>\n",
       "      <th>料金所地点</th>\n",
       "      <th>地点(kp)</th>\n",
       "      <th>天候</th>\n",
       "    </tr>\n",
       "  </thead>\n",
       "  <tbody>\n",
       "    <tr>\n",
       "      <th>0</th>\n",
       "      <td>2021/4/4</td>\n",
       "      <td>2021</td>\n",
       "      <td>2021</td>\n",
       "      <td>4</td>\n",
       "      <td>4</td>\n",
       "      <td>1</td>\n",
       "      <td>30</td>\n",
       "      <td>30</td>\n",
       "      <td>2021/4/4</td>\n",
       "      <td>1:30:00</td>\n",
       "      <td>2021-4-4 01:30:00</td>\n",
       "      <td>2021-04-04 01:30:00_940</td>\n",
       "      <td>日</td>\n",
       "      <td>休日</td>\n",
       "      <td>５号湾岸線（兵庫）下</td>\n",
       "      <td>NaN</td>\n",
       "      <td>住吉浜連絡路</td>\n",
       "      <td>料金所手前</td>\n",
       "      <td>21.8</td>\n",
       "      <td>晴</td>\n",
       "    </tr>\n",
       "  </tbody>\n",
       "</table>\n",
       "</div>"
      ],
      "text/plain": [
       "        発生日  発生年度  発生日_年  発生日_月  発生日_日  発生時間_時  発生時間_分  5分      date     time  \\\n",
       "0  2021/4/4  2021   2021      4      4       1      30  30  2021/4/4  1:30:00   \n",
       "\n",
       "                  dt                      idx 発生日_曜日 曜日種別E（営業）     路線名(上下)  \\\n",
       "0  2021-4-4 01:30:00  2021-04-04 01:30:00_940      日        休日  ５号湾岸線（兵庫）下   \n",
       "\n",
       "   路線詳細    ランプ名  料金所地点  地点(kp) 天候  \n",
       "0   NaN  住吉浜連絡路  料金所手前    21.8  晴  "
      ]
     },
     "execution_count": 8,
     "metadata": {},
     "output_type": "execute_result"
    }
   ],
   "source": [
    "acc.iloc[:1,10:30]"
   ]
  },
  {
   "cell_type": "code",
   "execution_count": 9,
   "metadata": {},
   "outputs": [],
   "source": [
    "acc2=acc.loc[:,[\"idx\",\"事故の形態１\"]]"
   ]
  },
  {
   "cell_type": "code",
   "execution_count": 10,
   "metadata": {},
   "outputs": [],
   "source": [
    "acc2[\"acc\"]=1"
   ]
  },
  {
   "cell_type": "code",
   "execution_count": 11,
   "metadata": {},
   "outputs": [],
   "source": [
    "dm[\"idx\"]=dm.jidx"
   ]
  },
  {
   "cell_type": "code",
   "execution_count": 12,
   "metadata": {},
   "outputs": [],
   "source": [
    "dat=pd.merge(dm,acc2, on=\"idx\", how=\"left\")"
   ]
  },
  {
   "cell_type": "code",
   "execution_count": 13,
   "metadata": {},
   "outputs": [
    {
     "data": {
      "text/html": [
       "<div>\n",
       "<style scoped>\n",
       "    .dataframe tbody tr th:only-of-type {\n",
       "        vertical-align: middle;\n",
       "    }\n",
       "\n",
       "    .dataframe tbody tr th {\n",
       "        vertical-align: top;\n",
       "    }\n",
       "\n",
       "    .dataframe thead th {\n",
       "        text-align: right;\n",
       "    }\n",
       "</style>\n",
       "<table border=\"1\" class=\"dataframe\">\n",
       "  <thead>\n",
       "    <tr style=\"text-align: right;\">\n",
       "      <th></th>\n",
       "      <th>idx_x</th>\n",
       "      <th>地区名</th>\n",
       "      <th>JDP番号</th>\n",
       "      <th>区間番号</th>\n",
       "      <th>日付</th>\n",
       "      <th>時間</th>\n",
       "      <th>区間長</th>\n",
       "      <th>エラー</th>\n",
       "      <th>速度</th>\n",
       "      <th>交通量</th>\n",
       "      <th>...</th>\n",
       "      <th>jocc4</th>\n",
       "      <th>jspd4</th>\n",
       "      <th>jdp</th>\n",
       "      <th>keito</th>\n",
       "      <th>hei</th>\n",
       "      <th>sag</th>\n",
       "      <th>fare</th>\n",
       "      <th>idx</th>\n",
       "      <th>事故の形態１</th>\n",
       "      <th>acc</th>\n",
       "    </tr>\n",
       "  </thead>\n",
       "  <tbody>\n",
       "    <tr>\n",
       "      <th>13988</th>\n",
       "      <td>2021-04-26 14:10:00_1</td>\n",
       "      <td>大阪</td>\n",
       "      <td>2</td>\n",
       "      <td>1</td>\n",
       "      <td>2021/04/26</td>\n",
       "      <td>14:10:00</td>\n",
       "      <td>5</td>\n",
       "      <td>NaN</td>\n",
       "      <td>21</td>\n",
       "      <td>36.0</td>\n",
       "      <td>...</td>\n",
       "      <td>NaN</td>\n",
       "      <td>NaN</td>\n",
       "      <td>2</td>\n",
       "      <td>1.0</td>\n",
       "      <td>1.0</td>\n",
       "      <td>0.0</td>\n",
       "      <td>0.0</td>\n",
       "      <td>2021-04-26 14:10:00_2</td>\n",
       "      <td>その他</td>\n",
       "      <td>1.0</td>\n",
       "    </tr>\n",
       "    <tr>\n",
       "      <th>61370</th>\n",
       "      <td>2021-04-05 17:25:00_9</td>\n",
       "      <td>大阪</td>\n",
       "      <td>9</td>\n",
       "      <td>9</td>\n",
       "      <td>2021/04/05</td>\n",
       "      <td>17:25:00</td>\n",
       "      <td>5</td>\n",
       "      <td>NaN</td>\n",
       "      <td>73</td>\n",
       "      <td>99.0</td>\n",
       "      <td>...</td>\n",
       "      <td>NaN</td>\n",
       "      <td>NaN</td>\n",
       "      <td>9</td>\n",
       "      <td>1.0</td>\n",
       "      <td>2.0</td>\n",
       "      <td>0.0</td>\n",
       "      <td>0.0</td>\n",
       "      <td>2021-04-05 17:25:00_9</td>\n",
       "      <td>追突</td>\n",
       "      <td>1.0</td>\n",
       "    </tr>\n",
       "    <tr>\n",
       "      <th>62512</th>\n",
       "      <td>2021-04-09 17:00:00_9</td>\n",
       "      <td>大阪</td>\n",
       "      <td>9</td>\n",
       "      <td>9</td>\n",
       "      <td>2021/04/09</td>\n",
       "      <td>17:00:00</td>\n",
       "      <td>5</td>\n",
       "      <td>NaN</td>\n",
       "      <td>34</td>\n",
       "      <td>176.0</td>\n",
       "      <td>...</td>\n",
       "      <td>NaN</td>\n",
       "      <td>NaN</td>\n",
       "      <td>9</td>\n",
       "      <td>1.0</td>\n",
       "      <td>2.0</td>\n",
       "      <td>0.0</td>\n",
       "      <td>0.0</td>\n",
       "      <td>2021-04-09 17:00:00_9</td>\n",
       "      <td>追突</td>\n",
       "      <td>1.0</td>\n",
       "    </tr>\n",
       "    <tr>\n",
       "      <th>65541</th>\n",
       "      <td>2021-04-20 13:20:00_9</td>\n",
       "      <td>大阪</td>\n",
       "      <td>9</td>\n",
       "      <td>9</td>\n",
       "      <td>2021/04/20</td>\n",
       "      <td>13:20:00</td>\n",
       "      <td>5</td>\n",
       "      <td>NaN</td>\n",
       "      <td>73</td>\n",
       "      <td>189.0</td>\n",
       "      <td>...</td>\n",
       "      <td>NaN</td>\n",
       "      <td>NaN</td>\n",
       "      <td>9</td>\n",
       "      <td>1.0</td>\n",
       "      <td>2.0</td>\n",
       "      <td>0.0</td>\n",
       "      <td>0.0</td>\n",
       "      <td>2021-04-20 13:20:00_9</td>\n",
       "      <td>施設接触</td>\n",
       "      <td>1.0</td>\n",
       "    </tr>\n",
       "    <tr>\n",
       "      <th>66734</th>\n",
       "      <td>2021-04-24 17:20:00_9</td>\n",
       "      <td>大阪</td>\n",
       "      <td>9</td>\n",
       "      <td>9</td>\n",
       "      <td>2021/04/24</td>\n",
       "      <td>17:20:00</td>\n",
       "      <td>5</td>\n",
       "      <td>NaN</td>\n",
       "      <td>54</td>\n",
       "      <td>247.0</td>\n",
       "      <td>...</td>\n",
       "      <td>NaN</td>\n",
       "      <td>NaN</td>\n",
       "      <td>9</td>\n",
       "      <td>1.0</td>\n",
       "      <td>2.0</td>\n",
       "      <td>0.0</td>\n",
       "      <td>0.0</td>\n",
       "      <td>2021-04-24 17:20:00_9</td>\n",
       "      <td>追突</td>\n",
       "      <td>1.0</td>\n",
       "    </tr>\n",
       "    <tr>\n",
       "      <th>...</th>\n",
       "      <td>...</td>\n",
       "      <td>...</td>\n",
       "      <td>...</td>\n",
       "      <td>...</td>\n",
       "      <td>...</td>\n",
       "      <td>...</td>\n",
       "      <td>...</td>\n",
       "      <td>...</td>\n",
       "      <td>...</td>\n",
       "      <td>...</td>\n",
       "      <td>...</td>\n",
       "      <td>...</td>\n",
       "      <td>...</td>\n",
       "      <td>...</td>\n",
       "      <td>...</td>\n",
       "      <td>...</td>\n",
       "      <td>...</td>\n",
       "      <td>...</td>\n",
       "      <td>...</td>\n",
       "      <td>...</td>\n",
       "      <td>...</td>\n",
       "    </tr>\n",
       "    <tr>\n",
       "      <th>7771454</th>\n",
       "      <td>2021-04-17 09:30:00_430</td>\n",
       "      <td>兵庫</td>\n",
       "      <td>1150</td>\n",
       "      <td>430</td>\n",
       "      <td>2021/04/17</td>\n",
       "      <td>9:30:00</td>\n",
       "      <td>5</td>\n",
       "      <td>NaN</td>\n",
       "      <td>0</td>\n",
       "      <td>27.0</td>\n",
       "      <td>...</td>\n",
       "      <td>NaN</td>\n",
       "      <td>NaN</td>\n",
       "      <td>1150</td>\n",
       "      <td>62.0</td>\n",
       "      <td>2.0</td>\n",
       "      <td>0.0</td>\n",
       "      <td>0.0</td>\n",
       "      <td>2021-04-17 09:30:00_1150</td>\n",
       "      <td>施設接触</td>\n",
       "      <td>1.0</td>\n",
       "    </tr>\n",
       "    <tr>\n",
       "      <th>7774796</th>\n",
       "      <td>2021-04-29 08:20:00_430</td>\n",
       "      <td>兵庫</td>\n",
       "      <td>1150</td>\n",
       "      <td>430</td>\n",
       "      <td>2021/04/29</td>\n",
       "      <td>8:20:00</td>\n",
       "      <td>5</td>\n",
       "      <td>NaN</td>\n",
       "      <td>52</td>\n",
       "      <td>19.0</td>\n",
       "      <td>...</td>\n",
       "      <td>NaN</td>\n",
       "      <td>NaN</td>\n",
       "      <td>1150</td>\n",
       "      <td>62.0</td>\n",
       "      <td>2.0</td>\n",
       "      <td>0.0</td>\n",
       "      <td>0.0</td>\n",
       "      <td>2021-04-29 08:20:00_1150</td>\n",
       "      <td>施設接触</td>\n",
       "      <td>1.0</td>\n",
       "    </tr>\n",
       "    <tr>\n",
       "      <th>7783078</th>\n",
       "      <td>2021-04-04 17:20:00_278</td>\n",
       "      <td>兵庫</td>\n",
       "      <td>1152</td>\n",
       "      <td>278</td>\n",
       "      <td>2021/04/04</td>\n",
       "      <td>17:20:00</td>\n",
       "      <td>5</td>\n",
       "      <td>NaN</td>\n",
       "      <td>58</td>\n",
       "      <td>42.0</td>\n",
       "      <td>...</td>\n",
       "      <td>NaN</td>\n",
       "      <td>NaN</td>\n",
       "      <td>1152</td>\n",
       "      <td>62.0</td>\n",
       "      <td>3.0</td>\n",
       "      <td>0.0</td>\n",
       "      <td>0.0</td>\n",
       "      <td>2021-04-04 17:20:00_1152</td>\n",
       "      <td>施設接触</td>\n",
       "      <td>1.0</td>\n",
       "    </tr>\n",
       "    <tr>\n",
       "      <th>7785943</th>\n",
       "      <td>2021-04-14 18:45:00_278</td>\n",
       "      <td>兵庫</td>\n",
       "      <td>1152</td>\n",
       "      <td>278</td>\n",
       "      <td>2021/04/14</td>\n",
       "      <td>18:45:00</td>\n",
       "      <td>5</td>\n",
       "      <td>NaN</td>\n",
       "      <td>113</td>\n",
       "      <td>50.0</td>\n",
       "      <td>...</td>\n",
       "      <td>NaN</td>\n",
       "      <td>NaN</td>\n",
       "      <td>1152</td>\n",
       "      <td>62.0</td>\n",
       "      <td>3.0</td>\n",
       "      <td>0.0</td>\n",
       "      <td>0.0</td>\n",
       "      <td>2021-04-14 18:45:00_1152</td>\n",
       "      <td>車両接触</td>\n",
       "      <td>1.0</td>\n",
       "    </tr>\n",
       "    <tr>\n",
       "      <th>7814847</th>\n",
       "      <td>2021-04-09 09:45:00_278</td>\n",
       "      <td>兵庫</td>\n",
       "      <td>1156</td>\n",
       "      <td>278</td>\n",
       "      <td>2021/04/09</td>\n",
       "      <td>9:45:00</td>\n",
       "      <td>5</td>\n",
       "      <td>NaN</td>\n",
       "      <td>60</td>\n",
       "      <td>62.0</td>\n",
       "      <td>...</td>\n",
       "      <td>NaN</td>\n",
       "      <td>NaN</td>\n",
       "      <td>1156</td>\n",
       "      <td>62.0</td>\n",
       "      <td>3.0</td>\n",
       "      <td>0.0</td>\n",
       "      <td>0.0</td>\n",
       "      <td>2021-04-09 09:45:00_1156</td>\n",
       "      <td>その他</td>\n",
       "      <td>1.0</td>\n",
       "    </tr>\n",
       "  </tbody>\n",
       "</table>\n",
       "<p>314 rows × 42 columns</p>\n",
       "</div>"
      ],
      "text/plain": [
       "                           idx_x 地区名  JDP番号  区間番号          日付        時間  区間長  \\\n",
       "13988      2021-04-26 14:10:00_1  大阪      2     1  2021/04/26  14:10:00    5   \n",
       "61370      2021-04-05 17:25:00_9  大阪      9     9  2021/04/05  17:25:00    5   \n",
       "62512      2021-04-09 17:00:00_9  大阪      9     9  2021/04/09  17:00:00    5   \n",
       "65541      2021-04-20 13:20:00_9  大阪      9     9  2021/04/20  13:20:00    5   \n",
       "66734      2021-04-24 17:20:00_9  大阪      9     9  2021/04/24  17:20:00    5   \n",
       "...                          ...  ..    ...   ...         ...       ...  ...   \n",
       "7771454  2021-04-17 09:30:00_430  兵庫   1150   430  2021/04/17   9:30:00    5   \n",
       "7774796  2021-04-29 08:20:00_430  兵庫   1150   430  2021/04/29   8:20:00    5   \n",
       "7783078  2021-04-04 17:20:00_278  兵庫   1152   278  2021/04/04  17:20:00    5   \n",
       "7785943  2021-04-14 18:45:00_278  兵庫   1152   278  2021/04/14  18:45:00    5   \n",
       "7814847  2021-04-09 09:45:00_278  兵庫   1156   278  2021/04/09   9:45:00    5   \n",
       "\n",
       "         エラー   速度    交通量  ...  jocc4  jspd4   jdp  keito  hei  sag  fare  \\\n",
       "13988    NaN   21   36.0  ...    NaN    NaN     2    1.0  1.0  0.0   0.0   \n",
       "61370    NaN   73   99.0  ...    NaN    NaN     9    1.0  2.0  0.0   0.0   \n",
       "62512    NaN   34  176.0  ...    NaN    NaN     9    1.0  2.0  0.0   0.0   \n",
       "65541    NaN   73  189.0  ...    NaN    NaN     9    1.0  2.0  0.0   0.0   \n",
       "66734    NaN   54  247.0  ...    NaN    NaN     9    1.0  2.0  0.0   0.0   \n",
       "...      ...  ...    ...  ...    ...    ...   ...    ...  ...  ...   ...   \n",
       "7771454  NaN    0   27.0  ...    NaN    NaN  1150   62.0  2.0  0.0   0.0   \n",
       "7774796  NaN   52   19.0  ...    NaN    NaN  1150   62.0  2.0  0.0   0.0   \n",
       "7783078  NaN   58   42.0  ...    NaN    NaN  1152   62.0  3.0  0.0   0.0   \n",
       "7785943  NaN  113   50.0  ...    NaN    NaN  1152   62.0  3.0  0.0   0.0   \n",
       "7814847  NaN   60   62.0  ...    NaN    NaN  1156   62.0  3.0  0.0   0.0   \n",
       "\n",
       "                              idx  事故の形態１  acc  \n",
       "13988       2021-04-26 14:10:00_2     その他  1.0  \n",
       "61370       2021-04-05 17:25:00_9      追突  1.0  \n",
       "62512       2021-04-09 17:00:00_9      追突  1.0  \n",
       "65541       2021-04-20 13:20:00_9    施設接触  1.0  \n",
       "66734       2021-04-24 17:20:00_9      追突  1.0  \n",
       "...                           ...     ...  ...  \n",
       "7771454  2021-04-17 09:30:00_1150    施設接触  1.0  \n",
       "7774796  2021-04-29 08:20:00_1150    施設接触  1.0  \n",
       "7783078  2021-04-04 17:20:00_1152    施設接触  1.0  \n",
       "7785943  2021-04-14 18:45:00_1152    車両接触  1.0  \n",
       "7814847  2021-04-09 09:45:00_1156     その他  1.0  \n",
       "\n",
       "[314 rows x 42 columns]"
      ]
     },
     "execution_count": 13,
     "metadata": {},
     "output_type": "execute_result"
    }
   ],
   "source": [
    "dat[dat.acc==1]"
   ]
  },
  {
   "cell_type": "code",
   "execution_count": 14,
   "metadata": {},
   "outputs": [
    {
     "data": {
      "text/plain": [
       "0             2021-04-04 00:00:00_1\n",
       "1             2021-04-04 00:05:00_1\n",
       "2             2021-04-04 00:10:00_1\n",
       "3             2021-04-04 00:15:00_1\n",
       "4             2021-04-04 00:20:00_1\n",
       "                     ...           \n",
       "7904568    2021-04-30 23:30:00_1167\n",
       "7904569    2021-04-30 23:35:00_1167\n",
       "7904570    2021-04-30 23:40:00_1167\n",
       "7904571    2021-04-30 23:45:00_1167\n",
       "7904572    2021-04-30 23:50:00_1167\n",
       "Name: idx, Length: 7904573, dtype: object"
      ]
     },
     "execution_count": 14,
     "metadata": {},
     "output_type": "execute_result"
    }
   ],
   "source": [
    "dat.idx"
   ]
  },
  {
   "cell_type": "code",
   "execution_count": 15,
   "metadata": {},
   "outputs": [
    {
     "data": {
      "text/plain": [
       "Index(['idx_x', '地区名', 'JDP番号', '区間番号', '日付', '時間', '区間長', 'エラー', '速度', '交通量',\n",
       "       '渋滞', '事故', '休日', '時間帯', 'kcode', '降水量', '滑り止め', 'jdp_x', 'suberij',\n",
       "       'jidx', 'idx_y', 'jdp_y', 'jtrf1', 'jocc1', 'jspd1', 'jtrf2', 'jocc2',\n",
       "       'jspd2', 'jtrf3', 'jocc3', 'jspd3', 'jtrf4', 'jocc4', 'jspd4', 'jdp',\n",
       "       'keito', 'hei', 'sag', 'fare', 'idx', '事故の形態１', 'acc'],\n",
       "      dtype='object')"
      ]
     },
     "execution_count": 15,
     "metadata": {},
     "output_type": "execute_result"
    }
   ],
   "source": [
    "dat.columns"
   ]
  },
  {
   "cell_type": "code",
   "execution_count": 22,
   "metadata": {},
   "outputs": [
    {
     "data": {
      "text/html": [
       "<div>\n",
       "<style scoped>\n",
       "    .dataframe tbody tr th:only-of-type {\n",
       "        vertical-align: middle;\n",
       "    }\n",
       "\n",
       "    .dataframe tbody tr th {\n",
       "        vertical-align: top;\n",
       "    }\n",
       "\n",
       "    .dataframe thead th {\n",
       "        text-align: right;\n",
       "    }\n",
       "</style>\n",
       "<table border=\"1\" class=\"dataframe\">\n",
       "  <thead>\n",
       "    <tr style=\"text-align: right;\">\n",
       "      <th></th>\n",
       "      <th>idx_x</th>\n",
       "      <th>地区名</th>\n",
       "      <th>JDP番号</th>\n",
       "      <th>区間番号</th>\n",
       "      <th>日付</th>\n",
       "      <th>時間</th>\n",
       "      <th>区間長</th>\n",
       "      <th>エラー</th>\n",
       "      <th>速度</th>\n",
       "      <th>交通量</th>\n",
       "      <th>...</th>\n",
       "      <th>jspd4</th>\n",
       "      <th>jdp</th>\n",
       "      <th>keito</th>\n",
       "      <th>hei</th>\n",
       "      <th>sag</th>\n",
       "      <th>fare</th>\n",
       "      <th>idx</th>\n",
       "      <th>事故の形態１</th>\n",
       "      <th>acc</th>\n",
       "      <th>souko</th>\n",
       "    </tr>\n",
       "  </thead>\n",
       "  <tbody>\n",
       "    <tr>\n",
       "      <th>220009</th>\n",
       "      <td>2021-04-30 11:10:00_27</td>\n",
       "      <td>大阪</td>\n",
       "      <td>29</td>\n",
       "      <td>27</td>\n",
       "      <td>2021/04/30</td>\n",
       "      <td>11:10:00</td>\n",
       "      <td>6</td>\n",
       "      <td>NaN</td>\n",
       "      <td>106</td>\n",
       "      <td>NaN</td>\n",
       "      <td>...</td>\n",
       "      <td>NaN</td>\n",
       "      <td>29</td>\n",
       "      <td>1.0</td>\n",
       "      <td>1.0</td>\n",
       "      <td>1.0</td>\n",
       "      <td>0.0</td>\n",
       "      <td>2021-04-30 11:10:00_29</td>\n",
       "      <td>NaN</td>\n",
       "      <td>NaN</td>\n",
       "      <td>NaN</td>\n",
       "    </tr>\n",
       "    <tr>\n",
       "      <th>227618</th>\n",
       "      <td>2021-04-30 11:10:00_27</td>\n",
       "      <td>大阪</td>\n",
       "      <td>30</td>\n",
       "      <td>27</td>\n",
       "      <td>2021/04/30</td>\n",
       "      <td>11:10:00</td>\n",
       "      <td>5</td>\n",
       "      <td>NaN</td>\n",
       "      <td>120</td>\n",
       "      <td>NaN</td>\n",
       "      <td>...</td>\n",
       "      <td>NaN</td>\n",
       "      <td>30</td>\n",
       "      <td>1.0</td>\n",
       "      <td>3.0</td>\n",
       "      <td>0.0</td>\n",
       "      <td>0.0</td>\n",
       "      <td>2021-04-30 11:10:00_30</td>\n",
       "      <td>NaN</td>\n",
       "      <td>NaN</td>\n",
       "      <td>NaN</td>\n",
       "    </tr>\n",
       "    <tr>\n",
       "      <th>235227</th>\n",
       "      <td>2021-04-30 11:10:00_27</td>\n",
       "      <td>大阪</td>\n",
       "      <td>31</td>\n",
       "      <td>27</td>\n",
       "      <td>2021/04/30</td>\n",
       "      <td>11:10:00</td>\n",
       "      <td>5</td>\n",
       "      <td>NaN</td>\n",
       "      <td>111</td>\n",
       "      <td>NaN</td>\n",
       "      <td>...</td>\n",
       "      <td>NaN</td>\n",
       "      <td>31</td>\n",
       "      <td>1.0</td>\n",
       "      <td>2.0</td>\n",
       "      <td>0.0</td>\n",
       "      <td>0.0</td>\n",
       "      <td>2021-04-30 11:10:00_31</td>\n",
       "      <td>NaN</td>\n",
       "      <td>NaN</td>\n",
       "      <td>NaN</td>\n",
       "    </tr>\n",
       "    <tr>\n",
       "      <th>242836</th>\n",
       "      <td>2021-04-30 11:10:00_27</td>\n",
       "      <td>大阪</td>\n",
       "      <td>32</td>\n",
       "      <td>27</td>\n",
       "      <td>2021/04/30</td>\n",
       "      <td>11:10:00</td>\n",
       "      <td>3</td>\n",
       "      <td>NaN</td>\n",
       "      <td>99</td>\n",
       "      <td>NaN</td>\n",
       "      <td>...</td>\n",
       "      <td>NaN</td>\n",
       "      <td>32</td>\n",
       "      <td>1.0</td>\n",
       "      <td>2.0</td>\n",
       "      <td>0.0</td>\n",
       "      <td>0.0</td>\n",
       "      <td>2021-04-30 11:10:00_32</td>\n",
       "      <td>NaN</td>\n",
       "      <td>NaN</td>\n",
       "      <td>NaN</td>\n",
       "    </tr>\n",
       "    <tr>\n",
       "      <th>250445</th>\n",
       "      <td>2021-04-30 11:10:00_27</td>\n",
       "      <td>大阪</td>\n",
       "      <td>33</td>\n",
       "      <td>27</td>\n",
       "      <td>2021/04/30</td>\n",
       "      <td>11:10:00</td>\n",
       "      <td>4</td>\n",
       "      <td>NaN</td>\n",
       "      <td>120</td>\n",
       "      <td>NaN</td>\n",
       "      <td>...</td>\n",
       "      <td>NaN</td>\n",
       "      <td>33</td>\n",
       "      <td>1.0</td>\n",
       "      <td>2.0</td>\n",
       "      <td>1.0</td>\n",
       "      <td>0.0</td>\n",
       "      <td>2021-04-30 11:10:00_33</td>\n",
       "      <td>NaN</td>\n",
       "      <td>NaN</td>\n",
       "      <td>NaN</td>\n",
       "    </tr>\n",
       "    <tr>\n",
       "      <th>258054</th>\n",
       "      <td>2021-04-30 11:10:00_27</td>\n",
       "      <td>大阪</td>\n",
       "      <td>34</td>\n",
       "      <td>27</td>\n",
       "      <td>2021/04/30</td>\n",
       "      <td>11:10:00</td>\n",
       "      <td>5</td>\n",
       "      <td>NaN</td>\n",
       "      <td>99</td>\n",
       "      <td>NaN</td>\n",
       "      <td>...</td>\n",
       "      <td>NaN</td>\n",
       "      <td>34</td>\n",
       "      <td>1.0</td>\n",
       "      <td>3.0</td>\n",
       "      <td>1.0</td>\n",
       "      <td>0.0</td>\n",
       "      <td>2021-04-30 11:10:00_34</td>\n",
       "      <td>NaN</td>\n",
       "      <td>NaN</td>\n",
       "      <td>NaN</td>\n",
       "    </tr>\n",
       "    <tr>\n",
       "      <th>415397</th>\n",
       "      <td>2021-04-22 23:05:00_24</td>\n",
       "      <td>大阪</td>\n",
       "      <td>59</td>\n",
       "      <td>24</td>\n",
       "      <td>2021/04/22</td>\n",
       "      <td>23:05:00</td>\n",
       "      <td>3</td>\n",
       "      <td>NaN</td>\n",
       "      <td>99</td>\n",
       "      <td>NaN</td>\n",
       "      <td>...</td>\n",
       "      <td>NaN</td>\n",
       "      <td>59</td>\n",
       "      <td>2.0</td>\n",
       "      <td>3.0</td>\n",
       "      <td>0.0</td>\n",
       "      <td>0.0</td>\n",
       "      <td>2021-04-22 23:05:00_59</td>\n",
       "      <td>NaN</td>\n",
       "      <td>NaN</td>\n",
       "      <td>NaN</td>\n",
       "    </tr>\n",
       "    <tr>\n",
       "      <th>2407329</th>\n",
       "      <td>2021-04-22 23:05:00_155</td>\n",
       "      <td>大阪</td>\n",
       "      <td>335</td>\n",
       "      <td>155</td>\n",
       "      <td>2021/04/22</td>\n",
       "      <td>23:05:00</td>\n",
       "      <td>3</td>\n",
       "      <td>NaN</td>\n",
       "      <td>99</td>\n",
       "      <td>NaN</td>\n",
       "      <td>...</td>\n",
       "      <td>NaN</td>\n",
       "      <td>335</td>\n",
       "      <td>19.0</td>\n",
       "      <td>3.0</td>\n",
       "      <td>0.0</td>\n",
       "      <td>0.0</td>\n",
       "      <td>2021-04-22 23:05:00_335</td>\n",
       "      <td>NaN</td>\n",
       "      <td>NaN</td>\n",
       "      <td>NaN</td>\n",
       "    </tr>\n",
       "    <tr>\n",
       "      <th>2409435</th>\n",
       "      <td>2021-04-30 11:10:00_155</td>\n",
       "      <td>大阪</td>\n",
       "      <td>335</td>\n",
       "      <td>155</td>\n",
       "      <td>2021/04/30</td>\n",
       "      <td>11:10:00</td>\n",
       "      <td>3</td>\n",
       "      <td>NaN</td>\n",
       "      <td>94</td>\n",
       "      <td>NaN</td>\n",
       "      <td>...</td>\n",
       "      <td>NaN</td>\n",
       "      <td>335</td>\n",
       "      <td>19.0</td>\n",
       "      <td>3.0</td>\n",
       "      <td>0.0</td>\n",
       "      <td>0.0</td>\n",
       "      <td>2021-04-30 11:10:00_335</td>\n",
       "      <td>NaN</td>\n",
       "      <td>NaN</td>\n",
       "      <td>NaN</td>\n",
       "    </tr>\n",
       "    <tr>\n",
       "      <th>2409523</th>\n",
       "      <td>2021-04-30 18:30:00_155</td>\n",
       "      <td>大阪</td>\n",
       "      <td>335</td>\n",
       "      <td>155</td>\n",
       "      <td>2021/04/30</td>\n",
       "      <td>18:30:00</td>\n",
       "      <td>3</td>\n",
       "      <td>NaN</td>\n",
       "      <td>115</td>\n",
       "      <td>NaN</td>\n",
       "      <td>...</td>\n",
       "      <td>NaN</td>\n",
       "      <td>335</td>\n",
       "      <td>19.0</td>\n",
       "      <td>3.0</td>\n",
       "      <td>0.0</td>\n",
       "      <td>0.0</td>\n",
       "      <td>2021-04-30 18:30:00_335</td>\n",
       "      <td>NaN</td>\n",
       "      <td>NaN</td>\n",
       "      <td>NaN</td>\n",
       "    </tr>\n",
       "    <tr>\n",
       "      <th>2475759</th>\n",
       "      <td>2021-04-22 23:05:00_156</td>\n",
       "      <td>大阪</td>\n",
       "      <td>346</td>\n",
       "      <td>156</td>\n",
       "      <td>2021/04/22</td>\n",
       "      <td>23:05:00</td>\n",
       "      <td>4</td>\n",
       "      <td>NaN</td>\n",
       "      <td>100</td>\n",
       "      <td>NaN</td>\n",
       "      <td>...</td>\n",
       "      <td>NaN</td>\n",
       "      <td>346</td>\n",
       "      <td>20.0</td>\n",
       "      <td>3.0</td>\n",
       "      <td>0.0</td>\n",
       "      <td>0.0</td>\n",
       "      <td>2021-04-22 23:05:00_346</td>\n",
       "      <td>NaN</td>\n",
       "      <td>NaN</td>\n",
       "      <td>NaN</td>\n",
       "    </tr>\n",
       "    <tr>\n",
       "      <th>2477865</th>\n",
       "      <td>2021-04-30 11:10:00_156</td>\n",
       "      <td>大阪</td>\n",
       "      <td>346</td>\n",
       "      <td>156</td>\n",
       "      <td>2021/04/30</td>\n",
       "      <td>11:10:00</td>\n",
       "      <td>4</td>\n",
       "      <td>NaN</td>\n",
       "      <td>100</td>\n",
       "      <td>NaN</td>\n",
       "      <td>...</td>\n",
       "      <td>NaN</td>\n",
       "      <td>346</td>\n",
       "      <td>20.0</td>\n",
       "      <td>3.0</td>\n",
       "      <td>0.0</td>\n",
       "      <td>0.0</td>\n",
       "      <td>2021-04-30 11:10:00_346</td>\n",
       "      <td>NaN</td>\n",
       "      <td>NaN</td>\n",
       "      <td>NaN</td>\n",
       "    </tr>\n",
       "    <tr>\n",
       "      <th>2477953</th>\n",
       "      <td>2021-04-30 18:30:00_156</td>\n",
       "      <td>大阪</td>\n",
       "      <td>346</td>\n",
       "      <td>156</td>\n",
       "      <td>2021/04/30</td>\n",
       "      <td>18:30:00</td>\n",
       "      <td>4</td>\n",
       "      <td>NaN</td>\n",
       "      <td>111</td>\n",
       "      <td>NaN</td>\n",
       "      <td>...</td>\n",
       "      <td>NaN</td>\n",
       "      <td>346</td>\n",
       "      <td>20.0</td>\n",
       "      <td>3.0</td>\n",
       "      <td>0.0</td>\n",
       "      <td>0.0</td>\n",
       "      <td>2021-04-30 18:30:00_346</td>\n",
       "      <td>NaN</td>\n",
       "      <td>NaN</td>\n",
       "      <td>NaN</td>\n",
       "    </tr>\n",
       "    <tr>\n",
       "      <th>5134390</th>\n",
       "      <td>2021-04-22 23:05:00_189</td>\n",
       "      <td>湾岸</td>\n",
       "      <td>708</td>\n",
       "      <td>189</td>\n",
       "      <td>2021/04/22</td>\n",
       "      <td>23:05:00</td>\n",
       "      <td>5</td>\n",
       "      <td>NaN</td>\n",
       "      <td>84</td>\n",
       "      <td>NaN</td>\n",
       "      <td>...</td>\n",
       "      <td>NaN</td>\n",
       "      <td>708</td>\n",
       "      <td>23.0</td>\n",
       "      <td>3.0</td>\n",
       "      <td>0.0</td>\n",
       "      <td>0.0</td>\n",
       "      <td>2021-04-22 23:05:00_708</td>\n",
       "      <td>NaN</td>\n",
       "      <td>NaN</td>\n",
       "      <td>NaN</td>\n",
       "    </tr>\n",
       "    <tr>\n",
       "      <th>6016910</th>\n",
       "      <td>2021-04-22 23:05:00_190</td>\n",
       "      <td>湾岸</td>\n",
       "      <td>829</td>\n",
       "      <td>190</td>\n",
       "      <td>2021/04/22</td>\n",
       "      <td>23:05:00</td>\n",
       "      <td>5</td>\n",
       "      <td>NaN</td>\n",
       "      <td>120</td>\n",
       "      <td>NaN</td>\n",
       "      <td>...</td>\n",
       "      <td>NaN</td>\n",
       "      <td>829</td>\n",
       "      <td>24.0</td>\n",
       "      <td>3.0</td>\n",
       "      <td>0.0</td>\n",
       "      <td>0.0</td>\n",
       "      <td>2021-04-22 23:05:00_829</td>\n",
       "      <td>NaN</td>\n",
       "      <td>NaN</td>\n",
       "      <td>NaN</td>\n",
       "    </tr>\n",
       "    <tr>\n",
       "      <th>6366922</th>\n",
       "      <td>2021-04-22 23:05:00_333</td>\n",
       "      <td>湾岸</td>\n",
       "      <td>877</td>\n",
       "      <td>333</td>\n",
       "      <td>2021/04/22</td>\n",
       "      <td>23:05:00</td>\n",
       "      <td>5</td>\n",
       "      <td>NaN</td>\n",
       "      <td>79</td>\n",
       "      <td>NaN</td>\n",
       "      <td>...</td>\n",
       "      <td>63.0</td>\n",
       "      <td>877</td>\n",
       "      <td>39.0</td>\n",
       "      <td>3.0</td>\n",
       "      <td>0.0</td>\n",
       "      <td>0.0</td>\n",
       "      <td>2021-04-22 23:05:00_877</td>\n",
       "      <td>NaN</td>\n",
       "      <td>NaN</td>\n",
       "      <td>NaN</td>\n",
       "    </tr>\n",
       "    <tr>\n",
       "      <th>6374532</th>\n",
       "      <td>2021-04-22 23:05:00_333</td>\n",
       "      <td>湾岸</td>\n",
       "      <td>878</td>\n",
       "      <td>333</td>\n",
       "      <td>2021/04/22</td>\n",
       "      <td>23:05:00</td>\n",
       "      <td>6</td>\n",
       "      <td>NaN</td>\n",
       "      <td>93</td>\n",
       "      <td>NaN</td>\n",
       "      <td>...</td>\n",
       "      <td>NaN</td>\n",
       "      <td>878</td>\n",
       "      <td>39.0</td>\n",
       "      <td>3.0</td>\n",
       "      <td>1.0</td>\n",
       "      <td>0.0</td>\n",
       "      <td>2021-04-22 23:05:00_878</td>\n",
       "      <td>NaN</td>\n",
       "      <td>NaN</td>\n",
       "      <td>NaN</td>\n",
       "    </tr>\n",
       "    <tr>\n",
       "      <th>6382142</th>\n",
       "      <td>2021-04-22 23:05:00_333</td>\n",
       "      <td>湾岸</td>\n",
       "      <td>879</td>\n",
       "      <td>333</td>\n",
       "      <td>2021/04/22</td>\n",
       "      <td>23:05:00</td>\n",
       "      <td>3</td>\n",
       "      <td>NaN</td>\n",
       "      <td>82</td>\n",
       "      <td>NaN</td>\n",
       "      <td>...</td>\n",
       "      <td>NaN</td>\n",
       "      <td>879</td>\n",
       "      <td>39.0</td>\n",
       "      <td>3.0</td>\n",
       "      <td>0.0</td>\n",
       "      <td>0.0</td>\n",
       "      <td>2021-04-22 23:05:00_879</td>\n",
       "      <td>NaN</td>\n",
       "      <td>NaN</td>\n",
       "      <td>NaN</td>\n",
       "    </tr>\n",
       "    <tr>\n",
       "      <th>6389752</th>\n",
       "      <td>2021-04-22 23:05:00_333</td>\n",
       "      <td>湾岸</td>\n",
       "      <td>880</td>\n",
       "      <td>333</td>\n",
       "      <td>2021/04/22</td>\n",
       "      <td>23:05:00</td>\n",
       "      <td>5</td>\n",
       "      <td>NaN</td>\n",
       "      <td>82</td>\n",
       "      <td>NaN</td>\n",
       "      <td>...</td>\n",
       "      <td>NaN</td>\n",
       "      <td>880</td>\n",
       "      <td>39.0</td>\n",
       "      <td>3.0</td>\n",
       "      <td>0.0</td>\n",
       "      <td>0.0</td>\n",
       "      <td>2021-04-22 23:05:00_880</td>\n",
       "      <td>NaN</td>\n",
       "      <td>NaN</td>\n",
       "      <td>NaN</td>\n",
       "    </tr>\n",
       "  </tbody>\n",
       "</table>\n",
       "<p>19 rows × 43 columns</p>\n",
       "</div>"
      ],
      "text/plain": [
       "                           idx_x 地区名  JDP番号  区間番号          日付        時間  区間長  \\\n",
       "220009    2021-04-30 11:10:00_27  大阪     29    27  2021/04/30  11:10:00    6   \n",
       "227618    2021-04-30 11:10:00_27  大阪     30    27  2021/04/30  11:10:00    5   \n",
       "235227    2021-04-30 11:10:00_27  大阪     31    27  2021/04/30  11:10:00    5   \n",
       "242836    2021-04-30 11:10:00_27  大阪     32    27  2021/04/30  11:10:00    3   \n",
       "250445    2021-04-30 11:10:00_27  大阪     33    27  2021/04/30  11:10:00    4   \n",
       "258054    2021-04-30 11:10:00_27  大阪     34    27  2021/04/30  11:10:00    5   \n",
       "415397    2021-04-22 23:05:00_24  大阪     59    24  2021/04/22  23:05:00    3   \n",
       "2407329  2021-04-22 23:05:00_155  大阪    335   155  2021/04/22  23:05:00    3   \n",
       "2409435  2021-04-30 11:10:00_155  大阪    335   155  2021/04/30  11:10:00    3   \n",
       "2409523  2021-04-30 18:30:00_155  大阪    335   155  2021/04/30  18:30:00    3   \n",
       "2475759  2021-04-22 23:05:00_156  大阪    346   156  2021/04/22  23:05:00    4   \n",
       "2477865  2021-04-30 11:10:00_156  大阪    346   156  2021/04/30  11:10:00    4   \n",
       "2477953  2021-04-30 18:30:00_156  大阪    346   156  2021/04/30  18:30:00    4   \n",
       "5134390  2021-04-22 23:05:00_189  湾岸    708   189  2021/04/22  23:05:00    5   \n",
       "6016910  2021-04-22 23:05:00_190  湾岸    829   190  2021/04/22  23:05:00    5   \n",
       "6366922  2021-04-22 23:05:00_333  湾岸    877   333  2021/04/22  23:05:00    5   \n",
       "6374532  2021-04-22 23:05:00_333  湾岸    878   333  2021/04/22  23:05:00    6   \n",
       "6382142  2021-04-22 23:05:00_333  湾岸    879   333  2021/04/22  23:05:00    3   \n",
       "6389752  2021-04-22 23:05:00_333  湾岸    880   333  2021/04/22  23:05:00    5   \n",
       "\n",
       "         エラー   速度  交通量  ...  jspd4  jdp  keito  hei  sag  fare  \\\n",
       "220009   NaN  106  NaN  ...    NaN   29    1.0  1.0  1.0   0.0   \n",
       "227618   NaN  120  NaN  ...    NaN   30    1.0  3.0  0.0   0.0   \n",
       "235227   NaN  111  NaN  ...    NaN   31    1.0  2.0  0.0   0.0   \n",
       "242836   NaN   99  NaN  ...    NaN   32    1.0  2.0  0.0   0.0   \n",
       "250445   NaN  120  NaN  ...    NaN   33    1.0  2.0  1.0   0.0   \n",
       "258054   NaN   99  NaN  ...    NaN   34    1.0  3.0  1.0   0.0   \n",
       "415397   NaN   99  NaN  ...    NaN   59    2.0  3.0  0.0   0.0   \n",
       "2407329  NaN   99  NaN  ...    NaN  335   19.0  3.0  0.0   0.0   \n",
       "2409435  NaN   94  NaN  ...    NaN  335   19.0  3.0  0.0   0.0   \n",
       "2409523  NaN  115  NaN  ...    NaN  335   19.0  3.0  0.0   0.0   \n",
       "2475759  NaN  100  NaN  ...    NaN  346   20.0  3.0  0.0   0.0   \n",
       "2477865  NaN  100  NaN  ...    NaN  346   20.0  3.0  0.0   0.0   \n",
       "2477953  NaN  111  NaN  ...    NaN  346   20.0  3.0  0.0   0.0   \n",
       "5134390  NaN   84  NaN  ...    NaN  708   23.0  3.0  0.0   0.0   \n",
       "6016910  NaN  120  NaN  ...    NaN  829   24.0  3.0  0.0   0.0   \n",
       "6366922  NaN   79  NaN  ...   63.0  877   39.0  3.0  0.0   0.0   \n",
       "6374532  NaN   93  NaN  ...    NaN  878   39.0  3.0  1.0   0.0   \n",
       "6382142  NaN   82  NaN  ...    NaN  879   39.0  3.0  0.0   0.0   \n",
       "6389752  NaN   82  NaN  ...    NaN  880   39.0  3.0  0.0   0.0   \n",
       "\n",
       "                             idx  事故の形態１  acc souko  \n",
       "220009    2021-04-30 11:10:00_29     NaN  NaN   NaN  \n",
       "227618    2021-04-30 11:10:00_30     NaN  NaN   NaN  \n",
       "235227    2021-04-30 11:10:00_31     NaN  NaN   NaN  \n",
       "242836    2021-04-30 11:10:00_32     NaN  NaN   NaN  \n",
       "250445    2021-04-30 11:10:00_33     NaN  NaN   NaN  \n",
       "258054    2021-04-30 11:10:00_34     NaN  NaN   NaN  \n",
       "415397    2021-04-22 23:05:00_59     NaN  NaN   NaN  \n",
       "2407329  2021-04-22 23:05:00_335     NaN  NaN   NaN  \n",
       "2409435  2021-04-30 11:10:00_335     NaN  NaN   NaN  \n",
       "2409523  2021-04-30 18:30:00_335     NaN  NaN   NaN  \n",
       "2475759  2021-04-22 23:05:00_346     NaN  NaN   NaN  \n",
       "2477865  2021-04-30 11:10:00_346     NaN  NaN   NaN  \n",
       "2477953  2021-04-30 18:30:00_346     NaN  NaN   NaN  \n",
       "5134390  2021-04-22 23:05:00_708     NaN  NaN   NaN  \n",
       "6016910  2021-04-22 23:05:00_829     NaN  NaN   NaN  \n",
       "6366922  2021-04-22 23:05:00_877     NaN  NaN   NaN  \n",
       "6374532  2021-04-22 23:05:00_878     NaN  NaN   NaN  \n",
       "6382142  2021-04-22 23:05:00_879     NaN  NaN   NaN  \n",
       "6389752  2021-04-22 23:05:00_880     NaN  NaN   NaN  \n",
       "\n",
       "[19 rows x 43 columns]"
      ]
     },
     "execution_count": 22,
     "metadata": {},
     "output_type": "execute_result"
    }
   ],
   "source": [
    "dat[pd.isna(dat.交通量)]"
   ]
  },
  {
   "cell_type": "code",
   "execution_count": 23,
   "metadata": {},
   "outputs": [],
   "source": [
    "dat=dat[~pd.isna(dat.交通量)]"
   ]
  },
  {
   "cell_type": "code",
   "execution_count": 26,
   "metadata": {},
   "outputs": [],
   "source": [
    "dat[\"souko\"]=dat.区間長*dat.交通量/10"
   ]
  },
  {
   "cell_type": "code",
   "execution_count": 27,
   "metadata": {},
   "outputs": [
    {
     "data": {
      "text/html": [
       "<div>\n",
       "<style scoped>\n",
       "    .dataframe tbody tr th:only-of-type {\n",
       "        vertical-align: middle;\n",
       "    }\n",
       "\n",
       "    .dataframe tbody tr th {\n",
       "        vertical-align: top;\n",
       "    }\n",
       "\n",
       "    .dataframe thead th {\n",
       "        text-align: right;\n",
       "    }\n",
       "</style>\n",
       "<table border=\"1\" class=\"dataframe\">\n",
       "  <thead>\n",
       "    <tr style=\"text-align: right;\">\n",
       "      <th></th>\n",
       "      <th>idx_x</th>\n",
       "      <th>地区名</th>\n",
       "      <th>JDP番号</th>\n",
       "      <th>区間番号</th>\n",
       "      <th>日付</th>\n",
       "      <th>時間</th>\n",
       "      <th>区間長</th>\n",
       "      <th>エラー</th>\n",
       "      <th>速度</th>\n",
       "      <th>交通量</th>\n",
       "      <th>...</th>\n",
       "      <th>jspd4</th>\n",
       "      <th>jdp</th>\n",
       "      <th>keito</th>\n",
       "      <th>hei</th>\n",
       "      <th>sag</th>\n",
       "      <th>fare</th>\n",
       "      <th>idx</th>\n",
       "      <th>事故の形態１</th>\n",
       "      <th>acc</th>\n",
       "      <th>souko</th>\n",
       "    </tr>\n",
       "  </thead>\n",
       "  <tbody>\n",
       "  </tbody>\n",
       "</table>\n",
       "<p>0 rows × 43 columns</p>\n",
       "</div>"
      ],
      "text/plain": [
       "Empty DataFrame\n",
       "Columns: [idx_x, 地区名, JDP番号, 区間番号, 日付, 時間, 区間長, エラー, 速度, 交通量, 渋滞, 事故, 休日, 時間帯, kcode, 降水量, 滑り止め, jdp_x, suberij, jidx, idx_y, jdp_y, jtrf1, jocc1, jspd1, jtrf2, jocc2, jspd2, jtrf3, jocc3, jspd3, jtrf4, jocc4, jspd4, jdp, keito, hei, sag, fare, idx, 事故の形態１, acc, souko]\n",
       "Index: []\n",
       "\n",
       "[0 rows x 43 columns]"
      ]
     },
     "execution_count": 27,
     "metadata": {},
     "output_type": "execute_result"
    }
   ],
   "source": [
    "dat[pd.isna(dat.souko)]"
   ]
  },
  {
   "cell_type": "code",
   "execution_count": 28,
   "metadata": {},
   "outputs": [],
   "source": [
    "tt=dat.loc[:,[\"idx\",\"souko\",\"keito\",\"acc\",\"事故の形態1\"]]"
   ]
  },
  {
   "cell_type": "code",
   "execution_count": 31,
   "metadata": {},
   "outputs": [],
   "source": [
    "tt.to_csv(\"D:/ahn_pc/workfile/2021/阪神事故リスク/dsouko04.csv\", index = False, encoding=\"shift_jis\")"
   ]
  },
  {
   "cell_type": "code",
   "execution_count": null,
   "metadata": {},
   "outputs": [],
   "source": []
  },
  {
   "cell_type": "code",
   "execution_count": null,
   "metadata": {},
   "outputs": [],
   "source": []
  },
  {
   "cell_type": "code",
   "execution_count": 14,
   "metadata": {},
   "outputs": [],
   "source": [
    "df[\"idx\"]=df.idx.str[:19]+\"_\"+df.JDP番号.astype(str)"
   ]
  },
  {
   "cell_type": "code",
   "execution_count": 16,
   "metadata": {},
   "outputs": [
    {
     "data": {
      "text/html": [
       "<div>\n",
       "<style scoped>\n",
       "    .dataframe tbody tr th:only-of-type {\n",
       "        vertical-align: middle;\n",
       "    }\n",
       "\n",
       "    .dataframe tbody tr th {\n",
       "        vertical-align: top;\n",
       "    }\n",
       "\n",
       "    .dataframe thead th {\n",
       "        text-align: right;\n",
       "    }\n",
       "</style>\n",
       "<table border=\"1\" class=\"dataframe\">\n",
       "  <thead>\n",
       "    <tr style=\"text-align: right;\">\n",
       "      <th></th>\n",
       "      <th>idx</th>\n",
       "      <th>地区名</th>\n",
       "      <th>JDP番号</th>\n",
       "      <th>区間番号</th>\n",
       "      <th>日付</th>\n",
       "      <th>時間</th>\n",
       "      <th>区間長</th>\n",
       "      <th>エラー</th>\n",
       "      <th>速度</th>\n",
       "      <th>交通量</th>\n",
       "      <th>渋滞</th>\n",
       "      <th>事故</th>\n",
       "      <th>休日</th>\n",
       "      <th>時間帯</th>\n",
       "      <th>kcode</th>\n",
       "      <th>降水量</th>\n",
       "      <th>滑り止め</th>\n",
       "    </tr>\n",
       "  </thead>\n",
       "  <tbody>\n",
       "    <tr>\n",
       "      <th>7412101</th>\n",
       "      <td>2021-04-05 10:15:00_1041</td>\n",
       "      <td>兵庫</td>\n",
       "      <td>1041</td>\n",
       "      <td>374</td>\n",
       "      <td>2021/04/05</td>\n",
       "      <td>10:15:00</td>\n",
       "      <td>7</td>\n",
       "      <td>H</td>\n",
       "      <td>0</td>\n",
       "      <td>58.0</td>\n",
       "      <td>NaN</td>\n",
       "      <td>NaN</td>\n",
       "      <td>1</td>\n",
       "      <td>1</td>\n",
       "      <td>NaN</td>\n",
       "      <td>0.0</td>\n",
       "      <td>0</td>\n",
       "    </tr>\n",
       "  </tbody>\n",
       "</table>\n",
       "</div>"
      ],
      "text/plain": [
       "                              idx 地区名  JDP番号  区間番号          日付        時間  区間長  \\\n",
       "7412101  2021-04-05 10:15:00_1041  兵庫   1041   374  2021/04/05  10:15:00    7   \n",
       "\n",
       "        エラー  速度   交通量  渋滞  事故  休日  時間帯  kcode  降水量  滑り止め  \n",
       "7412101   H   0  58.0 NaN NaN   1    1    NaN  0.0     0  "
      ]
     },
     "execution_count": 16,
     "metadata": {},
     "output_type": "execute_result"
    }
   ],
   "source": [
    "df[df.idx==\"2021-04-05 10:15:00_1041\"]"
   ]
  },
  {
   "cell_type": "code",
   "execution_count": 12,
   "metadata": {},
   "outputs": [
    {
     "data": {
      "text/html": [
       "<div>\n",
       "<style scoped>\n",
       "    .dataframe tbody tr th:only-of-type {\n",
       "        vertical-align: middle;\n",
       "    }\n",
       "\n",
       "    .dataframe tbody tr th {\n",
       "        vertical-align: top;\n",
       "    }\n",
       "\n",
       "    .dataframe thead th {\n",
       "        text-align: right;\n",
       "    }\n",
       "</style>\n",
       "<table border=\"1\" class=\"dataframe\">\n",
       "  <thead>\n",
       "    <tr style=\"text-align: right;\">\n",
       "      <th></th>\n",
       "      <th>idx</th>\n",
       "      <th>地区名</th>\n",
       "      <th>JDP番号</th>\n",
       "      <th>区間番号</th>\n",
       "      <th>日付</th>\n",
       "      <th>時間</th>\n",
       "      <th>区間長</th>\n",
       "      <th>エラー</th>\n",
       "      <th>速度</th>\n",
       "      <th>交通量</th>\n",
       "      <th>渋滞</th>\n",
       "      <th>事故</th>\n",
       "      <th>休日</th>\n",
       "      <th>時間帯</th>\n",
       "      <th>kcode</th>\n",
       "      <th>降水量</th>\n",
       "      <th>滑り止め</th>\n",
       "    </tr>\n",
       "  </thead>\n",
       "  <tbody>\n",
       "    <tr>\n",
       "      <th>0</th>\n",
       "      <td>2021-04-04 00:00:00_1</td>\n",
       "      <td>大阪</td>\n",
       "      <td>1</td>\n",
       "      <td>1</td>\n",
       "      <td>2021/04/04</td>\n",
       "      <td>0:00:00</td>\n",
       "      <td>4</td>\n",
       "      <td>NaN</td>\n",
       "      <td>60</td>\n",
       "      <td>26.0</td>\n",
       "      <td>NaN</td>\n",
       "      <td>NaN</td>\n",
       "      <td>3</td>\n",
       "      <td>2</td>\n",
       "      <td>NaN</td>\n",
       "      <td>0.0</td>\n",
       "      <td>0</td>\n",
       "    </tr>\n",
       "    <tr>\n",
       "      <th>1</th>\n",
       "      <td>2021-04-04 00:05:00_1</td>\n",
       "      <td>大阪</td>\n",
       "      <td>1</td>\n",
       "      <td>1</td>\n",
       "      <td>2021/04/04</td>\n",
       "      <td>0:05:00</td>\n",
       "      <td>4</td>\n",
       "      <td>NaN</td>\n",
       "      <td>72</td>\n",
       "      <td>41.0</td>\n",
       "      <td>NaN</td>\n",
       "      <td>NaN</td>\n",
       "      <td>3</td>\n",
       "      <td>2</td>\n",
       "      <td>NaN</td>\n",
       "      <td>0.0</td>\n",
       "      <td>0</td>\n",
       "    </tr>\n",
       "    <tr>\n",
       "      <th>2</th>\n",
       "      <td>2021-04-04 00:10:00_1</td>\n",
       "      <td>大阪</td>\n",
       "      <td>1</td>\n",
       "      <td>1</td>\n",
       "      <td>2021/04/04</td>\n",
       "      <td>0:10:00</td>\n",
       "      <td>4</td>\n",
       "      <td>NaN</td>\n",
       "      <td>64</td>\n",
       "      <td>40.0</td>\n",
       "      <td>NaN</td>\n",
       "      <td>NaN</td>\n",
       "      <td>3</td>\n",
       "      <td>2</td>\n",
       "      <td>NaN</td>\n",
       "      <td>0.0</td>\n",
       "      <td>0</td>\n",
       "    </tr>\n",
       "    <tr>\n",
       "      <th>3</th>\n",
       "      <td>2021-04-04 00:15:00_1</td>\n",
       "      <td>大阪</td>\n",
       "      <td>1</td>\n",
       "      <td>1</td>\n",
       "      <td>2021/04/04</td>\n",
       "      <td>0:15:00</td>\n",
       "      <td>4</td>\n",
       "      <td>NaN</td>\n",
       "      <td>62</td>\n",
       "      <td>21.0</td>\n",
       "      <td>NaN</td>\n",
       "      <td>NaN</td>\n",
       "      <td>3</td>\n",
       "      <td>2</td>\n",
       "      <td>NaN</td>\n",
       "      <td>0.0</td>\n",
       "      <td>0</td>\n",
       "    </tr>\n",
       "    <tr>\n",
       "      <th>4</th>\n",
       "      <td>2021-04-04 00:20:00_1</td>\n",
       "      <td>大阪</td>\n",
       "      <td>1</td>\n",
       "      <td>1</td>\n",
       "      <td>2021/04/04</td>\n",
       "      <td>0:20:00</td>\n",
       "      <td>4</td>\n",
       "      <td>NaN</td>\n",
       "      <td>64</td>\n",
       "      <td>28.0</td>\n",
       "      <td>NaN</td>\n",
       "      <td>NaN</td>\n",
       "      <td>3</td>\n",
       "      <td>2</td>\n",
       "      <td>NaN</td>\n",
       "      <td>0.0</td>\n",
       "      <td>0</td>\n",
       "    </tr>\n",
       "    <tr>\n",
       "      <th>...</th>\n",
       "      <td>...</td>\n",
       "      <td>...</td>\n",
       "      <td>...</td>\n",
       "      <td>...</td>\n",
       "      <td>...</td>\n",
       "      <td>...</td>\n",
       "      <td>...</td>\n",
       "      <td>...</td>\n",
       "      <td>...</td>\n",
       "      <td>...</td>\n",
       "      <td>...</td>\n",
       "      <td>...</td>\n",
       "      <td>...</td>\n",
       "      <td>...</td>\n",
       "      <td>...</td>\n",
       "      <td>...</td>\n",
       "      <td>...</td>\n",
       "    </tr>\n",
       "    <tr>\n",
       "      <th>8301816</th>\n",
       "      <td>2021-04-30 23:30:00_501</td>\n",
       "      <td>湾岸</td>\n",
       "      <td>1294</td>\n",
       "      <td>501</td>\n",
       "      <td>2021/04/30</td>\n",
       "      <td>23:30:00</td>\n",
       "      <td>2</td>\n",
       "      <td>NaN</td>\n",
       "      <td>79</td>\n",
       "      <td>5.0</td>\n",
       "      <td>NaN</td>\n",
       "      <td>NaN</td>\n",
       "      <td>1</td>\n",
       "      <td>2</td>\n",
       "      <td>NaN</td>\n",
       "      <td>0.0</td>\n",
       "      <td>0</td>\n",
       "    </tr>\n",
       "    <tr>\n",
       "      <th>8301817</th>\n",
       "      <td>2021-04-30 23:35:00_501</td>\n",
       "      <td>湾岸</td>\n",
       "      <td>1294</td>\n",
       "      <td>501</td>\n",
       "      <td>2021/04/30</td>\n",
       "      <td>23:35:00</td>\n",
       "      <td>2</td>\n",
       "      <td>NaN</td>\n",
       "      <td>69</td>\n",
       "      <td>9.0</td>\n",
       "      <td>NaN</td>\n",
       "      <td>NaN</td>\n",
       "      <td>1</td>\n",
       "      <td>2</td>\n",
       "      <td>NaN</td>\n",
       "      <td>0.0</td>\n",
       "      <td>0</td>\n",
       "    </tr>\n",
       "    <tr>\n",
       "      <th>8301818</th>\n",
       "      <td>2021-04-30 23:40:00_501</td>\n",
       "      <td>湾岸</td>\n",
       "      <td>1294</td>\n",
       "      <td>501</td>\n",
       "      <td>2021/04/30</td>\n",
       "      <td>23:40:00</td>\n",
       "      <td>2</td>\n",
       "      <td>NaN</td>\n",
       "      <td>36</td>\n",
       "      <td>6.0</td>\n",
       "      <td>NaN</td>\n",
       "      <td>NaN</td>\n",
       "      <td>1</td>\n",
       "      <td>2</td>\n",
       "      <td>NaN</td>\n",
       "      <td>0.0</td>\n",
       "      <td>0</td>\n",
       "    </tr>\n",
       "    <tr>\n",
       "      <th>8301819</th>\n",
       "      <td>2021-04-30 23:45:00_501</td>\n",
       "      <td>湾岸</td>\n",
       "      <td>1294</td>\n",
       "      <td>501</td>\n",
       "      <td>2021/04/30</td>\n",
       "      <td>23:45:00</td>\n",
       "      <td>2</td>\n",
       "      <td>NaN</td>\n",
       "      <td>47</td>\n",
       "      <td>5.0</td>\n",
       "      <td>NaN</td>\n",
       "      <td>NaN</td>\n",
       "      <td>1</td>\n",
       "      <td>2</td>\n",
       "      <td>NaN</td>\n",
       "      <td>0.0</td>\n",
       "      <td>0</td>\n",
       "    </tr>\n",
       "    <tr>\n",
       "      <th>8301820</th>\n",
       "      <td>2021-04-30 23:50:00_501</td>\n",
       "      <td>湾岸</td>\n",
       "      <td>1294</td>\n",
       "      <td>501</td>\n",
       "      <td>2021/04/30</td>\n",
       "      <td>23:50:00</td>\n",
       "      <td>2</td>\n",
       "      <td>NaN</td>\n",
       "      <td>89</td>\n",
       "      <td>4.0</td>\n",
       "      <td>NaN</td>\n",
       "      <td>NaN</td>\n",
       "      <td>1</td>\n",
       "      <td>2</td>\n",
       "      <td>NaN</td>\n",
       "      <td>0.0</td>\n",
       "      <td>0</td>\n",
       "    </tr>\n",
       "  </tbody>\n",
       "</table>\n",
       "<p>8301821 rows × 17 columns</p>\n",
       "</div>"
      ],
      "text/plain": [
       "                             idx 地区名  JDP番号  区間番号          日付        時間  区間長  \\\n",
       "0          2021-04-04 00:00:00_1  大阪      1     1  2021/04/04   0:00:00    4   \n",
       "1          2021-04-04 00:05:00_1  大阪      1     1  2021/04/04   0:05:00    4   \n",
       "2          2021-04-04 00:10:00_1  大阪      1     1  2021/04/04   0:10:00    4   \n",
       "3          2021-04-04 00:15:00_1  大阪      1     1  2021/04/04   0:15:00    4   \n",
       "4          2021-04-04 00:20:00_1  大阪      1     1  2021/04/04   0:20:00    4   \n",
       "...                          ...  ..    ...   ...         ...       ...  ...   \n",
       "8301816  2021-04-30 23:30:00_501  湾岸   1294   501  2021/04/30  23:30:00    2   \n",
       "8301817  2021-04-30 23:35:00_501  湾岸   1294   501  2021/04/30  23:35:00    2   \n",
       "8301818  2021-04-30 23:40:00_501  湾岸   1294   501  2021/04/30  23:40:00    2   \n",
       "8301819  2021-04-30 23:45:00_501  湾岸   1294   501  2021/04/30  23:45:00    2   \n",
       "8301820  2021-04-30 23:50:00_501  湾岸   1294   501  2021/04/30  23:50:00    2   \n",
       "\n",
       "         エラー  速度   交通量  渋滞  事故  休日  時間帯  kcode  降水量  滑り止め  \n",
       "0        NaN  60  26.0 NaN NaN   3    2    NaN  0.0     0  \n",
       "1        NaN  72  41.0 NaN NaN   3    2    NaN  0.0     0  \n",
       "2        NaN  64  40.0 NaN NaN   3    2    NaN  0.0     0  \n",
       "3        NaN  62  21.0 NaN NaN   3    2    NaN  0.0     0  \n",
       "4        NaN  64  28.0 NaN NaN   3    2    NaN  0.0     0  \n",
       "...      ...  ..   ...  ..  ..  ..  ...    ...  ...   ...  \n",
       "8301816  NaN  79   5.0 NaN NaN   1    2    NaN  0.0     0  \n",
       "8301817  NaN  69   9.0 NaN NaN   1    2    NaN  0.0     0  \n",
       "8301818  NaN  36   6.0 NaN NaN   1    2    NaN  0.0     0  \n",
       "8301819  NaN  47   5.0 NaN NaN   1    2    NaN  0.0     0  \n",
       "8301820  NaN  89   4.0 NaN NaN   1    2    NaN  0.0     0  \n",
       "\n",
       "[8301821 rows x 17 columns]"
      ]
     },
     "execution_count": 12,
     "metadata": {},
     "output_type": "execute_result"
    }
   ],
   "source": [
    "df"
   ]
  },
  {
   "cell_type": "code",
   "execution_count": null,
   "metadata": {},
   "outputs": [],
   "source": []
  },
  {
   "cell_type": "code",
   "execution_count": null,
   "metadata": {},
   "outputs": [],
   "source": []
  },
  {
   "cell_type": "code",
   "execution_count": null,
   "metadata": {},
   "outputs": [],
   "source": []
  },
  {
   "cell_type": "code",
   "execution_count": null,
   "metadata": {},
   "outputs": [],
   "source": []
  },
  {
   "cell_type": "code",
   "execution_count": 3,
   "metadata": {},
   "outputs": [
    {
     "data": {
      "text/html": [
       "<div>\n",
       "<style scoped>\n",
       "    .dataframe tbody tr th:only-of-type {\n",
       "        vertical-align: middle;\n",
       "    }\n",
       "\n",
       "    .dataframe tbody tr th {\n",
       "        vertical-align: top;\n",
       "    }\n",
       "\n",
       "    .dataframe thead th {\n",
       "        text-align: right;\n",
       "    }\n",
       "</style>\n",
       "<table border=\"1\" class=\"dataframe\">\n",
       "  <thead>\n",
       "    <tr style=\"text-align: right;\">\n",
       "      <th></th>\n",
       "      <th>idx</th>\n",
       "      <th>地区名</th>\n",
       "      <th>JDP番号</th>\n",
       "      <th>区間番号</th>\n",
       "      <th>日付</th>\n",
       "      <th>時間</th>\n",
       "      <th>区間長</th>\n",
       "      <th>エラー</th>\n",
       "      <th>速度</th>\n",
       "      <th>交通量</th>\n",
       "      <th>渋滞</th>\n",
       "      <th>事故</th>\n",
       "      <th>休日</th>\n",
       "      <th>時間帯</th>\n",
       "      <th>kcode</th>\n",
       "      <th>降水量</th>\n",
       "      <th>滑り止め</th>\n",
       "    </tr>\n",
       "  </thead>\n",
       "  <tbody>\n",
       "    <tr>\n",
       "      <th>0</th>\n",
       "      <td>2021-10-01 00:00:00_1</td>\n",
       "      <td>大阪</td>\n",
       "      <td>1</td>\n",
       "      <td>1</td>\n",
       "      <td>2021/10/01</td>\n",
       "      <td>0:00:00</td>\n",
       "      <td>4</td>\n",
       "      <td>NaN</td>\n",
       "      <td>63</td>\n",
       "      <td>26.0</td>\n",
       "      <td>NaN</td>\n",
       "      <td>NaN</td>\n",
       "      <td>1</td>\n",
       "      <td>2</td>\n",
       "      <td>NaN</td>\n",
       "      <td>0.0</td>\n",
       "      <td>0</td>\n",
       "    </tr>\n",
       "    <tr>\n",
       "      <th>1</th>\n",
       "      <td>2021-10-01 00:05:00_1</td>\n",
       "      <td>大阪</td>\n",
       "      <td>1</td>\n",
       "      <td>1</td>\n",
       "      <td>2021/10/01</td>\n",
       "      <td>0:05:00</td>\n",
       "      <td>4</td>\n",
       "      <td>NaN</td>\n",
       "      <td>55</td>\n",
       "      <td>46.0</td>\n",
       "      <td>NaN</td>\n",
       "      <td>NaN</td>\n",
       "      <td>1</td>\n",
       "      <td>2</td>\n",
       "      <td>NaN</td>\n",
       "      <td>0.0</td>\n",
       "      <td>0</td>\n",
       "    </tr>\n",
       "    <tr>\n",
       "      <th>2</th>\n",
       "      <td>2021-10-01 00:10:00_1</td>\n",
       "      <td>大阪</td>\n",
       "      <td>1</td>\n",
       "      <td>1</td>\n",
       "      <td>2021/10/01</td>\n",
       "      <td>0:10:00</td>\n",
       "      <td>4</td>\n",
       "      <td>NaN</td>\n",
       "      <td>61</td>\n",
       "      <td>47.0</td>\n",
       "      <td>NaN</td>\n",
       "      <td>NaN</td>\n",
       "      <td>1</td>\n",
       "      <td>2</td>\n",
       "      <td>NaN</td>\n",
       "      <td>0.0</td>\n",
       "      <td>0</td>\n",
       "    </tr>\n",
       "    <tr>\n",
       "      <th>3</th>\n",
       "      <td>2021-10-01 00:15:00_1</td>\n",
       "      <td>大阪</td>\n",
       "      <td>1</td>\n",
       "      <td>1</td>\n",
       "      <td>2021/10/01</td>\n",
       "      <td>0:15:00</td>\n",
       "      <td>4</td>\n",
       "      <td>NaN</td>\n",
       "      <td>68</td>\n",
       "      <td>41.0</td>\n",
       "      <td>NaN</td>\n",
       "      <td>NaN</td>\n",
       "      <td>1</td>\n",
       "      <td>2</td>\n",
       "      <td>NaN</td>\n",
       "      <td>0.0</td>\n",
       "      <td>0</td>\n",
       "    </tr>\n",
       "    <tr>\n",
       "      <th>4</th>\n",
       "      <td>2021-10-01 00:20:00_1</td>\n",
       "      <td>大阪</td>\n",
       "      <td>1</td>\n",
       "      <td>1</td>\n",
       "      <td>2021/10/01</td>\n",
       "      <td>0:20:00</td>\n",
       "      <td>4</td>\n",
       "      <td>NaN</td>\n",
       "      <td>59</td>\n",
       "      <td>42.0</td>\n",
       "      <td>NaN</td>\n",
       "      <td>NaN</td>\n",
       "      <td>1</td>\n",
       "      <td>2</td>\n",
       "      <td>NaN</td>\n",
       "      <td>0.0</td>\n",
       "      <td>0</td>\n",
       "    </tr>\n",
       "    <tr>\n",
       "      <th>5</th>\n",
       "      <td>2021-10-01 00:25:00_1</td>\n",
       "      <td>大阪</td>\n",
       "      <td>1</td>\n",
       "      <td>1</td>\n",
       "      <td>2021/10/01</td>\n",
       "      <td>0:25:00</td>\n",
       "      <td>4</td>\n",
       "      <td>NaN</td>\n",
       "      <td>59</td>\n",
       "      <td>38.0</td>\n",
       "      <td>NaN</td>\n",
       "      <td>NaN</td>\n",
       "      <td>1</td>\n",
       "      <td>2</td>\n",
       "      <td>NaN</td>\n",
       "      <td>0.0</td>\n",
       "      <td>0</td>\n",
       "    </tr>\n",
       "    <tr>\n",
       "      <th>6</th>\n",
       "      <td>2021-10-01 00:30:00_1</td>\n",
       "      <td>大阪</td>\n",
       "      <td>1</td>\n",
       "      <td>1</td>\n",
       "      <td>2021/10/01</td>\n",
       "      <td>0:30:00</td>\n",
       "      <td>4</td>\n",
       "      <td>NaN</td>\n",
       "      <td>55</td>\n",
       "      <td>24.0</td>\n",
       "      <td>NaN</td>\n",
       "      <td>NaN</td>\n",
       "      <td>1</td>\n",
       "      <td>2</td>\n",
       "      <td>NaN</td>\n",
       "      <td>0.0</td>\n",
       "      <td>0</td>\n",
       "    </tr>\n",
       "    <tr>\n",
       "      <th>7</th>\n",
       "      <td>2021-10-01 00:35:00_1</td>\n",
       "      <td>大阪</td>\n",
       "      <td>1</td>\n",
       "      <td>1</td>\n",
       "      <td>2021/10/01</td>\n",
       "      <td>0:35:00</td>\n",
       "      <td>4</td>\n",
       "      <td>NaN</td>\n",
       "      <td>55</td>\n",
       "      <td>24.0</td>\n",
       "      <td>NaN</td>\n",
       "      <td>NaN</td>\n",
       "      <td>1</td>\n",
       "      <td>2</td>\n",
       "      <td>NaN</td>\n",
       "      <td>0.0</td>\n",
       "      <td>0</td>\n",
       "    </tr>\n",
       "    <tr>\n",
       "      <th>8</th>\n",
       "      <td>2021-10-01 00:40:00_1</td>\n",
       "      <td>大阪</td>\n",
       "      <td>1</td>\n",
       "      <td>1</td>\n",
       "      <td>2021/10/01</td>\n",
       "      <td>0:40:00</td>\n",
       "      <td>4</td>\n",
       "      <td>NaN</td>\n",
       "      <td>66</td>\n",
       "      <td>29.0</td>\n",
       "      <td>NaN</td>\n",
       "      <td>NaN</td>\n",
       "      <td>1</td>\n",
       "      <td>2</td>\n",
       "      <td>NaN</td>\n",
       "      <td>0.0</td>\n",
       "      <td>0</td>\n",
       "    </tr>\n",
       "    <tr>\n",
       "      <th>9</th>\n",
       "      <td>2021-10-01 00:45:00_1</td>\n",
       "      <td>大阪</td>\n",
       "      <td>1</td>\n",
       "      <td>1</td>\n",
       "      <td>2021/10/01</td>\n",
       "      <td>0:45:00</td>\n",
       "      <td>4</td>\n",
       "      <td>NaN</td>\n",
       "      <td>64</td>\n",
       "      <td>26.0</td>\n",
       "      <td>NaN</td>\n",
       "      <td>NaN</td>\n",
       "      <td>1</td>\n",
       "      <td>2</td>\n",
       "      <td>NaN</td>\n",
       "      <td>0.0</td>\n",
       "      <td>0</td>\n",
       "    </tr>\n",
       "  </tbody>\n",
       "</table>\n",
       "</div>"
      ],
      "text/plain": [
       "                     idx 地区名  JDP番号  区間番号          日付       時間  区間長  エラー  速度  \\\n",
       "0  2021-10-01 00:00:00_1  大阪      1     1  2021/10/01  0:00:00    4  NaN  63   \n",
       "1  2021-10-01 00:05:00_1  大阪      1     1  2021/10/01  0:05:00    4  NaN  55   \n",
       "2  2021-10-01 00:10:00_1  大阪      1     1  2021/10/01  0:10:00    4  NaN  61   \n",
       "3  2021-10-01 00:15:00_1  大阪      1     1  2021/10/01  0:15:00    4  NaN  68   \n",
       "4  2021-10-01 00:20:00_1  大阪      1     1  2021/10/01  0:20:00    4  NaN  59   \n",
       "5  2021-10-01 00:25:00_1  大阪      1     1  2021/10/01  0:25:00    4  NaN  59   \n",
       "6  2021-10-01 00:30:00_1  大阪      1     1  2021/10/01  0:30:00    4  NaN  55   \n",
       "7  2021-10-01 00:35:00_1  大阪      1     1  2021/10/01  0:35:00    4  NaN  55   \n",
       "8  2021-10-01 00:40:00_1  大阪      1     1  2021/10/01  0:40:00    4  NaN  66   \n",
       "9  2021-10-01 00:45:00_1  大阪      1     1  2021/10/01  0:45:00    4  NaN  64   \n",
       "\n",
       "    交通量  渋滞  事故  休日  時間帯  kcode  降水量  滑り止め  \n",
       "0  26.0 NaN NaN   1    2    NaN  0.0     0  \n",
       "1  46.0 NaN NaN   1    2    NaN  0.0     0  \n",
       "2  47.0 NaN NaN   1    2    NaN  0.0     0  \n",
       "3  41.0 NaN NaN   1    2    NaN  0.0     0  \n",
       "4  42.0 NaN NaN   1    2    NaN  0.0     0  \n",
       "5  38.0 NaN NaN   1    2    NaN  0.0     0  \n",
       "6  24.0 NaN NaN   1    2    NaN  0.0     0  \n",
       "7  24.0 NaN NaN   1    2    NaN  0.0     0  \n",
       "8  29.0 NaN NaN   1    2    NaN  0.0     0  \n",
       "9  26.0 NaN NaN   1    2    NaN  0.0     0  "
      ]
     },
     "execution_count": 3,
     "metadata": {},
     "output_type": "execute_result"
    }
   ],
   "source": [
    "df.iloc[:10,:]"
   ]
  },
  {
   "cell_type": "code",
   "execution_count": 4,
   "metadata": {},
   "outputs": [],
   "source": [
    "df[\"jdp\"]=df.JDP番号"
   ]
  },
  {
   "cell_type": "code",
   "execution_count": 5,
   "metadata": {},
   "outputs": [],
   "source": [
    "jdp = pd.read_csv(\"D:/ahn_pc/workfile/2021/阪神事故リスク/jdp100/jdp100e2.csv\", encoding=\"shift_jis\")"
   ]
  },
  {
   "cell_type": "code",
   "execution_count": 6,
   "metadata": {},
   "outputs": [],
   "source": [
    "jdp2 = jdp.loc[:,[\"jdp\",\"keito\",\"hei\",\"sag\",\"fare\"]]"
   ]
  },
  {
   "cell_type": "code",
   "execution_count": 7,
   "metadata": {},
   "outputs": [],
   "source": [
    "dm = pd.merge(df,jdp2, on=\"jdp\", how=\"left\")"
   ]
  },
  {
   "cell_type": "code",
   "execution_count": 8,
   "metadata": {},
   "outputs": [
    {
     "name": "stderr",
     "output_type": "stream",
     "text": [
      "C:\\Users\\tssl-34\\Anaconda3\\lib\\site-packages\\ipykernel_launcher.py:3: UserWarning: Boolean Series key will be reindexed to match DataFrame index.\n",
      "  This is separate from the ipykernel package so we can avoid doing imports until\n"
     ]
    }
   ],
   "source": [
    "dm2 = dm[pd.isna(dm.エラー)]\n",
    "dm2 = dm2[dm2.速度<200]\n",
    "dm2 = dm2[~pd.isna(dm.keito)]"
   ]
  },
  {
   "cell_type": "code",
   "execution_count": 9,
   "metadata": {},
   "outputs": [
    {
     "name": "stdout",
     "output_type": "stream",
     "text": [
      "9740449\n",
      "9199693\n"
     ]
    }
   ],
   "source": [
    "print(dm.shape[0])\n",
    "print(dm2.shape[0])"
   ]
  },
  {
   "cell_type": "code",
   "execution_count": 10,
   "metadata": {},
   "outputs": [],
   "source": [
    "dm2[\"走行台キロ\"]=dm2.区間長*dm2.交通量/10"
   ]
  },
  {
   "cell_type": "code",
   "execution_count": 11,
   "metadata": {},
   "outputs": [],
   "source": [
    "dmf=dm2[(dm2.渋滞!=1)&(dm2.渋滞!=2)]"
   ]
  },
  {
   "cell_type": "code",
   "execution_count": 12,
   "metadata": {},
   "outputs": [],
   "source": [
    "dmc=dm2[(dm2.渋滞==1)|(dm2.渋滞==2)]"
   ]
  },
  {
   "cell_type": "code",
   "execution_count": 13,
   "metadata": {},
   "outputs": [
    {
     "data": {
      "text/plain": [
       "713645"
      ]
     },
     "execution_count": 13,
     "metadata": {},
     "output_type": "execute_result"
    }
   ],
   "source": [
    "dmc.shape[0]"
   ]
  },
  {
   "cell_type": "code",
   "execution_count": 14,
   "metadata": {},
   "outputs": [],
   "source": [
    "dmf_t1=dmf[dmf.時間帯==1]\n",
    "dmf_t2=dmf[dmf.時間帯==2]"
   ]
  },
  {
   "cell_type": "code",
   "execution_count": 15,
   "metadata": {},
   "outputs": [],
   "source": [
    "dt1h1=dmf_t1[dmf_t1.休日==1]\n",
    "dt1h2=dmf_t1[dmf_t1.休日!=1]\n",
    "dt2h1=dmf_t2[dmf_t2.休日==1]\n",
    "dt2h2=dmf_t2[dmf_t2.休日!=1]"
   ]
  },
  {
   "cell_type": "code",
   "execution_count": 16,
   "metadata": {},
   "outputs": [
    {
     "name": "stdout",
     "output_type": "stream",
     "text": [
      "2892147\n",
      "1543265\n",
      "2719468\n",
      "1331168\n"
     ]
    },
    {
     "data": {
      "text/plain": [
       "9199693"
      ]
     },
     "execution_count": 16,
     "metadata": {},
     "output_type": "execute_result"
    }
   ],
   "source": [
    "print(dt1h1.shape[0])\n",
    "print(dt1h2.shape[0])\n",
    "print(dt2h1.shape[0])\n",
    "print(dt2h2.shape[0])\n",
    "dt1h1.shape[0]+dt1h2.shape[0]+dt2h1.shape[0]+dt2h2.shape[0]+dmc.shape[0]"
   ]
  },
  {
   "cell_type": "code",
   "execution_count": 17,
   "metadata": {},
   "outputs": [],
   "source": [
    "dt1h1_1=dt1h1.iloc[:1000000,:]\n",
    "dt1h1_2=dt1h1.iloc[1000000:2000000,:]\n",
    "dt1h1_3=dt1h1.iloc[2000000:3000000,:]\n",
    "#dt1h1_4=dt1h1.iloc[3000000:,:]\n",
    "\n",
    "dt1h2_1=dt1h2.iloc[:1000000,:]\n",
    "dt1h2_2=dt1h2.iloc[1000000:2000000,:]\n",
    "#dt1h2_3=dt1h2.iloc[2000000:,:]\n",
    "\n",
    "dt2h1_1=dt2h1.iloc[:1000000,:]\n",
    "dt2h1_2=dt2h1.iloc[1000000:2000000,:]\n",
    "dt2h1_3=dt2h1.iloc[2000000:,:]\n",
    "\n",
    "dt2h2_1=dt2h2.iloc[:1000000,:]\n",
    "dt2h2_2=dt2h2.iloc[1000000:2000000,:]\n",
    "#dt2h2_3=dt2h2.iloc[2000000:,:]"
   ]
  },
  {
   "cell_type": "code",
   "execution_count": 18,
   "metadata": {},
   "outputs": [],
   "source": [
    "dmc.to_csv(\"D:/ahn_pc/workfile/2021/阪神事故リスク/resultrisk/dmc10.csv\", index = False, encoding=\"shift_jis\")\n",
    "\n",
    "dt1h1_1.to_csv(\"D:/ahn_pc/workfile/2021/阪神事故リスク/resultrisk/dt1h1_1_10.csv\", index = False, encoding=\"shift_jis\")\n",
    "dt1h1_2.to_csv(\"D:/ahn_pc/workfile/2021/阪神事故リスク/resultrisk/dt1h1_2_10.csv\", index = False, encoding=\"shift_jis\")\n",
    "dt1h1_3.to_csv(\"D:/ahn_pc/workfile/2021/阪神事故リスク/resultrisk/dt1h1_3_10.csv\", index = False, encoding=\"shift_jis\")\n",
    "#dt1h1_4.to_csv(\"D:/ahn_pc/workfile/2021/阪神事故リスク/resultrisk/dt1h1_4_09.csv\", index = False, encoding=\"shift_jis\")\n",
    "\n",
    "dt1h2_1.to_csv(\"D:/ahn_pc/workfile/2021/阪神事故リスク/resultrisk/dt1h2_1_10.csv\", index = False, encoding=\"shift_jis\")\n",
    "dt1h2_2.to_csv(\"D:/ahn_pc/workfile/2021/阪神事故リスク/resultrisk/dt1h2_2_10.csv\", index = False, encoding=\"shift_jis\")\n",
    "#dt1h2_3.to_csv(\"D:/ahn_pc/workfile/2021/阪神事故リスク/resultrisk/dt1h2_3_06.csv\", index = False, encoding=\"shift_jis\")\n",
    "\n",
    "dt2h1_1.to_csv(\"D:/ahn_pc/workfile/2021/阪神事故リスク/resultrisk/dt2h1_1_10.csv\", index = False, encoding=\"shift_jis\")\n",
    "dt2h1_2.to_csv(\"D:/ahn_pc/workfile/2021/阪神事故リスク/resultrisk/dt2h1_2_10.csv\", index = False, encoding=\"shift_jis\")\n",
    "dt2h1_3.to_csv(\"D:/ahn_pc/workfile/2021/阪神事故リスク/resultrisk/dt2h1_3_10.csv\", index = False, encoding=\"shift_jis\")\n",
    "\n",
    "dt2h2_1.to_csv(\"D:/ahn_pc/workfile/2021/阪神事故リスク/resultrisk/dt2h2_1_10.csv\", index = False, encoding=\"shift_jis\")\n",
    "dt2h2_2.to_csv(\"D:/ahn_pc/workfile/2021/阪神事故リスク/resultrisk/dt2h2_2_10.csv\", index = False, encoding=\"shift_jis\")"
   ]
  },
  {
   "cell_type": "code",
   "execution_count": null,
   "metadata": {},
   "outputs": [],
   "source": []
  },
  {
   "cell_type": "code",
   "execution_count": null,
   "metadata": {},
   "outputs": [],
   "source": []
  },
  {
   "cell_type": "code",
   "execution_count": null,
   "metadata": {},
   "outputs": [],
   "source": []
  },
  {
   "cell_type": "code",
   "execution_count": null,
   "metadata": {},
   "outputs": [],
   "source": []
  },
  {
   "cell_type": "code",
   "execution_count": null,
   "metadata": {},
   "outputs": [],
   "source": []
  },
  {
   "cell_type": "code",
   "execution_count": null,
   "metadata": {},
   "outputs": [],
   "source": []
  },
  {
   "cell_type": "code",
   "execution_count": null,
   "metadata": {},
   "outputs": [],
   "source": []
  },
  {
   "cell_type": "code",
   "execution_count": null,
   "metadata": {},
   "outputs": [],
   "source": [
    "#dm.columns=['記録年', '記録月', '記録日', '記録曜日', '記録時刻', '文字情報板番号', '文字情報板名称', '制御区分',\n",
    "       '情報区分', '影響係数', '障害係数', '評価値', '提供フラグ', '事象内通番', '原因', '程度', '渋滞長',\n",
    "       '障害登録番号', '先頭系統名称', '先頭KP', '後尾系統名称', '後尾KP', '入口／出口名称', '特記事項', 'indx',\n",
    "       'line', 'keito', 'kp', 'name', 'jdp', 'jdpup1', 'jdpup2', 'jdpup3',\n",
    "       'vsidx', 'risk', 'temp', 'r2p', 'r2n', 'r3p', 'r3n', 'n1p', 'gen', 'tidx', 'tidx5m',\n",
    "       'idx', 'upidx', '地区名', 'JDP番号', '区間番号', '日付', '時間', '区間長', 'エラー', '速度',\n",
    "       '交通量', '渋滞', '事故', '休日', '時間帯', 'kcode', '降水量', '滑り止め', '区間長up', '速度up',\n",
    "       '交通量up', '渋滞up', '事故up']"
   ]
  },
  {
   "cell_type": "code",
   "execution_count": null,
   "metadata": {},
   "outputs": [],
   "source": [
    "#d=dm.loc[:,[\"記録日\",\"記録時刻\",\"tidx\",\"tidx5m\",\"indx\",\"keito\",\"r2p\",\"r2n\",\"r3p\",\"r3n\",\"n1p\",\"gen\",\"区間長\",\"速度\",\"交通量\",\"渋滞\",\"事故\",\"休日\",\"時間帯\",\"降水量\",\"区間長up\",\"速度up\",\"交通量up\",\"渋滞up\",\"事故up\"]]"
   ]
  },
  {
   "cell_type": "code",
   "execution_count": null,
   "metadata": {},
   "outputs": [],
   "source": [
    "d[\"idx5m\"]=d.tidx5m+\"_\"+d.indx.astype(str)"
   ]
  },
  {
   "cell_type": "code",
   "execution_count": null,
   "metadata": {},
   "outputs": [],
   "source": [
    "cnt5m = pd.DataFrame(d.groupby(\"idx5m\").count().loc[:,\"記録日\"])"
   ]
  },
  {
   "cell_type": "code",
   "execution_count": null,
   "metadata": {},
   "outputs": [],
   "source": [
    "cnt5m[\"cnt5m\"]=cnt5m.記録日"
   ]
  },
  {
   "cell_type": "code",
   "execution_count": null,
   "metadata": {},
   "outputs": [],
   "source": [
    "del cnt5m[\"記録日\"]"
   ]
  },
  {
   "cell_type": "code",
   "execution_count": null,
   "metadata": {},
   "outputs": [],
   "source": [
    "cnt5m = cnt5m.reset_index()"
   ]
  },
  {
   "cell_type": "code",
   "execution_count": null,
   "metadata": {},
   "outputs": [],
   "source": [
    "dm = pd.merge(d,cnt5m, on=\"idx5m\", how=\"left\")"
   ]
  },
  {
   "cell_type": "code",
   "execution_count": null,
   "metadata": {},
   "outputs": [],
   "source": [
    "dm[\"事故5m\"]=dm.事故/dm.cnt5m\n",
    "dm[\"速度5m\"]=dm.速度/dm.cnt5m\n",
    "dm[\"交通量5m\"]=dm.交通量/dm.cnt5m\n",
    "dm[\"事故u5m\"]=dm.事故up/dm.cnt5m\n",
    "dm[\"速度u5m\"]=dm.速度up/dm.cnt5m\n",
    "dm[\"交通量u5m\"]=dm.交通量up/dm.cnt5m"
   ]
  },
  {
   "cell_type": "code",
   "execution_count": null,
   "metadata": {},
   "outputs": [],
   "source": [
    "dm.記録時刻.str[:2]"
   ]
  },
  {
   "cell_type": "code",
   "execution_count": null,
   "metadata": {},
   "outputs": [],
   "source": [
    "dm[\"keito_hour\"]=dm.keito.astype(str)+\"_\"+dm.記録時刻.str[:2]"
   ]
  },
  {
   "cell_type": "code",
   "execution_count": null,
   "metadata": {},
   "outputs": [],
   "source": [
    "#keitoh = dm.groupby(\"keito_hour\").agg({\"r2p\":np.sum,\"r2n\":np.sum,\"r3p\":np.sum,\"r3n\":np.sum,\n",
    "#         \"事故5m\":np.sum,\"速度5m\":np.mean,\"交通量5m\":np.mean,})\n",
    "keitoh = dm.groupby(\"keito_hour\").agg({\"r2p\":np.sum,\"r2n\":np.sum,\"r3p\":np.sum,\"r3n\":np.sum,\n",
    "         \"事故5m\":np.sum})"
   ]
  },
  {
   "cell_type": "code",
   "execution_count": null,
   "metadata": {},
   "outputs": [],
   "source": [
    "cntkh = dm.groupby(\"keito_hour\").count().loc[:,\"記録日\"]"
   ]
  },
  {
   "cell_type": "code",
   "execution_count": null,
   "metadata": {},
   "outputs": [],
   "source": [
    "keitoh[\"cntkh\"]=cntkh"
   ]
  },
  {
   "cell_type": "code",
   "execution_count": null,
   "metadata": {},
   "outputs": [],
   "source": [
    "keitoh[\"idx\"]=keitoh.index"
   ]
  },
  {
   "cell_type": "code",
   "execution_count": null,
   "metadata": {},
   "outputs": [],
   "source": [
    "keitoh.to_csv(\"D:/ahn_pc/workfile/2021/阪神事故リスク/keihour04.csv\", index = False, encoding=\"shift_jis\")"
   ]
  },
  {
   "cell_type": "code",
   "execution_count": null,
   "metadata": {},
   "outputs": [],
   "source": []
  },
  {
   "cell_type": "code",
   "execution_count": null,
   "metadata": {},
   "outputs": [],
   "source": [
    "keito = dm.groupby(\"keito\").agg({\"r2p\":np.sum,\"r2n\":np.sum,\"r3p\":np.sum,\"r3n\":np.sum,\n",
    "        \"事故5m\":np.sum,\"速度5m\":np.mean,\"交通量5m\":np.mean,})\n",
    "#keito = dm.groupby(\"keito\").agg({\"r2p\":np.sum,\"r2n\":np.sum,\"r3p\":np.sum,\"r3n\":np.sum})"
   ]
  },
  {
   "cell_type": "code",
   "execution_count": null,
   "metadata": {},
   "outputs": [],
   "source": [
    "cntk = dm.groupby(\"keito\").count().loc[:,\"記録日\"]"
   ]
  },
  {
   "cell_type": "code",
   "execution_count": null,
   "metadata": {},
   "outputs": [],
   "source": [
    "keito[\"cntk\"]=cntk"
   ]
  },
  {
   "cell_type": "code",
   "execution_count": null,
   "metadata": {},
   "outputs": [],
   "source": [
    "keito[\"rsum\"]=keito.r2p+keito.r2n+keito.r3p+keito.r3n"
   ]
  },
  {
   "cell_type": "code",
   "execution_count": null,
   "metadata": {},
   "outputs": [],
   "source": [
    "keito"
   ]
  },
  {
   "cell_type": "code",
   "execution_count": null,
   "metadata": {},
   "outputs": [],
   "source": []
  },
  {
   "cell_type": "code",
   "execution_count": null,
   "metadata": {},
   "outputs": [],
   "source": []
  },
  {
   "cell_type": "code",
   "execution_count": null,
   "metadata": {},
   "outputs": [],
   "source": []
  },
  {
   "cell_type": "code",
   "execution_count": null,
   "metadata": {},
   "outputs": [],
   "source": []
  },
  {
   "cell_type": "code",
   "execution_count": null,
   "metadata": {},
   "outputs": [],
   "source": []
  },
  {
   "cell_type": "code",
   "execution_count": null,
   "metadata": {},
   "outputs": [],
   "source": [
    "dc.shape[0]"
   ]
  },
  {
   "cell_type": "code",
   "execution_count": null,
   "metadata": {},
   "outputs": [],
   "source": [
    "dc[\"indx\"]=dc.文字情報板番号"
   ]
  },
  {
   "cell_type": "code",
   "execution_count": null,
   "metadata": {},
   "outputs": [],
   "source": [
    "vs = pd.read_csv(\"D:/ahn_pc/workfile/2021/阪神事故リスク/CHSVSB_情報板3.csv\", encoding=\"shift_jis\")"
   ]
  },
  {
   "cell_type": "code",
   "execution_count": null,
   "metadata": {},
   "outputs": [],
   "source": [
    "vs"
   ]
  },
  {
   "cell_type": "code",
   "execution_count": null,
   "metadata": {},
   "outputs": [],
   "source": [
    "dc2 = pd.merge(dc,vs, on=\"indx\", how=\"left\")"
   ]
  },
  {
   "cell_type": "code",
   "execution_count": null,
   "metadata": {},
   "outputs": [],
   "source": [
    "dc3 = dc2[~pd.isna(dc2.line)]"
   ]
  },
  {
   "cell_type": "code",
   "execution_count": null,
   "metadata": {},
   "outputs": [],
   "source": [
    "dc3"
   ]
  },
  {
   "cell_type": "code",
   "execution_count": null,
   "metadata": {},
   "outputs": [],
   "source": [
    "#dc3[\"drp\"]=dc3.記録日.astype(str)+\"_\"+dc3.記録時刻+\"_\"+dc3.文字情報板番号.astype(str)+\"_\"+dc3.事象内通番.astype(str)+\"_\"+dc3.原因+\"_\"+dc3.程度"
   ]
  },
  {
   "cell_type": "code",
   "execution_count": null,
   "metadata": {},
   "outputs": [],
   "source": [
    "dc3[\"vsidx\"]=dc3.記録日.astype(str)+\"_\"+dc3.記録時刻+\"_\"+dc3.文字情報板番号.astype(str)"
   ]
  },
  {
   "cell_type": "code",
   "execution_count": null,
   "metadata": {},
   "outputs": [],
   "source": [
    "#dc3d = dc3[~dc3.duplicated(subset=\"drop\")]\n",
    "dc3d = dc3[~dc3.duplicated()]"
   ]
  },
  {
   "cell_type": "code",
   "execution_count": null,
   "metadata": {},
   "outputs": [],
   "source": [
    "t = dc3d[dc3d.vsidx==\"14_00:23_158\"].iloc[:,5:]"
   ]
  },
  {
   "cell_type": "code",
   "execution_count": null,
   "metadata": {},
   "outputs": [],
   "source": [
    "dc3d[dc3d.vsidx==\"14_00:23_158\"].iloc[:,5:]"
   ]
  },
  {
   "cell_type": "code",
   "execution_count": null,
   "metadata": {},
   "outputs": [],
   "source": []
  },
  {
   "cell_type": "code",
   "execution_count": null,
   "metadata": {},
   "outputs": [],
   "source": []
  },
  {
   "cell_type": "code",
   "execution_count": null,
   "metadata": {},
   "outputs": [],
   "source": [
    "print(dc3.shape[0])\n",
    "print(dc3d.shape[0])"
   ]
  },
  {
   "cell_type": "code",
   "execution_count": null,
   "metadata": {},
   "outputs": [],
   "source": [
    "dc3d.to_csv(\"D:/ahn_pc/workfile/2021/阪神事故リスク/dc3d04.csv\", index = False, encoding=\"shift_jis\")"
   ]
  },
  {
   "cell_type": "code",
   "execution_count": null,
   "metadata": {},
   "outputs": [],
   "source": []
  },
  {
   "cell_type": "code",
   "execution_count": null,
   "metadata": {},
   "outputs": [],
   "source": [
    "dc3r = dc3d[dc3d.原因==\"リスク\"]"
   ]
  },
  {
   "cell_type": "code",
   "execution_count": null,
   "metadata": {},
   "outputs": [],
   "source": [
    "dc3r[\"risk\"]=1"
   ]
  },
  {
   "cell_type": "code",
   "execution_count": null,
   "metadata": {},
   "outputs": [],
   "source": [
    "dc3idx = dc3r.loc[:,[\"vsidx\",\"risk\"]]"
   ]
  },
  {
   "cell_type": "code",
   "execution_count": null,
   "metadata": {},
   "outputs": [],
   "source": [
    "dc3idx"
   ]
  },
  {
   "cell_type": "code",
   "execution_count": null,
   "metadata": {},
   "outputs": [],
   "source": [
    "dc4 = pd.merge(dc3d,dc3idx, on=\"vsidx\", how=\"left\")"
   ]
  },
  {
   "cell_type": "code",
   "execution_count": null,
   "metadata": {},
   "outputs": [],
   "source": [
    "dc4.shape[0]"
   ]
  },
  {
   "cell_type": "code",
   "execution_count": null,
   "metadata": {},
   "outputs": [],
   "source": [
    "dc3.shape[0]"
   ]
  },
  {
   "cell_type": "code",
   "execution_count": null,
   "metadata": {},
   "outputs": [],
   "source": [
    "dc4[(dc4.risk==1)&(dc4.原因==\"リスク\")&(dc4.提供フラグ!=1)].shape[0]\n",
    "#dc4[(dc4.risk==1)&(dc4.原因!=\"リスク\")&(dc4.提供フラグ==1)].shape[0]"
   ]
  },
  {
   "cell_type": "code",
   "execution_count": null,
   "metadata": {},
   "outputs": [],
   "source": [
    "#dc4[(dc4.risk==1)&(dc4.原因==\"リスク\")&(dc4.提供フラグ!=1)].shape[0]\n",
    "dc4[(dc4.risk==1)&(dc4.原因!=\"リスク\")&(dc4.提供フラグ==1)].shape[0]"
   ]
  },
  {
   "cell_type": "code",
   "execution_count": null,
   "metadata": {},
   "outputs": [],
   "source": [
    "dc4r = dc4[dc4.risk==1]"
   ]
  },
  {
   "cell_type": "code",
   "execution_count": null,
   "metadata": {},
   "outputs": [],
   "source": [
    "dc4r.shape[0]"
   ]
  },
  {
   "cell_type": "code",
   "execution_count": null,
   "metadata": {},
   "outputs": [],
   "source": [
    "dc4r.iloc[:5].loc[:,[\"記録日\",\"記録時刻\",\"原因\",\"vsidx\",\"risk\"]]"
   ]
  },
  {
   "cell_type": "code",
   "execution_count": null,
   "metadata": {},
   "outputs": [],
   "source": [
    "dc4r.to_csv(\"D:/ahn_pc/workfile/2021/阪神事故リスク/dc4r04.csv\", index = False, encoding=\"shift_jis\")"
   ]
  },
  {
   "cell_type": "code",
   "execution_count": null,
   "metadata": {},
   "outputs": [],
   "source": [
    "dc4r[~dc4r.duplicated(subset=\"vsidx\")].shape[0]"
   ]
  },
  {
   "cell_type": "code",
   "execution_count": null,
   "metadata": {},
   "outputs": [],
   "source": [
    "def ts(d):\n",
    "    return d.原因.values\n",
    "def ts2(d):\n",
    "    return d.程度.values\n",
    "def ts3(d):\n",
    "    return d.提供フラグ.values"
   ]
  },
  {
   "cell_type": "code",
   "execution_count": null,
   "metadata": {},
   "outputs": [],
   "source": [
    "temp=dc4r.groupby(\"vsidx\").apply(ts)\n",
    "temp2=dc4r.groupby(\"vsidx\").apply(ts2)\n",
    "temp3=dc4r.groupby(\"vsidx\").apply(ts3)"
   ]
  },
  {
   "cell_type": "code",
   "execution_count": null,
   "metadata": {},
   "outputs": [],
   "source": [
    "dc5 = pd.DataFrame(temp)"
   ]
  },
  {
   "cell_type": "code",
   "execution_count": null,
   "metadata": {},
   "outputs": [],
   "source": [
    "dc5[\"vsidx\"]=dc5.index"
   ]
  },
  {
   "cell_type": "code",
   "execution_count": null,
   "metadata": {},
   "outputs": [],
   "source": [
    "dc5[\"gen\"]=dc5[0]"
   ]
  },
  {
   "cell_type": "code",
   "execution_count": null,
   "metadata": {},
   "outputs": [],
   "source": [
    "dc5[\"tei\"]=temp2"
   ]
  },
  {
   "cell_type": "code",
   "execution_count": null,
   "metadata": {},
   "outputs": [],
   "source": [
    "dc5[\"flg\"]=temp3"
   ]
  },
  {
   "cell_type": "code",
   "execution_count": null,
   "metadata": {},
   "outputs": [],
   "source": [
    "del dc5[0]"
   ]
  },
  {
   "cell_type": "code",
   "execution_count": null,
   "metadata": {},
   "outputs": [],
   "source": [
    "dc5.shape[0]"
   ]
  },
  {
   "cell_type": "code",
   "execution_count": null,
   "metadata": {},
   "outputs": [],
   "source": [
    "vsidx=dc5.vsidx.values\n",
    "gen=dc5.gen.values\n",
    "tei=dc5.tei.values\n",
    "flg=dc5.flg.values"
   ]
  },
  {
   "cell_type": "code",
   "execution_count": null,
   "metadata": {},
   "outputs": [],
   "source": [
    "cnt=[]\n",
    "cntstr=[]\n",
    "for i in range(gen.shape[0]):\n",
    "#for i in range(3):\n",
    "    ri2p=0\n",
    "    ri2n=0\n",
    "    ri3p=0\n",
    "    ri3n=0\n",
    "    nori=0\n",
    "    nostr=[]\n",
    "    for j in range(gen[i].shape[0]):\n",
    "        if gen[i][j]==\"リスク\":\n",
    "            if tei[i][j]==\"リスク２\":\n",
    "                if flg[i][j]==1:\n",
    "                    ri2p=ri2p+1\n",
    "                else:\n",
    "                    ri2n=ri2n+1\n",
    "            else:\n",
    "                if flg[i][j]==1:\n",
    "                    ri3p=ri3p+1\n",
    "                else:\n",
    "                    ri3n=ri3n+1\n",
    "        else:\n",
    "            if flg[i][j]==1:\n",
    "                nori=nori+1\n",
    "                nostr.append(gen[i][j])\n",
    "    cnt.append([vsidx[i],ri2p,ri2n,ri3p,ri3n,nori])\n",
    "    cntstr.append(nostr)"
   ]
  },
  {
   "cell_type": "code",
   "execution_count": null,
   "metadata": {},
   "outputs": [],
   "source": [
    "cntd = pd.DataFrame(cnt)"
   ]
  },
  {
   "cell_type": "code",
   "execution_count": null,
   "metadata": {},
   "outputs": [],
   "source": [
    "cntd[\"gen\"]=cntstr"
   ]
  },
  {
   "cell_type": "code",
   "execution_count": null,
   "metadata": {},
   "outputs": [],
   "source": [
    "tt = dc4r[dc4r.vsidx==\"14_00:23_158\"].iloc[:,5:]"
   ]
  },
  {
   "cell_type": "code",
   "execution_count": null,
   "metadata": {},
   "outputs": [],
   "source": [
    "tt.shape[0]"
   ]
  },
  {
   "cell_type": "code",
   "execution_count": null,
   "metadata": {},
   "outputs": [],
   "source": [
    "tt[~tt.duplicated()].shape[0]"
   ]
  },
  {
   "cell_type": "code",
   "execution_count": null,
   "metadata": {},
   "outputs": [],
   "source": [
    "cntd[cntd[5]>1]"
   ]
  },
  {
   "cell_type": "code",
   "execution_count": null,
   "metadata": {},
   "outputs": [],
   "source": [
    "cntd[\"vsidx\"]=cntd[0]"
   ]
  },
  {
   "cell_type": "code",
   "execution_count": null,
   "metadata": {},
   "outputs": [],
   "source": [
    "cntd.shape[0]"
   ]
  },
  {
   "cell_type": "code",
   "execution_count": null,
   "metadata": {},
   "outputs": [],
   "source": [
    "df = pd.merge(dc4r,cntd, on=\"vsidx\", how=\"left\")"
   ]
  },
  {
   "cell_type": "code",
   "execution_count": null,
   "metadata": {},
   "outputs": [],
   "source": [
    "df.shape[0]"
   ]
  },
  {
   "cell_type": "code",
   "execution_count": null,
   "metadata": {},
   "outputs": [],
   "source": [
    "df2=df[~df.duplicated(subset=\"vsidx\")]"
   ]
  },
  {
   "cell_type": "code",
   "execution_count": null,
   "metadata": {},
   "outputs": [],
   "source": [
    "df2.shape[0]"
   ]
  },
  {
   "cell_type": "code",
   "execution_count": null,
   "metadata": {},
   "outputs": [],
   "source": [
    "df2"
   ]
  },
  {
   "cell_type": "code",
   "execution_count": null,
   "metadata": {},
   "outputs": [],
   "source": [
    "df2.to_csv(\"D:/ahn_pc/workfile/2021/阪神事故リスク/df2_04.csv\", index = False, encoding=\"shift_jis\")"
   ]
  },
  {
   "cell_type": "code",
   "execution_count": null,
   "metadata": {},
   "outputs": [],
   "source": [
    "df2 = pd.read_csv(\"D:/ahn_pc/workfile/2021/阪神事故リスク/df2_04.csv\", encoding=\"shift_jis\")"
   ]
  },
  {
   "cell_type": "code",
   "execution_count": null,
   "metadata": {},
   "outputs": [],
   "source": []
  },
  {
   "cell_type": "code",
   "execution_count": null,
   "metadata": {},
   "outputs": [],
   "source": [
    "df2[\"tidx\"]=df2.記録年.astype(str)+\"-\"+df2.記録月.astype(str)+\"-\"+df2.記録日.astype(str)+\" \"+df2.記録時刻+\":00\""
   ]
  },
  {
   "cell_type": "code",
   "execution_count": null,
   "metadata": {},
   "outputs": [],
   "source": [
    "df2[\"tidx5m\"]=pd.to_datetime(df2.tidx).dt.round(\"5T\")"
   ]
  },
  {
   "cell_type": "code",
   "execution_count": null,
   "metadata": {},
   "outputs": [],
   "source": []
  },
  {
   "cell_type": "code",
   "execution_count": null,
   "metadata": {},
   "outputs": [],
   "source": []
  },
  {
   "cell_type": "code",
   "execution_count": null,
   "metadata": {},
   "outputs": [],
   "source": [
    "df2[pd.isna(df2.jdp)]"
   ]
  },
  {
   "cell_type": "code",
   "execution_count": null,
   "metadata": {},
   "outputs": [],
   "source": [
    "df2[\"idx\"]=df2.tidx5m.astype(str)+\"_\"+df2.jdp.astype(int).astype(str)"
   ]
  },
  {
   "cell_type": "code",
   "execution_count": null,
   "metadata": {},
   "outputs": [],
   "source": [
    "df2[\"upidx\"]=df2.tidx5m.astype(str)+\"_\"+df2.jdpup1.astype(int).astype(str)"
   ]
  },
  {
   "cell_type": "code",
   "execution_count": null,
   "metadata": {},
   "outputs": [],
   "source": []
  },
  {
   "cell_type": "code",
   "execution_count": null,
   "metadata": {},
   "outputs": [],
   "source": [
    "dff = pd.read_csv(\"D:/ahn_pc/workfile/2021/阪神事故リスク/result/dff4.csv\", encoding=\"shift_jis\")"
   ]
  },
  {
   "cell_type": "code",
   "execution_count": null,
   "metadata": {},
   "outputs": [],
   "source": [
    "dff2=dff[pd.isna(dff.エラー)]"
   ]
  },
  {
   "cell_type": "code",
   "execution_count": null,
   "metadata": {},
   "outputs": [],
   "source": [
    "dff3=dff2[dff2.速度<200]"
   ]
  },
  {
   "cell_type": "code",
   "execution_count": null,
   "metadata": {},
   "outputs": [],
   "source": [
    "dffup=dff3.loc[:,[\"idx\",\"区間長\",\"速度\",\"交通量\",\"渋滞\",\"事故\"]]"
   ]
  },
  {
   "cell_type": "code",
   "execution_count": null,
   "metadata": {},
   "outputs": [],
   "source": [
    "dffup.columns=[\"upidx\",\"区間長up\",\"速度up\",\"交通量up\",\"渋滞up\",\"事故up\"]"
   ]
  },
  {
   "cell_type": "code",
   "execution_count": null,
   "metadata": {},
   "outputs": [],
   "source": [
    "dffup"
   ]
  },
  {
   "cell_type": "code",
   "execution_count": null,
   "metadata": {},
   "outputs": [],
   "source": [
    "dm = pd.merge(df2,dff3, on=\"idx\", how=\"left\")"
   ]
  },
  {
   "cell_type": "code",
   "execution_count": null,
   "metadata": {},
   "outputs": [],
   "source": [
    "dm.iloc[:5,35:]"
   ]
  },
  {
   "cell_type": "code",
   "execution_count": null,
   "metadata": {},
   "outputs": [],
   "source": [
    "dm2 = pd.merge(dm,dffup, on=\"upidx\", how=\"left\")"
   ]
  },
  {
   "cell_type": "code",
   "execution_count": null,
   "metadata": {},
   "outputs": [],
   "source": [
    "dm2"
   ]
  },
  {
   "cell_type": "code",
   "execution_count": null,
   "metadata": {},
   "outputs": [],
   "source": [
    "dm2.to_csv(\"D:/ahn_pc/workfile/2021/阪神事故リスク/dm2_04.csv\", index = False, encoding=\"shift_jis\")"
   ]
  },
  {
   "cell_type": "code",
   "execution_count": null,
   "metadata": {},
   "outputs": [],
   "source": []
  },
  {
   "cell_type": "code",
   "execution_count": null,
   "metadata": {},
   "outputs": [],
   "source": []
  },
  {
   "cell_type": "code",
   "execution_count": null,
   "metadata": {},
   "outputs": [],
   "source": []
  },
  {
   "cell_type": "code",
   "execution_count": null,
   "metadata": {},
   "outputs": [],
   "source": []
  },
  {
   "cell_type": "code",
   "execution_count": null,
   "metadata": {},
   "outputs": [],
   "source": []
  },
  {
   "cell_type": "code",
   "execution_count": null,
   "metadata": {},
   "outputs": [],
   "source": []
  },
  {
   "cell_type": "code",
   "execution_count": null,
   "metadata": {},
   "outputs": [],
   "source": []
  },
  {
   "cell_type": "code",
   "execution_count": null,
   "metadata": {},
   "outputs": [],
   "source": []
  },
  {
   "cell_type": "code",
   "execution_count": null,
   "metadata": {},
   "outputs": [],
   "source": []
  },
  {
   "cell_type": "code",
   "execution_count": null,
   "metadata": {},
   "outputs": [],
   "source": [
    "df[df.vsidx==\"4_00:03_11\"].loc[:,\"原因\"]"
   ]
  },
  {
   "cell_type": "code",
   "execution_count": null,
   "metadata": {},
   "outputs": [],
   "source": [
    "df2 = df[~df.duplicated(subset=\"vsidx\")]"
   ]
  },
  {
   "cell_type": "code",
   "execution_count": null,
   "metadata": {},
   "outputs": [],
   "source": [
    "df2.iloc[1,:]"
   ]
  },
  {
   "cell_type": "code",
   "execution_count": null,
   "metadata": {},
   "outputs": [],
   "source": [
    "dc4r"
   ]
  },
  {
   "cell_type": "code",
   "execution_count": null,
   "metadata": {},
   "outputs": [],
   "source": []
  },
  {
   "cell_type": "code",
   "execution_count": null,
   "metadata": {},
   "outputs": [],
   "source": []
  },
  {
   "cell_type": "code",
   "execution_count": null,
   "metadata": {},
   "outputs": [],
   "source": []
  },
  {
   "cell_type": "code",
   "execution_count": null,
   "metadata": {},
   "outputs": [],
   "source": []
  },
  {
   "cell_type": "code",
   "execution_count": null,
   "metadata": {},
   "outputs": [],
   "source": []
  },
  {
   "cell_type": "code",
   "execution_count": null,
   "metadata": {},
   "outputs": [],
   "source": []
  },
  {
   "cell_type": "code",
   "execution_count": null,
   "metadata": {},
   "outputs": [],
   "source": []
  },
  {
   "cell_type": "code",
   "execution_count": null,
   "metadata": {},
   "outputs": [],
   "source": [
    "temp2 = dc4r[[\"vsidx\",\"indx\"]].groupby(\"vsidx\").count()"
   ]
  },
  {
   "cell_type": "code",
   "execution_count": null,
   "metadata": {},
   "outputs": [],
   "source": [
    "temp2[temp2.indx>5]"
   ]
  },
  {
   "cell_type": "code",
   "execution_count": null,
   "metadata": {},
   "outputs": [],
   "source": [
    "temp = dc4r[(dc4r.vsidx==\"10_12:52_368\")|(dc4r.vsidx==\"9_23:37_545\")]"
   ]
  },
  {
   "cell_type": "code",
   "execution_count": null,
   "metadata": {},
   "outputs": [],
   "source": [
    "def ts(d):\n",
    "    return d.原因.values\n",
    "def ts2(d):\n",
    "    return d.提供フラグ.values"
   ]
  },
  {
   "cell_type": "code",
   "execution_count": null,
   "metadata": {},
   "outputs": [],
   "source": [
    "temp2 = temp.groupby(\"vsidx\").apply(ts)\n",
    "temp3 = temp.groupby(\"vsidx\").apply(ts2)"
   ]
  },
  {
   "cell_type": "code",
   "execution_count": null,
   "metadata": {},
   "outputs": [],
   "source": [
    "print(temp2)\n",
    "print(temp3)"
   ]
  },
  {
   "cell_type": "code",
   "execution_count": null,
   "metadata": {},
   "outputs": [],
   "source": []
  },
  {
   "cell_type": "code",
   "execution_count": null,
   "metadata": {},
   "outputs": [],
   "source": []
  },
  {
   "cell_type": "code",
   "execution_count": null,
   "metadata": {},
   "outputs": [],
   "source": []
  },
  {
   "cell_type": "code",
   "execution_count": null,
   "metadata": {},
   "outputs": [],
   "source": [
    "tempr = dc4[(dc4.risk==1)&(dc4.原因==\"リスク\")]"
   ]
  },
  {
   "cell_type": "code",
   "execution_count": null,
   "metadata": {},
   "outputs": [],
   "source": [
    "tempnr = dc4[(dc4.risk==1)&(dc4.原因!=\"リスク\")]"
   ]
  },
  {
   "cell_type": "code",
   "execution_count": null,
   "metadata": {},
   "outputs": [],
   "source": [
    "temp.shape[0]==tempr.shape[0]+tempnr.shape[0]"
   ]
  },
  {
   "cell_type": "code",
   "execution_count": null,
   "metadata": {},
   "outputs": [],
   "source": [
    "print(tempr.shape[0])\n",
    "print(tempnr.shape[0])\n",
    "print(tempr[tempr.提供フラグ==1].shape[0])\n",
    "print(tempr[tempr.提供フラグ!=1].shape[0])\n",
    "print(tempnr[tempnr.提供フラグ==1].shape[0])\n",
    "print(tempnr[tempnr.提供フラグ!=1].shape[0])"
   ]
  },
  {
   "cell_type": "code",
   "execution_count": null,
   "metadata": {},
   "outputs": [],
   "source": []
  },
  {
   "cell_type": "code",
   "execution_count": null,
   "metadata": {},
   "outputs": [],
   "source": []
  },
  {
   "cell_type": "code",
   "execution_count": null,
   "metadata": {},
   "outputs": [],
   "source": []
  },
  {
   "cell_type": "code",
   "execution_count": null,
   "metadata": {},
   "outputs": [],
   "source": [
    "dc3a = dc3.loc[:,[\"記録日\",\"記録時刻\",\"文字情報板番号\",\"提供フラグ\",\"原因\",\"程度\",\"特記事項\"]]"
   ]
  },
  {
   "cell_type": "code",
   "execution_count": null,
   "metadata": {},
   "outputs": [],
   "source": [
    "dc3b = dc3a[((dc3a.原因==\"リスク\")&(dc3a.提供フラグ!=1))|(dc3a.提供フラグ==1)]"
   ]
  },
  {
   "cell_type": "code",
   "execution_count": null,
   "metadata": {},
   "outputs": [],
   "source": [
    "dc3b"
   ]
  },
  {
   "cell_type": "code",
   "execution_count": null,
   "metadata": {},
   "outputs": [],
   "source": [
    "dc3b[dc3b.提供フラグ!=1]"
   ]
  },
  {
   "cell_type": "code",
   "execution_count": null,
   "metadata": {},
   "outputs": [],
   "source": [
    "dc3amoji2 = dc3a[dc3a.文字情報板番号==17]"
   ]
  },
  {
   "cell_type": "code",
   "execution_count": null,
   "metadata": {},
   "outputs": [],
   "source": []
  },
  {
   "cell_type": "code",
   "execution_count": null,
   "metadata": {},
   "outputs": [],
   "source": []
  },
  {
   "cell_type": "code",
   "execution_count": null,
   "metadata": {},
   "outputs": [],
   "source": []
  },
  {
   "cell_type": "code",
   "execution_count": null,
   "metadata": {},
   "outputs": [],
   "source": []
  },
  {
   "cell_type": "code",
   "execution_count": null,
   "metadata": {},
   "outputs": [],
   "source": []
  },
  {
   "cell_type": "code",
   "execution_count": null,
   "metadata": {},
   "outputs": [],
   "source": [
    "dc2=dc[dc.原因==\"リスク\"]"
   ]
  },
  {
   "cell_type": "code",
   "execution_count": null,
   "metadata": {},
   "outputs": [],
   "source": [
    "dc2"
   ]
  },
  {
   "cell_type": "code",
   "execution_count": null,
   "metadata": {},
   "outputs": [],
   "source": [
    "dc2.to_csv(\"D:/ahn_pc/workfile/2021/阪神事故リスク/moji4.csv\", index = False, encoding=\"shift_jis\")"
   ]
  },
  {
   "cell_type": "code",
   "execution_count": null,
   "metadata": {},
   "outputs": [],
   "source": [
    "dc3=dc2[dc2.提供フラグ==1]"
   ]
  },
  {
   "cell_type": "code",
   "execution_count": null,
   "metadata": {},
   "outputs": [],
   "source": [
    "dc3"
   ]
  },
  {
   "cell_type": "code",
   "execution_count": null,
   "metadata": {},
   "outputs": [],
   "source": [
    "dc3.to_csv(\"D:/ahn_pc/workfile/2021/阪神事故リスク/moji4hyoji.csv\", index = False, encoding=\"shift_jis\")"
   ]
  },
  {
   "cell_type": "code",
   "execution_count": null,
   "metadata": {},
   "outputs": [],
   "source": []
  },
  {
   "cell_type": "code",
   "execution_count": null,
   "metadata": {},
   "outputs": [],
   "source": []
  },
  {
   "cell_type": "code",
   "execution_count": null,
   "metadata": {},
   "outputs": [],
   "source": [
    "dc[\"dtt\"]=dc[\"dt\"]+\" \"+dc[\"tim\"]"
   ]
  },
  {
   "cell_type": "code",
   "execution_count": null,
   "metadata": {},
   "outputs": [],
   "source": [
    "dc[\"dtt2\"] = pd.to_datetime(dc.dtt)"
   ]
  },
  {
   "cell_type": "code",
   "execution_count": null,
   "metadata": {},
   "outputs": [],
   "source": [
    "dtt = pd.DataFrame(dc[dc[\"num\"]==1].dtt2)"
   ]
  },
  {
   "cell_type": "code",
   "execution_count": null,
   "metadata": {},
   "outputs": [],
   "source": [
    "#dtt.dtt=dtt.dtt.astype(str)"
   ]
  },
  {
   "cell_type": "code",
   "execution_count": null,
   "metadata": {},
   "outputs": [],
   "source": [
    "dtt"
   ]
  },
  {
   "cell_type": "code",
   "execution_count": null,
   "metadata": {},
   "outputs": [],
   "source": [
    "occerr = dc[dc.occ>200].drop_duplicates(subset=\"num\")"
   ]
  },
  {
   "cell_type": "code",
   "execution_count": null,
   "metadata": {},
   "outputs": [],
   "source": [
    "occerr"
   ]
  },
  {
   "cell_type": "code",
   "execution_count": null,
   "metadata": {},
   "outputs": [],
   "source": [
    "occerr.to_csv(\"D:/ahn_pc/workfile/2021/阪神事故リスク/occerr4.csv\", index = False)"
   ]
  },
  {
   "cell_type": "code",
   "execution_count": null,
   "metadata": {},
   "outputs": [],
   "source": []
  },
  {
   "cell_type": "code",
   "execution_count": null,
   "metadata": {},
   "outputs": [],
   "source": [
    "kens = pd.read_csv(\"D:/ahn_pc/workfile/2021/阪神事故リスク/kenchiki_s2.csv\", header=None, encoding=\"shift_jis\")"
   ]
  },
  {
   "cell_type": "code",
   "execution_count": null,
   "metadata": {},
   "outputs": [],
   "source": [
    "kens.columns=[\"num\"]"
   ]
  },
  {
   "cell_type": "code",
   "execution_count": null,
   "metadata": {},
   "outputs": [],
   "source": [
    "kens"
   ]
  },
  {
   "cell_type": "code",
   "execution_count": null,
   "metadata": {},
   "outputs": [],
   "source": []
  },
  {
   "cell_type": "code",
   "execution_count": null,
   "metadata": {},
   "outputs": [],
   "source": [
    "sec = pd.read_csv(\"D:/ahn_pc/workfile/2021/阪神事故リスク/section_add.csv\", encoding=\"shift_jis\")\n",
    "#jdp = pd.read_csv(\"D:/ahn_pc/workfile/2021/阪神事故リスク/JDP2.csv\", encoding=\"shift_jis\")"
   ]
  },
  {
   "cell_type": "code",
   "execution_count": null,
   "metadata": {},
   "outputs": [],
   "source": [
    "#jdpd = jdp.loc[:,[\"JDP番号\",\"JDP担当範囲\",\"渋滞検知器番号1\",\"渋滞検知器番号2\",\"渋滞検知器番号3\",\"渋滞検知器番号4\",\"区間番号\"]]"
   ]
  },
  {
   "cell_type": "code",
   "execution_count": null,
   "metadata": {},
   "outputs": [],
   "source": [
    "noken = sec[pd.isna(sec.検知器番号1)].区間番号"
   ]
  },
  {
   "cell_type": "code",
   "execution_count": null,
   "metadata": {},
   "outputs": [],
   "source": [
    "noken.to_csv(\"D:/ahn_pc/workfile/2021/阪神事故リスク/noken.csv\", index = False)"
   ]
  },
  {
   "cell_type": "code",
   "execution_count": null,
   "metadata": {},
   "outputs": [],
   "source": [
    "dc"
   ]
  },
  {
   "cell_type": "code",
   "execution_count": null,
   "metadata": {},
   "outputs": [],
   "source": [
    "sec"
   ]
  },
  {
   "cell_type": "code",
   "execution_count": null,
   "metadata": {},
   "outputs": [],
   "source": [
    "sec_n = sec.区間番号\n",
    "sec_1 = sec.検知器番号1\n",
    "sec_2 = sec.検知器番号2\n",
    "sec_3 = sec.検知器番号3\n",
    "sec_4 = sec.検知器番号4\n",
    "\n",
    "df = []\n",
    "dtt[\"sec\"] = 0\n",
    "\n",
    "for idx in range(sec.shape[0]):\n",
    "#for idx in range(5):\n",
    "    secn = sec_n.values[idx]\n",
    "    dtt[\"sec\"] = secn\n",
    "    \n",
    "    tempc=[]\n",
    "    temp1 = dc[dc[\"num\"]==sec_1.values[idx]]\n",
    "    tempc = pd.merge(dtt,temp1, on=\"dtt2\")\n",
    "    \n",
    "    print(temp1)\n",
    "    print(tempc)\n",
    "    \n",
    "    if pd.notna(sec_2.values[idx]):\n",
    "        temp2 = dc[dc[\"num\"]==sec_2.values[idx]]\n",
    "        tempc = pd.merge(tempc,temp2, on=\"dtt2\")\n",
    "    \n",
    "    if pd.notna(sec_3.values[idx]):\n",
    "        temp3 = dc[dc[\"num\"]==sec_3.values[idx]]\n",
    "        tempc = pd.merge(tempc,temp3, on=\"dtt2\")\n",
    "    \n",
    "    if pd.notna(sec_4.values[idx]):\n",
    "        temp4 = dc[dc[\"num\"]==sec_4.values[idx]]\n",
    "        tempc = pd.merge(tempc,temp4, on=\"dtt2\")\n",
    "    \n",
    "    tempv = tempc.values\n",
    "    tempd = pd.DataFrame(tempv)\n",
    "    print(tempd)\n",
    "    df.append(tempd)"
   ]
  },
  {
   "cell_type": "code",
   "execution_count": null,
   "metadata": {},
   "outputs": [],
   "source": [
    "#dc[dc[\"num\"]==sec_1.values[0]]\n",
    "#dc[dc[\"num\"]==2508]"
   ]
  },
  {
   "cell_type": "code",
   "execution_count": null,
   "metadata": {},
   "outputs": [],
   "source": [
    "dfc = pd.concat(df, axis = 0, ignore_index=True)"
   ]
  },
  {
   "cell_type": "code",
   "execution_count": null,
   "metadata": {},
   "outputs": [],
   "source": [
    "dfc[dfc[1]==333]"
   ]
  },
  {
   "cell_type": "code",
   "execution_count": null,
   "metadata": {},
   "outputs": [],
   "source": [
    "dfc.iloc[0,:]"
   ]
  },
  {
   "cell_type": "code",
   "execution_count": null,
   "metadata": {},
   "outputs": [],
   "source": [
    "trf = dfc[6].values.tolist()\n",
    "trf1 = dfc[6].values.tolist()\n",
    "trf2 = dfc[16].values.tolist()\n",
    "trf3 = dfc[26].values.tolist()\n",
    "trf4 = dfc[36].values.tolist()"
   ]
  },
  {
   "cell_type": "code",
   "execution_count": null,
   "metadata": {},
   "outputs": [],
   "source": [
    "len(trf1)"
   ]
  },
  {
   "cell_type": "code",
   "execution_count": null,
   "metadata": {},
   "outputs": [],
   "source": [
    "for i in range(len(trf1)):\n",
    "#for i in range(11):\n",
    "    if not pd.isna(trf2[i]):\n",
    "        #print(trf2[i])\n",
    "        if not pd.isna(trf3[i]):\n",
    "            #rint(trf3[i])\n",
    "            if not pd.isna(trf4[i]):\n",
    "                trf[i]=trf1[i]+trf2[i]+trf3[i]+trf4[i]\n",
    "            else:\n",
    "                trf[i]=trf1[i]+trf2[i]+trf3[i]\n",
    "        else:\n",
    "            trf[i]=trf1[i]+trf2[i]\n",
    "    else:\n",
    "        trf[i]=trf1[i]"
   ]
  },
  {
   "cell_type": "code",
   "execution_count": null,
   "metadata": {},
   "outputs": [],
   "source": [
    "dfc.insert(1,\"trf\",trf)"
   ]
  },
  {
   "cell_type": "code",
   "execution_count": null,
   "metadata": {},
   "outputs": [],
   "source": [
    "dfc[dfc[1]==333]"
   ]
  },
  {
   "cell_type": "code",
   "execution_count": null,
   "metadata": {},
   "outputs": [],
   "source": [
    "dfc"
   ]
  },
  {
   "cell_type": "code",
   "execution_count": null,
   "metadata": {},
   "outputs": [],
   "source": [
    "temp=dfc[dfc[8]>65500][1]"
   ]
  },
  {
   "cell_type": "code",
   "execution_count": null,
   "metadata": {},
   "outputs": [],
   "source": [
    "temp"
   ]
  },
  {
   "cell_type": "code",
   "execution_count": null,
   "metadata": {},
   "outputs": [],
   "source": [
    "temp[temp!=518]"
   ]
  },
  {
   "cell_type": "code",
   "execution_count": null,
   "metadata": {},
   "outputs": [],
   "source": [
    "dfcidx = dfc.iloc[:,:3]"
   ]
  },
  {
   "cell_type": "code",
   "execution_count": null,
   "metadata": {},
   "outputs": [],
   "source": [
    "dfcidx[dfcidx[1]==333]"
   ]
  },
  {
   "cell_type": "code",
   "execution_count": null,
   "metadata": {},
   "outputs": [],
   "source": [
    "dfcidx.insert(0,\"idx\",dfcidx[0].astype(str)+\"_\"+dfcidx[1].astype(str))"
   ]
  },
  {
   "cell_type": "code",
   "execution_count": null,
   "metadata": {},
   "outputs": [],
   "source": [
    "dfcidx"
   ]
  },
  {
   "cell_type": "code",
   "execution_count": null,
   "metadata": {},
   "outputs": [],
   "source": [
    "#ttt3 = dfcidx[dfcidx[0]==\"2021-04-30 11:10:00\"]"
   ]
  },
  {
   "cell_type": "code",
   "execution_count": null,
   "metadata": {},
   "outputs": [],
   "source": [
    "#ttt3[ttt3[1]==27]"
   ]
  },
  {
   "cell_type": "code",
   "execution_count": null,
   "metadata": {},
   "outputs": [],
   "source": [
    "dfcidx[dfcidx[1]==333]"
   ]
  },
  {
   "cell_type": "code",
   "execution_count": null,
   "metadata": {},
   "outputs": [],
   "source": [
    "dfcidx[pd.isna(dfcidx.trf)]"
   ]
  },
  {
   "cell_type": "code",
   "execution_count": null,
   "metadata": {},
   "outputs": [],
   "source": [
    "jdp = pd.read_csv(\"D:/ahn_pc/workfile/2021/阪神事故リスク/JDP3.csv\", encoding=\"shift_jis\")"
   ]
  },
  {
   "cell_type": "code",
   "execution_count": null,
   "metadata": {},
   "outputs": [],
   "source": [
    "jdp"
   ]
  },
  {
   "cell_type": "code",
   "execution_count": null,
   "metadata": {},
   "outputs": [],
   "source": [
    "jdpd = jdp.loc[:,[\"JDP番号\",\"地区名\",\"JDP担当範囲\",\"渋滞検知器番号1\",\"渋滞検知器番号2\",\"渋滞検知器番号3\",\"渋滞検知器番号4\",\"区間番号修正\"]]"
   ]
  },
  {
   "cell_type": "code",
   "execution_count": null,
   "metadata": {},
   "outputs": [],
   "source": [
    "dtt2 = pd.DataFrame(dc[dc[\"num\"]==1].dtt2)"
   ]
  },
  {
   "cell_type": "code",
   "execution_count": null,
   "metadata": {},
   "outputs": [],
   "source": [
    "jdpd_j = jdpd.JDP番号\n",
    "jdpd_l = jdpd.地区名\n",
    "jdpd_s = jdpd.区間番号修正\n",
    "jdpd_km = jdpd.JDP担当範囲\n",
    "jdpd_1 = jdpd.渋滞検知器番号1\n",
    "jdpd_2 = jdpd.渋滞検知器番号2\n",
    "jdpd_3 = jdpd.渋滞検知器番号3\n",
    "jdpd_4 = jdpd.渋滞検知器番号4\n",
    "\n",
    "df2 = []\n",
    "dtt2[\"loca\"] = 0\n",
    "dtt2[\"jdp\"] = 0\n",
    "dtt2[\"secn\"] = 0\n",
    "\n",
    "for idx in range(jdpd.shape[0]):\n",
    "#for idx in range(5):\n",
    "    jdn = jdpd_j.values[idx]\n",
    "    loca = jdpd_l.values[idx]\n",
    "    secn = jdpd_s.values[idx]\n",
    "    kmn = jdpd_km.values[idx]\n",
    "    #jdn = jdp.JDP番号[idx]\n",
    "    #secn = jdp.区間番号[idx]\n",
    "    \n",
    "    dtt2[\"jdp\"] = jdn\n",
    "    dtt2[\"loca\"] = loca\n",
    "    dtt2[\"secn\"] = secn\n",
    "    dtt2[\"kmn\"] = kmn\n",
    "    \n",
    "    tempc=[]\n",
    "    temp1 = dc[dc[\"num\"]==jdpd_1.values[idx]]\n",
    "    tempc = pd.merge(dtt2,temp1, on=\"dtt2\")\n",
    "    \n",
    "    if pd.notna(jdpd_2.values[idx]):\n",
    "        temp2 = dc[dc[\"num\"]==jdpd_2.values[idx]]\n",
    "        tempc = pd.merge(tempc,temp2, on=\"dtt2\")\n",
    "    \n",
    "    if pd.notna(jdpd_3.values[idx]):\n",
    "        temp3 = dc[dc[\"num\"]==jdpd_3.values[idx]]\n",
    "        tempc = pd.merge(tempc,temp3, on=\"dtt2\")\n",
    "    \n",
    "    if pd.notna(jdpd_4.values[idx]):\n",
    "        temp4 = dc[dc[\"num\"]==jdpd_4.values[idx]]\n",
    "        tempc = pd.merge(tempc,temp4, on=\"dtt2\")\n",
    "    \n",
    "    tempv = tempc.values\n",
    "    tempd = pd.DataFrame(tempv)\n",
    "    df2.append(tempd)"
   ]
  },
  {
   "cell_type": "code",
   "execution_count": null,
   "metadata": {},
   "outputs": [],
   "source": [
    "dfc2 = pd.concat(df2, axis = 0, ignore_index=True)"
   ]
  },
  {
   "cell_type": "code",
   "execution_count": null,
   "metadata": {},
   "outputs": [],
   "source": [
    "dfc2[dfc2[2]==333]"
   ]
  },
  {
   "cell_type": "code",
   "execution_count": null,
   "metadata": {},
   "outputs": [],
   "source": [
    "dfc2"
   ]
  },
  {
   "cell_type": "code",
   "execution_count": null,
   "metadata": {},
   "outputs": [],
   "source": [
    "dfc2.insert(0,\"idx\",dfc2[0].astype(str)+\"_\"+dfc2[2].astype(str))"
   ]
  },
  {
   "cell_type": "code",
   "execution_count": null,
   "metadata": {},
   "outputs": [],
   "source": [
    "dfc2"
   ]
  },
  {
   "cell_type": "code",
   "execution_count": null,
   "metadata": {},
   "outputs": [],
   "source": []
  },
  {
   "cell_type": "code",
   "execution_count": null,
   "metadata": {},
   "outputs": [],
   "source": [
    "dfinal = pd.merge(dfc2,dfcidx, on=\"idx\", how=\"left\")"
   ]
  },
  {
   "cell_type": "code",
   "execution_count": null,
   "metadata": {},
   "outputs": [],
   "source": [
    "dfinal"
   ]
  },
  {
   "cell_type": "code",
   "execution_count": null,
   "metadata": {},
   "outputs": [],
   "source": [
    "#ttt = dfinal[dfinal[\"0_x\"]==\"2021-04-30 11:10:00\"]\n",
    "#ttt2 = dfc2[dfc2[0]==\"2021-04-30 11:10:00\"]"
   ]
  },
  {
   "cell_type": "code",
   "execution_count": null,
   "metadata": {},
   "outputs": [],
   "source": [
    "#ttt[ttt[\"1_x\"]==35]\n",
    "#ttt2[ttt2[1]==35]"
   ]
  },
  {
   "cell_type": "code",
   "execution_count": null,
   "metadata": {},
   "outputs": [],
   "source": [
    "test=dfinal[pd.isna(dfinal[\"1_y\"])].drop_duplicates(subset=\"1_x\")"
   ]
  },
  {
   "cell_type": "code",
   "execution_count": null,
   "metadata": {},
   "outputs": [],
   "source": [
    "test"
   ]
  },
  {
   "cell_type": "code",
   "execution_count": null,
   "metadata": {},
   "outputs": [],
   "source": []
  },
  {
   "cell_type": "code",
   "execution_count": null,
   "metadata": {},
   "outputs": [],
   "source": [
    "cong = pd.read_csv(\"D:/ahn_pc/workfile/2021/阪神事故リスク/cong04.csv\", encoding=\"shift_jis\")"
   ]
  },
  {
   "cell_type": "code",
   "execution_count": null,
   "metadata": {},
   "outputs": [],
   "source": [
    "cong"
   ]
  },
  {
   "cell_type": "code",
   "execution_count": null,
   "metadata": {},
   "outputs": [],
   "source": [
    "congd = cong.loc[:,[\"idx\",\"cong\"]]"
   ]
  },
  {
   "cell_type": "code",
   "execution_count": null,
   "metadata": {},
   "outputs": [],
   "source": [
    "congd"
   ]
  },
  {
   "cell_type": "code",
   "execution_count": null,
   "metadata": {},
   "outputs": [],
   "source": [
    "dfinal2 = pd.merge(dfinal,congd, on=\"idx\", how=\"left\")"
   ]
  },
  {
   "cell_type": "code",
   "execution_count": null,
   "metadata": {},
   "outputs": [],
   "source": [
    "dfinal2"
   ]
  },
  {
   "cell_type": "code",
   "execution_count": null,
   "metadata": {},
   "outputs": [],
   "source": [
    "dfinal2.to_csv(\"D:/ahn_pc/workfile/2021/阪神事故リスク/dfinal4.csv\", index = False)"
   ]
  },
  {
   "cell_type": "code",
   "execution_count": null,
   "metadata": {},
   "outputs": [],
   "source": [
    "dfinal2 = pd.read_csv(\"D:/ahn_pc/workfile/2021/阪神事故リスク/dfinal4.csv\", encoding=\"shift_jis\")"
   ]
  },
  {
   "cell_type": "code",
   "execution_count": null,
   "metadata": {},
   "outputs": [],
   "source": []
  },
  {
   "cell_type": "code",
   "execution_count": null,
   "metadata": {},
   "outputs": [],
   "source": [
    "acc = pd.read_csv(\"D:/ahn_pc/workfile/2021/阪神事故リスク/accident.csv\", encoding=\"shift_jis\")"
   ]
  },
  {
   "cell_type": "code",
   "execution_count": null,
   "metadata": {},
   "outputs": [],
   "source": [
    "accd = acc.loc[:,[\"idx\",\"天候\",\"事故の形態\",\"交通状態\",\"発生日_曜日\",\"曜日種別E（営業）\"]]"
   ]
  },
  {
   "cell_type": "code",
   "execution_count": null,
   "metadata": {},
   "outputs": [],
   "source": [
    "accd[\"acci\"]=1"
   ]
  },
  {
   "cell_type": "code",
   "execution_count": null,
   "metadata": {},
   "outputs": [],
   "source": [
    "accd"
   ]
  },
  {
   "cell_type": "code",
   "execution_count": null,
   "metadata": {},
   "outputs": [],
   "source": [
    "dfinal3 = pd.merge(dfinal2,accd, on=\"idx\", how=\"left\")"
   ]
  },
  {
   "cell_type": "code",
   "execution_count": null,
   "metadata": {},
   "outputs": [],
   "source": [
    "dfinal3"
   ]
  },
  {
   "cell_type": "code",
   "execution_count": null,
   "metadata": {},
   "outputs": [],
   "source": [
    "dfinal3.to_csv(\"D:/ahn_pc/workfile/2021/阪神事故リスク/dfinal4_2.csv\", index = False)"
   ]
  },
  {
   "cell_type": "code",
   "execution_count": null,
   "metadata": {},
   "outputs": [],
   "source": [
    "#dfinal3 = pd.read_csv(\"D:/ahn_pc/workfile/2021/阪神事故リスク/dfinal4_2.csv\", encoding=\"shift_jis\")\n",
    "dfinal3 = pd.read_csv(\"D:/ahn_pc/workfile/2021/阪神事故リスク/dfinal4_2.csv\")"
   ]
  },
  {
   "cell_type": "code",
   "execution_count": null,
   "metadata": {},
   "outputs": [],
   "source": []
  },
  {
   "cell_type": "code",
   "execution_count": null,
   "metadata": {},
   "outputs": [],
   "source": [
    "dfinal3[\"tm\"]=pd.to_datetime(dfinal3[\"0_x\"])"
   ]
  },
  {
   "cell_type": "code",
   "execution_count": null,
   "metadata": {},
   "outputs": [],
   "source": [
    "dfinal3[\"week\"]=dfinal3.tm.dt.weekday"
   ]
  },
  {
   "cell_type": "code",
   "execution_count": null,
   "metadata": {},
   "outputs": [],
   "source": [
    "dfinal3[\"wcode\"]=1"
   ]
  },
  {
   "cell_type": "code",
   "execution_count": null,
   "metadata": {},
   "outputs": [],
   "source": [
    "#dc2.loc[(dfinal3.week>4)|(dc2.JDP状態==\"A\")|(dc2.JDP状態==\"D\"),\"cong\"]=2\n",
    "dfinal3.loc[(dfinal3.week==5),\"wcode\"]=2\n",
    "dfinal3.loc[(dfinal3.week==6),\"wcode\"]=3"
   ]
  },
  {
   "cell_type": "code",
   "execution_count": null,
   "metadata": {},
   "outputs": [],
   "source": [
    "dfinal3[\"hour\"]=dfinal3.tm.dt.hour"
   ]
  },
  {
   "cell_type": "code",
   "execution_count": null,
   "metadata": {},
   "outputs": [],
   "source": [
    "dfinal3[\"hcode\"]=2"
   ]
  },
  {
   "cell_type": "code",
   "execution_count": null,
   "metadata": {},
   "outputs": [],
   "source": [
    "dfinal3.loc[(dfinal3.hour>6)&(dfinal3.hour<20),\"hcode\"]=1"
   ]
  },
  {
   "cell_type": "code",
   "execution_count": null,
   "metadata": {},
   "outputs": [],
   "source": []
  },
  {
   "cell_type": "code",
   "execution_count": null,
   "metadata": {},
   "outputs": [],
   "source": [
    "dfinal3[\"dy\"]=pd.to_datetime(dfinal3[5])"
   ]
  },
  {
   "cell_type": "code",
   "execution_count": null,
   "metadata": {},
   "outputs": [],
   "source": [
    "dfinal3.dy"
   ]
  },
  {
   "cell_type": "code",
   "execution_count": null,
   "metadata": {},
   "outputs": [],
   "source": [
    "kyu = pd.read_csv(\"D:/ahn_pc/workfile/2021/阪神事故リスク/kyujitsu_2021.csv\", header=None)"
   ]
  },
  {
   "cell_type": "code",
   "execution_count": null,
   "metadata": {},
   "outputs": [],
   "source": [
    "kyu[\"dy\"]=pd.to_datetime(kyu[0])"
   ]
  },
  {
   "cell_type": "code",
   "execution_count": null,
   "metadata": {},
   "outputs": [],
   "source": [
    "kyu[\"kcode\"]=1"
   ]
  },
  {
   "cell_type": "code",
   "execution_count": null,
   "metadata": {},
   "outputs": [],
   "source": [
    "kyu.dy"
   ]
  },
  {
   "cell_type": "code",
   "execution_count": null,
   "metadata": {},
   "outputs": [],
   "source": [
    "dfinal4 = pd.merge(dfinal3,kyu, on=\"dy\", how=\"left\")"
   ]
  },
  {
   "cell_type": "code",
   "execution_count": null,
   "metadata": {},
   "outputs": [],
   "source": [
    "dfinal4"
   ]
  },
  {
   "cell_type": "code",
   "execution_count": null,
   "metadata": {},
   "outputs": [],
   "source": [
    "dfinal4[~pd.isna(dfinal4.kcode)].kcode"
   ]
  },
  {
   "cell_type": "code",
   "execution_count": null,
   "metadata": {},
   "outputs": [],
   "source": [
    "dfinal4.loc[(dfinal4.kcode==1),\"wcode\"]=3"
   ]
  },
  {
   "cell_type": "code",
   "execution_count": null,
   "metadata": {},
   "outputs": [],
   "source": []
  },
  {
   "cell_type": "code",
   "execution_count": null,
   "metadata": {},
   "outputs": [],
   "source": [
    "dfinal4.to_csv(\"D:/ahn_pc/workfile/2021/阪神事故リスク/dfinal4_3.csv\", index = False)"
   ]
  },
  {
   "cell_type": "code",
   "execution_count": null,
   "metadata": {},
   "outputs": [],
   "source": [
    "dfinal4 = pd.read_csv(\"D:/ahn_pc/workfile/2021/阪神事故リスク/dfinal4_3.csv\")"
   ]
  },
  {
   "cell_type": "code",
   "execution_count": null,
   "metadata": {},
   "outputs": [],
   "source": [
    "dfinal4"
   ]
  },
  {
   "cell_type": "code",
   "execution_count": null,
   "metadata": {},
   "outputs": [],
   "source": [
    "dfinal4.columns"
   ]
  },
  {
   "cell_type": "code",
   "execution_count": null,
   "metadata": {},
   "outputs": [],
   "source": [
    "dff = dfinal4.loc[:,[\"idx\",\"1_x\",\"2\",\"4\",\"5\",\"3\",\"7\",\"11\",\"trf\",\"cong\",\"acci\",\"wcode\",\"hcode\",\"kcode\"]]"
   ]
  },
  {
   "cell_type": "code",
   "execution_count": null,
   "metadata": {},
   "outputs": [],
   "source": [
    "dff"
   ]
  },
  {
   "cell_type": "code",
   "execution_count": null,
   "metadata": {},
   "outputs": [],
   "source": [
    "dff.to_csv(\"D:/ahn_pc/workfile/2021/阪神事故リスク/dff4.csv\", index = False)"
   ]
  },
  {
   "cell_type": "code",
   "execution_count": null,
   "metadata": {},
   "outputs": [],
   "source": []
  }
 ],
 "metadata": {
  "kernelspec": {
   "display_name": "Python 3",
   "language": "python",
   "name": "python3"
  },
  "language_info": {
   "codemirror_mode": {
    "name": "ipython",
    "version": 3
   },
   "file_extension": ".py",
   "mimetype": "text/x-python",
   "name": "python",
   "nbconvert_exporter": "python",
   "pygments_lexer": "ipython3",
   "version": "3.7.6"
  }
 },
 "nbformat": 4,
 "nbformat_minor": 4
}
