{
 "cells": [
  {
   "cell_type": "code",
   "execution_count": 1,
   "metadata": {
    "collapsed": false
   },
   "outputs": [
    {
     "data": {
      "text/html": [
       "<canvas id = 'canvas'>"
      ],
      "text/plain": [
       "<IPython.core.display.HTML object>"
      ]
     },
     "metadata": {},
     "output_type": "display_data"
    }
   ],
   "source": [
    "%%html\n",
    "<canvas id = 'canvas'>"
   ]
  },
  {
   "cell_type": "code",
   "execution_count": 5,
   "metadata": {
    "collapsed": false
   },
   "outputs": [
    {
     "data": {
      "application/javascript": [
       "var canvas = document.querySelector('#canvas')\n",
       "var ctx = canvas.getContext('2d')\n",
       "\n",
       "var boxdraw = function() {\n",
       "    ctx.beginPath();\n",
       "    ctx.moveTo(20, 20);\n",
       "    ctx.lineTo(120, 20);\n",
       "    ctx.lineTo(120, 120);\n",
       "    ctx.lineTo(20, 120);\n",
       "    ctx.closePath();\n",
       "    ctx.stroke();\n",
       "}\n",
       "\n",
       "var Ptcl = function(){}\n",
       "Ptcl.pt = Ptcl.prototype\n",
       "Ptcl.pt.x = 0\n",
       "Ptcl.pt.y = 0\n",
       "Ptcl.pt.r = 0\n",
       "Ptcl.pt.vx = 0\n",
       "Ptcl.pt.vy = 0\n",
       "\n",
       "Ptcl.pt.init = function() {\n",
       "    this.x = Math.random() * canvas.width\n",
       "    this.y = Math.random() * canvas.height\n",
       "    this.r = 10\n",
       "    this.vx = Math.random() * 6 + 2\n",
       "    this.vy = Math.random() * 6 + 2\n",
       "}\n",
       "\n",
       "Ptcl.pt.draw = function() {\n",
       "    ctx.clearRect(0, 0, canvas.width, canvas.height);\n",
       "    boxdraw()\n",
       "    ctx.beginPath();\n",
       "    ctx.arc(this.x, this.y, this.r, 0, Math.PI * 2, false);\n",
       "    ctx.closePath();\n",
       "    ctx.fill();\n",
       "}\n",
       "\n",
       "Ptcl.pt.update = function() {\n",
       "    this.x += this.vx\n",
       "    this.y += this.vy\n",
       "    this.bound()\n",
       "}\n",
       "\n",
       "Ptcl.pt.bound = function() {\n",
       "    if(this.x < 0) {\n",
       "        this.x = 0\n",
       "        this.vx *= -1\n",
       "    }\n",
       "    if(this.y < 0) {\n",
       "        this.y = 0\n",
       "        this.vy *= -1\n",
       "    }\n",
       "    if(this.x > canvas.width - 1) {\n",
       "        this.x = canvas.width - 1\n",
       "        this.vx *= -1\n",
       "    }\n",
       "    if(this.y > canvas.height - 1) {\n",
       "        this.y = canvas.height - 1\n",
       "        this.vy *= -1\n",
       "    }\n",
       "}\n",
       "\n",
       "var p = new Ptcl()\n",
       "p.init()\n",
       "\n",
       "var loop = function() {\n",
       "    p.update()    \n",
       "    p.draw()\n",
       "    requestAnimationFrame(loop);\n",
       "};\n",
       "\n",
       "loop();"
      ],
      "text/plain": [
       "<IPython.core.display.Javascript object>"
      ]
     },
     "metadata": {},
     "output_type": "display_data"
    }
   ],
   "source": [
    "%%javascript\n",
    "var canvas = document.querySelector('#canvas')\n",
    "var ctx = canvas.getContext('2d')\n",
    "\n",
    "var boxdraw = function() {\n",
    "    ctx.beginPath();\n",
    "    ctx.moveTo(20, 20);\n",
    "    ctx.lineTo(120, 20);\n",
    "    ctx.lineTo(120, 120);\n",
    "    ctx.lineTo(20, 120);\n",
    "    ctx.closePath();\n",
    "    ctx.stroke();\n",
    "}\n",
    "\n",
    "var Ptcl = function(){}\n",
    "Ptcl.pt = Ptcl.prototype\n",
    "Ptcl.pt.x = 0\n",
    "Ptcl.pt.y = 0\n",
    "Ptcl.pt.r = 0\n",
    "Ptcl.pt.vx = 0\n",
    "Ptcl.pt.vy = 0\n",
    "\n",
    "Ptcl.pt.init = function() {\n",
    "    this.x = Math.random() * canvas.width\n",
    "    this.y = Math.random() * canvas.height\n",
    "    this.r = 10\n",
    "    this.vx = Math.random() * 6 + 2\n",
    "    this.vy = Math.random() * 6 + 2\n",
    "}\n",
    "\n",
    "Ptcl.pt.draw = function() {\n",
    "    ctx.clearRect(0, 0, canvas.width, canvas.height);\n",
    "    boxdraw()\n",
    "    ctx.beginPath();\n",
    "    ctx.arc(this.x, this.y, this.r, 0, Math.PI * 2, false);\n",
    "    ctx.closePath();\n",
    "    ctx.fill();\n",
    "}\n",
    "\n",
    "Ptcl.pt.update = function() {\n",
    "    this.x += this.vx\n",
    "    this.y += this.vy\n",
    "    this.bound()\n",
    "}\n",
    "\n",
    "Ptcl.pt.bound = function() {\n",
    "    if(this.x < 30) {\n",
    "        this.x = 30\n",
    "        this.vx *= -1\n",
    "    }\n",
    "    if(this.y < 30) {\n",
    "        this.y = 30\n",
    "        this.vy *= -1\n",
    "    }\n",
    "    if(this.x > 110) {\n",
    "        this.x = canvas.width - 1\n",
    "        this.vx *= -1\n",
    "    }\n",
    "    if(this.y > canvas.height - 1) {\n",
    "        this.y = canvas.height - 1\n",
    "        this.vy *= -1\n",
    "    }\n",
    "}\n",
    "\n",
    "var p = new Ptcl()\n",
    "p.init()\n",
    "\n",
    "var loop = function() {\n",
    "    p.update()    \n",
    "    p.draw()\n",
    "    requestAnimationFrame(loop);\n",
    "};\n",
    "\n",
    "loop();"
   ]
  },
  {
   "cell_type": "code",
   "execution_count": null,
   "metadata": {
    "collapsed": true
   },
   "outputs": [],
   "source": []
  }
 ],
 "metadata": {
  "anaconda-cloud": {},
  "kernelspec": {
   "display_name": "Python [conda root]",
   "language": "python",
   "name": "conda-root-py"
  },
  "language_info": {
   "codemirror_mode": {
    "name": "ipython",
    "version": 3
   },
   "file_extension": ".py",
   "mimetype": "text/x-python",
   "name": "python",
   "nbconvert_exporter": "python",
   "pygments_lexer": "ipython3",
   "version": "3.5.2"
  }
 },
 "nbformat": 4,
 "nbformat_minor": 1
}
