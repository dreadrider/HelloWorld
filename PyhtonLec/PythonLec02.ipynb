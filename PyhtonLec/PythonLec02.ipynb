{
 "cells": [
  {
   "cell_type": "markdown",
   "metadata": {},
   "source": [
    "# Pythonを学ぼう　２回目"
   ]
  },
  {
   "cell_type": "markdown",
   "metadata": {},
   "source": [
    "## Pythonプログラミングの基本要素"
   ]
  },
  {
   "cell_type": "markdown",
   "metadata": {},
   "source": [
    "### 古典的なプログラミングの基本要素\n",
    ">- 変数と代入\n",
    "- 条件、判断\n",
    "- 繰り返し、反復\n",
    "- 配列\n",
    "- 関数\n",
    "- ジャンプ、移動：あまり使わない方がいいし、使わなくなった\n",
    "\n",
    "### 最近追加された要素\n",
    ">- クラス(オブジェクト)\n",
    "- イベント、イベントリスナ\n",
    "- 関数の引数と結果に関数利用\n",
    "- コールバック、クロージャ"
   ]
  },
  {
   "cell_type": "markdown",
   "metadata": {},
   "source": [
    "## それでは、スタート"
   ]
  },
  {
   "cell_type": "markdown",
   "metadata": {},
   "source": [
    "### 変数と代入\n",
    "> 変数とは文字列や数字などを入れるところ、コンピュータではメモリ<br>\n",
    "メモリにはアドレスがあるが、一々アドレスで示すのは無理<br>\n",
    "そのため、値が入るところ、箱みたいなところを文字列で示す。それを変数名という<br>\n",
    "変数名は決められている予約語(Python命令語)以外に何でもいいが、数字が最初に来るのはダメ<br>\n",
    "また、変数名は英語以外に日本語も可能であるが、一般的に英語、(大文字、小文字を区別する)\n",
    "\n",
    "### 算術演算子\n",
    ">\\+ : 足し算<br>\n",
    "\\- : 引き算<br>\n",
    "\\* : 掛け算<br>\n",
    "/ : 割り算<br>\n",
    "// : 商<br>\n",
    "% : 剰余<br>\n",
    "\\*\\* : 冪乗<br>\n",
    "= : 代入<br>\n",
    "\\+= : x = x + 1のようなとき、x += 1で使う<br>\n",
    "\\*=や-=などなどもできる\n",
    "\n",
    "### 変数はいろんなタイプがある\n",
    "> 変数に数字を代入すれば整数型、実数型になる<br>\n",
    "文字列を代入すれば文字型になる<br>\n",
    "複数の値を代入すれば配列になる<br>\n",
    "配列はコレクションと呼ぶ<br>\n",
    "コレクションは少し後で習うことになるだろう<br>"
   ]
  },
  {
   "cell_type": "code",
   "execution_count": 2,
   "metadata": {
    "collapsed": true
   },
   "outputs": [],
   "source": [
    "width = 500\n",
    "height = 300\n",
    "area = width * height"
   ]
  },
  {
   "cell_type": "markdown",
   "metadata": {},
   "source": [
    "### Pythonでは整数型の変数はBigな数字に対応\n",
    "> 一般的にコンピュータでは大きな数字の場合、<br>\n",
    "有効数字が制限されているが<br>\n",
    "整数型は有効数字が大きい"
   ]
  },
  {
   "cell_type": "markdown",
   "metadata": {},
   "source": [
    "print文(print関数ともいう)については少し後で出るわ"
   ]
  },
  {
   "cell_type": "code",
   "execution_count": 10,
   "metadata": {
    "collapsed": false
   },
   "outputs": [
    {
     "name": "stdout",
     "output_type": "stream",
     "text": [
      "19950631168807583848837421626835850838234968318861924548520089498529438830221946631919961684036194597899331129423209124271556491349413781117593785932096323957855730046793794526765246551266059895520550086918193311542508608460618104685509074866089624888090489894838009253941633257850621568309473902556912388065225096643874441046759871626985453222868538161694315775629640762836880760732228535091641476183956381458969463899410840960536267821064621427333394036525565649530603142680234969400335934316651459297773279665775606172582031407994198179607378245683762280037302885487251900834464581454650557929601414833921615734588139257095379769119277800826957735674444123062018757836325502728323789270710373802866393031428133241401624195671690574061419654342324638801248856147305207431992259611796250130992860241708340807605932320161268492288496255841312844061536738951487114256315111089745514203313820202931640957596464756010405845841566072044962867016515061920631004186422275908670900574606417856951911456055068251250406007519842261898059237118054444788072906395242548339221982707404473162376760846613033778706039803413197133493654622700563169937455508241780972810983291314403571877524768509857276937926433221599399876886660808368837838027643282775172273657572744784112294389733810861607423253291974813120197604178281965697475898164531258434135959862784130128185406283476649088690521047580882615823961985770122407044330583075869039319604603404973156583208672105913300903752823415539745394397715257455290510212310947321610753474825740775273986348298498340756937955646638621874569499279016572103701364433135817214311791398222983845847334440270964182851005072927748364550578634501100852987812389473928699540834346158807043959118985815145779177143619698728131459483783202081474982171858011389071228250905826817436220577475921417653715687725614904582904992461028630081535583308130101987675856234343538955409175623400844887526162643568648833519463720377293240094456246923254350400678027273837755376406726898636241037491410966718557050759098100246789880178271925953381282421954028302759408448955014676668389697996886241636313376393903373455801407636741877711055384225739499110186468219696581651485130494222369947714763069155468217682876200362777257723781365331611196811280792669481887201298643660768551639860534602297871557517947385246369446923087894265948217008051120322365496288169035739121368338393591756418733850510970271613915439590991598154654417336311656936031122249937969999226781732358023111862644575299135758175008199839236284615249881088960232244362173771618086357015468484058622329792853875623486556440536962622018963571028812361567512543338303270029097668650568557157505516727518899194129711337690149916181315171544007728650573189557450920330185304847113818315407324053319038462084036421763703911550639789000742853672196280903477974533320468368795868580237952218629120080742819551317948157624448298518461509704888027274721574688131594750409732115080498190455803416826949787141316063210686391511681774304792596709376\n"
     ]
    }
   ],
   "source": [
    "a = 2 ** 10000\n",
    "print(a)"
   ]
  },
  {
   "cell_type": "markdown",
   "metadata": {},
   "source": [
    "### Pythonにはいろんなライブラリがある\n",
    "> 絶対値や端数のまるめなどは基本的に入っているが<br>\n",
    "SinやCosなどの関数はライブラリを利用する必要がある"
   ]
  },
  {
   "cell_type": "code",
   "execution_count": 28,
   "metadata": {
    "collapsed": false
   },
   "outputs": [
    {
     "name": "stdout",
     "output_type": "stream",
     "text": [
      "3.142\n"
     ]
    }
   ],
   "source": [
    "a = -3.141592\n",
    "b = abs(a)\n",
    "c = round(b,3)\n",
    "print(c)"
   ]
  },
  {
   "cell_type": "code",
   "execution_count": 18,
   "metadata": {
    "collapsed": true
   },
   "outputs": [],
   "source": [
    "import math"
   ]
  },
  {
   "cell_type": "code",
   "execution_count": 23,
   "metadata": {
    "collapsed": false
   },
   "outputs": [
    {
     "name": "stdout",
     "output_type": "stream",
     "text": [
      "6.535897930762419e-07\n",
      "3.141592653589793\n",
      "1.2246467991473532e-16\n"
     ]
    }
   ],
   "source": [
    "print(math.sin(3.141592))\n",
    "print(math.pi)\n",
    "print(math.sin(math.pi))"
   ]
  },
  {
   "cell_type": "code",
   "execution_count": 13,
   "metadata": {
    "collapsed": false
   },
   "outputs": [
    {
     "name": "stdout",
     "output_type": "stream",
     "text": [
      "314159265358979289194522341965928279072903105113123145558291671244878688660306671313462261981884520413951031019049346963663142903849542557861321443601272455755828083112185565885356499680846072407654400\n"
     ]
    }
   ],
   "source": [
    "a = math.pi\n",
    "b = 10 ** 200\n",
    "c = int(a * b)\n",
    "print(c)"
   ]
  },
  {
   "cell_type": "code",
   "execution_count": 25,
   "metadata": {
    "collapsed": true
   },
   "outputs": [],
   "source": [
    "import numpy as np"
   ]
  },
  {
   "cell_type": "code",
   "execution_count": 27,
   "metadata": {
    "collapsed": false
   },
   "outputs": [
    {
     "data": {
      "text/plain": [
       "array([  1.22464680e-16,   6.53589793e-07])"
      ]
     },
     "execution_count": 27,
     "metadata": {},
     "output_type": "execute_result"
    }
   ],
   "source": [
    "np.sin([np.pi,3.141592])"
   ]
  },
  {
   "cell_type": "markdown",
   "metadata": {},
   "source": [
    "### 数字の場合、変数を代入するとその値がコピーされるだけ\n",
    "> 後に、変数を代入するとその変数の値が代入されるのではなく、<br>\n",
    "その変数、そのまま代入されることがあることがわかる"
   ]
  },
  {
   "cell_type": "code",
   "execution_count": 1,
   "metadata": {
    "collapsed": false
   },
   "outputs": [
    {
     "name": "stdout",
     "output_type": "stream",
     "text": [
      "8\n",
      "8\n",
      "11\n"
     ]
    }
   ],
   "source": [
    "a = 3\n",
    "a = a + 5\n",
    "print(a)\n",
    "b = a\n",
    "a = 3\n",
    "print(b)\n",
    "b += 3\n",
    "print(b)"
   ]
  },
  {
   "cell_type": "code",
   "execution_count": 3,
   "metadata": {
    "collapsed": false
   },
   "outputs": [
    {
     "name": "stdout",
     "output_type": "stream",
     "text": [
      "str\n"
     ]
    }
   ],
   "source": [
    "a = \"str\"\n",
    "b = a\n",
    "a = \"abc\"\n",
    "print(b)"
   ]
  },
  {
   "cell_type": "markdown",
   "metadata": {},
   "source": [
    "### 変数の中身を確認したい\n",
    "> コマンドラインでPythonを実行しているときや<br>\n",
    "Jupyter Notebookを実行しているときに<br>\n",
    "変数に値を代入してからその変数名を入力すると<br>\n",
    "その変数の値が出力されるが、<br>\n",
    "プログラムとして実行した場合は出力されない<br>\n",
    "即ち、Editorなどを使ってプログラムを実行すると<br>\n",
    "変数名だけの行があっても何もしてくれない"
   ]
  },
  {
   "cell_type": "code",
   "execution_count": 5,
   "metadata": {
    "collapsed": false
   },
   "outputs": [
    {
     "data": {
      "text/plain": [
       "3"
      ]
     },
     "execution_count": 5,
     "metadata": {},
     "output_type": "execute_result"
    }
   ],
   "source": [
    "a = 3\n",
    "a"
   ]
  },
  {
   "cell_type": "code",
   "execution_count": 29,
   "metadata": {
    "collapsed": false
   },
   "outputs": [
    {
     "data": {
      "text/plain": [
       "5"
      ]
     },
     "execution_count": 29,
     "metadata": {},
     "output_type": "execute_result"
    }
   ],
   "source": [
    "a = 3\n",
    "b = 5\n",
    "a\n",
    "b"
   ]
  },
  {
   "cell_type": "markdown",
   "metadata": {},
   "source": [
    "少し難しい話、スキップしてよい"
   ]
  },
  {
   "cell_type": "code",
   "execution_count": 23,
   "metadata": {
    "collapsed": false
   },
   "outputs": [
    {
     "name": "stdout",
     "output_type": "stream",
     "text": [
      "<class 'int'>\n",
      "1832780336\n",
      "1832780336\n",
      "1832780336\n"
     ]
    }
   ],
   "source": [
    "print(type(3))\n",
    "print(id(3))\n",
    "a = 3\n",
    "b = 3\n",
    "print(id(a))\n",
    "print(id(b))"
   ]
  },
  {
   "cell_type": "code",
   "execution_count": 28,
   "metadata": {
    "collapsed": false
   },
   "outputs": [
    {
     "name": "stdout",
     "output_type": "stream",
     "text": [
      "['__abs__', '__add__', '__and__', '__bool__', '__ceil__', '__class__', '__delattr__', '__dir__', '__divmod__', '__doc__', '__eq__', '__float__', '__floor__', '__floordiv__', '__format__', '__ge__', '__getattribute__', '__getnewargs__', '__gt__', '__hash__', '__index__', '__init__', '__int__', '__invert__', '__le__', '__lshift__', '__lt__', '__mod__', '__mul__', '__ne__', '__neg__', '__new__', '__or__', '__pos__', '__pow__', '__radd__', '__rand__', '__rdivmod__', '__reduce__', '__reduce_ex__', '__repr__', '__rfloordiv__', '__rlshift__', '__rmod__', '__rmul__', '__ror__', '__round__', '__rpow__', '__rrshift__', '__rshift__', '__rsub__', '__rtruediv__', '__rxor__', '__setattr__', '__sizeof__', '__str__', '__sub__', '__subclasshook__', '__truediv__', '__trunc__', '__xor__', 'bit_length', 'conjugate', 'denominator', 'from_bytes', 'imag', 'numerator', 'real', 'to_bytes']\n"
     ]
    }
   ],
   "source": [
    "print(dir(3))"
   ]
  },
  {
   "cell_type": "markdown",
   "metadata": {},
   "source": [
    "### 結果として出力したい\n",
    "> その時はprint()を使う<br>\n",
    "入力はinput()を使う"
   ]
  },
  {
   "cell_type": "markdown",
   "metadata": {},
   "source": [
    "文字列をつなげるときはコンマを利用するし<br>\n",
    "変数を入れることも可能"
   ]
  },
  {
   "cell_type": "code",
   "execution_count": 14,
   "metadata": {
    "collapsed": false
   },
   "outputs": [
    {
     "name": "stdout",
     "output_type": "stream",
     "text": [
      "My birth day is Apr. 16th !!!\n"
     ]
    }
   ],
   "source": [
    "birth = \"Apr. 16th\"\n",
    "print(\"My birth day is\",birth,\"!!!\")"
   ]
  },
  {
   "cell_type": "markdown",
   "metadata": {},
   "source": [
    "数字の変数を入れると自動的に文字化される"
   ]
  },
  {
   "cell_type": "code",
   "execution_count": 15,
   "metadata": {
    "collapsed": false
   },
   "outputs": [
    {
     "name": "stdout",
     "output_type": "stream",
     "text": [
      "My name is Mary and I am 32 old\n"
     ]
    }
   ],
   "source": [
    "name = \"Mary\"\n",
    "age = 32\n",
    "print(\"My name is\",name,\"and I am\",age,\"old\")"
   ]
  },
  {
   "cell_type": "markdown",
   "metadata": {},
   "source": [
    "しかし、文字型に追加したい場合<br>\n",
    "数字を文字化しなければならない"
   ]
  },
  {
   "cell_type": "code",
   "execution_count": 12,
   "metadata": {
    "collapsed": false
   },
   "outputs": [
    {
     "ename": "TypeError",
     "evalue": "Can't convert 'int' object to str implicitly",
     "output_type": "error",
     "traceback": [
      "\u001b[0;31m---------------------------------------------------------------------------\u001b[0m",
      "\u001b[0;31mTypeError\u001b[0m                                 Traceback (most recent call last)",
      "\u001b[0;32m<ipython-input-12-6335f5b22a80>\u001b[0m in \u001b[0;36m<module>\u001b[0;34m()\u001b[0m\n\u001b[1;32m      1\u001b[0m \u001b[0ma\u001b[0m \u001b[1;33m=\u001b[0m \u001b[1;34m\"My age is\"\u001b[0m\u001b[1;33m\u001b[0m\u001b[0m\n\u001b[1;32m      2\u001b[0m \u001b[0mb\u001b[0m \u001b[1;33m=\u001b[0m \u001b[1;36m43\u001b[0m\u001b[1;33m\u001b[0m\u001b[0m\n\u001b[0;32m----> 3\u001b[0;31m \u001b[0mc\u001b[0m \u001b[1;33m=\u001b[0m \u001b[0ma\u001b[0m \u001b[1;33m+\u001b[0m \u001b[0mb\u001b[0m\u001b[1;33m\u001b[0m\u001b[0m\n\u001b[0m",
      "\u001b[0;31mTypeError\u001b[0m: Can't convert 'int' object to str implicitly"
     ]
    }
   ],
   "source": [
    "a = \"My age is\"\n",
    "b = 43\n",
    "c = a + b"
   ]
  },
  {
   "cell_type": "code",
   "execution_count": 15,
   "metadata": {
    "collapsed": false
   },
   "outputs": [
    {
     "name": "stdout",
     "output_type": "stream",
     "text": [
      "My age is 43\n"
     ]
    }
   ],
   "source": [
    "a = \"My age is \"\n",
    "b = 43\n",
    "c = a + str(b)\n",
    "print(c)"
   ]
  },
  {
   "cell_type": "markdown",
   "metadata": {},
   "source": [
    "入力をするときはinput()を使うが<br>\n",
    "最近はあまり使わない。なぜなら<br>\n",
    "GUIなどで他に入力する方法があるから"
   ]
  },
  {
   "cell_type": "code",
   "execution_count": 10,
   "metadata": {
    "collapsed": false
   },
   "outputs": [
    {
     "name": "stdout",
     "output_type": "stream",
     "text": [
      "What do you do?teacher\n",
      "I am a teacher\n"
     ]
    }
   ],
   "source": [
    "job = input(\"What do you do?\")\n",
    "print(\"I am a\", job)"
   ]
  },
  {
   "cell_type": "markdown",
   "metadata": {},
   "source": [
    "例えば、Jupyter Notebookではinteractということがある"
   ]
  },
  {
   "cell_type": "code",
   "execution_count": 33,
   "metadata": {
    "collapsed": false
   },
   "outputs": [
    {
     "name": "stdout",
     "output_type": "stream",
     "text": [
      "world\n"
     ]
    }
   ],
   "source": [
    "from IPython.html.widgets import interact\n",
    "@interact(hello=\"world\")\n",
    "def f(hello) :\n",
    "    print(hello)"
   ]
  },
  {
   "cell_type": "markdown",
   "metadata": {},
   "source": [
    "あるいは、テキストファイルやCSVファイル、<br>\n",
    "またデータベースファイルから読み込むこともある"
   ]
  },
  {
   "cell_type": "code",
   "execution_count": 9,
   "metadata": {
    "collapsed": false
   },
   "outputs": [
    {
     "name": "stdout",
     "output_type": "stream",
     "text": [
      "['2.555414213', '6.125686735', '2.656724718', '6.125686735', '2.656724718']\n",
      "['9.878199681', '2.290967549', '5.404785379', '2.290967549', '5.404785379']\n",
      "['5.873460301', '0.991983052', '4.258038364', '0.991983052', '4.258038364']\n",
      "['6.74740078', '6.142568803', '1.655134124', '6.142568803', '1.655134124']\n",
      "['9.351320866', '3.593190577', '2.403271863', '3.593190577', '2.403271863']\n",
      "['1.33573376', '5.217532443', '9.456124353', '5.217532443', '9.456124353']\n",
      "['4.091220651', '9.422036585', '8.004456409', '9.422036585', '8.004456409']\n",
      "['2.537011423', '8.562309987', '0.043502394', '8.562309987', '0.043502394']\n",
      "['1.813120822', '2.73352397', '2.729750958', '2.73352397', '2.729750958']\n",
      "['6.473629156', '8.411084406', '5.918845797', '8.411084406', '5.918845797']\n",
      "['0.593735481', '6.20401226', '4.405675129', '6.20401226', '4.405675129']\n",
      "['3.263561384', '8.534047659', '2.52816564', '8.534047659', '2.52816564']\n",
      "['7.648557268', '5.06822326', '7.989352296', '5.06822326', '7.989352296']\n",
      "['7.377610394', '1.495047071', '6.679512096', '1.495047071', '6.679512096']\n",
      "['7.808557049', '4.356826781', '7.17102787', '4.356826781', '7.17102787']\n",
      "['0.249482694', '5.680401613', '7.687745994', '5.680401613', '7.687745994']\n",
      "['8.920588966', '8.170638787', '5.473449178', '8.170638787', '5.473449178']\n",
      "['0.945391103', '2.353006106', '3.611667517', '2.353006106', '3.611667517']\n",
      "['8.992148697', '3.498630247', '2.455100492', '3.498630247', '2.455100492']\n",
      "['7.111370325', '4.029313755', '3.995086361', '4.029313755', '3.995086361']\n"
     ]
    }
   ],
   "source": [
    "import csv\n",
    "f = open('test.csv', 'r')\n",
    "reader = csv.reader(f)\n",
    "for row in reader:\n",
    "    print(row)\n",
    "f.close()"
   ]
  },
  {
   "cell_type": "markdown",
   "metadata": {},
   "source": [
    "### 簡単なコレクション型について\n",
    "> list型があるが、リストにする、即ち、配列の意味<br>\n",
    "タプル型と辞書型、そして、集合型などもある"
   ]
  },
  {
   "cell_type": "code",
   "execution_count": 5,
   "metadata": {
    "collapsed": false
   },
   "outputs": [
    {
     "data": {
      "text/plain": [
       "[1, 3, 5]"
      ]
     },
     "execution_count": 5,
     "metadata": {},
     "output_type": "execute_result"
    }
   ],
   "source": [
    "list = [1,3,5]\n",
    "list"
   ]
  },
  {
   "cell_type": "code",
   "execution_count": 6,
   "metadata": {
    "collapsed": false
   },
   "outputs": [
    {
     "data": {
      "text/plain": [
       "[1, [3, 5], 7]"
      ]
     },
     "execution_count": 6,
     "metadata": {},
     "output_type": "execute_result"
    }
   ],
   "source": [
    "list = [1,[3,5],7]\n",
    "list"
   ]
  },
  {
   "cell_type": "code",
   "execution_count": 12,
   "metadata": {
    "collapsed": false
   },
   "outputs": [
    {
     "name": "stdout",
     "output_type": "stream",
     "text": [
      "[1, ['three', 'five', 7], 9, 11]\n",
      "five\n"
     ]
    }
   ],
   "source": [
    "list = [1,[\"three\",\"five\",7],9,11]\n",
    "print(list)\n",
    "print(list[1][1])"
   ]
  },
  {
   "cell_type": "markdown",
   "metadata": {},
   "source": [
    "### 数字のみの配列になれば\n",
    "> 上記のようにlistの中にlistを入れることで多重listができる<br>\n",
    "数字のみの多重配列はランクnのテンソルにもなる<br>\n",
    "ランク2の場合は特に行列になる。そして、行列とテンソルは<br>\n",
    "線形代数のようなところで整理されているし<br>\n",
    "いろいろなところで活用されているのでライブラリがある<br>\n",
    "numpyとscipyなどがあり、統計用のデータフレームのpandasがある"
   ]
  },
  {
   "cell_type": "code",
   "execution_count": 14,
   "metadata": {
    "collapsed": false
   },
   "outputs": [
    {
     "data": {
      "text/plain": [
       "array([[1, 3, 5],\n",
       "       [2, 4, 6]])"
      ]
     },
     "execution_count": 14,
     "metadata": {},
     "output_type": "execute_result"
    }
   ],
   "source": [
    "import numpy as np\n",
    "list = np.array([[1,3,5],[2,4,6]])\n",
    "list"
   ]
  },
  {
   "cell_type": "markdown",
   "metadata": {},
   "source": [
    "## 条件判断文、if else"
   ]
  },
  {
   "cell_type": "markdown",
   "metadata": {},
   "source": [
    "### 比較演算子"
   ]
  },
  {
   "cell_type": "markdown",
   "metadata": {},
   "source": [
    "> == : 等しい<br>\n",
    "!= : 等しくない<br>\n",
    "\\> : 超過<br>\n",
    "< : 未満<br>\n",
    "\\>= : 以上<br>\n",
    "<= : 以下"
   ]
  },
  {
   "cell_type": "markdown",
   "metadata": {},
   "source": [
    "### if else, elif sentence\n",
    "> ここからインデント(字下げ、空白、indent)が重要になる<br>\n",
    "Pythonでは影響が及ぶ枠をインデントで決める<br>\n",
    "他の言語では中格好{}を利用する場合が多い"
   ]
  },
  {
   "cell_type": "code",
   "execution_count": 11,
   "metadata": {
    "collapsed": true
   },
   "outputs": [],
   "source": [
    "a = 30"
   ]
  },
  {
   "cell_type": "markdown",
   "metadata": {},
   "source": [
    "ifの次に条件式を書く。そして、コロン：を必ず打つ<br>\n",
    "条件を満たすとインデントされている部分を実行"
   ]
  },
  {
   "cell_type": "code",
   "execution_count": 13,
   "metadata": {
    "collapsed": false
   },
   "outputs": [
    {
     "name": "stdout",
     "output_type": "stream",
     "text": [
      "below 50\n",
      "End\n"
     ]
    }
   ],
   "source": [
    "if a < 50:\n",
    "    print('below 50')\n",
    "print('End')"
   ]
  },
  {
   "cell_type": "code",
   "execution_count": 12,
   "metadata": {
    "collapsed": false
   },
   "outputs": [
    {
     "name": "stdout",
     "output_type": "stream",
     "text": [
      "End\n"
     ]
    }
   ],
   "source": [
    "if a > 50:\n",
    "    print('over 50')\n",
    "print('End')"
   ]
  },
  {
   "cell_type": "markdown",
   "metadata": {},
   "source": [
    "条件を満たさない場合も何か実行させたい場合else文を利用する。<br>\n",
    "ifのようにコロンとインデントが必要だが、ifに条件を書いたのでelseでは必要ない"
   ]
  },
  {
   "cell_type": "code",
   "execution_count": 15,
   "metadata": {
    "collapsed": false
   },
   "outputs": [
    {
     "name": "stdout",
     "output_type": "stream",
     "text": [
      "below 30\n",
      "Finish\n",
      "Game Over\n"
     ]
    }
   ],
   "source": [
    "if a > 50:\n",
    "    print('over 50')\n",
    "    print('End')\n",
    "else:\n",
    "    print('below 30')\n",
    "    print('Finish')\n",
    "print('Game Over')"
   ]
  },
  {
   "cell_type": "markdown",
   "metadata": {},
   "source": [
    "最初の条件を満たさなくて、続けて次の条件が必要な場合はelifを利用<br>\n",
    "これは更なる条件が必要でelif後に条件を書く。もちろんコロンも必要<br>\n",
    "そして、その次の条件を満たしていると次のインデントの部分が実行"
   ]
  },
  {
   "cell_type": "code",
   "execution_count": 16,
   "metadata": {
    "collapsed": false
   },
   "outputs": [
    {
     "name": "stdout",
     "output_type": "stream",
     "text": [
      "It's correct\n",
      "End\n"
     ]
    }
   ],
   "source": [
    "if a > 50:\n",
    "    print('over 50')\n",
    "elif a < 10:\n",
    "    print('below 10')\n",
    "else:\n",
    "    print(\"It's correct\")\n",
    "print('End')"
   ]
  },
  {
   "cell_type": "markdown",
   "metadata": {},
   "source": [
    "最初の条件を満たしてもまた次の条件がある場合は<br>\n",
    "インデント部分にif elseなどを再び使ってもいい<br>\n",
    "下の例題はすべてif elifでやってもいいので、いい例題ではない"
   ]
  },
  {
   "cell_type": "code",
   "execution_count": 18,
   "metadata": {
    "collapsed": false
   },
   "outputs": [
    {
     "name": "stdout",
     "output_type": "stream",
     "text": [
      "below 50\n",
      "30 < a < 50\n",
      "End\n"
     ]
    }
   ],
   "source": [
    "if a > 50:\n",
    "    print('over 50')\n",
    "    if a > 80:\n",
    "        print('over 80')\n",
    "    else:\n",
    "        print('50 < a < 80')\n",
    "else:\n",
    "    print('below 50')\n",
    "    if a < 10:\n",
    "        print('below 10') \n",
    "    elif a < 30:\n",
    "        print('10 < a < 30')\n",
    "    else:\n",
    "        print('30 < a < 50')\n",
    "print('End')"
   ]
  },
  {
   "cell_type": "markdown",
   "metadata": {},
   "source": [
    "### 論理演算子\n",
    "> and, or, not等がある"
   ]
  },
  {
   "cell_type": "code",
   "execution_count": 19,
   "metadata": {
    "collapsed": false
   },
   "outputs": [
    {
     "name": "stdout",
     "output_type": "stream",
     "text": [
      "10 < a < 50\n"
     ]
    }
   ],
   "source": [
    "if 10 < a and a < 50:\n",
    "    print('10 < a < 50')"
   ]
  },
  {
   "cell_type": "markdown",
   "metadata": {},
   "source": [
    "論理的に真の場合と偽の場合があるが、<br>\n",
    "即ち、ifの条件式を満たしている場合とそうではない場合だが、<br>\n",
    "真偽を値として持つことも可能だし、変数に代入することも可能"
   ]
  },
  {
   "cell_type": "code",
   "execution_count": 28,
   "metadata": {
    "collapsed": false
   },
   "outputs": [
    {
     "name": "stdout",
     "output_type": "stream",
     "text": [
      "False\n",
      "True\n",
      "True\n",
      "0b1000\n",
      "0b1110\n",
      "0b110\n"
     ]
    }
   ],
   "source": [
    "t = True\n",
    "f = False\n",
    "print(t&f)\n",
    "print(t|f)\n",
    "print(t^f)\n",
    "bit1 = 0b1010\n",
    "bit2 = 0b1100\n",
    "print(bin(bit1&bit2))\n",
    "print(bin(bit1|bit2))\n",
    "print(bin(bit1^bit2))"
   ]
  },
  {
   "cell_type": "code",
   "execution_count": 25,
   "metadata": {
    "collapsed": false
   },
   "outputs": [
    {
     "name": "stdout",
     "output_type": "stream",
     "text": [
      "below 50\n"
     ]
    }
   ],
   "source": [
    "result = (a < 50)\n",
    "if result:\n",
    "    print('below 50')"
   ]
  },
  {
   "cell_type": "markdown",
   "metadata": {},
   "source": [
    "## 繰り返し、反復文、while and for in"
   ]
  },
  {
   "cell_type": "markdown",
   "metadata": {},
   "source": [
    "### range for Python3"
   ]
  },
  {
   "cell_type": "code",
   "execution_count": 15,
   "metadata": {
    "collapsed": false
   },
   "outputs": [
    {
     "name": "stdout",
     "output_type": "stream",
     "text": [
      "range(0, 10)\n"
     ]
    }
   ],
   "source": [
    "a = range(10)\n",
    "print(a)"
   ]
  },
  {
   "cell_type": "markdown",
   "metadata": {},
   "source": [
    "rangeはまだlist型ではないので<br>\n",
    "型の変換が必要、listにするためには、<br>\n",
    "list()関数を利用"
   ]
  },
  {
   "cell_type": "code",
   "execution_count": 34,
   "metadata": {
    "collapsed": false
   },
   "outputs": [
    {
     "name": "stdout",
     "output_type": "stream",
     "text": [
      "[0, 1, 2, 3, 4, 5, 6, 7, 8, 9]\n",
      "[1, 2, 3, 4, 5, 6, 7, 8, 9]\n",
      "[3, 5, 7, 9]\n"
     ]
    }
   ],
   "source": [
    "a = range(10)\n",
    "print(list(a))\n",
    "a = range(1,10)\n",
    "print(list(a))\n",
    "a = range(3,10,2)\n",
    "print(list(a))"
   ]
  },
  {
   "cell_type": "markdown",
   "metadata": {},
   "source": [
    "### While sentence\n",
    "> whileの後に条件式を書く(変数でも構わない)。そして、コロン追加<br>\n",
    "改行してからインデントするとインデントされているところを<br>\n",
    "条件が真の場合だけ繰り返す"
   ]
  },
  {
   "cell_type": "code",
   "execution_count": 37,
   "metadata": {
    "collapsed": false
   },
   "outputs": [
    {
     "name": "stdout",
     "output_type": "stream",
     "text": [
      "a becomes 3\n",
      "End\n"
     ]
    }
   ],
   "source": [
    "a = 0\n",
    "sum = 0\n",
    "while a == 0:\n",
    "    sum += 1\n",
    "    if sum == 3:\n",
    "        a = 3\n",
    "        print('a becomes 3')\n",
    "print('End')"
   ]
  },
  {
   "cell_type": "markdown",
   "metadata": {},
   "source": [
    "条件がTrueの論理値であれば、無限ループになる<br>\n",
    "そのループから出る時に必要なのがbreak<br>\n",
    "また、インデントの中、次の行から実行させなく<br>\n",
    "次のループ回に行かせるcontinue"
   ]
  },
  {
   "cell_type": "code",
   "execution_count": 38,
   "metadata": {
    "collapsed": false
   },
   "outputs": [
    {
     "name": "stdout",
     "output_type": "stream",
     "text": [
      "1\n",
      "2\n",
      "3\n",
      "4\n",
      "It is five\n",
      "6\n",
      "7\n",
      "8\n",
      "9\n",
      "10\n",
      "Exit\n",
      "End\n"
     ]
    }
   ],
   "source": [
    "sum = 0\n",
    "while True:\n",
    "    sum += 1\n",
    "    if sum > 10:\n",
    "        print('Exit')\n",
    "        break\n",
    "    elif sum == 5:\n",
    "        print('It is five')\n",
    "        continue\n",
    "    print(sum)\n",
    "print('End')"
   ]
  },
  {
   "cell_type": "markdown",
   "metadata": {},
   "source": [
    "### for in sentence\n",
    "> listなどのコレクション変数に対して<br>\n",
    "その内容の数まで繰り返す<br>\n",
    "そのため、無限ループにならない"
   ]
  },
  {
   "cell_type": "code",
   "execution_count": 39,
   "metadata": {
    "collapsed": false
   },
   "outputs": [
    {
     "name": "stdout",
     "output_type": "stream",
     "text": [
      "0\n",
      "1\n",
      "2\n",
      "3\n",
      "4\n",
      "5\n",
      "6\n",
      "7\n",
      "8\n",
      "9\n"
     ]
    }
   ],
   "source": [
    "a = range(10)\n",
    "for i in a:\n",
    "    print(i)"
   ]
  },
  {
   "cell_type": "code",
   "execution_count": 52,
   "metadata": {
    "collapsed": false
   },
   "outputs": [
    {
     "name": "stdout",
     "output_type": "stream",
     "text": [
      "orange\n",
      "blue\n",
      "pink\n"
     ]
    }
   ],
   "source": [
    "color = ['orange', 'blue', 'pink']\n",
    "for col in color:\n",
    "    print(col)"
   ]
  },
  {
   "cell_type": "code",
   "execution_count": 56,
   "metadata": {
    "collapsed": false
   },
   "outputs": [
    {
     "name": "stdout",
     "output_type": "stream",
     "text": [
      "91.33333333333333\n"
     ]
    }
   ],
   "source": [
    "score = [95, 87, 92]\n",
    "sum = 0\n",
    "for s in score:\n",
    "    sum += s\n",
    "avg = sum / len(score)\n",
    "print(avg)"
   ]
  },
  {
   "cell_type": "code",
   "execution_count": 40,
   "metadata": {
    "collapsed": false
   },
   "outputs": [
    {
     "name": "stdout",
     "output_type": "stream",
     "text": [
      "x\n",
      "x\n",
      "x\n",
      "x\n",
      "x\n"
     ]
    }
   ],
   "source": [
    "for _ in range(5):\n",
    "    print('x')"
   ]
  },
  {
   "cell_type": "code",
   "execution_count": 20,
   "metadata": {
    "collapsed": false
   },
   "outputs": [
    {
     "name": "stdout",
     "output_type": "stream",
     "text": [
      "[[1, 3, 5], [2, 4, 6], ['Mon', 'Tue', 'Wed', 'Thu', 'Fri']]\n",
      "[1, 3, 5]\n",
      "[2, 4, 6]\n",
      "['Mon', 'Tue', 'Wed', 'Thu', 'Fri']\n"
     ]
    }
   ],
   "source": [
    "mat = [[1,3,5],[2,4,6],[\"Mon\",\"Tue\",\"Wed\",\"Thu\",\"Fri\"]]\n",
    "print(mat)\n",
    "for i in mat:\n",
    "    print(i)"
   ]
  },
  {
   "cell_type": "markdown",
   "metadata": {},
   "source": [
    "### 多重ループも可能\n",
    "> forのインデントの中にまたforを入れればいいだけ<br>\n",
    "ここで、print文は恰好内の文字列を出力して<br>\n",
    "自動的に改行までするのでそれを防ぐ方法はendオプションを使う"
   ]
  },
  {
   "cell_type": "code",
   "execution_count": 44,
   "metadata": {
    "collapsed": false
   },
   "outputs": [
    {
     "name": "stdout",
     "output_type": "stream",
     "text": [
      "x\n",
      "xx\n",
      "xxx\n",
      "xxxx\n",
      "xxxxx\n"
     ]
    }
   ],
   "source": [
    "for i in range(5):\n",
    "    for _ in range(i+1):\n",
    "        print('x', end='')\n",
    "    print('')"
   ]
  },
  {
   "cell_type": "code",
   "execution_count": 17,
   "metadata": {
    "collapsed": false
   },
   "outputs": [
    {
     "name": "stdout",
     "output_type": "stream",
     "text": [
      "  x\n",
      " xxx\n",
      "xxxxx\n",
      " xxx\n",
      "  x\n"
     ]
    }
   ],
   "source": [
    "for i in range(5):\n",
    "    for _ in range(abs(2-i)):\n",
    "        print(' ', end='')\n",
    "    for _ in range(2*(2-abs(2-i))+1):\n",
    "        print('x', end='')\n",
    "    print('')"
   ]
  },
  {
   "cell_type": "code",
   "execution_count": 16,
   "metadata": {
    "collapsed": false
   },
   "outputs": [
    {
     "name": "stdout",
     "output_type": "stream",
     "text": [
      "10\n",
      "20\n",
      "Hello\n",
      "Python\n"
     ]
    }
   ],
   "source": [
    "lst = [10, 20, 'Hello', 'Python']\n",
    "for i in lst:\n",
    "    print(i)"
   ]
  },
  {
   "cell_type": "code",
   "execution_count": 58,
   "metadata": {
    "collapsed": false
   },
   "outputs": [
    {
     "name": "stdout",
     "output_type": "stream",
     "text": [
      "10\n",
      "20\n",
      "Hello\n",
      "Python\n"
     ]
    }
   ],
   "source": [
    "lst = [10, 20, 'Hello', 'Python']\n",
    "for i in range(len(lst)):\n",
    "    print(lst[i])"
   ]
  },
  {
   "cell_type": "code",
   "execution_count": 51,
   "metadata": {
    "collapsed": false
   },
   "outputs": [
    {
     "name": "stdout",
     "output_type": "stream",
     "text": [
      "Hello\n",
      "34\n",
      "[3, 4]\n"
     ]
    }
   ],
   "source": [
    "a = 'Hello'\n",
    "b = 34\n",
    "c = [3,4]\n",
    "for var in [a,b,c]:\n",
    "    print(var)"
   ]
  },
  {
   "cell_type": "code",
   "execution_count": 35,
   "metadata": {
    "collapsed": false
   },
   "outputs": [
    {
     "name": "stdout",
     "output_type": "stream",
     "text": [
      "0 Hello\n",
      "1 34\n",
      "2 [3, 4]\n"
     ]
    }
   ],
   "source": [
    "a = 'Hello'\n",
    "b = 34\n",
    "c = [3,4]\n",
    "for i, var in enumerate([a,b,c]):\n",
    "    print(i, var)"
   ]
  },
  {
   "cell_type": "markdown",
   "metadata": {},
   "source": [
    "## 今週の宿題"
   ]
  },
  {
   "cell_type": "markdown",
   "metadata": {},
   "source": [
    "### このデータの平均と成績を評価しよう\n",
    "> 次のデータの数字はあるクラスの学生の試験点数である<br>\n",
    "このクラスの試験点数の平均を求めて示すこと<br>\n",
    "また、各点数の成績評価をしてリストを作り、示すこと<br>\n",
    "下記の例題を利用してリストを拡張しよう<br>\n",
    "成績は90点以上がA、80点以上がB、70点以上がC、それ以外はFとする"
   ]
  },
  {
   "cell_type": "markdown",
   "metadata": {},
   "source": [
    "リストの例題"
   ]
  },
  {
   "cell_type": "code",
   "execution_count": 5,
   "metadata": {
    "collapsed": false
   },
   "outputs": [
    {
     "name": "stdout",
     "output_type": "stream",
     "text": [
      "[3]\n",
      "[3, 5]\n",
      "[3, 5]\n"
     ]
    }
   ],
   "source": [
    "a = 3\n",
    "b = [a]\n",
    "print(b)\n",
    "a = [3]\n",
    "b = [5]\n",
    "print(a+b)\n",
    "a += [5]\n",
    "print(a)"
   ]
  },
  {
   "cell_type": "markdown",
   "metadata": {},
   "source": [
    "データ"
   ]
  },
  {
   "cell_type": "code",
   "execution_count": 6,
   "metadata": {
    "collapsed": true
   },
   "outputs": [],
   "source": [
    "data = [95,92,87,65,74,83,77,72,99,85]"
   ]
  },
  {
   "cell_type": "markdown",
   "metadata": {},
   "source": [
    "予想結果"
   ]
  },
  {
   "cell_type": "code",
   "execution_count": 13,
   "metadata": {
    "collapsed": false
   },
   "outputs": [
    {
     "name": "stdout",
     "output_type": "stream",
     "text": [
      "このクラスの成績の平均は82.9点です。\n",
      "['A','A','B','F','C','B','C','C','A','B']\n"
     ]
    }
   ],
   "source": [
    "print(\"このクラスの成績の平均は\"+str(82.9)+\"点です。\")\n",
    "print(\"['A','A','B','F','C','B','C','C','A','B']\")"
   ]
  },
  {
   "cell_type": "markdown",
   "metadata": {},
   "source": [
    "### ２つの数字の最小公倍数を求めよう\n",
    "> 次の２つの数字を利用して最小公倍数を示すこと<br>\n",
    "最小公倍数は2つの数字が２から始まる素数で<br>\n",
    "同時に割り切れるのかを判断して<br>\n",
    "割り切れると割った解をまた２から始まる素数で<br>\n",
    "同時に割り切れるのかを判断していき、できなかったら<br>\n",
    "いままで割り切った数字たちと割った解を全部かける"
   ]
  },
  {
   "cell_type": "markdown",
   "metadata": {},
   "source": [
    "例題"
   ]
  },
  {
   "cell_type": "markdown",
   "metadata": {},
   "source": [
    "12と54の場合、最初は２で同時に割り切れる<br>\n",
    "そして、割った結果、6、27になる<br>\n",
    "そして、３で同時に割り切れる<br>\n",
    "その結果、2と9になるし、もう同時に割り切れない<br>\n",
    "同時に割った2と3と残った2と9を全部かけると108になる"
   ]
  },
  {
   "cell_type": "markdown",
   "metadata": {},
   "source": [
    "データ"
   ]
  },
  {
   "cell_type": "code",
   "execution_count": 21,
   "metadata": {
    "collapsed": true
   },
   "outputs": [],
   "source": [
    "x1 = 84\n",
    "x2 = 156"
   ]
  },
  {
   "cell_type": "markdown",
   "metadata": {},
   "source": [
    "予想結果"
   ]
  },
  {
   "cell_type": "code",
   "execution_count": 22,
   "metadata": {
    "collapsed": false
   },
   "outputs": [
    {
     "name": "stdout",
     "output_type": "stream",
     "text": [
      "84と156の最小公倍数は1092です。\n"
     ]
    }
   ],
   "source": [
    "print(str(x1)+\"と\"+str(x2)+\"の最小公倍数は\"+str(1092)+\"です。\")"
   ]
  }
 ],
 "metadata": {
  "anaconda-cloud": {},
  "kernelspec": {
   "display_name": "Python [conda root]",
   "language": "python",
   "name": "conda-root-py"
  },
  "language_info": {
   "codemirror_mode": {
    "name": "ipython",
    "version": 3
   },
   "file_extension": ".py",
   "mimetype": "text/x-python",
   "name": "python",
   "nbconvert_exporter": "python",
   "pygments_lexer": "ipython3",
   "version": "3.5.2"
  }
 },
 "nbformat": 4,
 "nbformat_minor": 1
}
