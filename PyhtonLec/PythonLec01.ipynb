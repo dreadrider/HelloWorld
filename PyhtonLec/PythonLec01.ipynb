{
 "cells": [
  {
   "cell_type": "markdown",
   "metadata": {
    "nbpresent": {
     "id": "f3d9eb0a-b915-40d8-84a3-ea20471f3c76"
    },
    "slideshow": {
     "slide_type": "slide"
    }
   },
   "source": [
    "# プログラミングとは？"
   ]
  },
  {
   "cell_type": "markdown",
   "metadata": {
    "nbpresent": {
     "id": "f81570e9-97c1-47cb-8a19-316ba2836163"
    },
    "slideshow": {
     "slide_type": "subslide"
    }
   },
   "source": [
    "### プログラミング\n",
    ">プログラムすること<br>\n",
    "ドライビングがドライブすることと同じ<br>\n",
    "ではプログラムとは？"
   ]
  },
  {
   "cell_type": "markdown",
   "metadata": {
    "nbpresent": {
     "id": "dc16b1af-2805-4992-91b7-d13506c23e20"
    },
    "slideshow": {
     "slide_type": "subslide"
    }
   },
   "source": [
    "### プログラム\n",
    ">何か作るときの手順、計画<br>\n",
    "特にコンピュータで実行できるものを作るとき<br>\n",
    "物を作るときの工程表のようなもの、[旋盤加工](https://youtu.be/yI6bK7GaUwE)やロボットアームで[ブロックを移動](https://youtu.be/H-H1tnvr6GY)するとき、それができるように事前に手順を考えること<br>\n",
    "あるいは、マイクロマウスのようなものもプログラムが必要\n"
   ]
  },
  {
   "cell_type": "code",
   "execution_count": 1,
   "metadata": {
    "collapsed": false,
    "slideshow": {
     "slide_type": "subslide"
    }
   },
   "outputs": [
    {
     "data": {
      "text/html": [
       "<iframe width=\"560\" height=\"315\" src=\"https://www.youtube.com/embed/B17pC-WZjLo\" frameborder=\"0\" allowfullscreen></iframe>"
      ],
      "text/plain": [
       "<IPython.core.display.HTML object>"
      ]
     },
     "metadata": {},
     "output_type": "display_data"
    }
   ],
   "source": [
    "%%html\n",
    "<iframe width=\"560\" height=\"315\" src=\"https://www.youtube.com/embed/B17pC-WZjLo\" frameborder=\"0\" allowfullscreen></iframe>"
   ]
  },
  {
   "cell_type": "markdown",
   "metadata": {
    "nbpresent": {
     "id": "3584f096-effd-4125-b14a-b8f7c72bbd9d"
    },
    "slideshow": {
     "slide_type": "subslide"
    }
   },
   "source": [
    "### コンピュータで実行できるもの\n",
    ">ワードやエクセル、パワーポイントのようなUtility(最近はApplication、アプリ)<br>\n",
    "CADやGIS、フォトショップのようなアプリ<br>\n",
    "ゲームや音楽、動画プレイヤーなどと学問的には何か計算するもの<br>\n",
    "最近はスマホのアプリも"
   ]
  },
  {
   "cell_type": "markdown",
   "metadata": {
    "nbpresent": {
     "id": "4f97499e-56f7-45f2-a083-d8fa482bbb2d"
    },
    "slideshow": {
     "slide_type": "slide"
    }
   },
   "source": [
    "### プログラミング言語\n",
    ">[プログラミング言語](https://ja.wikipedia.org/wiki/%E3%83%97%E3%83%AD%E3%82%B0%E3%83%A9%E3%83%9F%E3%83%B3%E3%82%B0%E8%A8%80%E8%AA%9E%E4%B8%80%E8%A6%A7)は[種類](https://youtu.be/0wvhzkHW97c)が多い<br>\n",
    "コンピュータがすぐ理解する機械語、アセンブリ語と<br>\n",
    "その中間段階にあるC言語系統、Fortran、Pascalなどがある<br>\n",
    "そして、人間の言語に近い、Basicなどがある\n",
    "\n",
    ">最近は違う分類も可能<br>\n",
    "デスクトップパソコンやノートパソコンで動くアプリを作るときは上に述べた言語があるが<br>\n",
    "[Web](https://youtu.be/eiIEbZKL7MU)で動くアプリやサービスをするときはPerl、PHP、Java、Javascriptなどがある<br>\n",
    "WindowsやMacといったOS(Operating System)の違いで分類される場合もある<br>\n",
    "たとえば、SwiftはMacのパソコンやIphoneで動くアプリを作るとき利用"
   ]
  },
  {
   "cell_type": "markdown",
   "metadata": {
    "nbpresent": {
     "id": "6779bb1a-8f53-446c-b840-f1c69f994e0d"
    },
    "slideshow": {
     "slide_type": "subslide"
    }
   },
   "source": [
    "## その中で、最近一番注目を浴びている言語は\n",
    "\n",
    "|![](https://scontent.xx.fbcdn.net/v/t31.0-8/17635567_305697693183972_6300284872567594488_o.jpg?oh=ff39227e105cc19c9a80f414e3fbe831&oe=59596353)|![](https://scontent.xx.fbcdn.net/v/t31.0-8/17436101_305697689850639_8448754340624956186_o.jpg?oh=3308e3c36ecde8a2544fa19a64b782d0&oe=59919E5B)|![](https://scontent.xx.fbcdn.net/v/t31.0-8/17632416_305697829850625_7129440494437529812_o.jpg?oh=27fc7313d2f2c4aac8c7a197ffb2f9ca&oe=595C7B04)|\n",
    "|-|-|-|\n",
    "|![](https://scontent.xx.fbcdn.net/v/t31.0-8/17635493_305697686517306_6924664913966963355_o.jpg?oh=936431066f36d42707069cf03e812a55&oe=5994DF10)|![](https://scontent.xx.fbcdn.net/v/t31.0-8/17505310_305697746517300_6286250263219484552_o.jpg?oh=244f8603b2424fb6567c163ea10732b8&oe=59941836)|![](https://scontent.xx.fbcdn.net/v/t31.0-8/17547113_305697753183966_8488166195271702720_o.jpg?oh=72d788d16d4a9f107f3cd7bfab3b9ed0&oe=598B141F)|\n",
    "|![](https://scontent.xx.fbcdn.net/v/t31.0-8/17637049_305697739850634_6122534388038116606_o.jpg?oh=167b39924a3590d4651dd2f4e0cf3d50&oe=59977318)|![](https://scontent.xx.fbcdn.net/v/t31.0-8/17492293_305697806517294_5997157407860424592_o.jpg?oh=3088f9784d8cb93dd2ab11df3646f94e&oe=598AA5F9)|![](https://scontent.xx.fbcdn.net/v/t31.0-8/17620538_305697813183960_7883312488083235313_o.jpg?oh=50db3a890ad092de1935a90db9125103&oe=5952AE25)|"
   ]
  },
  {
   "cell_type": "markdown",
   "metadata": {
    "nbpresent": {
     "id": "f3db9afb-1d08-4114-aff6-1bad18e9b948"
    },
    "slideshow": {
     "slide_type": "subslide"
    }
   },
   "source": [
    "### PythonとJavascript\n",
    ">プログラミング言語を分ける方法としてもう一つの方法がある中、\n",
    "これらの言語はScript型言語である<br>\n",
    "プログラムの中身を１行ずつチェックしながら実行する<br>\n",
    "一方で中身をすべてチェックしてから実行するコンパイル型言語もある<br>\n",
    "\n",
    ">また、もう１つの分類方法がある。(言語の種類が多くて分類方法も多い)<br>\n",
    "プロシージャ型(手続き型)とオブジェクト指向型と関数型である。"
   ]
  },
  {
   "cell_type": "markdown",
   "metadata": {
    "nbpresent": {
     "id": "66b83d1f-9620-4eef-aa27-01e66192ad84"
    },
    "slideshow": {
     "slide_type": "subslide"
    }
   },
   "source": [
    "### 関数型言語\n",
    ">高度な抽象系言語<br>\n",
    "関数が数字(チャーチ式考え方)や論理式にもなる<br>\n",
    "手続き型やOOP(Object Oriented Programming)はチューリング式考え方である。\n",
    "\n",
    "### [チューリング](https://youtu.be/Lzd7MAd0J5A)式考え方\n",
    ">２進数を用いて数字や論理式を表し、ほぼすべての計算が可能"
   ]
  },
  {
   "cell_type": "code",
   "execution_count": 2,
   "metadata": {
    "collapsed": true,
    "nbpresent": {
     "id": "5d7013c8-b472-4586-9872-17477202a255"
    },
    "slideshow": {
     "slide_type": "subslide"
    }
   },
   "outputs": [],
   "source": [
    "from ipywidgets import interact, Label\n",
    "from IPython.display import display\n",
    "from IPython.display import HTML\n",
    "import time\n",
    "\n",
    "w = Label(value=\"result\")\n",
    "rs = \"\"\n",
    "\n",
    "def pr():\n",
    "    global rs\n",
    "    global w\n",
    "    w.value = str(rs)"
   ]
  },
  {
   "cell_type": "code",
   "execution_count": 3,
   "metadata": {
    "collapsed": false,
    "nbpresent": {
     "id": "0b42c5c2-6829-46d9-87c9-a5fa20c6cc44"
    },
    "slideshow": {
     "slide_type": "subslide"
    }
   },
   "outputs": [
    {
     "data": {
      "text/html": [
       "\n",
       "<script>\n",
       "var num = n => n(x=>x+1)(0);\n",
       "var num_str = n => n(x=>x+\"+one\")(\"zero\");\n",
       "var zero = f => z => z;\n",
       "var one = f => z => f(z);\n",
       "var two = f => z => f(f(z));\n",
       "var three = f => z => f(f(f(z)));\n",
       "var r = num(two);\n",
       "var r2= num_str(one);\n",
       "var k = Jupyter.notebook.kernel;\n",
       "k.execute(\"rs = '\" + r2.toString() +\"'\")\n",
       "k.execute(\"pr()\")\n",
       "</script>\n"
      ],
      "text/plain": [
       "<IPython.core.display.HTML object>"
      ]
     },
     "execution_count": 3,
     "metadata": {},
     "output_type": "execute_result"
    }
   ],
   "source": [
    "rs = \"\"\n",
    "js = \"\"\"\n",
    "<script>\n",
    "var num = n => n(x=>x+1)(0);\n",
    "var num_str = n => n(x=>x+\"+one\")(\"zero\");\n",
    "var zero = f => z => z;\n",
    "var one = f => z => f(z);\n",
    "var two = f => z => f(f(z));\n",
    "var three = f => z => f(f(f(z)));\n",
    "var r = num(two);\n",
    "var r2= num_str(one);\n",
    "var k = Jupyter.notebook.kernel;\n",
    "k.execute(\"rs = '\" + r2.toString() +\"'\")\n",
    "k.execute(\"pr()\")\n",
    "</script>\n",
    "\"\"\"\n",
    "HTML(js)"
   ]
  },
  {
   "cell_type": "code",
   "execution_count": 4,
   "metadata": {
    "collapsed": false,
    "nbpresent": {
     "id": "97b4904a-51c0-406f-8490-37d682e157c7"
    },
    "slideshow": {
     "slide_type": "subslide"
    }
   },
   "outputs": [],
   "source": [
    "display(w)"
   ]
  },
  {
   "cell_type": "code",
   "execution_count": 5,
   "metadata": {
    "collapsed": false,
    "nbpresent": {
     "id": "a043d727-1967-4cf1-ac2d-35d965938084"
    },
    "slideshow": {
     "slide_type": "subslide"
    }
   },
   "outputs": [
    {
     "data": {
      "image/jpeg": "[encoded data removed]",
      "text/html": [
       "\n",
       "        <iframe\n",
       "            width=\"560\"\n",
       "            height=\"315\"\n",
       "            src=\"https://www.youtube.com/embed/E3keLeMwfHY\"\n",
       "            frameborder=\"0\"\n",
       "            allowfullscreen\n",
       "        ></iframe>\n",
       "        "
      ],
      "text/plain": [
       "<IPython.lib.display.YouTubeVideo at 0x1e7a2c80940>"
      ]
     },
     "execution_count": 5,
     "metadata": {},
     "output_type": "execute_result"
    }
   ],
   "source": [
    "from IPython.display import YouTubeVideo as ytv\n",
    "ytv(\"E3keLeMwfHY\", width=560, height=315)"
   ]
  },
  {
   "cell_type": "code",
   "execution_count": 6,
   "metadata": {
    "collapsed": false,
    "nbpresent": {
     "id": "c09e086a-759b-43c9-8c1e-9a03f363b7a2"
    },
    "slideshow": {
     "slide_type": "subslide"
    }
   },
   "outputs": [
    {
     "data": {
      "text/html": [
       "<iframe width=\"560\" height=\"315\" src=\"https://www.youtube.com/embed/macM_MtS_w4\" frameborder=\"0\" allowfullscreen></iframe>"
      ],
      "text/plain": [
       "<IPython.core.display.HTML object>"
      ]
     },
     "metadata": {},
     "output_type": "display_data"
    }
   ],
   "source": [
    "%%html\n",
    "<iframe width=\"560\" height=\"315\" src=\"https://www.youtube.com/embed/macM_MtS_w4\" frameborder=\"0\" allowfullscreen></iframe>"
   ]
  },
  {
   "cell_type": "markdown",
   "metadata": {
    "collapsed": true,
    "slideshow": {
     "slide_type": "slide"
    }
   },
   "source": [
    "### もう少しプログラミングについて\n",
    ">パソコンで何かができるように作るとき、あるいは、何か問題を解決しようとしているときにその解き方がプログラム<br>\n",
    "また、ある問題に限って言うとアルゴリズムと言うときもある<br>\n",
    "[アルゴリズム](http://qiita.com/MasayaMizuhara/items/86099ad721a329e1d6cd)とは数学のようなもので、ある方程式を解くためにどうすればいいかを考えることと同じ<br>\n",
    "2次方程式の解を求める時、解の公式が利用されるが、その公式ができる過程がアルゴリズムっぽい"
   ]
  },
  {
   "cell_type": "markdown",
   "metadata": {
    "collapsed": true,
    "slideshow": {
     "slide_type": "subslide"
    }
   },
   "source": [
    "### $ax^2+bx+c=0$の2次方程式があれば、\n",
    ">$a(x^2+\\frac{b}{a}x)=-c$になり、<br>\n",
    "$x^2+\\frac{b}{a}x=-\\frac{c}{a}$と<br>\n",
    "$x^2+\\frac{b}{a}x+(\\frac{b}{2a})^2=-\\frac{c}{a}+(\\frac{b}{2a})^2$となって<br>\n",
    "$(x+\\frac{b}{2a})^2=-\\frac{c}{a}+\\frac{b^2}{4a^2}$になる。そして、<br>\n",
    "$(x+\\frac{b}{2a})^2=\\frac{b^2-4ac}{4a^2}$の後<br>\n",
    "$x+\\frac{b}{2a}=\\pm\\frac{\\sqrt{b^2-4ac}}{2a}$、そして、<br>\n",
    "$x=\\frac{-b\\pm{\\sqrt{b^2-4ac}}}{2a}$になる。これが解の公式である"
   ]
  },
  {
   "cell_type": "markdown",
   "metadata": {
    "collapsed": true,
    "slideshow": {
     "slide_type": "subslide"
    }
   },
   "source": [
    "先の2次方程式でa,b,cが分かれば、あるいは、入力されれば、その答え、xを計算するのもプログラム<br>\n",
    "そのときにルートの中がゼロの場合と負の場合などを判断しなければならない<br>\n",
    "数学では数字の関係を利用して頭の中で考えていくが、プログラミングはその手順を追う必要がある<br>\n",
    "しかし、数学で解けないときは、数学問題でもアルゴリズムを考えて数値解析的にとくときもある<br>\n",
    "それが一般的にはOR(Operating Research)というが最適化問題ともいう<br>\n",
    "例えば、計画理論で習ったシンプレックス法や最短経路探索、などなど"
   ]
  },
  {
   "cell_type": "markdown",
   "metadata": {
    "collapsed": true,
    "slideshow": {
     "slide_type": "subslide"
    }
   },
   "source": [
    "また、数学では解き方が分かったとしても、コンピュータに実行させるためにプログラムを作るときもある<br>\n",
    "最大公約数や最小公倍数の問題とか入力された数字の多角形の内角の合計とかその数字までの素数を全部探すとか<br>\n",
    "そして、そのような[問題](http://judge.u-aizu.ac.jp/onlinejudge/index.jsp?lang=ja)を如何に早く、簡潔に、効率的に作るかを競うときもある\n",
    "また、代表的な問題は[アルゴリズム](https://visualgo.net/)が大体開発されている"
   ]
  },
  {
   "cell_type": "markdown",
   "metadata": {
    "collapsed": true,
    "slideshow": {
     "slide_type": "slide"
    }
   },
   "source": [
    "プログラミングを習うのは年齢と関係ないし問題解決能力を養うことにもなるので小学生から教えている国も多い<br>\n",
    "[年齢](http://www.itmedia.co.jp/news/articles/1702/24/news104.html)が高くても全然構わない。遅くスタートしても十分いいアプリが作れる"
   ]
  },
  {
   "cell_type": "markdown",
   "metadata": {
    "collapsed": true,
    "slideshow": {
     "slide_type": "slide"
    }
   },
   "source": [
    "### では、どこで勉強すればいいの？\n",
    ">最近はオンライン環境があれば、なんでも勉強できる時代にすでになっている<br>\n",
    "MoocというサービスやOCW(Open Course Ware)などが充実している<br>\n",
    "英語ができれば、[MIT](https://ocw.mit.edu/index.htm)やStanfordの講義を見ることができるし学位をもらうこともできる<br>\n",
    "大学じゃなくても動画で勉強できるところも多い<br>\n",
    "iTunes UとYoutubeで公開されている場合も多い<br>\n",
    "ITの方では他に勉強できるところも多い。"
   ]
  },
  {
   "cell_type": "markdown",
   "metadata": {
    "slideshow": {
     "slide_type": "subslide"
    }
   },
   "source": [
    "### オンラインで勉強できるところ(有料の場合もある)\n",
    ">[Khan Academy](https://www.khanacademy.org/)<br>\n",
    "[Udemy](https://www.udemy.com/jp/)<br>\n",
    "[Udacity](https://www.udacity.com/drive)<br>\n",
    "[coursera](https://www.coursera.org/)<br>\n",
    "[codeacademy](https://www.coursera.org/)<br>\n",
    "[linda](https://www.lynda.jp)日本語版の中、Python[講座](https://www.lynda.jp/courses/python-essential-training)、その第1回[映像](https://youtu.be/xWohBCtbF78)<br>\n",
    "[ドットインストール](http://dotinstall.com/)"
   ]
  },
  {
   "cell_type": "markdown",
   "metadata": {
    "slideshow": {
     "slide_type": "subslide"
    }
   },
   "source": [
    "特に英語が少しできれば、[コードアカデミ](https://www.codecademy.com/learn/python)でPythonを最初から実行しながら学習できる"
   ]
  },
  {
   "cell_type": "markdown",
   "metadata": {
    "slideshow": {
     "slide_type": "slide"
    }
   },
   "source": [
    "## さて、ここからPythonの話をしよう！"
   ]
  },
  {
   "cell_type": "markdown",
   "metadata": {
    "slideshow": {
     "slide_type": "slide"
    }
   },
   "source": [
    "### なぜPythonなのか？(Javascriptも熱いのに)\n",
    ">高水準言語(Basic言語のように)でオブジェクト指向でWebでも動くから<br>\n",
    "様々なライブラリが存在するから、その中、統計ソフトRのように統計ライブラリがある<br>\n",
    "CV(Computer Vision)、即ち、画像分析や機械学習のライブラリもある\n",
    "\n",
    "### ライブラリとは？\n",
    ">すでに作られているプログラムを活用できるようにオープンしているもの"
   ]
  },
  {
   "cell_type": "code",
   "execution_count": 7,
   "metadata": {
    "collapsed": false,
    "slideshow": {
     "slide_type": "subslide"
    }
   },
   "outputs": [],
   "source": [
    "import cv2\n",
    "cap = cv2.VideoCapture('images/momo.mp4')\n",
    "        \n",
    "while(True):\n",
    "    ret, frame = cap.read()\n",
    "    \n",
    "    gray = cv2.cvtColor(frame, cv2.COLOR_BGR2GRAY)\n",
    "    edges = cv2.Canny(frame, 100, 100)\n",
    "    \n",
    "    cv2.imshow('frame',gray)\n",
    "    cv2.imshow('edges', edges)\n",
    "    \n",
    "    k = cv2.waitKey(5) & 0xff\n",
    "    if k == 27:\n",
    "        break\n",
    "\n",
    "cv2.destroyAllWindows()\n",
    "cap.release()"
   ]
  },
  {
   "cell_type": "code",
   "execution_count": 8,
   "metadata": {
    "collapsed": false,
    "nbpresent": {
     "id": "2f9730a2-848e-4a4e-99d5-088411e33790"
    },
    "slideshow": {
     "slide_type": "subslide"
    }
   },
   "outputs": [
    {
     "data": {
      "text/html": [
       "<video width=\"560\" height=\"315\" controls>\n",
       "    <source src=\"https://dreadrider.github.io/images/momo.mp4\">\n",
       "</video>"
      ],
      "text/plain": [
       "<IPython.core.display.HTML object>"
      ]
     },
     "metadata": {},
     "output_type": "display_data"
    }
   ],
   "source": [
    "%%html\n",
    "<video width=\"560\" height=\"315\" controls>\n",
    "    <source src=\"https://dreadrider.github.io/images/momo.mp4\">\n",
    "</video>"
   ]
  },
  {
   "cell_type": "markdown",
   "metadata": {
    "slideshow": {
     "slide_type": "slide"
    }
   },
   "source": [
    "では、Pythonを利用するためにはPythonをインストールする必要がある<br>\n",
    "しかし、いろんなライブラリも同時にインストールしなければならないのでめんどくさい<br>\n",
    "![anaconda](https://dreadrider.github.io/images/anaconda.PNG)\n",
    "したがって、それを一括にやってくれる[Anaconda](https://www.continuum.io/downloads)をインストールする"
   ]
  },
  {
   "cell_type": "markdown",
   "metadata": {
    "slideshow": {
     "slide_type": "slide"
    }
   },
   "source": [
    "### Pythonで遊ぼう\n",
    ">いろんな方法でPythonのプログラムが実行できる\n",
    "1. いろんなOSにはコマンドプロンプトができるところがある<br>\n",
    "Windowsでは実行するところ(WindowsキーとRキー)でcmdを入力すれば出る黒い画面<br>\n",
    "マウスで操作するときはGUI(Graphical User Interface)と呼ぶが、これはCLI(Command Line Interface)と呼ぶ<br>\n",
    "そこで、Python入力後その中で書きながら実行\n",
    "2. メモ帳で書いてcmdで実行\n",
    "3. テキストエディタを使って書いてcmdで実行 : [Atom](https://atom.io/)や[Sublime text](https://www.sublimetext.com/)などがある\n",
    "4. Pythonに特化されたエディタで書いてそこで実行 : [Pycharm](https://www.jetbrains.com/pycharm/)\n",
    "5. Jupyter Notebookを利用する(この画面はJupyterを利用している)\n",
    "6. Pythonがインストールされていないときは、オンラインで簡単なことは作成可能 : [repl.it](https://repl.it/languages/python3)"
   ]
  },
  {
   "cell_type": "markdown",
   "metadata": {
    "slideshow": {
     "slide_type": "slide"
    }
   },
   "source": [
    "### 教科書はないのかい！　ある！\n",
    "- <font color=\"orangered\">実践力を身につけるPythonの教科書、クジラ飛行机、</font>[マイナビ](https://goo.gl/HETIMd)、これが主になる\n",
    "- みんなのPython第4版、柴田　淳、[SB Creative](https://goo.gl/q8zjWE)\n",
    "- ゼロから始めるデータサイエンスーPythonで学ぶ基本と実践、Joel Grus、菊池　彰、[O'REILLY](https://goo.gl/TDR7k9)"
   ]
  },
  {
   "cell_type": "markdown",
   "metadata": {
    "slideshow": {
     "slide_type": "subslide"
    }
   },
   "source": [
    "![Python教科書](http://img.hmv.co.jp/image/jacket/800/73/6/8/549.jpg)"
   ]
  },
  {
   "cell_type": "markdown",
   "metadata": {
    "slideshow": {
     "slide_type": "slide"
    }
   },
   "source": [
    "### 古典的なプログラミングの基本要素\n",
    ">- 変数と代入\n",
    "- 条件、判断\n",
    "- 繰り返し、反復\n",
    "- 配列\n",
    "- 関数\n",
    "- ジャンプ、移動：あまり使わない方がいいし、使わなくなった\n",
    "\n",
    "### 最近追加された要素\n",
    ">- クラス(オブジェクト)\n",
    "- イベント、イベントリスナ\n",
    "- 関数の引数と結果に関数利用\n",
    "- コールバック、クロージャ"
   ]
  },
  {
   "cell_type": "markdown",
   "metadata": {
    "collapsed": true,
    "slideshow": {
     "slide_type": "subslide"
    }
   },
   "source": [
    "### プログラミングの要素は重要か？\n",
    "> [フォン・ノイマン](https://goo.gl/0UH7OP)は2進数でプログラミングしないでアセンブリ語でコーディングすると激怒したと言われているが<br>\n",
    "それは彼が天才だったからでもあるが、その手法はそこまで推薦されていない：[参照](https://www.facebook.com/seungjoon.choi/posts/10201633259008825?match=dGhlIGZ1dHVyZSBvZiBwcm9ncmFtbWluZyxwcm9ncmFtbWluZyxmdXR1cmU%3D)したところ(韓国語なのでGoogleで[翻訳](https://docs.google.com/document/d/1bv5GyFSntvxmfEKBEwTXV6jeUxi-gSuoagUo7driAEQ/edit?usp=sharing)<br>\n",
    "むしろ、Basicのように[人間が分かりやすい方](https://youtu.be/8pTEmbeENF4)が何かを創作するときに役に立つと[Bret Victor](http://scivis.hateblo.jp/entry/20120223/1329965566)氏はいう<br>\n",
    "そして、デザインの領域に行くと実際作りたいものは大きさとか形とか色とか柄(模様)なのに<br>\n",
    "プログラミング要素に制限されて創意的で斬新なアイデアは出ないという<br>\n",
    "彼は、プログラミングするときも[それができるようにすること](http://worrydream.com/LearnableProgramming/)が重要だと言っている<br>"
   ]
  }
 ],
 "metadata": {
  "anaconda-cloud": {},
  "kernelspec": {
   "display_name": "Python [conda root]",
   "language": "python",
   "name": "conda-root-py"
  },
  "language_info": {
   "codemirror_mode": {
    "name": "ipython",
    "version": 3
   },
   "file_extension": ".py",
   "mimetype": "text/x-python",
   "name": "python",
   "nbconvert_exporter": "python",
   "pygments_lexer": "ipython3",
   "version": "3.5.2"
  },
  "nbpresent": {
   "slides": {
    "0ed7e601-ddba-4573-a825-1e10c63f7d3c": {
     "id": "0ed7e601-ddba-4573-a825-1e10c63f7d3c",
     "prev": null,
     "regions": {
      "b44c8c6f-5b5e-4f80-89dc-83f5138e022c": {
       "attrs": {
        "height": 0.8,
        "width": 0.8,
        "x": 0.1,
        "y": 0.1
       },
       "content": {
        "cell": "f3d9eb0a-b915-40d8-84a3-ea20471f3c76",
        "part": "whole"
       },
       "id": "b44c8c6f-5b5e-4f80-89dc-83f5138e022c"
      }
     }
    },
    "2d419e6e-adf5-44b7-a37c-8f583d33e777": {
     "id": "2d419e6e-adf5-44b7-a37c-8f583d33e777",
     "prev": "751032e5-93e0-4681-b364-dd6b174f9a92",
     "regions": {
      "1c7c1208-7680-461c-90da-1e14095bbbea": {
       "attrs": {
        "height": 0.8,
        "width": 0.8,
        "x": 0.1,
        "y": 0.1
       },
       "content": {
        "cell": "a043d727-1967-4cf1-ac2d-35d965938084",
        "part": "whole"
       },
       "id": "1c7c1208-7680-461c-90da-1e14095bbbea"
      }
     }
    },
    "41704a40-c81f-47e0-a9b0-d2bfe748602b": {
     "id": "41704a40-c81f-47e0-a9b0-d2bfe748602b",
     "prev": "9fd539c4-4d1d-41ab-85fa-b9f222175374",
     "regions": {
      "51eed819-3b53-4ce4-88e6-b857910aa2da": {
       "attrs": {
        "height": 0.8,
        "width": 0.8,
        "x": 0.1,
        "y": 0.1
       },
       "content": {
        "cell": "3584f096-effd-4125-b14a-b8f7c72bbd9d",
        "part": "whole"
       },
       "id": "51eed819-3b53-4ce4-88e6-b857910aa2da"
      }
     }
    },
    "4787408c-b8c6-4bf5-9933-f10a084d6e79": {
     "id": "4787408c-b8c6-4bf5-9933-f10a084d6e79",
     "prev": "41704a40-c81f-47e0-a9b0-d2bfe748602b",
     "regions": {
      "73923f06-211a-41f8-abc2-8114850db3f3": {
       "attrs": {
        "height": 0.8,
        "width": 0.8,
        "x": 0.1,
        "y": 0.1
       },
       "content": {
        "cell": "4f97499e-56f7-45f2-a083-d8fa482bbb2d",
        "part": "whole"
       },
       "id": "73923f06-211a-41f8-abc2-8114850db3f3"
      }
     }
    },
    "496975e6-fa50-4a12-a37a-ab757fbbc0e9": {
     "id": "496975e6-fa50-4a12-a37a-ab757fbbc0e9",
     "prev": "86287c32-e687-4cab-8095-5ab3f60fcbbc",
     "regions": {
      "b6c72d5b-c9cb-40c0-8536-db50486695bf": {
       "attrs": {
        "height": 0.8,
        "width": 0.8,
        "x": 0.1,
        "y": 0.1
       },
       "content": {
        "cell": "0b42c5c2-6829-46d9-87c9-a5fa20c6cc44",
        "part": "whole"
       },
       "id": "b6c72d5b-c9cb-40c0-8536-db50486695bf"
      }
     }
    },
    "4c47a8f7-c22b-4b0f-b92a-0053918d2320": {
     "id": "4c47a8f7-c22b-4b0f-b92a-0053918d2320",
     "prev": "2d419e6e-adf5-44b7-a37c-8f583d33e777",
     "regions": {
      "328a1d31-3c51-4b7b-a80a-1c79e67b5686": {
       "attrs": {
        "height": 0.4,
        "width": 0.8,
        "x": 0.1,
        "y": 0.5
       },
       "content": {
        "cell": "43be142c-140a-4d6c-9b24-62455f64c932",
        "part": "whole"
       },
       "id": "328a1d31-3c51-4b7b-a80a-1c79e67b5686"
      },
      "39ea7c89-8f49-4c08-999f-2102ac013fc4": {
       "attrs": {
        "height": 0.4,
        "width": 0.8,
        "x": 0.1,
        "y": 0.5
       },
       "content": {
        "cell": "fde4ce70-c896-4b16-a520-6db08054e81a",
        "part": "whole"
       },
       "id": "39ea7c89-8f49-4c08-999f-2102ac013fc4"
      },
      "45013174-45b0-4c19-a175-df8451a0e3a8": {
       "attrs": {
        "height": 0.8,
        "width": 0.8,
        "x": 0.1,
        "y": 0.1
       },
       "content": {
        "cell": "c09e086a-759b-43c9-8c1e-9a03f363b7a2",
        "part": "whole"
       },
       "id": "45013174-45b0-4c19-a175-df8451a0e3a8"
      },
      "4f142e55-a272-4e6a-afe8-cecb05b62458": {
       "attrs": {
        "height": 0.4,
        "width": 0.8,
        "x": 0.1,
        "y": 0.5
       },
       "content": {
        "cell": "2f9730a2-848e-4a4e-99d5-088411e33790",
        "part": "whole"
       },
       "id": "4f142e55-a272-4e6a-afe8-cecb05b62458"
      },
      "6aaff8e2-e35a-4283-9172-1a467879ac19": {
       "attrs": {
        "height": 0.4,
        "width": 0.8,
        "x": 0.1,
        "y": 0.5
       },
       "content": {
        "cell": "d590478a-56a9-41bb-ba8c-412a04bce8fc",
        "part": "whole"
       },
       "id": "6aaff8e2-e35a-4283-9172-1a467879ac19"
      },
      "80ea5c65-31f1-4ad0-bac2-80b3288c103d": {
       "attrs": {
        "height": 0.4,
        "width": 0.8,
        "x": 0.1,
        "y": 0.5
       },
       "content": {
        "cell": "5bfea956-50ea-405e-801e-76ebffd97b21",
        "part": "whole"
       },
       "id": "80ea5c65-31f1-4ad0-bac2-80b3288c103d"
      },
      "a08b5cca-76cc-4cc9-a122-21018d989e2c": {
       "attrs": {
        "height": 0.4,
        "width": 0.8,
        "x": 0.1,
        "y": 0.5
       },
       "content": {
        "cell": "7f273517-d146-4089-8114-fe5f26145b70",
        "part": "whole"
       },
       "id": "a08b5cca-76cc-4cc9-a122-21018d989e2c"
      },
      "d7db07dc-8674-4718-81f5-1564f2eb80c3": {
       "attrs": {
        "height": 0.4,
        "width": 0.8,
        "x": 0.1,
        "y": 0.5
       },
       "content": {
        "cell": "6159852b-0c80-4f6c-a317-9335d9aee5bc",
        "part": "whole"
       },
       "id": "d7db07dc-8674-4718-81f5-1564f2eb80c3"
      },
      "f4ee1ed0-d79d-4f21-bcea-554548cd488d": {
       "attrs": {
        "height": 0.4,
        "width": 0.8,
        "x": 0.1,
        "y": 0.5
       },
       "content": {
        "cell": "69a443af-1b01-4946-907d-728b8c3f5663",
        "part": "whole"
       },
       "id": "f4ee1ed0-d79d-4f21-bcea-554548cd488d"
      }
     }
    },
    "751032e5-93e0-4681-b364-dd6b174f9a92": {
     "id": "751032e5-93e0-4681-b364-dd6b174f9a92",
     "prev": "496975e6-fa50-4a12-a37a-ab757fbbc0e9",
     "regions": {
      "cc323eac-9da0-42b8-a6f1-f07cc8a8f5f4": {
       "attrs": {
        "height": 0.8,
        "width": 0.8,
        "x": 0.1,
        "y": 0.1
       },
       "content": {
        "cell": "97b4904a-51c0-406f-8490-37d682e157c7",
        "part": "whole"
       },
       "id": "cc323eac-9da0-42b8-a6f1-f07cc8a8f5f4"
      }
     }
    },
    "84982e4c-e498-4edd-b814-689209433391": {
     "id": "84982e4c-e498-4edd-b814-689209433391",
     "prev": "c8d53321-228d-4f7c-93f7-fd77a79d4e44",
     "regions": {
      "8103a623-bb1e-446f-8c9f-6519dd19bd50": {
       "attrs": {
        "height": 0.8,
        "width": 0.8,
        "x": 0.1,
        "y": 0.1
       },
       "content": {
        "cell": "66b83d1f-9620-4eef-aa27-01e66192ad84",
        "part": "whole"
       },
       "id": "8103a623-bb1e-446f-8c9f-6519dd19bd50"
      }
     }
    },
    "86287c32-e687-4cab-8095-5ab3f60fcbbc": {
     "id": "86287c32-e687-4cab-8095-5ab3f60fcbbc",
     "prev": "84982e4c-e498-4edd-b814-689209433391",
     "regions": {
      "d907a227-184a-430b-897a-6582d89f0713": {
       "attrs": {
        "height": 0.8,
        "width": 0.8,
        "x": 0.1,
        "y": 0.1
       },
       "content": {
        "cell": "5d7013c8-b472-4586-9872-17477202a255",
        "part": "whole"
       },
       "id": "d907a227-184a-430b-897a-6582d89f0713"
      }
     }
    },
    "9fd539c4-4d1d-41ab-85fa-b9f222175374": {
     "id": "9fd539c4-4d1d-41ab-85fa-b9f222175374",
     "prev": "e1b8b61f-3438-42ed-bb05-a083abb26d14",
     "regions": {
      "d9ed0004-7745-45d1-9084-cac490d21051": {
       "attrs": {
        "height": 0.8,
        "width": 0.8,
        "x": 0.1,
        "y": 0.1
       },
       "content": {
        "cell": "dc16b1af-2805-4992-91b7-d13506c23e20",
        "part": "whole"
       },
       "id": "d9ed0004-7745-45d1-9084-cac490d21051"
      }
     }
    },
    "ab0e07bd-8e84-43b5-9bb5-dccded49ddc9": {
     "id": "ab0e07bd-8e84-43b5-9bb5-dccded49ddc9",
     "prev": "4787408c-b8c6-4bf5-9933-f10a084d6e79",
     "regions": {
      "12452c3a-0fba-4fff-a0c2-e7cf79d928e4": {
       "attrs": {
        "height": 0.8,
        "width": 0.8,
        "x": 0.1,
        "y": 0.1
       },
       "content": {
        "cell": "6779bb1a-8f53-446c-b840-f1c69f994e0d",
        "part": "whole"
       },
       "id": "12452c3a-0fba-4fff-a0c2-e7cf79d928e4"
      }
     }
    },
    "c8d53321-228d-4f7c-93f7-fd77a79d4e44": {
     "id": "c8d53321-228d-4f7c-93f7-fd77a79d4e44",
     "prev": "ab0e07bd-8e84-43b5-9bb5-dccded49ddc9",
     "regions": {
      "85a0ff9c-0b2f-4f68-920c-dccd77a8228a": {
       "attrs": {
        "height": 0.8,
        "width": 0.8,
        "x": 0.1,
        "y": 0.1
       },
       "content": {
        "cell": "f3db9afb-1d08-4114-aff6-1bad18e9b948",
        "part": "whole"
       },
       "id": "85a0ff9c-0b2f-4f68-920c-dccd77a8228a"
      }
     }
    },
    "e1b8b61f-3438-42ed-bb05-a083abb26d14": {
     "id": "e1b8b61f-3438-42ed-bb05-a083abb26d14",
     "prev": "0ed7e601-ddba-4573-a825-1e10c63f7d3c",
     "regions": {
      "2c802d2f-4800-4d55-ba55-d010385e53cc": {
       "attrs": {
        "height": 0.8,
        "width": 0.8,
        "x": 0.1,
        "y": 0.1
       },
       "content": {
        "cell": "f81570e9-97c1-47cb-8a19-316ba2836163",
        "part": "whole"
       },
       "id": "2c802d2f-4800-4d55-ba55-d010385e53cc"
      }
     }
    }
   },
   "themes": {}
  },
  "widgets": {
   "state": {
    "6e04e0cc79b44f338d6b620a70137ac4": {
     "views": [
      {
       "cell_index": 11
      }
     ]
    }
   },
   "version": "1.2.0"
  }
 },
 "nbformat": 4,
 "nbformat_minor": 1
}
