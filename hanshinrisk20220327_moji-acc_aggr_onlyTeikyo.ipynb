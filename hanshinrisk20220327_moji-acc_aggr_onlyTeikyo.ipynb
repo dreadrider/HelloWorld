{
 "cells": [
  {
   "cell_type": "code",
   "execution_count": 1,
   "metadata": {},
   "outputs": [],
   "source": [
    "import os.path\n",
    "import glob\n",
    "import pandas as pd\n",
    "import numpy as np\n",
    "import matplotlib.pyplot as plt\n",
    "from ipywidgets import interact\n",
    "import ipywidgets as widgets\n",
    "from scipy.stats import hmean\n",
    "from datetime import datetime as dtm"
   ]
  },
  {
   "cell_type": "code",
   "execution_count": 2,
   "metadata": {},
   "outputs": [
    {
     "name": "stderr",
     "output_type": "stream",
     "text": [
      "C:\\Users\\tssl-34\\Anaconda3\\lib\\site-packages\\IPython\\core\\interactiveshell.py:3051: DtypeWarning: Columns (23) have mixed types. Specify dtype option on import or set low_memory=False.\n",
      "  interactivity=interactivity, compiler=compiler, result=result)\n"
     ]
    },
    {
     "name": "stdout",
     "output_type": "stream",
     "text": [
      "D:/ahn_pc/workfile/2021/阪神事故リスク/datamoji\\dm2_04.csv\n",
      "D:/ahn_pc/workfile/2021/阪神事故リスク/datamoji\\dm2_05.csv\n",
      "D:/ahn_pc/workfile/2021/阪神事故リスク/datamoji\\dm2_06.csv\n",
      "D:/ahn_pc/workfile/2021/阪神事故リスク/datamoji\\dm2_07.csv\n",
      "D:/ahn_pc/workfile/2021/阪神事故リスク/datamoji\\dm2_08.csv\n",
      "D:/ahn_pc/workfile/2021/阪神事故リスク/datamoji\\dm2_09.csv\n",
      "D:/ahn_pc/workfile/2021/阪神事故リスク/datamoji\\dm2_10.csv\n"
     ]
    }
   ],
   "source": [
    "all_files = glob.glob(\"D:/ahn_pc/workfile/2021/阪神事故リスク/datamoji/*.csv\")\n",
    "all_data_frames = []\n",
    "dc = []\n",
    "#for file in all_files[0:1]:\n",
    "for file in all_files:\n",
    "    #dc = pd.read_csv(file, header=None, encoding=\"shift_jis\", usecols=[6,18,34,36], names=(\"dt\", \"spd\", \"updown\", \"kp\"))\n",
    "    #dc = pd.read_csv(file, header=None, encoding=\"shift_jis\", names=(\"dt\", \"tim\", \"num\", \"err\", \"trf\", \"htrf\", \"occ\", \"spd\", \"ver\"))\n",
    "    dc = pd.read_csv(file, encoding=\"shift_jis\")\n",
    "    print(file)\n",
    "    dc=dc[dc.原因==\"リスク\"]\n",
    "    #dc = data_frame.iloc[:,[6,18,34,36]]\n",
    "    #dc.columns = [\"dt\", \"spd\", \"updown\", \"kp\"]\n",
    "    #dc=dc[dc[\"updown\"]==2]\n",
    "    #dc=dc[dc[\"kp\"]<83.6]\n",
    "    all_data_frames.append(dc)\n",
    "dc = pd.concat(all_data_frames, axis = 0, ignore_index = True)"
   ]
  },
  {
   "cell_type": "code",
   "execution_count": 3,
   "metadata": {},
   "outputs": [],
   "source": [
    "#df = pd.read_csv(\"D:/ahn_pc/workfile/2021/阪神事故リスク/dm2_04.csv\", encoding=\"shift_jis\")"
   ]
  },
  {
   "cell_type": "code",
   "execution_count": 6,
   "metadata": {},
   "outputs": [
    {
     "data": {
      "text/html": [
       "<div>\n",
       "<style scoped>\n",
       "    .dataframe tbody tr th:only-of-type {\n",
       "        vertical-align: middle;\n",
       "    }\n",
       "\n",
       "    .dataframe tbody tr th {\n",
       "        vertical-align: top;\n",
       "    }\n",
       "\n",
       "    .dataframe thead th {\n",
       "        text-align: right;\n",
       "    }\n",
       "</style>\n",
       "<table border=\"1\" class=\"dataframe\">\n",
       "  <thead>\n",
       "    <tr style=\"text-align: right;\">\n",
       "      <th></th>\n",
       "      <th>記録年</th>\n",
       "      <th>記録月</th>\n",
       "      <th>記録日</th>\n",
       "      <th>記録曜日</th>\n",
       "      <th>記録時刻</th>\n",
       "      <th>文字情報板番号</th>\n",
       "      <th>文字情報板名称</th>\n",
       "      <th>制御区分</th>\n",
       "      <th>情報区分</th>\n",
       "      <th>影響係数</th>\n",
       "      <th>...</th>\n",
       "      <th>休日</th>\n",
       "      <th>時間帯</th>\n",
       "      <th>kcode</th>\n",
       "      <th>降水量</th>\n",
       "      <th>滑り止め</th>\n",
       "      <th>区間長up</th>\n",
       "      <th>速度up</th>\n",
       "      <th>交通量up</th>\n",
       "      <th>渋滞up</th>\n",
       "      <th>事故up</th>\n",
       "    </tr>\n",
       "  </thead>\n",
       "  <tbody>\n",
       "    <tr>\n",
       "      <th>0</th>\n",
       "      <td>2021</td>\n",
       "      <td>4</td>\n",
       "      <td>4</td>\n",
       "      <td>（日）</td>\n",
       "      <td>00:02</td>\n",
       "      <td>11</td>\n",
       "      <td>福島本線上</td>\n",
       "      <td>自動制御</td>\n",
       "      <td>本線事象</td>\n",
       "      <td>1.0</td>\n",
       "      <td>...</td>\n",
       "      <td>3.0</td>\n",
       "      <td>2.0</td>\n",
       "      <td>NaN</td>\n",
       "      <td>0.0</td>\n",
       "      <td>0.0</td>\n",
       "      <td>6.0</td>\n",
       "      <td>96.0</td>\n",
       "      <td>32.0</td>\n",
       "      <td>NaN</td>\n",
       "      <td>NaN</td>\n",
       "    </tr>\n",
       "    <tr>\n",
       "      <th>1</th>\n",
       "      <td>2021</td>\n",
       "      <td>4</td>\n",
       "      <td>4</td>\n",
       "      <td>（日）</td>\n",
       "      <td>00:03</td>\n",
       "      <td>11</td>\n",
       "      <td>福島本線上</td>\n",
       "      <td>自動制御</td>\n",
       "      <td>本線事象</td>\n",
       "      <td>1.0</td>\n",
       "      <td>...</td>\n",
       "      <td>3.0</td>\n",
       "      <td>2.0</td>\n",
       "      <td>NaN</td>\n",
       "      <td>0.0</td>\n",
       "      <td>0.0</td>\n",
       "      <td>6.0</td>\n",
       "      <td>96.0</td>\n",
       "      <td>32.0</td>\n",
       "      <td>NaN</td>\n",
       "      <td>NaN</td>\n",
       "    </tr>\n",
       "    <tr>\n",
       "      <th>2</th>\n",
       "      <td>2021</td>\n",
       "      <td>4</td>\n",
       "      <td>4</td>\n",
       "      <td>（日）</td>\n",
       "      <td>00:04</td>\n",
       "      <td>11</td>\n",
       "      <td>福島本線上</td>\n",
       "      <td>自動制御</td>\n",
       "      <td>本線事象</td>\n",
       "      <td>1.0</td>\n",
       "      <td>...</td>\n",
       "      <td>3.0</td>\n",
       "      <td>2.0</td>\n",
       "      <td>NaN</td>\n",
       "      <td>0.0</td>\n",
       "      <td>0.0</td>\n",
       "      <td>6.0</td>\n",
       "      <td>96.0</td>\n",
       "      <td>32.0</td>\n",
       "      <td>NaN</td>\n",
       "      <td>NaN</td>\n",
       "    </tr>\n",
       "    <tr>\n",
       "      <th>3</th>\n",
       "      <td>2021</td>\n",
       "      <td>4</td>\n",
       "      <td>4</td>\n",
       "      <td>（日）</td>\n",
       "      <td>00:05</td>\n",
       "      <td>11</td>\n",
       "      <td>福島本線上</td>\n",
       "      <td>自動制御</td>\n",
       "      <td>本線事象</td>\n",
       "      <td>1.0</td>\n",
       "      <td>...</td>\n",
       "      <td>3.0</td>\n",
       "      <td>2.0</td>\n",
       "      <td>NaN</td>\n",
       "      <td>0.0</td>\n",
       "      <td>0.0</td>\n",
       "      <td>6.0</td>\n",
       "      <td>86.0</td>\n",
       "      <td>29.0</td>\n",
       "      <td>NaN</td>\n",
       "      <td>NaN</td>\n",
       "    </tr>\n",
       "    <tr>\n",
       "      <th>4</th>\n",
       "      <td>2021</td>\n",
       "      <td>4</td>\n",
       "      <td>4</td>\n",
       "      <td>（日）</td>\n",
       "      <td>00:07</td>\n",
       "      <td>11</td>\n",
       "      <td>福島本線上</td>\n",
       "      <td>自動制御</td>\n",
       "      <td>本線事象</td>\n",
       "      <td>1.0</td>\n",
       "      <td>...</td>\n",
       "      <td>3.0</td>\n",
       "      <td>2.0</td>\n",
       "      <td>NaN</td>\n",
       "      <td>0.0</td>\n",
       "      <td>0.0</td>\n",
       "      <td>6.0</td>\n",
       "      <td>86.0</td>\n",
       "      <td>29.0</td>\n",
       "      <td>NaN</td>\n",
       "      <td>NaN</td>\n",
       "    </tr>\n",
       "    <tr>\n",
       "      <th>...</th>\n",
       "      <td>...</td>\n",
       "      <td>...</td>\n",
       "      <td>...</td>\n",
       "      <td>...</td>\n",
       "      <td>...</td>\n",
       "      <td>...</td>\n",
       "      <td>...</td>\n",
       "      <td>...</td>\n",
       "      <td>...</td>\n",
       "      <td>...</td>\n",
       "      <td>...</td>\n",
       "      <td>...</td>\n",
       "      <td>...</td>\n",
       "      <td>...</td>\n",
       "      <td>...</td>\n",
       "      <td>...</td>\n",
       "      <td>...</td>\n",
       "      <td>...</td>\n",
       "      <td>...</td>\n",
       "      <td>...</td>\n",
       "      <td>...</td>\n",
       "    </tr>\n",
       "    <tr>\n",
       "      <th>8467955</th>\n",
       "      <td>2021</td>\n",
       "      <td>10</td>\n",
       "      <td>31</td>\n",
       "      <td>（日）</td>\n",
       "      <td>23:45</td>\n",
       "      <td>956</td>\n",
       "      <td>森宮本線Ｄ</td>\n",
       "      <td>自動制御</td>\n",
       "      <td>本線事象</td>\n",
       "      <td>1.0</td>\n",
       "      <td>...</td>\n",
       "      <td>3.0</td>\n",
       "      <td>2.0</td>\n",
       "      <td>NaN</td>\n",
       "      <td>0.0</td>\n",
       "      <td>0.0</td>\n",
       "      <td>5.0</td>\n",
       "      <td>105.0</td>\n",
       "      <td>28.0</td>\n",
       "      <td>NaN</td>\n",
       "      <td>NaN</td>\n",
       "    </tr>\n",
       "    <tr>\n",
       "      <th>8467956</th>\n",
       "      <td>2021</td>\n",
       "      <td>10</td>\n",
       "      <td>31</td>\n",
       "      <td>（日）</td>\n",
       "      <td>23:56</td>\n",
       "      <td>956</td>\n",
       "      <td>森宮本線Ｄ</td>\n",
       "      <td>自動制御</td>\n",
       "      <td>本線事象</td>\n",
       "      <td>1.0</td>\n",
       "      <td>...</td>\n",
       "      <td>3.0</td>\n",
       "      <td>2.0</td>\n",
       "      <td>NaN</td>\n",
       "      <td>0.0</td>\n",
       "      <td>0.0</td>\n",
       "      <td>5.0</td>\n",
       "      <td>86.0</td>\n",
       "      <td>24.0</td>\n",
       "      <td>NaN</td>\n",
       "      <td>NaN</td>\n",
       "    </tr>\n",
       "    <tr>\n",
       "      <th>8467957</th>\n",
       "      <td>2021</td>\n",
       "      <td>10</td>\n",
       "      <td>31</td>\n",
       "      <td>（日）</td>\n",
       "      <td>23:57</td>\n",
       "      <td>956</td>\n",
       "      <td>森宮本線Ｄ</td>\n",
       "      <td>自動制御</td>\n",
       "      <td>本線事象</td>\n",
       "      <td>1.0</td>\n",
       "      <td>...</td>\n",
       "      <td>3.0</td>\n",
       "      <td>2.0</td>\n",
       "      <td>NaN</td>\n",
       "      <td>0.0</td>\n",
       "      <td>0.0</td>\n",
       "      <td>5.0</td>\n",
       "      <td>86.0</td>\n",
       "      <td>24.0</td>\n",
       "      <td>NaN</td>\n",
       "      <td>NaN</td>\n",
       "    </tr>\n",
       "    <tr>\n",
       "      <th>8467958</th>\n",
       "      <td>2021</td>\n",
       "      <td>10</td>\n",
       "      <td>31</td>\n",
       "      <td>（日）</td>\n",
       "      <td>23:58</td>\n",
       "      <td>956</td>\n",
       "      <td>森宮本線Ｄ</td>\n",
       "      <td>自動制御</td>\n",
       "      <td>本線事象</td>\n",
       "      <td>1.0</td>\n",
       "      <td>...</td>\n",
       "      <td>3.0</td>\n",
       "      <td>2.0</td>\n",
       "      <td>NaN</td>\n",
       "      <td>0.0</td>\n",
       "      <td>0.0</td>\n",
       "      <td>5.0</td>\n",
       "      <td>86.0</td>\n",
       "      <td>24.0</td>\n",
       "      <td>NaN</td>\n",
       "      <td>NaN</td>\n",
       "    </tr>\n",
       "    <tr>\n",
       "      <th>8467959</th>\n",
       "      <td>2021</td>\n",
       "      <td>10</td>\n",
       "      <td>31</td>\n",
       "      <td>（日）</td>\n",
       "      <td>23:59</td>\n",
       "      <td>956</td>\n",
       "      <td>森宮本線Ｄ</td>\n",
       "      <td>自動制御</td>\n",
       "      <td>本線事象</td>\n",
       "      <td>1.0</td>\n",
       "      <td>...</td>\n",
       "      <td>3.0</td>\n",
       "      <td>2.0</td>\n",
       "      <td>NaN</td>\n",
       "      <td>0.0</td>\n",
       "      <td>0.0</td>\n",
       "      <td>5.0</td>\n",
       "      <td>86.0</td>\n",
       "      <td>24.0</td>\n",
       "      <td>NaN</td>\n",
       "      <td>NaN</td>\n",
       "    </tr>\n",
       "  </tbody>\n",
       "</table>\n",
       "<p>8467960 rows × 67 columns</p>\n",
       "</div>"
      ],
      "text/plain": [
       "          記録年  記録月  記録日 記録曜日   記録時刻  文字情報板番号 文字情報板名称  制御区分  情報区分  影響係数  ...  \\\n",
       "0        2021    4    4  （日）  00:02       11   福島本線上  自動制御  本線事象   1.0  ...   \n",
       "1        2021    4    4  （日）  00:03       11   福島本線上  自動制御  本線事象   1.0  ...   \n",
       "2        2021    4    4  （日）  00:04       11   福島本線上  自動制御  本線事象   1.0  ...   \n",
       "3        2021    4    4  （日）  00:05       11   福島本線上  自動制御  本線事象   1.0  ...   \n",
       "4        2021    4    4  （日）  00:07       11   福島本線上  自動制御  本線事象   1.0  ...   \n",
       "...       ...  ...  ...  ...    ...      ...     ...   ...   ...   ...  ...   \n",
       "8467955  2021   10   31  （日）  23:45      956   森宮本線Ｄ  自動制御  本線事象   1.0  ...   \n",
       "8467956  2021   10   31  （日）  23:56      956   森宮本線Ｄ  自動制御  本線事象   1.0  ...   \n",
       "8467957  2021   10   31  （日）  23:57      956   森宮本線Ｄ  自動制御  本線事象   1.0  ...   \n",
       "8467958  2021   10   31  （日）  23:58      956   森宮本線Ｄ  自動制御  本線事象   1.0  ...   \n",
       "8467959  2021   10   31  （日）  23:59      956   森宮本線Ｄ  自動制御  本線事象   1.0  ...   \n",
       "\n",
       "          休日  時間帯  kcode  降水量 滑り止め 区間長up   速度up  交通量up 渋滞up  事故up  \n",
       "0        3.0  2.0    NaN  0.0  0.0   6.0   96.0   32.0  NaN   NaN  \n",
       "1        3.0  2.0    NaN  0.0  0.0   6.0   96.0   32.0  NaN   NaN  \n",
       "2        3.0  2.0    NaN  0.0  0.0   6.0   96.0   32.0  NaN   NaN  \n",
       "3        3.0  2.0    NaN  0.0  0.0   6.0   86.0   29.0  NaN   NaN  \n",
       "4        3.0  2.0    NaN  0.0  0.0   6.0   86.0   29.0  NaN   NaN  \n",
       "...      ...  ...    ...  ...  ...   ...    ...    ...  ...   ...  \n",
       "8467955  3.0  2.0    NaN  0.0  0.0   5.0  105.0   28.0  NaN   NaN  \n",
       "8467956  3.0  2.0    NaN  0.0  0.0   5.0   86.0   24.0  NaN   NaN  \n",
       "8467957  3.0  2.0    NaN  0.0  0.0   5.0   86.0   24.0  NaN   NaN  \n",
       "8467958  3.0  2.0    NaN  0.0  0.0   5.0   86.0   24.0  NaN   NaN  \n",
       "8467959  3.0  2.0    NaN  0.0  0.0   5.0   86.0   24.0  NaN   NaN  \n",
       "\n",
       "[8467960 rows x 67 columns]"
      ]
     },
     "execution_count": 6,
     "metadata": {},
     "output_type": "execute_result"
    }
   ],
   "source": [
    "dc\n",
    "#df.iloc[:10,12:30]"
   ]
  },
  {
   "cell_type": "code",
   "execution_count": null,
   "metadata": {},
   "outputs": [],
   "source": [
    "#df[df.idx==\"2021-04-05 10:15:00_1041\"].loc[:,\"idx\":]"
   ]
  },
  {
   "cell_type": "code",
   "execution_count": 7,
   "metadata": {},
   "outputs": [],
   "source": [
    "dc.columns=['記録年', '記録月', '記録日', '記録曜日', '記録時刻', '文字情報板番号', '文字情報板名称', '制御区分',\n",
    "       '情報区分', '影響係数', '障害係数', '評価値', '提供フラグ', '事象内通番', '原因', '程度', '渋滞長',\n",
    "       '障害登録番号', '先頭系統名称', '先頭KP', '後尾系統名称', '後尾KP', '入口／出口名称', '特記事項', 'indx',\n",
    "       'line', 'keito', 'kp', 'name', 'jdp', 'jdpup1', 'jdpup2', 'jdpup3',\n",
    "       'vsidx', 'risk', 'temp', 'r2p', 'r2n', 'r3p', 'r3n', 'n1p', 'gen', 'tidx', 'tidx5m',\n",
    "       'idx', 'upidx', '地区名', 'JDP番号', '区間番号', '日付', '時間', '区間長', 'エラー', '速度',\n",
    "       '交通量', '渋滞', '事故', '休日', '時間帯', 'kcode', '降水量', '滑り止め', '区間長up', '速度up',\n",
    "       '交通量up', '渋滞up', '事故up']"
   ]
  },
  {
   "cell_type": "code",
   "execution_count": 99,
   "metadata": {},
   "outputs": [],
   "source": [
    "d=dc.loc[:,[\"記録月\",\"記録日\",\"記録時刻\",\"提供フラグ\",\"原因\",\"程度\",\"idx\",\"tidx\",\"tidx5m\",\"indx\",\"vsidx\",\"jdp\",\"jdpup1\",\"keito\",\"r2p\",\"r2n\",\"r3p\",\"r3n\",\"n1p\",\"gen\",\"区間長\",\"速度\",\"交通量\",\"渋滞\",\"事故\",\"休日\",\"時間帯\",\"降水量\",\"区間長up\",\"速度up\",\"交通量up\",\"渋滞up\",\"事故up\"]]"
   ]
  },
  {
   "cell_type": "code",
   "execution_count": 101,
   "metadata": {},
   "outputs": [],
   "source": [
    "d[\"vsidx2\"]=d.記録月.astype(str)+\"_\"+d.vsidx"
   ]
  },
  {
   "cell_type": "code",
   "execution_count": 102,
   "metadata": {},
   "outputs": [
    {
     "data": {
      "text/html": [
       "<div>\n",
       "<style scoped>\n",
       "    .dataframe tbody tr th:only-of-type {\n",
       "        vertical-align: middle;\n",
       "    }\n",
       "\n",
       "    .dataframe tbody tr th {\n",
       "        vertical-align: top;\n",
       "    }\n",
       "\n",
       "    .dataframe thead th {\n",
       "        text-align: right;\n",
       "    }\n",
       "</style>\n",
       "<table border=\"1\" class=\"dataframe\">\n",
       "  <thead>\n",
       "    <tr style=\"text-align: right;\">\n",
       "      <th></th>\n",
       "      <th>記録月</th>\n",
       "      <th>記録日</th>\n",
       "      <th>記録時刻</th>\n",
       "      <th>vsidx2</th>\n",
       "    </tr>\n",
       "  </thead>\n",
       "  <tbody>\n",
       "    <tr>\n",
       "      <th>0</th>\n",
       "      <td>4</td>\n",
       "      <td>4</td>\n",
       "      <td>00:02</td>\n",
       "      <td>4_4_00:02_11</td>\n",
       "    </tr>\n",
       "    <tr>\n",
       "      <th>1</th>\n",
       "      <td>4</td>\n",
       "      <td>4</td>\n",
       "      <td>00:03</td>\n",
       "      <td>4_4_00:03_11</td>\n",
       "    </tr>\n",
       "    <tr>\n",
       "      <th>2</th>\n",
       "      <td>4</td>\n",
       "      <td>4</td>\n",
       "      <td>00:04</td>\n",
       "      <td>4_4_00:04_11</td>\n",
       "    </tr>\n",
       "    <tr>\n",
       "      <th>3</th>\n",
       "      <td>4</td>\n",
       "      <td>4</td>\n",
       "      <td>00:05</td>\n",
       "      <td>4_4_00:05_11</td>\n",
       "    </tr>\n",
       "    <tr>\n",
       "      <th>4</th>\n",
       "      <td>4</td>\n",
       "      <td>4</td>\n",
       "      <td>00:07</td>\n",
       "      <td>4_4_00:07_11</td>\n",
       "    </tr>\n",
       "    <tr>\n",
       "      <th>...</th>\n",
       "      <td>...</td>\n",
       "      <td>...</td>\n",
       "      <td>...</td>\n",
       "      <td>...</td>\n",
       "    </tr>\n",
       "    <tr>\n",
       "      <th>8467955</th>\n",
       "      <td>10</td>\n",
       "      <td>31</td>\n",
       "      <td>23:45</td>\n",
       "      <td>10_31_23:45_956</td>\n",
       "    </tr>\n",
       "    <tr>\n",
       "      <th>8467956</th>\n",
       "      <td>10</td>\n",
       "      <td>31</td>\n",
       "      <td>23:56</td>\n",
       "      <td>10_31_23:56_956</td>\n",
       "    </tr>\n",
       "    <tr>\n",
       "      <th>8467957</th>\n",
       "      <td>10</td>\n",
       "      <td>31</td>\n",
       "      <td>23:57</td>\n",
       "      <td>10_31_23:57_956</td>\n",
       "    </tr>\n",
       "    <tr>\n",
       "      <th>8467958</th>\n",
       "      <td>10</td>\n",
       "      <td>31</td>\n",
       "      <td>23:58</td>\n",
       "      <td>10_31_23:58_956</td>\n",
       "    </tr>\n",
       "    <tr>\n",
       "      <th>8467959</th>\n",
       "      <td>10</td>\n",
       "      <td>31</td>\n",
       "      <td>23:59</td>\n",
       "      <td>10_31_23:59_956</td>\n",
       "    </tr>\n",
       "  </tbody>\n",
       "</table>\n",
       "<p>8467960 rows × 4 columns</p>\n",
       "</div>"
      ],
      "text/plain": [
       "         記録月  記録日   記録時刻           vsidx2\n",
       "0          4    4  00:02     4_4_00:02_11\n",
       "1          4    4  00:03     4_4_00:03_11\n",
       "2          4    4  00:04     4_4_00:04_11\n",
       "3          4    4  00:05     4_4_00:05_11\n",
       "4          4    4  00:07     4_4_00:07_11\n",
       "...      ...  ...    ...              ...\n",
       "8467955   10   31  23:45  10_31_23:45_956\n",
       "8467956   10   31  23:56  10_31_23:56_956\n",
       "8467957   10   31  23:57  10_31_23:57_956\n",
       "8467958   10   31  23:58  10_31_23:58_956\n",
       "8467959   10   31  23:59  10_31_23:59_956\n",
       "\n",
       "[8467960 rows x 4 columns]"
      ]
     },
     "execution_count": 102,
     "metadata": {},
     "output_type": "execute_result"
    }
   ],
   "source": [
    "#d.loc[:,[\"記録月\",\"記録日\",\"記録時刻\",\"vsidx\"]]\n",
    "d.loc[:,[\"記録月\",\"記録日\",\"記録時刻\",\"vsidx2\"]]"
   ]
  },
  {
   "cell_type": "code",
   "execution_count": 103,
   "metadata": {},
   "outputs": [
    {
     "data": {
      "text/plain": [
       "1439849"
      ]
     },
     "execution_count": 103,
     "metadata": {},
     "output_type": "execute_result"
    }
   ],
   "source": [
    "d[d.r2p==1].shape[0]"
   ]
  },
  {
   "cell_type": "code",
   "execution_count": 104,
   "metadata": {},
   "outputs": [
    {
     "data": {
      "text/plain": [
       "1439849"
      ]
     },
     "execution_count": 104,
     "metadata": {},
     "output_type": "execute_result"
    }
   ],
   "source": [
    "d[(d.提供フラグ==1)&(d.程度==\"リスク２\")].shape[0]"
   ]
  },
  {
   "cell_type": "code",
   "execution_count": null,
   "metadata": {},
   "outputs": [],
   "source": [
    "#d[d.idx==\"2021-04-05 10:15:00_1041\"]"
   ]
  },
  {
   "cell_type": "code",
   "execution_count": null,
   "metadata": {},
   "outputs": [],
   "source": [
    "#d[\"走行台キロ\"]=d.区間長*d.交通量/10"
   ]
  },
  {
   "cell_type": "code",
   "execution_count": 105,
   "metadata": {},
   "outputs": [
    {
     "data": {
      "text/plain": [
       "0            2021-4-4 00:02:00\n",
       "1            2021-4-4 00:03:00\n",
       "2            2021-4-4 00:04:00\n",
       "3            2021-4-4 00:05:00\n",
       "4            2021-4-4 00:07:00\n",
       "                  ...         \n",
       "8467955    2021-10-31 23:45:00\n",
       "8467956    2021-10-31 23:56:00\n",
       "8467957    2021-10-31 23:57:00\n",
       "8467958    2021-10-31 23:58:00\n",
       "8467959    2021-10-31 23:59:00\n",
       "Name: tidx, Length: 8467960, dtype: object"
      ]
     },
     "execution_count": 105,
     "metadata": {},
     "output_type": "execute_result"
    }
   ],
   "source": [
    "d.tidx"
   ]
  },
  {
   "cell_type": "code",
   "execution_count": 106,
   "metadata": {},
   "outputs": [
    {
     "data": {
      "text/plain": [
       "0          1.0\n",
       "99         4.0\n",
       "103       13.0\n",
       "142        3.0\n",
       "688       21.0\n",
       "886       17.0\n",
       "984       18.0\n",
       "1358      80.0\n",
       "1860      23.0\n",
       "3243      22.0\n",
       "4278       5.0\n",
       "4878       9.0\n",
       "7634      19.0\n",
       "8296      20.0\n",
       "9232      14.0\n",
       "10672      8.0\n",
       "12898     24.0\n",
       "13366     49.0\n",
       "15724     39.0\n",
       "16098     40.0\n",
       "18219     33.0\n",
       "19740     34.0\n",
       "21130     61.0\n",
       "23063      2.0\n",
       "59183     73.0\n",
       "59198     74.0\n",
       "72896     50.0\n",
       "374674    10.0\n",
       "496542    75.0\n",
       "497461    62.0\n",
       "500062    11.0\n",
       "800265    76.0\n",
       "Name: keito, dtype: float64"
      ]
     },
     "execution_count": 106,
     "metadata": {},
     "output_type": "execute_result"
    }
   ],
   "source": [
    "d[~d.duplicated(subset=\"keito\")].keito"
   ]
  },
  {
   "cell_type": "code",
   "execution_count": null,
   "metadata": {},
   "outputs": [],
   "source": []
  },
  {
   "cell_type": "code",
   "execution_count": 107,
   "metadata": {},
   "outputs": [],
   "source": [
    "acc = pd.read_csv(\"D:/ahn_pc/workfile/2021/阪神事故リスク/accident2.csv\", encoding=\"shift_jis\")"
   ]
  },
  {
   "cell_type": "code",
   "execution_count": 108,
   "metadata": {},
   "outputs": [],
   "source": [
    "ad = acc.loc[:,[\"dt\",\"区間番号\",\"JDP番号\",\"系統番号\",\"事故の形態１\"]]"
   ]
  },
  {
   "cell_type": "code",
   "execution_count": 109,
   "metadata": {},
   "outputs": [],
   "source": [
    "ad[\"dtkei\"]=ad.dt+\"_\"+ad.系統番号.astype(str)"
   ]
  },
  {
   "cell_type": "code",
   "execution_count": 110,
   "metadata": {},
   "outputs": [
    {
     "data": {
      "text/html": [
       "<div>\n",
       "<style scoped>\n",
       "    .dataframe tbody tr th:only-of-type {\n",
       "        vertical-align: middle;\n",
       "    }\n",
       "\n",
       "    .dataframe tbody tr th {\n",
       "        vertical-align: top;\n",
       "    }\n",
       "\n",
       "    .dataframe thead th {\n",
       "        text-align: right;\n",
       "    }\n",
       "</style>\n",
       "<table border=\"1\" class=\"dataframe\">\n",
       "  <thead>\n",
       "    <tr style=\"text-align: right;\">\n",
       "      <th></th>\n",
       "      <th>dt</th>\n",
       "      <th>区間番号</th>\n",
       "      <th>JDP番号</th>\n",
       "      <th>系統番号</th>\n",
       "      <th>事故の形態１</th>\n",
       "      <th>dtkei</th>\n",
       "    </tr>\n",
       "  </thead>\n",
       "  <tbody>\n",
       "    <tr>\n",
       "      <th>0</th>\n",
       "      <td>2021-4-4 01:30:00</td>\n",
       "      <td>358</td>\n",
       "      <td>940</td>\n",
       "      <td>40</td>\n",
       "      <td>施設接触</td>\n",
       "      <td>2021-4-4 01:30:00_40</td>\n",
       "    </tr>\n",
       "    <tr>\n",
       "      <th>2</th>\n",
       "      <td>2021-4-4 10:15:00</td>\n",
       "      <td>159</td>\n",
       "      <td>339</td>\n",
       "      <td>19</td>\n",
       "      <td>車両接触</td>\n",
       "      <td>2021-4-4 10:15:00_19</td>\n",
       "    </tr>\n",
       "    <tr>\n",
       "      <th>6</th>\n",
       "      <td>2021-4-4 15:40:00</td>\n",
       "      <td>255</td>\n",
       "      <td>405</td>\n",
       "      <td>21</td>\n",
       "      <td>追突</td>\n",
       "      <td>2021-4-4 15:40:00_21</td>\n",
       "    </tr>\n",
       "    <tr>\n",
       "      <th>9</th>\n",
       "      <td>2021-4-4 21:45:00</td>\n",
       "      <td>21</td>\n",
       "      <td>26</td>\n",
       "      <td>1</td>\n",
       "      <td>その他</td>\n",
       "      <td>2021-4-4 21:45:00_1</td>\n",
       "    </tr>\n",
       "    <tr>\n",
       "      <th>25</th>\n",
       "      <td>2021-4-6 03:35:00</td>\n",
       "      <td>291</td>\n",
       "      <td>578</td>\n",
       "      <td>33</td>\n",
       "      <td>施設衝突</td>\n",
       "      <td>2021-4-6 03:35:00_33</td>\n",
       "    </tr>\n",
       "    <tr>\n",
       "      <th>27</th>\n",
       "      <td>2021-4-6 07:40:00</td>\n",
       "      <td>73</td>\n",
       "      <td>112</td>\n",
       "      <td>4</td>\n",
       "      <td>多重追突</td>\n",
       "      <td>2021-4-6 07:40:00_4</td>\n",
       "    </tr>\n",
       "    <tr>\n",
       "      <th>73</th>\n",
       "      <td>2021-4-10 13:25:00</td>\n",
       "      <td>4</td>\n",
       "      <td>84</td>\n",
       "      <td>2</td>\n",
       "      <td>車両衝突</td>\n",
       "      <td>2021-4-10 13:25:00_2</td>\n",
       "    </tr>\n",
       "  </tbody>\n",
       "</table>\n",
       "</div>"
      ],
      "text/plain": [
       "                    dt  区間番号  JDP番号  系統番号 事故の形態１                 dtkei\n",
       "0    2021-4-4 01:30:00   358    940    40   施設接触  2021-4-4 01:30:00_40\n",
       "2    2021-4-4 10:15:00   159    339    19   車両接触  2021-4-4 10:15:00_19\n",
       "6    2021-4-4 15:40:00   255    405    21     追突  2021-4-4 15:40:00_21\n",
       "9    2021-4-4 21:45:00    21     26     1    その他   2021-4-4 21:45:00_1\n",
       "25   2021-4-6 03:35:00   291    578    33   施設衝突  2021-4-6 03:35:00_33\n",
       "27   2021-4-6 07:40:00    73    112     4   多重追突   2021-4-6 07:40:00_4\n",
       "73  2021-4-10 13:25:00     4     84     2   車両衝突  2021-4-10 13:25:00_2"
      ]
     },
     "execution_count": 110,
     "metadata": {},
     "output_type": "execute_result"
    }
   ],
   "source": [
    "ad[~ad.duplicated(subset=\"事故の形態１\")]"
   ]
  },
  {
   "cell_type": "code",
   "execution_count": 111,
   "metadata": {},
   "outputs": [],
   "source": [
    "ad[\"acckind\"]=0"
   ]
  },
  {
   "cell_type": "code",
   "execution_count": 112,
   "metadata": {},
   "outputs": [],
   "source": [
    "ad.loc[(ad[\"事故の形態１\"]==\"追突\")|(ad[\"事故の形態１\"]==\"多重追突\"),\"acckind\"]=1\n",
    "ad.loc[(ad[\"事故の形態１\"]==\"車両接触\")|(ad[\"事故の形態１\"]==\"車両衝突\"),\"acckind\"]=2\n",
    "ad.loc[(ad[\"事故の形態１\"]==\"施設接触\")|(ad[\"事故の形態１\"]==\"施設衝突\"),\"acckind\"]=3"
   ]
  },
  {
   "cell_type": "code",
   "execution_count": 113,
   "metadata": {},
   "outputs": [],
   "source": [
    "d[\"dtkei\"]=d.tidx+\"_\"+d.keito.astype(int).astype(str)"
   ]
  },
  {
   "cell_type": "code",
   "execution_count": 137,
   "metadata": {},
   "outputs": [],
   "source": [
    "d2=d#要求\n",
    "#d2=d[(d.r2p==1)|(d.r3p==1)]#提供"
   ]
  },
  {
   "cell_type": "code",
   "execution_count": 138,
   "metadata": {},
   "outputs": [],
   "source": [
    "#dg = d[~d.duplicated(subset=\"dtkei\")]\n",
    "dg = d2[~d2.duplicated(subset=\"dtkei\")]"
   ]
  },
  {
   "cell_type": "code",
   "execution_count": 139,
   "metadata": {},
   "outputs": [
    {
     "data": {
      "text/plain": [
       "0             2021-4-4 00:02:00_1\n",
       "1             2021-4-4 00:03:00_1\n",
       "2             2021-4-4 00:04:00_1\n",
       "3             2021-4-4 00:05:00_1\n",
       "4             2021-4-4 00:07:00_1\n",
       "                    ...          \n",
       "8461250    2021-10-31 18:31:00_62\n",
       "8461251    2021-10-31 18:32:00_62\n",
       "8461252    2021-10-31 18:33:00_62\n",
       "8461253    2021-10-31 18:34:00_62\n",
       "8461254    2021-10-31 18:35:00_62\n",
       "Name: dtkei, Length: 1787415, dtype: object"
      ]
     },
     "execution_count": 139,
     "metadata": {},
     "output_type": "execute_result"
    }
   ],
   "source": [
    "dg.dtkei"
   ]
  },
  {
   "cell_type": "code",
   "execution_count": 140,
   "metadata": {},
   "outputs": [
    {
     "data": {
      "text/plain": [
       "0             4_4_00:02_11\n",
       "1             4_4_00:03_11\n",
       "2             4_4_00:04_11\n",
       "3             4_4_00:05_11\n",
       "4             4_4_00:07_11\n",
       "                ...       \n",
       "8461250    10_31_18:31_692\n",
       "8461251    10_31_18:32_692\n",
       "8461252    10_31_18:33_692\n",
       "8461253    10_31_18:34_692\n",
       "8461254    10_31_18:35_692\n",
       "Name: vsidx2, Length: 1787415, dtype: object"
      ]
     },
     "execution_count": 140,
     "metadata": {},
     "output_type": "execute_result"
    }
   ],
   "source": [
    "dg.vsidx2"
   ]
  },
  {
   "cell_type": "code",
   "execution_count": 85,
   "metadata": {},
   "outputs": [
    {
     "data": {
      "text/html": [
       "<div>\n",
       "<style scoped>\n",
       "    .dataframe tbody tr th:only-of-type {\n",
       "        vertical-align: middle;\n",
       "    }\n",
       "\n",
       "    .dataframe tbody tr th {\n",
       "        vertical-align: top;\n",
       "    }\n",
       "\n",
       "    .dataframe thead th {\n",
       "        text-align: right;\n",
       "    }\n",
       "</style>\n",
       "<table border=\"1\" class=\"dataframe\">\n",
       "  <thead>\n",
       "    <tr style=\"text-align: right;\">\n",
       "      <th></th>\n",
       "      <th>記録日</th>\n",
       "      <th>記録時刻</th>\n",
       "      <th>提供フラグ</th>\n",
       "      <th>原因</th>\n",
       "      <th>程度</th>\n",
       "      <th>idx</th>\n",
       "      <th>tidx</th>\n",
       "      <th>tidx5m</th>\n",
       "      <th>indx</th>\n",
       "      <th>vsidx</th>\n",
       "      <th>...</th>\n",
       "      <th>事故</th>\n",
       "      <th>休日</th>\n",
       "      <th>時間帯</th>\n",
       "      <th>降水量</th>\n",
       "      <th>区間長up</th>\n",
       "      <th>速度up</th>\n",
       "      <th>交通量up</th>\n",
       "      <th>渋滞up</th>\n",
       "      <th>事故up</th>\n",
       "      <th>dtkei</th>\n",
       "    </tr>\n",
       "  </thead>\n",
       "  <tbody>\n",
       "  </tbody>\n",
       "</table>\n",
       "<p>0 rows × 33 columns</p>\n",
       "</div>"
      ],
      "text/plain": [
       "Empty DataFrame\n",
       "Columns: [記録日, 記録時刻, 提供フラグ, 原因, 程度, idx, tidx, tidx5m, indx, vsidx, jdp, jdpup1, keito, r2p, r2n, r3p, r3n, n1p, gen, 区間長, 速度, 交通量, 渋滞, 事故, 休日, 時間帯, 降水量, 区間長up, 速度up, 交通量up, 渋滞up, 事故up, dtkei]\n",
       "Index: []\n",
       "\n",
       "[0 rows x 33 columns]"
      ]
     },
     "execution_count": 85,
     "metadata": {},
     "output_type": "execute_result"
    }
   ],
   "source": [
    "dg[dg.vsidx==\"30_18:00_593\"]\n",
    "#dg[dg.dtkei==\"2021-4-30 19:00:00_75\"]"
   ]
  },
  {
   "cell_type": "code",
   "execution_count": 141,
   "metadata": {},
   "outputs": [],
   "source": [
    "dgc = pd.merge(dg,ad, on=\"dtkei\", how=\"left\")"
   ]
  },
  {
   "cell_type": "code",
   "execution_count": 142,
   "metadata": {},
   "outputs": [
    {
     "data": {
      "text/html": [
       "<div>\n",
       "<style scoped>\n",
       "    .dataframe tbody tr th:only-of-type {\n",
       "        vertical-align: middle;\n",
       "    }\n",
       "\n",
       "    .dataframe tbody tr th {\n",
       "        vertical-align: top;\n",
       "    }\n",
       "\n",
       "    .dataframe thead th {\n",
       "        text-align: right;\n",
       "    }\n",
       "</style>\n",
       "<table border=\"1\" class=\"dataframe\">\n",
       "  <thead>\n",
       "    <tr style=\"text-align: right;\">\n",
       "      <th></th>\n",
       "      <th>記録月</th>\n",
       "      <th>記録日</th>\n",
       "      <th>記録時刻</th>\n",
       "      <th>提供フラグ</th>\n",
       "      <th>原因</th>\n",
       "      <th>程度</th>\n",
       "      <th>idx</th>\n",
       "      <th>tidx</th>\n",
       "      <th>tidx5m</th>\n",
       "      <th>indx</th>\n",
       "      <th>...</th>\n",
       "      <th>渋滞up</th>\n",
       "      <th>事故up</th>\n",
       "      <th>vsidx2</th>\n",
       "      <th>dtkei</th>\n",
       "      <th>dt</th>\n",
       "      <th>区間番号</th>\n",
       "      <th>JDP番号</th>\n",
       "      <th>系統番号</th>\n",
       "      <th>事故の形態１</th>\n",
       "      <th>acckind</th>\n",
       "    </tr>\n",
       "  </thead>\n",
       "  <tbody>\n",
       "    <tr>\n",
       "      <th>2542</th>\n",
       "      <td>4</td>\n",
       "      <td>5</td>\n",
       "      <td>11:55</td>\n",
       "      <td>1.0</td>\n",
       "      <td>リスク</td>\n",
       "      <td>リスク２</td>\n",
       "      <td>2021-04-05 11:55:00_358</td>\n",
       "      <td>2021-4-5 11:55:00</td>\n",
       "      <td>2021-04-05 11:55:00</td>\n",
       "      <td>98</td>\n",
       "      <td>...</td>\n",
       "      <td>NaN</td>\n",
       "      <td>NaN</td>\n",
       "      <td>4_5_11:55_98</td>\n",
       "      <td>2021-4-5 11:55:00_20</td>\n",
       "      <td>2021-4-5 11:55:00</td>\n",
       "      <td>150.0</td>\n",
       "      <td>353.0</td>\n",
       "      <td>20.0</td>\n",
       "      <td>その他</td>\n",
       "      <td>0.0</td>\n",
       "    </tr>\n",
       "    <tr>\n",
       "      <th>2776</th>\n",
       "      <td>4</td>\n",
       "      <td>5</td>\n",
       "      <td>15:25</td>\n",
       "      <td>NaN</td>\n",
       "      <td>リスク</td>\n",
       "      <td>リスク３</td>\n",
       "      <td>2021-04-05 15:25:00_370</td>\n",
       "      <td>2021-4-5 15:25:00</td>\n",
       "      <td>2021-04-05 15:25:00</td>\n",
       "      <td>140</td>\n",
       "      <td>...</td>\n",
       "      <td>NaN</td>\n",
       "      <td>NaN</td>\n",
       "      <td>4_5_15:25_140</td>\n",
       "      <td>2021-4-5 15:25:00_21</td>\n",
       "      <td>2021-4-5 15:25:00</td>\n",
       "      <td>281.0</td>\n",
       "      <td>441.0</td>\n",
       "      <td>21.0</td>\n",
       "      <td>追突</td>\n",
       "      <td>1.0</td>\n",
       "    </tr>\n",
       "    <tr>\n",
       "      <th>4153</th>\n",
       "      <td>4</td>\n",
       "      <td>5</td>\n",
       "      <td>13:25</td>\n",
       "      <td>NaN</td>\n",
       "      <td>リスク</td>\n",
       "      <td>リスク３</td>\n",
       "      <td>2021-04-05 13:25:00_691</td>\n",
       "      <td>2021-4-5 13:25:00</td>\n",
       "      <td>2021-04-05 13:25:00</td>\n",
       "      <td>387</td>\n",
       "      <td>...</td>\n",
       "      <td>NaN</td>\n",
       "      <td>NaN</td>\n",
       "      <td>4_5_13:25_387</td>\n",
       "      <td>2021-4-5 13:25:00_23</td>\n",
       "      <td>2021-4-5 13:25:00</td>\n",
       "      <td>201.0</td>\n",
       "      <td>722.0</td>\n",
       "      <td>23.0</td>\n",
       "      <td>その他</td>\n",
       "      <td>0.0</td>\n",
       "    </tr>\n",
       "    <tr>\n",
       "      <th>10293</th>\n",
       "      <td>4</td>\n",
       "      <td>6</td>\n",
       "      <td>07:05</td>\n",
       "      <td>NaN</td>\n",
       "      <td>リスク</td>\n",
       "      <td>リスク３</td>\n",
       "      <td>2021-04-06 07:05:00_322</td>\n",
       "      <td>2021-4-6 07:05:00</td>\n",
       "      <td>2021-04-06 07:05:00</td>\n",
       "      <td>96</td>\n",
       "      <td>...</td>\n",
       "      <td>NaN</td>\n",
       "      <td>NaN</td>\n",
       "      <td>4_6_07:05_96</td>\n",
       "      <td>2021-4-6 07:05:00_19</td>\n",
       "      <td>2021-4-6 07:05:00</td>\n",
       "      <td>155.0</td>\n",
       "      <td>337.0</td>\n",
       "      <td>19.0</td>\n",
       "      <td>その他</td>\n",
       "      <td>0.0</td>\n",
       "    </tr>\n",
       "    <tr>\n",
       "      <th>12029</th>\n",
       "      <td>4</td>\n",
       "      <td>6</td>\n",
       "      <td>14:05</td>\n",
       "      <td>NaN</td>\n",
       "      <td>リスク</td>\n",
       "      <td>リスク３</td>\n",
       "      <td>2021-04-06 14:05:00_101</td>\n",
       "      <td>2021-4-6 14:05:00</td>\n",
       "      <td>2021-04-06 14:05:00</td>\n",
       "      <td>31</td>\n",
       "      <td>...</td>\n",
       "      <td>NaN</td>\n",
       "      <td>NaN</td>\n",
       "      <td>4_6_14:05_31</td>\n",
       "      <td>2021-4-6 14:05:00_3</td>\n",
       "      <td>2021-4-6 14:05:00</td>\n",
       "      <td>47.0</td>\n",
       "      <td>96.0</td>\n",
       "      <td>3.0</td>\n",
       "      <td>その他</td>\n",
       "      <td>0.0</td>\n",
       "    </tr>\n",
       "    <tr>\n",
       "      <th>...</th>\n",
       "      <td>...</td>\n",
       "      <td>...</td>\n",
       "      <td>...</td>\n",
       "      <td>...</td>\n",
       "      <td>...</td>\n",
       "      <td>...</td>\n",
       "      <td>...</td>\n",
       "      <td>...</td>\n",
       "      <td>...</td>\n",
       "      <td>...</td>\n",
       "      <td>...</td>\n",
       "      <td>...</td>\n",
       "      <td>...</td>\n",
       "      <td>...</td>\n",
       "      <td>...</td>\n",
       "      <td>...</td>\n",
       "      <td>...</td>\n",
       "      <td>...</td>\n",
       "      <td>...</td>\n",
       "      <td>...</td>\n",
       "      <td>...</td>\n",
       "    </tr>\n",
       "    <tr>\n",
       "      <th>1760864</th>\n",
       "      <td>10</td>\n",
       "      <td>29</td>\n",
       "      <td>05:50</td>\n",
       "      <td>1.0</td>\n",
       "      <td>リスク</td>\n",
       "      <td>リスク３</td>\n",
       "      <td>2021-10-29 05:50:00_370</td>\n",
       "      <td>2021-10-29 05:50:00</td>\n",
       "      <td>2021-10-29 05:50:00</td>\n",
       "      <td>140</td>\n",
       "      <td>...</td>\n",
       "      <td>NaN</td>\n",
       "      <td>NaN</td>\n",
       "      <td>10_29_05:50_140</td>\n",
       "      <td>2021-10-29 05:50:00_21</td>\n",
       "      <td>2021-10-29 05:50:00</td>\n",
       "      <td>241.0</td>\n",
       "      <td>383.0</td>\n",
       "      <td>21.0</td>\n",
       "      <td>車両接触</td>\n",
       "      <td>2.0</td>\n",
       "    </tr>\n",
       "    <tr>\n",
       "      <th>1762984</th>\n",
       "      <td>10</td>\n",
       "      <td>29</td>\n",
       "      <td>09:35</td>\n",
       "      <td>1.0</td>\n",
       "      <td>リスク</td>\n",
       "      <td>リスク２</td>\n",
       "      <td>2021-10-29 09:35:00_460</td>\n",
       "      <td>2021-10-29 09:35:00</td>\n",
       "      <td>2021-10-29 09:35:00</td>\n",
       "      <td>547</td>\n",
       "      <td>...</td>\n",
       "      <td>NaN</td>\n",
       "      <td>NaN</td>\n",
       "      <td>10_29_09:35_547</td>\n",
       "      <td>2021-10-29 09:35:00_22</td>\n",
       "      <td>2021-10-29 09:35:00</td>\n",
       "      <td>262.0</td>\n",
       "      <td>472.0</td>\n",
       "      <td>22.0</td>\n",
       "      <td>追突</td>\n",
       "      <td>1.0</td>\n",
       "    </tr>\n",
       "    <tr>\n",
       "      <th>1771203</th>\n",
       "      <td>10</td>\n",
       "      <td>30</td>\n",
       "      <td>12:15</td>\n",
       "      <td>1.0</td>\n",
       "      <td>リスク</td>\n",
       "      <td>リスク３</td>\n",
       "      <td>2021-10-30 12:15:00_370</td>\n",
       "      <td>2021-10-30 12:15:00</td>\n",
       "      <td>2021-10-30 12:15:00</td>\n",
       "      <td>140</td>\n",
       "      <td>...</td>\n",
       "      <td>NaN</td>\n",
       "      <td>NaN</td>\n",
       "      <td>10_30_12:15_140</td>\n",
       "      <td>2021-10-30 12:15:00_21</td>\n",
       "      <td>2021-10-30 12:15:00</td>\n",
       "      <td>271.0</td>\n",
       "      <td>431.0</td>\n",
       "      <td>21.0</td>\n",
       "      <td>車両接触</td>\n",
       "      <td>2.0</td>\n",
       "    </tr>\n",
       "    <tr>\n",
       "      <th>1773321</th>\n",
       "      <td>10</td>\n",
       "      <td>30</td>\n",
       "      <td>19:10</td>\n",
       "      <td>1.0</td>\n",
       "      <td>リスク</td>\n",
       "      <td>リスク３</td>\n",
       "      <td>2021-10-30 19:10:00_101</td>\n",
       "      <td>2021-10-30 19:10:00</td>\n",
       "      <td>2021-10-30 19:10:00</td>\n",
       "      <td>31</td>\n",
       "      <td>...</td>\n",
       "      <td>NaN</td>\n",
       "      <td>NaN</td>\n",
       "      <td>10_30_19:10_31</td>\n",
       "      <td>2021-10-30 19:10:00_3</td>\n",
       "      <td>2021-10-30 19:10:00</td>\n",
       "      <td>36.0</td>\n",
       "      <td>106.0</td>\n",
       "      <td>3.0</td>\n",
       "      <td>車両接触</td>\n",
       "      <td>2.0</td>\n",
       "    </tr>\n",
       "    <tr>\n",
       "      <th>1787161</th>\n",
       "      <td>10</td>\n",
       "      <td>31</td>\n",
       "      <td>17:05</td>\n",
       "      <td>1.0</td>\n",
       "      <td>リスク</td>\n",
       "      <td>リスク３</td>\n",
       "      <td>2021-10-31 17:05:00_411</td>\n",
       "      <td>2021-10-31 17:05:00</td>\n",
       "      <td>2021-10-31 17:05:00</td>\n",
       "      <td>526</td>\n",
       "      <td>...</td>\n",
       "      <td>NaN</td>\n",
       "      <td>NaN</td>\n",
       "      <td>10_31_17:05_526</td>\n",
       "      <td>2021-10-31 17:05:00_21</td>\n",
       "      <td>2021-10-31 17:05:00</td>\n",
       "      <td>259.0</td>\n",
       "      <td>420.0</td>\n",
       "      <td>21.0</td>\n",
       "      <td>車両接触</td>\n",
       "      <td>2.0</td>\n",
       "    </tr>\n",
       "  </tbody>\n",
       "</table>\n",
       "<p>651 rows × 41 columns</p>\n",
       "</div>"
      ],
      "text/plain": [
       "         記録月  記録日   記録時刻  提供フラグ   原因    程度                      idx  \\\n",
       "2542       4    5  11:55    1.0  リスク  リスク２  2021-04-05 11:55:00_358   \n",
       "2776       4    5  15:25    NaN  リスク  リスク３  2021-04-05 15:25:00_370   \n",
       "4153       4    5  13:25    NaN  リスク  リスク３  2021-04-05 13:25:00_691   \n",
       "10293      4    6  07:05    NaN  リスク  リスク３  2021-04-06 07:05:00_322   \n",
       "12029      4    6  14:05    NaN  リスク  リスク３  2021-04-06 14:05:00_101   \n",
       "...      ...  ...    ...    ...  ...   ...                      ...   \n",
       "1760864   10   29  05:50    1.0  リスク  リスク３  2021-10-29 05:50:00_370   \n",
       "1762984   10   29  09:35    1.0  リスク  リスク２  2021-10-29 09:35:00_460   \n",
       "1771203   10   30  12:15    1.0  リスク  リスク３  2021-10-30 12:15:00_370   \n",
       "1773321   10   30  19:10    1.0  リスク  リスク３  2021-10-30 19:10:00_101   \n",
       "1787161   10   31  17:05    1.0  リスク  リスク３  2021-10-31 17:05:00_411   \n",
       "\n",
       "                        tidx               tidx5m  indx  ... 渋滞up  事故up  \\\n",
       "2542       2021-4-5 11:55:00  2021-04-05 11:55:00    98  ...  NaN   NaN   \n",
       "2776       2021-4-5 15:25:00  2021-04-05 15:25:00   140  ...  NaN   NaN   \n",
       "4153       2021-4-5 13:25:00  2021-04-05 13:25:00   387  ...  NaN   NaN   \n",
       "10293      2021-4-6 07:05:00  2021-04-06 07:05:00    96  ...  NaN   NaN   \n",
       "12029      2021-4-6 14:05:00  2021-04-06 14:05:00    31  ...  NaN   NaN   \n",
       "...                      ...                  ...   ...  ...  ...   ...   \n",
       "1760864  2021-10-29 05:50:00  2021-10-29 05:50:00   140  ...  NaN   NaN   \n",
       "1762984  2021-10-29 09:35:00  2021-10-29 09:35:00   547  ...  NaN   NaN   \n",
       "1771203  2021-10-30 12:15:00  2021-10-30 12:15:00   140  ...  NaN   NaN   \n",
       "1773321  2021-10-30 19:10:00  2021-10-30 19:10:00    31  ...  NaN   NaN   \n",
       "1787161  2021-10-31 17:05:00  2021-10-31 17:05:00   526  ...  NaN   NaN   \n",
       "\n",
       "                  vsidx2                   dtkei                   dt   区間番号  \\\n",
       "2542        4_5_11:55_98    2021-4-5 11:55:00_20    2021-4-5 11:55:00  150.0   \n",
       "2776       4_5_15:25_140    2021-4-5 15:25:00_21    2021-4-5 15:25:00  281.0   \n",
       "4153       4_5_13:25_387    2021-4-5 13:25:00_23    2021-4-5 13:25:00  201.0   \n",
       "10293       4_6_07:05_96    2021-4-6 07:05:00_19    2021-4-6 07:05:00  155.0   \n",
       "12029       4_6_14:05_31     2021-4-6 14:05:00_3    2021-4-6 14:05:00   47.0   \n",
       "...                  ...                     ...                  ...    ...   \n",
       "1760864  10_29_05:50_140  2021-10-29 05:50:00_21  2021-10-29 05:50:00  241.0   \n",
       "1762984  10_29_09:35_547  2021-10-29 09:35:00_22  2021-10-29 09:35:00  262.0   \n",
       "1771203  10_30_12:15_140  2021-10-30 12:15:00_21  2021-10-30 12:15:00  271.0   \n",
       "1773321   10_30_19:10_31   2021-10-30 19:10:00_3  2021-10-30 19:10:00   36.0   \n",
       "1787161  10_31_17:05_526  2021-10-31 17:05:00_21  2021-10-31 17:05:00  259.0   \n",
       "\n",
       "         JDP番号  系統番号  事故の形態１ acckind  \n",
       "2542     353.0  20.0     その他     0.0  \n",
       "2776     441.0  21.0      追突     1.0  \n",
       "4153     722.0  23.0     その他     0.0  \n",
       "10293    337.0  19.0     その他     0.0  \n",
       "12029     96.0   3.0     その他     0.0  \n",
       "...        ...   ...     ...     ...  \n",
       "1760864  383.0  21.0    車両接触     2.0  \n",
       "1762984  472.0  22.0      追突     1.0  \n",
       "1771203  431.0  21.0    車両接触     2.0  \n",
       "1773321  106.0   3.0    車両接触     2.0  \n",
       "1787161  420.0  21.0    車両接触     2.0  \n",
       "\n",
       "[651 rows x 41 columns]"
      ]
     },
     "execution_count": 142,
     "metadata": {},
     "output_type": "execute_result"
    }
   ],
   "source": [
    "dgc[~pd.isna(dgc.dt)]"
   ]
  },
  {
   "cell_type": "code",
   "execution_count": null,
   "metadata": {},
   "outputs": [],
   "source": [
    "#dgc[~dgc.duplicated(subset=\"keito\")].keito"
   ]
  },
  {
   "cell_type": "code",
   "execution_count": null,
   "metadata": {},
   "outputs": [],
   "source": [
    "#dgc[~pd.isna(dgc.dt)]"
   ]
  },
  {
   "cell_type": "code",
   "execution_count": 143,
   "metadata": {},
   "outputs": [],
   "source": [
    "dgc[\"acckei\"]=0"
   ]
  },
  {
   "cell_type": "code",
   "execution_count": 144,
   "metadata": {},
   "outputs": [],
   "source": [
    "dgc.loc[~pd.isna(dgc.dt),\"acckei\"]=1"
   ]
  },
  {
   "cell_type": "code",
   "execution_count": 145,
   "metadata": {},
   "outputs": [
    {
     "data": {
      "text/html": [
       "<div>\n",
       "<style scoped>\n",
       "    .dataframe tbody tr th:only-of-type {\n",
       "        vertical-align: middle;\n",
       "    }\n",
       "\n",
       "    .dataframe tbody tr th {\n",
       "        vertical-align: top;\n",
       "    }\n",
       "\n",
       "    .dataframe thead th {\n",
       "        text-align: right;\n",
       "    }\n",
       "</style>\n",
       "<table border=\"1\" class=\"dataframe\">\n",
       "  <thead>\n",
       "    <tr style=\"text-align: right;\">\n",
       "      <th></th>\n",
       "      <th>記録月</th>\n",
       "      <th>記録日</th>\n",
       "      <th>記録時刻</th>\n",
       "      <th>提供フラグ</th>\n",
       "      <th>原因</th>\n",
       "      <th>程度</th>\n",
       "      <th>idx</th>\n",
       "      <th>tidx</th>\n",
       "      <th>tidx5m</th>\n",
       "      <th>indx</th>\n",
       "      <th>...</th>\n",
       "      <th>事故up</th>\n",
       "      <th>vsidx2</th>\n",
       "      <th>dtkei</th>\n",
       "      <th>dt</th>\n",
       "      <th>区間番号</th>\n",
       "      <th>JDP番号</th>\n",
       "      <th>系統番号</th>\n",
       "      <th>事故の形態１</th>\n",
       "      <th>acckind</th>\n",
       "      <th>acckei</th>\n",
       "    </tr>\n",
       "  </thead>\n",
       "  <tbody>\n",
       "    <tr>\n",
       "      <th>2542</th>\n",
       "      <td>4</td>\n",
       "      <td>5</td>\n",
       "      <td>11:55</td>\n",
       "      <td>1.0</td>\n",
       "      <td>リスク</td>\n",
       "      <td>リスク２</td>\n",
       "      <td>2021-04-05 11:55:00_358</td>\n",
       "      <td>2021-4-5 11:55:00</td>\n",
       "      <td>2021-04-05 11:55:00</td>\n",
       "      <td>98</td>\n",
       "      <td>...</td>\n",
       "      <td>NaN</td>\n",
       "      <td>4_5_11:55_98</td>\n",
       "      <td>2021-4-5 11:55:00_20</td>\n",
       "      <td>2021-4-5 11:55:00</td>\n",
       "      <td>150.0</td>\n",
       "      <td>353.0</td>\n",
       "      <td>20.0</td>\n",
       "      <td>その他</td>\n",
       "      <td>0.0</td>\n",
       "      <td>1</td>\n",
       "    </tr>\n",
       "    <tr>\n",
       "      <th>2776</th>\n",
       "      <td>4</td>\n",
       "      <td>5</td>\n",
       "      <td>15:25</td>\n",
       "      <td>NaN</td>\n",
       "      <td>リスク</td>\n",
       "      <td>リスク３</td>\n",
       "      <td>2021-04-05 15:25:00_370</td>\n",
       "      <td>2021-4-5 15:25:00</td>\n",
       "      <td>2021-04-05 15:25:00</td>\n",
       "      <td>140</td>\n",
       "      <td>...</td>\n",
       "      <td>NaN</td>\n",
       "      <td>4_5_15:25_140</td>\n",
       "      <td>2021-4-5 15:25:00_21</td>\n",
       "      <td>2021-4-5 15:25:00</td>\n",
       "      <td>281.0</td>\n",
       "      <td>441.0</td>\n",
       "      <td>21.0</td>\n",
       "      <td>追突</td>\n",
       "      <td>1.0</td>\n",
       "      <td>1</td>\n",
       "    </tr>\n",
       "    <tr>\n",
       "      <th>4153</th>\n",
       "      <td>4</td>\n",
       "      <td>5</td>\n",
       "      <td>13:25</td>\n",
       "      <td>NaN</td>\n",
       "      <td>リスク</td>\n",
       "      <td>リスク３</td>\n",
       "      <td>2021-04-05 13:25:00_691</td>\n",
       "      <td>2021-4-5 13:25:00</td>\n",
       "      <td>2021-04-05 13:25:00</td>\n",
       "      <td>387</td>\n",
       "      <td>...</td>\n",
       "      <td>NaN</td>\n",
       "      <td>4_5_13:25_387</td>\n",
       "      <td>2021-4-5 13:25:00_23</td>\n",
       "      <td>2021-4-5 13:25:00</td>\n",
       "      <td>201.0</td>\n",
       "      <td>722.0</td>\n",
       "      <td>23.0</td>\n",
       "      <td>その他</td>\n",
       "      <td>0.0</td>\n",
       "      <td>1</td>\n",
       "    </tr>\n",
       "    <tr>\n",
       "      <th>10293</th>\n",
       "      <td>4</td>\n",
       "      <td>6</td>\n",
       "      <td>07:05</td>\n",
       "      <td>NaN</td>\n",
       "      <td>リスク</td>\n",
       "      <td>リスク３</td>\n",
       "      <td>2021-04-06 07:05:00_322</td>\n",
       "      <td>2021-4-6 07:05:00</td>\n",
       "      <td>2021-04-06 07:05:00</td>\n",
       "      <td>96</td>\n",
       "      <td>...</td>\n",
       "      <td>NaN</td>\n",
       "      <td>4_6_07:05_96</td>\n",
       "      <td>2021-4-6 07:05:00_19</td>\n",
       "      <td>2021-4-6 07:05:00</td>\n",
       "      <td>155.0</td>\n",
       "      <td>337.0</td>\n",
       "      <td>19.0</td>\n",
       "      <td>その他</td>\n",
       "      <td>0.0</td>\n",
       "      <td>1</td>\n",
       "    </tr>\n",
       "    <tr>\n",
       "      <th>12029</th>\n",
       "      <td>4</td>\n",
       "      <td>6</td>\n",
       "      <td>14:05</td>\n",
       "      <td>NaN</td>\n",
       "      <td>リスク</td>\n",
       "      <td>リスク３</td>\n",
       "      <td>2021-04-06 14:05:00_101</td>\n",
       "      <td>2021-4-6 14:05:00</td>\n",
       "      <td>2021-04-06 14:05:00</td>\n",
       "      <td>31</td>\n",
       "      <td>...</td>\n",
       "      <td>NaN</td>\n",
       "      <td>4_6_14:05_31</td>\n",
       "      <td>2021-4-6 14:05:00_3</td>\n",
       "      <td>2021-4-6 14:05:00</td>\n",
       "      <td>47.0</td>\n",
       "      <td>96.0</td>\n",
       "      <td>3.0</td>\n",
       "      <td>その他</td>\n",
       "      <td>0.0</td>\n",
       "      <td>1</td>\n",
       "    </tr>\n",
       "    <tr>\n",
       "      <th>...</th>\n",
       "      <td>...</td>\n",
       "      <td>...</td>\n",
       "      <td>...</td>\n",
       "      <td>...</td>\n",
       "      <td>...</td>\n",
       "      <td>...</td>\n",
       "      <td>...</td>\n",
       "      <td>...</td>\n",
       "      <td>...</td>\n",
       "      <td>...</td>\n",
       "      <td>...</td>\n",
       "      <td>...</td>\n",
       "      <td>...</td>\n",
       "      <td>...</td>\n",
       "      <td>...</td>\n",
       "      <td>...</td>\n",
       "      <td>...</td>\n",
       "      <td>...</td>\n",
       "      <td>...</td>\n",
       "      <td>...</td>\n",
       "      <td>...</td>\n",
       "    </tr>\n",
       "    <tr>\n",
       "      <th>1760864</th>\n",
       "      <td>10</td>\n",
       "      <td>29</td>\n",
       "      <td>05:50</td>\n",
       "      <td>1.0</td>\n",
       "      <td>リスク</td>\n",
       "      <td>リスク３</td>\n",
       "      <td>2021-10-29 05:50:00_370</td>\n",
       "      <td>2021-10-29 05:50:00</td>\n",
       "      <td>2021-10-29 05:50:00</td>\n",
       "      <td>140</td>\n",
       "      <td>...</td>\n",
       "      <td>NaN</td>\n",
       "      <td>10_29_05:50_140</td>\n",
       "      <td>2021-10-29 05:50:00_21</td>\n",
       "      <td>2021-10-29 05:50:00</td>\n",
       "      <td>241.0</td>\n",
       "      <td>383.0</td>\n",
       "      <td>21.0</td>\n",
       "      <td>車両接触</td>\n",
       "      <td>2.0</td>\n",
       "      <td>1</td>\n",
       "    </tr>\n",
       "    <tr>\n",
       "      <th>1762984</th>\n",
       "      <td>10</td>\n",
       "      <td>29</td>\n",
       "      <td>09:35</td>\n",
       "      <td>1.0</td>\n",
       "      <td>リスク</td>\n",
       "      <td>リスク２</td>\n",
       "      <td>2021-10-29 09:35:00_460</td>\n",
       "      <td>2021-10-29 09:35:00</td>\n",
       "      <td>2021-10-29 09:35:00</td>\n",
       "      <td>547</td>\n",
       "      <td>...</td>\n",
       "      <td>NaN</td>\n",
       "      <td>10_29_09:35_547</td>\n",
       "      <td>2021-10-29 09:35:00_22</td>\n",
       "      <td>2021-10-29 09:35:00</td>\n",
       "      <td>262.0</td>\n",
       "      <td>472.0</td>\n",
       "      <td>22.0</td>\n",
       "      <td>追突</td>\n",
       "      <td>1.0</td>\n",
       "      <td>1</td>\n",
       "    </tr>\n",
       "    <tr>\n",
       "      <th>1771203</th>\n",
       "      <td>10</td>\n",
       "      <td>30</td>\n",
       "      <td>12:15</td>\n",
       "      <td>1.0</td>\n",
       "      <td>リスク</td>\n",
       "      <td>リスク３</td>\n",
       "      <td>2021-10-30 12:15:00_370</td>\n",
       "      <td>2021-10-30 12:15:00</td>\n",
       "      <td>2021-10-30 12:15:00</td>\n",
       "      <td>140</td>\n",
       "      <td>...</td>\n",
       "      <td>NaN</td>\n",
       "      <td>10_30_12:15_140</td>\n",
       "      <td>2021-10-30 12:15:00_21</td>\n",
       "      <td>2021-10-30 12:15:00</td>\n",
       "      <td>271.0</td>\n",
       "      <td>431.0</td>\n",
       "      <td>21.0</td>\n",
       "      <td>車両接触</td>\n",
       "      <td>2.0</td>\n",
       "      <td>1</td>\n",
       "    </tr>\n",
       "    <tr>\n",
       "      <th>1773321</th>\n",
       "      <td>10</td>\n",
       "      <td>30</td>\n",
       "      <td>19:10</td>\n",
       "      <td>1.0</td>\n",
       "      <td>リスク</td>\n",
       "      <td>リスク３</td>\n",
       "      <td>2021-10-30 19:10:00_101</td>\n",
       "      <td>2021-10-30 19:10:00</td>\n",
       "      <td>2021-10-30 19:10:00</td>\n",
       "      <td>31</td>\n",
       "      <td>...</td>\n",
       "      <td>NaN</td>\n",
       "      <td>10_30_19:10_31</td>\n",
       "      <td>2021-10-30 19:10:00_3</td>\n",
       "      <td>2021-10-30 19:10:00</td>\n",
       "      <td>36.0</td>\n",
       "      <td>106.0</td>\n",
       "      <td>3.0</td>\n",
       "      <td>車両接触</td>\n",
       "      <td>2.0</td>\n",
       "      <td>1</td>\n",
       "    </tr>\n",
       "    <tr>\n",
       "      <th>1787161</th>\n",
       "      <td>10</td>\n",
       "      <td>31</td>\n",
       "      <td>17:05</td>\n",
       "      <td>1.0</td>\n",
       "      <td>リスク</td>\n",
       "      <td>リスク３</td>\n",
       "      <td>2021-10-31 17:05:00_411</td>\n",
       "      <td>2021-10-31 17:05:00</td>\n",
       "      <td>2021-10-31 17:05:00</td>\n",
       "      <td>526</td>\n",
       "      <td>...</td>\n",
       "      <td>NaN</td>\n",
       "      <td>10_31_17:05_526</td>\n",
       "      <td>2021-10-31 17:05:00_21</td>\n",
       "      <td>2021-10-31 17:05:00</td>\n",
       "      <td>259.0</td>\n",
       "      <td>420.0</td>\n",
       "      <td>21.0</td>\n",
       "      <td>車両接触</td>\n",
       "      <td>2.0</td>\n",
       "      <td>1</td>\n",
       "    </tr>\n",
       "  </tbody>\n",
       "</table>\n",
       "<p>651 rows × 42 columns</p>\n",
       "</div>"
      ],
      "text/plain": [
       "         記録月  記録日   記録時刻  提供フラグ   原因    程度                      idx  \\\n",
       "2542       4    5  11:55    1.0  リスク  リスク２  2021-04-05 11:55:00_358   \n",
       "2776       4    5  15:25    NaN  リスク  リスク３  2021-04-05 15:25:00_370   \n",
       "4153       4    5  13:25    NaN  リスク  リスク３  2021-04-05 13:25:00_691   \n",
       "10293      4    6  07:05    NaN  リスク  リスク３  2021-04-06 07:05:00_322   \n",
       "12029      4    6  14:05    NaN  リスク  リスク３  2021-04-06 14:05:00_101   \n",
       "...      ...  ...    ...    ...  ...   ...                      ...   \n",
       "1760864   10   29  05:50    1.0  リスク  リスク３  2021-10-29 05:50:00_370   \n",
       "1762984   10   29  09:35    1.0  リスク  リスク２  2021-10-29 09:35:00_460   \n",
       "1771203   10   30  12:15    1.0  リスク  リスク３  2021-10-30 12:15:00_370   \n",
       "1773321   10   30  19:10    1.0  リスク  リスク３  2021-10-30 19:10:00_101   \n",
       "1787161   10   31  17:05    1.0  リスク  リスク３  2021-10-31 17:05:00_411   \n",
       "\n",
       "                        tidx               tidx5m  indx  ... 事故up  \\\n",
       "2542       2021-4-5 11:55:00  2021-04-05 11:55:00    98  ...  NaN   \n",
       "2776       2021-4-5 15:25:00  2021-04-05 15:25:00   140  ...  NaN   \n",
       "4153       2021-4-5 13:25:00  2021-04-05 13:25:00   387  ...  NaN   \n",
       "10293      2021-4-6 07:05:00  2021-04-06 07:05:00    96  ...  NaN   \n",
       "12029      2021-4-6 14:05:00  2021-04-06 14:05:00    31  ...  NaN   \n",
       "...                      ...                  ...   ...  ...  ...   \n",
       "1760864  2021-10-29 05:50:00  2021-10-29 05:50:00   140  ...  NaN   \n",
       "1762984  2021-10-29 09:35:00  2021-10-29 09:35:00   547  ...  NaN   \n",
       "1771203  2021-10-30 12:15:00  2021-10-30 12:15:00   140  ...  NaN   \n",
       "1773321  2021-10-30 19:10:00  2021-10-30 19:10:00    31  ...  NaN   \n",
       "1787161  2021-10-31 17:05:00  2021-10-31 17:05:00   526  ...  NaN   \n",
       "\n",
       "                  vsidx2                   dtkei                   dt   区間番号  \\\n",
       "2542        4_5_11:55_98    2021-4-5 11:55:00_20    2021-4-5 11:55:00  150.0   \n",
       "2776       4_5_15:25_140    2021-4-5 15:25:00_21    2021-4-5 15:25:00  281.0   \n",
       "4153       4_5_13:25_387    2021-4-5 13:25:00_23    2021-4-5 13:25:00  201.0   \n",
       "10293       4_6_07:05_96    2021-4-6 07:05:00_19    2021-4-6 07:05:00  155.0   \n",
       "12029       4_6_14:05_31     2021-4-6 14:05:00_3    2021-4-6 14:05:00   47.0   \n",
       "...                  ...                     ...                  ...    ...   \n",
       "1760864  10_29_05:50_140  2021-10-29 05:50:00_21  2021-10-29 05:50:00  241.0   \n",
       "1762984  10_29_09:35_547  2021-10-29 09:35:00_22  2021-10-29 09:35:00  262.0   \n",
       "1771203  10_30_12:15_140  2021-10-30 12:15:00_21  2021-10-30 12:15:00  271.0   \n",
       "1773321   10_30_19:10_31   2021-10-30 19:10:00_3  2021-10-30 19:10:00   36.0   \n",
       "1787161  10_31_17:05_526  2021-10-31 17:05:00_21  2021-10-31 17:05:00  259.0   \n",
       "\n",
       "         JDP番号  系統番号  事故の形態１  acckind acckei  \n",
       "2542     353.0  20.0     その他      0.0      1  \n",
       "2776     441.0  21.0      追突      1.0      1  \n",
       "4153     722.0  23.0     その他      0.0      1  \n",
       "10293    337.0  19.0     その他      0.0      1  \n",
       "12029     96.0   3.0     その他      0.0      1  \n",
       "...        ...   ...     ...      ...    ...  \n",
       "1760864  383.0  21.0    車両接触      2.0      1  \n",
       "1762984  472.0  22.0      追突      1.0      1  \n",
       "1771203  431.0  21.0    車両接触      2.0      1  \n",
       "1773321  106.0   3.0    車両接触      2.0      1  \n",
       "1787161  420.0  21.0    車両接触      2.0      1  \n",
       "\n",
       "[651 rows x 42 columns]"
      ]
     },
     "execution_count": 145,
     "metadata": {},
     "output_type": "execute_result"
    }
   ],
   "source": [
    "dgc[dgc.acckei==1]"
   ]
  },
  {
   "cell_type": "code",
   "execution_count": null,
   "metadata": {},
   "outputs": [],
   "source": [
    "#dgc[dgc.dtkei==\"2021-4-30 19:00:00_75\"]\n",
    "#dgc[dgc.keito==75]"
   ]
  },
  {
   "cell_type": "code",
   "execution_count": 146,
   "metadata": {},
   "outputs": [],
   "source": [
    "dgc2 = dgc.loc[:,[\"vsidx2\",\"acckind\",\"acckei\"]]"
   ]
  },
  {
   "cell_type": "code",
   "execution_count": 147,
   "metadata": {},
   "outputs": [
    {
     "data": {
      "text/html": [
       "<div>\n",
       "<style scoped>\n",
       "    .dataframe tbody tr th:only-of-type {\n",
       "        vertical-align: middle;\n",
       "    }\n",
       "\n",
       "    .dataframe tbody tr th {\n",
       "        vertical-align: top;\n",
       "    }\n",
       "\n",
       "    .dataframe thead th {\n",
       "        text-align: right;\n",
       "    }\n",
       "</style>\n",
       "<table border=\"1\" class=\"dataframe\">\n",
       "  <thead>\n",
       "    <tr style=\"text-align: right;\">\n",
       "      <th></th>\n",
       "      <th>vsidx2</th>\n",
       "      <th>acckind</th>\n",
       "      <th>acckei</th>\n",
       "    </tr>\n",
       "  </thead>\n",
       "  <tbody>\n",
       "    <tr>\n",
       "      <th>0</th>\n",
       "      <td>4_4_00:02_11</td>\n",
       "      <td>NaN</td>\n",
       "      <td>0</td>\n",
       "    </tr>\n",
       "    <tr>\n",
       "      <th>1</th>\n",
       "      <td>4_4_00:03_11</td>\n",
       "      <td>NaN</td>\n",
       "      <td>0</td>\n",
       "    </tr>\n",
       "    <tr>\n",
       "      <th>2</th>\n",
       "      <td>4_4_00:04_11</td>\n",
       "      <td>NaN</td>\n",
       "      <td>0</td>\n",
       "    </tr>\n",
       "    <tr>\n",
       "      <th>3</th>\n",
       "      <td>4_4_00:05_11</td>\n",
       "      <td>NaN</td>\n",
       "      <td>0</td>\n",
       "    </tr>\n",
       "    <tr>\n",
       "      <th>4</th>\n",
       "      <td>4_4_00:07_11</td>\n",
       "      <td>NaN</td>\n",
       "      <td>0</td>\n",
       "    </tr>\n",
       "    <tr>\n",
       "      <th>...</th>\n",
       "      <td>...</td>\n",
       "      <td>...</td>\n",
       "      <td>...</td>\n",
       "    </tr>\n",
       "    <tr>\n",
       "      <th>1787414</th>\n",
       "      <td>10_31_18:31_692</td>\n",
       "      <td>NaN</td>\n",
       "      <td>0</td>\n",
       "    </tr>\n",
       "    <tr>\n",
       "      <th>1787415</th>\n",
       "      <td>10_31_18:32_692</td>\n",
       "      <td>NaN</td>\n",
       "      <td>0</td>\n",
       "    </tr>\n",
       "    <tr>\n",
       "      <th>1787416</th>\n",
       "      <td>10_31_18:33_692</td>\n",
       "      <td>NaN</td>\n",
       "      <td>0</td>\n",
       "    </tr>\n",
       "    <tr>\n",
       "      <th>1787417</th>\n",
       "      <td>10_31_18:34_692</td>\n",
       "      <td>NaN</td>\n",
       "      <td>0</td>\n",
       "    </tr>\n",
       "    <tr>\n",
       "      <th>1787418</th>\n",
       "      <td>10_31_18:35_692</td>\n",
       "      <td>NaN</td>\n",
       "      <td>0</td>\n",
       "    </tr>\n",
       "  </tbody>\n",
       "</table>\n",
       "<p>1787419 rows × 3 columns</p>\n",
       "</div>"
      ],
      "text/plain": [
       "                  vsidx2  acckind  acckei\n",
       "0           4_4_00:02_11      NaN       0\n",
       "1           4_4_00:03_11      NaN       0\n",
       "2           4_4_00:04_11      NaN       0\n",
       "3           4_4_00:05_11      NaN       0\n",
       "4           4_4_00:07_11      NaN       0\n",
       "...                  ...      ...     ...\n",
       "1787414  10_31_18:31_692      NaN       0\n",
       "1787415  10_31_18:32_692      NaN       0\n",
       "1787416  10_31_18:33_692      NaN       0\n",
       "1787417  10_31_18:34_692      NaN       0\n",
       "1787418  10_31_18:35_692      NaN       0\n",
       "\n",
       "[1787419 rows x 3 columns]"
      ]
     },
     "execution_count": 147,
     "metadata": {},
     "output_type": "execute_result"
    }
   ],
   "source": [
    "dgc2"
   ]
  },
  {
   "cell_type": "code",
   "execution_count": 148,
   "metadata": {},
   "outputs": [],
   "source": [
    "dk = pd.merge(d,dgc2, on=\"vsidx2\", how=\"left\")"
   ]
  },
  {
   "cell_type": "code",
   "execution_count": 149,
   "metadata": {},
   "outputs": [],
   "source": [
    "dk.loc[dk.acckei!=1,\"acckei\"]=0"
   ]
  },
  {
   "cell_type": "code",
   "execution_count": 150,
   "metadata": {},
   "outputs": [],
   "source": [
    "dk[\"tsui\"]=0\n",
    "dk[\"car\"]=0\n",
    "dk[\"sise\"]=0\n",
    "dk[\"sonota\"]=0"
   ]
  },
  {
   "cell_type": "code",
   "execution_count": 151,
   "metadata": {},
   "outputs": [
    {
     "data": {
      "text/html": [
       "<div>\n",
       "<style scoped>\n",
       "    .dataframe tbody tr th:only-of-type {\n",
       "        vertical-align: middle;\n",
       "    }\n",
       "\n",
       "    .dataframe tbody tr th {\n",
       "        vertical-align: top;\n",
       "    }\n",
       "\n",
       "    .dataframe thead th {\n",
       "        text-align: right;\n",
       "    }\n",
       "</style>\n",
       "<table border=\"1\" class=\"dataframe\">\n",
       "  <thead>\n",
       "    <tr style=\"text-align: right;\">\n",
       "      <th></th>\n",
       "      <th>記録月</th>\n",
       "      <th>記録日</th>\n",
       "      <th>記録時刻</th>\n",
       "      <th>提供フラグ</th>\n",
       "      <th>原因</th>\n",
       "      <th>程度</th>\n",
       "      <th>idx</th>\n",
       "      <th>tidx</th>\n",
       "      <th>tidx5m</th>\n",
       "      <th>indx</th>\n",
       "      <th>...</th>\n",
       "      <th>渋滞up</th>\n",
       "      <th>事故up</th>\n",
       "      <th>vsidx2</th>\n",
       "      <th>dtkei</th>\n",
       "      <th>acckind</th>\n",
       "      <th>acckei</th>\n",
       "      <th>tsui</th>\n",
       "      <th>car</th>\n",
       "      <th>sise</th>\n",
       "      <th>sonota</th>\n",
       "    </tr>\n",
       "  </thead>\n",
       "  <tbody>\n",
       "    <tr>\n",
       "      <th>8924</th>\n",
       "      <td>4</td>\n",
       "      <td>5</td>\n",
       "      <td>15:25</td>\n",
       "      <td>NaN</td>\n",
       "      <td>リスク</td>\n",
       "      <td>リスク３</td>\n",
       "      <td>2021-04-05 15:25:00_370</td>\n",
       "      <td>2021-4-5 15:25:00</td>\n",
       "      <td>2021-04-05 15:25:00</td>\n",
       "      <td>140</td>\n",
       "      <td>...</td>\n",
       "      <td>NaN</td>\n",
       "      <td>NaN</td>\n",
       "      <td>4_5_15:25_140</td>\n",
       "      <td>2021-4-5 15:25:00_21</td>\n",
       "      <td>1.0</td>\n",
       "      <td>1.0</td>\n",
       "      <td>0</td>\n",
       "      <td>0</td>\n",
       "      <td>0</td>\n",
       "      <td>0</td>\n",
       "    </tr>\n",
       "    <tr>\n",
       "      <th>93624</th>\n",
       "      <td>4</td>\n",
       "      <td>7</td>\n",
       "      <td>16:50</td>\n",
       "      <td>NaN</td>\n",
       "      <td>リスク</td>\n",
       "      <td>リスク３</td>\n",
       "      <td>2021-04-07 16:50:00_101</td>\n",
       "      <td>2021-4-7 16:50:00</td>\n",
       "      <td>2021-04-07 16:50:00</td>\n",
       "      <td>31</td>\n",
       "      <td>...</td>\n",
       "      <td>NaN</td>\n",
       "      <td>NaN</td>\n",
       "      <td>4_7_16:50_31</td>\n",
       "      <td>2021-4-7 16:50:00_3</td>\n",
       "      <td>1.0</td>\n",
       "      <td>1.0</td>\n",
       "      <td>0</td>\n",
       "      <td>0</td>\n",
       "      <td>0</td>\n",
       "      <td>0</td>\n",
       "    </tr>\n",
       "    <tr>\n",
       "      <th>180552</th>\n",
       "      <td>4</td>\n",
       "      <td>9</td>\n",
       "      <td>10:55</td>\n",
       "      <td>NaN</td>\n",
       "      <td>リスク</td>\n",
       "      <td>リスク３</td>\n",
       "      <td>2021-04-09 10:55:00_322</td>\n",
       "      <td>2021-4-9 10:55:00</td>\n",
       "      <td>2021-04-09 10:55:00</td>\n",
       "      <td>96</td>\n",
       "      <td>...</td>\n",
       "      <td>NaN</td>\n",
       "      <td>NaN</td>\n",
       "      <td>4_9_10:55_96</td>\n",
       "      <td>2021-4-9 10:55:00_19</td>\n",
       "      <td>1.0</td>\n",
       "      <td>1.0</td>\n",
       "      <td>0</td>\n",
       "      <td>0</td>\n",
       "      <td>0</td>\n",
       "      <td>0</td>\n",
       "    </tr>\n",
       "    <tr>\n",
       "      <th>182278</th>\n",
       "      <td>4</td>\n",
       "      <td>9</td>\n",
       "      <td>14:40</td>\n",
       "      <td>NaN</td>\n",
       "      <td>リスク</td>\n",
       "      <td>リスク３</td>\n",
       "      <td>2021-04-09 14:40:00_567</td>\n",
       "      <td>2021-4-9 14:40:00</td>\n",
       "      <td>2021-04-09 14:40:00</td>\n",
       "      <td>192</td>\n",
       "      <td>...</td>\n",
       "      <td>NaN</td>\n",
       "      <td>NaN</td>\n",
       "      <td>4_9_14:40_192</td>\n",
       "      <td>2021-4-9 14:40:00_18</td>\n",
       "      <td>1.0</td>\n",
       "      <td>1.0</td>\n",
       "      <td>0</td>\n",
       "      <td>0</td>\n",
       "      <td>0</td>\n",
       "      <td>0</td>\n",
       "    </tr>\n",
       "    <tr>\n",
       "      <th>189427</th>\n",
       "      <td>4</td>\n",
       "      <td>9</td>\n",
       "      <td>15:30</td>\n",
       "      <td>1.0</td>\n",
       "      <td>リスク</td>\n",
       "      <td>リスク３</td>\n",
       "      <td>2021-04-09 15:30:00_411</td>\n",
       "      <td>2021-4-9 15:30:00</td>\n",
       "      <td>2021-04-09 15:30:00</td>\n",
       "      <td>526</td>\n",
       "      <td>...</td>\n",
       "      <td>NaN</td>\n",
       "      <td>NaN</td>\n",
       "      <td>4_9_15:30_526</td>\n",
       "      <td>2021-4-9 15:30:00_21</td>\n",
       "      <td>1.0</td>\n",
       "      <td>1.0</td>\n",
       "      <td>0</td>\n",
       "      <td>0</td>\n",
       "      <td>0</td>\n",
       "      <td>0</td>\n",
       "    </tr>\n",
       "    <tr>\n",
       "      <th>...</th>\n",
       "      <td>...</td>\n",
       "      <td>...</td>\n",
       "      <td>...</td>\n",
       "      <td>...</td>\n",
       "      <td>...</td>\n",
       "      <td>...</td>\n",
       "      <td>...</td>\n",
       "      <td>...</td>\n",
       "      <td>...</td>\n",
       "      <td>...</td>\n",
       "      <td>...</td>\n",
       "      <td>...</td>\n",
       "      <td>...</td>\n",
       "      <td>...</td>\n",
       "      <td>...</td>\n",
       "      <td>...</td>\n",
       "      <td>...</td>\n",
       "      <td>...</td>\n",
       "      <td>...</td>\n",
       "      <td>...</td>\n",
       "      <td>...</td>\n",
       "    </tr>\n",
       "    <tr>\n",
       "      <th>8294451</th>\n",
       "      <td>10</td>\n",
       "      <td>28</td>\n",
       "      <td>16:25</td>\n",
       "      <td>1.0</td>\n",
       "      <td>リスク</td>\n",
       "      <td>リスク３</td>\n",
       "      <td>2021-10-28 16:25:00_98</td>\n",
       "      <td>2021-10-28 16:25:00</td>\n",
       "      <td>2021-10-28 16:25:00</td>\n",
       "      <td>33</td>\n",
       "      <td>...</td>\n",
       "      <td>NaN</td>\n",
       "      <td>NaN</td>\n",
       "      <td>10_28_16:25_33</td>\n",
       "      <td>2021-10-28 16:25:00_3</td>\n",
       "      <td>1.0</td>\n",
       "      <td>1.0</td>\n",
       "      <td>0</td>\n",
       "      <td>0</td>\n",
       "      <td>0</td>\n",
       "      <td>0</td>\n",
       "    </tr>\n",
       "    <tr>\n",
       "      <th>8300840</th>\n",
       "      <td>10</td>\n",
       "      <td>28</td>\n",
       "      <td>16:50</td>\n",
       "      <td>1.0</td>\n",
       "      <td>リスク</td>\n",
       "      <td>リスク２</td>\n",
       "      <td>2021-10-28 16:50:00_460</td>\n",
       "      <td>2021-10-28 16:50:00</td>\n",
       "      <td>2021-10-28 16:50:00</td>\n",
       "      <td>547</td>\n",
       "      <td>...</td>\n",
       "      <td>NaN</td>\n",
       "      <td>NaN</td>\n",
       "      <td>10_28_16:50_547</td>\n",
       "      <td>2021-10-28 16:50:00_22</td>\n",
       "      <td>1.0</td>\n",
       "      <td>1.0</td>\n",
       "      <td>0</td>\n",
       "      <td>0</td>\n",
       "      <td>0</td>\n",
       "      <td>0</td>\n",
       "    </tr>\n",
       "    <tr>\n",
       "      <th>8300875</th>\n",
       "      <td>10</td>\n",
       "      <td>28</td>\n",
       "      <td>12:25</td>\n",
       "      <td>1.0</td>\n",
       "      <td>リスク</td>\n",
       "      <td>リスク２</td>\n",
       "      <td>2021-10-28 12:25:00_451</td>\n",
       "      <td>2021-10-28 12:25:00</td>\n",
       "      <td>2021-10-28 12:25:00</td>\n",
       "      <td>553</td>\n",
       "      <td>...</td>\n",
       "      <td>2.0</td>\n",
       "      <td>NaN</td>\n",
       "      <td>10_28_12:25_553</td>\n",
       "      <td>2021-10-28 12:25:00_22</td>\n",
       "      <td>1.0</td>\n",
       "      <td>1.0</td>\n",
       "      <td>0</td>\n",
       "      <td>0</td>\n",
       "      <td>0</td>\n",
       "      <td>0</td>\n",
       "    </tr>\n",
       "    <tr>\n",
       "      <th>8323225</th>\n",
       "      <td>10</td>\n",
       "      <td>29</td>\n",
       "      <td>04:35</td>\n",
       "      <td>1.0</td>\n",
       "      <td>リスク</td>\n",
       "      <td>リスク２</td>\n",
       "      <td>2021-10-29 04:35:00_370</td>\n",
       "      <td>2021-10-29 04:35:00</td>\n",
       "      <td>2021-10-29 04:35:00</td>\n",
       "      <td>140</td>\n",
       "      <td>...</td>\n",
       "      <td>NaN</td>\n",
       "      <td>NaN</td>\n",
       "      <td>10_29_04:35_140</td>\n",
       "      <td>2021-10-29 04:35:00_21</td>\n",
       "      <td>1.0</td>\n",
       "      <td>1.0</td>\n",
       "      <td>0</td>\n",
       "      <td>0</td>\n",
       "      <td>0</td>\n",
       "      <td>0</td>\n",
       "    </tr>\n",
       "    <tr>\n",
       "      <th>8335413</th>\n",
       "      <td>10</td>\n",
       "      <td>29</td>\n",
       "      <td>09:35</td>\n",
       "      <td>1.0</td>\n",
       "      <td>リスク</td>\n",
       "      <td>リスク２</td>\n",
       "      <td>2021-10-29 09:35:00_460</td>\n",
       "      <td>2021-10-29 09:35:00</td>\n",
       "      <td>2021-10-29 09:35:00</td>\n",
       "      <td>547</td>\n",
       "      <td>...</td>\n",
       "      <td>NaN</td>\n",
       "      <td>NaN</td>\n",
       "      <td>10_29_09:35_547</td>\n",
       "      <td>2021-10-29 09:35:00_22</td>\n",
       "      <td>1.0</td>\n",
       "      <td>1.0</td>\n",
       "      <td>0</td>\n",
       "      <td>0</td>\n",
       "      <td>0</td>\n",
       "      <td>0</td>\n",
       "    </tr>\n",
       "  </tbody>\n",
       "</table>\n",
       "<p>206 rows × 41 columns</p>\n",
       "</div>"
      ],
      "text/plain": [
       "         記録月  記録日   記録時刻  提供フラグ   原因    程度                      idx  \\\n",
       "8924       4    5  15:25    NaN  リスク  リスク３  2021-04-05 15:25:00_370   \n",
       "93624      4    7  16:50    NaN  リスク  リスク３  2021-04-07 16:50:00_101   \n",
       "180552     4    9  10:55    NaN  リスク  リスク３  2021-04-09 10:55:00_322   \n",
       "182278     4    9  14:40    NaN  リスク  リスク３  2021-04-09 14:40:00_567   \n",
       "189427     4    9  15:30    1.0  リスク  リスク３  2021-04-09 15:30:00_411   \n",
       "...      ...  ...    ...    ...  ...   ...                      ...   \n",
       "8294451   10   28  16:25    1.0  リスク  リスク３   2021-10-28 16:25:00_98   \n",
       "8300840   10   28  16:50    1.0  リスク  リスク２  2021-10-28 16:50:00_460   \n",
       "8300875   10   28  12:25    1.0  リスク  リスク２  2021-10-28 12:25:00_451   \n",
       "8323225   10   29  04:35    1.0  リスク  リスク２  2021-10-29 04:35:00_370   \n",
       "8335413   10   29  09:35    1.0  リスク  リスク２  2021-10-29 09:35:00_460   \n",
       "\n",
       "                        tidx               tidx5m  indx  ... 渋滞up  事故up  \\\n",
       "8924       2021-4-5 15:25:00  2021-04-05 15:25:00   140  ...  NaN   NaN   \n",
       "93624      2021-4-7 16:50:00  2021-04-07 16:50:00    31  ...  NaN   NaN   \n",
       "180552     2021-4-9 10:55:00  2021-04-09 10:55:00    96  ...  NaN   NaN   \n",
       "182278     2021-4-9 14:40:00  2021-04-09 14:40:00   192  ...  NaN   NaN   \n",
       "189427     2021-4-9 15:30:00  2021-04-09 15:30:00   526  ...  NaN   NaN   \n",
       "...                      ...                  ...   ...  ...  ...   ...   \n",
       "8294451  2021-10-28 16:25:00  2021-10-28 16:25:00    33  ...  NaN   NaN   \n",
       "8300840  2021-10-28 16:50:00  2021-10-28 16:50:00   547  ...  NaN   NaN   \n",
       "8300875  2021-10-28 12:25:00  2021-10-28 12:25:00   553  ...  2.0   NaN   \n",
       "8323225  2021-10-29 04:35:00  2021-10-29 04:35:00   140  ...  NaN   NaN   \n",
       "8335413  2021-10-29 09:35:00  2021-10-29 09:35:00   547  ...  NaN   NaN   \n",
       "\n",
       "                  vsidx2                   dtkei  acckind  acckei  tsui  car  \\\n",
       "8924       4_5_15:25_140    2021-4-5 15:25:00_21      1.0     1.0     0    0   \n",
       "93624       4_7_16:50_31     2021-4-7 16:50:00_3      1.0     1.0     0    0   \n",
       "180552      4_9_10:55_96    2021-4-9 10:55:00_19      1.0     1.0     0    0   \n",
       "182278     4_9_14:40_192    2021-4-9 14:40:00_18      1.0     1.0     0    0   \n",
       "189427     4_9_15:30_526    2021-4-9 15:30:00_21      1.0     1.0     0    0   \n",
       "...                  ...                     ...      ...     ...   ...  ...   \n",
       "8294451   10_28_16:25_33   2021-10-28 16:25:00_3      1.0     1.0     0    0   \n",
       "8300840  10_28_16:50_547  2021-10-28 16:50:00_22      1.0     1.0     0    0   \n",
       "8300875  10_28_12:25_553  2021-10-28 12:25:00_22      1.0     1.0     0    0   \n",
       "8323225  10_29_04:35_140  2021-10-29 04:35:00_21      1.0     1.0     0    0   \n",
       "8335413  10_29_09:35_547  2021-10-29 09:35:00_22      1.0     1.0     0    0   \n",
       "\n",
       "         sise sonota  \n",
       "8924        0      0  \n",
       "93624       0      0  \n",
       "180552      0      0  \n",
       "182278      0      0  \n",
       "189427      0      0  \n",
       "...       ...    ...  \n",
       "8294451     0      0  \n",
       "8300840     0      0  \n",
       "8300875     0      0  \n",
       "8323225     0      0  \n",
       "8335413     0      0  \n",
       "\n",
       "[206 rows x 41 columns]"
      ]
     },
     "execution_count": 151,
     "metadata": {},
     "output_type": "execute_result"
    }
   ],
   "source": [
    "dk[dk.acckind==1]"
   ]
  },
  {
   "cell_type": "code",
   "execution_count": 152,
   "metadata": {},
   "outputs": [],
   "source": [
    "dk.loc[dk.acckind==1,\"tsui\"]=1\n",
    "dk.loc[dk.acckind==2,\"car\"]=1\n",
    "dk.loc[dk.acckind==3,\"sise\"]=1\n",
    "dk.loc[dk.acckind==0,\"sonota\"]=1"
   ]
  },
  {
   "cell_type": "code",
   "execution_count": 153,
   "metadata": {},
   "outputs": [],
   "source": [
    "df = pd.DataFrame(dk.groupby([\"keito\"])[\"acckei\"].sum())"
   ]
  },
  {
   "cell_type": "code",
   "execution_count": 154,
   "metadata": {},
   "outputs": [],
   "source": [
    "df[\"keito\"]=df.index"
   ]
  },
  {
   "cell_type": "code",
   "execution_count": 155,
   "metadata": {},
   "outputs": [],
   "source": [
    "df[\"tsui\"]=dk.groupby([\"keito\"])[\"tsui\"].sum()\n",
    "df[\"car\"]=dk.groupby([\"keito\"])[\"car\"].sum()\n",
    "df[\"sise\"]=dk.groupby([\"keito\"])[\"sise\"].sum()\n",
    "df[\"sonota\"]=dk.groupby([\"keito\"])[\"sonota\"].sum()"
   ]
  },
  {
   "cell_type": "code",
   "execution_count": 133,
   "metadata": {},
   "outputs": [],
   "source": [
    "#df[\"sonota\"]=df.acckei-df.tsui-df.car-df.sise"
   ]
  },
  {
   "cell_type": "code",
   "execution_count": 156,
   "metadata": {},
   "outputs": [
    {
     "data": {
      "text/html": [
       "<div>\n",
       "<style scoped>\n",
       "    .dataframe tbody tr th:only-of-type {\n",
       "        vertical-align: middle;\n",
       "    }\n",
       "\n",
       "    .dataframe tbody tr th {\n",
       "        vertical-align: top;\n",
       "    }\n",
       "\n",
       "    .dataframe thead th {\n",
       "        text-align: right;\n",
       "    }\n",
       "</style>\n",
       "<table border=\"1\" class=\"dataframe\">\n",
       "  <thead>\n",
       "    <tr style=\"text-align: right;\">\n",
       "      <th></th>\n",
       "      <th>acckei</th>\n",
       "      <th>keito</th>\n",
       "      <th>tsui</th>\n",
       "      <th>car</th>\n",
       "      <th>sise</th>\n",
       "      <th>sonota</th>\n",
       "    </tr>\n",
       "    <tr>\n",
       "      <th>keito</th>\n",
       "      <th></th>\n",
       "      <th></th>\n",
       "      <th></th>\n",
       "      <th></th>\n",
       "      <th></th>\n",
       "      <th></th>\n",
       "    </tr>\n",
       "  </thead>\n",
       "  <tbody>\n",
       "    <tr>\n",
       "      <th>1.0</th>\n",
       "      <td>48.0</td>\n",
       "      <td>1.0</td>\n",
       "      <td>24</td>\n",
       "      <td>7</td>\n",
       "      <td>11</td>\n",
       "      <td>6</td>\n",
       "    </tr>\n",
       "    <tr>\n",
       "      <th>2.0</th>\n",
       "      <td>17.0</td>\n",
       "      <td>2.0</td>\n",
       "      <td>7</td>\n",
       "      <td>3</td>\n",
       "      <td>4</td>\n",
       "      <td>3</td>\n",
       "    </tr>\n",
       "    <tr>\n",
       "      <th>3.0</th>\n",
       "      <td>104.0</td>\n",
       "      <td>3.0</td>\n",
       "      <td>20</td>\n",
       "      <td>69</td>\n",
       "      <td>9</td>\n",
       "      <td>6</td>\n",
       "    </tr>\n",
       "    <tr>\n",
       "      <th>4.0</th>\n",
       "      <td>7.0</td>\n",
       "      <td>4.0</td>\n",
       "      <td>2</td>\n",
       "      <td>2</td>\n",
       "      <td>3</td>\n",
       "      <td>0</td>\n",
       "    </tr>\n",
       "    <tr>\n",
       "      <th>5.0</th>\n",
       "      <td>0.0</td>\n",
       "      <td>5.0</td>\n",
       "      <td>0</td>\n",
       "      <td>0</td>\n",
       "      <td>0</td>\n",
       "      <td>0</td>\n",
       "    </tr>\n",
       "    <tr>\n",
       "      <th>8.0</th>\n",
       "      <td>2.0</td>\n",
       "      <td>8.0</td>\n",
       "      <td>1</td>\n",
       "      <td>0</td>\n",
       "      <td>1</td>\n",
       "      <td>0</td>\n",
       "    </tr>\n",
       "    <tr>\n",
       "      <th>9.0</th>\n",
       "      <td>15.0</td>\n",
       "      <td>9.0</td>\n",
       "      <td>5</td>\n",
       "      <td>3</td>\n",
       "      <td>3</td>\n",
       "      <td>4</td>\n",
       "    </tr>\n",
       "    <tr>\n",
       "      <th>10.0</th>\n",
       "      <td>0.0</td>\n",
       "      <td>10.0</td>\n",
       "      <td>0</td>\n",
       "      <td>0</td>\n",
       "      <td>0</td>\n",
       "      <td>0</td>\n",
       "    </tr>\n",
       "    <tr>\n",
       "      <th>11.0</th>\n",
       "      <td>0.0</td>\n",
       "      <td>11.0</td>\n",
       "      <td>0</td>\n",
       "      <td>0</td>\n",
       "      <td>0</td>\n",
       "      <td>0</td>\n",
       "    </tr>\n",
       "    <tr>\n",
       "      <th>13.0</th>\n",
       "      <td>15.0</td>\n",
       "      <td>13.0</td>\n",
       "      <td>4</td>\n",
       "      <td>3</td>\n",
       "      <td>4</td>\n",
       "      <td>4</td>\n",
       "    </tr>\n",
       "    <tr>\n",
       "      <th>14.0</th>\n",
       "      <td>2.0</td>\n",
       "      <td>14.0</td>\n",
       "      <td>0</td>\n",
       "      <td>1</td>\n",
       "      <td>1</td>\n",
       "      <td>0</td>\n",
       "    </tr>\n",
       "    <tr>\n",
       "      <th>17.0</th>\n",
       "      <td>28.0</td>\n",
       "      <td>17.0</td>\n",
       "      <td>6</td>\n",
       "      <td>11</td>\n",
       "      <td>6</td>\n",
       "      <td>5</td>\n",
       "    </tr>\n",
       "    <tr>\n",
       "      <th>18.0</th>\n",
       "      <td>16.0</td>\n",
       "      <td>18.0</td>\n",
       "      <td>2</td>\n",
       "      <td>10</td>\n",
       "      <td>3</td>\n",
       "      <td>1</td>\n",
       "    </tr>\n",
       "    <tr>\n",
       "      <th>19.0</th>\n",
       "      <td>23.0</td>\n",
       "      <td>19.0</td>\n",
       "      <td>7</td>\n",
       "      <td>5</td>\n",
       "      <td>6</td>\n",
       "      <td>5</td>\n",
       "    </tr>\n",
       "    <tr>\n",
       "      <th>20.0</th>\n",
       "      <td>13.0</td>\n",
       "      <td>20.0</td>\n",
       "      <td>2</td>\n",
       "      <td>6</td>\n",
       "      <td>2</td>\n",
       "      <td>3</td>\n",
       "    </tr>\n",
       "    <tr>\n",
       "      <th>21.0</th>\n",
       "      <td>105.0</td>\n",
       "      <td>21.0</td>\n",
       "      <td>40</td>\n",
       "      <td>35</td>\n",
       "      <td>13</td>\n",
       "      <td>17</td>\n",
       "    </tr>\n",
       "    <tr>\n",
       "      <th>22.0</th>\n",
       "      <td>160.0</td>\n",
       "      <td>22.0</td>\n",
       "      <td>76</td>\n",
       "      <td>46</td>\n",
       "      <td>16</td>\n",
       "      <td>22</td>\n",
       "    </tr>\n",
       "    <tr>\n",
       "      <th>23.0</th>\n",
       "      <td>34.0</td>\n",
       "      <td>23.0</td>\n",
       "      <td>2</td>\n",
       "      <td>10</td>\n",
       "      <td>7</td>\n",
       "      <td>15</td>\n",
       "    </tr>\n",
       "    <tr>\n",
       "      <th>24.0</th>\n",
       "      <td>33.0</td>\n",
       "      <td>24.0</td>\n",
       "      <td>3</td>\n",
       "      <td>13</td>\n",
       "      <td>3</td>\n",
       "      <td>14</td>\n",
       "    </tr>\n",
       "    <tr>\n",
       "      <th>33.0</th>\n",
       "      <td>0.0</td>\n",
       "      <td>33.0</td>\n",
       "      <td>0</td>\n",
       "      <td>0</td>\n",
       "      <td>0</td>\n",
       "      <td>0</td>\n",
       "    </tr>\n",
       "    <tr>\n",
       "      <th>34.0</th>\n",
       "      <td>1.0</td>\n",
       "      <td>34.0</td>\n",
       "      <td>1</td>\n",
       "      <td>0</td>\n",
       "      <td>0</td>\n",
       "      <td>0</td>\n",
       "    </tr>\n",
       "    <tr>\n",
       "      <th>39.0</th>\n",
       "      <td>11.0</td>\n",
       "      <td>39.0</td>\n",
       "      <td>1</td>\n",
       "      <td>3</td>\n",
       "      <td>1</td>\n",
       "      <td>6</td>\n",
       "    </tr>\n",
       "    <tr>\n",
       "      <th>40.0</th>\n",
       "      <td>14.0</td>\n",
       "      <td>40.0</td>\n",
       "      <td>2</td>\n",
       "      <td>4</td>\n",
       "      <td>3</td>\n",
       "      <td>5</td>\n",
       "    </tr>\n",
       "    <tr>\n",
       "      <th>49.0</th>\n",
       "      <td>0.0</td>\n",
       "      <td>49.0</td>\n",
       "      <td>0</td>\n",
       "      <td>0</td>\n",
       "      <td>0</td>\n",
       "      <td>0</td>\n",
       "    </tr>\n",
       "    <tr>\n",
       "      <th>50.0</th>\n",
       "      <td>0.0</td>\n",
       "      <td>50.0</td>\n",
       "      <td>0</td>\n",
       "      <td>0</td>\n",
       "      <td>0</td>\n",
       "      <td>0</td>\n",
       "    </tr>\n",
       "    <tr>\n",
       "      <th>61.0</th>\n",
       "      <td>1.0</td>\n",
       "      <td>61.0</td>\n",
       "      <td>0</td>\n",
       "      <td>1</td>\n",
       "      <td>0</td>\n",
       "      <td>0</td>\n",
       "    </tr>\n",
       "    <tr>\n",
       "      <th>62.0</th>\n",
       "      <td>0.0</td>\n",
       "      <td>62.0</td>\n",
       "      <td>0</td>\n",
       "      <td>0</td>\n",
       "      <td>0</td>\n",
       "      <td>0</td>\n",
       "    </tr>\n",
       "    <tr>\n",
       "      <th>73.0</th>\n",
       "      <td>1.0</td>\n",
       "      <td>73.0</td>\n",
       "      <td>1</td>\n",
       "      <td>0</td>\n",
       "      <td>0</td>\n",
       "      <td>0</td>\n",
       "    </tr>\n",
       "    <tr>\n",
       "      <th>74.0</th>\n",
       "      <td>0.0</td>\n",
       "      <td>74.0</td>\n",
       "      <td>0</td>\n",
       "      <td>0</td>\n",
       "      <td>0</td>\n",
       "      <td>0</td>\n",
       "    </tr>\n",
       "    <tr>\n",
       "      <th>75.0</th>\n",
       "      <td>0.0</td>\n",
       "      <td>75.0</td>\n",
       "      <td>0</td>\n",
       "      <td>0</td>\n",
       "      <td>0</td>\n",
       "      <td>0</td>\n",
       "    </tr>\n",
       "    <tr>\n",
       "      <th>76.0</th>\n",
       "      <td>0.0</td>\n",
       "      <td>76.0</td>\n",
       "      <td>0</td>\n",
       "      <td>0</td>\n",
       "      <td>0</td>\n",
       "      <td>0</td>\n",
       "    </tr>\n",
       "    <tr>\n",
       "      <th>80.0</th>\n",
       "      <td>1.0</td>\n",
       "      <td>80.0</td>\n",
       "      <td>0</td>\n",
       "      <td>0</td>\n",
       "      <td>1</td>\n",
       "      <td>0</td>\n",
       "    </tr>\n",
       "  </tbody>\n",
       "</table>\n",
       "</div>"
      ],
      "text/plain": [
       "       acckei  keito  tsui  car  sise  sonota\n",
       "keito                                        \n",
       "1.0      48.0    1.0    24    7    11       6\n",
       "2.0      17.0    2.0     7    3     4       3\n",
       "3.0     104.0    3.0    20   69     9       6\n",
       "4.0       7.0    4.0     2    2     3       0\n",
       "5.0       0.0    5.0     0    0     0       0\n",
       "8.0       2.0    8.0     1    0     1       0\n",
       "9.0      15.0    9.0     5    3     3       4\n",
       "10.0      0.0   10.0     0    0     0       0\n",
       "11.0      0.0   11.0     0    0     0       0\n",
       "13.0     15.0   13.0     4    3     4       4\n",
       "14.0      2.0   14.0     0    1     1       0\n",
       "17.0     28.0   17.0     6   11     6       5\n",
       "18.0     16.0   18.0     2   10     3       1\n",
       "19.0     23.0   19.0     7    5     6       5\n",
       "20.0     13.0   20.0     2    6     2       3\n",
       "21.0    105.0   21.0    40   35    13      17\n",
       "22.0    160.0   22.0    76   46    16      22\n",
       "23.0     34.0   23.0     2   10     7      15\n",
       "24.0     33.0   24.0     3   13     3      14\n",
       "33.0      0.0   33.0     0    0     0       0\n",
       "34.0      1.0   34.0     1    0     0       0\n",
       "39.0     11.0   39.0     1    3     1       6\n",
       "40.0     14.0   40.0     2    4     3       5\n",
       "49.0      0.0   49.0     0    0     0       0\n",
       "50.0      0.0   50.0     0    0     0       0\n",
       "61.0      1.0   61.0     0    1     0       0\n",
       "62.0      0.0   62.0     0    0     0       0\n",
       "73.0      1.0   73.0     1    0     0       0\n",
       "74.0      0.0   74.0     0    0     0       0\n",
       "75.0      0.0   75.0     0    0     0       0\n",
       "76.0      0.0   76.0     0    0     0       0\n",
       "80.0      1.0   80.0     0    0     1       0"
      ]
     },
     "execution_count": 156,
     "metadata": {},
     "output_type": "execute_result"
    }
   ],
   "source": [
    "df"
   ]
  },
  {
   "cell_type": "code",
   "execution_count": 157,
   "metadata": {},
   "outputs": [],
   "source": [
    "df.to_csv(\"D:/ahn_pc/workfile/2021/阪神事故リスク/acckeito_yokyu_all.csv\", index = False, encoding=\"shift_jis\")\n",
    "#df.to_csv(\"D:/ahn_pc/workfile/2021/阪神事故リスク/acckeito_teikyo_all.csv\", index = False, encoding=\"shift_jis\")"
   ]
  },
  {
   "cell_type": "code",
   "execution_count": null,
   "metadata": {},
   "outputs": [],
   "source": []
  },
  {
   "cell_type": "code",
   "execution_count": null,
   "metadata": {},
   "outputs": [],
   "source": []
  },
  {
   "cell_type": "code",
   "execution_count": null,
   "metadata": {},
   "outputs": [],
   "source": []
  },
  {
   "cell_type": "code",
   "execution_count": null,
   "metadata": {},
   "outputs": [],
   "source": []
  },
  {
   "cell_type": "code",
   "execution_count": null,
   "metadata": {},
   "outputs": [],
   "source": []
  },
  {
   "cell_type": "code",
   "execution_count": null,
   "metadata": {},
   "outputs": [],
   "source": []
  },
  {
   "cell_type": "code",
   "execution_count": null,
   "metadata": {},
   "outputs": [],
   "source": []
  },
  {
   "cell_type": "code",
   "execution_count": null,
   "metadata": {},
   "outputs": [],
   "source": [
    "d[\"idx5m\"]=d.tidx5m+\"_\"+d.indx.astype(str)"
   ]
  },
  {
   "cell_type": "code",
   "execution_count": null,
   "metadata": {},
   "outputs": [],
   "source": [
    "cnt5m = pd.DataFrame(d.groupby(\"idx5m\").count().loc[:,\"記録日\"])"
   ]
  },
  {
   "cell_type": "code",
   "execution_count": null,
   "metadata": {},
   "outputs": [],
   "source": [
    "cnt5m[\"cnt5m\"]=cnt5m.記録日"
   ]
  },
  {
   "cell_type": "code",
   "execution_count": null,
   "metadata": {},
   "outputs": [],
   "source": [
    "del cnt5m[\"記録日\"]"
   ]
  },
  {
   "cell_type": "code",
   "execution_count": null,
   "metadata": {},
   "outputs": [],
   "source": [
    "cnt5m = cnt5m.reset_index()"
   ]
  },
  {
   "cell_type": "code",
   "execution_count": null,
   "metadata": {},
   "outputs": [],
   "source": [
    "dm = pd.merge(d,cnt5m, on=\"idx5m\", how=\"left\")"
   ]
  },
  {
   "cell_type": "code",
   "execution_count": null,
   "metadata": {},
   "outputs": [],
   "source": [
    "dm[\"事故5m\"]=dm.事故/dm.cnt5m\n",
    "dm[\"速度5m\"]=dm.速度/dm.cnt5m\n",
    "dm[\"交通量5m\"]=dm.交通量/dm.cnt5m\n",
    "dm[\"事故u5m\"]=dm.事故up/dm.cnt5m\n",
    "dm[\"速度u5m\"]=dm.速度up/dm.cnt5m\n",
    "dm[\"交通量u5m\"]=dm.交通量up/dm.cnt5m"
   ]
  },
  {
   "cell_type": "code",
   "execution_count": null,
   "metadata": {},
   "outputs": [],
   "source": [
    "d2=dm[~pd.isna(dm.時間帯)]"
   ]
  },
  {
   "cell_type": "code",
   "execution_count": null,
   "metadata": {},
   "outputs": [],
   "source": [
    "d2.shape[0]"
   ]
  },
  {
   "cell_type": "code",
   "execution_count": null,
   "metadata": {},
   "outputs": [],
   "source": [
    "d2[d2.渋滞==0]"
   ]
  },
  {
   "cell_type": "code",
   "execution_count": null,
   "metadata": {},
   "outputs": [],
   "source": [
    "d2.gen"
   ]
  },
  {
   "cell_type": "code",
   "execution_count": null,
   "metadata": {},
   "outputs": [],
   "source": []
  },
  {
   "cell_type": "code",
   "execution_count": null,
   "metadata": {},
   "outputs": [],
   "source": []
  },
  {
   "cell_type": "code",
   "execution_count": null,
   "metadata": {},
   "outputs": [],
   "source": []
  },
  {
   "cell_type": "code",
   "execution_count": null,
   "metadata": {},
   "outputs": [],
   "source": []
  },
  {
   "cell_type": "code",
   "execution_count": null,
   "metadata": {},
   "outputs": [],
   "source": [
    "dmf=d2[(d2.渋滞!=1)&(d2.渋滞!=2)]"
   ]
  },
  {
   "cell_type": "code",
   "execution_count": null,
   "metadata": {},
   "outputs": [],
   "source": [
    "dmc=d2[(d2.渋滞==1)|(d2.渋滞==2)]"
   ]
  },
  {
   "cell_type": "code",
   "execution_count": null,
   "metadata": {},
   "outputs": [],
   "source": [
    "print(d2.shape[0])\n",
    "print(dmc.shape[0])\n",
    "print(dmf.shape[0])\n",
    "dmc.shape[0]+dmf.shape[0]"
   ]
  },
  {
   "cell_type": "code",
   "execution_count": null,
   "metadata": {},
   "outputs": [],
   "source": [
    "dt1=dmf[dmf.時間帯==1]\n",
    "dt2=dmf[dmf.時間帯==2]"
   ]
  },
  {
   "cell_type": "code",
   "execution_count": null,
   "metadata": {},
   "outputs": [],
   "source": [
    "print(dt1.shape[0])\n",
    "print(dt2.shape[0])\n",
    "dt1.shape[0]+dt2.shape[0]+dmc.shape[0]"
   ]
  },
  {
   "cell_type": "code",
   "execution_count": null,
   "metadata": {},
   "outputs": [],
   "source": [
    "dt1_1=dt1.iloc[:1000000,:]\n",
    "dt1_2=dt1.iloc[1000000:2000000,:]\n",
    "dt1_3=dt1.iloc[2000000:3000000,:]\n",
    "#dt1h1_4=dt1h1.iloc[3000000:,:]\n",
    "\n",
    "dt2_1=dt2.iloc[:1000000,:]\n",
    "dt2_2=dt2.iloc[1000000:2000000,:]\n",
    "#dt1h2_3=dt1h2.iloc[2000000:,:]"
   ]
  },
  {
   "cell_type": "code",
   "execution_count": null,
   "metadata": {},
   "outputs": [],
   "source": [
    "dmc.to_csv(\"D:/ahn_pc/workfile/2021/阪神事故リスク/resultmoji2/dmc10.csv\", index = False, encoding=\"shift_jis\")\n",
    "\n",
    "dt1_1.to_csv(\"D:/ahn_pc/workfile/2021/阪神事故リスク/resultmoji2/dt1_1_10.csv\", index = False, encoding=\"shift_jis\")\n",
    "dt1_2.to_csv(\"D:/ahn_pc/workfile/2021/阪神事故リスク/resultmoji2/dt1_2_10.csv\", index = False, encoding=\"shift_jis\")\n",
    "dt1_3.to_csv(\"D:/ahn_pc/workfile/2021/阪神事故リスク/resultmoji2/dt1_3_10.csv\", index = False, encoding=\"shift_jis\")\n",
    "#dt1h1_4.to_csv(\"D:/ahn_pc/workfile/2021/阪神事故リスク/resultrisk/dt1h1_4_09.csv\", index = False, encoding=\"shift_jis\")\n",
    "\n",
    "dt2_1.to_csv(\"D:/ahn_pc/workfile/2021/阪神事故リスク/resultmoji2/dt2_1_10.csv\", index = False, encoding=\"shift_jis\")\n",
    "dt2_2.to_csv(\"D:/ahn_pc/workfile/2021/阪神事故リスク/resultmoji2/dt2_2_10.csv\", index = False, encoding=\"shift_jis\")\n",
    "#dt1h2_3.to_csv(\"D:/ahn_pc/workfile/2021/阪神事故リスク/resultrisk/dt1h2_3_06.csv\", index = False, encoding=\"shift_jis\")"
   ]
  },
  {
   "cell_type": "code",
   "execution_count": null,
   "metadata": {},
   "outputs": [],
   "source": []
  },
  {
   "cell_type": "code",
   "execution_count": null,
   "metadata": {},
   "outputs": [],
   "source": []
  },
  {
   "cell_type": "code",
   "execution_count": null,
   "metadata": {},
   "outputs": [],
   "source": []
  },
  {
   "cell_type": "code",
   "execution_count": null,
   "metadata": {},
   "outputs": [],
   "source": []
  },
  {
   "cell_type": "code",
   "execution_count": null,
   "metadata": {},
   "outputs": [],
   "source": []
  },
  {
   "cell_type": "code",
   "execution_count": null,
   "metadata": {},
   "outputs": [],
   "source": []
  },
  {
   "cell_type": "code",
   "execution_count": null,
   "metadata": {},
   "outputs": [],
   "source": []
  },
  {
   "cell_type": "code",
   "execution_count": null,
   "metadata": {},
   "outputs": [],
   "source": [
    "#dm.columns=['記録年', '記録月', '記録日', '記録曜日', '記録時刻', '文字情報板番号', '文字情報板名称', '制御区分',\n",
    "       '情報区分', '影響係数', '障害係数', '評価値', '提供フラグ', '事象内通番', '原因', '程度', '渋滞長',\n",
    "       '障害登録番号', '先頭系統名称', '先頭KP', '後尾系統名称', '後尾KP', '入口／出口名称', '特記事項', 'indx',\n",
    "       'line', 'keito', 'kp', 'name', 'jdp', 'jdpup1', 'jdpup2', 'jdpup3',\n",
    "       'vsidx', 'risk', 'temp', 'r2p', 'r2n', 'r3p', 'r3n', 'n1p', 'gen', 'tidx', 'tidx5m',\n",
    "       'idx', 'upidx', '地区名', 'JDP番号', '区間番号', '日付', '時間', '区間長', 'エラー', '速度',\n",
    "       '交通量', '渋滞', '事故', '休日', '時間帯', 'kcode', '降水量', '滑り止め', '区間長up', '速度up',\n",
    "       '交通量up', '渋滞up', '事故up']"
   ]
  },
  {
   "cell_type": "code",
   "execution_count": null,
   "metadata": {},
   "outputs": [],
   "source": [
    "#d=dm.loc[:,[\"記録日\",\"記録時刻\",\"tidx\",\"tidx5m\",\"indx\",\"keito\",\"r2p\",\"r2n\",\"r3p\",\"r3n\",\"n1p\",\"gen\",\"区間長\",\"速度\",\"交通量\",\"渋滞\",\"事故\",\"休日\",\"時間帯\",\"降水量\",\"区間長up\",\"速度up\",\"交通量up\",\"渋滞up\",\"事故up\"]]"
   ]
  },
  {
   "cell_type": "code",
   "execution_count": null,
   "metadata": {},
   "outputs": [],
   "source": [
    "d[\"idx5m\"]=d.tidx5m+\"_\"+d.indx.astype(str)"
   ]
  },
  {
   "cell_type": "code",
   "execution_count": null,
   "metadata": {},
   "outputs": [],
   "source": [
    "cnt5m = pd.DataFrame(d.groupby(\"idx5m\").count().loc[:,\"記録日\"])"
   ]
  },
  {
   "cell_type": "code",
   "execution_count": null,
   "metadata": {},
   "outputs": [],
   "source": [
    "cnt5m[\"cnt5m\"]=cnt5m.記録日"
   ]
  },
  {
   "cell_type": "code",
   "execution_count": null,
   "metadata": {},
   "outputs": [],
   "source": [
    "del cnt5m[\"記録日\"]"
   ]
  },
  {
   "cell_type": "code",
   "execution_count": null,
   "metadata": {},
   "outputs": [],
   "source": [
    "cnt5m = cnt5m.reset_index()"
   ]
  },
  {
   "cell_type": "code",
   "execution_count": null,
   "metadata": {},
   "outputs": [],
   "source": [
    "dm = pd.merge(d,cnt5m, on=\"idx5m\", how=\"left\")"
   ]
  },
  {
   "cell_type": "code",
   "execution_count": null,
   "metadata": {},
   "outputs": [],
   "source": [
    "dm[\"事故5m\"]=dm.事故/dm.cnt5m\n",
    "dm[\"速度5m\"]=dm.速度/dm.cnt5m\n",
    "dm[\"交通量5m\"]=dm.交通量/dm.cnt5m\n",
    "dm[\"事故u5m\"]=dm.事故up/dm.cnt5m\n",
    "dm[\"速度u5m\"]=dm.速度up/dm.cnt5m\n",
    "dm[\"交通量u5m\"]=dm.交通量up/dm.cnt5m"
   ]
  },
  {
   "cell_type": "code",
   "execution_count": null,
   "metadata": {},
   "outputs": [],
   "source": [
    "dm.記録時刻.str[:2]"
   ]
  },
  {
   "cell_type": "code",
   "execution_count": null,
   "metadata": {},
   "outputs": [],
   "source": [
    "dm[\"keito_hour\"]=dm.keito.astype(str)+\"_\"+dm.記録時刻.str[:2]"
   ]
  },
  {
   "cell_type": "code",
   "execution_count": null,
   "metadata": {},
   "outputs": [],
   "source": [
    "#keitoh = dm.groupby(\"keito_hour\").agg({\"r2p\":np.sum,\"r2n\":np.sum,\"r3p\":np.sum,\"r3n\":np.sum,\n",
    "#         \"事故5m\":np.sum,\"速度5m\":np.mean,\"交通量5m\":np.mean,})\n",
    "keitoh = dm.groupby(\"keito_hour\").agg({\"r2p\":np.sum,\"r2n\":np.sum,\"r3p\":np.sum,\"r3n\":np.sum,\n",
    "         \"事故5m\":np.sum})"
   ]
  },
  {
   "cell_type": "code",
   "execution_count": null,
   "metadata": {},
   "outputs": [],
   "source": [
    "cntkh = dm.groupby(\"keito_hour\").count().loc[:,\"記録日\"]"
   ]
  },
  {
   "cell_type": "code",
   "execution_count": null,
   "metadata": {},
   "outputs": [],
   "source": [
    "keitoh[\"cntkh\"]=cntkh"
   ]
  },
  {
   "cell_type": "code",
   "execution_count": null,
   "metadata": {},
   "outputs": [],
   "source": [
    "keitoh[\"idx\"]=keitoh.index"
   ]
  },
  {
   "cell_type": "code",
   "execution_count": null,
   "metadata": {},
   "outputs": [],
   "source": [
    "keitoh.to_csv(\"D:/ahn_pc/workfile/2021/阪神事故リスク/keihour04.csv\", index = False, encoding=\"shift_jis\")"
   ]
  },
  {
   "cell_type": "code",
   "execution_count": null,
   "metadata": {},
   "outputs": [],
   "source": []
  },
  {
   "cell_type": "code",
   "execution_count": null,
   "metadata": {},
   "outputs": [],
   "source": [
    "keito = dm.groupby(\"keito\").agg({\"r2p\":np.sum,\"r2n\":np.sum,\"r3p\":np.sum,\"r3n\":np.sum,\n",
    "        \"事故5m\":np.sum,\"速度5m\":np.mean,\"交通量5m\":np.mean,})\n",
    "#keito = dm.groupby(\"keito\").agg({\"r2p\":np.sum,\"r2n\":np.sum,\"r3p\":np.sum,\"r3n\":np.sum})"
   ]
  },
  {
   "cell_type": "code",
   "execution_count": null,
   "metadata": {},
   "outputs": [],
   "source": [
    "cntk = dm.groupby(\"keito\").count().loc[:,\"記録日\"]"
   ]
  },
  {
   "cell_type": "code",
   "execution_count": null,
   "metadata": {},
   "outputs": [],
   "source": [
    "keito[\"cntk\"]=cntk"
   ]
  },
  {
   "cell_type": "code",
   "execution_count": null,
   "metadata": {},
   "outputs": [],
   "source": [
    "keito[\"rsum\"]=keito.r2p+keito.r2n+keito.r3p+keito.r3n"
   ]
  },
  {
   "cell_type": "code",
   "execution_count": null,
   "metadata": {},
   "outputs": [],
   "source": [
    "keito"
   ]
  },
  {
   "cell_type": "code",
   "execution_count": null,
   "metadata": {},
   "outputs": [],
   "source": []
  },
  {
   "cell_type": "code",
   "execution_count": null,
   "metadata": {},
   "outputs": [],
   "source": []
  },
  {
   "cell_type": "code",
   "execution_count": null,
   "metadata": {},
   "outputs": [],
   "source": []
  },
  {
   "cell_type": "code",
   "execution_count": null,
   "metadata": {},
   "outputs": [],
   "source": []
  },
  {
   "cell_type": "code",
   "execution_count": null,
   "metadata": {},
   "outputs": [],
   "source": []
  },
  {
   "cell_type": "code",
   "execution_count": null,
   "metadata": {},
   "outputs": [],
   "source": [
    "dc.shape[0]"
   ]
  },
  {
   "cell_type": "code",
   "execution_count": null,
   "metadata": {},
   "outputs": [],
   "source": [
    "dc[\"indx\"]=dc.文字情報板番号"
   ]
  },
  {
   "cell_type": "code",
   "execution_count": null,
   "metadata": {},
   "outputs": [],
   "source": [
    "vs = pd.read_csv(\"D:/ahn_pc/workfile/2021/阪神事故リスク/CHSVSB_情報板3.csv\", encoding=\"shift_jis\")"
   ]
  },
  {
   "cell_type": "code",
   "execution_count": null,
   "metadata": {},
   "outputs": [],
   "source": [
    "vs"
   ]
  },
  {
   "cell_type": "code",
   "execution_count": null,
   "metadata": {},
   "outputs": [],
   "source": [
    "dc2 = pd.merge(dc,vs, on=\"indx\", how=\"left\")"
   ]
  },
  {
   "cell_type": "code",
   "execution_count": null,
   "metadata": {},
   "outputs": [],
   "source": [
    "dc3 = dc2[~pd.isna(dc2.line)]"
   ]
  },
  {
   "cell_type": "code",
   "execution_count": null,
   "metadata": {},
   "outputs": [],
   "source": [
    "dc3"
   ]
  },
  {
   "cell_type": "code",
   "execution_count": null,
   "metadata": {},
   "outputs": [],
   "source": [
    "#dc3[\"drp\"]=dc3.記録日.astype(str)+\"_\"+dc3.記録時刻+\"_\"+dc3.文字情報板番号.astype(str)+\"_\"+dc3.事象内通番.astype(str)+\"_\"+dc3.原因+\"_\"+dc3.程度"
   ]
  },
  {
   "cell_type": "code",
   "execution_count": null,
   "metadata": {},
   "outputs": [],
   "source": [
    "dc3[\"vsidx\"]=dc3.記録日.astype(str)+\"_\"+dc3.記録時刻+\"_\"+dc3.文字情報板番号.astype(str)"
   ]
  },
  {
   "cell_type": "code",
   "execution_count": null,
   "metadata": {},
   "outputs": [],
   "source": [
    "#dc3d = dc3[~dc3.duplicated(subset=\"drop\")]\n",
    "dc3d = dc3[~dc3.duplicated()]"
   ]
  },
  {
   "cell_type": "code",
   "execution_count": null,
   "metadata": {},
   "outputs": [],
   "source": [
    "t = dc3d[dc3d.vsidx==\"14_00:23_158\"].iloc[:,5:]"
   ]
  },
  {
   "cell_type": "code",
   "execution_count": null,
   "metadata": {},
   "outputs": [],
   "source": [
    "dc3d[dc3d.vsidx==\"14_00:23_158\"].iloc[:,5:]"
   ]
  },
  {
   "cell_type": "code",
   "execution_count": null,
   "metadata": {},
   "outputs": [],
   "source": []
  },
  {
   "cell_type": "code",
   "execution_count": null,
   "metadata": {},
   "outputs": [],
   "source": []
  },
  {
   "cell_type": "code",
   "execution_count": null,
   "metadata": {},
   "outputs": [],
   "source": [
    "print(dc3.shape[0])\n",
    "print(dc3d.shape[0])"
   ]
  },
  {
   "cell_type": "code",
   "execution_count": null,
   "metadata": {},
   "outputs": [],
   "source": [
    "dc3d.to_csv(\"D:/ahn_pc/workfile/2021/阪神事故リスク/dc3d04.csv\", index = False, encoding=\"shift_jis\")"
   ]
  },
  {
   "cell_type": "code",
   "execution_count": null,
   "metadata": {},
   "outputs": [],
   "source": []
  },
  {
   "cell_type": "code",
   "execution_count": null,
   "metadata": {},
   "outputs": [],
   "source": [
    "dc3r = dc3d[dc3d.原因==\"リスク\"]"
   ]
  },
  {
   "cell_type": "code",
   "execution_count": null,
   "metadata": {},
   "outputs": [],
   "source": [
    "dc3r[\"risk\"]=1"
   ]
  },
  {
   "cell_type": "code",
   "execution_count": null,
   "metadata": {},
   "outputs": [],
   "source": [
    "dc3idx = dc3r.loc[:,[\"vsidx\",\"risk\"]]"
   ]
  },
  {
   "cell_type": "code",
   "execution_count": null,
   "metadata": {},
   "outputs": [],
   "source": [
    "dc3idx"
   ]
  },
  {
   "cell_type": "code",
   "execution_count": null,
   "metadata": {},
   "outputs": [],
   "source": [
    "dc4 = pd.merge(dc3d,dc3idx, on=\"vsidx\", how=\"left\")"
   ]
  },
  {
   "cell_type": "code",
   "execution_count": null,
   "metadata": {},
   "outputs": [],
   "source": [
    "dc4.shape[0]"
   ]
  },
  {
   "cell_type": "code",
   "execution_count": null,
   "metadata": {},
   "outputs": [],
   "source": [
    "dc3.shape[0]"
   ]
  },
  {
   "cell_type": "code",
   "execution_count": null,
   "metadata": {},
   "outputs": [],
   "source": [
    "dc4[(dc4.risk==1)&(dc4.原因==\"リスク\")&(dc4.提供フラグ!=1)].shape[0]\n",
    "#dc4[(dc4.risk==1)&(dc4.原因!=\"リスク\")&(dc4.提供フラグ==1)].shape[0]"
   ]
  },
  {
   "cell_type": "code",
   "execution_count": null,
   "metadata": {},
   "outputs": [],
   "source": [
    "#dc4[(dc4.risk==1)&(dc4.原因==\"リスク\")&(dc4.提供フラグ!=1)].shape[0]\n",
    "dc4[(dc4.risk==1)&(dc4.原因!=\"リスク\")&(dc4.提供フラグ==1)].shape[0]"
   ]
  },
  {
   "cell_type": "code",
   "execution_count": null,
   "metadata": {},
   "outputs": [],
   "source": [
    "dc4r = dc4[dc4.risk==1]"
   ]
  },
  {
   "cell_type": "code",
   "execution_count": null,
   "metadata": {},
   "outputs": [],
   "source": [
    "dc4r.shape[0]"
   ]
  },
  {
   "cell_type": "code",
   "execution_count": null,
   "metadata": {},
   "outputs": [],
   "source": [
    "dc4r.iloc[:5].loc[:,[\"記録日\",\"記録時刻\",\"原因\",\"vsidx\",\"risk\"]]"
   ]
  },
  {
   "cell_type": "code",
   "execution_count": null,
   "metadata": {},
   "outputs": [],
   "source": [
    "dc4r.to_csv(\"D:/ahn_pc/workfile/2021/阪神事故リスク/dc4r04.csv\", index = False, encoding=\"shift_jis\")"
   ]
  },
  {
   "cell_type": "code",
   "execution_count": null,
   "metadata": {},
   "outputs": [],
   "source": [
    "dc4r[~dc4r.duplicated(subset=\"vsidx\")].shape[0]"
   ]
  },
  {
   "cell_type": "code",
   "execution_count": null,
   "metadata": {},
   "outputs": [],
   "source": [
    "def ts(d):\n",
    "    return d.原因.values\n",
    "def ts2(d):\n",
    "    return d.程度.values\n",
    "def ts3(d):\n",
    "    return d.提供フラグ.values"
   ]
  },
  {
   "cell_type": "code",
   "execution_count": null,
   "metadata": {},
   "outputs": [],
   "source": [
    "temp=dc4r.groupby(\"vsidx\").apply(ts)\n",
    "temp2=dc4r.groupby(\"vsidx\").apply(ts2)\n",
    "temp3=dc4r.groupby(\"vsidx\").apply(ts3)"
   ]
  },
  {
   "cell_type": "code",
   "execution_count": null,
   "metadata": {},
   "outputs": [],
   "source": [
    "dc5 = pd.DataFrame(temp)"
   ]
  },
  {
   "cell_type": "code",
   "execution_count": null,
   "metadata": {},
   "outputs": [],
   "source": [
    "dc5[\"vsidx\"]=dc5.index"
   ]
  },
  {
   "cell_type": "code",
   "execution_count": null,
   "metadata": {},
   "outputs": [],
   "source": [
    "dc5[\"gen\"]=dc5[0]"
   ]
  },
  {
   "cell_type": "code",
   "execution_count": null,
   "metadata": {},
   "outputs": [],
   "source": [
    "dc5[\"tei\"]=temp2"
   ]
  },
  {
   "cell_type": "code",
   "execution_count": null,
   "metadata": {},
   "outputs": [],
   "source": [
    "dc5[\"flg\"]=temp3"
   ]
  },
  {
   "cell_type": "code",
   "execution_count": null,
   "metadata": {},
   "outputs": [],
   "source": [
    "del dc5[0]"
   ]
  },
  {
   "cell_type": "code",
   "execution_count": null,
   "metadata": {},
   "outputs": [],
   "source": [
    "dc5.shape[0]"
   ]
  },
  {
   "cell_type": "code",
   "execution_count": null,
   "metadata": {},
   "outputs": [],
   "source": [
    "vsidx=dc5.vsidx.values\n",
    "gen=dc5.gen.values\n",
    "tei=dc5.tei.values\n",
    "flg=dc5.flg.values"
   ]
  },
  {
   "cell_type": "code",
   "execution_count": null,
   "metadata": {},
   "outputs": [],
   "source": [
    "cnt=[]\n",
    "cntstr=[]\n",
    "for i in range(gen.shape[0]):\n",
    "#for i in range(3):\n",
    "    ri2p=0\n",
    "    ri2n=0\n",
    "    ri3p=0\n",
    "    ri3n=0\n",
    "    nori=0\n",
    "    nostr=[]\n",
    "    for j in range(gen[i].shape[0]):\n",
    "        if gen[i][j]==\"リスク\":\n",
    "            if tei[i][j]==\"リスク２\":\n",
    "                if flg[i][j]==1:\n",
    "                    ri2p=ri2p+1\n",
    "                else:\n",
    "                    ri2n=ri2n+1\n",
    "            else:\n",
    "                if flg[i][j]==1:\n",
    "                    ri3p=ri3p+1\n",
    "                else:\n",
    "                    ri3n=ri3n+1\n",
    "        else:\n",
    "            if flg[i][j]==1:\n",
    "                nori=nori+1\n",
    "                nostr.append(gen[i][j])\n",
    "    cnt.append([vsidx[i],ri2p,ri2n,ri3p,ri3n,nori])\n",
    "    cntstr.append(nostr)"
   ]
  },
  {
   "cell_type": "code",
   "execution_count": null,
   "metadata": {},
   "outputs": [],
   "source": [
    "cntd = pd.DataFrame(cnt)"
   ]
  },
  {
   "cell_type": "code",
   "execution_count": null,
   "metadata": {},
   "outputs": [],
   "source": [
    "cntd[\"gen\"]=cntstr"
   ]
  },
  {
   "cell_type": "code",
   "execution_count": null,
   "metadata": {},
   "outputs": [],
   "source": [
    "tt = dc4r[dc4r.vsidx==\"14_00:23_158\"].iloc[:,5:]"
   ]
  },
  {
   "cell_type": "code",
   "execution_count": null,
   "metadata": {},
   "outputs": [],
   "source": [
    "tt.shape[0]"
   ]
  },
  {
   "cell_type": "code",
   "execution_count": null,
   "metadata": {},
   "outputs": [],
   "source": [
    "tt[~tt.duplicated()].shape[0]"
   ]
  },
  {
   "cell_type": "code",
   "execution_count": null,
   "metadata": {},
   "outputs": [],
   "source": [
    "cntd[cntd[5]>1]"
   ]
  },
  {
   "cell_type": "code",
   "execution_count": null,
   "metadata": {},
   "outputs": [],
   "source": [
    "cntd[\"vsidx\"]=cntd[0]"
   ]
  },
  {
   "cell_type": "code",
   "execution_count": null,
   "metadata": {},
   "outputs": [],
   "source": [
    "cntd.shape[0]"
   ]
  },
  {
   "cell_type": "code",
   "execution_count": null,
   "metadata": {},
   "outputs": [],
   "source": [
    "df = pd.merge(dc4r,cntd, on=\"vsidx\", how=\"left\")"
   ]
  },
  {
   "cell_type": "code",
   "execution_count": null,
   "metadata": {},
   "outputs": [],
   "source": [
    "df.shape[0]"
   ]
  },
  {
   "cell_type": "code",
   "execution_count": null,
   "metadata": {},
   "outputs": [],
   "source": [
    "df2=df[~df.duplicated(subset=\"vsidx\")]"
   ]
  },
  {
   "cell_type": "code",
   "execution_count": null,
   "metadata": {},
   "outputs": [],
   "source": [
    "df2.shape[0]"
   ]
  },
  {
   "cell_type": "code",
   "execution_count": null,
   "metadata": {},
   "outputs": [],
   "source": [
    "df2"
   ]
  },
  {
   "cell_type": "code",
   "execution_count": null,
   "metadata": {},
   "outputs": [],
   "source": [
    "df2.to_csv(\"D:/ahn_pc/workfile/2021/阪神事故リスク/df2_04.csv\", index = False, encoding=\"shift_jis\")"
   ]
  },
  {
   "cell_type": "code",
   "execution_count": null,
   "metadata": {},
   "outputs": [],
   "source": [
    "df2 = pd.read_csv(\"D:/ahn_pc/workfile/2021/阪神事故リスク/df2_04.csv\", encoding=\"shift_jis\")"
   ]
  },
  {
   "cell_type": "code",
   "execution_count": null,
   "metadata": {},
   "outputs": [],
   "source": []
  },
  {
   "cell_type": "code",
   "execution_count": null,
   "metadata": {},
   "outputs": [],
   "source": [
    "df2[\"tidx\"]=df2.記録年.astype(str)+\"-\"+df2.記録月.astype(str)+\"-\"+df2.記録日.astype(str)+\" \"+df2.記録時刻+\":00\""
   ]
  },
  {
   "cell_type": "code",
   "execution_count": null,
   "metadata": {},
   "outputs": [],
   "source": [
    "df2[\"tidx5m\"]=pd.to_datetime(df2.tidx).dt.round(\"5T\")"
   ]
  },
  {
   "cell_type": "code",
   "execution_count": null,
   "metadata": {},
   "outputs": [],
   "source": []
  },
  {
   "cell_type": "code",
   "execution_count": null,
   "metadata": {},
   "outputs": [],
   "source": []
  },
  {
   "cell_type": "code",
   "execution_count": null,
   "metadata": {},
   "outputs": [],
   "source": [
    "df2[pd.isna(df2.jdp)]"
   ]
  },
  {
   "cell_type": "code",
   "execution_count": null,
   "metadata": {},
   "outputs": [],
   "source": [
    "df2[\"idx\"]=df2.tidx5m.astype(str)+\"_\"+df2.jdp.astype(int).astype(str)"
   ]
  },
  {
   "cell_type": "code",
   "execution_count": null,
   "metadata": {},
   "outputs": [],
   "source": [
    "df2[\"upidx\"]=df2.tidx5m.astype(str)+\"_\"+df2.jdpup1.astype(int).astype(str)"
   ]
  },
  {
   "cell_type": "code",
   "execution_count": null,
   "metadata": {},
   "outputs": [],
   "source": []
  },
  {
   "cell_type": "code",
   "execution_count": null,
   "metadata": {},
   "outputs": [],
   "source": [
    "dff = pd.read_csv(\"D:/ahn_pc/workfile/2021/阪神事故リスク/result/dff4.csv\", encoding=\"shift_jis\")"
   ]
  },
  {
   "cell_type": "code",
   "execution_count": null,
   "metadata": {},
   "outputs": [],
   "source": [
    "dff2=dff[pd.isna(dff.エラー)]"
   ]
  },
  {
   "cell_type": "code",
   "execution_count": null,
   "metadata": {},
   "outputs": [],
   "source": [
    "dff3=dff2[dff2.速度<200]"
   ]
  },
  {
   "cell_type": "code",
   "execution_count": null,
   "metadata": {},
   "outputs": [],
   "source": [
    "dffup=dff3.loc[:,[\"idx\",\"区間長\",\"速度\",\"交通量\",\"渋滞\",\"事故\"]]"
   ]
  },
  {
   "cell_type": "code",
   "execution_count": null,
   "metadata": {},
   "outputs": [],
   "source": [
    "dffup.columns=[\"upidx\",\"区間長up\",\"速度up\",\"交通量up\",\"渋滞up\",\"事故up\"]"
   ]
  },
  {
   "cell_type": "code",
   "execution_count": null,
   "metadata": {},
   "outputs": [],
   "source": [
    "dffup"
   ]
  },
  {
   "cell_type": "code",
   "execution_count": null,
   "metadata": {},
   "outputs": [],
   "source": [
    "dm = pd.merge(df2,dff3, on=\"idx\", how=\"left\")"
   ]
  },
  {
   "cell_type": "code",
   "execution_count": null,
   "metadata": {},
   "outputs": [],
   "source": [
    "dm.iloc[:5,35:]"
   ]
  },
  {
   "cell_type": "code",
   "execution_count": null,
   "metadata": {},
   "outputs": [],
   "source": [
    "dm2 = pd.merge(dm,dffup, on=\"upidx\", how=\"left\")"
   ]
  },
  {
   "cell_type": "code",
   "execution_count": null,
   "metadata": {},
   "outputs": [],
   "source": [
    "dm2"
   ]
  },
  {
   "cell_type": "code",
   "execution_count": null,
   "metadata": {},
   "outputs": [],
   "source": [
    "dm2.to_csv(\"D:/ahn_pc/workfile/2021/阪神事故リスク/dm2_04.csv\", index = False, encoding=\"shift_jis\")"
   ]
  },
  {
   "cell_type": "code",
   "execution_count": null,
   "metadata": {},
   "outputs": [],
   "source": []
  },
  {
   "cell_type": "code",
   "execution_count": null,
   "metadata": {},
   "outputs": [],
   "source": []
  },
  {
   "cell_type": "code",
   "execution_count": null,
   "metadata": {},
   "outputs": [],
   "source": []
  },
  {
   "cell_type": "code",
   "execution_count": null,
   "metadata": {},
   "outputs": [],
   "source": []
  },
  {
   "cell_type": "code",
   "execution_count": null,
   "metadata": {},
   "outputs": [],
   "source": []
  },
  {
   "cell_type": "code",
   "execution_count": null,
   "metadata": {},
   "outputs": [],
   "source": []
  },
  {
   "cell_type": "code",
   "execution_count": null,
   "metadata": {},
   "outputs": [],
   "source": []
  },
  {
   "cell_type": "code",
   "execution_count": null,
   "metadata": {},
   "outputs": [],
   "source": []
  },
  {
   "cell_type": "code",
   "execution_count": null,
   "metadata": {},
   "outputs": [],
   "source": []
  },
  {
   "cell_type": "code",
   "execution_count": null,
   "metadata": {},
   "outputs": [],
   "source": [
    "df[df.vsidx==\"4_00:03_11\"].loc[:,\"原因\"]"
   ]
  },
  {
   "cell_type": "code",
   "execution_count": null,
   "metadata": {},
   "outputs": [],
   "source": [
    "df2 = df[~df.duplicated(subset=\"vsidx\")]"
   ]
  },
  {
   "cell_type": "code",
   "execution_count": null,
   "metadata": {},
   "outputs": [],
   "source": [
    "df2.iloc[1,:]"
   ]
  },
  {
   "cell_type": "code",
   "execution_count": null,
   "metadata": {},
   "outputs": [],
   "source": [
    "dc4r"
   ]
  },
  {
   "cell_type": "code",
   "execution_count": null,
   "metadata": {},
   "outputs": [],
   "source": []
  },
  {
   "cell_type": "code",
   "execution_count": null,
   "metadata": {},
   "outputs": [],
   "source": []
  },
  {
   "cell_type": "code",
   "execution_count": null,
   "metadata": {},
   "outputs": [],
   "source": []
  },
  {
   "cell_type": "code",
   "execution_count": null,
   "metadata": {},
   "outputs": [],
   "source": []
  },
  {
   "cell_type": "code",
   "execution_count": null,
   "metadata": {},
   "outputs": [],
   "source": []
  },
  {
   "cell_type": "code",
   "execution_count": null,
   "metadata": {},
   "outputs": [],
   "source": []
  },
  {
   "cell_type": "code",
   "execution_count": null,
   "metadata": {},
   "outputs": [],
   "source": []
  },
  {
   "cell_type": "code",
   "execution_count": null,
   "metadata": {},
   "outputs": [],
   "source": [
    "temp2 = dc4r[[\"vsidx\",\"indx\"]].groupby(\"vsidx\").count()"
   ]
  },
  {
   "cell_type": "code",
   "execution_count": null,
   "metadata": {},
   "outputs": [],
   "source": [
    "temp2[temp2.indx>5]"
   ]
  },
  {
   "cell_type": "code",
   "execution_count": null,
   "metadata": {},
   "outputs": [],
   "source": [
    "temp = dc4r[(dc4r.vsidx==\"10_12:52_368\")|(dc4r.vsidx==\"9_23:37_545\")]"
   ]
  },
  {
   "cell_type": "code",
   "execution_count": null,
   "metadata": {},
   "outputs": [],
   "source": [
    "def ts(d):\n",
    "    return d.原因.values\n",
    "def ts2(d):\n",
    "    return d.提供フラグ.values"
   ]
  },
  {
   "cell_type": "code",
   "execution_count": null,
   "metadata": {},
   "outputs": [],
   "source": [
    "temp2 = temp.groupby(\"vsidx\").apply(ts)\n",
    "temp3 = temp.groupby(\"vsidx\").apply(ts2)"
   ]
  },
  {
   "cell_type": "code",
   "execution_count": null,
   "metadata": {},
   "outputs": [],
   "source": [
    "print(temp2)\n",
    "print(temp3)"
   ]
  },
  {
   "cell_type": "code",
   "execution_count": null,
   "metadata": {},
   "outputs": [],
   "source": []
  },
  {
   "cell_type": "code",
   "execution_count": null,
   "metadata": {},
   "outputs": [],
   "source": []
  },
  {
   "cell_type": "code",
   "execution_count": null,
   "metadata": {},
   "outputs": [],
   "source": []
  },
  {
   "cell_type": "code",
   "execution_count": null,
   "metadata": {},
   "outputs": [],
   "source": [
    "tempr = dc4[(dc4.risk==1)&(dc4.原因==\"リスク\")]"
   ]
  },
  {
   "cell_type": "code",
   "execution_count": null,
   "metadata": {},
   "outputs": [],
   "source": [
    "tempnr = dc4[(dc4.risk==1)&(dc4.原因!=\"リスク\")]"
   ]
  },
  {
   "cell_type": "code",
   "execution_count": null,
   "metadata": {},
   "outputs": [],
   "source": [
    "temp.shape[0]==tempr.shape[0]+tempnr.shape[0]"
   ]
  },
  {
   "cell_type": "code",
   "execution_count": null,
   "metadata": {},
   "outputs": [],
   "source": [
    "print(tempr.shape[0])\n",
    "print(tempnr.shape[0])\n",
    "print(tempr[tempr.提供フラグ==1].shape[0])\n",
    "print(tempr[tempr.提供フラグ!=1].shape[0])\n",
    "print(tempnr[tempnr.提供フラグ==1].shape[0])\n",
    "print(tempnr[tempnr.提供フラグ!=1].shape[0])"
   ]
  },
  {
   "cell_type": "code",
   "execution_count": null,
   "metadata": {},
   "outputs": [],
   "source": []
  },
  {
   "cell_type": "code",
   "execution_count": null,
   "metadata": {},
   "outputs": [],
   "source": []
  },
  {
   "cell_type": "code",
   "execution_count": null,
   "metadata": {},
   "outputs": [],
   "source": []
  },
  {
   "cell_type": "code",
   "execution_count": null,
   "metadata": {},
   "outputs": [],
   "source": [
    "dc3a = dc3.loc[:,[\"記録日\",\"記録時刻\",\"文字情報板番号\",\"提供フラグ\",\"原因\",\"程度\",\"特記事項\"]]"
   ]
  },
  {
   "cell_type": "code",
   "execution_count": null,
   "metadata": {},
   "outputs": [],
   "source": [
    "dc3b = dc3a[((dc3a.原因==\"リスク\")&(dc3a.提供フラグ!=1))|(dc3a.提供フラグ==1)]"
   ]
  },
  {
   "cell_type": "code",
   "execution_count": null,
   "metadata": {},
   "outputs": [],
   "source": [
    "dc3b"
   ]
  },
  {
   "cell_type": "code",
   "execution_count": null,
   "metadata": {},
   "outputs": [],
   "source": [
    "dc3b[dc3b.提供フラグ!=1]"
   ]
  },
  {
   "cell_type": "code",
   "execution_count": null,
   "metadata": {},
   "outputs": [],
   "source": [
    "dc3amoji2 = dc3a[dc3a.文字情報板番号==17]"
   ]
  },
  {
   "cell_type": "code",
   "execution_count": null,
   "metadata": {},
   "outputs": [],
   "source": []
  },
  {
   "cell_type": "code",
   "execution_count": null,
   "metadata": {},
   "outputs": [],
   "source": []
  },
  {
   "cell_type": "code",
   "execution_count": null,
   "metadata": {},
   "outputs": [],
   "source": []
  },
  {
   "cell_type": "code",
   "execution_count": null,
   "metadata": {},
   "outputs": [],
   "source": []
  },
  {
   "cell_type": "code",
   "execution_count": null,
   "metadata": {},
   "outputs": [],
   "source": []
  },
  {
   "cell_type": "code",
   "execution_count": null,
   "metadata": {},
   "outputs": [],
   "source": [
    "dc2=dc[dc.原因==\"リスク\"]"
   ]
  },
  {
   "cell_type": "code",
   "execution_count": null,
   "metadata": {},
   "outputs": [],
   "source": [
    "dc2"
   ]
  },
  {
   "cell_type": "code",
   "execution_count": null,
   "metadata": {},
   "outputs": [],
   "source": [
    "dc2.to_csv(\"D:/ahn_pc/workfile/2021/阪神事故リスク/moji4.csv\", index = False, encoding=\"shift_jis\")"
   ]
  },
  {
   "cell_type": "code",
   "execution_count": null,
   "metadata": {},
   "outputs": [],
   "source": [
    "dc3=dc2[dc2.提供フラグ==1]"
   ]
  },
  {
   "cell_type": "code",
   "execution_count": null,
   "metadata": {},
   "outputs": [],
   "source": [
    "dc3"
   ]
  },
  {
   "cell_type": "code",
   "execution_count": null,
   "metadata": {},
   "outputs": [],
   "source": [
    "dc3.to_csv(\"D:/ahn_pc/workfile/2021/阪神事故リスク/moji4hyoji.csv\", index = False, encoding=\"shift_jis\")"
   ]
  },
  {
   "cell_type": "code",
   "execution_count": null,
   "metadata": {},
   "outputs": [],
   "source": []
  },
  {
   "cell_type": "code",
   "execution_count": null,
   "metadata": {},
   "outputs": [],
   "source": []
  },
  {
   "cell_type": "code",
   "execution_count": null,
   "metadata": {},
   "outputs": [],
   "source": [
    "dc[\"dtt\"]=dc[\"dt\"]+\" \"+dc[\"tim\"]"
   ]
  },
  {
   "cell_type": "code",
   "execution_count": null,
   "metadata": {},
   "outputs": [],
   "source": [
    "dc[\"dtt2\"] = pd.to_datetime(dc.dtt)"
   ]
  },
  {
   "cell_type": "code",
   "execution_count": null,
   "metadata": {},
   "outputs": [],
   "source": [
    "dtt = pd.DataFrame(dc[dc[\"num\"]==1].dtt2)"
   ]
  },
  {
   "cell_type": "code",
   "execution_count": null,
   "metadata": {},
   "outputs": [],
   "source": [
    "#dtt.dtt=dtt.dtt.astype(str)"
   ]
  },
  {
   "cell_type": "code",
   "execution_count": null,
   "metadata": {},
   "outputs": [],
   "source": [
    "dtt"
   ]
  },
  {
   "cell_type": "code",
   "execution_count": null,
   "metadata": {},
   "outputs": [],
   "source": [
    "occerr = dc[dc.occ>200].drop_duplicates(subset=\"num\")"
   ]
  },
  {
   "cell_type": "code",
   "execution_count": null,
   "metadata": {},
   "outputs": [],
   "source": [
    "occerr"
   ]
  },
  {
   "cell_type": "code",
   "execution_count": null,
   "metadata": {},
   "outputs": [],
   "source": [
    "occerr.to_csv(\"D:/ahn_pc/workfile/2021/阪神事故リスク/occerr4.csv\", index = False)"
   ]
  },
  {
   "cell_type": "code",
   "execution_count": null,
   "metadata": {},
   "outputs": [],
   "source": []
  },
  {
   "cell_type": "code",
   "execution_count": null,
   "metadata": {},
   "outputs": [],
   "source": [
    "kens = pd.read_csv(\"D:/ahn_pc/workfile/2021/阪神事故リスク/kenchiki_s2.csv\", header=None, encoding=\"shift_jis\")"
   ]
  },
  {
   "cell_type": "code",
   "execution_count": null,
   "metadata": {},
   "outputs": [],
   "source": [
    "kens.columns=[\"num\"]"
   ]
  },
  {
   "cell_type": "code",
   "execution_count": null,
   "metadata": {},
   "outputs": [],
   "source": [
    "kens"
   ]
  },
  {
   "cell_type": "code",
   "execution_count": null,
   "metadata": {},
   "outputs": [],
   "source": []
  },
  {
   "cell_type": "code",
   "execution_count": null,
   "metadata": {},
   "outputs": [],
   "source": [
    "sec = pd.read_csv(\"D:/ahn_pc/workfile/2021/阪神事故リスク/section_add.csv\", encoding=\"shift_jis\")\n",
    "#jdp = pd.read_csv(\"D:/ahn_pc/workfile/2021/阪神事故リスク/JDP2.csv\", encoding=\"shift_jis\")"
   ]
  },
  {
   "cell_type": "code",
   "execution_count": null,
   "metadata": {},
   "outputs": [],
   "source": [
    "#jdpd = jdp.loc[:,[\"JDP番号\",\"JDP担当範囲\",\"渋滞検知器番号1\",\"渋滞検知器番号2\",\"渋滞検知器番号3\",\"渋滞検知器番号4\",\"区間番号\"]]"
   ]
  },
  {
   "cell_type": "code",
   "execution_count": null,
   "metadata": {},
   "outputs": [],
   "source": [
    "noken = sec[pd.isna(sec.検知器番号1)].区間番号"
   ]
  },
  {
   "cell_type": "code",
   "execution_count": null,
   "metadata": {},
   "outputs": [],
   "source": [
    "noken.to_csv(\"D:/ahn_pc/workfile/2021/阪神事故リスク/noken.csv\", index = False)"
   ]
  },
  {
   "cell_type": "code",
   "execution_count": null,
   "metadata": {},
   "outputs": [],
   "source": [
    "dc"
   ]
  },
  {
   "cell_type": "code",
   "execution_count": null,
   "metadata": {},
   "outputs": [],
   "source": [
    "sec"
   ]
  },
  {
   "cell_type": "code",
   "execution_count": null,
   "metadata": {},
   "outputs": [],
   "source": [
    "sec_n = sec.区間番号\n",
    "sec_1 = sec.検知器番号1\n",
    "sec_2 = sec.検知器番号2\n",
    "sec_3 = sec.検知器番号3\n",
    "sec_4 = sec.検知器番号4\n",
    "\n",
    "df = []\n",
    "dtt[\"sec\"] = 0\n",
    "\n",
    "for idx in range(sec.shape[0]):\n",
    "#for idx in range(5):\n",
    "    secn = sec_n.values[idx]\n",
    "    dtt[\"sec\"] = secn\n",
    "    \n",
    "    tempc=[]\n",
    "    temp1 = dc[dc[\"num\"]==sec_1.values[idx]]\n",
    "    tempc = pd.merge(dtt,temp1, on=\"dtt2\")\n",
    "    \n",
    "    print(temp1)\n",
    "    print(tempc)\n",
    "    \n",
    "    if pd.notna(sec_2.values[idx]):\n",
    "        temp2 = dc[dc[\"num\"]==sec_2.values[idx]]\n",
    "        tempc = pd.merge(tempc,temp2, on=\"dtt2\")\n",
    "    \n",
    "    if pd.notna(sec_3.values[idx]):\n",
    "        temp3 = dc[dc[\"num\"]==sec_3.values[idx]]\n",
    "        tempc = pd.merge(tempc,temp3, on=\"dtt2\")\n",
    "    \n",
    "    if pd.notna(sec_4.values[idx]):\n",
    "        temp4 = dc[dc[\"num\"]==sec_4.values[idx]]\n",
    "        tempc = pd.merge(tempc,temp4, on=\"dtt2\")\n",
    "    \n",
    "    tempv = tempc.values\n",
    "    tempd = pd.DataFrame(tempv)\n",
    "    print(tempd)\n",
    "    df.append(tempd)"
   ]
  },
  {
   "cell_type": "code",
   "execution_count": null,
   "metadata": {},
   "outputs": [],
   "source": [
    "#dc[dc[\"num\"]==sec_1.values[0]]\n",
    "#dc[dc[\"num\"]==2508]"
   ]
  },
  {
   "cell_type": "code",
   "execution_count": null,
   "metadata": {},
   "outputs": [],
   "source": [
    "dfc = pd.concat(df, axis = 0, ignore_index=True)"
   ]
  },
  {
   "cell_type": "code",
   "execution_count": null,
   "metadata": {},
   "outputs": [],
   "source": [
    "dfc[dfc[1]==333]"
   ]
  },
  {
   "cell_type": "code",
   "execution_count": null,
   "metadata": {},
   "outputs": [],
   "source": [
    "dfc.iloc[0,:]"
   ]
  },
  {
   "cell_type": "code",
   "execution_count": null,
   "metadata": {},
   "outputs": [],
   "source": [
    "trf = dfc[6].values.tolist()\n",
    "trf1 = dfc[6].values.tolist()\n",
    "trf2 = dfc[16].values.tolist()\n",
    "trf3 = dfc[26].values.tolist()\n",
    "trf4 = dfc[36].values.tolist()"
   ]
  },
  {
   "cell_type": "code",
   "execution_count": null,
   "metadata": {},
   "outputs": [],
   "source": [
    "len(trf1)"
   ]
  },
  {
   "cell_type": "code",
   "execution_count": null,
   "metadata": {},
   "outputs": [],
   "source": [
    "for i in range(len(trf1)):\n",
    "#for i in range(11):\n",
    "    if not pd.isna(trf2[i]):\n",
    "        #print(trf2[i])\n",
    "        if not pd.isna(trf3[i]):\n",
    "            #rint(trf3[i])\n",
    "            if not pd.isna(trf4[i]):\n",
    "                trf[i]=trf1[i]+trf2[i]+trf3[i]+trf4[i]\n",
    "            else:\n",
    "                trf[i]=trf1[i]+trf2[i]+trf3[i]\n",
    "        else:\n",
    "            trf[i]=trf1[i]+trf2[i]\n",
    "    else:\n",
    "        trf[i]=trf1[i]"
   ]
  },
  {
   "cell_type": "code",
   "execution_count": null,
   "metadata": {},
   "outputs": [],
   "source": [
    "dfc.insert(1,\"trf\",trf)"
   ]
  },
  {
   "cell_type": "code",
   "execution_count": null,
   "metadata": {},
   "outputs": [],
   "source": [
    "dfc[dfc[1]==333]"
   ]
  },
  {
   "cell_type": "code",
   "execution_count": null,
   "metadata": {},
   "outputs": [],
   "source": [
    "dfc"
   ]
  },
  {
   "cell_type": "code",
   "execution_count": null,
   "metadata": {},
   "outputs": [],
   "source": [
    "temp=dfc[dfc[8]>65500][1]"
   ]
  },
  {
   "cell_type": "code",
   "execution_count": null,
   "metadata": {},
   "outputs": [],
   "source": [
    "temp"
   ]
  },
  {
   "cell_type": "code",
   "execution_count": null,
   "metadata": {},
   "outputs": [],
   "source": [
    "temp[temp!=518]"
   ]
  },
  {
   "cell_type": "code",
   "execution_count": null,
   "metadata": {},
   "outputs": [],
   "source": [
    "dfcidx = dfc.iloc[:,:3]"
   ]
  },
  {
   "cell_type": "code",
   "execution_count": null,
   "metadata": {},
   "outputs": [],
   "source": [
    "dfcidx[dfcidx[1]==333]"
   ]
  },
  {
   "cell_type": "code",
   "execution_count": null,
   "metadata": {},
   "outputs": [],
   "source": [
    "dfcidx.insert(0,\"idx\",dfcidx[0].astype(str)+\"_\"+dfcidx[1].astype(str))"
   ]
  },
  {
   "cell_type": "code",
   "execution_count": null,
   "metadata": {},
   "outputs": [],
   "source": [
    "dfcidx"
   ]
  },
  {
   "cell_type": "code",
   "execution_count": null,
   "metadata": {},
   "outputs": [],
   "source": [
    "#ttt3 = dfcidx[dfcidx[0]==\"2021-04-30 11:10:00\"]"
   ]
  },
  {
   "cell_type": "code",
   "execution_count": null,
   "metadata": {},
   "outputs": [],
   "source": [
    "#ttt3[ttt3[1]==27]"
   ]
  },
  {
   "cell_type": "code",
   "execution_count": null,
   "metadata": {},
   "outputs": [],
   "source": [
    "dfcidx[dfcidx[1]==333]"
   ]
  },
  {
   "cell_type": "code",
   "execution_count": null,
   "metadata": {},
   "outputs": [],
   "source": [
    "dfcidx[pd.isna(dfcidx.trf)]"
   ]
  },
  {
   "cell_type": "code",
   "execution_count": null,
   "metadata": {},
   "outputs": [],
   "source": [
    "jdp = pd.read_csv(\"D:/ahn_pc/workfile/2021/阪神事故リスク/JDP3.csv\", encoding=\"shift_jis\")"
   ]
  },
  {
   "cell_type": "code",
   "execution_count": null,
   "metadata": {},
   "outputs": [],
   "source": [
    "jdp"
   ]
  },
  {
   "cell_type": "code",
   "execution_count": null,
   "metadata": {},
   "outputs": [],
   "source": [
    "jdpd = jdp.loc[:,[\"JDP番号\",\"地区名\",\"JDP担当範囲\",\"渋滞検知器番号1\",\"渋滞検知器番号2\",\"渋滞検知器番号3\",\"渋滞検知器番号4\",\"区間番号修正\"]]"
   ]
  },
  {
   "cell_type": "code",
   "execution_count": null,
   "metadata": {},
   "outputs": [],
   "source": [
    "dtt2 = pd.DataFrame(dc[dc[\"num\"]==1].dtt2)"
   ]
  },
  {
   "cell_type": "code",
   "execution_count": null,
   "metadata": {},
   "outputs": [],
   "source": [
    "jdpd_j = jdpd.JDP番号\n",
    "jdpd_l = jdpd.地区名\n",
    "jdpd_s = jdpd.区間番号修正\n",
    "jdpd_km = jdpd.JDP担当範囲\n",
    "jdpd_1 = jdpd.渋滞検知器番号1\n",
    "jdpd_2 = jdpd.渋滞検知器番号2\n",
    "jdpd_3 = jdpd.渋滞検知器番号3\n",
    "jdpd_4 = jdpd.渋滞検知器番号4\n",
    "\n",
    "df2 = []\n",
    "dtt2[\"loca\"] = 0\n",
    "dtt2[\"jdp\"] = 0\n",
    "dtt2[\"secn\"] = 0\n",
    "\n",
    "for idx in range(jdpd.shape[0]):\n",
    "#for idx in range(5):\n",
    "    jdn = jdpd_j.values[idx]\n",
    "    loca = jdpd_l.values[idx]\n",
    "    secn = jdpd_s.values[idx]\n",
    "    kmn = jdpd_km.values[idx]\n",
    "    #jdn = jdp.JDP番号[idx]\n",
    "    #secn = jdp.区間番号[idx]\n",
    "    \n",
    "    dtt2[\"jdp\"] = jdn\n",
    "    dtt2[\"loca\"] = loca\n",
    "    dtt2[\"secn\"] = secn\n",
    "    dtt2[\"kmn\"] = kmn\n",
    "    \n",
    "    tempc=[]\n",
    "    temp1 = dc[dc[\"num\"]==jdpd_1.values[idx]]\n",
    "    tempc = pd.merge(dtt2,temp1, on=\"dtt2\")\n",
    "    \n",
    "    if pd.notna(jdpd_2.values[idx]):\n",
    "        temp2 = dc[dc[\"num\"]==jdpd_2.values[idx]]\n",
    "        tempc = pd.merge(tempc,temp2, on=\"dtt2\")\n",
    "    \n",
    "    if pd.notna(jdpd_3.values[idx]):\n",
    "        temp3 = dc[dc[\"num\"]==jdpd_3.values[idx]]\n",
    "        tempc = pd.merge(tempc,temp3, on=\"dtt2\")\n",
    "    \n",
    "    if pd.notna(jdpd_4.values[idx]):\n",
    "        temp4 = dc[dc[\"num\"]==jdpd_4.values[idx]]\n",
    "        tempc = pd.merge(tempc,temp4, on=\"dtt2\")\n",
    "    \n",
    "    tempv = tempc.values\n",
    "    tempd = pd.DataFrame(tempv)\n",
    "    df2.append(tempd)"
   ]
  },
  {
   "cell_type": "code",
   "execution_count": null,
   "metadata": {},
   "outputs": [],
   "source": [
    "dfc2 = pd.concat(df2, axis = 0, ignore_index=True)"
   ]
  },
  {
   "cell_type": "code",
   "execution_count": null,
   "metadata": {},
   "outputs": [],
   "source": [
    "dfc2[dfc2[2]==333]"
   ]
  },
  {
   "cell_type": "code",
   "execution_count": null,
   "metadata": {},
   "outputs": [],
   "source": [
    "dfc2"
   ]
  },
  {
   "cell_type": "code",
   "execution_count": null,
   "metadata": {},
   "outputs": [],
   "source": [
    "dfc2.insert(0,\"idx\",dfc2[0].astype(str)+\"_\"+dfc2[2].astype(str))"
   ]
  },
  {
   "cell_type": "code",
   "execution_count": null,
   "metadata": {},
   "outputs": [],
   "source": [
    "dfc2"
   ]
  },
  {
   "cell_type": "code",
   "execution_count": null,
   "metadata": {},
   "outputs": [],
   "source": []
  },
  {
   "cell_type": "code",
   "execution_count": null,
   "metadata": {},
   "outputs": [],
   "source": [
    "dfinal = pd.merge(dfc2,dfcidx, on=\"idx\", how=\"left\")"
   ]
  },
  {
   "cell_type": "code",
   "execution_count": null,
   "metadata": {},
   "outputs": [],
   "source": [
    "dfinal"
   ]
  },
  {
   "cell_type": "code",
   "execution_count": null,
   "metadata": {},
   "outputs": [],
   "source": [
    "#ttt = dfinal[dfinal[\"0_x\"]==\"2021-04-30 11:10:00\"]\n",
    "#ttt2 = dfc2[dfc2[0]==\"2021-04-30 11:10:00\"]"
   ]
  },
  {
   "cell_type": "code",
   "execution_count": null,
   "metadata": {},
   "outputs": [],
   "source": [
    "#ttt[ttt[\"1_x\"]==35]\n",
    "#ttt2[ttt2[1]==35]"
   ]
  },
  {
   "cell_type": "code",
   "execution_count": null,
   "metadata": {},
   "outputs": [],
   "source": [
    "test=dfinal[pd.isna(dfinal[\"1_y\"])].drop_duplicates(subset=\"1_x\")"
   ]
  },
  {
   "cell_type": "code",
   "execution_count": null,
   "metadata": {},
   "outputs": [],
   "source": [
    "test"
   ]
  },
  {
   "cell_type": "code",
   "execution_count": null,
   "metadata": {},
   "outputs": [],
   "source": []
  },
  {
   "cell_type": "code",
   "execution_count": null,
   "metadata": {},
   "outputs": [],
   "source": [
    "cong = pd.read_csv(\"D:/ahn_pc/workfile/2021/阪神事故リスク/cong04.csv\", encoding=\"shift_jis\")"
   ]
  },
  {
   "cell_type": "code",
   "execution_count": null,
   "metadata": {},
   "outputs": [],
   "source": [
    "cong"
   ]
  },
  {
   "cell_type": "code",
   "execution_count": null,
   "metadata": {},
   "outputs": [],
   "source": [
    "congd = cong.loc[:,[\"idx\",\"cong\"]]"
   ]
  },
  {
   "cell_type": "code",
   "execution_count": null,
   "metadata": {},
   "outputs": [],
   "source": [
    "congd"
   ]
  },
  {
   "cell_type": "code",
   "execution_count": null,
   "metadata": {},
   "outputs": [],
   "source": [
    "dfinal2 = pd.merge(dfinal,congd, on=\"idx\", how=\"left\")"
   ]
  },
  {
   "cell_type": "code",
   "execution_count": null,
   "metadata": {},
   "outputs": [],
   "source": [
    "dfinal2"
   ]
  },
  {
   "cell_type": "code",
   "execution_count": null,
   "metadata": {},
   "outputs": [],
   "source": [
    "dfinal2.to_csv(\"D:/ahn_pc/workfile/2021/阪神事故リスク/dfinal4.csv\", index = False)"
   ]
  },
  {
   "cell_type": "code",
   "execution_count": null,
   "metadata": {},
   "outputs": [],
   "source": [
    "dfinal2 = pd.read_csv(\"D:/ahn_pc/workfile/2021/阪神事故リスク/dfinal4.csv\", encoding=\"shift_jis\")"
   ]
  },
  {
   "cell_type": "code",
   "execution_count": null,
   "metadata": {},
   "outputs": [],
   "source": []
  },
  {
   "cell_type": "code",
   "execution_count": null,
   "metadata": {},
   "outputs": [],
   "source": [
    "acc = pd.read_csv(\"D:/ahn_pc/workfile/2021/阪神事故リスク/accident.csv\", encoding=\"shift_jis\")"
   ]
  },
  {
   "cell_type": "code",
   "execution_count": null,
   "metadata": {},
   "outputs": [],
   "source": [
    "accd = acc.loc[:,[\"idx\",\"天候\",\"事故の形態\",\"交通状態\",\"発生日_曜日\",\"曜日種別E（営業）\"]]"
   ]
  },
  {
   "cell_type": "code",
   "execution_count": null,
   "metadata": {},
   "outputs": [],
   "source": [
    "accd[\"acci\"]=1"
   ]
  },
  {
   "cell_type": "code",
   "execution_count": null,
   "metadata": {},
   "outputs": [],
   "source": [
    "accd"
   ]
  },
  {
   "cell_type": "code",
   "execution_count": null,
   "metadata": {},
   "outputs": [],
   "source": [
    "dfinal3 = pd.merge(dfinal2,accd, on=\"idx\", how=\"left\")"
   ]
  },
  {
   "cell_type": "code",
   "execution_count": null,
   "metadata": {},
   "outputs": [],
   "source": [
    "dfinal3"
   ]
  },
  {
   "cell_type": "code",
   "execution_count": null,
   "metadata": {},
   "outputs": [],
   "source": [
    "dfinal3.to_csv(\"D:/ahn_pc/workfile/2021/阪神事故リスク/dfinal4_2.csv\", index = False)"
   ]
  },
  {
   "cell_type": "code",
   "execution_count": null,
   "metadata": {},
   "outputs": [],
   "source": [
    "#dfinal3 = pd.read_csv(\"D:/ahn_pc/workfile/2021/阪神事故リスク/dfinal4_2.csv\", encoding=\"shift_jis\")\n",
    "dfinal3 = pd.read_csv(\"D:/ahn_pc/workfile/2021/阪神事故リスク/dfinal4_2.csv\")"
   ]
  },
  {
   "cell_type": "code",
   "execution_count": null,
   "metadata": {},
   "outputs": [],
   "source": []
  },
  {
   "cell_type": "code",
   "execution_count": null,
   "metadata": {},
   "outputs": [],
   "source": [
    "dfinal3[\"tm\"]=pd.to_datetime(dfinal3[\"0_x\"])"
   ]
  },
  {
   "cell_type": "code",
   "execution_count": null,
   "metadata": {},
   "outputs": [],
   "source": [
    "dfinal3[\"week\"]=dfinal3.tm.dt.weekday"
   ]
  },
  {
   "cell_type": "code",
   "execution_count": null,
   "metadata": {},
   "outputs": [],
   "source": [
    "dfinal3[\"wcode\"]=1"
   ]
  },
  {
   "cell_type": "code",
   "execution_count": null,
   "metadata": {},
   "outputs": [],
   "source": [
    "#dc2.loc[(dfinal3.week>4)|(dc2.JDP状態==\"A\")|(dc2.JDP状態==\"D\"),\"cong\"]=2\n",
    "dfinal3.loc[(dfinal3.week==5),\"wcode\"]=2\n",
    "dfinal3.loc[(dfinal3.week==6),\"wcode\"]=3"
   ]
  },
  {
   "cell_type": "code",
   "execution_count": null,
   "metadata": {},
   "outputs": [],
   "source": [
    "dfinal3[\"hour\"]=dfinal3.tm.dt.hour"
   ]
  },
  {
   "cell_type": "code",
   "execution_count": null,
   "metadata": {},
   "outputs": [],
   "source": [
    "dfinal3[\"hcode\"]=2"
   ]
  },
  {
   "cell_type": "code",
   "execution_count": null,
   "metadata": {},
   "outputs": [],
   "source": [
    "dfinal3.loc[(dfinal3.hour>6)&(dfinal3.hour<20),\"hcode\"]=1"
   ]
  },
  {
   "cell_type": "code",
   "execution_count": null,
   "metadata": {},
   "outputs": [],
   "source": []
  },
  {
   "cell_type": "code",
   "execution_count": null,
   "metadata": {},
   "outputs": [],
   "source": [
    "dfinal3[\"dy\"]=pd.to_datetime(dfinal3[5])"
   ]
  },
  {
   "cell_type": "code",
   "execution_count": null,
   "metadata": {},
   "outputs": [],
   "source": [
    "dfinal3.dy"
   ]
  },
  {
   "cell_type": "code",
   "execution_count": null,
   "metadata": {},
   "outputs": [],
   "source": [
    "kyu = pd.read_csv(\"D:/ahn_pc/workfile/2021/阪神事故リスク/kyujitsu_2021.csv\", header=None)"
   ]
  },
  {
   "cell_type": "code",
   "execution_count": null,
   "metadata": {},
   "outputs": [],
   "source": [
    "kyu[\"dy\"]=pd.to_datetime(kyu[0])"
   ]
  },
  {
   "cell_type": "code",
   "execution_count": null,
   "metadata": {},
   "outputs": [],
   "source": [
    "kyu[\"kcode\"]=1"
   ]
  },
  {
   "cell_type": "code",
   "execution_count": null,
   "metadata": {},
   "outputs": [],
   "source": [
    "kyu.dy"
   ]
  },
  {
   "cell_type": "code",
   "execution_count": null,
   "metadata": {},
   "outputs": [],
   "source": [
    "dfinal4 = pd.merge(dfinal3,kyu, on=\"dy\", how=\"left\")"
   ]
  },
  {
   "cell_type": "code",
   "execution_count": null,
   "metadata": {},
   "outputs": [],
   "source": [
    "dfinal4"
   ]
  },
  {
   "cell_type": "code",
   "execution_count": null,
   "metadata": {},
   "outputs": [],
   "source": [
    "dfinal4[~pd.isna(dfinal4.kcode)].kcode"
   ]
  },
  {
   "cell_type": "code",
   "execution_count": null,
   "metadata": {},
   "outputs": [],
   "source": [
    "dfinal4.loc[(dfinal4.kcode==1),\"wcode\"]=3"
   ]
  },
  {
   "cell_type": "code",
   "execution_count": null,
   "metadata": {},
   "outputs": [],
   "source": []
  },
  {
   "cell_type": "code",
   "execution_count": null,
   "metadata": {},
   "outputs": [],
   "source": [
    "dfinal4.to_csv(\"D:/ahn_pc/workfile/2021/阪神事故リスク/dfinal4_3.csv\", index = False)"
   ]
  },
  {
   "cell_type": "code",
   "execution_count": null,
   "metadata": {},
   "outputs": [],
   "source": [
    "dfinal4 = pd.read_csv(\"D:/ahn_pc/workfile/2021/阪神事故リスク/dfinal4_3.csv\")"
   ]
  },
  {
   "cell_type": "code",
   "execution_count": null,
   "metadata": {},
   "outputs": [],
   "source": [
    "dfinal4"
   ]
  },
  {
   "cell_type": "code",
   "execution_count": null,
   "metadata": {},
   "outputs": [],
   "source": [
    "dfinal4.columns"
   ]
  },
  {
   "cell_type": "code",
   "execution_count": null,
   "metadata": {},
   "outputs": [],
   "source": [
    "dff = dfinal4.loc[:,[\"idx\",\"1_x\",\"2\",\"4\",\"5\",\"3\",\"7\",\"11\",\"trf\",\"cong\",\"acci\",\"wcode\",\"hcode\",\"kcode\"]]"
   ]
  },
  {
   "cell_type": "code",
   "execution_count": null,
   "metadata": {},
   "outputs": [],
   "source": [
    "dff"
   ]
  },
  {
   "cell_type": "code",
   "execution_count": null,
   "metadata": {},
   "outputs": [],
   "source": [
    "dff.to_csv(\"D:/ahn_pc/workfile/2021/阪神事故リスク/dff4.csv\", index = False)"
   ]
  },
  {
   "cell_type": "code",
   "execution_count": null,
   "metadata": {},
   "outputs": [],
   "source": []
  }
 ],
 "metadata": {
  "kernelspec": {
   "display_name": "Python 3",
   "language": "python",
   "name": "python3"
  },
  "language_info": {
   "codemirror_mode": {
    "name": "ipython",
    "version": 3
   },
   "file_extension": ".py",
   "mimetype": "text/x-python",
   "name": "python",
   "nbconvert_exporter": "python",
   "pygments_lexer": "ipython3",
   "version": "3.7.6"
  }
 },
 "nbformat": 4,
 "nbformat_minor": 4
}
