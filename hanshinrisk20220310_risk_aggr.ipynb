{
 "cells": [
  {
   "cell_type": "code",
   "execution_count": 1,
   "metadata": {},
   "outputs": [],
   "source": [
    "import os.path\n",
    "import glob\n",
    "import pandas as pd\n",
    "import numpy as np\n",
    "import matplotlib.pyplot as plt\n",
    "from ipywidgets import interact\n",
    "import ipywidgets as widgets\n",
    "from scipy.stats import hmean\n",
    "from datetime import datetime as dtm"
   ]
  },
  {
   "cell_type": "code",
   "execution_count": 98,
   "metadata": {},
   "outputs": [],
   "source": [
    "df = pd.read_csv(\"D:/ahn_pc/workfile/2021/阪神事故リスク/result/dff10.csv\", encoding=\"shift_jis\")"
   ]
  },
  {
   "cell_type": "code",
   "execution_count": 99,
   "metadata": {},
   "outputs": [],
   "source": [
    "suberi=pd.read_csv(\"D:/ahn_pc/workfile/2021/阪神事故リスク/suberi_2.csv\", encoding=\"shift_jis\")"
   ]
  },
  {
   "cell_type": "code",
   "execution_count": 100,
   "metadata": {},
   "outputs": [],
   "source": [
    "suberj = pd.DataFrame(suberi.jdp.drop_duplicates())"
   ]
  },
  {
   "cell_type": "code",
   "execution_count": 101,
   "metadata": {},
   "outputs": [],
   "source": [
    "suberj[\"suberij\"]=1"
   ]
  },
  {
   "cell_type": "code",
   "execution_count": 102,
   "metadata": {},
   "outputs": [],
   "source": [
    "suberj.columns=[\"jdp\",\"suberij\"]"
   ]
  },
  {
   "cell_type": "code",
   "execution_count": 103,
   "metadata": {},
   "outputs": [
    {
     "data": {
      "text/html": [
       "<div>\n",
       "<style scoped>\n",
       "    .dataframe tbody tr th:only-of-type {\n",
       "        vertical-align: middle;\n",
       "    }\n",
       "\n",
       "    .dataframe tbody tr th {\n",
       "        vertical-align: top;\n",
       "    }\n",
       "\n",
       "    .dataframe thead th {\n",
       "        text-align: right;\n",
       "    }\n",
       "</style>\n",
       "<table border=\"1\" class=\"dataframe\">\n",
       "  <thead>\n",
       "    <tr style=\"text-align: right;\">\n",
       "      <th></th>\n",
       "      <th>jdp</th>\n",
       "      <th>suberij</th>\n",
       "    </tr>\n",
       "  </thead>\n",
       "  <tbody>\n",
       "    <tr>\n",
       "      <th>0</th>\n",
       "      <td>2</td>\n",
       "      <td>1</td>\n",
       "    </tr>\n",
       "    <tr>\n",
       "      <th>4</th>\n",
       "      <td>3</td>\n",
       "      <td>1</td>\n",
       "    </tr>\n",
       "    <tr>\n",
       "      <th>5</th>\n",
       "      <td>74</td>\n",
       "      <td>1</td>\n",
       "    </tr>\n",
       "    <tr>\n",
       "      <th>6</th>\n",
       "      <td>75</td>\n",
       "      <td>1</td>\n",
       "    </tr>\n",
       "    <tr>\n",
       "      <th>10</th>\n",
       "      <td>78</td>\n",
       "      <td>1</td>\n",
       "    </tr>\n",
       "    <tr>\n",
       "      <th>...</th>\n",
       "      <td>...</td>\n",
       "      <td>...</td>\n",
       "    </tr>\n",
       "    <tr>\n",
       "      <th>238</th>\n",
       "      <td>1224</td>\n",
       "      <td>1</td>\n",
       "    </tr>\n",
       "    <tr>\n",
       "      <th>243</th>\n",
       "      <td>1226</td>\n",
       "      <td>1</td>\n",
       "    </tr>\n",
       "    <tr>\n",
       "      <th>244</th>\n",
       "      <td>1227</td>\n",
       "      <td>1</td>\n",
       "    </tr>\n",
       "    <tr>\n",
       "      <th>249</th>\n",
       "      <td>1228</td>\n",
       "      <td>1</td>\n",
       "    </tr>\n",
       "    <tr>\n",
       "      <th>251</th>\n",
       "      <td>1239</td>\n",
       "      <td>1</td>\n",
       "    </tr>\n",
       "  </tbody>\n",
       "</table>\n",
       "<p>89 rows × 2 columns</p>\n",
       "</div>"
      ],
      "text/plain": [
       "      jdp  suberij\n",
       "0       2        1\n",
       "4       3        1\n",
       "5      74        1\n",
       "6      75        1\n",
       "10     78        1\n",
       "..    ...      ...\n",
       "238  1224        1\n",
       "243  1226        1\n",
       "244  1227        1\n",
       "249  1228        1\n",
       "251  1239        1\n",
       "\n",
       "[89 rows x 2 columns]"
      ]
     },
     "execution_count": 103,
     "metadata": {},
     "output_type": "execute_result"
    }
   ],
   "source": [
    "suberj"
   ]
  },
  {
   "cell_type": "code",
   "execution_count": 104,
   "metadata": {},
   "outputs": [],
   "source": [
    "df[\"jdp\"]=df.JDP番号"
   ]
  },
  {
   "cell_type": "code",
   "execution_count": 105,
   "metadata": {},
   "outputs": [],
   "source": [
    "dfs = pd.merge(df,suberj, on=\"jdp\", how=\"left\")"
   ]
  },
  {
   "cell_type": "code",
   "execution_count": 106,
   "metadata": {},
   "outputs": [],
   "source": [
    "dfs.loc[dfs.suberij!=1,\"suberij\"]=0"
   ]
  },
  {
   "cell_type": "code",
   "execution_count": 107,
   "metadata": {},
   "outputs": [],
   "source": [
    "dfs.loc[dfs.jdp==1166,\"suberij\"]=2"
   ]
  },
  {
   "cell_type": "code",
   "execution_count": 108,
   "metadata": {},
   "outputs": [
    {
     "data": {
      "text/html": [
       "<div>\n",
       "<style scoped>\n",
       "    .dataframe tbody tr th:only-of-type {\n",
       "        vertical-align: middle;\n",
       "    }\n",
       "\n",
       "    .dataframe tbody tr th {\n",
       "        vertical-align: top;\n",
       "    }\n",
       "\n",
       "    .dataframe thead th {\n",
       "        text-align: right;\n",
       "    }\n",
       "</style>\n",
       "<table border=\"1\" class=\"dataframe\">\n",
       "  <thead>\n",
       "    <tr style=\"text-align: right;\">\n",
       "      <th></th>\n",
       "      <th>idx</th>\n",
       "      <th>地区名</th>\n",
       "      <th>JDP番号</th>\n",
       "      <th>区間番号</th>\n",
       "      <th>日付</th>\n",
       "      <th>時間</th>\n",
       "      <th>区間長</th>\n",
       "      <th>エラー</th>\n",
       "      <th>速度</th>\n",
       "      <th>交通量</th>\n",
       "      <th>渋滞</th>\n",
       "      <th>事故</th>\n",
       "      <th>休日</th>\n",
       "      <th>時間帯</th>\n",
       "      <th>kcode</th>\n",
       "      <th>降水量</th>\n",
       "      <th>滑り止め</th>\n",
       "      <th>jdp</th>\n",
       "      <th>suberij</th>\n",
       "    </tr>\n",
       "  </thead>\n",
       "  <tbody>\n",
       "    <tr>\n",
       "      <th>9365473</th>\n",
       "      <td>2021-10-01 00:00:00_140</td>\n",
       "      <td>兵庫</td>\n",
       "      <td>1166</td>\n",
       "      <td>140</td>\n",
       "      <td>2021/10/01</td>\n",
       "      <td>0:00:00</td>\n",
       "      <td>3</td>\n",
       "      <td>NaN</td>\n",
       "      <td>99</td>\n",
       "      <td>6.0</td>\n",
       "      <td>NaN</td>\n",
       "      <td>NaN</td>\n",
       "      <td>1</td>\n",
       "      <td>2</td>\n",
       "      <td>NaN</td>\n",
       "      <td>0.0</td>\n",
       "      <td>0</td>\n",
       "      <td>1166</td>\n",
       "      <td>2.0</td>\n",
       "    </tr>\n",
       "    <tr>\n",
       "      <th>9365474</th>\n",
       "      <td>2021-10-01 00:05:00_140</td>\n",
       "      <td>兵庫</td>\n",
       "      <td>1166</td>\n",
       "      <td>140</td>\n",
       "      <td>2021/10/01</td>\n",
       "      <td>0:05:00</td>\n",
       "      <td>3</td>\n",
       "      <td>NaN</td>\n",
       "      <td>99</td>\n",
       "      <td>6.0</td>\n",
       "      <td>NaN</td>\n",
       "      <td>NaN</td>\n",
       "      <td>1</td>\n",
       "      <td>2</td>\n",
       "      <td>NaN</td>\n",
       "      <td>0.0</td>\n",
       "      <td>0</td>\n",
       "      <td>1166</td>\n",
       "      <td>2.0</td>\n",
       "    </tr>\n",
       "    <tr>\n",
       "      <th>9365475</th>\n",
       "      <td>2021-10-01 00:10:00_140</td>\n",
       "      <td>兵庫</td>\n",
       "      <td>1166</td>\n",
       "      <td>140</td>\n",
       "      <td>2021/10/01</td>\n",
       "      <td>0:10:00</td>\n",
       "      <td>3</td>\n",
       "      <td>NaN</td>\n",
       "      <td>0</td>\n",
       "      <td>3.0</td>\n",
       "      <td>NaN</td>\n",
       "      <td>NaN</td>\n",
       "      <td>1</td>\n",
       "      <td>2</td>\n",
       "      <td>NaN</td>\n",
       "      <td>0.0</td>\n",
       "      <td>0</td>\n",
       "      <td>1166</td>\n",
       "      <td>2.0</td>\n",
       "    </tr>\n",
       "    <tr>\n",
       "      <th>9365476</th>\n",
       "      <td>2021-10-01 00:15:00_140</td>\n",
       "      <td>兵庫</td>\n",
       "      <td>1166</td>\n",
       "      <td>140</td>\n",
       "      <td>2021/10/01</td>\n",
       "      <td>0:15:00</td>\n",
       "      <td>3</td>\n",
       "      <td>NaN</td>\n",
       "      <td>120</td>\n",
       "      <td>8.0</td>\n",
       "      <td>NaN</td>\n",
       "      <td>NaN</td>\n",
       "      <td>1</td>\n",
       "      <td>2</td>\n",
       "      <td>NaN</td>\n",
       "      <td>0.0</td>\n",
       "      <td>0</td>\n",
       "      <td>1166</td>\n",
       "      <td>2.0</td>\n",
       "    </tr>\n",
       "    <tr>\n",
       "      <th>9365477</th>\n",
       "      <td>2021-10-01 00:20:00_140</td>\n",
       "      <td>兵庫</td>\n",
       "      <td>1166</td>\n",
       "      <td>140</td>\n",
       "      <td>2021/10/01</td>\n",
       "      <td>0:20:00</td>\n",
       "      <td>3</td>\n",
       "      <td>NaN</td>\n",
       "      <td>47</td>\n",
       "      <td>8.0</td>\n",
       "      <td>NaN</td>\n",
       "      <td>NaN</td>\n",
       "      <td>1</td>\n",
       "      <td>2</td>\n",
       "      <td>NaN</td>\n",
       "      <td>0.0</td>\n",
       "      <td>0</td>\n",
       "      <td>1166</td>\n",
       "      <td>2.0</td>\n",
       "    </tr>\n",
       "    <tr>\n",
       "      <th>...</th>\n",
       "      <td>...</td>\n",
       "      <td>...</td>\n",
       "      <td>...</td>\n",
       "      <td>...</td>\n",
       "      <td>...</td>\n",
       "      <td>...</td>\n",
       "      <td>...</td>\n",
       "      <td>...</td>\n",
       "      <td>...</td>\n",
       "      <td>...</td>\n",
       "      <td>...</td>\n",
       "      <td>...</td>\n",
       "      <td>...</td>\n",
       "      <td>...</td>\n",
       "      <td>...</td>\n",
       "      <td>...</td>\n",
       "      <td>...</td>\n",
       "      <td>...</td>\n",
       "      <td>...</td>\n",
       "    </tr>\n",
       "    <tr>\n",
       "      <th>9374396</th>\n",
       "      <td>2021-10-31 23:35:00_140</td>\n",
       "      <td>兵庫</td>\n",
       "      <td>1166</td>\n",
       "      <td>140</td>\n",
       "      <td>2021/10/31</td>\n",
       "      <td>23:35:00</td>\n",
       "      <td>3</td>\n",
       "      <td>NaN</td>\n",
       "      <td>99</td>\n",
       "      <td>10.0</td>\n",
       "      <td>NaN</td>\n",
       "      <td>NaN</td>\n",
       "      <td>3</td>\n",
       "      <td>2</td>\n",
       "      <td>NaN</td>\n",
       "      <td>0.0</td>\n",
       "      <td>0</td>\n",
       "      <td>1166</td>\n",
       "      <td>2.0</td>\n",
       "    </tr>\n",
       "    <tr>\n",
       "      <th>9374397</th>\n",
       "      <td>2021-10-31 23:40:00_140</td>\n",
       "      <td>兵庫</td>\n",
       "      <td>1166</td>\n",
       "      <td>140</td>\n",
       "      <td>2021/10/31</td>\n",
       "      <td>23:40:00</td>\n",
       "      <td>3</td>\n",
       "      <td>NaN</td>\n",
       "      <td>120</td>\n",
       "      <td>8.0</td>\n",
       "      <td>NaN</td>\n",
       "      <td>NaN</td>\n",
       "      <td>3</td>\n",
       "      <td>2</td>\n",
       "      <td>NaN</td>\n",
       "      <td>0.0</td>\n",
       "      <td>0</td>\n",
       "      <td>1166</td>\n",
       "      <td>2.0</td>\n",
       "    </tr>\n",
       "    <tr>\n",
       "      <th>9374398</th>\n",
       "      <td>2021-10-31 23:45:00_140</td>\n",
       "      <td>兵庫</td>\n",
       "      <td>1166</td>\n",
       "      <td>140</td>\n",
       "      <td>2021/10/31</td>\n",
       "      <td>23:45:00</td>\n",
       "      <td>3</td>\n",
       "      <td>NaN</td>\n",
       "      <td>0</td>\n",
       "      <td>7.0</td>\n",
       "      <td>NaN</td>\n",
       "      <td>NaN</td>\n",
       "      <td>3</td>\n",
       "      <td>2</td>\n",
       "      <td>NaN</td>\n",
       "      <td>0.0</td>\n",
       "      <td>0</td>\n",
       "      <td>1166</td>\n",
       "      <td>2.0</td>\n",
       "    </tr>\n",
       "    <tr>\n",
       "      <th>9374399</th>\n",
       "      <td>2021-10-31 23:50:00_140</td>\n",
       "      <td>兵庫</td>\n",
       "      <td>1166</td>\n",
       "      <td>140</td>\n",
       "      <td>2021/10/31</td>\n",
       "      <td>23:50:00</td>\n",
       "      <td>3</td>\n",
       "      <td>NaN</td>\n",
       "      <td>99</td>\n",
       "      <td>6.0</td>\n",
       "      <td>NaN</td>\n",
       "      <td>NaN</td>\n",
       "      <td>3</td>\n",
       "      <td>2</td>\n",
       "      <td>NaN</td>\n",
       "      <td>0.0</td>\n",
       "      <td>0</td>\n",
       "      <td>1166</td>\n",
       "      <td>2.0</td>\n",
       "    </tr>\n",
       "    <tr>\n",
       "      <th>9374400</th>\n",
       "      <td>2021-10-31 23:55:00_140</td>\n",
       "      <td>兵庫</td>\n",
       "      <td>1166</td>\n",
       "      <td>140</td>\n",
       "      <td>2021/10/31</td>\n",
       "      <td>23:55:00</td>\n",
       "      <td>3</td>\n",
       "      <td>NaN</td>\n",
       "      <td>0</td>\n",
       "      <td>7.0</td>\n",
       "      <td>NaN</td>\n",
       "      <td>NaN</td>\n",
       "      <td>3</td>\n",
       "      <td>2</td>\n",
       "      <td>NaN</td>\n",
       "      <td>0.0</td>\n",
       "      <td>0</td>\n",
       "      <td>1166</td>\n",
       "      <td>2.0</td>\n",
       "    </tr>\n",
       "  </tbody>\n",
       "</table>\n",
       "<p>8928 rows × 19 columns</p>\n",
       "</div>"
      ],
      "text/plain": [
       "                             idx 地区名  JDP番号  区間番号          日付        時間  区間長  \\\n",
       "9365473  2021-10-01 00:00:00_140  兵庫   1166   140  2021/10/01   0:00:00    3   \n",
       "9365474  2021-10-01 00:05:00_140  兵庫   1166   140  2021/10/01   0:05:00    3   \n",
       "9365475  2021-10-01 00:10:00_140  兵庫   1166   140  2021/10/01   0:10:00    3   \n",
       "9365476  2021-10-01 00:15:00_140  兵庫   1166   140  2021/10/01   0:15:00    3   \n",
       "9365477  2021-10-01 00:20:00_140  兵庫   1166   140  2021/10/01   0:20:00    3   \n",
       "...                          ...  ..    ...   ...         ...       ...  ...   \n",
       "9374396  2021-10-31 23:35:00_140  兵庫   1166   140  2021/10/31  23:35:00    3   \n",
       "9374397  2021-10-31 23:40:00_140  兵庫   1166   140  2021/10/31  23:40:00    3   \n",
       "9374398  2021-10-31 23:45:00_140  兵庫   1166   140  2021/10/31  23:45:00    3   \n",
       "9374399  2021-10-31 23:50:00_140  兵庫   1166   140  2021/10/31  23:50:00    3   \n",
       "9374400  2021-10-31 23:55:00_140  兵庫   1166   140  2021/10/31  23:55:00    3   \n",
       "\n",
       "         エラー   速度   交通量  渋滞  事故  休日  時間帯  kcode  降水量  滑り止め   jdp  suberij  \n",
       "9365473  NaN   99   6.0 NaN NaN   1    2    NaN  0.0     0  1166      2.0  \n",
       "9365474  NaN   99   6.0 NaN NaN   1    2    NaN  0.0     0  1166      2.0  \n",
       "9365475  NaN    0   3.0 NaN NaN   1    2    NaN  0.0     0  1166      2.0  \n",
       "9365476  NaN  120   8.0 NaN NaN   1    2    NaN  0.0     0  1166      2.0  \n",
       "9365477  NaN   47   8.0 NaN NaN   1    2    NaN  0.0     0  1166      2.0  \n",
       "...      ...  ...   ...  ..  ..  ..  ...    ...  ...   ...   ...      ...  \n",
       "9374396  NaN   99  10.0 NaN NaN   3    2    NaN  0.0     0  1166      2.0  \n",
       "9374397  NaN  120   8.0 NaN NaN   3    2    NaN  0.0     0  1166      2.0  \n",
       "9374398  NaN    0   7.0 NaN NaN   3    2    NaN  0.0     0  1166      2.0  \n",
       "9374399  NaN   99   6.0 NaN NaN   3    2    NaN  0.0     0  1166      2.0  \n",
       "9374400  NaN    0   7.0 NaN NaN   3    2    NaN  0.0     0  1166      2.0  \n",
       "\n",
       "[8928 rows x 19 columns]"
      ]
     },
     "execution_count": 108,
     "metadata": {},
     "output_type": "execute_result"
    }
   ],
   "source": [
    "dfs[dfs.suberij==2]"
   ]
  },
  {
   "cell_type": "code",
   "execution_count": 109,
   "metadata": {},
   "outputs": [
    {
     "data": {
      "text/html": [
       "<div>\n",
       "<style scoped>\n",
       "    .dataframe tbody tr th:only-of-type {\n",
       "        vertical-align: middle;\n",
       "    }\n",
       "\n",
       "    .dataframe tbody tr th {\n",
       "        vertical-align: top;\n",
       "    }\n",
       "\n",
       "    .dataframe thead th {\n",
       "        text-align: right;\n",
       "    }\n",
       "</style>\n",
       "<table border=\"1\" class=\"dataframe\">\n",
       "  <thead>\n",
       "    <tr style=\"text-align: right;\">\n",
       "      <th></th>\n",
       "      <th>idx</th>\n",
       "      <th>地区名</th>\n",
       "      <th>JDP番号</th>\n",
       "      <th>区間番号</th>\n",
       "      <th>日付</th>\n",
       "      <th>時間</th>\n",
       "      <th>区間長</th>\n",
       "      <th>エラー</th>\n",
       "      <th>速度</th>\n",
       "      <th>交通量</th>\n",
       "      <th>渋滞</th>\n",
       "      <th>事故</th>\n",
       "      <th>休日</th>\n",
       "      <th>時間帯</th>\n",
       "      <th>kcode</th>\n",
       "      <th>降水量</th>\n",
       "      <th>滑り止め</th>\n",
       "      <th>jdp</th>\n",
       "      <th>suberij</th>\n",
       "    </tr>\n",
       "  </thead>\n",
       "  <tbody>\n",
       "    <tr>\n",
       "      <th>2624832</th>\n",
       "      <td>2021-10-01 00:00:00_508</td>\n",
       "      <td>大阪</td>\n",
       "      <td>305</td>\n",
       "      <td>508</td>\n",
       "      <td>2021/10/01</td>\n",
       "      <td>0:00:00</td>\n",
       "      <td>2</td>\n",
       "      <td>NaN</td>\n",
       "      <td>51</td>\n",
       "      <td>NaN</td>\n",
       "      <td>NaN</td>\n",
       "      <td>NaN</td>\n",
       "      <td>1</td>\n",
       "      <td>2</td>\n",
       "      <td>NaN</td>\n",
       "      <td>0.0</td>\n",
       "      <td>0</td>\n",
       "      <td>305</td>\n",
       "      <td>0.0</td>\n",
       "    </tr>\n",
       "    <tr>\n",
       "      <th>2624833</th>\n",
       "      <td>2021-10-01 00:05:00_508</td>\n",
       "      <td>大阪</td>\n",
       "      <td>305</td>\n",
       "      <td>508</td>\n",
       "      <td>2021/10/01</td>\n",
       "      <td>0:05:00</td>\n",
       "      <td>2</td>\n",
       "      <td>NaN</td>\n",
       "      <td>41</td>\n",
       "      <td>NaN</td>\n",
       "      <td>NaN</td>\n",
       "      <td>NaN</td>\n",
       "      <td>1</td>\n",
       "      <td>2</td>\n",
       "      <td>NaN</td>\n",
       "      <td>0.0</td>\n",
       "      <td>0</td>\n",
       "      <td>305</td>\n",
       "      <td>0.0</td>\n",
       "    </tr>\n",
       "    <tr>\n",
       "      <th>2624834</th>\n",
       "      <td>2021-10-01 00:10:00_508</td>\n",
       "      <td>大阪</td>\n",
       "      <td>305</td>\n",
       "      <td>508</td>\n",
       "      <td>2021/10/01</td>\n",
       "      <td>0:10:00</td>\n",
       "      <td>2</td>\n",
       "      <td>NaN</td>\n",
       "      <td>43</td>\n",
       "      <td>NaN</td>\n",
       "      <td>NaN</td>\n",
       "      <td>NaN</td>\n",
       "      <td>1</td>\n",
       "      <td>2</td>\n",
       "      <td>NaN</td>\n",
       "      <td>0.0</td>\n",
       "      <td>0</td>\n",
       "      <td>305</td>\n",
       "      <td>0.0</td>\n",
       "    </tr>\n",
       "    <tr>\n",
       "      <th>2624835</th>\n",
       "      <td>2021-10-01 00:15:00_508</td>\n",
       "      <td>大阪</td>\n",
       "      <td>305</td>\n",
       "      <td>508</td>\n",
       "      <td>2021/10/01</td>\n",
       "      <td>0:15:00</td>\n",
       "      <td>2</td>\n",
       "      <td>NaN</td>\n",
       "      <td>61</td>\n",
       "      <td>NaN</td>\n",
       "      <td>NaN</td>\n",
       "      <td>NaN</td>\n",
       "      <td>1</td>\n",
       "      <td>2</td>\n",
       "      <td>NaN</td>\n",
       "      <td>0.0</td>\n",
       "      <td>0</td>\n",
       "      <td>305</td>\n",
       "      <td>0.0</td>\n",
       "    </tr>\n",
       "    <tr>\n",
       "      <th>2624836</th>\n",
       "      <td>2021-10-01 00:20:00_508</td>\n",
       "      <td>大阪</td>\n",
       "      <td>305</td>\n",
       "      <td>508</td>\n",
       "      <td>2021/10/01</td>\n",
       "      <td>0:20:00</td>\n",
       "      <td>2</td>\n",
       "      <td>NaN</td>\n",
       "      <td>58</td>\n",
       "      <td>NaN</td>\n",
       "      <td>NaN</td>\n",
       "      <td>NaN</td>\n",
       "      <td>1</td>\n",
       "      <td>2</td>\n",
       "      <td>NaN</td>\n",
       "      <td>0.0</td>\n",
       "      <td>0</td>\n",
       "      <td>305</td>\n",
       "      <td>0.0</td>\n",
       "    </tr>\n",
       "    <tr>\n",
       "      <th>...</th>\n",
       "      <td>...</td>\n",
       "      <td>...</td>\n",
       "      <td>...</td>\n",
       "      <td>...</td>\n",
       "      <td>...</td>\n",
       "      <td>...</td>\n",
       "      <td>...</td>\n",
       "      <td>...</td>\n",
       "      <td>...</td>\n",
       "      <td>...</td>\n",
       "      <td>...</td>\n",
       "      <td>...</td>\n",
       "      <td>...</td>\n",
       "      <td>...</td>\n",
       "      <td>...</td>\n",
       "      <td>...</td>\n",
       "      <td>...</td>\n",
       "      <td>...</td>\n",
       "      <td>...</td>\n",
       "    </tr>\n",
       "    <tr>\n",
       "      <th>9722588</th>\n",
       "      <td>2021-10-31 23:35:00_497</td>\n",
       "      <td>湾岸</td>\n",
       "      <td>1292</td>\n",
       "      <td>497</td>\n",
       "      <td>2021/10/31</td>\n",
       "      <td>23:35:00</td>\n",
       "      <td>2</td>\n",
       "      <td>NaN</td>\n",
       "      <td>54</td>\n",
       "      <td>NaN</td>\n",
       "      <td>NaN</td>\n",
       "      <td>NaN</td>\n",
       "      <td>3</td>\n",
       "      <td>2</td>\n",
       "      <td>NaN</td>\n",
       "      <td>0.0</td>\n",
       "      <td>0</td>\n",
       "      <td>1292</td>\n",
       "      <td>0.0</td>\n",
       "    </tr>\n",
       "    <tr>\n",
       "      <th>9722589</th>\n",
       "      <td>2021-10-31 23:40:00_497</td>\n",
       "      <td>湾岸</td>\n",
       "      <td>1292</td>\n",
       "      <td>497</td>\n",
       "      <td>2021/10/31</td>\n",
       "      <td>23:40:00</td>\n",
       "      <td>2</td>\n",
       "      <td>NaN</td>\n",
       "      <td>40</td>\n",
       "      <td>NaN</td>\n",
       "      <td>NaN</td>\n",
       "      <td>NaN</td>\n",
       "      <td>3</td>\n",
       "      <td>2</td>\n",
       "      <td>NaN</td>\n",
       "      <td>0.0</td>\n",
       "      <td>0</td>\n",
       "      <td>1292</td>\n",
       "      <td>0.0</td>\n",
       "    </tr>\n",
       "    <tr>\n",
       "      <th>9722590</th>\n",
       "      <td>2021-10-31 23:45:00_497</td>\n",
       "      <td>湾岸</td>\n",
       "      <td>1292</td>\n",
       "      <td>497</td>\n",
       "      <td>2021/10/31</td>\n",
       "      <td>23:45:00</td>\n",
       "      <td>2</td>\n",
       "      <td>NaN</td>\n",
       "      <td>36</td>\n",
       "      <td>NaN</td>\n",
       "      <td>NaN</td>\n",
       "      <td>NaN</td>\n",
       "      <td>3</td>\n",
       "      <td>2</td>\n",
       "      <td>NaN</td>\n",
       "      <td>0.0</td>\n",
       "      <td>0</td>\n",
       "      <td>1292</td>\n",
       "      <td>0.0</td>\n",
       "    </tr>\n",
       "    <tr>\n",
       "      <th>9722591</th>\n",
       "      <td>2021-10-31 23:50:00_497</td>\n",
       "      <td>湾岸</td>\n",
       "      <td>1292</td>\n",
       "      <td>497</td>\n",
       "      <td>2021/10/31</td>\n",
       "      <td>23:50:00</td>\n",
       "      <td>2</td>\n",
       "      <td>NaN</td>\n",
       "      <td>99</td>\n",
       "      <td>NaN</td>\n",
       "      <td>NaN</td>\n",
       "      <td>NaN</td>\n",
       "      <td>3</td>\n",
       "      <td>2</td>\n",
       "      <td>NaN</td>\n",
       "      <td>0.0</td>\n",
       "      <td>0</td>\n",
       "      <td>1292</td>\n",
       "      <td>0.0</td>\n",
       "    </tr>\n",
       "    <tr>\n",
       "      <th>9722592</th>\n",
       "      <td>2021-10-31 23:55:00_497</td>\n",
       "      <td>湾岸</td>\n",
       "      <td>1292</td>\n",
       "      <td>497</td>\n",
       "      <td>2021/10/31</td>\n",
       "      <td>23:55:00</td>\n",
       "      <td>2</td>\n",
       "      <td>NaN</td>\n",
       "      <td>50</td>\n",
       "      <td>NaN</td>\n",
       "      <td>NaN</td>\n",
       "      <td>NaN</td>\n",
       "      <td>3</td>\n",
       "      <td>2</td>\n",
       "      <td>NaN</td>\n",
       "      <td>0.0</td>\n",
       "      <td>0</td>\n",
       "      <td>1292</td>\n",
       "      <td>0.0</td>\n",
       "    </tr>\n",
       "  </tbody>\n",
       "</table>\n",
       "<p>71424 rows × 19 columns</p>\n",
       "</div>"
      ],
      "text/plain": [
       "                             idx 地区名  JDP番号  区間番号          日付        時間  区間長  \\\n",
       "2624832  2021-10-01 00:00:00_508  大阪    305   508  2021/10/01   0:00:00    2   \n",
       "2624833  2021-10-01 00:05:00_508  大阪    305   508  2021/10/01   0:05:00    2   \n",
       "2624834  2021-10-01 00:10:00_508  大阪    305   508  2021/10/01   0:10:00    2   \n",
       "2624835  2021-10-01 00:15:00_508  大阪    305   508  2021/10/01   0:15:00    2   \n",
       "2624836  2021-10-01 00:20:00_508  大阪    305   508  2021/10/01   0:20:00    2   \n",
       "...                          ...  ..    ...   ...         ...       ...  ...   \n",
       "9722588  2021-10-31 23:35:00_497  湾岸   1292   497  2021/10/31  23:35:00    2   \n",
       "9722589  2021-10-31 23:40:00_497  湾岸   1292   497  2021/10/31  23:40:00    2   \n",
       "9722590  2021-10-31 23:45:00_497  湾岸   1292   497  2021/10/31  23:45:00    2   \n",
       "9722591  2021-10-31 23:50:00_497  湾岸   1292   497  2021/10/31  23:50:00    2   \n",
       "9722592  2021-10-31 23:55:00_497  湾岸   1292   497  2021/10/31  23:55:00    2   \n",
       "\n",
       "         エラー  速度  交通量  渋滞  事故  休日  時間帯  kcode  降水量  滑り止め   jdp  suberij  \n",
       "2624832  NaN  51  NaN NaN NaN   1    2    NaN  0.0     0   305      0.0  \n",
       "2624833  NaN  41  NaN NaN NaN   1    2    NaN  0.0     0   305      0.0  \n",
       "2624834  NaN  43  NaN NaN NaN   1    2    NaN  0.0     0   305      0.0  \n",
       "2624835  NaN  61  NaN NaN NaN   1    2    NaN  0.0     0   305      0.0  \n",
       "2624836  NaN  58  NaN NaN NaN   1    2    NaN  0.0     0   305      0.0  \n",
       "...      ...  ..  ...  ..  ..  ..  ...    ...  ...   ...   ...      ...  \n",
       "9722588  NaN  54  NaN NaN NaN   3    2    NaN  0.0     0  1292      0.0  \n",
       "9722589  NaN  40  NaN NaN NaN   3    2    NaN  0.0     0  1292      0.0  \n",
       "9722590  NaN  36  NaN NaN NaN   3    2    NaN  0.0     0  1292      0.0  \n",
       "9722591  NaN  99  NaN NaN NaN   3    2    NaN  0.0     0  1292      0.0  \n",
       "9722592  NaN  50  NaN NaN NaN   3    2    NaN  0.0     0  1292      0.0  \n",
       "\n",
       "[71424 rows x 19 columns]"
      ]
     },
     "execution_count": 109,
     "metadata": {},
     "output_type": "execute_result"
    }
   ],
   "source": [
    "dfs[pd.isna(dfs[\"交通量\"])]"
   ]
  },
  {
   "cell_type": "code",
   "execution_count": 110,
   "metadata": {},
   "outputs": [],
   "source": [
    "dfs[\"jidx\"]=dfs.idx.str[:20]+dfs.jdp.astype(str)"
   ]
  },
  {
   "cell_type": "code",
   "execution_count": 111,
   "metadata": {},
   "outputs": [],
   "source": [
    "ds = pd.read_csv(\"D:/ahn_pc/workfile/2021/阪神事故リスク/dataset/ds_10.csv\", encoding=\"shift_jis\")"
   ]
  },
  {
   "cell_type": "code",
   "execution_count": 112,
   "metadata": {},
   "outputs": [],
   "source": [
    "df2 = pd.merge(dfs,ds, on=\"jidx\", how=\"left\")"
   ]
  },
  {
   "cell_type": "code",
   "execution_count": 113,
   "metadata": {},
   "outputs": [
    {
     "data": {
      "text/html": [
       "<div>\n",
       "<style scoped>\n",
       "    .dataframe tbody tr th:only-of-type {\n",
       "        vertical-align: middle;\n",
       "    }\n",
       "\n",
       "    .dataframe tbody tr th {\n",
       "        vertical-align: top;\n",
       "    }\n",
       "\n",
       "    .dataframe thead th {\n",
       "        text-align: right;\n",
       "    }\n",
       "</style>\n",
       "<table border=\"1\" class=\"dataframe\">\n",
       "  <thead>\n",
       "    <tr style=\"text-align: right;\">\n",
       "      <th></th>\n",
       "      <th>idx_x</th>\n",
       "      <th>地区名</th>\n",
       "      <th>JDP番号</th>\n",
       "      <th>区間番号</th>\n",
       "      <th>日付</th>\n",
       "      <th>時間</th>\n",
       "      <th>区間長</th>\n",
       "      <th>エラー</th>\n",
       "      <th>速度</th>\n",
       "      <th>交通量</th>\n",
       "      <th>...</th>\n",
       "      <th>jspd1</th>\n",
       "      <th>jtrf2</th>\n",
       "      <th>jocc2</th>\n",
       "      <th>jspd2</th>\n",
       "      <th>jtrf3</th>\n",
       "      <th>jocc3</th>\n",
       "      <th>jspd3</th>\n",
       "      <th>jtrf4</th>\n",
       "      <th>jocc4</th>\n",
       "      <th>jspd4</th>\n",
       "    </tr>\n",
       "  </thead>\n",
       "  <tbody>\n",
       "    <tr>\n",
       "      <th>0</th>\n",
       "      <td>2021-10-01 00:00:00_1</td>\n",
       "      <td>大阪</td>\n",
       "      <td>1</td>\n",
       "      <td>1</td>\n",
       "      <td>2021/10/01</td>\n",
       "      <td>0:00:00</td>\n",
       "      <td>4</td>\n",
       "      <td>NaN</td>\n",
       "      <td>63</td>\n",
       "      <td>26.0</td>\n",
       "      <td>...</td>\n",
       "      <td>63</td>\n",
       "      <td>11.0</td>\n",
       "      <td>0.0</td>\n",
       "      <td>70.0</td>\n",
       "      <td>3.0</td>\n",
       "      <td>0.0</td>\n",
       "      <td>62.0</td>\n",
       "      <td>NaN</td>\n",
       "      <td>NaN</td>\n",
       "      <td>NaN</td>\n",
       "    </tr>\n",
       "    <tr>\n",
       "      <th>1</th>\n",
       "      <td>2021-10-01 00:05:00_1</td>\n",
       "      <td>大阪</td>\n",
       "      <td>1</td>\n",
       "      <td>1</td>\n",
       "      <td>2021/10/01</td>\n",
       "      <td>0:05:00</td>\n",
       "      <td>4</td>\n",
       "      <td>NaN</td>\n",
       "      <td>55</td>\n",
       "      <td>46.0</td>\n",
       "      <td>...</td>\n",
       "      <td>55</td>\n",
       "      <td>17.0</td>\n",
       "      <td>2.0</td>\n",
       "      <td>59.0</td>\n",
       "      <td>3.0</td>\n",
       "      <td>0.0</td>\n",
       "      <td>62.0</td>\n",
       "      <td>NaN</td>\n",
       "      <td>NaN</td>\n",
       "      <td>NaN</td>\n",
       "    </tr>\n",
       "    <tr>\n",
       "      <th>2</th>\n",
       "      <td>2021-10-01 00:10:00_1</td>\n",
       "      <td>大阪</td>\n",
       "      <td>1</td>\n",
       "      <td>1</td>\n",
       "      <td>2021/10/01</td>\n",
       "      <td>0:10:00</td>\n",
       "      <td>4</td>\n",
       "      <td>NaN</td>\n",
       "      <td>61</td>\n",
       "      <td>47.0</td>\n",
       "      <td>...</td>\n",
       "      <td>61</td>\n",
       "      <td>20.0</td>\n",
       "      <td>3.0</td>\n",
       "      <td>53.0</td>\n",
       "      <td>6.0</td>\n",
       "      <td>0.0</td>\n",
       "      <td>99.0</td>\n",
       "      <td>NaN</td>\n",
       "      <td>NaN</td>\n",
       "      <td>NaN</td>\n",
       "    </tr>\n",
       "    <tr>\n",
       "      <th>3</th>\n",
       "      <td>2021-10-01 00:15:00_1</td>\n",
       "      <td>大阪</td>\n",
       "      <td>1</td>\n",
       "      <td>1</td>\n",
       "      <td>2021/10/01</td>\n",
       "      <td>0:15:00</td>\n",
       "      <td>4</td>\n",
       "      <td>NaN</td>\n",
       "      <td>68</td>\n",
       "      <td>41.0</td>\n",
       "      <td>...</td>\n",
       "      <td>68</td>\n",
       "      <td>15.0</td>\n",
       "      <td>2.0</td>\n",
       "      <td>51.0</td>\n",
       "      <td>5.0</td>\n",
       "      <td>0.0</td>\n",
       "      <td>65.0</td>\n",
       "      <td>NaN</td>\n",
       "      <td>NaN</td>\n",
       "      <td>NaN</td>\n",
       "    </tr>\n",
       "    <tr>\n",
       "      <th>4</th>\n",
       "      <td>2021-10-01 00:20:00_1</td>\n",
       "      <td>大阪</td>\n",
       "      <td>1</td>\n",
       "      <td>1</td>\n",
       "      <td>2021/10/01</td>\n",
       "      <td>0:20:00</td>\n",
       "      <td>4</td>\n",
       "      <td>NaN</td>\n",
       "      <td>59</td>\n",
       "      <td>42.0</td>\n",
       "      <td>...</td>\n",
       "      <td>59</td>\n",
       "      <td>13.0</td>\n",
       "      <td>1.0</td>\n",
       "      <td>61.0</td>\n",
       "      <td>6.0</td>\n",
       "      <td>0.0</td>\n",
       "      <td>69.0</td>\n",
       "      <td>NaN</td>\n",
       "      <td>NaN</td>\n",
       "      <td>NaN</td>\n",
       "    </tr>\n",
       "    <tr>\n",
       "      <th>...</th>\n",
       "      <td>...</td>\n",
       "      <td>...</td>\n",
       "      <td>...</td>\n",
       "      <td>...</td>\n",
       "      <td>...</td>\n",
       "      <td>...</td>\n",
       "      <td>...</td>\n",
       "      <td>...</td>\n",
       "      <td>...</td>\n",
       "      <td>...</td>\n",
       "      <td>...</td>\n",
       "      <td>...</td>\n",
       "      <td>...</td>\n",
       "      <td>...</td>\n",
       "      <td>...</td>\n",
       "      <td>...</td>\n",
       "      <td>...</td>\n",
       "      <td>...</td>\n",
       "      <td>...</td>\n",
       "      <td>...</td>\n",
       "      <td>...</td>\n",
       "    </tr>\n",
       "    <tr>\n",
       "      <th>9740444</th>\n",
       "      <td>2021-10-31 23:35:00_501</td>\n",
       "      <td>湾岸</td>\n",
       "      <td>1294</td>\n",
       "      <td>501</td>\n",
       "      <td>2021/10/31</td>\n",
       "      <td>23:35:00</td>\n",
       "      <td>2</td>\n",
       "      <td>NaN</td>\n",
       "      <td>99</td>\n",
       "      <td>5.0</td>\n",
       "      <td>...</td>\n",
       "      <td>99</td>\n",
       "      <td>1.0</td>\n",
       "      <td>0.0</td>\n",
       "      <td>99.0</td>\n",
       "      <td>NaN</td>\n",
       "      <td>NaN</td>\n",
       "      <td>NaN</td>\n",
       "      <td>NaN</td>\n",
       "      <td>NaN</td>\n",
       "      <td>NaN</td>\n",
       "    </tr>\n",
       "    <tr>\n",
       "      <th>9740445</th>\n",
       "      <td>2021-10-31 23:40:00_501</td>\n",
       "      <td>湾岸</td>\n",
       "      <td>1294</td>\n",
       "      <td>501</td>\n",
       "      <td>2021/10/31</td>\n",
       "      <td>23:40:00</td>\n",
       "      <td>2</td>\n",
       "      <td>NaN</td>\n",
       "      <td>82</td>\n",
       "      <td>8.0</td>\n",
       "      <td>...</td>\n",
       "      <td>82</td>\n",
       "      <td>3.0</td>\n",
       "      <td>0.0</td>\n",
       "      <td>35.0</td>\n",
       "      <td>NaN</td>\n",
       "      <td>NaN</td>\n",
       "      <td>NaN</td>\n",
       "      <td>NaN</td>\n",
       "      <td>NaN</td>\n",
       "      <td>NaN</td>\n",
       "    </tr>\n",
       "    <tr>\n",
       "      <th>9740446</th>\n",
       "      <td>2021-10-31 23:45:00_501</td>\n",
       "      <td>湾岸</td>\n",
       "      <td>1294</td>\n",
       "      <td>501</td>\n",
       "      <td>2021/10/31</td>\n",
       "      <td>23:45:00</td>\n",
       "      <td>2</td>\n",
       "      <td>NaN</td>\n",
       "      <td>75</td>\n",
       "      <td>8.0</td>\n",
       "      <td>...</td>\n",
       "      <td>75</td>\n",
       "      <td>2.0</td>\n",
       "      <td>0.0</td>\n",
       "      <td>28.0</td>\n",
       "      <td>NaN</td>\n",
       "      <td>NaN</td>\n",
       "      <td>NaN</td>\n",
       "      <td>NaN</td>\n",
       "      <td>NaN</td>\n",
       "      <td>NaN</td>\n",
       "    </tr>\n",
       "    <tr>\n",
       "      <th>9740447</th>\n",
       "      <td>2021-10-31 23:50:00_501</td>\n",
       "      <td>湾岸</td>\n",
       "      <td>1294</td>\n",
       "      <td>501</td>\n",
       "      <td>2021/10/31</td>\n",
       "      <td>23:50:00</td>\n",
       "      <td>2</td>\n",
       "      <td>NaN</td>\n",
       "      <td>69</td>\n",
       "      <td>9.0</td>\n",
       "      <td>...</td>\n",
       "      <td>69</td>\n",
       "      <td>3.0</td>\n",
       "      <td>0.0</td>\n",
       "      <td>75.0</td>\n",
       "      <td>NaN</td>\n",
       "      <td>NaN</td>\n",
       "      <td>NaN</td>\n",
       "      <td>NaN</td>\n",
       "      <td>NaN</td>\n",
       "      <td>NaN</td>\n",
       "    </tr>\n",
       "    <tr>\n",
       "      <th>9740448</th>\n",
       "      <td>2021-10-31 23:55:00_501</td>\n",
       "      <td>湾岸</td>\n",
       "      <td>1294</td>\n",
       "      <td>501</td>\n",
       "      <td>2021/10/31</td>\n",
       "      <td>23:55:00</td>\n",
       "      <td>2</td>\n",
       "      <td>NaN</td>\n",
       "      <td>65</td>\n",
       "      <td>13.0</td>\n",
       "      <td>...</td>\n",
       "      <td>65</td>\n",
       "      <td>3.0</td>\n",
       "      <td>0.0</td>\n",
       "      <td>43.0</td>\n",
       "      <td>NaN</td>\n",
       "      <td>NaN</td>\n",
       "      <td>NaN</td>\n",
       "      <td>NaN</td>\n",
       "      <td>NaN</td>\n",
       "      <td>NaN</td>\n",
       "    </tr>\n",
       "  </tbody>\n",
       "</table>\n",
       "<p>9740449 rows × 34 columns</p>\n",
       "</div>"
      ],
      "text/plain": [
       "                           idx_x 地区名  JDP番号  区間番号          日付        時間  区間長  \\\n",
       "0          2021-10-01 00:00:00_1  大阪      1     1  2021/10/01   0:00:00    4   \n",
       "1          2021-10-01 00:05:00_1  大阪      1     1  2021/10/01   0:05:00    4   \n",
       "2          2021-10-01 00:10:00_1  大阪      1     1  2021/10/01   0:10:00    4   \n",
       "3          2021-10-01 00:15:00_1  大阪      1     1  2021/10/01   0:15:00    4   \n",
       "4          2021-10-01 00:20:00_1  大阪      1     1  2021/10/01   0:20:00    4   \n",
       "...                          ...  ..    ...   ...         ...       ...  ...   \n",
       "9740444  2021-10-31 23:35:00_501  湾岸   1294   501  2021/10/31  23:35:00    2   \n",
       "9740445  2021-10-31 23:40:00_501  湾岸   1294   501  2021/10/31  23:40:00    2   \n",
       "9740446  2021-10-31 23:45:00_501  湾岸   1294   501  2021/10/31  23:45:00    2   \n",
       "9740447  2021-10-31 23:50:00_501  湾岸   1294   501  2021/10/31  23:50:00    2   \n",
       "9740448  2021-10-31 23:55:00_501  湾岸   1294   501  2021/10/31  23:55:00    2   \n",
       "\n",
       "         エラー  速度   交通量  ...  jspd1  jtrf2  jocc2  jspd2  jtrf3  jocc3  jspd3  \\\n",
       "0        NaN  63  26.0  ...     63   11.0    0.0   70.0    3.0    0.0   62.0   \n",
       "1        NaN  55  46.0  ...     55   17.0    2.0   59.0    3.0    0.0   62.0   \n",
       "2        NaN  61  47.0  ...     61   20.0    3.0   53.0    6.0    0.0   99.0   \n",
       "3        NaN  68  41.0  ...     68   15.0    2.0   51.0    5.0    0.0   65.0   \n",
       "4        NaN  59  42.0  ...     59   13.0    1.0   61.0    6.0    0.0   69.0   \n",
       "...      ...  ..   ...  ...    ...    ...    ...    ...    ...    ...    ...   \n",
       "9740444  NaN  99   5.0  ...     99    1.0    0.0   99.0    NaN    NaN    NaN   \n",
       "9740445  NaN  82   8.0  ...     82    3.0    0.0   35.0    NaN    NaN    NaN   \n",
       "9740446  NaN  75   8.0  ...     75    2.0    0.0   28.0    NaN    NaN    NaN   \n",
       "9740447  NaN  69   9.0  ...     69    3.0    0.0   75.0    NaN    NaN    NaN   \n",
       "9740448  NaN  65  13.0  ...     65    3.0    0.0   43.0    NaN    NaN    NaN   \n",
       "\n",
       "         jtrf4  jocc4 jspd4  \n",
       "0          NaN    NaN   NaN  \n",
       "1          NaN    NaN   NaN  \n",
       "2          NaN    NaN   NaN  \n",
       "3          NaN    NaN   NaN  \n",
       "4          NaN    NaN   NaN  \n",
       "...        ...    ...   ...  \n",
       "9740444    NaN    NaN   NaN  \n",
       "9740445    NaN    NaN   NaN  \n",
       "9740446    NaN    NaN   NaN  \n",
       "9740447    NaN    NaN   NaN  \n",
       "9740448    NaN    NaN   NaN  \n",
       "\n",
       "[9740449 rows x 34 columns]"
      ]
     },
     "execution_count": 113,
     "metadata": {},
     "output_type": "execute_result"
    }
   ],
   "source": [
    "df2"
   ]
  },
  {
   "cell_type": "code",
   "execution_count": 114,
   "metadata": {},
   "outputs": [
    {
     "data": {
      "text/html": [
       "<div>\n",
       "<style scoped>\n",
       "    .dataframe tbody tr th:only-of-type {\n",
       "        vertical-align: middle;\n",
       "    }\n",
       "\n",
       "    .dataframe tbody tr th {\n",
       "        vertical-align: top;\n",
       "    }\n",
       "\n",
       "    .dataframe thead th {\n",
       "        text-align: right;\n",
       "    }\n",
       "</style>\n",
       "<table border=\"1\" class=\"dataframe\">\n",
       "  <thead>\n",
       "    <tr style=\"text-align: right;\">\n",
       "      <th></th>\n",
       "      <th>idx_x</th>\n",
       "      <th>地区名</th>\n",
       "      <th>JDP番号</th>\n",
       "      <th>区間番号</th>\n",
       "      <th>日付</th>\n",
       "      <th>時間</th>\n",
       "      <th>区間長</th>\n",
       "      <th>エラー</th>\n",
       "      <th>速度</th>\n",
       "      <th>交通量</th>\n",
       "      <th>...</th>\n",
       "      <th>jspd1</th>\n",
       "      <th>jtrf2</th>\n",
       "      <th>jocc2</th>\n",
       "      <th>jspd2</th>\n",
       "      <th>jtrf3</th>\n",
       "      <th>jocc3</th>\n",
       "      <th>jspd3</th>\n",
       "      <th>jtrf4</th>\n",
       "      <th>jocc4</th>\n",
       "      <th>jspd4</th>\n",
       "    </tr>\n",
       "  </thead>\n",
       "  <tbody>\n",
       "  </tbody>\n",
       "</table>\n",
       "<p>0 rows × 34 columns</p>\n",
       "</div>"
      ],
      "text/plain": [
       "Empty DataFrame\n",
       "Columns: [idx_x, 地区名, JDP番号, 区間番号, 日付, 時間, 区間長, エラー, 速度, 交通量, 渋滞, 事故, 休日, 時間帯, kcode, 降水量, 滑り止め, jdp_x, suberij, jidx, idx_y, jdp_y, jtrf1, jocc1, jspd1, jtrf2, jocc2, jspd2, jtrf3, jocc3, jspd3, jtrf4, jocc4, jspd4]\n",
       "Index: []\n",
       "\n",
       "[0 rows x 34 columns]"
      ]
     },
     "execution_count": 114,
     "metadata": {},
     "output_type": "execute_result"
    }
   ],
   "source": [
    "df2[pd.isna(df2.jtrf1)]"
   ]
  },
  {
   "cell_type": "code",
   "execution_count": 26,
   "metadata": {},
   "outputs": [],
   "source": [
    "#df2[~df2.duplicated(subset=\"jidx\")].shape[0]\n",
    "#df2[df2.duplicated(subset=\"jidx\")]"
   ]
  },
  {
   "cell_type": "code",
   "execution_count": 27,
   "metadata": {},
   "outputs": [],
   "source": [
    "#df2[df2.jidx==\"2021-04-17 07:15:00_143\"].iloc[:,:19]"
   ]
  },
  {
   "cell_type": "code",
   "execution_count": 115,
   "metadata": {},
   "outputs": [],
   "source": [
    "df3=df2[~df2.duplicated(subset=\"jidx\")]"
   ]
  },
  {
   "cell_type": "code",
   "execution_count": 116,
   "metadata": {},
   "outputs": [],
   "source": [
    "df3.to_csv(\"D:/ahn_pc/workfile/2021/阪神事故リスク/result/df3_10.csv\", index = False, encoding=\"shift_jis\")"
   ]
  },
  {
   "cell_type": "code",
   "execution_count": null,
   "metadata": {},
   "outputs": [],
   "source": []
  },
  {
   "cell_type": "code",
   "execution_count": null,
   "metadata": {},
   "outputs": [],
   "source": []
  },
  {
   "cell_type": "code",
   "execution_count": null,
   "metadata": {},
   "outputs": [],
   "source": []
  },
  {
   "cell_type": "code",
   "execution_count": 14,
   "metadata": {},
   "outputs": [],
   "source": [
    "df[\"idx\"]=df.idx.str[:19]+\"_\"+df.JDP番号.astype(str)"
   ]
  },
  {
   "cell_type": "code",
   "execution_count": 16,
   "metadata": {},
   "outputs": [
    {
     "data": {
      "text/html": [
       "<div>\n",
       "<style scoped>\n",
       "    .dataframe tbody tr th:only-of-type {\n",
       "        vertical-align: middle;\n",
       "    }\n",
       "\n",
       "    .dataframe tbody tr th {\n",
       "        vertical-align: top;\n",
       "    }\n",
       "\n",
       "    .dataframe thead th {\n",
       "        text-align: right;\n",
       "    }\n",
       "</style>\n",
       "<table border=\"1\" class=\"dataframe\">\n",
       "  <thead>\n",
       "    <tr style=\"text-align: right;\">\n",
       "      <th></th>\n",
       "      <th>idx</th>\n",
       "      <th>地区名</th>\n",
       "      <th>JDP番号</th>\n",
       "      <th>区間番号</th>\n",
       "      <th>日付</th>\n",
       "      <th>時間</th>\n",
       "      <th>区間長</th>\n",
       "      <th>エラー</th>\n",
       "      <th>速度</th>\n",
       "      <th>交通量</th>\n",
       "      <th>渋滞</th>\n",
       "      <th>事故</th>\n",
       "      <th>休日</th>\n",
       "      <th>時間帯</th>\n",
       "      <th>kcode</th>\n",
       "      <th>降水量</th>\n",
       "      <th>滑り止め</th>\n",
       "    </tr>\n",
       "  </thead>\n",
       "  <tbody>\n",
       "    <tr>\n",
       "      <th>7412101</th>\n",
       "      <td>2021-04-05 10:15:00_1041</td>\n",
       "      <td>兵庫</td>\n",
       "      <td>1041</td>\n",
       "      <td>374</td>\n",
       "      <td>2021/04/05</td>\n",
       "      <td>10:15:00</td>\n",
       "      <td>7</td>\n",
       "      <td>H</td>\n",
       "      <td>0</td>\n",
       "      <td>58.0</td>\n",
       "      <td>NaN</td>\n",
       "      <td>NaN</td>\n",
       "      <td>1</td>\n",
       "      <td>1</td>\n",
       "      <td>NaN</td>\n",
       "      <td>0.0</td>\n",
       "      <td>0</td>\n",
       "    </tr>\n",
       "  </tbody>\n",
       "</table>\n",
       "</div>"
      ],
      "text/plain": [
       "                              idx 地区名  JDP番号  区間番号          日付        時間  区間長  \\\n",
       "7412101  2021-04-05 10:15:00_1041  兵庫   1041   374  2021/04/05  10:15:00    7   \n",
       "\n",
       "        エラー  速度   交通量  渋滞  事故  休日  時間帯  kcode  降水量  滑り止め  \n",
       "7412101   H   0  58.0 NaN NaN   1    1    NaN  0.0     0  "
      ]
     },
     "execution_count": 16,
     "metadata": {},
     "output_type": "execute_result"
    }
   ],
   "source": [
    "df[df.idx==\"2021-04-05 10:15:00_1041\"]"
   ]
  },
  {
   "cell_type": "code",
   "execution_count": 12,
   "metadata": {},
   "outputs": [
    {
     "data": {
      "text/html": [
       "<div>\n",
       "<style scoped>\n",
       "    .dataframe tbody tr th:only-of-type {\n",
       "        vertical-align: middle;\n",
       "    }\n",
       "\n",
       "    .dataframe tbody tr th {\n",
       "        vertical-align: top;\n",
       "    }\n",
       "\n",
       "    .dataframe thead th {\n",
       "        text-align: right;\n",
       "    }\n",
       "</style>\n",
       "<table border=\"1\" class=\"dataframe\">\n",
       "  <thead>\n",
       "    <tr style=\"text-align: right;\">\n",
       "      <th></th>\n",
       "      <th>idx</th>\n",
       "      <th>地区名</th>\n",
       "      <th>JDP番号</th>\n",
       "      <th>区間番号</th>\n",
       "      <th>日付</th>\n",
       "      <th>時間</th>\n",
       "      <th>区間長</th>\n",
       "      <th>エラー</th>\n",
       "      <th>速度</th>\n",
       "      <th>交通量</th>\n",
       "      <th>渋滞</th>\n",
       "      <th>事故</th>\n",
       "      <th>休日</th>\n",
       "      <th>時間帯</th>\n",
       "      <th>kcode</th>\n",
       "      <th>降水量</th>\n",
       "      <th>滑り止め</th>\n",
       "    </tr>\n",
       "  </thead>\n",
       "  <tbody>\n",
       "    <tr>\n",
       "      <th>0</th>\n",
       "      <td>2021-04-04 00:00:00_1</td>\n",
       "      <td>大阪</td>\n",
       "      <td>1</td>\n",
       "      <td>1</td>\n",
       "      <td>2021/04/04</td>\n",
       "      <td>0:00:00</td>\n",
       "      <td>4</td>\n",
       "      <td>NaN</td>\n",
       "      <td>60</td>\n",
       "      <td>26.0</td>\n",
       "      <td>NaN</td>\n",
       "      <td>NaN</td>\n",
       "      <td>3</td>\n",
       "      <td>2</td>\n",
       "      <td>NaN</td>\n",
       "      <td>0.0</td>\n",
       "      <td>0</td>\n",
       "    </tr>\n",
       "    <tr>\n",
       "      <th>1</th>\n",
       "      <td>2021-04-04 00:05:00_1</td>\n",
       "      <td>大阪</td>\n",
       "      <td>1</td>\n",
       "      <td>1</td>\n",
       "      <td>2021/04/04</td>\n",
       "      <td>0:05:00</td>\n",
       "      <td>4</td>\n",
       "      <td>NaN</td>\n",
       "      <td>72</td>\n",
       "      <td>41.0</td>\n",
       "      <td>NaN</td>\n",
       "      <td>NaN</td>\n",
       "      <td>3</td>\n",
       "      <td>2</td>\n",
       "      <td>NaN</td>\n",
       "      <td>0.0</td>\n",
       "      <td>0</td>\n",
       "    </tr>\n",
       "    <tr>\n",
       "      <th>2</th>\n",
       "      <td>2021-04-04 00:10:00_1</td>\n",
       "      <td>大阪</td>\n",
       "      <td>1</td>\n",
       "      <td>1</td>\n",
       "      <td>2021/04/04</td>\n",
       "      <td>0:10:00</td>\n",
       "      <td>4</td>\n",
       "      <td>NaN</td>\n",
       "      <td>64</td>\n",
       "      <td>40.0</td>\n",
       "      <td>NaN</td>\n",
       "      <td>NaN</td>\n",
       "      <td>3</td>\n",
       "      <td>2</td>\n",
       "      <td>NaN</td>\n",
       "      <td>0.0</td>\n",
       "      <td>0</td>\n",
       "    </tr>\n",
       "    <tr>\n",
       "      <th>3</th>\n",
       "      <td>2021-04-04 00:15:00_1</td>\n",
       "      <td>大阪</td>\n",
       "      <td>1</td>\n",
       "      <td>1</td>\n",
       "      <td>2021/04/04</td>\n",
       "      <td>0:15:00</td>\n",
       "      <td>4</td>\n",
       "      <td>NaN</td>\n",
       "      <td>62</td>\n",
       "      <td>21.0</td>\n",
       "      <td>NaN</td>\n",
       "      <td>NaN</td>\n",
       "      <td>3</td>\n",
       "      <td>2</td>\n",
       "      <td>NaN</td>\n",
       "      <td>0.0</td>\n",
       "      <td>0</td>\n",
       "    </tr>\n",
       "    <tr>\n",
       "      <th>4</th>\n",
       "      <td>2021-04-04 00:20:00_1</td>\n",
       "      <td>大阪</td>\n",
       "      <td>1</td>\n",
       "      <td>1</td>\n",
       "      <td>2021/04/04</td>\n",
       "      <td>0:20:00</td>\n",
       "      <td>4</td>\n",
       "      <td>NaN</td>\n",
       "      <td>64</td>\n",
       "      <td>28.0</td>\n",
       "      <td>NaN</td>\n",
       "      <td>NaN</td>\n",
       "      <td>3</td>\n",
       "      <td>2</td>\n",
       "      <td>NaN</td>\n",
       "      <td>0.0</td>\n",
       "      <td>0</td>\n",
       "    </tr>\n",
       "    <tr>\n",
       "      <th>...</th>\n",
       "      <td>...</td>\n",
       "      <td>...</td>\n",
       "      <td>...</td>\n",
       "      <td>...</td>\n",
       "      <td>...</td>\n",
       "      <td>...</td>\n",
       "      <td>...</td>\n",
       "      <td>...</td>\n",
       "      <td>...</td>\n",
       "      <td>...</td>\n",
       "      <td>...</td>\n",
       "      <td>...</td>\n",
       "      <td>...</td>\n",
       "      <td>...</td>\n",
       "      <td>...</td>\n",
       "      <td>...</td>\n",
       "      <td>...</td>\n",
       "    </tr>\n",
       "    <tr>\n",
       "      <th>8301816</th>\n",
       "      <td>2021-04-30 23:30:00_501</td>\n",
       "      <td>湾岸</td>\n",
       "      <td>1294</td>\n",
       "      <td>501</td>\n",
       "      <td>2021/04/30</td>\n",
       "      <td>23:30:00</td>\n",
       "      <td>2</td>\n",
       "      <td>NaN</td>\n",
       "      <td>79</td>\n",
       "      <td>5.0</td>\n",
       "      <td>NaN</td>\n",
       "      <td>NaN</td>\n",
       "      <td>1</td>\n",
       "      <td>2</td>\n",
       "      <td>NaN</td>\n",
       "      <td>0.0</td>\n",
       "      <td>0</td>\n",
       "    </tr>\n",
       "    <tr>\n",
       "      <th>8301817</th>\n",
       "      <td>2021-04-30 23:35:00_501</td>\n",
       "      <td>湾岸</td>\n",
       "      <td>1294</td>\n",
       "      <td>501</td>\n",
       "      <td>2021/04/30</td>\n",
       "      <td>23:35:00</td>\n",
       "      <td>2</td>\n",
       "      <td>NaN</td>\n",
       "      <td>69</td>\n",
       "      <td>9.0</td>\n",
       "      <td>NaN</td>\n",
       "      <td>NaN</td>\n",
       "      <td>1</td>\n",
       "      <td>2</td>\n",
       "      <td>NaN</td>\n",
       "      <td>0.0</td>\n",
       "      <td>0</td>\n",
       "    </tr>\n",
       "    <tr>\n",
       "      <th>8301818</th>\n",
       "      <td>2021-04-30 23:40:00_501</td>\n",
       "      <td>湾岸</td>\n",
       "      <td>1294</td>\n",
       "      <td>501</td>\n",
       "      <td>2021/04/30</td>\n",
       "      <td>23:40:00</td>\n",
       "      <td>2</td>\n",
       "      <td>NaN</td>\n",
       "      <td>36</td>\n",
       "      <td>6.0</td>\n",
       "      <td>NaN</td>\n",
       "      <td>NaN</td>\n",
       "      <td>1</td>\n",
       "      <td>2</td>\n",
       "      <td>NaN</td>\n",
       "      <td>0.0</td>\n",
       "      <td>0</td>\n",
       "    </tr>\n",
       "    <tr>\n",
       "      <th>8301819</th>\n",
       "      <td>2021-04-30 23:45:00_501</td>\n",
       "      <td>湾岸</td>\n",
       "      <td>1294</td>\n",
       "      <td>501</td>\n",
       "      <td>2021/04/30</td>\n",
       "      <td>23:45:00</td>\n",
       "      <td>2</td>\n",
       "      <td>NaN</td>\n",
       "      <td>47</td>\n",
       "      <td>5.0</td>\n",
       "      <td>NaN</td>\n",
       "      <td>NaN</td>\n",
       "      <td>1</td>\n",
       "      <td>2</td>\n",
       "      <td>NaN</td>\n",
       "      <td>0.0</td>\n",
       "      <td>0</td>\n",
       "    </tr>\n",
       "    <tr>\n",
       "      <th>8301820</th>\n",
       "      <td>2021-04-30 23:50:00_501</td>\n",
       "      <td>湾岸</td>\n",
       "      <td>1294</td>\n",
       "      <td>501</td>\n",
       "      <td>2021/04/30</td>\n",
       "      <td>23:50:00</td>\n",
       "      <td>2</td>\n",
       "      <td>NaN</td>\n",
       "      <td>89</td>\n",
       "      <td>4.0</td>\n",
       "      <td>NaN</td>\n",
       "      <td>NaN</td>\n",
       "      <td>1</td>\n",
       "      <td>2</td>\n",
       "      <td>NaN</td>\n",
       "      <td>0.0</td>\n",
       "      <td>0</td>\n",
       "    </tr>\n",
       "  </tbody>\n",
       "</table>\n",
       "<p>8301821 rows × 17 columns</p>\n",
       "</div>"
      ],
      "text/plain": [
       "                             idx 地区名  JDP番号  区間番号          日付        時間  区間長  \\\n",
       "0          2021-04-04 00:00:00_1  大阪      1     1  2021/04/04   0:00:00    4   \n",
       "1          2021-04-04 00:05:00_1  大阪      1     1  2021/04/04   0:05:00    4   \n",
       "2          2021-04-04 00:10:00_1  大阪      1     1  2021/04/04   0:10:00    4   \n",
       "3          2021-04-04 00:15:00_1  大阪      1     1  2021/04/04   0:15:00    4   \n",
       "4          2021-04-04 00:20:00_1  大阪      1     1  2021/04/04   0:20:00    4   \n",
       "...                          ...  ..    ...   ...         ...       ...  ...   \n",
       "8301816  2021-04-30 23:30:00_501  湾岸   1294   501  2021/04/30  23:30:00    2   \n",
       "8301817  2021-04-30 23:35:00_501  湾岸   1294   501  2021/04/30  23:35:00    2   \n",
       "8301818  2021-04-30 23:40:00_501  湾岸   1294   501  2021/04/30  23:40:00    2   \n",
       "8301819  2021-04-30 23:45:00_501  湾岸   1294   501  2021/04/30  23:45:00    2   \n",
       "8301820  2021-04-30 23:50:00_501  湾岸   1294   501  2021/04/30  23:50:00    2   \n",
       "\n",
       "         エラー  速度   交通量  渋滞  事故  休日  時間帯  kcode  降水量  滑り止め  \n",
       "0        NaN  60  26.0 NaN NaN   3    2    NaN  0.0     0  \n",
       "1        NaN  72  41.0 NaN NaN   3    2    NaN  0.0     0  \n",
       "2        NaN  64  40.0 NaN NaN   3    2    NaN  0.0     0  \n",
       "3        NaN  62  21.0 NaN NaN   3    2    NaN  0.0     0  \n",
       "4        NaN  64  28.0 NaN NaN   3    2    NaN  0.0     0  \n",
       "...      ...  ..   ...  ..  ..  ..  ...    ...  ...   ...  \n",
       "8301816  NaN  79   5.0 NaN NaN   1    2    NaN  0.0     0  \n",
       "8301817  NaN  69   9.0 NaN NaN   1    2    NaN  0.0     0  \n",
       "8301818  NaN  36   6.0 NaN NaN   1    2    NaN  0.0     0  \n",
       "8301819  NaN  47   5.0 NaN NaN   1    2    NaN  0.0     0  \n",
       "8301820  NaN  89   4.0 NaN NaN   1    2    NaN  0.0     0  \n",
       "\n",
       "[8301821 rows x 17 columns]"
      ]
     },
     "execution_count": 12,
     "metadata": {},
     "output_type": "execute_result"
    }
   ],
   "source": [
    "df"
   ]
  },
  {
   "cell_type": "code",
   "execution_count": null,
   "metadata": {},
   "outputs": [],
   "source": []
  },
  {
   "cell_type": "code",
   "execution_count": null,
   "metadata": {},
   "outputs": [],
   "source": []
  },
  {
   "cell_type": "code",
   "execution_count": null,
   "metadata": {},
   "outputs": [],
   "source": []
  },
  {
   "cell_type": "code",
   "execution_count": null,
   "metadata": {},
   "outputs": [],
   "source": []
  },
  {
   "cell_type": "code",
   "execution_count": 3,
   "metadata": {},
   "outputs": [
    {
     "data": {
      "text/html": [
       "<div>\n",
       "<style scoped>\n",
       "    .dataframe tbody tr th:only-of-type {\n",
       "        vertical-align: middle;\n",
       "    }\n",
       "\n",
       "    .dataframe tbody tr th {\n",
       "        vertical-align: top;\n",
       "    }\n",
       "\n",
       "    .dataframe thead th {\n",
       "        text-align: right;\n",
       "    }\n",
       "</style>\n",
       "<table border=\"1\" class=\"dataframe\">\n",
       "  <thead>\n",
       "    <tr style=\"text-align: right;\">\n",
       "      <th></th>\n",
       "      <th>idx</th>\n",
       "      <th>地区名</th>\n",
       "      <th>JDP番号</th>\n",
       "      <th>区間番号</th>\n",
       "      <th>日付</th>\n",
       "      <th>時間</th>\n",
       "      <th>区間長</th>\n",
       "      <th>エラー</th>\n",
       "      <th>速度</th>\n",
       "      <th>交通量</th>\n",
       "      <th>渋滞</th>\n",
       "      <th>事故</th>\n",
       "      <th>休日</th>\n",
       "      <th>時間帯</th>\n",
       "      <th>kcode</th>\n",
       "      <th>降水量</th>\n",
       "      <th>滑り止め</th>\n",
       "    </tr>\n",
       "  </thead>\n",
       "  <tbody>\n",
       "    <tr>\n",
       "      <th>0</th>\n",
       "      <td>2021-10-01 00:00:00_1</td>\n",
       "      <td>大阪</td>\n",
       "      <td>1</td>\n",
       "      <td>1</td>\n",
       "      <td>2021/10/01</td>\n",
       "      <td>0:00:00</td>\n",
       "      <td>4</td>\n",
       "      <td>NaN</td>\n",
       "      <td>63</td>\n",
       "      <td>26.0</td>\n",
       "      <td>NaN</td>\n",
       "      <td>NaN</td>\n",
       "      <td>1</td>\n",
       "      <td>2</td>\n",
       "      <td>NaN</td>\n",
       "      <td>0.0</td>\n",
       "      <td>0</td>\n",
       "    </tr>\n",
       "    <tr>\n",
       "      <th>1</th>\n",
       "      <td>2021-10-01 00:05:00_1</td>\n",
       "      <td>大阪</td>\n",
       "      <td>1</td>\n",
       "      <td>1</td>\n",
       "      <td>2021/10/01</td>\n",
       "      <td>0:05:00</td>\n",
       "      <td>4</td>\n",
       "      <td>NaN</td>\n",
       "      <td>55</td>\n",
       "      <td>46.0</td>\n",
       "      <td>NaN</td>\n",
       "      <td>NaN</td>\n",
       "      <td>1</td>\n",
       "      <td>2</td>\n",
       "      <td>NaN</td>\n",
       "      <td>0.0</td>\n",
       "      <td>0</td>\n",
       "    </tr>\n",
       "    <tr>\n",
       "      <th>2</th>\n",
       "      <td>2021-10-01 00:10:00_1</td>\n",
       "      <td>大阪</td>\n",
       "      <td>1</td>\n",
       "      <td>1</td>\n",
       "      <td>2021/10/01</td>\n",
       "      <td>0:10:00</td>\n",
       "      <td>4</td>\n",
       "      <td>NaN</td>\n",
       "      <td>61</td>\n",
       "      <td>47.0</td>\n",
       "      <td>NaN</td>\n",
       "      <td>NaN</td>\n",
       "      <td>1</td>\n",
       "      <td>2</td>\n",
       "      <td>NaN</td>\n",
       "      <td>0.0</td>\n",
       "      <td>0</td>\n",
       "    </tr>\n",
       "    <tr>\n",
       "      <th>3</th>\n",
       "      <td>2021-10-01 00:15:00_1</td>\n",
       "      <td>大阪</td>\n",
       "      <td>1</td>\n",
       "      <td>1</td>\n",
       "      <td>2021/10/01</td>\n",
       "      <td>0:15:00</td>\n",
       "      <td>4</td>\n",
       "      <td>NaN</td>\n",
       "      <td>68</td>\n",
       "      <td>41.0</td>\n",
       "      <td>NaN</td>\n",
       "      <td>NaN</td>\n",
       "      <td>1</td>\n",
       "      <td>2</td>\n",
       "      <td>NaN</td>\n",
       "      <td>0.0</td>\n",
       "      <td>0</td>\n",
       "    </tr>\n",
       "    <tr>\n",
       "      <th>4</th>\n",
       "      <td>2021-10-01 00:20:00_1</td>\n",
       "      <td>大阪</td>\n",
       "      <td>1</td>\n",
       "      <td>1</td>\n",
       "      <td>2021/10/01</td>\n",
       "      <td>0:20:00</td>\n",
       "      <td>4</td>\n",
       "      <td>NaN</td>\n",
       "      <td>59</td>\n",
       "      <td>42.0</td>\n",
       "      <td>NaN</td>\n",
       "      <td>NaN</td>\n",
       "      <td>1</td>\n",
       "      <td>2</td>\n",
       "      <td>NaN</td>\n",
       "      <td>0.0</td>\n",
       "      <td>0</td>\n",
       "    </tr>\n",
       "    <tr>\n",
       "      <th>5</th>\n",
       "      <td>2021-10-01 00:25:00_1</td>\n",
       "      <td>大阪</td>\n",
       "      <td>1</td>\n",
       "      <td>1</td>\n",
       "      <td>2021/10/01</td>\n",
       "      <td>0:25:00</td>\n",
       "      <td>4</td>\n",
       "      <td>NaN</td>\n",
       "      <td>59</td>\n",
       "      <td>38.0</td>\n",
       "      <td>NaN</td>\n",
       "      <td>NaN</td>\n",
       "      <td>1</td>\n",
       "      <td>2</td>\n",
       "      <td>NaN</td>\n",
       "      <td>0.0</td>\n",
       "      <td>0</td>\n",
       "    </tr>\n",
       "    <tr>\n",
       "      <th>6</th>\n",
       "      <td>2021-10-01 00:30:00_1</td>\n",
       "      <td>大阪</td>\n",
       "      <td>1</td>\n",
       "      <td>1</td>\n",
       "      <td>2021/10/01</td>\n",
       "      <td>0:30:00</td>\n",
       "      <td>4</td>\n",
       "      <td>NaN</td>\n",
       "      <td>55</td>\n",
       "      <td>24.0</td>\n",
       "      <td>NaN</td>\n",
       "      <td>NaN</td>\n",
       "      <td>1</td>\n",
       "      <td>2</td>\n",
       "      <td>NaN</td>\n",
       "      <td>0.0</td>\n",
       "      <td>0</td>\n",
       "    </tr>\n",
       "    <tr>\n",
       "      <th>7</th>\n",
       "      <td>2021-10-01 00:35:00_1</td>\n",
       "      <td>大阪</td>\n",
       "      <td>1</td>\n",
       "      <td>1</td>\n",
       "      <td>2021/10/01</td>\n",
       "      <td>0:35:00</td>\n",
       "      <td>4</td>\n",
       "      <td>NaN</td>\n",
       "      <td>55</td>\n",
       "      <td>24.0</td>\n",
       "      <td>NaN</td>\n",
       "      <td>NaN</td>\n",
       "      <td>1</td>\n",
       "      <td>2</td>\n",
       "      <td>NaN</td>\n",
       "      <td>0.0</td>\n",
       "      <td>0</td>\n",
       "    </tr>\n",
       "    <tr>\n",
       "      <th>8</th>\n",
       "      <td>2021-10-01 00:40:00_1</td>\n",
       "      <td>大阪</td>\n",
       "      <td>1</td>\n",
       "      <td>1</td>\n",
       "      <td>2021/10/01</td>\n",
       "      <td>0:40:00</td>\n",
       "      <td>4</td>\n",
       "      <td>NaN</td>\n",
       "      <td>66</td>\n",
       "      <td>29.0</td>\n",
       "      <td>NaN</td>\n",
       "      <td>NaN</td>\n",
       "      <td>1</td>\n",
       "      <td>2</td>\n",
       "      <td>NaN</td>\n",
       "      <td>0.0</td>\n",
       "      <td>0</td>\n",
       "    </tr>\n",
       "    <tr>\n",
       "      <th>9</th>\n",
       "      <td>2021-10-01 00:45:00_1</td>\n",
       "      <td>大阪</td>\n",
       "      <td>1</td>\n",
       "      <td>1</td>\n",
       "      <td>2021/10/01</td>\n",
       "      <td>0:45:00</td>\n",
       "      <td>4</td>\n",
       "      <td>NaN</td>\n",
       "      <td>64</td>\n",
       "      <td>26.0</td>\n",
       "      <td>NaN</td>\n",
       "      <td>NaN</td>\n",
       "      <td>1</td>\n",
       "      <td>2</td>\n",
       "      <td>NaN</td>\n",
       "      <td>0.0</td>\n",
       "      <td>0</td>\n",
       "    </tr>\n",
       "  </tbody>\n",
       "</table>\n",
       "</div>"
      ],
      "text/plain": [
       "                     idx 地区名  JDP番号  区間番号          日付       時間  区間長  エラー  速度  \\\n",
       "0  2021-10-01 00:00:00_1  大阪      1     1  2021/10/01  0:00:00    4  NaN  63   \n",
       "1  2021-10-01 00:05:00_1  大阪      1     1  2021/10/01  0:05:00    4  NaN  55   \n",
       "2  2021-10-01 00:10:00_1  大阪      1     1  2021/10/01  0:10:00    4  NaN  61   \n",
       "3  2021-10-01 00:15:00_1  大阪      1     1  2021/10/01  0:15:00    4  NaN  68   \n",
       "4  2021-10-01 00:20:00_1  大阪      1     1  2021/10/01  0:20:00    4  NaN  59   \n",
       "5  2021-10-01 00:25:00_1  大阪      1     1  2021/10/01  0:25:00    4  NaN  59   \n",
       "6  2021-10-01 00:30:00_1  大阪      1     1  2021/10/01  0:30:00    4  NaN  55   \n",
       "7  2021-10-01 00:35:00_1  大阪      1     1  2021/10/01  0:35:00    4  NaN  55   \n",
       "8  2021-10-01 00:40:00_1  大阪      1     1  2021/10/01  0:40:00    4  NaN  66   \n",
       "9  2021-10-01 00:45:00_1  大阪      1     1  2021/10/01  0:45:00    4  NaN  64   \n",
       "\n",
       "    交通量  渋滞  事故  休日  時間帯  kcode  降水量  滑り止め  \n",
       "0  26.0 NaN NaN   1    2    NaN  0.0     0  \n",
       "1  46.0 NaN NaN   1    2    NaN  0.0     0  \n",
       "2  47.0 NaN NaN   1    2    NaN  0.0     0  \n",
       "3  41.0 NaN NaN   1    2    NaN  0.0     0  \n",
       "4  42.0 NaN NaN   1    2    NaN  0.0     0  \n",
       "5  38.0 NaN NaN   1    2    NaN  0.0     0  \n",
       "6  24.0 NaN NaN   1    2    NaN  0.0     0  \n",
       "7  24.0 NaN NaN   1    2    NaN  0.0     0  \n",
       "8  29.0 NaN NaN   1    2    NaN  0.0     0  \n",
       "9  26.0 NaN NaN   1    2    NaN  0.0     0  "
      ]
     },
     "execution_count": 3,
     "metadata": {},
     "output_type": "execute_result"
    }
   ],
   "source": [
    "df.iloc[:10,:]"
   ]
  },
  {
   "cell_type": "code",
   "execution_count": 4,
   "metadata": {},
   "outputs": [],
   "source": [
    "df[\"jdp\"]=df.JDP番号"
   ]
  },
  {
   "cell_type": "code",
   "execution_count": 5,
   "metadata": {},
   "outputs": [],
   "source": [
    "jdp = pd.read_csv(\"D:/ahn_pc/workfile/2021/阪神事故リスク/jdp100/jdp100e2.csv\", encoding=\"shift_jis\")"
   ]
  },
  {
   "cell_type": "code",
   "execution_count": 6,
   "metadata": {},
   "outputs": [],
   "source": [
    "jdp2 = jdp.loc[:,[\"jdp\",\"keito\",\"hei\",\"sag\",\"fare\"]]"
   ]
  },
  {
   "cell_type": "code",
   "execution_count": 7,
   "metadata": {},
   "outputs": [],
   "source": [
    "dm = pd.merge(df,jdp2, on=\"jdp\", how=\"left\")"
   ]
  },
  {
   "cell_type": "code",
   "execution_count": 8,
   "metadata": {},
   "outputs": [
    {
     "name": "stderr",
     "output_type": "stream",
     "text": [
      "C:\\Users\\tssl-34\\Anaconda3\\lib\\site-packages\\ipykernel_launcher.py:3: UserWarning: Boolean Series key will be reindexed to match DataFrame index.\n",
      "  This is separate from the ipykernel package so we can avoid doing imports until\n"
     ]
    }
   ],
   "source": [
    "dm2 = dm[pd.isna(dm.エラー)]\n",
    "dm2 = dm2[dm2.速度<200]\n",
    "dm2 = dm2[~pd.isna(dm.keito)]"
   ]
  },
  {
   "cell_type": "code",
   "execution_count": 9,
   "metadata": {},
   "outputs": [
    {
     "name": "stdout",
     "output_type": "stream",
     "text": [
      "9740449\n",
      "9199693\n"
     ]
    }
   ],
   "source": [
    "print(dm.shape[0])\n",
    "print(dm2.shape[0])"
   ]
  },
  {
   "cell_type": "code",
   "execution_count": 10,
   "metadata": {},
   "outputs": [],
   "source": [
    "dm2[\"走行台キロ\"]=dm2.区間長*dm2.交通量/10"
   ]
  },
  {
   "cell_type": "code",
   "execution_count": 11,
   "metadata": {},
   "outputs": [],
   "source": [
    "dmf=dm2[(dm2.渋滞!=1)&(dm2.渋滞!=2)]"
   ]
  },
  {
   "cell_type": "code",
   "execution_count": 12,
   "metadata": {},
   "outputs": [],
   "source": [
    "dmc=dm2[(dm2.渋滞==1)|(dm2.渋滞==2)]"
   ]
  },
  {
   "cell_type": "code",
   "execution_count": 13,
   "metadata": {},
   "outputs": [
    {
     "data": {
      "text/plain": [
       "713645"
      ]
     },
     "execution_count": 13,
     "metadata": {},
     "output_type": "execute_result"
    }
   ],
   "source": [
    "dmc.shape[0]"
   ]
  },
  {
   "cell_type": "code",
   "execution_count": 14,
   "metadata": {},
   "outputs": [],
   "source": [
    "dmf_t1=dmf[dmf.時間帯==1]\n",
    "dmf_t2=dmf[dmf.時間帯==2]"
   ]
  },
  {
   "cell_type": "code",
   "execution_count": 15,
   "metadata": {},
   "outputs": [],
   "source": [
    "dt1h1=dmf_t1[dmf_t1.休日==1]\n",
    "dt1h2=dmf_t1[dmf_t1.休日!=1]\n",
    "dt2h1=dmf_t2[dmf_t2.休日==1]\n",
    "dt2h2=dmf_t2[dmf_t2.休日!=1]"
   ]
  },
  {
   "cell_type": "code",
   "execution_count": 16,
   "metadata": {},
   "outputs": [
    {
     "name": "stdout",
     "output_type": "stream",
     "text": [
      "2892147\n",
      "1543265\n",
      "2719468\n",
      "1331168\n"
     ]
    },
    {
     "data": {
      "text/plain": [
       "9199693"
      ]
     },
     "execution_count": 16,
     "metadata": {},
     "output_type": "execute_result"
    }
   ],
   "source": [
    "print(dt1h1.shape[0])\n",
    "print(dt1h2.shape[0])\n",
    "print(dt2h1.shape[0])\n",
    "print(dt2h2.shape[0])\n",
    "dt1h1.shape[0]+dt1h2.shape[0]+dt2h1.shape[0]+dt2h2.shape[0]+dmc.shape[0]"
   ]
  },
  {
   "cell_type": "code",
   "execution_count": 17,
   "metadata": {},
   "outputs": [],
   "source": [
    "dt1h1_1=dt1h1.iloc[:1000000,:]\n",
    "dt1h1_2=dt1h1.iloc[1000000:2000000,:]\n",
    "dt1h1_3=dt1h1.iloc[2000000:3000000,:]\n",
    "#dt1h1_4=dt1h1.iloc[3000000:,:]\n",
    "\n",
    "dt1h2_1=dt1h2.iloc[:1000000,:]\n",
    "dt1h2_2=dt1h2.iloc[1000000:2000000,:]\n",
    "#dt1h2_3=dt1h2.iloc[2000000:,:]\n",
    "\n",
    "dt2h1_1=dt2h1.iloc[:1000000,:]\n",
    "dt2h1_2=dt2h1.iloc[1000000:2000000,:]\n",
    "dt2h1_3=dt2h1.iloc[2000000:,:]\n",
    "\n",
    "dt2h2_1=dt2h2.iloc[:1000000,:]\n",
    "dt2h2_2=dt2h2.iloc[1000000:2000000,:]\n",
    "#dt2h2_3=dt2h2.iloc[2000000:,:]"
   ]
  },
  {
   "cell_type": "code",
   "execution_count": 18,
   "metadata": {},
   "outputs": [],
   "source": [
    "dmc.to_csv(\"D:/ahn_pc/workfile/2021/阪神事故リスク/resultrisk/dmc10.csv\", index = False, encoding=\"shift_jis\")\n",
    "\n",
    "dt1h1_1.to_csv(\"D:/ahn_pc/workfile/2021/阪神事故リスク/resultrisk/dt1h1_1_10.csv\", index = False, encoding=\"shift_jis\")\n",
    "dt1h1_2.to_csv(\"D:/ahn_pc/workfile/2021/阪神事故リスク/resultrisk/dt1h1_2_10.csv\", index = False, encoding=\"shift_jis\")\n",
    "dt1h1_3.to_csv(\"D:/ahn_pc/workfile/2021/阪神事故リスク/resultrisk/dt1h1_3_10.csv\", index = False, encoding=\"shift_jis\")\n",
    "#dt1h1_4.to_csv(\"D:/ahn_pc/workfile/2021/阪神事故リスク/resultrisk/dt1h1_4_09.csv\", index = False, encoding=\"shift_jis\")\n",
    "\n",
    "dt1h2_1.to_csv(\"D:/ahn_pc/workfile/2021/阪神事故リスク/resultrisk/dt1h2_1_10.csv\", index = False, encoding=\"shift_jis\")\n",
    "dt1h2_2.to_csv(\"D:/ahn_pc/workfile/2021/阪神事故リスク/resultrisk/dt1h2_2_10.csv\", index = False, encoding=\"shift_jis\")\n",
    "#dt1h2_3.to_csv(\"D:/ahn_pc/workfile/2021/阪神事故リスク/resultrisk/dt1h2_3_06.csv\", index = False, encoding=\"shift_jis\")\n",
    "\n",
    "dt2h1_1.to_csv(\"D:/ahn_pc/workfile/2021/阪神事故リスク/resultrisk/dt2h1_1_10.csv\", index = False, encoding=\"shift_jis\")\n",
    "dt2h1_2.to_csv(\"D:/ahn_pc/workfile/2021/阪神事故リスク/resultrisk/dt2h1_2_10.csv\", index = False, encoding=\"shift_jis\")\n",
    "dt2h1_3.to_csv(\"D:/ahn_pc/workfile/2021/阪神事故リスク/resultrisk/dt2h1_3_10.csv\", index = False, encoding=\"shift_jis\")\n",
    "\n",
    "dt2h2_1.to_csv(\"D:/ahn_pc/workfile/2021/阪神事故リスク/resultrisk/dt2h2_1_10.csv\", index = False, encoding=\"shift_jis\")\n",
    "dt2h2_2.to_csv(\"D:/ahn_pc/workfile/2021/阪神事故リスク/resultrisk/dt2h2_2_10.csv\", index = False, encoding=\"shift_jis\")"
   ]
  },
  {
   "cell_type": "code",
   "execution_count": null,
   "metadata": {},
   "outputs": [],
   "source": []
  },
  {
   "cell_type": "code",
   "execution_count": null,
   "metadata": {},
   "outputs": [],
   "source": []
  },
  {
   "cell_type": "code",
   "execution_count": null,
   "metadata": {},
   "outputs": [],
   "source": []
  },
  {
   "cell_type": "code",
   "execution_count": null,
   "metadata": {},
   "outputs": [],
   "source": []
  },
  {
   "cell_type": "code",
   "execution_count": null,
   "metadata": {},
   "outputs": [],
   "source": []
  },
  {
   "cell_type": "code",
   "execution_count": null,
   "metadata": {},
   "outputs": [],
   "source": []
  },
  {
   "cell_type": "code",
   "execution_count": null,
   "metadata": {},
   "outputs": [],
   "source": []
  },
  {
   "cell_type": "code",
   "execution_count": null,
   "metadata": {},
   "outputs": [],
   "source": [
    "#dm.columns=['記録年', '記録月', '記録日', '記録曜日', '記録時刻', '文字情報板番号', '文字情報板名称', '制御区分',\n",
    "       '情報区分', '影響係数', '障害係数', '評価値', '提供フラグ', '事象内通番', '原因', '程度', '渋滞長',\n",
    "       '障害登録番号', '先頭系統名称', '先頭KP', '後尾系統名称', '後尾KP', '入口／出口名称', '特記事項', 'indx',\n",
    "       'line', 'keito', 'kp', 'name', 'jdp', 'jdpup1', 'jdpup2', 'jdpup3',\n",
    "       'vsidx', 'risk', 'temp', 'r2p', 'r2n', 'r3p', 'r3n', 'n1p', 'gen', 'tidx', 'tidx5m',\n",
    "       'idx', 'upidx', '地区名', 'JDP番号', '区間番号', '日付', '時間', '区間長', 'エラー', '速度',\n",
    "       '交通量', '渋滞', '事故', '休日', '時間帯', 'kcode', '降水量', '滑り止め', '区間長up', '速度up',\n",
    "       '交通量up', '渋滞up', '事故up']"
   ]
  },
  {
   "cell_type": "code",
   "execution_count": null,
   "metadata": {},
   "outputs": [],
   "source": [
    "#d=dm.loc[:,[\"記録日\",\"記録時刻\",\"tidx\",\"tidx5m\",\"indx\",\"keito\",\"r2p\",\"r2n\",\"r3p\",\"r3n\",\"n1p\",\"gen\",\"区間長\",\"速度\",\"交通量\",\"渋滞\",\"事故\",\"休日\",\"時間帯\",\"降水量\",\"区間長up\",\"速度up\",\"交通量up\",\"渋滞up\",\"事故up\"]]"
   ]
  },
  {
   "cell_type": "code",
   "execution_count": null,
   "metadata": {},
   "outputs": [],
   "source": [
    "d[\"idx5m\"]=d.tidx5m+\"_\"+d.indx.astype(str)"
   ]
  },
  {
   "cell_type": "code",
   "execution_count": null,
   "metadata": {},
   "outputs": [],
   "source": [
    "cnt5m = pd.DataFrame(d.groupby(\"idx5m\").count().loc[:,\"記録日\"])"
   ]
  },
  {
   "cell_type": "code",
   "execution_count": null,
   "metadata": {},
   "outputs": [],
   "source": [
    "cnt5m[\"cnt5m\"]=cnt5m.記録日"
   ]
  },
  {
   "cell_type": "code",
   "execution_count": null,
   "metadata": {},
   "outputs": [],
   "source": [
    "del cnt5m[\"記録日\"]"
   ]
  },
  {
   "cell_type": "code",
   "execution_count": null,
   "metadata": {},
   "outputs": [],
   "source": [
    "cnt5m = cnt5m.reset_index()"
   ]
  },
  {
   "cell_type": "code",
   "execution_count": null,
   "metadata": {},
   "outputs": [],
   "source": [
    "dm = pd.merge(d,cnt5m, on=\"idx5m\", how=\"left\")"
   ]
  },
  {
   "cell_type": "code",
   "execution_count": null,
   "metadata": {},
   "outputs": [],
   "source": [
    "dm[\"事故5m\"]=dm.事故/dm.cnt5m\n",
    "dm[\"速度5m\"]=dm.速度/dm.cnt5m\n",
    "dm[\"交通量5m\"]=dm.交通量/dm.cnt5m\n",
    "dm[\"事故u5m\"]=dm.事故up/dm.cnt5m\n",
    "dm[\"速度u5m\"]=dm.速度up/dm.cnt5m\n",
    "dm[\"交通量u5m\"]=dm.交通量up/dm.cnt5m"
   ]
  },
  {
   "cell_type": "code",
   "execution_count": null,
   "metadata": {},
   "outputs": [],
   "source": [
    "dm.記録時刻.str[:2]"
   ]
  },
  {
   "cell_type": "code",
   "execution_count": null,
   "metadata": {},
   "outputs": [],
   "source": [
    "dm[\"keito_hour\"]=dm.keito.astype(str)+\"_\"+dm.記録時刻.str[:2]"
   ]
  },
  {
   "cell_type": "code",
   "execution_count": null,
   "metadata": {},
   "outputs": [],
   "source": [
    "#keitoh = dm.groupby(\"keito_hour\").agg({\"r2p\":np.sum,\"r2n\":np.sum,\"r3p\":np.sum,\"r3n\":np.sum,\n",
    "#         \"事故5m\":np.sum,\"速度5m\":np.mean,\"交通量5m\":np.mean,})\n",
    "keitoh = dm.groupby(\"keito_hour\").agg({\"r2p\":np.sum,\"r2n\":np.sum,\"r3p\":np.sum,\"r3n\":np.sum,\n",
    "         \"事故5m\":np.sum})"
   ]
  },
  {
   "cell_type": "code",
   "execution_count": null,
   "metadata": {},
   "outputs": [],
   "source": [
    "cntkh = dm.groupby(\"keito_hour\").count().loc[:,\"記録日\"]"
   ]
  },
  {
   "cell_type": "code",
   "execution_count": null,
   "metadata": {},
   "outputs": [],
   "source": [
    "keitoh[\"cntkh\"]=cntkh"
   ]
  },
  {
   "cell_type": "code",
   "execution_count": null,
   "metadata": {},
   "outputs": [],
   "source": [
    "keitoh[\"idx\"]=keitoh.index"
   ]
  },
  {
   "cell_type": "code",
   "execution_count": null,
   "metadata": {},
   "outputs": [],
   "source": [
    "keitoh.to_csv(\"D:/ahn_pc/workfile/2021/阪神事故リスク/keihour04.csv\", index = False, encoding=\"shift_jis\")"
   ]
  },
  {
   "cell_type": "code",
   "execution_count": null,
   "metadata": {},
   "outputs": [],
   "source": []
  },
  {
   "cell_type": "code",
   "execution_count": null,
   "metadata": {},
   "outputs": [],
   "source": [
    "keito = dm.groupby(\"keito\").agg({\"r2p\":np.sum,\"r2n\":np.sum,\"r3p\":np.sum,\"r3n\":np.sum,\n",
    "        \"事故5m\":np.sum,\"速度5m\":np.mean,\"交通量5m\":np.mean,})\n",
    "#keito = dm.groupby(\"keito\").agg({\"r2p\":np.sum,\"r2n\":np.sum,\"r3p\":np.sum,\"r3n\":np.sum})"
   ]
  },
  {
   "cell_type": "code",
   "execution_count": null,
   "metadata": {},
   "outputs": [],
   "source": [
    "cntk = dm.groupby(\"keito\").count().loc[:,\"記録日\"]"
   ]
  },
  {
   "cell_type": "code",
   "execution_count": null,
   "metadata": {},
   "outputs": [],
   "source": [
    "keito[\"cntk\"]=cntk"
   ]
  },
  {
   "cell_type": "code",
   "execution_count": null,
   "metadata": {},
   "outputs": [],
   "source": [
    "keito[\"rsum\"]=keito.r2p+keito.r2n+keito.r3p+keito.r3n"
   ]
  },
  {
   "cell_type": "code",
   "execution_count": null,
   "metadata": {},
   "outputs": [],
   "source": [
    "keito"
   ]
  },
  {
   "cell_type": "code",
   "execution_count": null,
   "metadata": {},
   "outputs": [],
   "source": []
  },
  {
   "cell_type": "code",
   "execution_count": null,
   "metadata": {},
   "outputs": [],
   "source": []
  },
  {
   "cell_type": "code",
   "execution_count": null,
   "metadata": {},
   "outputs": [],
   "source": []
  },
  {
   "cell_type": "code",
   "execution_count": null,
   "metadata": {},
   "outputs": [],
   "source": []
  },
  {
   "cell_type": "code",
   "execution_count": null,
   "metadata": {},
   "outputs": [],
   "source": []
  },
  {
   "cell_type": "code",
   "execution_count": null,
   "metadata": {},
   "outputs": [],
   "source": [
    "dc.shape[0]"
   ]
  },
  {
   "cell_type": "code",
   "execution_count": null,
   "metadata": {},
   "outputs": [],
   "source": [
    "dc[\"indx\"]=dc.文字情報板番号"
   ]
  },
  {
   "cell_type": "code",
   "execution_count": null,
   "metadata": {},
   "outputs": [],
   "source": [
    "vs = pd.read_csv(\"D:/ahn_pc/workfile/2021/阪神事故リスク/CHSVSB_情報板3.csv\", encoding=\"shift_jis\")"
   ]
  },
  {
   "cell_type": "code",
   "execution_count": null,
   "metadata": {},
   "outputs": [],
   "source": [
    "vs"
   ]
  },
  {
   "cell_type": "code",
   "execution_count": null,
   "metadata": {},
   "outputs": [],
   "source": [
    "dc2 = pd.merge(dc,vs, on=\"indx\", how=\"left\")"
   ]
  },
  {
   "cell_type": "code",
   "execution_count": null,
   "metadata": {},
   "outputs": [],
   "source": [
    "dc3 = dc2[~pd.isna(dc2.line)]"
   ]
  },
  {
   "cell_type": "code",
   "execution_count": null,
   "metadata": {},
   "outputs": [],
   "source": [
    "dc3"
   ]
  },
  {
   "cell_type": "code",
   "execution_count": null,
   "metadata": {},
   "outputs": [],
   "source": [
    "#dc3[\"drp\"]=dc3.記録日.astype(str)+\"_\"+dc3.記録時刻+\"_\"+dc3.文字情報板番号.astype(str)+\"_\"+dc3.事象内通番.astype(str)+\"_\"+dc3.原因+\"_\"+dc3.程度"
   ]
  },
  {
   "cell_type": "code",
   "execution_count": null,
   "metadata": {},
   "outputs": [],
   "source": [
    "dc3[\"vsidx\"]=dc3.記録日.astype(str)+\"_\"+dc3.記録時刻+\"_\"+dc3.文字情報板番号.astype(str)"
   ]
  },
  {
   "cell_type": "code",
   "execution_count": null,
   "metadata": {},
   "outputs": [],
   "source": [
    "#dc3d = dc3[~dc3.duplicated(subset=\"drop\")]\n",
    "dc3d = dc3[~dc3.duplicated()]"
   ]
  },
  {
   "cell_type": "code",
   "execution_count": null,
   "metadata": {},
   "outputs": [],
   "source": [
    "t = dc3d[dc3d.vsidx==\"14_00:23_158\"].iloc[:,5:]"
   ]
  },
  {
   "cell_type": "code",
   "execution_count": null,
   "metadata": {},
   "outputs": [],
   "source": [
    "dc3d[dc3d.vsidx==\"14_00:23_158\"].iloc[:,5:]"
   ]
  },
  {
   "cell_type": "code",
   "execution_count": null,
   "metadata": {},
   "outputs": [],
   "source": []
  },
  {
   "cell_type": "code",
   "execution_count": null,
   "metadata": {},
   "outputs": [],
   "source": []
  },
  {
   "cell_type": "code",
   "execution_count": null,
   "metadata": {},
   "outputs": [],
   "source": [
    "print(dc3.shape[0])\n",
    "print(dc3d.shape[0])"
   ]
  },
  {
   "cell_type": "code",
   "execution_count": null,
   "metadata": {},
   "outputs": [],
   "source": [
    "dc3d.to_csv(\"D:/ahn_pc/workfile/2021/阪神事故リスク/dc3d04.csv\", index = False, encoding=\"shift_jis\")"
   ]
  },
  {
   "cell_type": "code",
   "execution_count": null,
   "metadata": {},
   "outputs": [],
   "source": []
  },
  {
   "cell_type": "code",
   "execution_count": null,
   "metadata": {},
   "outputs": [],
   "source": [
    "dc3r = dc3d[dc3d.原因==\"リスク\"]"
   ]
  },
  {
   "cell_type": "code",
   "execution_count": null,
   "metadata": {},
   "outputs": [],
   "source": [
    "dc3r[\"risk\"]=1"
   ]
  },
  {
   "cell_type": "code",
   "execution_count": null,
   "metadata": {},
   "outputs": [],
   "source": [
    "dc3idx = dc3r.loc[:,[\"vsidx\",\"risk\"]]"
   ]
  },
  {
   "cell_type": "code",
   "execution_count": null,
   "metadata": {},
   "outputs": [],
   "source": [
    "dc3idx"
   ]
  },
  {
   "cell_type": "code",
   "execution_count": null,
   "metadata": {},
   "outputs": [],
   "source": [
    "dc4 = pd.merge(dc3d,dc3idx, on=\"vsidx\", how=\"left\")"
   ]
  },
  {
   "cell_type": "code",
   "execution_count": null,
   "metadata": {},
   "outputs": [],
   "source": [
    "dc4.shape[0]"
   ]
  },
  {
   "cell_type": "code",
   "execution_count": null,
   "metadata": {},
   "outputs": [],
   "source": [
    "dc3.shape[0]"
   ]
  },
  {
   "cell_type": "code",
   "execution_count": null,
   "metadata": {},
   "outputs": [],
   "source": [
    "dc4[(dc4.risk==1)&(dc4.原因==\"リスク\")&(dc4.提供フラグ!=1)].shape[0]\n",
    "#dc4[(dc4.risk==1)&(dc4.原因!=\"リスク\")&(dc4.提供フラグ==1)].shape[0]"
   ]
  },
  {
   "cell_type": "code",
   "execution_count": null,
   "metadata": {},
   "outputs": [],
   "source": [
    "#dc4[(dc4.risk==1)&(dc4.原因==\"リスク\")&(dc4.提供フラグ!=1)].shape[0]\n",
    "dc4[(dc4.risk==1)&(dc4.原因!=\"リスク\")&(dc4.提供フラグ==1)].shape[0]"
   ]
  },
  {
   "cell_type": "code",
   "execution_count": null,
   "metadata": {},
   "outputs": [],
   "source": [
    "dc4r = dc4[dc4.risk==1]"
   ]
  },
  {
   "cell_type": "code",
   "execution_count": null,
   "metadata": {},
   "outputs": [],
   "source": [
    "dc4r.shape[0]"
   ]
  },
  {
   "cell_type": "code",
   "execution_count": null,
   "metadata": {},
   "outputs": [],
   "source": [
    "dc4r.iloc[:5].loc[:,[\"記録日\",\"記録時刻\",\"原因\",\"vsidx\",\"risk\"]]"
   ]
  },
  {
   "cell_type": "code",
   "execution_count": null,
   "metadata": {},
   "outputs": [],
   "source": [
    "dc4r.to_csv(\"D:/ahn_pc/workfile/2021/阪神事故リスク/dc4r04.csv\", index = False, encoding=\"shift_jis\")"
   ]
  },
  {
   "cell_type": "code",
   "execution_count": null,
   "metadata": {},
   "outputs": [],
   "source": [
    "dc4r[~dc4r.duplicated(subset=\"vsidx\")].shape[0]"
   ]
  },
  {
   "cell_type": "code",
   "execution_count": null,
   "metadata": {},
   "outputs": [],
   "source": [
    "def ts(d):\n",
    "    return d.原因.values\n",
    "def ts2(d):\n",
    "    return d.程度.values\n",
    "def ts3(d):\n",
    "    return d.提供フラグ.values"
   ]
  },
  {
   "cell_type": "code",
   "execution_count": null,
   "metadata": {},
   "outputs": [],
   "source": [
    "temp=dc4r.groupby(\"vsidx\").apply(ts)\n",
    "temp2=dc4r.groupby(\"vsidx\").apply(ts2)\n",
    "temp3=dc4r.groupby(\"vsidx\").apply(ts3)"
   ]
  },
  {
   "cell_type": "code",
   "execution_count": null,
   "metadata": {},
   "outputs": [],
   "source": [
    "dc5 = pd.DataFrame(temp)"
   ]
  },
  {
   "cell_type": "code",
   "execution_count": null,
   "metadata": {},
   "outputs": [],
   "source": [
    "dc5[\"vsidx\"]=dc5.index"
   ]
  },
  {
   "cell_type": "code",
   "execution_count": null,
   "metadata": {},
   "outputs": [],
   "source": [
    "dc5[\"gen\"]=dc5[0]"
   ]
  },
  {
   "cell_type": "code",
   "execution_count": null,
   "metadata": {},
   "outputs": [],
   "source": [
    "dc5[\"tei\"]=temp2"
   ]
  },
  {
   "cell_type": "code",
   "execution_count": null,
   "metadata": {},
   "outputs": [],
   "source": [
    "dc5[\"flg\"]=temp3"
   ]
  },
  {
   "cell_type": "code",
   "execution_count": null,
   "metadata": {},
   "outputs": [],
   "source": [
    "del dc5[0]"
   ]
  },
  {
   "cell_type": "code",
   "execution_count": null,
   "metadata": {},
   "outputs": [],
   "source": [
    "dc5.shape[0]"
   ]
  },
  {
   "cell_type": "code",
   "execution_count": null,
   "metadata": {},
   "outputs": [],
   "source": [
    "vsidx=dc5.vsidx.values\n",
    "gen=dc5.gen.values\n",
    "tei=dc5.tei.values\n",
    "flg=dc5.flg.values"
   ]
  },
  {
   "cell_type": "code",
   "execution_count": null,
   "metadata": {},
   "outputs": [],
   "source": [
    "cnt=[]\n",
    "cntstr=[]\n",
    "for i in range(gen.shape[0]):\n",
    "#for i in range(3):\n",
    "    ri2p=0\n",
    "    ri2n=0\n",
    "    ri3p=0\n",
    "    ri3n=0\n",
    "    nori=0\n",
    "    nostr=[]\n",
    "    for j in range(gen[i].shape[0]):\n",
    "        if gen[i][j]==\"リスク\":\n",
    "            if tei[i][j]==\"リスク２\":\n",
    "                if flg[i][j]==1:\n",
    "                    ri2p=ri2p+1\n",
    "                else:\n",
    "                    ri2n=ri2n+1\n",
    "            else:\n",
    "                if flg[i][j]==1:\n",
    "                    ri3p=ri3p+1\n",
    "                else:\n",
    "                    ri3n=ri3n+1\n",
    "        else:\n",
    "            if flg[i][j]==1:\n",
    "                nori=nori+1\n",
    "                nostr.append(gen[i][j])\n",
    "    cnt.append([vsidx[i],ri2p,ri2n,ri3p,ri3n,nori])\n",
    "    cntstr.append(nostr)"
   ]
  },
  {
   "cell_type": "code",
   "execution_count": null,
   "metadata": {},
   "outputs": [],
   "source": [
    "cntd = pd.DataFrame(cnt)"
   ]
  },
  {
   "cell_type": "code",
   "execution_count": null,
   "metadata": {},
   "outputs": [],
   "source": [
    "cntd[\"gen\"]=cntstr"
   ]
  },
  {
   "cell_type": "code",
   "execution_count": null,
   "metadata": {},
   "outputs": [],
   "source": [
    "tt = dc4r[dc4r.vsidx==\"14_00:23_158\"].iloc[:,5:]"
   ]
  },
  {
   "cell_type": "code",
   "execution_count": null,
   "metadata": {},
   "outputs": [],
   "source": [
    "tt.shape[0]"
   ]
  },
  {
   "cell_type": "code",
   "execution_count": null,
   "metadata": {},
   "outputs": [],
   "source": [
    "tt[~tt.duplicated()].shape[0]"
   ]
  },
  {
   "cell_type": "code",
   "execution_count": null,
   "metadata": {},
   "outputs": [],
   "source": [
    "cntd[cntd[5]>1]"
   ]
  },
  {
   "cell_type": "code",
   "execution_count": null,
   "metadata": {},
   "outputs": [],
   "source": [
    "cntd[\"vsidx\"]=cntd[0]"
   ]
  },
  {
   "cell_type": "code",
   "execution_count": null,
   "metadata": {},
   "outputs": [],
   "source": [
    "cntd.shape[0]"
   ]
  },
  {
   "cell_type": "code",
   "execution_count": null,
   "metadata": {},
   "outputs": [],
   "source": [
    "df = pd.merge(dc4r,cntd, on=\"vsidx\", how=\"left\")"
   ]
  },
  {
   "cell_type": "code",
   "execution_count": null,
   "metadata": {},
   "outputs": [],
   "source": [
    "df.shape[0]"
   ]
  },
  {
   "cell_type": "code",
   "execution_count": null,
   "metadata": {},
   "outputs": [],
   "source": [
    "df2=df[~df.duplicated(subset=\"vsidx\")]"
   ]
  },
  {
   "cell_type": "code",
   "execution_count": null,
   "metadata": {},
   "outputs": [],
   "source": [
    "df2.shape[0]"
   ]
  },
  {
   "cell_type": "code",
   "execution_count": null,
   "metadata": {},
   "outputs": [],
   "source": [
    "df2"
   ]
  },
  {
   "cell_type": "code",
   "execution_count": null,
   "metadata": {},
   "outputs": [],
   "source": [
    "df2.to_csv(\"D:/ahn_pc/workfile/2021/阪神事故リスク/df2_04.csv\", index = False, encoding=\"shift_jis\")"
   ]
  },
  {
   "cell_type": "code",
   "execution_count": null,
   "metadata": {},
   "outputs": [],
   "source": [
    "df2 = pd.read_csv(\"D:/ahn_pc/workfile/2021/阪神事故リスク/df2_04.csv\", encoding=\"shift_jis\")"
   ]
  },
  {
   "cell_type": "code",
   "execution_count": null,
   "metadata": {},
   "outputs": [],
   "source": []
  },
  {
   "cell_type": "code",
   "execution_count": null,
   "metadata": {},
   "outputs": [],
   "source": [
    "df2[\"tidx\"]=df2.記録年.astype(str)+\"-\"+df2.記録月.astype(str)+\"-\"+df2.記録日.astype(str)+\" \"+df2.記録時刻+\":00\""
   ]
  },
  {
   "cell_type": "code",
   "execution_count": null,
   "metadata": {},
   "outputs": [],
   "source": [
    "df2[\"tidx5m\"]=pd.to_datetime(df2.tidx).dt.round(\"5T\")"
   ]
  },
  {
   "cell_type": "code",
   "execution_count": null,
   "metadata": {},
   "outputs": [],
   "source": []
  },
  {
   "cell_type": "code",
   "execution_count": null,
   "metadata": {},
   "outputs": [],
   "source": []
  },
  {
   "cell_type": "code",
   "execution_count": null,
   "metadata": {},
   "outputs": [],
   "source": [
    "df2[pd.isna(df2.jdp)]"
   ]
  },
  {
   "cell_type": "code",
   "execution_count": null,
   "metadata": {},
   "outputs": [],
   "source": [
    "df2[\"idx\"]=df2.tidx5m.astype(str)+\"_\"+df2.jdp.astype(int).astype(str)"
   ]
  },
  {
   "cell_type": "code",
   "execution_count": null,
   "metadata": {},
   "outputs": [],
   "source": [
    "df2[\"upidx\"]=df2.tidx5m.astype(str)+\"_\"+df2.jdpup1.astype(int).astype(str)"
   ]
  },
  {
   "cell_type": "code",
   "execution_count": null,
   "metadata": {},
   "outputs": [],
   "source": []
  },
  {
   "cell_type": "code",
   "execution_count": null,
   "metadata": {},
   "outputs": [],
   "source": [
    "dff = pd.read_csv(\"D:/ahn_pc/workfile/2021/阪神事故リスク/result/dff4.csv\", encoding=\"shift_jis\")"
   ]
  },
  {
   "cell_type": "code",
   "execution_count": null,
   "metadata": {},
   "outputs": [],
   "source": [
    "dff2=dff[pd.isna(dff.エラー)]"
   ]
  },
  {
   "cell_type": "code",
   "execution_count": null,
   "metadata": {},
   "outputs": [],
   "source": [
    "dff3=dff2[dff2.速度<200]"
   ]
  },
  {
   "cell_type": "code",
   "execution_count": null,
   "metadata": {},
   "outputs": [],
   "source": [
    "dffup=dff3.loc[:,[\"idx\",\"区間長\",\"速度\",\"交通量\",\"渋滞\",\"事故\"]]"
   ]
  },
  {
   "cell_type": "code",
   "execution_count": null,
   "metadata": {},
   "outputs": [],
   "source": [
    "dffup.columns=[\"upidx\",\"区間長up\",\"速度up\",\"交通量up\",\"渋滞up\",\"事故up\"]"
   ]
  },
  {
   "cell_type": "code",
   "execution_count": null,
   "metadata": {},
   "outputs": [],
   "source": [
    "dffup"
   ]
  },
  {
   "cell_type": "code",
   "execution_count": null,
   "metadata": {},
   "outputs": [],
   "source": [
    "dm = pd.merge(df2,dff3, on=\"idx\", how=\"left\")"
   ]
  },
  {
   "cell_type": "code",
   "execution_count": null,
   "metadata": {},
   "outputs": [],
   "source": [
    "dm.iloc[:5,35:]"
   ]
  },
  {
   "cell_type": "code",
   "execution_count": null,
   "metadata": {},
   "outputs": [],
   "source": [
    "dm2 = pd.merge(dm,dffup, on=\"upidx\", how=\"left\")"
   ]
  },
  {
   "cell_type": "code",
   "execution_count": null,
   "metadata": {},
   "outputs": [],
   "source": [
    "dm2"
   ]
  },
  {
   "cell_type": "code",
   "execution_count": null,
   "metadata": {},
   "outputs": [],
   "source": [
    "dm2.to_csv(\"D:/ahn_pc/workfile/2021/阪神事故リスク/dm2_04.csv\", index = False, encoding=\"shift_jis\")"
   ]
  },
  {
   "cell_type": "code",
   "execution_count": null,
   "metadata": {},
   "outputs": [],
   "source": []
  },
  {
   "cell_type": "code",
   "execution_count": null,
   "metadata": {},
   "outputs": [],
   "source": []
  },
  {
   "cell_type": "code",
   "execution_count": null,
   "metadata": {},
   "outputs": [],
   "source": []
  },
  {
   "cell_type": "code",
   "execution_count": null,
   "metadata": {},
   "outputs": [],
   "source": []
  },
  {
   "cell_type": "code",
   "execution_count": null,
   "metadata": {},
   "outputs": [],
   "source": []
  },
  {
   "cell_type": "code",
   "execution_count": null,
   "metadata": {},
   "outputs": [],
   "source": []
  },
  {
   "cell_type": "code",
   "execution_count": null,
   "metadata": {},
   "outputs": [],
   "source": []
  },
  {
   "cell_type": "code",
   "execution_count": null,
   "metadata": {},
   "outputs": [],
   "source": []
  },
  {
   "cell_type": "code",
   "execution_count": null,
   "metadata": {},
   "outputs": [],
   "source": []
  },
  {
   "cell_type": "code",
   "execution_count": null,
   "metadata": {},
   "outputs": [],
   "source": [
    "df[df.vsidx==\"4_00:03_11\"].loc[:,\"原因\"]"
   ]
  },
  {
   "cell_type": "code",
   "execution_count": null,
   "metadata": {},
   "outputs": [],
   "source": [
    "df2 = df[~df.duplicated(subset=\"vsidx\")]"
   ]
  },
  {
   "cell_type": "code",
   "execution_count": null,
   "metadata": {},
   "outputs": [],
   "source": [
    "df2.iloc[1,:]"
   ]
  },
  {
   "cell_type": "code",
   "execution_count": null,
   "metadata": {},
   "outputs": [],
   "source": [
    "dc4r"
   ]
  },
  {
   "cell_type": "code",
   "execution_count": null,
   "metadata": {},
   "outputs": [],
   "source": []
  },
  {
   "cell_type": "code",
   "execution_count": null,
   "metadata": {},
   "outputs": [],
   "source": []
  },
  {
   "cell_type": "code",
   "execution_count": null,
   "metadata": {},
   "outputs": [],
   "source": []
  },
  {
   "cell_type": "code",
   "execution_count": null,
   "metadata": {},
   "outputs": [],
   "source": []
  },
  {
   "cell_type": "code",
   "execution_count": null,
   "metadata": {},
   "outputs": [],
   "source": []
  },
  {
   "cell_type": "code",
   "execution_count": null,
   "metadata": {},
   "outputs": [],
   "source": []
  },
  {
   "cell_type": "code",
   "execution_count": null,
   "metadata": {},
   "outputs": [],
   "source": []
  },
  {
   "cell_type": "code",
   "execution_count": null,
   "metadata": {},
   "outputs": [],
   "source": [
    "temp2 = dc4r[[\"vsidx\",\"indx\"]].groupby(\"vsidx\").count()"
   ]
  },
  {
   "cell_type": "code",
   "execution_count": null,
   "metadata": {},
   "outputs": [],
   "source": [
    "temp2[temp2.indx>5]"
   ]
  },
  {
   "cell_type": "code",
   "execution_count": null,
   "metadata": {},
   "outputs": [],
   "source": [
    "temp = dc4r[(dc4r.vsidx==\"10_12:52_368\")|(dc4r.vsidx==\"9_23:37_545\")]"
   ]
  },
  {
   "cell_type": "code",
   "execution_count": null,
   "metadata": {},
   "outputs": [],
   "source": [
    "def ts(d):\n",
    "    return d.原因.values\n",
    "def ts2(d):\n",
    "    return d.提供フラグ.values"
   ]
  },
  {
   "cell_type": "code",
   "execution_count": null,
   "metadata": {},
   "outputs": [],
   "source": [
    "temp2 = temp.groupby(\"vsidx\").apply(ts)\n",
    "temp3 = temp.groupby(\"vsidx\").apply(ts2)"
   ]
  },
  {
   "cell_type": "code",
   "execution_count": null,
   "metadata": {},
   "outputs": [],
   "source": [
    "print(temp2)\n",
    "print(temp3)"
   ]
  },
  {
   "cell_type": "code",
   "execution_count": null,
   "metadata": {},
   "outputs": [],
   "source": []
  },
  {
   "cell_type": "code",
   "execution_count": null,
   "metadata": {},
   "outputs": [],
   "source": []
  },
  {
   "cell_type": "code",
   "execution_count": null,
   "metadata": {},
   "outputs": [],
   "source": []
  },
  {
   "cell_type": "code",
   "execution_count": null,
   "metadata": {},
   "outputs": [],
   "source": [
    "tempr = dc4[(dc4.risk==1)&(dc4.原因==\"リスク\")]"
   ]
  },
  {
   "cell_type": "code",
   "execution_count": null,
   "metadata": {},
   "outputs": [],
   "source": [
    "tempnr = dc4[(dc4.risk==1)&(dc4.原因!=\"リスク\")]"
   ]
  },
  {
   "cell_type": "code",
   "execution_count": null,
   "metadata": {},
   "outputs": [],
   "source": [
    "temp.shape[0]==tempr.shape[0]+tempnr.shape[0]"
   ]
  },
  {
   "cell_type": "code",
   "execution_count": null,
   "metadata": {},
   "outputs": [],
   "source": [
    "print(tempr.shape[0])\n",
    "print(tempnr.shape[0])\n",
    "print(tempr[tempr.提供フラグ==1].shape[0])\n",
    "print(tempr[tempr.提供フラグ!=1].shape[0])\n",
    "print(tempnr[tempnr.提供フラグ==1].shape[0])\n",
    "print(tempnr[tempnr.提供フラグ!=1].shape[0])"
   ]
  },
  {
   "cell_type": "code",
   "execution_count": null,
   "metadata": {},
   "outputs": [],
   "source": []
  },
  {
   "cell_type": "code",
   "execution_count": null,
   "metadata": {},
   "outputs": [],
   "source": []
  },
  {
   "cell_type": "code",
   "execution_count": null,
   "metadata": {},
   "outputs": [],
   "source": []
  },
  {
   "cell_type": "code",
   "execution_count": null,
   "metadata": {},
   "outputs": [],
   "source": [
    "dc3a = dc3.loc[:,[\"記録日\",\"記録時刻\",\"文字情報板番号\",\"提供フラグ\",\"原因\",\"程度\",\"特記事項\"]]"
   ]
  },
  {
   "cell_type": "code",
   "execution_count": null,
   "metadata": {},
   "outputs": [],
   "source": [
    "dc3b = dc3a[((dc3a.原因==\"リスク\")&(dc3a.提供フラグ!=1))|(dc3a.提供フラグ==1)]"
   ]
  },
  {
   "cell_type": "code",
   "execution_count": null,
   "metadata": {},
   "outputs": [],
   "source": [
    "dc3b"
   ]
  },
  {
   "cell_type": "code",
   "execution_count": null,
   "metadata": {},
   "outputs": [],
   "source": [
    "dc3b[dc3b.提供フラグ!=1]"
   ]
  },
  {
   "cell_type": "code",
   "execution_count": null,
   "metadata": {},
   "outputs": [],
   "source": [
    "dc3amoji2 = dc3a[dc3a.文字情報板番号==17]"
   ]
  },
  {
   "cell_type": "code",
   "execution_count": null,
   "metadata": {},
   "outputs": [],
   "source": []
  },
  {
   "cell_type": "code",
   "execution_count": null,
   "metadata": {},
   "outputs": [],
   "source": []
  },
  {
   "cell_type": "code",
   "execution_count": null,
   "metadata": {},
   "outputs": [],
   "source": []
  },
  {
   "cell_type": "code",
   "execution_count": null,
   "metadata": {},
   "outputs": [],
   "source": []
  },
  {
   "cell_type": "code",
   "execution_count": null,
   "metadata": {},
   "outputs": [],
   "source": []
  },
  {
   "cell_type": "code",
   "execution_count": null,
   "metadata": {},
   "outputs": [],
   "source": [
    "dc2=dc[dc.原因==\"リスク\"]"
   ]
  },
  {
   "cell_type": "code",
   "execution_count": null,
   "metadata": {},
   "outputs": [],
   "source": [
    "dc2"
   ]
  },
  {
   "cell_type": "code",
   "execution_count": null,
   "metadata": {},
   "outputs": [],
   "source": [
    "dc2.to_csv(\"D:/ahn_pc/workfile/2021/阪神事故リスク/moji4.csv\", index = False, encoding=\"shift_jis\")"
   ]
  },
  {
   "cell_type": "code",
   "execution_count": null,
   "metadata": {},
   "outputs": [],
   "source": [
    "dc3=dc2[dc2.提供フラグ==1]"
   ]
  },
  {
   "cell_type": "code",
   "execution_count": null,
   "metadata": {},
   "outputs": [],
   "source": [
    "dc3"
   ]
  },
  {
   "cell_type": "code",
   "execution_count": null,
   "metadata": {},
   "outputs": [],
   "source": [
    "dc3.to_csv(\"D:/ahn_pc/workfile/2021/阪神事故リスク/moji4hyoji.csv\", index = False, encoding=\"shift_jis\")"
   ]
  },
  {
   "cell_type": "code",
   "execution_count": null,
   "metadata": {},
   "outputs": [],
   "source": []
  },
  {
   "cell_type": "code",
   "execution_count": null,
   "metadata": {},
   "outputs": [],
   "source": []
  },
  {
   "cell_type": "code",
   "execution_count": null,
   "metadata": {},
   "outputs": [],
   "source": [
    "dc[\"dtt\"]=dc[\"dt\"]+\" \"+dc[\"tim\"]"
   ]
  },
  {
   "cell_type": "code",
   "execution_count": null,
   "metadata": {},
   "outputs": [],
   "source": [
    "dc[\"dtt2\"] = pd.to_datetime(dc.dtt)"
   ]
  },
  {
   "cell_type": "code",
   "execution_count": null,
   "metadata": {},
   "outputs": [],
   "source": [
    "dtt = pd.DataFrame(dc[dc[\"num\"]==1].dtt2)"
   ]
  },
  {
   "cell_type": "code",
   "execution_count": null,
   "metadata": {},
   "outputs": [],
   "source": [
    "#dtt.dtt=dtt.dtt.astype(str)"
   ]
  },
  {
   "cell_type": "code",
   "execution_count": null,
   "metadata": {},
   "outputs": [],
   "source": [
    "dtt"
   ]
  },
  {
   "cell_type": "code",
   "execution_count": null,
   "metadata": {},
   "outputs": [],
   "source": [
    "occerr = dc[dc.occ>200].drop_duplicates(subset=\"num\")"
   ]
  },
  {
   "cell_type": "code",
   "execution_count": null,
   "metadata": {},
   "outputs": [],
   "source": [
    "occerr"
   ]
  },
  {
   "cell_type": "code",
   "execution_count": null,
   "metadata": {},
   "outputs": [],
   "source": [
    "occerr.to_csv(\"D:/ahn_pc/workfile/2021/阪神事故リスク/occerr4.csv\", index = False)"
   ]
  },
  {
   "cell_type": "code",
   "execution_count": null,
   "metadata": {},
   "outputs": [],
   "source": []
  },
  {
   "cell_type": "code",
   "execution_count": null,
   "metadata": {},
   "outputs": [],
   "source": [
    "kens = pd.read_csv(\"D:/ahn_pc/workfile/2021/阪神事故リスク/kenchiki_s2.csv\", header=None, encoding=\"shift_jis\")"
   ]
  },
  {
   "cell_type": "code",
   "execution_count": null,
   "metadata": {},
   "outputs": [],
   "source": [
    "kens.columns=[\"num\"]"
   ]
  },
  {
   "cell_type": "code",
   "execution_count": null,
   "metadata": {},
   "outputs": [],
   "source": [
    "kens"
   ]
  },
  {
   "cell_type": "code",
   "execution_count": null,
   "metadata": {},
   "outputs": [],
   "source": []
  },
  {
   "cell_type": "code",
   "execution_count": null,
   "metadata": {},
   "outputs": [],
   "source": [
    "sec = pd.read_csv(\"D:/ahn_pc/workfile/2021/阪神事故リスク/section_add.csv\", encoding=\"shift_jis\")\n",
    "#jdp = pd.read_csv(\"D:/ahn_pc/workfile/2021/阪神事故リスク/JDP2.csv\", encoding=\"shift_jis\")"
   ]
  },
  {
   "cell_type": "code",
   "execution_count": null,
   "metadata": {},
   "outputs": [],
   "source": [
    "#jdpd = jdp.loc[:,[\"JDP番号\",\"JDP担当範囲\",\"渋滞検知器番号1\",\"渋滞検知器番号2\",\"渋滞検知器番号3\",\"渋滞検知器番号4\",\"区間番号\"]]"
   ]
  },
  {
   "cell_type": "code",
   "execution_count": null,
   "metadata": {},
   "outputs": [],
   "source": [
    "noken = sec[pd.isna(sec.検知器番号1)].区間番号"
   ]
  },
  {
   "cell_type": "code",
   "execution_count": null,
   "metadata": {},
   "outputs": [],
   "source": [
    "noken.to_csv(\"D:/ahn_pc/workfile/2021/阪神事故リスク/noken.csv\", index = False)"
   ]
  },
  {
   "cell_type": "code",
   "execution_count": null,
   "metadata": {},
   "outputs": [],
   "source": [
    "dc"
   ]
  },
  {
   "cell_type": "code",
   "execution_count": null,
   "metadata": {},
   "outputs": [],
   "source": [
    "sec"
   ]
  },
  {
   "cell_type": "code",
   "execution_count": null,
   "metadata": {},
   "outputs": [],
   "source": [
    "sec_n = sec.区間番号\n",
    "sec_1 = sec.検知器番号1\n",
    "sec_2 = sec.検知器番号2\n",
    "sec_3 = sec.検知器番号3\n",
    "sec_4 = sec.検知器番号4\n",
    "\n",
    "df = []\n",
    "dtt[\"sec\"] = 0\n",
    "\n",
    "for idx in range(sec.shape[0]):\n",
    "#for idx in range(5):\n",
    "    secn = sec_n.values[idx]\n",
    "    dtt[\"sec\"] = secn\n",
    "    \n",
    "    tempc=[]\n",
    "    temp1 = dc[dc[\"num\"]==sec_1.values[idx]]\n",
    "    tempc = pd.merge(dtt,temp1, on=\"dtt2\")\n",
    "    \n",
    "    print(temp1)\n",
    "    print(tempc)\n",
    "    \n",
    "    if pd.notna(sec_2.values[idx]):\n",
    "        temp2 = dc[dc[\"num\"]==sec_2.values[idx]]\n",
    "        tempc = pd.merge(tempc,temp2, on=\"dtt2\")\n",
    "    \n",
    "    if pd.notna(sec_3.values[idx]):\n",
    "        temp3 = dc[dc[\"num\"]==sec_3.values[idx]]\n",
    "        tempc = pd.merge(tempc,temp3, on=\"dtt2\")\n",
    "    \n",
    "    if pd.notna(sec_4.values[idx]):\n",
    "        temp4 = dc[dc[\"num\"]==sec_4.values[idx]]\n",
    "        tempc = pd.merge(tempc,temp4, on=\"dtt2\")\n",
    "    \n",
    "    tempv = tempc.values\n",
    "    tempd = pd.DataFrame(tempv)\n",
    "    print(tempd)\n",
    "    df.append(tempd)"
   ]
  },
  {
   "cell_type": "code",
   "execution_count": null,
   "metadata": {},
   "outputs": [],
   "source": [
    "#dc[dc[\"num\"]==sec_1.values[0]]\n",
    "#dc[dc[\"num\"]==2508]"
   ]
  },
  {
   "cell_type": "code",
   "execution_count": null,
   "metadata": {},
   "outputs": [],
   "source": [
    "dfc = pd.concat(df, axis = 0, ignore_index=True)"
   ]
  },
  {
   "cell_type": "code",
   "execution_count": null,
   "metadata": {},
   "outputs": [],
   "source": [
    "dfc[dfc[1]==333]"
   ]
  },
  {
   "cell_type": "code",
   "execution_count": null,
   "metadata": {},
   "outputs": [],
   "source": [
    "dfc.iloc[0,:]"
   ]
  },
  {
   "cell_type": "code",
   "execution_count": null,
   "metadata": {},
   "outputs": [],
   "source": [
    "trf = dfc[6].values.tolist()\n",
    "trf1 = dfc[6].values.tolist()\n",
    "trf2 = dfc[16].values.tolist()\n",
    "trf3 = dfc[26].values.tolist()\n",
    "trf4 = dfc[36].values.tolist()"
   ]
  },
  {
   "cell_type": "code",
   "execution_count": null,
   "metadata": {},
   "outputs": [],
   "source": [
    "len(trf1)"
   ]
  },
  {
   "cell_type": "code",
   "execution_count": null,
   "metadata": {},
   "outputs": [],
   "source": [
    "for i in range(len(trf1)):\n",
    "#for i in range(11):\n",
    "    if not pd.isna(trf2[i]):\n",
    "        #print(trf2[i])\n",
    "        if not pd.isna(trf3[i]):\n",
    "            #rint(trf3[i])\n",
    "            if not pd.isna(trf4[i]):\n",
    "                trf[i]=trf1[i]+trf2[i]+trf3[i]+trf4[i]\n",
    "            else:\n",
    "                trf[i]=trf1[i]+trf2[i]+trf3[i]\n",
    "        else:\n",
    "            trf[i]=trf1[i]+trf2[i]\n",
    "    else:\n",
    "        trf[i]=trf1[i]"
   ]
  },
  {
   "cell_type": "code",
   "execution_count": null,
   "metadata": {},
   "outputs": [],
   "source": [
    "dfc.insert(1,\"trf\",trf)"
   ]
  },
  {
   "cell_type": "code",
   "execution_count": null,
   "metadata": {},
   "outputs": [],
   "source": [
    "dfc[dfc[1]==333]"
   ]
  },
  {
   "cell_type": "code",
   "execution_count": null,
   "metadata": {},
   "outputs": [],
   "source": [
    "dfc"
   ]
  },
  {
   "cell_type": "code",
   "execution_count": null,
   "metadata": {},
   "outputs": [],
   "source": [
    "temp=dfc[dfc[8]>65500][1]"
   ]
  },
  {
   "cell_type": "code",
   "execution_count": null,
   "metadata": {},
   "outputs": [],
   "source": [
    "temp"
   ]
  },
  {
   "cell_type": "code",
   "execution_count": null,
   "metadata": {},
   "outputs": [],
   "source": [
    "temp[temp!=518]"
   ]
  },
  {
   "cell_type": "code",
   "execution_count": null,
   "metadata": {},
   "outputs": [],
   "source": [
    "dfcidx = dfc.iloc[:,:3]"
   ]
  },
  {
   "cell_type": "code",
   "execution_count": null,
   "metadata": {},
   "outputs": [],
   "source": [
    "dfcidx[dfcidx[1]==333]"
   ]
  },
  {
   "cell_type": "code",
   "execution_count": null,
   "metadata": {},
   "outputs": [],
   "source": [
    "dfcidx.insert(0,\"idx\",dfcidx[0].astype(str)+\"_\"+dfcidx[1].astype(str))"
   ]
  },
  {
   "cell_type": "code",
   "execution_count": null,
   "metadata": {},
   "outputs": [],
   "source": [
    "dfcidx"
   ]
  },
  {
   "cell_type": "code",
   "execution_count": null,
   "metadata": {},
   "outputs": [],
   "source": [
    "#ttt3 = dfcidx[dfcidx[0]==\"2021-04-30 11:10:00\"]"
   ]
  },
  {
   "cell_type": "code",
   "execution_count": null,
   "metadata": {},
   "outputs": [],
   "source": [
    "#ttt3[ttt3[1]==27]"
   ]
  },
  {
   "cell_type": "code",
   "execution_count": null,
   "metadata": {},
   "outputs": [],
   "source": [
    "dfcidx[dfcidx[1]==333]"
   ]
  },
  {
   "cell_type": "code",
   "execution_count": null,
   "metadata": {},
   "outputs": [],
   "source": [
    "dfcidx[pd.isna(dfcidx.trf)]"
   ]
  },
  {
   "cell_type": "code",
   "execution_count": null,
   "metadata": {},
   "outputs": [],
   "source": [
    "jdp = pd.read_csv(\"D:/ahn_pc/workfile/2021/阪神事故リスク/JDP3.csv\", encoding=\"shift_jis\")"
   ]
  },
  {
   "cell_type": "code",
   "execution_count": null,
   "metadata": {},
   "outputs": [],
   "source": [
    "jdp"
   ]
  },
  {
   "cell_type": "code",
   "execution_count": null,
   "metadata": {},
   "outputs": [],
   "source": [
    "jdpd = jdp.loc[:,[\"JDP番号\",\"地区名\",\"JDP担当範囲\",\"渋滞検知器番号1\",\"渋滞検知器番号2\",\"渋滞検知器番号3\",\"渋滞検知器番号4\",\"区間番号修正\"]]"
   ]
  },
  {
   "cell_type": "code",
   "execution_count": null,
   "metadata": {},
   "outputs": [],
   "source": [
    "dtt2 = pd.DataFrame(dc[dc[\"num\"]==1].dtt2)"
   ]
  },
  {
   "cell_type": "code",
   "execution_count": null,
   "metadata": {},
   "outputs": [],
   "source": [
    "jdpd_j = jdpd.JDP番号\n",
    "jdpd_l = jdpd.地区名\n",
    "jdpd_s = jdpd.区間番号修正\n",
    "jdpd_km = jdpd.JDP担当範囲\n",
    "jdpd_1 = jdpd.渋滞検知器番号1\n",
    "jdpd_2 = jdpd.渋滞検知器番号2\n",
    "jdpd_3 = jdpd.渋滞検知器番号3\n",
    "jdpd_4 = jdpd.渋滞検知器番号4\n",
    "\n",
    "df2 = []\n",
    "dtt2[\"loca\"] = 0\n",
    "dtt2[\"jdp\"] = 0\n",
    "dtt2[\"secn\"] = 0\n",
    "\n",
    "for idx in range(jdpd.shape[0]):\n",
    "#for idx in range(5):\n",
    "    jdn = jdpd_j.values[idx]\n",
    "    loca = jdpd_l.values[idx]\n",
    "    secn = jdpd_s.values[idx]\n",
    "    kmn = jdpd_km.values[idx]\n",
    "    #jdn = jdp.JDP番号[idx]\n",
    "    #secn = jdp.区間番号[idx]\n",
    "    \n",
    "    dtt2[\"jdp\"] = jdn\n",
    "    dtt2[\"loca\"] = loca\n",
    "    dtt2[\"secn\"] = secn\n",
    "    dtt2[\"kmn\"] = kmn\n",
    "    \n",
    "    tempc=[]\n",
    "    temp1 = dc[dc[\"num\"]==jdpd_1.values[idx]]\n",
    "    tempc = pd.merge(dtt2,temp1, on=\"dtt2\")\n",
    "    \n",
    "    if pd.notna(jdpd_2.values[idx]):\n",
    "        temp2 = dc[dc[\"num\"]==jdpd_2.values[idx]]\n",
    "        tempc = pd.merge(tempc,temp2, on=\"dtt2\")\n",
    "    \n",
    "    if pd.notna(jdpd_3.values[idx]):\n",
    "        temp3 = dc[dc[\"num\"]==jdpd_3.values[idx]]\n",
    "        tempc = pd.merge(tempc,temp3, on=\"dtt2\")\n",
    "    \n",
    "    if pd.notna(jdpd_4.values[idx]):\n",
    "        temp4 = dc[dc[\"num\"]==jdpd_4.values[idx]]\n",
    "        tempc = pd.merge(tempc,temp4, on=\"dtt2\")\n",
    "    \n",
    "    tempv = tempc.values\n",
    "    tempd = pd.DataFrame(tempv)\n",
    "    df2.append(tempd)"
   ]
  },
  {
   "cell_type": "code",
   "execution_count": null,
   "metadata": {},
   "outputs": [],
   "source": [
    "dfc2 = pd.concat(df2, axis = 0, ignore_index=True)"
   ]
  },
  {
   "cell_type": "code",
   "execution_count": null,
   "metadata": {},
   "outputs": [],
   "source": [
    "dfc2[dfc2[2]==333]"
   ]
  },
  {
   "cell_type": "code",
   "execution_count": null,
   "metadata": {},
   "outputs": [],
   "source": [
    "dfc2"
   ]
  },
  {
   "cell_type": "code",
   "execution_count": null,
   "metadata": {},
   "outputs": [],
   "source": [
    "dfc2.insert(0,\"idx\",dfc2[0].astype(str)+\"_\"+dfc2[2].astype(str))"
   ]
  },
  {
   "cell_type": "code",
   "execution_count": null,
   "metadata": {},
   "outputs": [],
   "source": [
    "dfc2"
   ]
  },
  {
   "cell_type": "code",
   "execution_count": null,
   "metadata": {},
   "outputs": [],
   "source": []
  },
  {
   "cell_type": "code",
   "execution_count": null,
   "metadata": {},
   "outputs": [],
   "source": [
    "dfinal = pd.merge(dfc2,dfcidx, on=\"idx\", how=\"left\")"
   ]
  },
  {
   "cell_type": "code",
   "execution_count": null,
   "metadata": {},
   "outputs": [],
   "source": [
    "dfinal"
   ]
  },
  {
   "cell_type": "code",
   "execution_count": null,
   "metadata": {},
   "outputs": [],
   "source": [
    "#ttt = dfinal[dfinal[\"0_x\"]==\"2021-04-30 11:10:00\"]\n",
    "#ttt2 = dfc2[dfc2[0]==\"2021-04-30 11:10:00\"]"
   ]
  },
  {
   "cell_type": "code",
   "execution_count": null,
   "metadata": {},
   "outputs": [],
   "source": [
    "#ttt[ttt[\"1_x\"]==35]\n",
    "#ttt2[ttt2[1]==35]"
   ]
  },
  {
   "cell_type": "code",
   "execution_count": null,
   "metadata": {},
   "outputs": [],
   "source": [
    "test=dfinal[pd.isna(dfinal[\"1_y\"])].drop_duplicates(subset=\"1_x\")"
   ]
  },
  {
   "cell_type": "code",
   "execution_count": null,
   "metadata": {},
   "outputs": [],
   "source": [
    "test"
   ]
  },
  {
   "cell_type": "code",
   "execution_count": null,
   "metadata": {},
   "outputs": [],
   "source": []
  },
  {
   "cell_type": "code",
   "execution_count": null,
   "metadata": {},
   "outputs": [],
   "source": [
    "cong = pd.read_csv(\"D:/ahn_pc/workfile/2021/阪神事故リスク/cong04.csv\", encoding=\"shift_jis\")"
   ]
  },
  {
   "cell_type": "code",
   "execution_count": null,
   "metadata": {},
   "outputs": [],
   "source": [
    "cong"
   ]
  },
  {
   "cell_type": "code",
   "execution_count": null,
   "metadata": {},
   "outputs": [],
   "source": [
    "congd = cong.loc[:,[\"idx\",\"cong\"]]"
   ]
  },
  {
   "cell_type": "code",
   "execution_count": null,
   "metadata": {},
   "outputs": [],
   "source": [
    "congd"
   ]
  },
  {
   "cell_type": "code",
   "execution_count": null,
   "metadata": {},
   "outputs": [],
   "source": [
    "dfinal2 = pd.merge(dfinal,congd, on=\"idx\", how=\"left\")"
   ]
  },
  {
   "cell_type": "code",
   "execution_count": null,
   "metadata": {},
   "outputs": [],
   "source": [
    "dfinal2"
   ]
  },
  {
   "cell_type": "code",
   "execution_count": null,
   "metadata": {},
   "outputs": [],
   "source": [
    "dfinal2.to_csv(\"D:/ahn_pc/workfile/2021/阪神事故リスク/dfinal4.csv\", index = False)"
   ]
  },
  {
   "cell_type": "code",
   "execution_count": null,
   "metadata": {},
   "outputs": [],
   "source": [
    "dfinal2 = pd.read_csv(\"D:/ahn_pc/workfile/2021/阪神事故リスク/dfinal4.csv\", encoding=\"shift_jis\")"
   ]
  },
  {
   "cell_type": "code",
   "execution_count": null,
   "metadata": {},
   "outputs": [],
   "source": []
  },
  {
   "cell_type": "code",
   "execution_count": null,
   "metadata": {},
   "outputs": [],
   "source": [
    "acc = pd.read_csv(\"D:/ahn_pc/workfile/2021/阪神事故リスク/accident.csv\", encoding=\"shift_jis\")"
   ]
  },
  {
   "cell_type": "code",
   "execution_count": null,
   "metadata": {},
   "outputs": [],
   "source": [
    "accd = acc.loc[:,[\"idx\",\"天候\",\"事故の形態\",\"交通状態\",\"発生日_曜日\",\"曜日種別E（営業）\"]]"
   ]
  },
  {
   "cell_type": "code",
   "execution_count": null,
   "metadata": {},
   "outputs": [],
   "source": [
    "accd[\"acci\"]=1"
   ]
  },
  {
   "cell_type": "code",
   "execution_count": null,
   "metadata": {},
   "outputs": [],
   "source": [
    "accd"
   ]
  },
  {
   "cell_type": "code",
   "execution_count": null,
   "metadata": {},
   "outputs": [],
   "source": [
    "dfinal3 = pd.merge(dfinal2,accd, on=\"idx\", how=\"left\")"
   ]
  },
  {
   "cell_type": "code",
   "execution_count": null,
   "metadata": {},
   "outputs": [],
   "source": [
    "dfinal3"
   ]
  },
  {
   "cell_type": "code",
   "execution_count": null,
   "metadata": {},
   "outputs": [],
   "source": [
    "dfinal3.to_csv(\"D:/ahn_pc/workfile/2021/阪神事故リスク/dfinal4_2.csv\", index = False)"
   ]
  },
  {
   "cell_type": "code",
   "execution_count": null,
   "metadata": {},
   "outputs": [],
   "source": [
    "#dfinal3 = pd.read_csv(\"D:/ahn_pc/workfile/2021/阪神事故リスク/dfinal4_2.csv\", encoding=\"shift_jis\")\n",
    "dfinal3 = pd.read_csv(\"D:/ahn_pc/workfile/2021/阪神事故リスク/dfinal4_2.csv\")"
   ]
  },
  {
   "cell_type": "code",
   "execution_count": null,
   "metadata": {},
   "outputs": [],
   "source": []
  },
  {
   "cell_type": "code",
   "execution_count": null,
   "metadata": {},
   "outputs": [],
   "source": [
    "dfinal3[\"tm\"]=pd.to_datetime(dfinal3[\"0_x\"])"
   ]
  },
  {
   "cell_type": "code",
   "execution_count": null,
   "metadata": {},
   "outputs": [],
   "source": [
    "dfinal3[\"week\"]=dfinal3.tm.dt.weekday"
   ]
  },
  {
   "cell_type": "code",
   "execution_count": null,
   "metadata": {},
   "outputs": [],
   "source": [
    "dfinal3[\"wcode\"]=1"
   ]
  },
  {
   "cell_type": "code",
   "execution_count": null,
   "metadata": {},
   "outputs": [],
   "source": [
    "#dc2.loc[(dfinal3.week>4)|(dc2.JDP状態==\"A\")|(dc2.JDP状態==\"D\"),\"cong\"]=2\n",
    "dfinal3.loc[(dfinal3.week==5),\"wcode\"]=2\n",
    "dfinal3.loc[(dfinal3.week==6),\"wcode\"]=3"
   ]
  },
  {
   "cell_type": "code",
   "execution_count": null,
   "metadata": {},
   "outputs": [],
   "source": [
    "dfinal3[\"hour\"]=dfinal3.tm.dt.hour"
   ]
  },
  {
   "cell_type": "code",
   "execution_count": null,
   "metadata": {},
   "outputs": [],
   "source": [
    "dfinal3[\"hcode\"]=2"
   ]
  },
  {
   "cell_type": "code",
   "execution_count": null,
   "metadata": {},
   "outputs": [],
   "source": [
    "dfinal3.loc[(dfinal3.hour>6)&(dfinal3.hour<20),\"hcode\"]=1"
   ]
  },
  {
   "cell_type": "code",
   "execution_count": null,
   "metadata": {},
   "outputs": [],
   "source": []
  },
  {
   "cell_type": "code",
   "execution_count": null,
   "metadata": {},
   "outputs": [],
   "source": [
    "dfinal3[\"dy\"]=pd.to_datetime(dfinal3[5])"
   ]
  },
  {
   "cell_type": "code",
   "execution_count": null,
   "metadata": {},
   "outputs": [],
   "source": [
    "dfinal3.dy"
   ]
  },
  {
   "cell_type": "code",
   "execution_count": null,
   "metadata": {},
   "outputs": [],
   "source": [
    "kyu = pd.read_csv(\"D:/ahn_pc/workfile/2021/阪神事故リスク/kyujitsu_2021.csv\", header=None)"
   ]
  },
  {
   "cell_type": "code",
   "execution_count": null,
   "metadata": {},
   "outputs": [],
   "source": [
    "kyu[\"dy\"]=pd.to_datetime(kyu[0])"
   ]
  },
  {
   "cell_type": "code",
   "execution_count": null,
   "metadata": {},
   "outputs": [],
   "source": [
    "kyu[\"kcode\"]=1"
   ]
  },
  {
   "cell_type": "code",
   "execution_count": null,
   "metadata": {},
   "outputs": [],
   "source": [
    "kyu.dy"
   ]
  },
  {
   "cell_type": "code",
   "execution_count": null,
   "metadata": {},
   "outputs": [],
   "source": [
    "dfinal4 = pd.merge(dfinal3,kyu, on=\"dy\", how=\"left\")"
   ]
  },
  {
   "cell_type": "code",
   "execution_count": null,
   "metadata": {},
   "outputs": [],
   "source": [
    "dfinal4"
   ]
  },
  {
   "cell_type": "code",
   "execution_count": null,
   "metadata": {},
   "outputs": [],
   "source": [
    "dfinal4[~pd.isna(dfinal4.kcode)].kcode"
   ]
  },
  {
   "cell_type": "code",
   "execution_count": null,
   "metadata": {},
   "outputs": [],
   "source": [
    "dfinal4.loc[(dfinal4.kcode==1),\"wcode\"]=3"
   ]
  },
  {
   "cell_type": "code",
   "execution_count": null,
   "metadata": {},
   "outputs": [],
   "source": []
  },
  {
   "cell_type": "code",
   "execution_count": null,
   "metadata": {},
   "outputs": [],
   "source": [
    "dfinal4.to_csv(\"D:/ahn_pc/workfile/2021/阪神事故リスク/dfinal4_3.csv\", index = False)"
   ]
  },
  {
   "cell_type": "code",
   "execution_count": null,
   "metadata": {},
   "outputs": [],
   "source": [
    "dfinal4 = pd.read_csv(\"D:/ahn_pc/workfile/2021/阪神事故リスク/dfinal4_3.csv\")"
   ]
  },
  {
   "cell_type": "code",
   "execution_count": null,
   "metadata": {},
   "outputs": [],
   "source": [
    "dfinal4"
   ]
  },
  {
   "cell_type": "code",
   "execution_count": null,
   "metadata": {},
   "outputs": [],
   "source": [
    "dfinal4.columns"
   ]
  },
  {
   "cell_type": "code",
   "execution_count": null,
   "metadata": {},
   "outputs": [],
   "source": [
    "dff = dfinal4.loc[:,[\"idx\",\"1_x\",\"2\",\"4\",\"5\",\"3\",\"7\",\"11\",\"trf\",\"cong\",\"acci\",\"wcode\",\"hcode\",\"kcode\"]]"
   ]
  },
  {
   "cell_type": "code",
   "execution_count": null,
   "metadata": {},
   "outputs": [],
   "source": [
    "dff"
   ]
  },
  {
   "cell_type": "code",
   "execution_count": null,
   "metadata": {},
   "outputs": [],
   "source": [
    "dff.to_csv(\"D:/ahn_pc/workfile/2021/阪神事故リスク/dff4.csv\", index = False)"
   ]
  },
  {
   "cell_type": "code",
   "execution_count": null,
   "metadata": {},
   "outputs": [],
   "source": []
  }
 ],
 "metadata": {
  "kernelspec": {
   "display_name": "Python 3",
   "language": "python",
   "name": "python3"
  },
  "language_info": {
   "codemirror_mode": {
    "name": "ipython",
    "version": 3
   },
   "file_extension": ".py",
   "mimetype": "text/x-python",
   "name": "python",
   "nbconvert_exporter": "python",
   "pygments_lexer": "ipython3",
   "version": "3.7.6"
  }
 },
 "nbformat": 4,
 "nbformat_minor": 4
}
