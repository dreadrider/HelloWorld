{
 "cells": [
  {
   "cell_type": "code",
   "execution_count": null,
   "metadata": {
    "collapsed": true
   },
   "outputs": [],
   "source": [
    "import numpy as np\n",
    "import matplotlib.pyplot as plt\n",
    "\n",
    "p = np.zeros((240,320,2), dtype=\"float32\")\n",
    "p[:,:,0], p[:,:,1] = np.meshgrid(np.linspace(-1,1,p.shape[1]), np.linspace(1,-1,p.shape[0]), sparse=True)\n",
    "p[:,:,0] *= p.shape[1] / p.shape[0]"
   ]
  },
  {
   "cell_type": "code",
   "execution_count": null,
   "metadata": {
    "collapsed": false
   },
   "outputs": [],
   "source": [
    "#p = np.zeros((240,320,3), dtype=\"float32\")\n",
    "#p[:,:,0], p[:,:,1] = np.meshgrid(np.linspace(-1,1,p.shape[1]), np.linspace(1,-1,p.shape[0]), sparse=True)\n",
    "#p[:,:,0] *= p.shape[1] / p.shape[0]\n",
    "#p[:,:,2] = 2.5\n",
    "#print(p)"
   ]
  },
  {
   "cell_type": "code",
   "execution_count": null,
   "metadata": {
    "collapsed": false
   },
   "outputs": [],
   "source": [
    "z = np.zeros((240,320), dtype=\"float32\")\n",
    "z[:] = 2.5\n",
    "pp = np.dstack((p,z))\n",
    "#print(pp)"
   ]
  },
  {
   "cell_type": "code",
   "execution_count": null,
   "metadata": {
    "collapsed": false
   },
   "outputs": [],
   "source": [
    "z = np.zeros((240,320,1), dtype=\"float32\")\n",
    "z[:] = 2.5\n",
    "pp = np.c_[p,z]\n",
    "print(pp)"
   ]
  },
  {
   "cell_type": "code",
   "execution_count": null,
   "metadata": {
    "collapsed": false
   },
   "outputs": [],
   "source": [
    "a = np.zeros((2,2))\n",
    "b = np.ones((2,1))\n",
    "c = np.c_[a,b]\n",
    "print(c)"
   ]
  },
  {
   "cell_type": "code",
   "execution_count": null,
   "metadata": {
    "collapsed": false
   },
   "outputs": [],
   "source": [
    "e = np.array([0.5,2.7,1.2,0.2,1.0,2.3,1.0,0.7,1.4])\n",
    "e = e.reshape(3,3)\n",
    "print(e)"
   ]
  },
  {
   "cell_type": "code",
   "execution_count": null,
   "metadata": {
    "collapsed": false
   },
   "outputs": [],
   "source": [
    "res = pp.dot(e)\n",
    "print(res.shape)\n",
    "print(res)"
   ]
  },
  {
   "cell_type": "code",
   "execution_count": null,
   "metadata": {
    "collapsed": true
   },
   "outputs": [],
   "source": [
    "def normalize(v):\n",
    "    return v / np.linalg.norm(v)    "
   ]
  },
  {
   "cell_type": "code",
   "execution_count": null,
   "metadata": {
    "collapsed": true
   },
   "outputs": [],
   "source": [
    "def scene(pos):\n",
    "    d = pos[1] + 0.5\n",
    "    d = np.minimum(d, np.linalg.norm(pos) -0.5)\n",
    "    return d"
   ]
  },
  {
   "cell_type": "code",
   "execution_count": null,
   "metadata": {
    "collapsed": false
   },
   "outputs": [],
   "source": [
    "def calcNormal(pos):\n",
    "    e = 0.001\n",
    "    return normalize(\n",
    "        np.array([\n",
    "            scene(pos+[e,0,0]) - scene(pos-[e,0,0]),\n",
    "            scene(pos+[0,e,0]) - scene(pos-[0,e,0]),\n",
    "            scene(pos+[0,0,e]) - scene(pos-[0,0,e])\n",
    "        ])\n",
    "    )"
   ]
  },
  {
   "cell_type": "code",
   "execution_count": null,
   "metadata": {
    "collapsed": true
   },
   "outputs": [],
   "source": [
    "def reflect(v, nor):\n",
    "    return v - 2 * np.dot(v, nor) * nor"
   ]
  },
  {
   "cell_type": "code",
   "execution_count": null,
   "metadata": {
    "collapsed": false
   },
   "outputs": [],
   "source": [
    "def trace(rd, ro):\n",
    "    precis = 0.01\n",
    "    t = 0.0\n",
    "    h = precis * 2\n",
    "    col = 0.0\n",
    "    for i in range(60):\n",
    "        if h < precis or t > 20.0:\n",
    "            continue\n",
    "        h = scene(ro + rd * t)\n",
    "        t += h\n",
    "    if h < precis:\n",
    "        pos = ro + rd * t\n",
    "        nor = calcNormal(pos)\n",
    "        lig = normalize(np.array([1,2,1]))\n",
    "        dif = np.clip(np.dot(nor, lig), 0.0, 1.0)\n",
    "        spe = np.clip(np.dot(normalize(reflect(rd, nor)), lig), 0.0, 1.0)**32\n",
    "        col = np.clip(dif + spe, 0.0, 1.0)\n",
    "    return col"
   ]
  },
  {
   "cell_type": "code",
   "execution_count": null,
   "metadata": {
    "collapsed": false
   },
   "outputs": [],
   "source": [
    "ro = np.array([0,2,3])\n",
    "ta = np.array([0,0,0])\n",
    "cw = normalize(ta-ro)\n",
    "cup = np.array([0,1,0])"
   ]
  },
  {
   "cell_type": "code",
   "execution_count": null,
   "metadata": {
    "collapsed": false
   },
   "outputs": [],
   "source": [
    "cu = normalize(np.cross(cw, cup))\n",
    "cv = normalize(np.cross(cu, cw))\n",
    "#rd = np.zeros((p.shape[0], p.shape[1], 3), dtype=\"float32\")\n",
    "#rd = p[:,:,0,np.newaxis]*cu + p[:,:,1,np.newaxis]*cv + 2.5*cw\n",
    "#rd = np.apply_along_axis(normalize, 2, rd)\n",
    "cs = np.c_[cu,cv,cw]\n",
    "rd = pp.dot(cs)\n",
    "d = np.linalg.norm(rd, axis=2, keepdims=True)\n",
    "rd /= d"
   ]
  },
  {
   "cell_type": "code",
   "execution_count": null,
   "metadata": {
    "collapsed": false
   },
   "outputs": [],
   "source": [
    "cols = np.apply_along_axis(trace, 2, rd, ro)"
   ]
  },
  {
   "cell_type": "code",
   "execution_count": null,
   "metadata": {
    "collapsed": false
   },
   "outputs": [],
   "source": [
    "plt.imshow(cols, cmap=\"gray\")\n",
    "plt.show()"
   ]
  },
  {
   "cell_type": "code",
   "execution_count": 1,
   "metadata": {
    "collapsed": false
   },
   "outputs": [
    {
     "data": {
      "image/png": "[encoded data removed]",
      "text/plain": [
       "<matplotlib.figure.Figure at 0x15dc38fbda0>"
      ]
     },
     "metadata": {},
     "output_type": "display_data"
    }
   ],
   "source": [
    "import numpy as np\n",
    "import matplotlib.pyplot as plt\n",
    "\n",
    "p = np.zeros((240,320,2), dtype=\"float32\")\n",
    "p[:,:,0], p[:,:,1] = np.meshgrid(np.linspace(-1,1,p.shape[1]), np.linspace(1,-1,p.shape[0]), sparse=True)\n",
    "p[:,:,0] *= p.shape[1] / p.shape[0]\n",
    "\n",
    "z = np.zeros((240,320), dtype=\"float32\")\n",
    "z[:] = 2.5\n",
    "pp = np.dstack((p,z))\n",
    "\n",
    "def normalize(v):\n",
    "    return v / np.linalg.norm(v)    \n",
    "\n",
    "def scene(pos):\n",
    "    d1 = np.linalg.norm(pos+np.array([-1,0,1])) - 0.5\n",
    "    d2 = np.linalg.norm(pos+np.array([1,0,1])) - 0.5\n",
    "    d = np.minimum(d1,d2)\n",
    "    return d\n",
    "\n",
    "def calcNormal(pos):\n",
    "    e = 0.001\n",
    "    return normalize(\n",
    "        np.array([\n",
    "            scene(pos+[e,0,0]) - scene(pos-[e,0,0]),\n",
    "            scene(pos+[0,e,0]) - scene(pos-[0,e,0]),\n",
    "            scene(pos+[0,0,e]) - scene(pos-[0,0,e])\n",
    "        ])\n",
    "    )\n",
    "\n",
    "def reflect(v, nor):\n",
    "    return v - 2 * np.dot(v, nor) * nor\n",
    "\n",
    "def trace(rd, ro):\n",
    "    precis = 0.01\n",
    "    t = 0.0\n",
    "    h = precis * 2\n",
    "    col = 0.0\n",
    "    for i in range(60):\n",
    "        if h < precis or t > 20.0:\n",
    "            continue\n",
    "        h = scene(ro + rd * t)\n",
    "        t += h\n",
    "    if h < precis:\n",
    "        pos = ro + rd * t\n",
    "        nor = calcNormal(pos)\n",
    "        lig = normalize(np.array([1,2,1]))\n",
    "        dif = np.clip(np.dot(nor, lig), 0.0, 1.0)\n",
    "        spe = np.clip(np.dot(normalize(reflect(rd, nor)), lig), 0.0, 1.0)**32\n",
    "        col = np.clip(dif + spe, 0.0, 1.0)\n",
    "    return col\n",
    "\n",
    "ro = np.array([0,2,3])\n",
    "ta = np.array([0,0,0])\n",
    "cw = normalize(ta-ro)\n",
    "cup = np.array([0,1,0])\n",
    "cu = normalize(np.cross(cw, cup))\n",
    "cv = normalize(np.cross(cu, cw))\n",
    "cs = np.c_[cu,cv,cw]\n",
    "rd = pp.dot(cs)\n",
    "d = np.linalg.norm(rd, axis=2, keepdims=True)\n",
    "rd /= d\n",
    "\n",
    "cols = np.apply_along_axis(trace, 2, rd, ro)\n",
    "\n",
    "plt.imshow(cols, cmap=\"gray\")\n",
    "plt.show()"
   ]
  }
 ],
 "metadata": {
  "anaconda-cloud": {},
  "kernelspec": {
   "display_name": "Python [conda root]",
   "language": "python",
   "name": "conda-root-py"
  },
  "language_info": {
   "codemirror_mode": {
    "name": "ipython",
    "version": 3
   },
   "file_extension": ".py",
   "mimetype": "text/x-python",
   "name": "python",
   "nbconvert_exporter": "python",
   "pygments_lexer": "ipython3",
   "version": "3.5.2"
  }
 },
 "nbformat": 4,
 "nbformat_minor": 1
}
