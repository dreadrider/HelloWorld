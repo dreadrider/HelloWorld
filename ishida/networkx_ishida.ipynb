{
 "cells": [
  {
   "cell_type": "code",
   "execution_count": 4,
   "metadata": {
    "collapsed": true
   },
   "outputs": [],
   "source": [
    "import numpy as np\n",
    "import networkx as nx\n",
    "import matplotlib.pyplot as plt"
   ]
  },
  {
   "cell_type": "code",
   "execution_count": 72,
   "metadata": {},
   "outputs": [
    {
     "name": "stdout",
     "output_type": "stream",
     "text": [
      "[ 1  2  3  4  5  6  7  8  9 10 11 12 13 14 15 16 17 18 19 20 21 22 23 24 25\n",
      " 26 27 28 29 30 31 32 33 34 35 36 37 38 39 40 41 42 43]\n",
      "[[ 1 10]\n",
      " [ 1  9]\n",
      " [ 1  8]\n",
      " [ 1  7]\n",
      " [ 1  6]\n",
      " [ 1  5]\n",
      " [ 1  4]\n",
      " [ 1  3]\n",
      " [ 1  2]\n",
      " [ 1  1]\n",
      " [ 2  3]\n",
      " [ 3  9]\n",
      " [ 3  6]\n",
      " [ 3  2]\n",
      " [ 4  3]\n",
      " [ 4  1]\n",
      " [ 5  7]\n",
      " [ 5  6]\n",
      " [ 5  5]\n",
      " [ 5  3]\n",
      " [ 5  2]\n",
      " [ 6  6]\n",
      " [ 6  4]\n",
      " [ 6  2]\n",
      " [ 6  1]\n",
      " [ 7 10]\n",
      " [ 7  9]\n",
      " [ 7  7]\n",
      " [ 7  6]\n",
      " [ 7  5]\n",
      " [ 7  1]\n",
      " [ 8  5]\n",
      " [ 8  1]\n",
      " [ 9  5]\n",
      " [ 9  1]\n",
      " [10  5]\n",
      " [11  7]\n",
      " [11  6]\n",
      " [11  5]\n",
      " [11  4]\n",
      " [11  3]\n",
      " [11  2]\n",
      " [11  1]]\n",
      "[[ 1 26]\n",
      " [ 1  2]\n",
      " [26 27]\n",
      " [ 2 12]\n",
      " [ 2  3]\n",
      " [ 3  4]\n",
      " [ 4  5]\n",
      " [12 13]\n",
      " [12 17]\n",
      " [27 28]\n",
      " [ 5 13]\n",
      " [13 18]\n",
      " [18 22]\n",
      " [22 28]\n",
      " [28 37]\n",
      " [ 5  6]\n",
      " [ 6  7]\n",
      " [ 7  8]\n",
      " [18 19]\n",
      " [19 20]\n",
      " [22 23]\n",
      " [28 29]\n",
      " [37 38]\n",
      " [38 39]\n",
      " [ 8 11]\n",
      " [11 15]\n",
      " [15 20]\n",
      " [21 23]\n",
      " [23 29]\n",
      " [29 30]\n",
      " [30 32]\n",
      " [32 34]\n",
      " [34 36]\n",
      " [36 39]\n",
      " [ 8  9]\n",
      " [ 9 14]\n",
      " [14 21]\n",
      " [20 21]\n",
      " [23 24]\n",
      " [30 31]\n",
      " [40 41]\n",
      " [41 42]\n",
      " [42 43]\n",
      " [ 9 10]\n",
      " [24 25]\n",
      " [10 16]\n",
      " [16 25]\n",
      " [25 31]\n",
      " [31 33]\n",
      " [33 35]\n",
      " [35 43]\n",
      " [39 40]\n",
      " [17 22]]\n"
     ]
    }
   ],
   "source": [
    "nodes = np.arange(1,44)\n",
    "print(nodes)\n",
    "poss = np.loadtxt(\"pos.csv\", delimiter=\",\", dtype=\"int32\")\n",
    "print(poss)\n",
    "edges = np.loadtxt(\"rakusai.csv\", delimiter=\",\", dtype=\"int32\")\n",
    "print(edges)"
   ]
  },
  {
   "cell_type": "code",
   "execution_count": 62,
   "metadata": {
    "collapsed": true
   },
   "outputs": [],
   "source": [
    "G = nx.Graph()\n",
    "G.add_nodes_from(nodes)\n",
    "G.add_edges_from(edges)"
   ]
  },
  {
   "cell_type": "code",
   "execution_count": 73,
   "metadata": {
    "scrolled": false
   },
   "outputs": [
    {
     "data": {
      "image/png": "[encoded data removed]",
      "text/plain": [
       "<matplotlib.figure.Figure at 0x1f389cebcf8>"
      ]
     },
     "metadata": {},
     "output_type": "display_data"
    }
   ],
   "source": [
    "pos = {i+1:(p[0],p[1]) for i, p in enumerate(poss)}\n",
    "#print(pos)\n",
    "nx.draw_networkx(G, pos, with_labels=True)\n",
    "#nx.draw(G, pos)\n",
    "plt.axis(\"off\")\n",
    "plt.show()"
   ]
  },
  {
   "cell_type": "code",
   "execution_count": null,
   "metadata": {
    "collapsed": true
   },
   "outputs": [],
   "source": []
  }
 ],
 "metadata": {
  "kernelspec": {
   "display_name": "Python 3",
   "language": "python",
   "name": "python3"
  },
  "language_info": {
   "codemirror_mode": {
    "name": "ipython",
    "version": 3
   },
   "file_extension": ".py",
   "mimetype": "text/x-python",
   "name": "python",
   "nbconvert_exporter": "python",
   "pygments_lexer": "ipython3",
   "version": "3.6.1"
  }
 },
 "nbformat": 4,
 "nbformat_minor": 2
}
