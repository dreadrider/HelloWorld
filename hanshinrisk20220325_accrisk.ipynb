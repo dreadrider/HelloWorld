{
 "cells": [
  {
   "cell_type": "code",
   "execution_count": 1,
   "metadata": {},
   "outputs": [],
   "source": [
    "import os.path\n",
    "import glob\n",
    "import pandas as pd\n",
    "import numpy as np\n",
    "import matplotlib.pyplot as plt\n",
    "from ipywidgets import interact\n",
    "import ipywidgets as widgets\n",
    "from scipy.stats import hmean\n",
    "import datetime as dtm"
   ]
  },
  {
   "cell_type": "code",
   "execution_count": 2,
   "metadata": {},
   "outputs": [],
   "source": [
    "import wquantiles as wq"
   ]
  },
  {
   "cell_type": "code",
   "execution_count": 3,
   "metadata": {},
   "outputs": [],
   "source": [
    "all_files = glob.glob(\"D:/ahn_pc/workfile/2021/阪神事故リスク/TRP044_csv/202104/*.csv\")"
   ]
  },
  {
   "cell_type": "code",
   "execution_count": 4,
   "metadata": {
    "scrolled": true
   },
   "outputs": [
    {
     "name": "stdout",
     "output_type": "stream",
     "text": [
      "D:/ahn_pc/workfile/2021/阪神事故リスク/TRP044_csv/202104\\TRP044_20210404.csv\n",
      "D:/ahn_pc/workfile/2021/阪神事故リスク/TRP044_csv/202104\\TRP044_20210405.csv\n",
      "D:/ahn_pc/workfile/2021/阪神事故リスク/TRP044_csv/202104\\TRP044_20210406.csv\n",
      "D:/ahn_pc/workfile/2021/阪神事故リスク/TRP044_csv/202104\\TRP044_20210407.csv\n",
      "D:/ahn_pc/workfile/2021/阪神事故リスク/TRP044_csv/202104\\TRP044_20210408.csv\n",
      "D:/ahn_pc/workfile/2021/阪神事故リスク/TRP044_csv/202104\\TRP044_20210409.csv\n",
      "D:/ahn_pc/workfile/2021/阪神事故リスク/TRP044_csv/202104\\TRP044_20210410.csv\n",
      "D:/ahn_pc/workfile/2021/阪神事故リスク/TRP044_csv/202104\\TRP044_20210411.csv\n",
      "D:/ahn_pc/workfile/2021/阪神事故リスク/TRP044_csv/202104\\TRP044_20210412.csv\n",
      "D:/ahn_pc/workfile/2021/阪神事故リスク/TRP044_csv/202104\\TRP044_20210413.csv\n",
      "D:/ahn_pc/workfile/2021/阪神事故リスク/TRP044_csv/202104\\TRP044_20210414.csv\n",
      "D:/ahn_pc/workfile/2021/阪神事故リスク/TRP044_csv/202104\\TRP044_20210415.csv\n",
      "D:/ahn_pc/workfile/2021/阪神事故リスク/TRP044_csv/202104\\TRP044_20210416.csv\n",
      "D:/ahn_pc/workfile/2021/阪神事故リスク/TRP044_csv/202104\\TRP044_20210417.csv\n",
      "D:/ahn_pc/workfile/2021/阪神事故リスク/TRP044_csv/202104\\TRP044_20210418.csv\n",
      "D:/ahn_pc/workfile/2021/阪神事故リスク/TRP044_csv/202104\\TRP044_20210419.csv\n",
      "D:/ahn_pc/workfile/2021/阪神事故リスク/TRP044_csv/202104\\TRP044_20210420.csv\n",
      "D:/ahn_pc/workfile/2021/阪神事故リスク/TRP044_csv/202104\\TRP044_20210421.csv\n",
      "D:/ahn_pc/workfile/2021/阪神事故リスク/TRP044_csv/202104\\TRP044_20210422.csv\n",
      "D:/ahn_pc/workfile/2021/阪神事故リスク/TRP044_csv/202104\\TRP044_20210423.csv\n",
      "D:/ahn_pc/workfile/2021/阪神事故リスク/TRP044_csv/202104\\TRP044_20210424.csv\n",
      "D:/ahn_pc/workfile/2021/阪神事故リスク/TRP044_csv/202104\\TRP044_20210425.csv\n",
      "D:/ahn_pc/workfile/2021/阪神事故リスク/TRP044_csv/202104\\TRP044_20210426.csv\n",
      "D:/ahn_pc/workfile/2021/阪神事故リスク/TRP044_csv/202104\\TRP044_20210427.csv\n",
      "D:/ahn_pc/workfile/2021/阪神事故リスク/TRP044_csv/202104\\TRP044_20210428.csv\n",
      "D:/ahn_pc/workfile/2021/阪神事故リスク/TRP044_csv/202104\\TRP044_20210429.csv\n",
      "D:/ahn_pc/workfile/2021/阪神事故リスク/TRP044_csv/202104\\TRP044_20210430.csv\n"
     ]
    }
   ],
   "source": [
    "all_data_frames = []\n",
    "dc = []\n",
    "#for file in all_files[0:1]:\n",
    "for file in all_files:\n",
    "    #dc = pd.read_csv(file, header=None, encoding=\"shift_jis\", usecols=[6,18,34,36], names=(\"dt\", \"spd\", \"updown\", \"kp\"))\n",
    "    #dc = pd.read_csv(file, header=None, encoding=\"shift_jis\", names=(\"dt\", \"tim\", \"num\", \"err\", \"trf\", \"htrf\", \"occ\", \"spd\", \"ver\"))\n",
    "    #dc = pd.read_csv(file, encoding=\"shift_jis\")\n",
    "    dc = pd.read_csv(file, header=None, encoding=\"shift_jis\")\n",
    "    print(file)\n",
    "    #dc = data_frame.iloc[:,[6,18,34,36]]\n",
    "    #dc.columns = [\"dt\", \"spd\", \"updown\", \"kp\"]\n",
    "    #dc=dc[dc[\"updown\"]==2]\n",
    "    #dc=dc[dc[\"kp\"]<83.6]\n",
    "    all_data_frames.append(dc)\n",
    "dc = pd.concat(all_data_frames, axis = 0, ignore_index = True)"
   ]
  },
  {
   "cell_type": "code",
   "execution_count": null,
   "metadata": {},
   "outputs": [],
   "source": [
    "#dc = pd.read_csv(\"D:/ahn_pc/workfile/2021/阪神事故リスク/resultken/kendata_10a.csv\", encoding=\"shift_jis\")"
   ]
  },
  {
   "cell_type": "code",
   "execution_count": 5,
   "metadata": {},
   "outputs": [
    {
     "name": "stdout",
     "output_type": "stream",
     "text": [
      "                              0         1     2   3   4   5   6   7   8   9   \\\n",
      "0        2021-04-04 00:00:00.000  00:00:00     1   0   0   0   0   0   0   0   \n",
      "1        2021-04-04 00:00:00.000  00:00:00     2   0   0   0   0   0   0   0   \n",
      "2        2021-04-04 00:00:00.000  00:00:00     3   0   0   0   0   0   0   0   \n",
      "3        2021-04-04 00:00:00.000  00:00:00     4   0   0   0   0   0   0   0   \n",
      "4        2021-04-04 00:00:00.000  00:00:00     5   0   0   0   0   0   0   0   \n",
      "...                          ...       ...   ...  ..  ..  ..  ..  ..  ..  ..   \n",
      "8467055  2021-04-30 00:00:00.000  23:55:00  1290   0   0   0   0   0   0   0   \n",
      "8467056  2021-04-30 00:00:00.000  23:55:00  1291   0   0   0   0   0   0   0   \n",
      "8467057  2021-04-30 00:00:00.000  23:55:00  1292   0   0   0   0   0   0   0   \n",
      "8467058  2021-04-30 00:00:00.000  23:55:00  1293   0   0   0   0   0   0   0   \n",
      "8467059  2021-04-30 00:00:00.000  23:55:00  1294   0   0   0   0   0   0   0   \n",
      "\n",
      "         ...   24  25  26  27     28  29  30  31  32  33  \n",
      "0        ...  313  16   6   1   4671  64  -1  -1  -1  -1  \n",
      "1        ...  401  20   6   1  15003  80  -1  -1  -1  -1  \n",
      "2        ...   80   6   6   1   1319  24  -1  -1  -1  -1  \n",
      "3        ...  282  12   6   1   3120  48  -1  -1  -1  -1  \n",
      "4        ...   45   3   6   1    481  12  -1  -1  -1  -1  \n",
      "...      ...  ...  ..  ..  ..    ...  ..  ..  ..  ..  ..  \n",
      "8467055  ...   -1  -1  -1  -1     -1  -1  -1  -1  -1  -1  \n",
      "8467056  ...   -1  -1  -1  -1     -1  -1  -1  -1  -1  -1  \n",
      "8467057  ...   -1  -1  -1  -1     -1  -1  -1  -1  -1  -1  \n",
      "8467058  ...   -1  -1  -1  -1     -1  -1  -1  -1  -1  -1  \n",
      "8467059  ...   -1  -1  -1  -1     -1  -1  -1  -1  -1  -1  \n",
      "\n",
      "[8467060 rows x 34 columns]\n"
     ]
    }
   ],
   "source": [
    "print(dc)"
   ]
  },
  {
   "cell_type": "code",
   "execution_count": 6,
   "metadata": {},
   "outputs": [
    {
     "data": {
      "text/plain": [
       "8467060"
      ]
     },
     "execution_count": 6,
     "metadata": {},
     "output_type": "execute_result"
    }
   ],
   "source": [
    "dc.shape[0]"
   ]
  },
  {
   "cell_type": "code",
   "execution_count": null,
   "metadata": {},
   "outputs": [],
   "source": [
    "#dc.iloc[:,0]=pd.to_datetime(dc[0])\n",
    "#dc.iloc[:,1]=pd.to_datetime(dc[1])"
   ]
  },
  {
   "cell_type": "code",
   "execution_count": null,
   "metadata": {},
   "outputs": [],
   "source": [
    "#dtm.datetime(dc[0].dt.year,dc[0].dt.month,dc[0].dt.day,dc[1].dt.hour,dc[1].dt.minute)\n",
    "#dtm.datetime(2021,11,1,12,24)"
   ]
  },
  {
   "cell_type": "code",
   "execution_count": null,
   "metadata": {},
   "outputs": [],
   "source": [
    "#dc[\"y\"]=dc[0].dt.year\n",
    "#dc[\"m\"]=dc[0].dt.month\n",
    "#dc[\"d\"]=dc[0].dt.day\n",
    "#dc[\"h\"]=dc[1].dt.hour\n",
    "#dc[\"mm\"]=dc[1].dt.minute\n",
    "#dc[\"s\"]=dc[1].dt.second"
   ]
  },
  {
   "cell_type": "code",
   "execution_count": null,
   "metadata": {},
   "outputs": [],
   "source": [
    "#dc[\"dtt\"]=dc[\"y\"].astype(str)+\"-\"+dc[\"m\"].astype(str)+\"-\"+dc[\"d\"].astype(str)+\" \"+dc[\"h\"].astype(str)+\":\"+dc[\"mm\"].astype(str)+\":\"+dc[\"s\"].astype(str)"
   ]
  },
  {
   "cell_type": "code",
   "execution_count": null,
   "metadata": {},
   "outputs": [],
   "source": [
    "#pd.to_datetime(dc.dtt)"
   ]
  },
  {
   "cell_type": "code",
   "execution_count": 7,
   "metadata": {},
   "outputs": [],
   "source": [
    "dc=dc[dc[14]==2]"
   ]
  },
  {
   "cell_type": "code",
   "execution_count": 8,
   "metadata": {},
   "outputs": [],
   "source": [
    "dc[\"dtt\"]=dc[0].str[:10]+\" \"+dc[1]"
   ]
  },
  {
   "cell_type": "code",
   "execution_count": 9,
   "metadata": {},
   "outputs": [
    {
     "data": {
      "text/plain": [
       "0          2021-04-04 00:00:00\n",
       "1          2021-04-04 00:00:00\n",
       "2          2021-04-04 00:00:00\n",
       "3          2021-04-04 00:00:00\n",
       "4          2021-04-04 00:00:00\n",
       "                  ...         \n",
       "8467043    2021-04-30 23:55:00\n",
       "8467044    2021-04-30 23:55:00\n",
       "8467045    2021-04-30 23:55:00\n",
       "8467046    2021-04-30 23:55:00\n",
       "8467047    2021-04-30 23:55:00\n",
       "Name: dtt, Length: 8189836, dtype: object"
      ]
     },
     "execution_count": 9,
     "metadata": {},
     "output_type": "execute_result"
    }
   ],
   "source": [
    "dc.dtt"
   ]
  },
  {
   "cell_type": "code",
   "execution_count": 10,
   "metadata": {},
   "outputs": [],
   "source": [
    "dc[\"idx\"]=dc.dtt+\"_\"+dc[2].astype(str)"
   ]
  },
  {
   "cell_type": "code",
   "execution_count": 11,
   "metadata": {},
   "outputs": [
    {
     "data": {
      "text/plain": [
       "0             2021-04-04 00:00:00_1\n",
       "1             2021-04-04 00:00:00_2\n",
       "2             2021-04-04 00:00:00_3\n",
       "3             2021-04-04 00:00:00_4\n",
       "4             2021-04-04 00:00:00_5\n",
       "                     ...           \n",
       "8467043    2021-04-30 23:55:00_1278\n",
       "8467044    2021-04-30 23:55:00_1279\n",
       "8467045    2021-04-30 23:55:00_1280\n",
       "8467046    2021-04-30 23:55:00_1281\n",
       "8467047    2021-04-30 23:55:00_1282\n",
       "Name: idx, Length: 8189836, dtype: object"
      ]
     },
     "execution_count": 11,
     "metadata": {},
     "output_type": "execute_result"
    }
   ],
   "source": [
    "dc.idx"
   ]
  },
  {
   "cell_type": "code",
   "execution_count": 12,
   "metadata": {},
   "outputs": [
    {
     "data": {
      "text/plain": [
       "Index([    0,     1,     2,     3,     4,     5,     6,     7,     8,     9,\n",
       "          10,    11,    12,    13,    14,    15,    16,    17,    18,    19,\n",
       "          20,    21,    22,    23,    24,    25,    26,    27,    28,    29,\n",
       "          30,    31,    32,    33, 'dtt', 'idx'],\n",
       "      dtype='object')"
      ]
     },
     "execution_count": 12,
     "metadata": {},
     "output_type": "execute_result"
    }
   ],
   "source": [
    "dc.columns"
   ]
  },
  {
   "cell_type": "code",
   "execution_count": 13,
   "metadata": {},
   "outputs": [],
   "source": [
    "dc2=dc.iloc[:,[34,2,10,11,12,13,14,15,16,17,18,19,\n",
    "              20,21,22,23,24,25,26,27,28,29,35]]"
   ]
  },
  {
   "cell_type": "code",
   "execution_count": 14,
   "metadata": {},
   "outputs": [],
   "source": [
    "dc2.columns=[\"tm\",\"JDP番号\",\"事故形態1\",\"事故リスク水準1\",\"事故発生確率1\",\"走行台キロ1\",\n",
    "             \"事故形態2\",\"事故リスク水準2\",\"事故発生確率2\",\"走行台キロ2\",\n",
    "             \"事故形態3\",\"事故リスク水準3\",\"事故発生確率3\",\"走行台キロ3\",\n",
    "             \"事故形態4\",\"事故リスク水準4\",\"事故発生確率4\",\"走行台キロ4\",\n",
    "             \"事故形態5\",\"事故リスク水準5\",\"事故発生確率5\",\"走行台キロ5\",\"idx\"]"
   ]
  },
  {
   "cell_type": "code",
   "execution_count": 15,
   "metadata": {},
   "outputs": [
    {
     "name": "stdout",
     "output_type": "stream",
     "text": [
      "0 0 0 0 0 0 0 0 0 0\n"
     ]
    }
   ],
   "source": [
    "print(dc2[dc2.事故発生確率1==-1].shape[0],\n",
    "      dc2[dc2.事故発生確率2==-1].shape[0],\n",
    "      dc2[dc2.事故発生確率3==-1].shape[0],\n",
    "      dc2[dc2.事故発生確率4==-1].shape[0],\n",
    "      dc2[dc2.事故発生確率5==-1].shape[0],\n",
    "      dc2[dc2.走行台キロ1==-1].shape[0],\n",
    "      dc2[dc2.走行台キロ2==-1].shape[0],\n",
    "      dc2[dc2.走行台キロ3==-1].shape[0],\n",
    "      dc2[dc2.走行台キロ4==-1].shape[0],\n",
    "      dc2[dc2.走行台キロ5==-1].shape[0])"
   ]
  },
  {
   "cell_type": "code",
   "execution_count": 16,
   "metadata": {},
   "outputs": [
    {
     "name": "stderr",
     "output_type": "stream",
     "text": [
      "C:\\Users\\tssl-34\\Anaconda3\\lib\\site-packages\\ipykernel_launcher.py:1: SettingWithCopyWarning: \n",
      "A value is trying to be set on a copy of a slice from a DataFrame.\n",
      "Try using .loc[row_indexer,col_indexer] = value instead\n",
      "\n",
      "See the caveats in the documentation: http://pandas.pydata.org/pandas-docs/stable/user_guide/indexing.html#returning-a-view-versus-a-copy\n",
      "  \"\"\"Entry point for launching an IPython kernel.\n",
      "C:\\Users\\tssl-34\\Anaconda3\\lib\\site-packages\\ipykernel_launcher.py:2: SettingWithCopyWarning: \n",
      "A value is trying to be set on a copy of a slice from a DataFrame.\n",
      "Try using .loc[row_indexer,col_indexer] = value instead\n",
      "\n",
      "See the caveats in the documentation: http://pandas.pydata.org/pandas-docs/stable/user_guide/indexing.html#returning-a-view-versus-a-copy\n",
      "  \n",
      "C:\\Users\\tssl-34\\Anaconda3\\lib\\site-packages\\ipykernel_launcher.py:3: SettingWithCopyWarning: \n",
      "A value is trying to be set on a copy of a slice from a DataFrame.\n",
      "Try using .loc[row_indexer,col_indexer] = value instead\n",
      "\n",
      "See the caveats in the documentation: http://pandas.pydata.org/pandas-docs/stable/user_guide/indexing.html#returning-a-view-versus-a-copy\n",
      "  This is separate from the ipykernel package so we can avoid doing imports until\n",
      "C:\\Users\\tssl-34\\Anaconda3\\lib\\site-packages\\ipykernel_launcher.py:4: SettingWithCopyWarning: \n",
      "A value is trying to be set on a copy of a slice from a DataFrame.\n",
      "Try using .loc[row_indexer,col_indexer] = value instead\n",
      "\n",
      "See the caveats in the documentation: http://pandas.pydata.org/pandas-docs/stable/user_guide/indexing.html#returning-a-view-versus-a-copy\n",
      "  after removing the cwd from sys.path.\n",
      "C:\\Users\\tssl-34\\Anaconda3\\lib\\site-packages\\ipykernel_launcher.py:5: SettingWithCopyWarning: \n",
      "A value is trying to be set on a copy of a slice from a DataFrame.\n",
      "Try using .loc[row_indexer,col_indexer] = value instead\n",
      "\n",
      "See the caveats in the documentation: http://pandas.pydata.org/pandas-docs/stable/user_guide/indexing.html#returning-a-view-versus-a-copy\n",
      "  \"\"\"\n"
     ]
    }
   ],
   "source": [
    "dc2[\"事故件数1\"]=dc2.事故発生確率1*dc2.走行台キロ1\n",
    "dc2[\"事故件数2\"]=dc2.事故発生確率2*dc2.走行台キロ1\n",
    "dc2[\"事故件数3\"]=dc2.事故発生確率3*dc2.走行台キロ1\n",
    "dc2[\"事故件数4\"]=dc2.事故発生確率4*dc2.走行台キロ1\n",
    "dc2[\"事故件数5\"]=dc2.事故発生確率5*dc2.走行台キロ1"
   ]
  },
  {
   "cell_type": "code",
   "execution_count": 28,
   "metadata": {},
   "outputs": [
    {
     "data": {
      "text/plain": [
       "118535.90111597"
      ]
     },
     "execution_count": 28,
     "metadata": {},
     "output_type": "execute_result"
    }
   ],
   "source": [
    "sum(dc2.事故件数5)/100000000#313"
   ]
  },
  {
   "cell_type": "code",
   "execution_count": 41,
   "metadata": {},
   "outputs": [
    {
     "data": {
      "text/plain": [
       "378.70607028753994"
      ]
     },
     "execution_count": 41,
     "metadata": {},
     "output_type": "execute_result"
    }
   ],
   "source": [
    "118535/313"
   ]
  },
  {
   "cell_type": "code",
   "execution_count": 32,
   "metadata": {},
   "outputs": [],
   "source": [
    "tt=dmm[dmm.keito==1]#池田線上り14"
   ]
  },
  {
   "cell_type": "code",
   "execution_count": 33,
   "metadata": {},
   "outputs": [
    {
     "data": {
      "text/plain": [
       "4844.93802075"
      ]
     },
     "execution_count": 33,
     "metadata": {},
     "output_type": "execute_result"
    }
   ],
   "source": [
    "sum(tt.事故件数5)/100000000"
   ]
  },
  {
   "cell_type": "code",
   "execution_count": 40,
   "metadata": {},
   "outputs": [
    {
     "data": {
      "text/plain": [
       "346.0"
      ]
     },
     "execution_count": 40,
     "metadata": {},
     "output_type": "execute_result"
    }
   ],
   "source": [
    "4844/14"
   ]
  },
  {
   "cell_type": "code",
   "execution_count": 34,
   "metadata": {},
   "outputs": [],
   "source": [
    "tt2=dmm[dmm.keito==3]#環状線23"
   ]
  },
  {
   "cell_type": "code",
   "execution_count": 35,
   "metadata": {},
   "outputs": [
    {
     "data": {
      "text/plain": [
       "25990.82213987"
      ]
     },
     "execution_count": 35,
     "metadata": {},
     "output_type": "execute_result"
    }
   ],
   "source": [
    "sum(tt2.事故件数5)/100000000"
   ]
  },
  {
   "cell_type": "code",
   "execution_count": 39,
   "metadata": {},
   "outputs": [
    {
     "data": {
      "text/plain": [
       "1130.0"
      ]
     },
     "execution_count": 39,
     "metadata": {},
     "output_type": "execute_result"
    }
   ],
   "source": [
    "25990/23"
   ]
  },
  {
   "cell_type": "code",
   "execution_count": 36,
   "metadata": {},
   "outputs": [],
   "source": [
    "tt3=dmm[dmm.keito==21]#神戸線上り30"
   ]
  },
  {
   "cell_type": "code",
   "execution_count": 37,
   "metadata": {},
   "outputs": [
    {
     "data": {
      "text/plain": [
       "15683.85916972"
      ]
     },
     "execution_count": 37,
     "metadata": {},
     "output_type": "execute_result"
    }
   ],
   "source": [
    "sum(tt3.事故件数5)/100000000"
   ]
  },
  {
   "cell_type": "code",
   "execution_count": 38,
   "metadata": {},
   "outputs": [
    {
     "data": {
      "text/plain": [
       "522.7666666666667"
      ]
     },
     "execution_count": 38,
     "metadata": {},
     "output_type": "execute_result"
    }
   ],
   "source": [
    "15683/30"
   ]
  },
  {
   "cell_type": "code",
   "execution_count": null,
   "metadata": {},
   "outputs": [],
   "source": []
  },
  {
   "cell_type": "code",
   "execution_count": null,
   "metadata": {},
   "outputs": [],
   "source": []
  },
  {
   "cell_type": "code",
   "execution_count": null,
   "metadata": {},
   "outputs": [],
   "source": []
  },
  {
   "cell_type": "code",
   "execution_count": null,
   "metadata": {},
   "outputs": [],
   "source": []
  },
  {
   "cell_type": "code",
   "execution_count": 30,
   "metadata": {},
   "outputs": [],
   "source": [
    "ttt=pd.read_csv(\"D:/ahn_pc/workfile/2021/阪神事故リスク/dsouko04.csv\", encoding=\"shift_jis\")"
   ]
  },
  {
   "cell_type": "code",
   "execution_count": 31,
   "metadata": {},
   "outputs": [],
   "source": [
    "dmm=pd.merge(dc2,ttt, on=\"idx\", how=\"left\")#, sort=True"
   ]
  },
  {
   "cell_type": "code",
   "execution_count": 20,
   "metadata": {},
   "outputs": [
    {
     "data": {
      "text/plain": [
       "8189839"
      ]
     },
     "execution_count": 20,
     "metadata": {},
     "output_type": "execute_result"
    }
   ],
   "source": [
    "dmm.shape[0]"
   ]
  },
  {
   "cell_type": "code",
   "execution_count": 21,
   "metadata": {},
   "outputs": [],
   "source": [
    "dmm2=dmm[~pd.isna(dmm.souko)]"
   ]
  },
  {
   "cell_type": "code",
   "execution_count": 22,
   "metadata": {},
   "outputs": [
    {
     "data": {
      "text/plain": [
       "Index(['tm', 'JDP番号', '事故形態1', '事故リスク水準1', '事故発生確率1', '走行台キロ1', '事故形態2',\n",
       "       '事故リスク水準2', '事故発生確率2', '走行台キロ2', '事故形態3', '事故リスク水準3', '事故発生確率3',\n",
       "       '走行台キロ3', '事故形態4', '事故リスク水準4', '事故発生確率4', '走行台キロ4', '事故形態5', '事故リスク水準5',\n",
       "       '事故発生確率5', '走行台キロ5', 'idx', '事故件数1', '事故件数2', '事故件数3', '事故件数4', '事故件数5',\n",
       "       'souko', 'keito', 'acc', '事故の形態1'],\n",
       "      dtype='object')"
      ]
     },
     "execution_count": 22,
     "metadata": {},
     "output_type": "execute_result"
    }
   ],
   "source": [
    "dmm2.columns"
   ]
  },
  {
   "cell_type": "code",
   "execution_count": 23,
   "metadata": {},
   "outputs": [],
   "source": [
    "kei2=dmm2[dmm2.keito==1]"
   ]
  },
  {
   "cell_type": "code",
   "execution_count": 25,
   "metadata": {},
   "outputs": [],
   "source": [
    "kei2.to_csv(\"D:/ahn_pc/workfile/2021/阪神事故リスク/dkei2_04.csv\", index = False, encoding=\"shift_jis\")"
   ]
  },
  {
   "cell_type": "code",
   "execution_count": 26,
   "metadata": {},
   "outputs": [],
   "source": [
    "kei3=dmm2[dmm2.keito==3]"
   ]
  },
  {
   "cell_type": "code",
   "execution_count": 27,
   "metadata": {},
   "outputs": [],
   "source": [
    "kei3.to_csv(\"D:/ahn_pc/workfile/2021/阪神事故リスク/dkei3_04.csv\", index = False, encoding=\"shift_jis\")"
   ]
  },
  {
   "cell_type": "code",
   "execution_count": null,
   "metadata": {},
   "outputs": [],
   "source": []
  },
  {
   "cell_type": "code",
   "execution_count": null,
   "metadata": {},
   "outputs": [],
   "source": []
  },
  {
   "cell_type": "code",
   "execution_count": null,
   "metadata": {},
   "outputs": [],
   "source": []
  },
  {
   "cell_type": "code",
   "execution_count": null,
   "metadata": {},
   "outputs": [],
   "source": [
    "keito = pd.read_csv(\"D:/ahn_pc/workfile/2021/阪神事故リスク/jdp2keito.csv\", encoding=\"shift_jis\")"
   ]
  },
  {
   "cell_type": "code",
   "execution_count": null,
   "metadata": {},
   "outputs": [],
   "source": [
    "dc2=pd.merge(dc2,keito, on=\"JDP番号\", how=\"left\")#, sort=True"
   ]
  },
  {
   "cell_type": "code",
   "execution_count": null,
   "metadata": {},
   "outputs": [],
   "source": [
    "dc2[pd.isna(dc2.keito)]"
   ]
  },
  {
   "cell_type": "code",
   "execution_count": null,
   "metadata": {},
   "outputs": [],
   "source": []
  },
  {
   "cell_type": "code",
   "execution_count": null,
   "metadata": {},
   "outputs": [],
   "source": [
    "acc = pd.read_csv(\"D:/ahn_pc/workfile/2021/阪神事故リスク/accident2.csv\", encoding=\"shift_jis\")"
   ]
  },
  {
   "cell_type": "code",
   "execution_count": null,
   "metadata": {},
   "outputs": [],
   "source": [
    "acc2=acc.loc[:,[\"idx\",\"発生時間_分\",\"JDP番号\",\"系統番号\",\"事故の形態１\"]]"
   ]
  },
  {
   "cell_type": "code",
   "execution_count": null,
   "metadata": {},
   "outputs": [],
   "source": [
    "acc2[~acc2.duplicated(subset=\"事故の形態１\")]"
   ]
  },
  {
   "cell_type": "code",
   "execution_count": null,
   "metadata": {},
   "outputs": [],
   "source": [
    "acc2[\"acckind\"]=0"
   ]
  },
  {
   "cell_type": "code",
   "execution_count": null,
   "metadata": {},
   "outputs": [],
   "source": [
    "acc2.loc[(acc2[\"事故の形態１\"]==\"追突\")|(acc2[\"事故の形態１\"]==\"多重追突\"),\"acckind\"]=1\n",
    "acc2.loc[(acc2[\"事故の形態１\"]==\"車両接触\")|(acc2[\"事故の形態１\"]==\"車両衝突\"),\"acckind\"]=2\n",
    "acc2.loc[(acc2[\"事故の形態１\"]==\"施設接触\")|(acc2[\"事故の形態１\"]==\"施設衝突\"),\"acckind\"]=3"
   ]
  },
  {
   "cell_type": "code",
   "execution_count": null,
   "metadata": {},
   "outputs": [],
   "source": [
    "###4月～10月事故形態別合計計算\n",
    "\n",
    "#acc2[\"sum\"]=1\n",
    "#acc2[\"tsui\"]=0\n",
    "#acc2[\"car\"]=0\n",
    "#acc2[\"sise\"]=0\n",
    "#acc2[\"sonota\"]=0\n",
    "\n",
    "#acc2.loc[acc2.acckind==1,\"tsui\"]=1\n",
    "#acc2.loc[acc2.acckind==2,\"car\"]=1\n",
    "#acc2.loc[acc2.acckind==3,\"sise\"]=1\n",
    "#acc2.loc[acc2.acckind==0,\"sonota\"]=1\n",
    "\n",
    "#accd=pd.DataFrame(acc2.groupby([\"系統番号\"])[\"sum\"].count())\n",
    "\n",
    "#accd[\"keito\"]=accd.index\n",
    "\n",
    "#accd[\"tsui\"]=acc2.groupby([\"系統番号\"])[\"tsui\"].sum()\n",
    "#accd[\"car\"]=acc2.groupby([\"系統番号\"])[\"car\"].sum()\n",
    "#accd[\"sise\"]=acc2.groupby([\"系統番号\"])[\"sise\"].sum()\n",
    "#accd[\"sonota\"]=acc2.groupby([\"系統番号\"])[\"sonota\"].sum()\n",
    "\n",
    "#accd.to_csv(\"D:/ahn_pc/workfile/2021/阪神事故リスク/acckeito_jitseki_all.csv\", index = False, encoding=\"shift_jis\")"
   ]
  },
  {
   "cell_type": "code",
   "execution_count": null,
   "metadata": {},
   "outputs": [],
   "source": []
  },
  {
   "cell_type": "code",
   "execution_count": null,
   "metadata": {},
   "outputs": [],
   "source": [
    "dm=pd.merge(dc2,acc2, on=\"idx\", how=\"left\")#, sort=True"
   ]
  },
  {
   "cell_type": "code",
   "execution_count": null,
   "metadata": {},
   "outputs": [],
   "source": [
    "dm[dm.acckind==1]"
   ]
  },
  {
   "cell_type": "code",
   "execution_count": null,
   "metadata": {},
   "outputs": [],
   "source": [
    "dm[\"acc\"]=1\n",
    "dm.loc[pd.isna(dm.acckind),\"acc\"]=0"
   ]
  },
  {
   "cell_type": "code",
   "execution_count": null,
   "metadata": {},
   "outputs": [],
   "source": [
    "dm[\"tsui\"]=0\n",
    "dm[\"car\"]=0\n",
    "dm[\"sise\"]=0\n",
    "dm[\"sonota\"]=0\n",
    "\n",
    "dm.loc[dm.acckind==1,\"tsui\"]=1\n",
    "dm.loc[dm.acckind==2,\"car\"]=1\n",
    "dm.loc[dm.acckind==3,\"sise\"]=1\n",
    "dm.loc[dm.acckind==0,\"sonota\"]=1"
   ]
  },
  {
   "cell_type": "code",
   "execution_count": null,
   "metadata": {},
   "outputs": [],
   "source": [
    "df=pd.DataFrame(dm.groupby([\"keito\"])[\"acc\"].sum())"
   ]
  },
  {
   "cell_type": "code",
   "execution_count": null,
   "metadata": {},
   "outputs": [],
   "source": [
    "df[\"keito\"]=df.index"
   ]
  },
  {
   "cell_type": "code",
   "execution_count": null,
   "metadata": {},
   "outputs": [],
   "source": [
    "df[\"tsui\"]=dm.groupby([\"keito\"])[\"tsui\"].sum()\n",
    "df[\"car\"]=dm.groupby([\"keito\"])[\"car\"].sum()\n",
    "df[\"sise\"]=dm.groupby([\"keito\"])[\"sise\"].sum()\n",
    "df[\"sonota\"]=dm.groupby([\"keito\"])[\"sonota\"].sum()"
   ]
  },
  {
   "cell_type": "code",
   "execution_count": null,
   "metadata": {},
   "outputs": [],
   "source": [
    "df[\"prob5\"]=dm.groupby([\"keito\"])[\"事故発生確率5\"].sum()\n",
    "df[\"kensu5\"]=dm.groupby([\"keito\"])[\"事故件数5\"].sum()\n",
    "df[\"prob1\"]=dm.groupby([\"keito\"])[\"事故発生確率1\"].sum()\n",
    "df[\"kensu1\"]=dm.groupby([\"keito\"])[\"事故件数1\"].sum()\n",
    "df[\"runkm1\"]=dm.groupby([\"keito\"])[\"走行台キロ1\"].sum()\n",
    "df[\"prob2\"]=dm.groupby([\"keito\"])[\"事故発生確率2\"].sum()\n",
    "df[\"kensu2\"]=dm.groupby([\"keito\"])[\"事故件数2\"].sum()\n",
    "df[\"prob3\"]=dm.groupby([\"keito\"])[\"事故発生確率3\"].sum()\n",
    "df[\"kensu3\"]=dm.groupby([\"keito\"])[\"事故件数3\"].sum()\n",
    "df[\"prob4\"]=dm.groupby([\"keito\"])[\"事故発生確率4\"].sum()\n",
    "df[\"kensu4\"]=dm.groupby([\"keito\"])[\"事故件数4\"].sum()"
   ]
  },
  {
   "cell_type": "code",
   "execution_count": null,
   "metadata": {},
   "outputs": [],
   "source": [
    "df[\"prob\"]=df.acc/df.runkm1*100000000\n",
    "df[\"pr5\"]=df.kensu5/100000000\n",
    "df[\"pr_tsui\"]=df.tsui/df.runkm1*100000000\n",
    "df[\"pr1\"]=df.kensu1/100000000\n",
    "df[\"pr_car\"]=df.car/df.runkm1*100000000\n",
    "df[\"pr2\"]=df.kensu2/100000000\n",
    "df[\"pr_sise\"]=df.sise/df.runkm1*100000000\n",
    "df[\"pr3\"]=df.kensu3/100000000\n",
    "df[\"pr_sonota\"]=df.sonota/df.runkm1*100000000\n",
    "df[\"pr4\"]=df.kensu4/100000000"
   ]
  },
  {
   "cell_type": "code",
   "execution_count": null,
   "metadata": {},
   "outputs": [],
   "source": [
    "print(sum(df.acc),sum(df.tsui),sum(df.car),sum(df.sise),sum(df.sonota))"
   ]
  },
  {
   "cell_type": "code",
   "execution_count": null,
   "metadata": {},
   "outputs": [],
   "source": [
    "df.to_csv(\"D:/ahn_pc/workfile/2021/阪神事故リスク/daccrisk04.csv\", index = False, encoding=\"shift_jis\")"
   ]
  },
  {
   "cell_type": "code",
   "execution_count": null,
   "metadata": {},
   "outputs": [],
   "source": []
  },
  {
   "cell_type": "code",
   "execution_count": null,
   "metadata": {},
   "outputs": [],
   "source": []
  },
  {
   "cell_type": "code",
   "execution_count": null,
   "metadata": {},
   "outputs": [],
   "source": []
  },
  {
   "cell_type": "code",
   "execution_count": null,
   "metadata": {},
   "outputs": [],
   "source": [
    "dc.teikyo[0]"
   ]
  },
  {
   "cell_type": "code",
   "execution_count": null,
   "metadata": {},
   "outputs": [],
   "source": [
    "tt=1845\n",
    "print(dc.tm[tt])\n",
    "at=5+dc.sa[tt+5]\n",
    "while dc.teikyo[tt+at]:\n",
    "    print(dc.tm[tt+at])\n",
    "    at=at+dc.sa[tt+at]\n",
    "    print(\"sa\",at)"
   ]
  },
  {
   "cell_type": "code",
   "execution_count": null,
   "metadata": {},
   "outputs": [],
   "source": []
  },
  {
   "cell_type": "code",
   "execution_count": null,
   "metadata": {},
   "outputs": [],
   "source": []
  },
  {
   "cell_type": "code",
   "execution_count": null,
   "metadata": {},
   "outputs": [],
   "source": [
    "kenj = pd.read_csv(\"D:/ahn_pc/workfile/2021/阪神事故リスク/ken2jdp.csv\", encoding=\"shift_jis\")\n",
    "mojin = pd.read_csv(\"D:/ahn_pc/workfile/2021/阪神事故リスク/moji_name2.csv\", encoding=\"shift_jis\")"
   ]
  },
  {
   "cell_type": "code",
   "execution_count": null,
   "metadata": {},
   "outputs": [],
   "source": [
    "kenj[kenj.ken==35][\"jdp\"]\n",
    "#kenj[kenj.ken==11][\"keitoname\"]"
   ]
  },
  {
   "cell_type": "code",
   "execution_count": null,
   "metadata": {},
   "outputs": [],
   "source": [
    "kenj.ken"
   ]
  },
  {
   "cell_type": "code",
   "execution_count": null,
   "metadata": {},
   "outputs": [],
   "source": [
    "mojin[mojin.vsnum==11][\"name\"][0]"
   ]
  },
  {
   "cell_type": "code",
   "execution_count": null,
   "metadata": {},
   "outputs": [],
   "source": [
    "dc.tm[1386732]\n",
    "#dc.検知器番号[24219]"
   ]
  },
  {
   "cell_type": "code",
   "execution_count": null,
   "metadata": {
    "scrolled": true
   },
   "outputs": [],
   "source": [
    "st=0\n",
    "stat=0\n",
    "stat2=0\n",
    "stat3=0\n",
    "curnum=0\n",
    "cnt=0\n",
    "kai=0\n",
    "fst=0\n",
    "ama=0\n",
    "cnt2=0\n",
    "dat=[]\n",
    "dt=[]\n",
    "cnt3=0\n",
    "dat2=[]\n",
    "dt2=[]\n",
    "dff=[]\n",
    "dff2=[]\n",
    "#dt=np.zeros(62,dtype=int)\n",
    "#for i in range(31932,31964):\n",
    "#for i in range(41516,41550):\n",
    "#for i in range(5650,5667):\n",
    "#for i in range(544429):\n",
    "#for i in range(544429,1386733):\n",
    "for i in range(1386733,1876877):\n",
    "    if i%1000==0:\n",
    "        print(i)\n",
    "    stat3=\"なし\"\n",
    "    if dc.teikyo[i]==0:\n",
    "        if cnt==0:\n",
    "            if dc.teikyo[i+5]!=1:\n",
    "                print(i,\"_err_before\")\n",
    "                continue\n",
    "        stat=\"開始直前\"\n",
    "        stat2=\"開始直前\"\n",
    "        if cnt<4:\n",
    "            cnt=cnt+1\n",
    "        else:\n",
    "            cnt=0\n",
    "    elif dc.teikyo[i]==2:\n",
    "        if cnt==0:\n",
    "            if dc.teikyo[i+5]!=0:\n",
    "                print(\"err_after\")\n",
    "                continue\n",
    "        stat=\"停止直後\"\n",
    "        stat2=\"停止直後\"\n",
    "        if cnt<4:\n",
    "            cnt=cnt+1\n",
    "        else:\n",
    "            cnt=0\n",
    "    else:\n",
    "        kai=int(cnt/5)\n",
    "        ama=cnt%5\n",
    "        sa=dc.sa[i]\n",
    "        if kai==0:\n",
    "            stat=\"開始直後\"\n",
    "            if dc.teikyo[i+5]==2:\n",
    "                stat2=\"停止直前\"\n",
    "                if fst==0:\n",
    "                    fama=ama\n",
    "                if fst>=5-fama:\n",
    "                    stat3=\"あまり\"\n",
    "                fst=fst+1\n",
    "            else:\n",
    "                stat2=\"開始直後\"\n",
    "        else:\n",
    "            #stat=\"継続\"+str(kai)\n",
    "            stat=\"継続\"\n",
    "            #あまり処理\n",
    "            #停止直前処理\n",
    "            if dc.teikyo[i+5]==2:\n",
    "                stat2=\"停止直前\"\n",
    "                if fst==0:\n",
    "                    fama=ama\n",
    "                if fst>=5-fama:\n",
    "                    stat3=\"あまり\"\n",
    "                fst=fst+1\n",
    "            else:\n",
    "                stat2=\"継続\"\n",
    "        if dc.tm[i+1]==dc.cend[i]:\n",
    "            cnt=0\n",
    "            kai=0\n",
    "            fst=0\n",
    "        else:\n",
    "            cnt=cnt+1\n",
    "    \n",
    "    #print(cnt,stat,stat2,stat3,ama)\n",
    "    #continue\n",
    "    \n",
    "    if stat==\"開始直前\":\n",
    "        if dc.teikyo[i]!=0:\n",
    "            print(\"err_startbefore\")\n",
    "            break\n",
    "        if cnt2==0:\n",
    "            spd=[]\n",
    "            trf=[]\n",
    "            #su=pd.DataFrame(np.zeros((1,23),dtype=int))\n",
    "            su=np.zeros(23,dtype=int)\n",
    "            #tr=pd.DataFrame(np.zeros((1,23),dtype=int))\n",
    "            tr=np.zeros(23,dtype=int)\n",
    "        spd.append(dc.平均速度[i])\n",
    "        trf.append(dc.交通量[i])\n",
    "        if dc.平均速度[i]>=120:\n",
    "            sloc=23\n",
    "        elif dc.平均速度[i]<15:\n",
    "            sloc=1\n",
    "        else:\n",
    "            sloc=int(dc.平均速度[i]/5-1)\n",
    "        #su.iloc[0,sloc-1]=su.iloc[0,sloc-1]+1\n",
    "        su[sloc-1]=su[sloc-1]+1\n",
    "        tr[sloc-1]=tr[sloc-1]+dc.交通量[i]\n",
    "        #tr.iloc[0,sloc-1]=tr.iloc[0,sloc-1]+dc.交通量[i]\n",
    "        if cnt2==4:\n",
    "            if sum(trf)==0:\n",
    "                smean=0\n",
    "                sq1=0\n",
    "                smed=0\n",
    "                sq3=0\n",
    "            else:\n",
    "                smean=np.around(np.average(spd, weights=trf),2)\n",
    "                sq1=np.around(wq.quantile(np.array(spd),np.array(trf),0.25),2)\n",
    "                smed=np.around(wq.quantile(np.array(spd),np.array(trf),0.5),2)\n",
    "                sq3=np.around(wq.quantile(np.array(spd),np.array(trf),0.75),2)\n",
    "            #print(smean,sq1,smed,sq3)\n",
    "            #print(su)\n",
    "            \n",
    "            #dat[\"keito\"]=dc.keito[i]\n",
    "            #dat[\"mojin\"]=dc.mojin[i]\n",
    "            #dat[\"mojina\"]\n",
    "            #dat[\"mojikp\"]=dc.kp[i]\n",
    "            #dat[\"ichi\"]=int((dc.detnum[i]-1)/4)\n",
    "            #dat[\"ken\"]=dc.検知器番号[i]\n",
    "            #dat[\"kp\"]=dc.キロポスト[i]\n",
    "            #dat[\"jdp\"]\n",
    "            #dat[\"lane\"]=dc.detnum[i]%4\n",
    "            #dat[\"stat\"]=\"開始直前\"\n",
    "            #dat[\"sa\"]\n",
    "            #dat[\"kind\"] 2がリスク情報1、は他の情報、0はリスク情報提供時間帯\n",
    "            #dat[\"hour\"]=pd.to_datetime(dc.tm[i]).hour\n",
    "            #dat[\"25%\"]=sq1\n",
    "            #dat[\"median\"]=smed\n",
    "            #dat[\"75%\"]=sq3\n",
    "            #dat[\"mean\"]=smean\n",
    "            #dat[\"kensu\"]\n",
    "            #dat[\"trfvol\"]\n",
    "            \n",
    "            dat.append(dc.keito[i])\n",
    "            dat.append(mojin[mojin.vsnum==dc.mojin[i]].iloc[0,5])\n",
    "            dat.append(dc.mojin[i])\n",
    "            dat.append(mojin[mojin.vsnum==dc.mojin[i]].iloc[0,4])\n",
    "            dat.append(dc.kp[i])\n",
    "            dat.append(int((dc.detnum[i]-1)/4)+1)\n",
    "            dat.append(dc.検知器番号[i])\n",
    "            dat.append(dc.キロポスト[i])\n",
    "            #dat.append(int(kenj[kenj.ken==dc.検知器番号[i]].iloc[0,1]))\n",
    "            dat.append(int(kenj[kenj.ken==dc.検知器番号[i]][\"jdp\"]))\n",
    "            dat.append(dc.detnum[i]%4)\n",
    "            dat.append(stat)\n",
    "            dat.append(dc.sa[i])\n",
    "            dat.append(dc.kind[i])\n",
    "            dat.append(pd.to_datetime(dc.tm[i]).hour)\n",
    "            dat.append(sq1)\n",
    "            dat.append(smed)\n",
    "            dat.append(sq3)\n",
    "            dat.append(smean)\n",
    "            dat.append(sum(su))\n",
    "            dat.append(sum(tr))\n",
    "            #print(len(dat),len(su),len(tr))\n",
    "            dt.append(pd.DataFrame(np.r_[dat,su,tr]).T)\n",
    "            dat=[]\n",
    "            cnt2=0\n",
    "        else:\n",
    "            cnt2=cnt2+1\n",
    "    \n",
    "    if stat==\"開始直後\":\n",
    "        if dc.teikyo[i]!=1:\n",
    "            print(\"err_startafter\")\n",
    "            break\n",
    "        if cnt2==0:\n",
    "            spd=[]\n",
    "            trf=[]\n",
    "            #su=pd.DataFrame(np.zeros((1,23),dtype=int))\n",
    "            su=np.zeros(23,dtype=int)\n",
    "            #tr=pd.DataFrame(np.zeros((1,23),dtype=int))\n",
    "            tr=np.zeros(23,dtype=int)\n",
    "        spd.append(dc.平均速度[i])\n",
    "        trf.append(dc.交通量[i])\n",
    "        if dc.平均速度[i]>=120:\n",
    "            sloc=23\n",
    "        elif dc.平均速度[i]<15:\n",
    "            sloc=1\n",
    "        else:\n",
    "            sloc=int(dc.平均速度[i]/5-1)\n",
    "        #su.iloc[0,sloc-1]=su.iloc[0,sloc-1]+1\n",
    "        su[sloc-1]=su[sloc-1]+1\n",
    "        tr[sloc-1]=tr[sloc-1]+dc.交通量[i]\n",
    "        #tr.iloc[0,sloc-1]=tr.iloc[0,sloc-1]+dc.交通量[i]\n",
    "        if cnt2==4:\n",
    "            if sum(trf)==0:\n",
    "                smean=0\n",
    "                sq1=0\n",
    "                smed=0\n",
    "                sq3=0\n",
    "            else:\n",
    "                smean=np.around(np.average(spd, weights=trf),2)\n",
    "                sq1=np.around(wq.quantile(np.array(spd),np.array(trf),0.25),2)\n",
    "                smed=np.around(wq.quantile(np.array(spd),np.array(trf),0.5),2)\n",
    "                sq3=np.around(wq.quantile(np.array(spd),np.array(trf),0.75),2)\n",
    "            #print(smean,sq1,smed,sq3)\n",
    "            #print(su)\n",
    "            \n",
    "            #dat[\"keito\"]=dc.keito[i]\n",
    "            #dat[\"mojin\"]=dc.mojin[i]\n",
    "            #dat[\"mojina\"]\n",
    "            #dat[\"mojikp\"]=dc.kp[i]\n",
    "            #dat[\"ichi\"]=int((dc.detnum[i]-1)/4)\n",
    "            #dat[\"ken\"]=dc.検知器番号[i]\n",
    "            #dat[\"kp\"]=dc.キロポスト[i]\n",
    "            #dat[\"jdp\"]\n",
    "            #dat[\"lane\"]=dc.detnum[i]%4\n",
    "            #dat[\"stat\"]=\"開始直前\"\n",
    "            #dat[\"hour\"]=pd.to_datetime(dc.tm[i]).hour\n",
    "            #dat[\"25%\"]=sq1\n",
    "            #dat[\"median\"]=smed\n",
    "            #dat[\"75%\"]=sq3\n",
    "            #dat[\"mean\"]=smean\n",
    "            #dat[\"kensu\"]\n",
    "            #dat[\"trfvol\"]\n",
    "            \n",
    "            dat.append(dc.keito[i])\n",
    "            dat.append(mojin[mojin.vsnum==dc.mojin[i]].iloc[0,5])\n",
    "            dat.append(dc.mojin[i])\n",
    "            dat.append(mojin[mojin.vsnum==dc.mojin[i]].iloc[0,4])\n",
    "            dat.append(dc.kp[i])\n",
    "            dat.append(int((dc.detnum[i]-1)/4)+1)\n",
    "            dat.append(dc.検知器番号[i])\n",
    "            dat.append(dc.キロポスト[i])\n",
    "            dat.append(int(kenj[kenj.ken==dc.検知器番号[i]][\"jdp\"]))\n",
    "            dat.append(dc.detnum[i]%4)\n",
    "            dat.append(stat)\n",
    "            dat.append(dc.sa[i])\n",
    "            dat.append(dc.kind[i])\n",
    "            dat.append(pd.to_datetime(dc.tm[i]).hour)\n",
    "            dat.append(sq1)\n",
    "            dat.append(smed)\n",
    "            dat.append(sq3)\n",
    "            dat.append(smean)\n",
    "            dat.append(sum(su))\n",
    "            dat.append(sum(tr))\n",
    "            #print(len(dat),len(su),len(tr))\n",
    "            dt.append(pd.DataFrame(np.r_[dat,su,tr]).T)\n",
    "            dat=[]\n",
    "            cnt2=0\n",
    "        else:\n",
    "            cnt2=cnt2+1\n",
    "            \n",
    "    if stat==\"継続\":\n",
    "        if dc.teikyo[i]!=1:\n",
    "            print(\"err_continue\")\n",
    "            break\n",
    "        \n",
    "        if kai>5 or stat3==\"あまり\":\n",
    "            continue\n",
    "\n",
    "        if cnt2==0:\n",
    "            spd=[]\n",
    "            trf=[]\n",
    "            #su=pd.DataFrame(np.zeros((1,23),dtype=int))\n",
    "            su=np.zeros(23,dtype=int)\n",
    "            #tr=pd.DataFrame(np.zeros((1,23),dtype=int))\n",
    "            tr=np.zeros(23,dtype=int)\n",
    "        spd.append(dc.平均速度[i])\n",
    "        trf.append(dc.交通量[i])\n",
    "        if dc.平均速度[i]>=120:\n",
    "            sloc=23\n",
    "        elif dc.平均速度[i]<15:\n",
    "            sloc=1\n",
    "        else:\n",
    "            sloc=int(dc.平均速度[i]/5-1)\n",
    "        #su.iloc[0,sloc-1]=su.iloc[0,sloc-1]+1\n",
    "        su[sloc-1]=su[sloc-1]+1\n",
    "        tr[sloc-1]=tr[sloc-1]+dc.交通量[i]\n",
    "        #tr.iloc[0,sloc-1]=tr.iloc[0,sloc-1]+dc.交通量[i]\n",
    "        if cnt2==4:\n",
    "            if sum(trf)==0:\n",
    "                smean=0\n",
    "                sq1=0\n",
    "                smed=0\n",
    "                sq3=0\n",
    "            else:\n",
    "                smean=np.around(np.average(spd, weights=trf),2)\n",
    "                sq1=np.around(wq.quantile(np.array(spd),np.array(trf),0.25),2)\n",
    "                smed=np.around(wq.quantile(np.array(spd),np.array(trf),0.5),2)\n",
    "                sq3=np.around(wq.quantile(np.array(spd),np.array(trf),0.75),2)\n",
    "            #print(smean,sq1,smed,sq3)\n",
    "            #print(su)\n",
    "            \n",
    "            #dat[\"keito\"]=dc.keito[i]\n",
    "            #dat[\"mojin\"]=dc.mojin[i]\n",
    "            #dat[\"mojina\"]\n",
    "            #dat[\"mojikp\"]=dc.kp[i]\n",
    "            #dat[\"ichi\"]=int((dc.detnum[i]-1)/4)\n",
    "            #dat[\"ken\"]=dc.検知器番号[i]\n",
    "            #dat[\"kp\"]=dc.キロポスト[i]\n",
    "            #dat[\"jdp\"]\n",
    "            #dat[\"lane\"]=dc.detnum[i]%4\n",
    "            #dat[\"stat\"]=\"開始直前\"\n",
    "            #dat[\"hour\"]=pd.to_datetime(dc.tm[i]).hour\n",
    "            #dat[\"25%\"]=sq1\n",
    "            #dat[\"median\"]=smed\n",
    "            #dat[\"75%\"]=sq3\n",
    "            #dat[\"mean\"]=smean\n",
    "            #dat[\"kensu\"]\n",
    "            #dat[\"trfvol\"]\n",
    "            \n",
    "            dat.append(dc.keito[i])\n",
    "            dat.append(mojin[mojin.vsnum==dc.mojin[i]].iloc[0,5])\n",
    "            dat.append(dc.mojin[i])\n",
    "            dat.append(mojin[mojin.vsnum==dc.mojin[i]].iloc[0,4])\n",
    "            dat.append(dc.kp[i])\n",
    "            dat.append(int((dc.detnum[i]-1)/4)+1)\n",
    "            dat.append(dc.検知器番号[i])\n",
    "            dat.append(dc.キロポスト[i])\n",
    "            dat.append(int(kenj[kenj.ken==dc.検知器番号[i]][\"jdp\"]))\n",
    "            dat.append(dc.detnum[i]%4)\n",
    "            dat.append(stat+str(kai))\n",
    "            dat.append(dc.sa[i])\n",
    "            dat.append(dc.kind[i])\n",
    "            dat.append(pd.to_datetime(dc.tm[i]).hour)\n",
    "            dat.append(sq1)\n",
    "            dat.append(smed)\n",
    "            dat.append(sq3)\n",
    "            dat.append(smean)\n",
    "            dat.append(sum(su))\n",
    "            dat.append(sum(tr))\n",
    "            #print(len(dat),len(su),len(tr))\n",
    "            dt.append(pd.DataFrame(np.r_[dat,su,tr]).T)\n",
    "            dat=[]\n",
    "            cnt2=0\n",
    "        else:\n",
    "            cnt2=cnt2+1\n",
    "    \n",
    "    if stat2==\"停止直前\":\n",
    "        if dc.teikyo[i]!=1:\n",
    "            print(\"err_stopbefore\")\n",
    "            break\n",
    "        \n",
    "        if cnt3==0:\n",
    "            spd2=[]\n",
    "            trf2=[]\n",
    "            #su=pd.DataFrame(np.zeros((1,23),dtype=int))\n",
    "            su2=np.zeros(23,dtype=int)\n",
    "            #tr=pd.DataFrame(np.zeros((1,23),dtype=int))\n",
    "            tr2=np.zeros(23,dtype=int)\n",
    "        spd2.append(dc.平均速度[i])\n",
    "        trf2.append(dc.交通量[i])\n",
    "        if dc.平均速度[i]>=120:\n",
    "            sloc2=23\n",
    "        elif dc.平均速度[i]<15:\n",
    "            sloc2=1\n",
    "        else:\n",
    "            sloc2=int(dc.平均速度[i]/5-1)\n",
    "        #su.iloc[0,sloc-1]=su.iloc[0,sloc-1]+1\n",
    "        su2[sloc2-1]=su2[sloc2-1]+1\n",
    "        tr2[sloc2-1]=tr2[sloc2-1]+dc.交通量[i]\n",
    "        #tr.iloc[0,sloc-1]=tr.iloc[0,sloc-1]+dc.交通量[i]\n",
    "        if cnt3==4:\n",
    "            if sum(trf2)==0:\n",
    "                smean_2=0\n",
    "                sq1_2=0\n",
    "                smed_2=0\n",
    "                sq3_2=0\n",
    "            else:\n",
    "                smean_2=np.around(np.average(spd2, weights=trf2),2)\n",
    "                sq1_2=np.around(wq.quantile(np.array(spd2),np.array(trf2),0.25),2)\n",
    "                smed_2=np.around(wq.quantile(np.array(spd2),np.array(trf2),0.5),2)\n",
    "                sq3_2=np.around(wq.quantile(np.array(spd2),np.array(trf2),0.75),2)\n",
    "            #print(smean_2,sq1_2,smed_2,sq3_2)\n",
    "            #print(su2)\n",
    "            \n",
    "            #dat[\"keito\"]=dc.keito[i]\n",
    "            #dat[\"mojin\"]=dc.mojin[i]\n",
    "            #dat[\"mojina\"]\n",
    "            #dat[\"mojikp\"]=dc.kp[i]\n",
    "            #dat[\"ichi\"]=int((dc.detnum[i]-1)/4)\n",
    "            #dat[\"ken\"]=dc.検知器番号[i]\n",
    "            #dat[\"kp\"]=dc.キロポスト[i]\n",
    "            #dat[\"jdp\"]\n",
    "            #dat[\"lane\"]=dc.detnum[i]%4\n",
    "            #dat[\"stat\"]=\"開始直前\"\n",
    "            #dat[\"hour\"]=pd.to_datetime(dc.tm[i]).hour\n",
    "            #dat[\"25%\"]=sq1\n",
    "            #dat[\"median\"]=smed\n",
    "            #dat[\"75%\"]=sq3\n",
    "            #dat[\"mean\"]=smean\n",
    "            #dat[\"kensu\"]\n",
    "            #dat[\"trfvol\"]\n",
    "            \n",
    "            dat2.append(dc.keito[i])\n",
    "            dat2.append(mojin[mojin.vsnum==dc.mojin[i]].iloc[0,5])\n",
    "            dat2.append(dc.mojin[i])\n",
    "            dat2.append(mojin[mojin.vsnum==dc.mojin[i]].iloc[0,4])\n",
    "            dat2.append(dc.kp[i])\n",
    "            dat2.append(int((dc.detnum[i]-1)/4)+1)\n",
    "            dat2.append(dc.検知器番号[i])\n",
    "            dat2.append(dc.キロポスト[i])\n",
    "            dat2.append(int(kenj[kenj.ken==dc.検知器番号[i]][\"jdp\"]))\n",
    "            dat2.append(dc.detnum[i]%4)\n",
    "            dat2.append(stat2)\n",
    "            dat2.append(dc.sa[i])\n",
    "            dat2.append(dc.kind[i])\n",
    "            dat2.append(pd.to_datetime(dc.tm[i]).hour)\n",
    "            dat2.append(sq1_2)\n",
    "            dat2.append(smed_2)\n",
    "            dat2.append(sq3_2)\n",
    "            dat2.append(smean_2)\n",
    "            dat2.append(sum(su2))\n",
    "            dat2.append(sum(tr2))\n",
    "            #print(len(dat),len(su),len(tr))\n",
    "            dt.append(pd.DataFrame(np.r_[dat2,su2,tr2]).T)\n",
    "            dat2=[]\n",
    "            cnt3=0\n",
    "        else:\n",
    "            cnt3=cnt3+1\n",
    "            \n",
    "    if stat==\"停止直後\":\n",
    "        if dc.teikyo[i]!=2:\n",
    "            print(\"err_stopafter\")\n",
    "            break\n",
    "        if cnt2==0:\n",
    "            spd=[]\n",
    "            trf=[]\n",
    "            #su=pd.DataFrame(np.zeros((1,23),dtype=int))\n",
    "            su=np.zeros(23,dtype=int)\n",
    "            #tr=pd.DataFrame(np.zeros((1,23),dtype=int))\n",
    "            tr=np.zeros(23,dtype=int)\n",
    "        spd.append(dc.平均速度[i])\n",
    "        trf.append(dc.交通量[i])\n",
    "        if dc.平均速度[i]>=120:\n",
    "            sloc=23\n",
    "        elif dc.平均速度[i]<15:\n",
    "            sloc=1\n",
    "        else:\n",
    "            sloc=int(dc.平均速度[i]/5-1)\n",
    "        #su.iloc[0,sloc-1]=su.iloc[0,sloc-1]+1\n",
    "        su[sloc-1]=su[sloc-1]+1\n",
    "        tr[sloc-1]=tr[sloc-1]+dc.交通量[i]\n",
    "        #tr.iloc[0,sloc-1]=tr.iloc[0,sloc-1]+dc.交通量[i]\n",
    "        if cnt2==4:\n",
    "            if sum(trf)==0:\n",
    "                smean=0\n",
    "                sq1=0\n",
    "                smed=0\n",
    "                sq3=0\n",
    "            else:\n",
    "                smean=np.around(np.average(spd, weights=trf),2)\n",
    "                sq1=np.around(wq.quantile(np.array(spd),np.array(trf),0.25),2)\n",
    "                smed=np.around(wq.quantile(np.array(spd),np.array(trf),0.5),2)\n",
    "                sq3=np.around(wq.quantile(np.array(spd),np.array(trf),0.75),2)\n",
    "            #print(smean,sq1,smed,sq3)\n",
    "            #print(su)\n",
    "            \n",
    "            #dat[\"keito\"]=dc.keito[i]\n",
    "            #dat[\"mojin\"]=dc.mojin[i]\n",
    "            #dat[\"mojina\"]\n",
    "            #dat[\"mojikp\"]=dc.kp[i]\n",
    "            #dat[\"ichi\"]=int((dc.detnum[i]-1)/4)\n",
    "            #dat[\"ken\"]=dc.検知器番号[i]\n",
    "            #dat[\"kp\"]=dc.キロポスト[i]\n",
    "            #dat[\"jdp\"]\n",
    "            #dat[\"lane\"]=dc.detnum[i]%4\n",
    "            #dat[\"stat\"]=\"開始直前\"\n",
    "            #dat[\"hour\"]=pd.to_datetime(dc.tm[i]).hour\n",
    "            #dat[\"25%\"]=sq1\n",
    "            #dat[\"median\"]=smed\n",
    "            #dat[\"75%\"]=sq3\n",
    "            #dat[\"mean\"]=smean\n",
    "            #dat[\"kensu\"]\n",
    "            #dat[\"trfvol\"]\n",
    "            \n",
    "            dat.append(dc.keito[i])\n",
    "            dat.append(mojin[mojin.vsnum==dc.mojin[i]].iloc[0,5])\n",
    "            dat.append(dc.mojin[i])\n",
    "            dat.append(mojin[mojin.vsnum==dc.mojin[i]].iloc[0,4])\n",
    "            dat.append(dc.kp[i])\n",
    "            dat.append(int((dc.detnum[i]-1)/4)+1)\n",
    "            dat.append(dc.検知器番号[i])\n",
    "            dat.append(dc.キロポスト[i])\n",
    "            dat.append(int(kenj[kenj.ken==dc.検知器番号[i]][\"jdp\"]))\n",
    "            dat.append(dc.detnum[i]%4)\n",
    "            dat.append(stat)\n",
    "            dat.append(dc.sa[i])\n",
    "            dat.append(dc.kind[i])\n",
    "            dat.append(pd.to_datetime(dc.tm[i]).hour)\n",
    "            dat.append(sq1)\n",
    "            dat.append(smed)\n",
    "            dat.append(sq3)\n",
    "            dat.append(smean)\n",
    "            dat.append(sum(su))\n",
    "            dat.append(sum(tr))\n",
    "            #print(len(dat),len(su),len(tr))\n",
    "            dt.append(pd.DataFrame(np.r_[dat,su,tr]).T)\n",
    "            dat=[]\n",
    "            cnt2=0\n",
    "        else:\n",
    "            cnt2=cnt2+1\n",
    "    \n",
    "dff = pd.concat(dt, axis = 0, ignore_index = True)\n",
    "#dff2 = pd.concat(dt2, axis = 0, ignore_index = True)"
   ]
  },
  {
   "cell_type": "code",
   "execution_count": null,
   "metadata": {},
   "outputs": [],
   "source": [
    "#np.r_[dat,su,tr]\n",
    "dff = pd.concat(dt, axis = 0, ignore_index = True)"
   ]
  },
  {
   "cell_type": "code",
   "execution_count": null,
   "metadata": {},
   "outputs": [],
   "source": [
    "dff.iloc[:,:15]"
   ]
  },
  {
   "cell_type": "code",
   "execution_count": null,
   "metadata": {},
   "outputs": [],
   "source": [
    "#dff.to_csv(\"D:/ahn_pc/workfile/2021/阪神事故リスク/mojispeed_a.csv\", index = False, encoding=\"shift_jis\")\n",
    "#dff.to_csv(\"D:/ahn_pc/workfile/2021/阪神事故リスク/mojispeed_b.csv\", index = False, encoding=\"shift_jis\")\n",
    "dff.to_csv(\"D:/ahn_pc/workfile/2021/阪神事故リスク/mojispeed_c.csv\", index = False, encoding=\"shift_jis\")"
   ]
  },
  {
   "cell_type": "code",
   "execution_count": null,
   "metadata": {},
   "outputs": [],
   "source": []
  },
  {
   "cell_type": "code",
   "execution_count": null,
   "metadata": {},
   "outputs": [],
   "source": [
    "aa"
   ]
  },
  {
   "cell_type": "code",
   "execution_count": null,
   "metadata": {},
   "outputs": [],
   "source": [
    "pd.to_datetime(dc.tm[0]).hour"
   ]
  },
  {
   "cell_type": "code",
   "execution_count": null,
   "metadata": {},
   "outputs": [],
   "source": []
  },
  {
   "cell_type": "code",
   "execution_count": null,
   "metadata": {},
   "outputs": [],
   "source": [
    "st=0\n",
    "stat=0\n",
    "curnum=0\n",
    "cnt=0\n",
    "#for i in range(15274,15310):\n",
    "for i in range(30):\n",
    "    if dc.teikyo[i]==0:\n",
    "        if cnt==0:\n",
    "            if dc.teikyo[i+5]!=1:\n",
    "                print(\"err_before\")\n",
    "                break\n",
    "        stat=\"開始直前\"\n",
    "        if cnt<4:\n",
    "            cnt=cnt+1\n",
    "        else:\n",
    "            cnt=0\n",
    "    elif dc.teikyo[i]==2:\n",
    "        if cnt==0:\n",
    "            if dc.teikyo[i+5]!=1:\n",
    "                print(\"err_after\")\n",
    "                break\n",
    "        stat=\"停止直後\"\n",
    "        if cnt<4:\n",
    "            cnt=cnt+1\n",
    "        else:\n",
    "            cnt=0\n",
    "    else:\n",
    "        stat=\"提供\"\n",
    "    \n",
    "    print(cnt,stat)\n",
    "    continue\n",
    "    \n",
    "    \n",
    "    \n",
    "    \n",
    "    \n",
    "    \n",
    "    detnum=dc.detnum[i]\n",
    "    nexnum=dc.detnum[i+1]\n",
    "    if detnum!=curnum:\n",
    "        st=1#最初\n",
    "        st_i=i\n",
    "        if dc.teikyo[st_i+5]:\n",
    "            aft_i=5+dc.sa[st_i+5]\n",
    "        else:\n",
    "            print(\"err_teikyo\")\n",
    "            break\n",
    "        while dc.teikyo[st_i+aft_i]:\n",
    "            aft_i=aft_i+dc.sa[st_i+aft_i]\n",
    "    elif detnum!=nexnum:\n",
    "        st=2#最後\n",
    "    else:\n",
    "        st=0#継続\n",
    "    print(\"i-st\",i,st_i)\n",
    "    if (i-st_i)<5:\n",
    "        stat=\"直前\"\n",
    "    elif (i-st_i)<aft_i:\n",
    "        stat=\"提供\"\n",
    "    else:\n",
    "        stat=\"直後\"\n",
    "    print(stat)\n",
    "    print(dc.tm[i])\n",
    "    curnum=detnum\n",
    "    continue\n",
    "    if cnt<5:\n",
    "        if stat!=\"提供\":\n",
    "            if dc.teikyo[i]==1:\n",
    "                print(\"err\")\n",
    "                break\n",
    "        if cnt==0:\n",
    "            spd=[]\n",
    "            trf=[]\n",
    "            su=pd.DataFrame(np.zeros((1,23),dtype=int))\n",
    "            tr=pd.DataFrame(np.zeros((1,23),dtype=int))\n",
    "        spd.append(dc.平均速度[i])\n",
    "        trf.append(dc.交通量[i])\n",
    "        sloc=int(dc.平均速度[i]/5-1)\n",
    "        su.iloc[0,sloc-1]=su.iloc[0,sloc-1]+1\n",
    "        tr.iloc[0,sloc-1]=tr.iloc[0,sloc-1]+dc.交通量[i]\n",
    "        if cnt==4:\n",
    "            smean=np.around(np.average(spd, weights=trf),2)\n",
    "            sq1=np.around(wq.quantile(np.array(spd),np.array(trf),0.25),2)\n",
    "            smed=np.around(wq.quantile(np.array(spd),np.array(trf),0.5),2)\n",
    "            sq3=np.around(wq.quantile(np.array(spd),np.array(trf),0.75),2)\n",
    "            print(smean,sq1,smed,sq3)\n",
    "            print(su)\n",
    "            cnt=0\n",
    "        else:\n",
    "            cnt=cnt+1\n",
    "    curnum=detnum"
   ]
  },
  {
   "cell_type": "code",
   "execution_count": null,
   "metadata": {},
   "outputs": [],
   "source": []
  },
  {
   "cell_type": "code",
   "execution_count": null,
   "metadata": {},
   "outputs": [],
   "source": []
  },
  {
   "cell_type": "code",
   "execution_count": null,
   "metadata": {},
   "outputs": [],
   "source": []
  },
  {
   "cell_type": "code",
   "execution_count": null,
   "metadata": {},
   "outputs": [],
   "source": []
  },
  {
   "cell_type": "code",
   "execution_count": null,
   "metadata": {},
   "outputs": [],
   "source": []
  },
  {
   "cell_type": "code",
   "execution_count": null,
   "metadata": {},
   "outputs": [],
   "source": [
    "mojin=dc[~dc.duplicated(subset=\"mojin\")].mojin"
   ]
  },
  {
   "cell_type": "code",
   "execution_count": null,
   "metadata": {},
   "outputs": [],
   "source": [
    "mojin.size"
   ]
  },
  {
   "cell_type": "code",
   "execution_count": null,
   "metadata": {},
   "outputs": [],
   "source": [
    "nip = pd.read_csv(\"D:/ahn_pc/workfile/2021/阪神事故リスク/dnippo_10_3all.csv\", encoding=\"shift_jis\")"
   ]
  },
  {
   "cell_type": "code",
   "execution_count": null,
   "metadata": {},
   "outputs": [],
   "source": [
    "nip[\"idx\"]=nip.キロポスト.astype(str)+\"_\"+nip.系統番号.astype(str)"
   ]
  },
  {
   "cell_type": "code",
   "execution_count": null,
   "metadata": {},
   "outputs": [],
   "source": [
    "nip.idx"
   ]
  },
  {
   "cell_type": "code",
   "execution_count": null,
   "metadata": {},
   "outputs": [],
   "source": [
    "kasa=nip.groupby([\"idx\",\"文字情報板番号\"], as_index=False).count()"
   ]
  },
  {
   "cell_type": "code",
   "execution_count": null,
   "metadata": {},
   "outputs": [],
   "source": [
    "kasa2=kasa.loc[:,[\"idx\",\"文字情報板番号\",\"sa\"]]"
   ]
  },
  {
   "cell_type": "code",
   "execution_count": null,
   "metadata": {},
   "outputs": [],
   "source": [
    "kasa2.to_csv(\"D:/ahn_pc/workfile/2021/阪神事故リスク/kasa10.csv\", index = False, encoding=\"shift_jis\")"
   ]
  },
  {
   "cell_type": "code",
   "execution_count": null,
   "metadata": {},
   "outputs": [],
   "source": []
  },
  {
   "cell_type": "code",
   "execution_count": null,
   "metadata": {},
   "outputs": [],
   "source": [
    "dc[\"idx\"]=dc.tm.astype(str)+\"_\"+dc.keito.astype(str)+\"_\"+dc.kp.astype(str)+\"_\"+dc.detnum.astype(str)+\"_\"+dc.teikyo.astype(str)"
   ]
  },
  {
   "cell_type": "code",
   "execution_count": null,
   "metadata": {},
   "outputs": [],
   "source": [
    "dc2=dc[dc.teikyo==1]"
   ]
  },
  {
   "cell_type": "code",
   "execution_count": null,
   "metadata": {},
   "outputs": [],
   "source": [
    "dc2[dc2.duplicated(subset=\"idx\")]\n",
    "dc[dc.idx==\"2021-10-04 12:17:00_3_2.1_1_1\"]"
   ]
  },
  {
   "cell_type": "code",
   "execution_count": null,
   "metadata": {},
   "outputs": [],
   "source": []
  },
  {
   "cell_type": "code",
   "execution_count": null,
   "metadata": {},
   "outputs": [],
   "source": []
  },
  {
   "cell_type": "code",
   "execution_count": null,
   "metadata": {},
   "outputs": [],
   "source": []
  },
  {
   "cell_type": "code",
   "execution_count": null,
   "metadata": {},
   "outputs": [],
   "source": [
    "dset=dc[dc.mojin==mojin[0]]"
   ]
  },
  {
   "cell_type": "code",
   "execution_count": null,
   "metadata": {},
   "outputs": [],
   "source": [
    "dl=dset[dset.detnum==1]"
   ]
  },
  {
   "cell_type": "code",
   "execution_count": null,
   "metadata": {},
   "outputs": [],
   "source": [
    "dl[\"tim\"]=pd.to_datetime(dl.tm)"
   ]
  },
  {
   "cell_type": "code",
   "execution_count": null,
   "metadata": {},
   "outputs": [],
   "source": [
    "(dl.tim[1]-dl.tim[0]).seconds"
   ]
  },
  {
   "cell_type": "code",
   "execution_count": null,
   "metadata": {},
   "outputs": [],
   "source": [
    "dl[\"nex\"]=dl.tim.shift(-1)"
   ]
  },
  {
   "cell_type": "code",
   "execution_count": null,
   "metadata": {},
   "outputs": [],
   "source": [
    "dl[\"sa\"]=(dl.nex-dl.tim).dt.seconds"
   ]
  },
  {
   "cell_type": "code",
   "execution_count": null,
   "metadata": {},
   "outputs": [],
   "source": [
    "dl[\"lst\"]=0\n",
    "dl.loc[dl.sa!=60,\"lst\"]=1"
   ]
  },
  {
   "cell_type": "code",
   "execution_count": null,
   "metadata": {},
   "outputs": [],
   "source": [
    "dl[dl.lst==1]"
   ]
  },
  {
   "cell_type": "code",
   "execution_count": null,
   "metadata": {},
   "outputs": [],
   "source": [
    "dl.iloc[:1,5:15]"
   ]
  },
  {
   "cell_type": "code",
   "execution_count": null,
   "metadata": {},
   "outputs": [],
   "source": [
    "#spdsu=pd.DataFrame(np.zeros((1,23),dtype=int),columns=[\"15km\",\"20km\",\"25km\",\"30km\",\n",
    "#      \"35km\",\"40km\",\"45km\",\"50km\",\"55km\",\"60km\",\"65km\",\"70km\",\"75km\",\"80km\",\"85km\",\n",
    "#      \"90km\",\"95km\",\"100km\",\"105km\",\"110km\",\"115km\",\"120km\",\"120kmup\"])\n",
    "#spdtr=pd.DataFrame(np.zeros((1,23),dtype=int),columns=[\"15km\",\"20km\",\"25km\",\"30km\",\n",
    "#      \"35km\",\"40km\",\"45km\",\"50km\",\"55km\",\"60km\",\"65km\",\"70km\",\"75km\",\"80km\",\"85km\",\n",
    "#      \"90km\",\"95km\",\"100km\",\"105km\",\"110km\",\"115km\",\"120km\",\"120kmup\"])"
   ]
  },
  {
   "cell_type": "code",
   "execution_count": null,
   "metadata": {},
   "outputs": [],
   "source": [
    "#spdsu=[]\n",
    "#spdtr=[]"
   ]
  },
  {
   "cell_type": "code",
   "execution_count": null,
   "metadata": {},
   "outputs": [],
   "source": [
    "#su=pd.DataFrame(np.zeros((1,23),dtype=int))\n",
    "#tmp=int(62/5-1)\n",
    "#su.iloc[0,tmp-1]=1"
   ]
  },
  {
   "cell_type": "code",
   "execution_count": null,
   "metadata": {},
   "outputs": [],
   "source": [
    "#su.iloc[:,:12]"
   ]
  },
  {
   "cell_type": "code",
   "execution_count": null,
   "metadata": {},
   "outputs": [],
   "source": [
    "import wquantiles as wq"
   ]
  },
  {
   "cell_type": "code",
   "execution_count": null,
   "metadata": {},
   "outputs": [],
   "source": [
    "#a=np.array([1,3,6,2])\n",
    "#b=np.array([10,3,20,1])"
   ]
  },
  {
   "cell_type": "code",
   "execution_count": null,
   "metadata": {},
   "outputs": [],
   "source": [
    "#wq.quantile(a,b,0.5)"
   ]
  },
  {
   "cell_type": "code",
   "execution_count": null,
   "metadata": {},
   "outputs": [],
   "source": [
    "#np.average(a, weights=b)"
   ]
  },
  {
   "cell_type": "code",
   "execution_count": null,
   "metadata": {},
   "outputs": [],
   "source": [
    "#c=32.943\n",
    "#np.around(c,1)"
   ]
  },
  {
   "cell_type": "code",
   "execution_count": null,
   "metadata": {},
   "outputs": [],
   "source": [
    "tk=dl.teikyo.values\n",
    "cnt=0\n",
    "for i in range(50):\n",
    "    if cnt<15:\n",
    "        stat=0\n",
    "        #print(i,tk[i])\n",
    "        #if tk[i]:\n",
    "        #    print(\"err_noprovidingtime\")\n",
    "        #    break\n",
    "        #if tk[i+15]:\n",
    "        #    print(\"err_not15min\")\n",
    "        #    break\n",
    "        cnt=cnt+1\n",
    "        continue\n",
    "    elif cnt<30:\n",
    "        if stat==0:\n",
    "            \n",
    "        \n",
    "        \n",
    "        print(\"end\")\n",
    "        break\n",
    "        \n",
    "        "
   ]
  },
  {
   "cell_type": "code",
   "execution_count": null,
   "metadata": {},
   "outputs": [],
   "source": [
    "tky=0\n",
    "cntpb=0\n",
    "cntpa=0\n",
    "cntsb=0\n",
    "cntsa=0\n",
    "#for i in range(dl.shape[0]):\n",
    "for i in range(50):\n",
    "    if dl.sa[i]==1:\n",
    "        print(\"sa isn't 1\")\n",
    "        break\n",
    "    if (tky==0) and (dl.teikyo[i+15]==1):\n",
    "        #print(dl.tm[i],dl.tm[i+15])\n",
    "        spd=[]\n",
    "        trf=[]\n",
    "        su=pd.DataFrame(np.zeros((1,23),dtype=int))\n",
    "        tr=pd.DataFrame(np.zeros((1,23),dtype=int))\n",
    "        tky=1\n",
    "    if tky==1:\n",
    "        if cntpb<15:\n",
    "            spd.append(dl.平均速度[i])\n",
    "            trf.append(dl.交通量[i])\n",
    "            sloc=int(dl.平均速度[i]/5-1)\n",
    "            su.iloc[0,sloc-1]=su.iloc[0,sloc-1]+1\n",
    "            tr.iloc[0,sloc-1]=tr.iloc[0,sloc-1]+dl.交通量[i]\n",
    "            cntpb=cntpb+1\n",
    "        else:\n",
    "            if cntpa<1:\n",
    "                smean=np.around(np.average(spd, weights=trf),2)\n",
    "                sq1=np.around(wq.quantile(np.array(spd),np.array(trf),0.25),2)\n",
    "                smed=np.around(wq.quantile(np.array(spd),np.array(trf),0.5),2)\n",
    "                sq3=np.around(wq.quantile(np.array(spd),np.array(trf),0.75),2)\n",
    "                print(smean,sq1,smed,sq3)\n",
    "                print(su)\n",
    "                spd=[]\n",
    "                trf=[]\n",
    "                su=pd.DataFrame(np.zeros((1,23),dtype=int))\n",
    "                tr=pd.DataFrame(np.zeros((1,23),dtype=int))\n",
    "            if dl.teikyo[i]==1:\n",
    "                if cntpa<15:\n",
    "                    spd.append(dl.平均速度[i])\n",
    "                    trf.append(dl.交通量[i])\n",
    "                    sloc=int(dl.平均速度[i]/5-1)\n",
    "                    su.iloc[0,sloc-1]=su.iloc[0,sloc-1]+1\n",
    "                    tr.iloc[0,sloc-1]=tr.iloc[0,sloc-1]+dl.交通量[i]\n",
    "                    print(cntpa,i)\n",
    "                    cntpa=cntpa+1\n",
    "                else:\n",
    "                    smean=np.around(np.average(spd, weights=trf),2)\n",
    "                    sq1=np.around(wq.quantile(np.array(spd),np.array(trf),0.25),2)\n",
    "                    smed=np.around(wq.quantile(np.array(spd),np.array(trf),0.5),2)\n",
    "                    sq3=np.around(wq.quantile(np.array(spd),np.array(trf),0.75),2)\n",
    "                    print(smean,sq1,smed,sq3)\n",
    "                    print(su)\n",
    "                    #継続\n",
    "                    \n",
    "                    \n",
    "                    if cntpa==15:\n",
    "                        break\n",
    "            else:\n",
    "                if cntpa<15:\n",
    "                    print(\"under15\")\n",
    "                    break\n",
    "                else:\n",
    "                    smean=np.around(np.average(spd, weights=trf),2)\n",
    "                    sq1=np.around(wq.quantile(np.array(spd),np.array(trf),0.25),2)\n",
    "                    smed=np.around(wq.quantile(np.array(spd),np.array(trf),0.5),2)\n",
    "                    sq3=np.around(wq.quantile(np.array(spd),np.array(trf),0.75),2)\n",
    "                    print(smean,sq1,smed,sq3)\n",
    "                    print(su)\n",
    "                    break"
   ]
  },
  {
   "cell_type": "code",
   "execution_count": null,
   "metadata": {},
   "outputs": [],
   "source": [
    "su.iloc[0,5:15]"
   ]
  },
  {
   "cell_type": "code",
   "execution_count": null,
   "metadata": {},
   "outputs": [],
   "source": [
    "tr.iloc[0,5:15]"
   ]
  },
  {
   "cell_type": "code",
   "execution_count": null,
   "metadata": {},
   "outputs": [],
   "source": []
  },
  {
   "cell_type": "code",
   "execution_count": null,
   "metadata": {},
   "outputs": [],
   "source": []
  },
  {
   "cell_type": "code",
   "execution_count": null,
   "metadata": {},
   "outputs": [],
   "source": []
  },
  {
   "cell_type": "code",
   "execution_count": null,
   "metadata": {},
   "outputs": [],
   "source": []
  },
  {
   "cell_type": "code",
   "execution_count": null,
   "metadata": {},
   "outputs": [],
   "source": []
  },
  {
   "cell_type": "code",
   "execution_count": null,
   "metadata": {},
   "outputs": [],
   "source": []
  },
  {
   "cell_type": "code",
   "execution_count": null,
   "metadata": {},
   "outputs": [],
   "source": []
  },
  {
   "cell_type": "code",
   "execution_count": null,
   "metadata": {},
   "outputs": [],
   "source": [
    "dc[\"tm\"]=pd.to_datetime(dc.年.astype(str)+\"-\"+dc.月.astype(str)+\"-\"+dc.日.astype(str)+\" \"+dc.時刻)"
   ]
  },
  {
   "cell_type": "code",
   "execution_count": null,
   "metadata": {},
   "outputs": [],
   "source": [
    "#print(dc[\"tm\"].iloc[0])\n",
    "#dc[\"tm\"].iloc[0]<\"2021-10-10 07:10\"\n",
    "#pd.to_datetime(dc[\"tm\"].iloc[0])<pd.to_datetime(\"2021-10-10 07:10\")\n",
    "#dc[(dc[\"tm\"]<pd.to_datetime(\"2021-10-3 07:15\"))&(dc[\"tm\"]>pd.to_datetime(\"2021-10-3 07:10\"))]"
   ]
  },
  {
   "cell_type": "code",
   "execution_count": null,
   "metadata": {},
   "outputs": [],
   "source": [
    "#dc.query(\"検知器番号 in [35,36,32,29,30]\")\n",
    "#x=[35,36,32,29,30]\n",
    "#dc.query(\"検知器番号 in @x\")"
   ]
  },
  {
   "cell_type": "code",
   "execution_count": null,
   "metadata": {},
   "outputs": [],
   "source": [
    "nip = pd.read_csv(\"D:/ahn_pc/workfile/2021/阪神事故リスク/dnippo_10_2a.csv\", encoding=\"shift_jis\")"
   ]
  },
  {
   "cell_type": "code",
   "execution_count": null,
   "metadata": {},
   "outputs": [],
   "source": [
    "nip"
   ]
  },
  {
   "cell_type": "code",
   "execution_count": null,
   "metadata": {},
   "outputs": [],
   "source": [
    "det = pd.read_csv(\"D:/ahn_pc/workfile/2021/阪神事故リスク/moji_detec.csv\", encoding=\"shift_jis\")"
   ]
  },
  {
   "cell_type": "code",
   "execution_count": null,
   "metadata": {},
   "outputs": [],
   "source": [
    "#pd.to_datetime(tst)+pd.offsets.Minute(30)"
   ]
  },
  {
   "cell_type": "code",
   "execution_count": null,
   "metadata": {},
   "outputs": [],
   "source": []
  },
  {
   "cell_type": "code",
   "execution_count": null,
   "metadata": {},
   "outputs": [],
   "source": [
    "moji=nip.文字情報板番号.values\n",
    "adet=[]\n",
    "dken=[]\n",
    "ken=[]\n",
    "\n",
    "for i in range(nip.shape[0]):\n",
    "#for i in range(1):\n",
    "    #i=544\n",
    "    if (i%100==0):\n",
    "        print(i)\n",
    "    mdet = det[det.vsidx==moji[i]].values\n",
    "    if mdet.size==0:\n",
    "        print(\"size zero i is \",i,\" moji \",nip.文字情報板番号[i])\n",
    "        continue\n",
    "    for j in range(16):\n",
    "        if not pd.isna(mdet[0,5+j]):\n",
    "            adet.append(mdet[0,5+j])\n",
    "        else:\n",
    "            adet.append(-1)\n",
    "    \n",
    "    tst=pd.to_datetime(nip.stt.iloc[i])\n",
    "    tend=pd.to_datetime(nip.endt.iloc[i])\n",
    "        \n",
    "    pst=pd.to_datetime(nip.st.iloc[i])\n",
    "    pend=pd.to_datetime(nip.end.iloc[i])\n",
    "        \n",
    "    keito=nip.系統番号[i]\n",
    "    mojin=nip.文字情報板番号[i]\n",
    "    kotei=nip.固定パターン番号[i]\n",
    "    kp=nip.キロポスト[i]\n",
    "\n",
    "    if nip.iloc[i].cst:\n",
    "        if i!=0:\n",
    "            temp = pd.concat(ken, axis = 0, ignore_index = True)\n",
    "            dken.append(temp)\n",
    "        ken=[]\n",
    "        for k in range(16):\n",
    "        #for k in range(1):\n",
    "            if adet[k]!=-1:\n",
    "                dtemp=dc[dc.検知器番号==adet[k]]\n",
    "                dt=dtemp[(dtemp.tm>=tst)&(dtemp.tm<=tend)]\n",
    "                \n",
    "                dt[\"keito\"]=keito\n",
    "                dt[\"mojin\"]=mojin\n",
    "                dt[\"kp\"]=kp\n",
    "                dt[\"detnum\"]=k+1\n",
    "                dt[\"kotei\"]=0\n",
    "                dt[\"teikyo\"]=0\n",
    "                dt.loc[((dt.tm>=pst)&(dt.tm<=pend)),\"kotei\"]=kotei\n",
    "                dt.loc[((dt.tm>=pst)&(dt.tm<=pend)),\"teikyo\"]=1\n",
    "                ken.append(dt)\n",
    "    else:\n",
    "        for l in range(len(ken)):\n",
    "            dt=ken[l]\n",
    "            dt[\"keito\"]=keito\n",
    "            dt[\"mojin\"]=mojin\n",
    "            dt[\"kp\"]=kp\n",
    "            #dt[\"detnum\"]=k+1\n",
    "            #dt[\"kotei\"]=0\n",
    "            #dt[\"teikyo\"]=0\n",
    "            dt.loc[((dt.tm>=pst)&(dt.tm<=pend)),\"kotei\"]=kotei\n",
    "            dt.loc[((dt.tm>=pst)&(dt.tm<=pend)),\"teikyo\"]=1\n",
    "\n",
    "temp = pd.concat(ken, axis = 0, ignore_index = True)\n",
    "dken.append(temp)\n",
    "df = pd.concat(dken, axis = 0, ignore_index = True)"
   ]
  },
  {
   "cell_type": "code",
   "execution_count": null,
   "metadata": {},
   "outputs": [],
   "source": [
    "df = pd.concat(dken, axis = 0, ignore_index = True)"
   ]
  },
  {
   "cell_type": "code",
   "execution_count": null,
   "metadata": {},
   "outputs": [],
   "source": [
    "df"
   ]
  },
  {
   "cell_type": "code",
   "execution_count": null,
   "metadata": {},
   "outputs": [],
   "source": [
    "#df.to_csv(\"D:/ahn_pc/workfile/2021/阪神事故リスク/kendata_10a.csv\", index = False, encoding=\"shift_jis\")"
   ]
  },
  {
   "cell_type": "code",
   "execution_count": null,
   "metadata": {},
   "outputs": [],
   "source": [
    "df1=df.iloc[:1000000,:]\n",
    "df2=df.iloc[1000000:2000000,:]\n",
    "df3=df.iloc[2000000:3000000,:]\n",
    "df4=df.iloc[3000000:4000000,:]"
   ]
  },
  {
   "cell_type": "code",
   "execution_count": null,
   "metadata": {},
   "outputs": [],
   "source": [
    "df1.to_csv(\"D:/ahn_pc/workfile/2021/阪神事故リスク/kendata10a1.csv\", index = False, encoding=\"shift_jis\")\n",
    "df2.to_csv(\"D:/ahn_pc/workfile/2021/阪神事故リスク/kendata10a2.csv\", index = False, encoding=\"shift_jis\")\n",
    "df3.to_csv(\"D:/ahn_pc/workfile/2021/阪神事故リスク/kendata10a3.csv\", index = False, encoding=\"shift_jis\")\n",
    "df4.to_csv(\"D:/ahn_pc/workfile/2021/阪神事故リスク/kendata10a4.csv\", index = False, encoding=\"shift_jis\")"
   ]
  },
  {
   "cell_type": "code",
   "execution_count": null,
   "metadata": {},
   "outputs": [],
   "source": [
    "#dken[1]"
   ]
  },
  {
   "cell_type": "code",
   "execution_count": null,
   "metadata": {},
   "outputs": [],
   "source": [
    "#ken[1][ken[1].teikyo==1]"
   ]
  },
  {
   "cell_type": "code",
   "execution_count": null,
   "metadata": {},
   "outputs": [],
   "source": []
  },
  {
   "cell_type": "code",
   "execution_count": null,
   "metadata": {},
   "outputs": [],
   "source": []
  },
  {
   "cell_type": "code",
   "execution_count": null,
   "metadata": {},
   "outputs": [],
   "source": []
  },
  {
   "cell_type": "code",
   "execution_count": null,
   "metadata": {},
   "outputs": [],
   "source": []
  },
  {
   "cell_type": "code",
   "execution_count": null,
   "metadata": {},
   "outputs": [],
   "source": []
  },
  {
   "cell_type": "code",
   "execution_count": null,
   "metadata": {},
   "outputs": [],
   "source": []
  },
  {
   "cell_type": "code",
   "execution_count": null,
   "metadata": {},
   "outputs": [],
   "source": []
  },
  {
   "cell_type": "code",
   "execution_count": null,
   "metadata": {},
   "outputs": [],
   "source": []
  },
  {
   "cell_type": "code",
   "execution_count": null,
   "metadata": {},
   "outputs": [],
   "source": [
    "#for i in range(nip.shape[0]):\n",
    "moji=nip.文字情報板番号.values\n",
    "for i in range(1):\n",
    "    mdet = det[det.vsidx==moji[i]]\n",
    "    #\n",
    "    if ~pd.isna(mdet.d1l1.iloc[0]):\n",
    "        d1l1 = mdet.d1l1\n",
    "    else:\n",
    "        d1l1 = -1\n",
    "\n",
    "    if ~pd.isna(mdet.d1l2.iloc[0]):\n",
    "        d1l2 = mdet.d1l2\n",
    "    else:\n",
    "        d1l2 = -1\n",
    "    \n",
    "    if ~pd.isna(mdet.d1l3.iloc[0]):\n",
    "        d1l3 = mdet.d1l3\n",
    "    else:\n",
    "        d1l3 = -1\n",
    "    \n",
    "    if ~pd.isna(mdet.d1l4.iloc[0]):\n",
    "        d1l4 = mdet.d1l4\n",
    "    else:\n",
    "        d1l4 = -1\n",
    "    #\n",
    "    if ~pd.isna(mdet.d2l1.iloc[0]):\n",
    "        d2l1 = mdet.d2l1\n",
    "    else:\n",
    "        d2l1 = -1\n",
    "    \n",
    "    if ~pd.isna(mdet.d2l2.iloc[0]):\n",
    "        d2l2 = mdet.d2l2\n",
    "    else:\n",
    "        d2l2 = -1\n",
    "    \n",
    "    if ~pd.isna(mdet.d2l3.iloc[0]):\n",
    "        d2l3 = mdet.d2l3\n",
    "    else:\n",
    "        d2l3 = -1\n",
    "    \n",
    "    if ~pd.isna(mdet.d2l4.iloc[0]):\n",
    "        d2l4 = mdet.d2l4\n",
    "    else:\n",
    "        d2l4 = -1\n",
    "    #\n",
    "    if ~pd.isna(mdet.d3l1.iloc[0]):\n",
    "        d3l1 = mdet.d3l1\n",
    "    else:\n",
    "        d3l1 = -1\n",
    "    \n",
    "    if ~pd.isna(mdet.d3l2.iloc[0]):\n",
    "        d3l2 = mdet.d3l2\n",
    "    else:\n",
    "        d3l2 = -1\n",
    "    \n",
    "    if ~pd.isna(mdet.d3l3.iloc[0]):\n",
    "        d3l3 = mdet.d3l3\n",
    "    else:\n",
    "        d3l3 = -1\n",
    "    \n",
    "    if ~pd.isna(mdet.d3l4.iloc[0]):\n",
    "        d3l4 = mdet.d3l4\n",
    "    else:\n",
    "        d3l4 = -1\n",
    "    #\n",
    "    if ~pd.isna(mdet.d4l1.iloc[0]):\n",
    "        d4l1 = mdet.d4l1\n",
    "    else:\n",
    "        d4l1 = -1\n",
    "    \n",
    "    if ~pd.isna(mdet.d4l2.iloc[0]):\n",
    "        d4l2 = mdet.d4l2\n",
    "    else:\n",
    "        d4l2 = -1\n",
    "    \n",
    "    if ~pd.isna(mdet.d4l3.iloc[0]):\n",
    "        d4l3 = mdet.d4l3\n",
    "    else:\n",
    "        d4l3 = -1\n",
    "    \n",
    "    if ~pd.isna(mdet.d4l4.iloc[0]):\n",
    "        d4l4 = mdet.d4l4\n",
    "    else:\n",
    "        d4l4 = -1    \n",
    "    "
   ]
  },
  {
   "cell_type": "code",
   "execution_count": null,
   "metadata": {},
   "outputs": [],
   "source": []
  },
  {
   "cell_type": "code",
   "execution_count": null,
   "metadata": {},
   "outputs": [],
   "source": []
  },
  {
   "cell_type": "code",
   "execution_count": null,
   "metadata": {},
   "outputs": [],
   "source": []
  },
  {
   "cell_type": "code",
   "execution_count": null,
   "metadata": {},
   "outputs": [],
   "source": []
  },
  {
   "cell_type": "code",
   "execution_count": null,
   "metadata": {},
   "outputs": [],
   "source": []
  },
  {
   "cell_type": "code",
   "execution_count": null,
   "metadata": {},
   "outputs": [],
   "source": []
  },
  {
   "cell_type": "code",
   "execution_count": null,
   "metadata": {},
   "outputs": [],
   "source": []
  },
  {
   "cell_type": "code",
   "execution_count": null,
   "metadata": {},
   "outputs": [],
   "source": []
  },
  {
   "cell_type": "code",
   "execution_count": null,
   "metadata": {},
   "outputs": [],
   "source": []
  },
  {
   "cell_type": "code",
   "execution_count": null,
   "metadata": {},
   "outputs": [],
   "source": [
    "df=dc[(dc.固定パターン番号==155)|(dc.固定パターン番号==158)\n",
    "     |(dc.固定パターン番号==156)|(dc.固定パターン番号==159)\n",
    "     |(dc.固定パターン番号==157)|(dc.固定パターン番号==160)]"
   ]
  },
  {
   "cell_type": "code",
   "execution_count": null,
   "metadata": {},
   "outputs": [],
   "source": [
    "df2=df.loc[:,[\"情報提供開始年\",\"情報提供開始月\",\"情報提供開始日\",\"情報提供開始時刻\",\"情報提供開始曜日\",\"情報提供開始日種\",\"情報提供終了年\",\"情報提供終了月\",\"情報提供終了日\",\"情報提供終了時刻\",\"情報提供終了曜日\",\"情報提供終了日種\",\"系統番号\",\"文字情報板番号\",\"固定パターン番号\",\"キロポスト\",\"系統名\",\"文字情報板\",\"エラー識別\"]]"
   ]
  },
  {
   "cell_type": "code",
   "execution_count": null,
   "metadata": {},
   "outputs": [],
   "source": [
    "#df2.to_csv(\"D:/ahn_pc/workfile/2021/阪神事故リスク/dnippo_10.csv\", index = False, encoding=\"shift_jis\")"
   ]
  },
  {
   "cell_type": "code",
   "execution_count": null,
   "metadata": {},
   "outputs": [],
   "source": [
    "df2.loc[df2.情報提供終了年==\" \",\"情報提供終了年\"]=df2.情報提供開始年\n",
    "df2.loc[df2.情報提供終了月==\" \",\"情報提供終了月\"]=df2.情報提供開始月\n",
    "df2.loc[df2.情報提供終了日==\" \",\"情報提供終了日\"]=df2.情報提供開始日\n",
    "df2.loc[df2.情報提供終了時刻==\" \",\"情報提供終了時刻\"]=df2.情報提供開始時刻"
   ]
  },
  {
   "cell_type": "code",
   "execution_count": null,
   "metadata": {},
   "outputs": [],
   "source": []
  },
  {
   "cell_type": "code",
   "execution_count": null,
   "metadata": {},
   "outputs": [],
   "source": [
    "df2[\"st\"]=pd.to_datetime(df2.情報提供開始年.astype(str)+\"-\"+df2.情報提供開始月.astype(str)+\"-\"+df2.情報提供開始日.astype(str)+\" \"+df2.情報提供開始時刻)"
   ]
  },
  {
   "cell_type": "code",
   "execution_count": null,
   "metadata": {},
   "outputs": [],
   "source": [
    "#df2.情報提供終了年.astype(str)+\"-\"+df2.情報提供終了月.astype(str)+\"-\"+df2.情報提供終了日.astype(str)+\" \"+df2.情報提供終了時刻"
   ]
  },
  {
   "cell_type": "code",
   "execution_count": null,
   "metadata": {},
   "outputs": [],
   "source": [
    "df2[\"end\"]=pd.to_datetime(df2.情報提供終了年.astype(str)+\"-\"+df2.情報提供終了月.astype(str)+\"-\"+df2.情報提供終了日.astype(str)+\" \"+df2.情報提供終了時刻)"
   ]
  },
  {
   "cell_type": "code",
   "execution_count": null,
   "metadata": {},
   "outputs": [],
   "source": [
    "df2"
   ]
  },
  {
   "cell_type": "code",
   "execution_count": null,
   "metadata": {},
   "outputs": [],
   "source": [
    "#df2.st+pd.offsets.Minute(0)"
   ]
  },
  {
   "cell_type": "code",
   "execution_count": null,
   "metadata": {},
   "outputs": [],
   "source": [
    "df2[\"sa\"]=((df2.end-df2.st).dt.seconds/60).astype(int)"
   ]
  },
  {
   "cell_type": "code",
   "execution_count": null,
   "metadata": {},
   "outputs": [],
   "source": [
    "#temp=[]\n",
    "#for i in range(df2.shape[0]):\n",
    "#for i in range(10):\n",
    "#    for j in range(df2[\"sa\"].iloc[i]):\n",
    "#        temp.append((df2[\"st\"].iloc[i]+pd.offsets.Minute(j)).strftime(\"%Y-%m-%d %H:%M:%S\"))"
   ]
  },
  {
   "cell_type": "code",
   "execution_count": null,
   "metadata": {},
   "outputs": [],
   "source": [
    "#temp[0]==temp[1]\n",
    "#df2[\"st\"].iloc[0]==df2[\"st\"].iloc[0]"
   ]
  },
  {
   "cell_type": "code",
   "execution_count": null,
   "metadata": {},
   "outputs": [],
   "source": [
    "df2"
   ]
  },
  {
   "cell_type": "code",
   "execution_count": null,
   "metadata": {},
   "outputs": [],
   "source": [
    "df2.to_csv(\"D:/ahn_pc/workfile/2021/阪神事故リスク/dnippo_10.csv\", index = False, encoding=\"shift_jis\")"
   ]
  },
  {
   "cell_type": "code",
   "execution_count": null,
   "metadata": {},
   "outputs": [],
   "source": []
  },
  {
   "cell_type": "code",
   "execution_count": null,
   "metadata": {},
   "outputs": [],
   "source": []
  },
  {
   "cell_type": "code",
   "execution_count": null,
   "metadata": {},
   "outputs": [],
   "source": []
  },
  {
   "cell_type": "code",
   "execution_count": null,
   "metadata": {},
   "outputs": [],
   "source": []
  },
  {
   "cell_type": "code",
   "execution_count": null,
   "metadata": {},
   "outputs": [],
   "source": []
  },
  {
   "cell_type": "code",
   "execution_count": null,
   "metadata": {},
   "outputs": [],
   "source": []
  },
  {
   "cell_type": "code",
   "execution_count": null,
   "metadata": {},
   "outputs": [],
   "source": []
  },
  {
   "cell_type": "code",
   "execution_count": null,
   "metadata": {},
   "outputs": [],
   "source": [
    "dc[\"indx\"]=dc.文字情報板番号"
   ]
  },
  {
   "cell_type": "code",
   "execution_count": null,
   "metadata": {},
   "outputs": [],
   "source": [
    "df=dc[dc.原因==\"リスク\"]"
   ]
  },
  {
   "cell_type": "code",
   "execution_count": null,
   "metadata": {},
   "outputs": [],
   "source": [
    "df"
   ]
  },
  {
   "cell_type": "code",
   "execution_count": null,
   "metadata": {},
   "outputs": [],
   "source": [
    "df2=df[df.提供フラグ==1]"
   ]
  },
  {
   "cell_type": "code",
   "execution_count": null,
   "metadata": {},
   "outputs": [],
   "source": [
    "df2"
   ]
  },
  {
   "cell_type": "code",
   "execution_count": null,
   "metadata": {},
   "outputs": [],
   "source": []
  },
  {
   "cell_type": "code",
   "execution_count": null,
   "metadata": {},
   "outputs": [],
   "source": []
  },
  {
   "cell_type": "code",
   "execution_count": null,
   "metadata": {},
   "outputs": [],
   "source": []
  },
  {
   "cell_type": "code",
   "execution_count": null,
   "metadata": {},
   "outputs": [],
   "source": []
  },
  {
   "cell_type": "code",
   "execution_count": null,
   "metadata": {},
   "outputs": [],
   "source": [
    "dc[dc.indx>900]"
   ]
  },
  {
   "cell_type": "code",
   "execution_count": null,
   "metadata": {},
   "outputs": [],
   "source": [
    "vs = pd.read_csv(\"D:/ahn_pc/workfile/2021/阪神事故リスク/CHSVSB_情報板3.csv\", encoding=\"shift_jis\")"
   ]
  },
  {
   "cell_type": "code",
   "execution_count": null,
   "metadata": {},
   "outputs": [],
   "source": [
    "vs"
   ]
  },
  {
   "cell_type": "code",
   "execution_count": null,
   "metadata": {},
   "outputs": [],
   "source": [
    "dc2 = pd.merge(dc,vs, on=\"indx\", how=\"left\")"
   ]
  },
  {
   "cell_type": "code",
   "execution_count": null,
   "metadata": {},
   "outputs": [],
   "source": [
    "dc2[dc2.indx==977]"
   ]
  },
  {
   "cell_type": "code",
   "execution_count": null,
   "metadata": {},
   "outputs": [],
   "source": []
  },
  {
   "cell_type": "code",
   "execution_count": null,
   "metadata": {},
   "outputs": [],
   "source": [
    "dc3 = dc2[~pd.isna(dc2.line)]"
   ]
  },
  {
   "cell_type": "code",
   "execution_count": null,
   "metadata": {},
   "outputs": [],
   "source": [
    "dc3"
   ]
  },
  {
   "cell_type": "code",
   "execution_count": null,
   "metadata": {},
   "outputs": [],
   "source": [
    "#dc3[\"drp\"]=dc3.記録日.astype(str)+\"_\"+dc3.記録時刻+\"_\"+dc3.文字情報板番号.astype(str)+\"_\"+dc3.事象内通番.astype(str)+\"_\"+dc3.原因+\"_\"+dc3.程度"
   ]
  },
  {
   "cell_type": "code",
   "execution_count": null,
   "metadata": {},
   "outputs": [],
   "source": [
    "dc3[\"vsidx\"]=dc3.記録日.astype(str)+\"_\"+dc3.記録時刻+\"_\"+dc3.文字情報板番号.astype(str)"
   ]
  },
  {
   "cell_type": "code",
   "execution_count": null,
   "metadata": {},
   "outputs": [],
   "source": [
    "#dc3d = dc3[~dc3.duplicated(subset=\"drop\")]\n",
    "dc3d = dc3[~dc3.duplicated()]"
   ]
  },
  {
   "cell_type": "code",
   "execution_count": null,
   "metadata": {},
   "outputs": [],
   "source": [
    "#dc3d[dc3d.vsidx==\"14_00:23_158\"].iloc[:,5:]"
   ]
  },
  {
   "cell_type": "code",
   "execution_count": null,
   "metadata": {},
   "outputs": [],
   "source": [
    "print(dc3.shape[0])\n",
    "print(dc3d.shape[0])"
   ]
  },
  {
   "cell_type": "code",
   "execution_count": null,
   "metadata": {},
   "outputs": [],
   "source": [
    "test=dc3d[dc3d.indx==945]"
   ]
  },
  {
   "cell_type": "code",
   "execution_count": null,
   "metadata": {},
   "outputs": [],
   "source": [
    "test2=test[test.提供フラグ==1]"
   ]
  },
  {
   "cell_type": "code",
   "execution_count": null,
   "metadata": {},
   "outputs": [],
   "source": [
    "test2.shape[0]"
   ]
  },
  {
   "cell_type": "code",
   "execution_count": null,
   "metadata": {},
   "outputs": [],
   "source": [
    "60*24*31"
   ]
  },
  {
   "cell_type": "code",
   "execution_count": null,
   "metadata": {},
   "outputs": [],
   "source": []
  },
  {
   "cell_type": "code",
   "execution_count": null,
   "metadata": {},
   "outputs": [],
   "source": [
    "#del dc3,dc3d,dc3r,dc5"
   ]
  },
  {
   "cell_type": "code",
   "execution_count": null,
   "metadata": {},
   "outputs": [],
   "source": [
    "#dc3d.to_csv(\"D:/ahn_pc/workfile/2021/阪神事故リスク/dc3d04.csv\", index = False, encoding=\"shift_jis\")"
   ]
  },
  {
   "cell_type": "code",
   "execution_count": null,
   "metadata": {},
   "outputs": [],
   "source": []
  },
  {
   "cell_type": "code",
   "execution_count": null,
   "metadata": {},
   "outputs": [],
   "source": [
    "dc3r = dc3d[dc3d.原因==\"リスク\"]"
   ]
  },
  {
   "cell_type": "code",
   "execution_count": null,
   "metadata": {},
   "outputs": [],
   "source": [
    "dc3r[\"risk\"]=1"
   ]
  },
  {
   "cell_type": "code",
   "execution_count": null,
   "metadata": {},
   "outputs": [],
   "source": [
    "dc3idx = dc3r.loc[:,[\"vsidx\",\"risk\"]]"
   ]
  },
  {
   "cell_type": "code",
   "execution_count": null,
   "metadata": {},
   "outputs": [],
   "source": [
    "dc3idx"
   ]
  },
  {
   "cell_type": "code",
   "execution_count": null,
   "metadata": {},
   "outputs": [],
   "source": [
    "dc4 = pd.merge(dc3d,dc3idx, on=\"vsidx\", how=\"left\")"
   ]
  },
  {
   "cell_type": "code",
   "execution_count": null,
   "metadata": {},
   "outputs": [],
   "source": [
    "dc4.shape[0]"
   ]
  },
  {
   "cell_type": "code",
   "execution_count": null,
   "metadata": {},
   "outputs": [],
   "source": [
    "dc3.shape[0]"
   ]
  },
  {
   "cell_type": "code",
   "execution_count": null,
   "metadata": {},
   "outputs": [],
   "source": [
    "dc4[(dc4.risk==1)&(dc4.原因==\"リスク\")&(dc4.提供フラグ!=1)].shape[0]\n",
    "#dc4[(dc4.risk==1)&(dc4.原因!=\"リスク\")&(dc4.提供フラグ==1)].shape[0]"
   ]
  },
  {
   "cell_type": "code",
   "execution_count": null,
   "metadata": {},
   "outputs": [],
   "source": [
    "#dc4[(dc4.risk==1)&(dc4.原因==\"リスク\")&(dc4.提供フラグ!=1)].shape[0]\n",
    "dc4[(dc4.risk==1)&(dc4.原因!=\"リスク\")&(dc4.提供フラグ==1)].shape[0]"
   ]
  },
  {
   "cell_type": "code",
   "execution_count": null,
   "metadata": {},
   "outputs": [],
   "source": [
    "dc4r = dc4[dc4.risk==1]"
   ]
  },
  {
   "cell_type": "code",
   "execution_count": null,
   "metadata": {},
   "outputs": [],
   "source": [
    "dc4r.shape[0]"
   ]
  },
  {
   "cell_type": "code",
   "execution_count": null,
   "metadata": {},
   "outputs": [],
   "source": [
    "dc4r.iloc[:5].loc[:,[\"記録日\",\"記録時刻\",\"原因\",\"vsidx\",\"risk\"]]"
   ]
  },
  {
   "cell_type": "code",
   "execution_count": null,
   "metadata": {},
   "outputs": [],
   "source": [
    "#dc4r.to_csv(\"D:/ahn_pc/workfile/2021/阪神事故リスク/dc4r04.csv\", index = False, encoding=\"shift_jis\")"
   ]
  },
  {
   "cell_type": "code",
   "execution_count": null,
   "metadata": {},
   "outputs": [],
   "source": [
    "dc4r[~dc4r.duplicated(subset=\"vsidx\")].shape[0]"
   ]
  },
  {
   "cell_type": "code",
   "execution_count": null,
   "metadata": {},
   "outputs": [],
   "source": [
    "def ts(d):\n",
    "    return d.原因.values\n",
    "def ts2(d):\n",
    "    return d.程度.values\n",
    "def ts3(d):\n",
    "    return d.提供フラグ.values"
   ]
  },
  {
   "cell_type": "code",
   "execution_count": null,
   "metadata": {},
   "outputs": [],
   "source": [
    "temp=dc4r.groupby(\"vsidx\").apply(ts)\n",
    "temp2=dc4r.groupby(\"vsidx\").apply(ts2)\n",
    "temp3=dc4r.groupby(\"vsidx\").apply(ts3)"
   ]
  },
  {
   "cell_type": "code",
   "execution_count": null,
   "metadata": {},
   "outputs": [],
   "source": [
    "dc5 = pd.DataFrame(temp)"
   ]
  },
  {
   "cell_type": "code",
   "execution_count": null,
   "metadata": {},
   "outputs": [],
   "source": [
    "dc5[\"vsidx\"]=dc5.index"
   ]
  },
  {
   "cell_type": "code",
   "execution_count": null,
   "metadata": {},
   "outputs": [],
   "source": [
    "dc5[\"gen\"]=dc5[0]"
   ]
  },
  {
   "cell_type": "code",
   "execution_count": null,
   "metadata": {},
   "outputs": [],
   "source": [
    "dc5[\"tei\"]=temp2"
   ]
  },
  {
   "cell_type": "code",
   "execution_count": null,
   "metadata": {},
   "outputs": [],
   "source": [
    "dc5[\"flg\"]=temp3"
   ]
  },
  {
   "cell_type": "code",
   "execution_count": null,
   "metadata": {},
   "outputs": [],
   "source": [
    "del dc5[0]"
   ]
  },
  {
   "cell_type": "code",
   "execution_count": null,
   "metadata": {},
   "outputs": [],
   "source": [
    "dc5.shape[0]"
   ]
  },
  {
   "cell_type": "code",
   "execution_count": null,
   "metadata": {},
   "outputs": [],
   "source": [
    "vsidx=dc5.vsidx.values\n",
    "gen=dc5.gen.values\n",
    "tei=dc5.tei.values\n",
    "flg=dc5.flg.values"
   ]
  },
  {
   "cell_type": "code",
   "execution_count": null,
   "metadata": {},
   "outputs": [],
   "source": [
    "cnt=[]\n",
    "cntstr=[]\n",
    "for i in range(gen.shape[0]):\n",
    "#for i in range(3):\n",
    "    ri2p=0\n",
    "    ri2n=0\n",
    "    ri3p=0\n",
    "    ri3n=0\n",
    "    nori=0\n",
    "    nostr=[]\n",
    "    for j in range(gen[i].shape[0]):\n",
    "        if gen[i][j]==\"リスク\":\n",
    "            if tei[i][j]==\"リスク２\":\n",
    "                if flg[i][j]==1:\n",
    "                    ri2p=ri2p+1\n",
    "                else:\n",
    "                    ri2n=ri2n+1\n",
    "            else:\n",
    "                if flg[i][j]==1:\n",
    "                    ri3p=ri3p+1\n",
    "                else:\n",
    "                    ri3n=ri3n+1\n",
    "        else:\n",
    "            if flg[i][j]==1:\n",
    "                nori=nori+1\n",
    "                nostr.append(gen[i][j])\n",
    "    cnt.append([vsidx[i],ri2p,ri2n,ri3p,ri3n,nori])\n",
    "    cntstr.append(nostr)"
   ]
  },
  {
   "cell_type": "code",
   "execution_count": null,
   "metadata": {},
   "outputs": [],
   "source": [
    "cntd = pd.DataFrame(cnt)"
   ]
  },
  {
   "cell_type": "code",
   "execution_count": null,
   "metadata": {},
   "outputs": [],
   "source": [
    "cntd[\"gen\"]=cntstr"
   ]
  },
  {
   "cell_type": "code",
   "execution_count": null,
   "metadata": {},
   "outputs": [],
   "source": [
    "#tt = dc4r[dc4r.vsidx==\"14_00:23_158\"].iloc[:,5:]"
   ]
  },
  {
   "cell_type": "code",
   "execution_count": null,
   "metadata": {},
   "outputs": [],
   "source": [
    "#tt.shape[0]"
   ]
  },
  {
   "cell_type": "code",
   "execution_count": null,
   "metadata": {},
   "outputs": [],
   "source": [
    "#tt[~tt.duplicated()].shape[0]"
   ]
  },
  {
   "cell_type": "code",
   "execution_count": null,
   "metadata": {},
   "outputs": [],
   "source": [
    "cntd[cntd[5]>1]"
   ]
  },
  {
   "cell_type": "code",
   "execution_count": null,
   "metadata": {},
   "outputs": [],
   "source": [
    "cntd[\"vsidx\"]=cntd[0]"
   ]
  },
  {
   "cell_type": "code",
   "execution_count": null,
   "metadata": {},
   "outputs": [],
   "source": [
    "cntd.shape[0]"
   ]
  },
  {
   "cell_type": "code",
   "execution_count": null,
   "metadata": {},
   "outputs": [],
   "source": [
    "df = pd.merge(dc4r,cntd, on=\"vsidx\", how=\"left\")"
   ]
  },
  {
   "cell_type": "code",
   "execution_count": null,
   "metadata": {},
   "outputs": [],
   "source": [
    "df.shape[0]"
   ]
  },
  {
   "cell_type": "code",
   "execution_count": null,
   "metadata": {},
   "outputs": [],
   "source": [
    "#del dc4,dc4r"
   ]
  },
  {
   "cell_type": "code",
   "execution_count": null,
   "metadata": {},
   "outputs": [],
   "source": [
    "df2=df[~df.duplicated(subset=\"vsidx\")]"
   ]
  },
  {
   "cell_type": "code",
   "execution_count": null,
   "metadata": {},
   "outputs": [],
   "source": [
    "df2.shape[0]"
   ]
  },
  {
   "cell_type": "code",
   "execution_count": null,
   "metadata": {},
   "outputs": [],
   "source": [
    "df2"
   ]
  },
  {
   "cell_type": "code",
   "execution_count": null,
   "metadata": {},
   "outputs": [],
   "source": [
    "df2.to_csv(\"D:/ahn_pc/workfile/2021/阪神事故リスク/df2_10.csv\", index = False, encoding=\"shift_jis\")"
   ]
  },
  {
   "cell_type": "code",
   "execution_count": null,
   "metadata": {},
   "outputs": [],
   "source": [
    "df2 = pd.read_csv(\"D:/ahn_pc/workfile/2021/阪神事故リスク/df2_10.csv\", encoding=\"shift_jis\")"
   ]
  },
  {
   "cell_type": "code",
   "execution_count": null,
   "metadata": {},
   "outputs": [],
   "source": []
  },
  {
   "cell_type": "code",
   "execution_count": null,
   "metadata": {},
   "outputs": [],
   "source": [
    "df2[\"tidx\"]=df2.記録年.astype(str)+\"-\"+df2.記録月.astype(str)+\"-\"+df2.記録日.astype(str)+\" \"+df2.記録時刻+\":00\""
   ]
  },
  {
   "cell_type": "code",
   "execution_count": null,
   "metadata": {},
   "outputs": [],
   "source": [
    "df2[\"tidx5m\"]=pd.to_datetime(df2.tidx).dt.floor(\"5T\")"
   ]
  },
  {
   "cell_type": "code",
   "execution_count": null,
   "metadata": {},
   "outputs": [],
   "source": [
    "df2[pd.isna(df2.jdp)]"
   ]
  },
  {
   "cell_type": "code",
   "execution_count": null,
   "metadata": {},
   "outputs": [],
   "source": [
    "df2[\"idx\"]=df2.tidx5m.astype(str)+\"_\"+df2.jdp.astype(int).astype(str)"
   ]
  },
  {
   "cell_type": "code",
   "execution_count": null,
   "metadata": {},
   "outputs": [],
   "source": [
    "df2[\"upidx\"]=df2.tidx5m.astype(str)+\"_\"+df2.jdpup1.astype(int).astype(str)"
   ]
  },
  {
   "cell_type": "code",
   "execution_count": null,
   "metadata": {},
   "outputs": [],
   "source": []
  },
  {
   "cell_type": "code",
   "execution_count": null,
   "metadata": {},
   "outputs": [],
   "source": [
    "dff = pd.read_csv(\"D:/ahn_pc/workfile/2021/阪神事故リスク/result/dff10.csv\", encoding=\"shift_jis\")"
   ]
  },
  {
   "cell_type": "code",
   "execution_count": null,
   "metadata": {},
   "outputs": [],
   "source": [
    "dff.columns"
   ]
  },
  {
   "cell_type": "code",
   "execution_count": null,
   "metadata": {},
   "outputs": [],
   "source": [
    "dff[\"idx\"]=dff.idx.str[:19]+\"_\"+dff.JDP番号.astype(str)"
   ]
  },
  {
   "cell_type": "code",
   "execution_count": null,
   "metadata": {},
   "outputs": [],
   "source": [
    "dff2=dff[pd.isna(dff.エラー)]"
   ]
  },
  {
   "cell_type": "code",
   "execution_count": null,
   "metadata": {},
   "outputs": [],
   "source": [
    "dff3=dff2[dff2.速度<200]"
   ]
  },
  {
   "cell_type": "code",
   "execution_count": null,
   "metadata": {},
   "outputs": [],
   "source": [
    "dffup=dff3.loc[:,[\"idx\",\"区間長\",\"速度\",\"交通量\",\"渋滞\",\"事故\"]]"
   ]
  },
  {
   "cell_type": "code",
   "execution_count": null,
   "metadata": {},
   "outputs": [],
   "source": [
    "dffup.columns=[\"upidx\",\"区間長up\",\"速度up\",\"交通量up\",\"渋滞up\",\"事故up\"]"
   ]
  },
  {
   "cell_type": "code",
   "execution_count": null,
   "metadata": {},
   "outputs": [],
   "source": [
    "dffup"
   ]
  },
  {
   "cell_type": "code",
   "execution_count": null,
   "metadata": {},
   "outputs": [],
   "source": [
    "dm = pd.merge(df2,dff3, on=\"idx\", how=\"left\")"
   ]
  },
  {
   "cell_type": "code",
   "execution_count": null,
   "metadata": {},
   "outputs": [],
   "source": [
    "#dm.iloc[:5,35:]"
   ]
  },
  {
   "cell_type": "code",
   "execution_count": null,
   "metadata": {},
   "outputs": [],
   "source": [
    "dm2 = pd.merge(dm,dffup, on=\"upidx\", how=\"left\")"
   ]
  },
  {
   "cell_type": "code",
   "execution_count": null,
   "metadata": {},
   "outputs": [],
   "source": [
    "dm2"
   ]
  },
  {
   "cell_type": "code",
   "execution_count": null,
   "metadata": {},
   "outputs": [],
   "source": [
    "dm2.to_csv(\"D:/ahn_pc/workfile/2021/阪神事故リスク/dm2_10.csv\", index = False, encoding=\"shift_jis\")"
   ]
  },
  {
   "cell_type": "code",
   "execution_count": null,
   "metadata": {},
   "outputs": [],
   "source": []
  },
  {
   "cell_type": "code",
   "execution_count": null,
   "metadata": {},
   "outputs": [],
   "source": []
  },
  {
   "cell_type": "code",
   "execution_count": null,
   "metadata": {},
   "outputs": [],
   "source": []
  },
  {
   "cell_type": "code",
   "execution_count": null,
   "metadata": {},
   "outputs": [],
   "source": []
  },
  {
   "cell_type": "code",
   "execution_count": null,
   "metadata": {},
   "outputs": [],
   "source": []
  },
  {
   "cell_type": "code",
   "execution_count": null,
   "metadata": {},
   "outputs": [],
   "source": []
  },
  {
   "cell_type": "code",
   "execution_count": null,
   "metadata": {},
   "outputs": [],
   "source": []
  },
  {
   "cell_type": "code",
   "execution_count": null,
   "metadata": {},
   "outputs": [],
   "source": []
  },
  {
   "cell_type": "code",
   "execution_count": null,
   "metadata": {},
   "outputs": [],
   "source": []
  },
  {
   "cell_type": "code",
   "execution_count": null,
   "metadata": {},
   "outputs": [],
   "source": [
    "df[df.vsidx==\"4_00:03_11\"].loc[:,\"原因\"]"
   ]
  },
  {
   "cell_type": "code",
   "execution_count": null,
   "metadata": {},
   "outputs": [],
   "source": [
    "df2 = df[~df.duplicated(subset=\"vsidx\")]"
   ]
  },
  {
   "cell_type": "code",
   "execution_count": null,
   "metadata": {},
   "outputs": [],
   "source": [
    "df2.iloc[1,:]"
   ]
  },
  {
   "cell_type": "code",
   "execution_count": null,
   "metadata": {},
   "outputs": [],
   "source": [
    "dc4r"
   ]
  },
  {
   "cell_type": "code",
   "execution_count": null,
   "metadata": {},
   "outputs": [],
   "source": []
  },
  {
   "cell_type": "code",
   "execution_count": null,
   "metadata": {},
   "outputs": [],
   "source": []
  },
  {
   "cell_type": "code",
   "execution_count": null,
   "metadata": {},
   "outputs": [],
   "source": []
  },
  {
   "cell_type": "code",
   "execution_count": null,
   "metadata": {},
   "outputs": [],
   "source": []
  },
  {
   "cell_type": "code",
   "execution_count": null,
   "metadata": {},
   "outputs": [],
   "source": []
  },
  {
   "cell_type": "code",
   "execution_count": null,
   "metadata": {},
   "outputs": [],
   "source": []
  },
  {
   "cell_type": "code",
   "execution_count": null,
   "metadata": {},
   "outputs": [],
   "source": []
  },
  {
   "cell_type": "code",
   "execution_count": null,
   "metadata": {},
   "outputs": [],
   "source": [
    "temp2 = dc4r[[\"vsidx\",\"indx\"]].groupby(\"vsidx\").count()"
   ]
  },
  {
   "cell_type": "code",
   "execution_count": null,
   "metadata": {},
   "outputs": [],
   "source": [
    "temp2[temp2.indx>5]"
   ]
  },
  {
   "cell_type": "code",
   "execution_count": null,
   "metadata": {},
   "outputs": [],
   "source": [
    "temp = dc4r[(dc4r.vsidx==\"10_12:52_368\")|(dc4r.vsidx==\"9_23:37_545\")]"
   ]
  },
  {
   "cell_type": "code",
   "execution_count": null,
   "metadata": {},
   "outputs": [],
   "source": [
    "def ts(d):\n",
    "    return d.原因.values\n",
    "def ts2(d):\n",
    "    return d.提供フラグ.values"
   ]
  },
  {
   "cell_type": "code",
   "execution_count": null,
   "metadata": {},
   "outputs": [],
   "source": [
    "temp2 = temp.groupby(\"vsidx\").apply(ts)\n",
    "temp3 = temp.groupby(\"vsidx\").apply(ts2)"
   ]
  },
  {
   "cell_type": "code",
   "execution_count": null,
   "metadata": {},
   "outputs": [],
   "source": [
    "print(temp2)\n",
    "print(temp3)"
   ]
  },
  {
   "cell_type": "code",
   "execution_count": null,
   "metadata": {},
   "outputs": [],
   "source": []
  },
  {
   "cell_type": "code",
   "execution_count": null,
   "metadata": {},
   "outputs": [],
   "source": []
  },
  {
   "cell_type": "code",
   "execution_count": null,
   "metadata": {},
   "outputs": [],
   "source": []
  },
  {
   "cell_type": "code",
   "execution_count": null,
   "metadata": {},
   "outputs": [],
   "source": [
    "tempr = dc4[(dc4.risk==1)&(dc4.原因==\"リスク\")]"
   ]
  },
  {
   "cell_type": "code",
   "execution_count": null,
   "metadata": {},
   "outputs": [],
   "source": [
    "tempnr = dc4[(dc4.risk==1)&(dc4.原因!=\"リスク\")]"
   ]
  },
  {
   "cell_type": "code",
   "execution_count": null,
   "metadata": {},
   "outputs": [],
   "source": [
    "temp.shape[0]==tempr.shape[0]+tempnr.shape[0]"
   ]
  },
  {
   "cell_type": "code",
   "execution_count": null,
   "metadata": {},
   "outputs": [],
   "source": [
    "print(tempr.shape[0])\n",
    "print(tempnr.shape[0])\n",
    "print(tempr[tempr.提供フラグ==1].shape[0])\n",
    "print(tempr[tempr.提供フラグ!=1].shape[0])\n",
    "print(tempnr[tempnr.提供フラグ==1].shape[0])\n",
    "print(tempnr[tempnr.提供フラグ!=1].shape[0])"
   ]
  },
  {
   "cell_type": "code",
   "execution_count": null,
   "metadata": {},
   "outputs": [],
   "source": []
  },
  {
   "cell_type": "code",
   "execution_count": null,
   "metadata": {},
   "outputs": [],
   "source": []
  },
  {
   "cell_type": "code",
   "execution_count": null,
   "metadata": {},
   "outputs": [],
   "source": []
  },
  {
   "cell_type": "code",
   "execution_count": null,
   "metadata": {},
   "outputs": [],
   "source": [
    "dc3a = dc3.loc[:,[\"記録日\",\"記録時刻\",\"文字情報板番号\",\"提供フラグ\",\"原因\",\"程度\",\"特記事項\"]]"
   ]
  },
  {
   "cell_type": "code",
   "execution_count": null,
   "metadata": {},
   "outputs": [],
   "source": [
    "dc3b = dc3a[((dc3a.原因==\"リスク\")&(dc3a.提供フラグ!=1))|(dc3a.提供フラグ==1)]"
   ]
  },
  {
   "cell_type": "code",
   "execution_count": null,
   "metadata": {},
   "outputs": [],
   "source": [
    "dc3b"
   ]
  },
  {
   "cell_type": "code",
   "execution_count": null,
   "metadata": {},
   "outputs": [],
   "source": [
    "dc3b[dc3b.提供フラグ!=1]"
   ]
  },
  {
   "cell_type": "code",
   "execution_count": null,
   "metadata": {},
   "outputs": [],
   "source": [
    "dc3amoji2 = dc3a[dc3a.文字情報板番号==17]"
   ]
  },
  {
   "cell_type": "code",
   "execution_count": null,
   "metadata": {},
   "outputs": [],
   "source": []
  },
  {
   "cell_type": "code",
   "execution_count": null,
   "metadata": {},
   "outputs": [],
   "source": []
  },
  {
   "cell_type": "code",
   "execution_count": null,
   "metadata": {},
   "outputs": [],
   "source": []
  },
  {
   "cell_type": "code",
   "execution_count": null,
   "metadata": {},
   "outputs": [],
   "source": []
  },
  {
   "cell_type": "code",
   "execution_count": null,
   "metadata": {},
   "outputs": [],
   "source": []
  },
  {
   "cell_type": "code",
   "execution_count": null,
   "metadata": {},
   "outputs": [],
   "source": [
    "dc2=dc[dc.原因==\"リスク\"]"
   ]
  },
  {
   "cell_type": "code",
   "execution_count": null,
   "metadata": {},
   "outputs": [],
   "source": [
    "dc2"
   ]
  },
  {
   "cell_type": "code",
   "execution_count": null,
   "metadata": {},
   "outputs": [],
   "source": [
    "dc2.to_csv(\"D:/ahn_pc/workfile/2021/阪神事故リスク/moji4.csv\", index = False, encoding=\"shift_jis\")"
   ]
  },
  {
   "cell_type": "code",
   "execution_count": null,
   "metadata": {},
   "outputs": [],
   "source": [
    "dc3=dc2[dc2.提供フラグ==1]"
   ]
  },
  {
   "cell_type": "code",
   "execution_count": null,
   "metadata": {},
   "outputs": [],
   "source": [
    "dc3"
   ]
  },
  {
   "cell_type": "code",
   "execution_count": null,
   "metadata": {},
   "outputs": [],
   "source": [
    "dc3.to_csv(\"D:/ahn_pc/workfile/2021/阪神事故リスク/moji4hyoji.csv\", index = False, encoding=\"shift_jis\")"
   ]
  },
  {
   "cell_type": "code",
   "execution_count": null,
   "metadata": {},
   "outputs": [],
   "source": []
  },
  {
   "cell_type": "code",
   "execution_count": null,
   "metadata": {},
   "outputs": [],
   "source": []
  },
  {
   "cell_type": "code",
   "execution_count": null,
   "metadata": {},
   "outputs": [],
   "source": [
    "dc[\"dtt\"]=dc[\"dt\"]+\" \"+dc[\"tim\"]"
   ]
  },
  {
   "cell_type": "code",
   "execution_count": null,
   "metadata": {},
   "outputs": [],
   "source": [
    "dc[\"dtt2\"] = pd.to_datetime(dc.dtt)"
   ]
  },
  {
   "cell_type": "code",
   "execution_count": null,
   "metadata": {},
   "outputs": [],
   "source": [
    "dtt = pd.DataFrame(dc[dc[\"num\"]==1].dtt2)"
   ]
  },
  {
   "cell_type": "code",
   "execution_count": null,
   "metadata": {},
   "outputs": [],
   "source": [
    "#dtt.dtt=dtt.dtt.astype(str)"
   ]
  },
  {
   "cell_type": "code",
   "execution_count": null,
   "metadata": {},
   "outputs": [],
   "source": [
    "dtt"
   ]
  },
  {
   "cell_type": "code",
   "execution_count": null,
   "metadata": {},
   "outputs": [],
   "source": [
    "occerr = dc[dc.occ>200].drop_duplicates(subset=\"num\")"
   ]
  },
  {
   "cell_type": "code",
   "execution_count": null,
   "metadata": {},
   "outputs": [],
   "source": [
    "occerr"
   ]
  },
  {
   "cell_type": "code",
   "execution_count": null,
   "metadata": {},
   "outputs": [],
   "source": [
    "occerr.to_csv(\"D:/ahn_pc/workfile/2021/阪神事故リスク/occerr4.csv\", index = False)"
   ]
  },
  {
   "cell_type": "code",
   "execution_count": null,
   "metadata": {},
   "outputs": [],
   "source": []
  },
  {
   "cell_type": "code",
   "execution_count": null,
   "metadata": {},
   "outputs": [],
   "source": [
    "kens = pd.read_csv(\"D:/ahn_pc/workfile/2021/阪神事故リスク/kenchiki_s2.csv\", header=None, encoding=\"shift_jis\")"
   ]
  },
  {
   "cell_type": "code",
   "execution_count": null,
   "metadata": {},
   "outputs": [],
   "source": [
    "kens.columns=[\"num\"]"
   ]
  },
  {
   "cell_type": "code",
   "execution_count": null,
   "metadata": {},
   "outputs": [],
   "source": [
    "kens"
   ]
  },
  {
   "cell_type": "code",
   "execution_count": null,
   "metadata": {},
   "outputs": [],
   "source": []
  },
  {
   "cell_type": "code",
   "execution_count": null,
   "metadata": {},
   "outputs": [],
   "source": [
    "sec = pd.read_csv(\"D:/ahn_pc/workfile/2021/阪神事故リスク/section_add.csv\", encoding=\"shift_jis\")\n",
    "#jdp = pd.read_csv(\"D:/ahn_pc/workfile/2021/阪神事故リスク/JDP2.csv\", encoding=\"shift_jis\")"
   ]
  },
  {
   "cell_type": "code",
   "execution_count": null,
   "metadata": {},
   "outputs": [],
   "source": [
    "#jdpd = jdp.loc[:,[\"JDP番号\",\"JDP担当範囲\",\"渋滞検知器番号1\",\"渋滞検知器番号2\",\"渋滞検知器番号3\",\"渋滞検知器番号4\",\"区間番号\"]]"
   ]
  },
  {
   "cell_type": "code",
   "execution_count": null,
   "metadata": {},
   "outputs": [],
   "source": [
    "noken = sec[pd.isna(sec.検知器番号1)].区間番号"
   ]
  },
  {
   "cell_type": "code",
   "execution_count": null,
   "metadata": {},
   "outputs": [],
   "source": [
    "noken.to_csv(\"D:/ahn_pc/workfile/2021/阪神事故リスク/noken.csv\", index = False)"
   ]
  },
  {
   "cell_type": "code",
   "execution_count": null,
   "metadata": {},
   "outputs": [],
   "source": [
    "dc"
   ]
  },
  {
   "cell_type": "code",
   "execution_count": null,
   "metadata": {},
   "outputs": [],
   "source": [
    "sec"
   ]
  },
  {
   "cell_type": "code",
   "execution_count": null,
   "metadata": {},
   "outputs": [],
   "source": [
    "sec_n = sec.区間番号\n",
    "sec_1 = sec.検知器番号1\n",
    "sec_2 = sec.検知器番号2\n",
    "sec_3 = sec.検知器番号3\n",
    "sec_4 = sec.検知器番号4\n",
    "\n",
    "df = []\n",
    "dtt[\"sec\"] = 0\n",
    "\n",
    "for idx in range(sec.shape[0]):\n",
    "#for idx in range(5):\n",
    "    secn = sec_n.values[idx]\n",
    "    dtt[\"sec\"] = secn\n",
    "    \n",
    "    tempc=[]\n",
    "    temp1 = dc[dc[\"num\"]==sec_1.values[idx]]\n",
    "    tempc = pd.merge(dtt,temp1, on=\"dtt2\")\n",
    "    \n",
    "    print(temp1)\n",
    "    print(tempc)\n",
    "    \n",
    "    if pd.notna(sec_2.values[idx]):\n",
    "        temp2 = dc[dc[\"num\"]==sec_2.values[idx]]\n",
    "        tempc = pd.merge(tempc,temp2, on=\"dtt2\")\n",
    "    \n",
    "    if pd.notna(sec_3.values[idx]):\n",
    "        temp3 = dc[dc[\"num\"]==sec_3.values[idx]]\n",
    "        tempc = pd.merge(tempc,temp3, on=\"dtt2\")\n",
    "    \n",
    "    if pd.notna(sec_4.values[idx]):\n",
    "        temp4 = dc[dc[\"num\"]==sec_4.values[idx]]\n",
    "        tempc = pd.merge(tempc,temp4, on=\"dtt2\")\n",
    "    \n",
    "    tempv = tempc.values\n",
    "    tempd = pd.DataFrame(tempv)\n",
    "    print(tempd)\n",
    "    df.append(tempd)"
   ]
  },
  {
   "cell_type": "code",
   "execution_count": null,
   "metadata": {},
   "outputs": [],
   "source": [
    "#dc[dc[\"num\"]==sec_1.values[0]]\n",
    "#dc[dc[\"num\"]==2508]"
   ]
  },
  {
   "cell_type": "code",
   "execution_count": null,
   "metadata": {},
   "outputs": [],
   "source": [
    "dfc = pd.concat(df, axis = 0, ignore_index=True)"
   ]
  },
  {
   "cell_type": "code",
   "execution_count": null,
   "metadata": {},
   "outputs": [],
   "source": [
    "dfc[dfc[1]==333]"
   ]
  },
  {
   "cell_type": "code",
   "execution_count": null,
   "metadata": {},
   "outputs": [],
   "source": [
    "dfc.iloc[0,:]"
   ]
  },
  {
   "cell_type": "code",
   "execution_count": null,
   "metadata": {},
   "outputs": [],
   "source": [
    "trf = dfc[6].values.tolist()\n",
    "trf1 = dfc[6].values.tolist()\n",
    "trf2 = dfc[16].values.tolist()\n",
    "trf3 = dfc[26].values.tolist()\n",
    "trf4 = dfc[36].values.tolist()"
   ]
  },
  {
   "cell_type": "code",
   "execution_count": null,
   "metadata": {},
   "outputs": [],
   "source": [
    "len(trf1)"
   ]
  },
  {
   "cell_type": "code",
   "execution_count": null,
   "metadata": {},
   "outputs": [],
   "source": [
    "for i in range(len(trf1)):\n",
    "#for i in range(11):\n",
    "    if not pd.isna(trf2[i]):\n",
    "        #print(trf2[i])\n",
    "        if not pd.isna(trf3[i]):\n",
    "            #rint(trf3[i])\n",
    "            if not pd.isna(trf4[i]):\n",
    "                trf[i]=trf1[i]+trf2[i]+trf3[i]+trf4[i]\n",
    "            else:\n",
    "                trf[i]=trf1[i]+trf2[i]+trf3[i]\n",
    "        else:\n",
    "            trf[i]=trf1[i]+trf2[i]\n",
    "    else:\n",
    "        trf[i]=trf1[i]"
   ]
  },
  {
   "cell_type": "code",
   "execution_count": null,
   "metadata": {},
   "outputs": [],
   "source": [
    "dfc.insert(1,\"trf\",trf)"
   ]
  },
  {
   "cell_type": "code",
   "execution_count": null,
   "metadata": {},
   "outputs": [],
   "source": [
    "dfc[dfc[1]==333]"
   ]
  },
  {
   "cell_type": "code",
   "execution_count": null,
   "metadata": {},
   "outputs": [],
   "source": [
    "dfc"
   ]
  },
  {
   "cell_type": "code",
   "execution_count": null,
   "metadata": {},
   "outputs": [],
   "source": [
    "temp=dfc[dfc[8]>65500][1]"
   ]
  },
  {
   "cell_type": "code",
   "execution_count": null,
   "metadata": {},
   "outputs": [],
   "source": [
    "temp"
   ]
  },
  {
   "cell_type": "code",
   "execution_count": null,
   "metadata": {},
   "outputs": [],
   "source": [
    "temp[temp!=518]"
   ]
  },
  {
   "cell_type": "code",
   "execution_count": null,
   "metadata": {},
   "outputs": [],
   "source": [
    "dfcidx = dfc.iloc[:,:3]"
   ]
  },
  {
   "cell_type": "code",
   "execution_count": null,
   "metadata": {},
   "outputs": [],
   "source": [
    "dfcidx[dfcidx[1]==333]"
   ]
  },
  {
   "cell_type": "code",
   "execution_count": null,
   "metadata": {},
   "outputs": [],
   "source": [
    "dfcidx.insert(0,\"idx\",dfcidx[0].astype(str)+\"_\"+dfcidx[1].astype(str))"
   ]
  },
  {
   "cell_type": "code",
   "execution_count": null,
   "metadata": {},
   "outputs": [],
   "source": [
    "dfcidx"
   ]
  },
  {
   "cell_type": "code",
   "execution_count": null,
   "metadata": {},
   "outputs": [],
   "source": [
    "#ttt3 = dfcidx[dfcidx[0]==\"2021-04-30 11:10:00\"]"
   ]
  },
  {
   "cell_type": "code",
   "execution_count": null,
   "metadata": {},
   "outputs": [],
   "source": [
    "#ttt3[ttt3[1]==27]"
   ]
  },
  {
   "cell_type": "code",
   "execution_count": null,
   "metadata": {},
   "outputs": [],
   "source": [
    "dfcidx[dfcidx[1]==333]"
   ]
  },
  {
   "cell_type": "code",
   "execution_count": null,
   "metadata": {},
   "outputs": [],
   "source": [
    "dfcidx[pd.isna(dfcidx.trf)]"
   ]
  },
  {
   "cell_type": "code",
   "execution_count": null,
   "metadata": {},
   "outputs": [],
   "source": [
    "jdp = pd.read_csv(\"D:/ahn_pc/workfile/2021/阪神事故リスク/JDP3.csv\", encoding=\"shift_jis\")"
   ]
  },
  {
   "cell_type": "code",
   "execution_count": null,
   "metadata": {},
   "outputs": [],
   "source": [
    "jdp"
   ]
  },
  {
   "cell_type": "code",
   "execution_count": null,
   "metadata": {},
   "outputs": [],
   "source": [
    "jdpd = jdp.loc[:,[\"JDP番号\",\"地区名\",\"JDP担当範囲\",\"渋滞検知器番号1\",\"渋滞検知器番号2\",\"渋滞検知器番号3\",\"渋滞検知器番号4\",\"区間番号修正\"]]"
   ]
  },
  {
   "cell_type": "code",
   "execution_count": null,
   "metadata": {},
   "outputs": [],
   "source": [
    "dtt2 = pd.DataFrame(dc[dc[\"num\"]==1].dtt2)"
   ]
  },
  {
   "cell_type": "code",
   "execution_count": null,
   "metadata": {},
   "outputs": [],
   "source": [
    "jdpd_j = jdpd.JDP番号\n",
    "jdpd_l = jdpd.地区名\n",
    "jdpd_s = jdpd.区間番号修正\n",
    "jdpd_km = jdpd.JDP担当範囲\n",
    "jdpd_1 = jdpd.渋滞検知器番号1\n",
    "jdpd_2 = jdpd.渋滞検知器番号2\n",
    "jdpd_3 = jdpd.渋滞検知器番号3\n",
    "jdpd_4 = jdpd.渋滞検知器番号4\n",
    "\n",
    "df2 = []\n",
    "dtt2[\"loca\"] = 0\n",
    "dtt2[\"jdp\"] = 0\n",
    "dtt2[\"secn\"] = 0\n",
    "\n",
    "for idx in range(jdpd.shape[0]):\n",
    "#for idx in range(5):\n",
    "    jdn = jdpd_j.values[idx]\n",
    "    loca = jdpd_l.values[idx]\n",
    "    secn = jdpd_s.values[idx]\n",
    "    kmn = jdpd_km.values[idx]\n",
    "    #jdn = jdp.JDP番号[idx]\n",
    "    #secn = jdp.区間番号[idx]\n",
    "    \n",
    "    dtt2[\"jdp\"] = jdn\n",
    "    dtt2[\"loca\"] = loca\n",
    "    dtt2[\"secn\"] = secn\n",
    "    dtt2[\"kmn\"] = kmn\n",
    "    \n",
    "    tempc=[]\n",
    "    temp1 = dc[dc[\"num\"]==jdpd_1.values[idx]]\n",
    "    tempc = pd.merge(dtt2,temp1, on=\"dtt2\")\n",
    "    \n",
    "    if pd.notna(jdpd_2.values[idx]):\n",
    "        temp2 = dc[dc[\"num\"]==jdpd_2.values[idx]]\n",
    "        tempc = pd.merge(tempc,temp2, on=\"dtt2\")\n",
    "    \n",
    "    if pd.notna(jdpd_3.values[idx]):\n",
    "        temp3 = dc[dc[\"num\"]==jdpd_3.values[idx]]\n",
    "        tempc = pd.merge(tempc,temp3, on=\"dtt2\")\n",
    "    \n",
    "    if pd.notna(jdpd_4.values[idx]):\n",
    "        temp4 = dc[dc[\"num\"]==jdpd_4.values[idx]]\n",
    "        tempc = pd.merge(tempc,temp4, on=\"dtt2\")\n",
    "    \n",
    "    tempv = tempc.values\n",
    "    tempd = pd.DataFrame(tempv)\n",
    "    df2.append(tempd)"
   ]
  },
  {
   "cell_type": "code",
   "execution_count": null,
   "metadata": {},
   "outputs": [],
   "source": [
    "dfc2 = pd.concat(df2, axis = 0, ignore_index=True)"
   ]
  },
  {
   "cell_type": "code",
   "execution_count": null,
   "metadata": {},
   "outputs": [],
   "source": [
    "dfc2[dfc2[2]==333]"
   ]
  },
  {
   "cell_type": "code",
   "execution_count": null,
   "metadata": {},
   "outputs": [],
   "source": [
    "dfc2"
   ]
  },
  {
   "cell_type": "code",
   "execution_count": null,
   "metadata": {},
   "outputs": [],
   "source": [
    "dfc2.insert(0,\"idx\",dfc2[0].astype(str)+\"_\"+dfc2[2].astype(str))"
   ]
  },
  {
   "cell_type": "code",
   "execution_count": null,
   "metadata": {},
   "outputs": [],
   "source": [
    "dfc2"
   ]
  },
  {
   "cell_type": "code",
   "execution_count": null,
   "metadata": {},
   "outputs": [],
   "source": []
  },
  {
   "cell_type": "code",
   "execution_count": null,
   "metadata": {},
   "outputs": [],
   "source": [
    "dfinal = pd.merge(dfc2,dfcidx, on=\"idx\", how=\"left\")"
   ]
  },
  {
   "cell_type": "code",
   "execution_count": null,
   "metadata": {},
   "outputs": [],
   "source": [
    "dfinal"
   ]
  },
  {
   "cell_type": "code",
   "execution_count": null,
   "metadata": {},
   "outputs": [],
   "source": [
    "#ttt = dfinal[dfinal[\"0_x\"]==\"2021-04-30 11:10:00\"]\n",
    "#ttt2 = dfc2[dfc2[0]==\"2021-04-30 11:10:00\"]"
   ]
  },
  {
   "cell_type": "code",
   "execution_count": null,
   "metadata": {},
   "outputs": [],
   "source": [
    "#ttt[ttt[\"1_x\"]==35]\n",
    "#ttt2[ttt2[1]==35]"
   ]
  },
  {
   "cell_type": "code",
   "execution_count": null,
   "metadata": {},
   "outputs": [],
   "source": [
    "test=dfinal[pd.isna(dfinal[\"1_y\"])].drop_duplicates(subset=\"1_x\")"
   ]
  },
  {
   "cell_type": "code",
   "execution_count": null,
   "metadata": {},
   "outputs": [],
   "source": [
    "test"
   ]
  },
  {
   "cell_type": "code",
   "execution_count": null,
   "metadata": {},
   "outputs": [],
   "source": []
  },
  {
   "cell_type": "code",
   "execution_count": null,
   "metadata": {},
   "outputs": [],
   "source": [
    "cong = pd.read_csv(\"D:/ahn_pc/workfile/2021/阪神事故リスク/cong04.csv\", encoding=\"shift_jis\")"
   ]
  },
  {
   "cell_type": "code",
   "execution_count": null,
   "metadata": {},
   "outputs": [],
   "source": [
    "cong"
   ]
  },
  {
   "cell_type": "code",
   "execution_count": null,
   "metadata": {},
   "outputs": [],
   "source": [
    "congd = cong.loc[:,[\"idx\",\"cong\"]]"
   ]
  },
  {
   "cell_type": "code",
   "execution_count": null,
   "metadata": {},
   "outputs": [],
   "source": [
    "congd"
   ]
  },
  {
   "cell_type": "code",
   "execution_count": null,
   "metadata": {},
   "outputs": [],
   "source": [
    "dfinal2 = pd.merge(dfinal,congd, on=\"idx\", how=\"left\")"
   ]
  },
  {
   "cell_type": "code",
   "execution_count": null,
   "metadata": {},
   "outputs": [],
   "source": [
    "dfinal2"
   ]
  },
  {
   "cell_type": "code",
   "execution_count": null,
   "metadata": {},
   "outputs": [],
   "source": [
    "dfinal2.to_csv(\"D:/ahn_pc/workfile/2021/阪神事故リスク/dfinal4.csv\", index = False)"
   ]
  },
  {
   "cell_type": "code",
   "execution_count": null,
   "metadata": {},
   "outputs": [],
   "source": [
    "dfinal2 = pd.read_csv(\"D:/ahn_pc/workfile/2021/阪神事故リスク/dfinal4.csv\", encoding=\"shift_jis\")"
   ]
  },
  {
   "cell_type": "code",
   "execution_count": null,
   "metadata": {},
   "outputs": [],
   "source": []
  },
  {
   "cell_type": "code",
   "execution_count": null,
   "metadata": {},
   "outputs": [],
   "source": [
    "acc = pd.read_csv(\"D:/ahn_pc/workfile/2021/阪神事故リスク/accident.csv\", encoding=\"shift_jis\")"
   ]
  },
  {
   "cell_type": "code",
   "execution_count": null,
   "metadata": {},
   "outputs": [],
   "source": [
    "accd = acc.loc[:,[\"idx\",\"天候\",\"事故の形態\",\"交通状態\",\"発生日_曜日\",\"曜日種別E（営業）\"]]"
   ]
  },
  {
   "cell_type": "code",
   "execution_count": null,
   "metadata": {},
   "outputs": [],
   "source": [
    "accd[\"acci\"]=1"
   ]
  },
  {
   "cell_type": "code",
   "execution_count": null,
   "metadata": {},
   "outputs": [],
   "source": [
    "accd"
   ]
  },
  {
   "cell_type": "code",
   "execution_count": null,
   "metadata": {},
   "outputs": [],
   "source": [
    "dfinal3 = pd.merge(dfinal2,accd, on=\"idx\", how=\"left\")"
   ]
  },
  {
   "cell_type": "code",
   "execution_count": null,
   "metadata": {},
   "outputs": [],
   "source": [
    "dfinal3"
   ]
  },
  {
   "cell_type": "code",
   "execution_count": null,
   "metadata": {},
   "outputs": [],
   "source": [
    "dfinal3.to_csv(\"D:/ahn_pc/workfile/2021/阪神事故リスク/dfinal4_2.csv\", index = False)"
   ]
  },
  {
   "cell_type": "code",
   "execution_count": null,
   "metadata": {},
   "outputs": [],
   "source": [
    "#dfinal3 = pd.read_csv(\"D:/ahn_pc/workfile/2021/阪神事故リスク/dfinal4_2.csv\", encoding=\"shift_jis\")\n",
    "dfinal3 = pd.read_csv(\"D:/ahn_pc/workfile/2021/阪神事故リスク/dfinal4_2.csv\")"
   ]
  },
  {
   "cell_type": "code",
   "execution_count": null,
   "metadata": {},
   "outputs": [],
   "source": []
  },
  {
   "cell_type": "code",
   "execution_count": null,
   "metadata": {},
   "outputs": [],
   "source": [
    "dfinal3[\"tm\"]=pd.to_datetime(dfinal3[\"0_x\"])"
   ]
  },
  {
   "cell_type": "code",
   "execution_count": null,
   "metadata": {},
   "outputs": [],
   "source": [
    "dfinal3[\"week\"]=dfinal3.tm.dt.weekday"
   ]
  },
  {
   "cell_type": "code",
   "execution_count": null,
   "metadata": {},
   "outputs": [],
   "source": [
    "dfinal3[\"wcode\"]=1"
   ]
  },
  {
   "cell_type": "code",
   "execution_count": null,
   "metadata": {},
   "outputs": [],
   "source": [
    "#dc2.loc[(dfinal3.week>4)|(dc2.JDP状態==\"A\")|(dc2.JDP状態==\"D\"),\"cong\"]=2\n",
    "dfinal3.loc[(dfinal3.week==5),\"wcode\"]=2\n",
    "dfinal3.loc[(dfinal3.week==6),\"wcode\"]=3"
   ]
  },
  {
   "cell_type": "code",
   "execution_count": null,
   "metadata": {},
   "outputs": [],
   "source": [
    "dfinal3[\"hour\"]=dfinal3.tm.dt.hour"
   ]
  },
  {
   "cell_type": "code",
   "execution_count": null,
   "metadata": {},
   "outputs": [],
   "source": [
    "dfinal3[\"hcode\"]=2"
   ]
  },
  {
   "cell_type": "code",
   "execution_count": null,
   "metadata": {},
   "outputs": [],
   "source": [
    "dfinal3.loc[(dfinal3.hour>6)&(dfinal3.hour<20),\"hcode\"]=1"
   ]
  },
  {
   "cell_type": "code",
   "execution_count": null,
   "metadata": {},
   "outputs": [],
   "source": []
  },
  {
   "cell_type": "code",
   "execution_count": null,
   "metadata": {},
   "outputs": [],
   "source": [
    "dfinal3[\"dy\"]=pd.to_datetime(dfinal3[5])"
   ]
  },
  {
   "cell_type": "code",
   "execution_count": null,
   "metadata": {},
   "outputs": [],
   "source": [
    "dfinal3.dy"
   ]
  },
  {
   "cell_type": "code",
   "execution_count": null,
   "metadata": {},
   "outputs": [],
   "source": [
    "kyu = pd.read_csv(\"D:/ahn_pc/workfile/2021/阪神事故リスク/kyujitsu_2021.csv\", header=None)"
   ]
  },
  {
   "cell_type": "code",
   "execution_count": null,
   "metadata": {},
   "outputs": [],
   "source": [
    "kyu[\"dy\"]=pd.to_datetime(kyu[0])"
   ]
  },
  {
   "cell_type": "code",
   "execution_count": null,
   "metadata": {},
   "outputs": [],
   "source": [
    "kyu[\"kcode\"]=1"
   ]
  },
  {
   "cell_type": "code",
   "execution_count": null,
   "metadata": {},
   "outputs": [],
   "source": [
    "kyu.dy"
   ]
  },
  {
   "cell_type": "code",
   "execution_count": null,
   "metadata": {},
   "outputs": [],
   "source": [
    "dfinal4 = pd.merge(dfinal3,kyu, on=\"dy\", how=\"left\")"
   ]
  },
  {
   "cell_type": "code",
   "execution_count": null,
   "metadata": {},
   "outputs": [],
   "source": [
    "dfinal4"
   ]
  },
  {
   "cell_type": "code",
   "execution_count": null,
   "metadata": {},
   "outputs": [],
   "source": [
    "dfinal4[~pd.isna(dfinal4.kcode)].kcode"
   ]
  },
  {
   "cell_type": "code",
   "execution_count": null,
   "metadata": {},
   "outputs": [],
   "source": [
    "dfinal4.loc[(dfinal4.kcode==1),\"wcode\"]=3"
   ]
  },
  {
   "cell_type": "code",
   "execution_count": null,
   "metadata": {},
   "outputs": [],
   "source": []
  },
  {
   "cell_type": "code",
   "execution_count": null,
   "metadata": {},
   "outputs": [],
   "source": [
    "dfinal4.to_csv(\"D:/ahn_pc/workfile/2021/阪神事故リスク/dfinal4_3.csv\", index = False)"
   ]
  },
  {
   "cell_type": "code",
   "execution_count": null,
   "metadata": {},
   "outputs": [],
   "source": [
    "dfinal4 = pd.read_csv(\"D:/ahn_pc/workfile/2021/阪神事故リスク/dfinal4_3.csv\")"
   ]
  },
  {
   "cell_type": "code",
   "execution_count": null,
   "metadata": {},
   "outputs": [],
   "source": [
    "dfinal4"
   ]
  },
  {
   "cell_type": "code",
   "execution_count": null,
   "metadata": {},
   "outputs": [],
   "source": [
    "dfinal4.columns"
   ]
  },
  {
   "cell_type": "code",
   "execution_count": null,
   "metadata": {},
   "outputs": [],
   "source": [
    "dff = dfinal4.loc[:,[\"idx\",\"1_x\",\"2\",\"4\",\"5\",\"3\",\"7\",\"11\",\"trf\",\"cong\",\"acci\",\"wcode\",\"hcode\",\"kcode\"]]"
   ]
  },
  {
   "cell_type": "code",
   "execution_count": null,
   "metadata": {},
   "outputs": [],
   "source": [
    "dff"
   ]
  },
  {
   "cell_type": "code",
   "execution_count": null,
   "metadata": {},
   "outputs": [],
   "source": [
    "dff.to_csv(\"D:/ahn_pc/workfile/2021/阪神事故リスク/dff4.csv\", index = False)"
   ]
  },
  {
   "cell_type": "code",
   "execution_count": null,
   "metadata": {},
   "outputs": [],
   "source": []
  }
 ],
 "metadata": {
  "kernelspec": {
   "display_name": "Python 3",
   "language": "python",
   "name": "python3"
  },
  "language_info": {
   "codemirror_mode": {
    "name": "ipython",
    "version": 3
   },
   "file_extension": ".py",
   "mimetype": "text/x-python",
   "name": "python",
   "nbconvert_exporter": "python",
   "pygments_lexer": "ipython3",
   "version": "3.7.6"
  }
 },
 "nbformat": 4,
 "nbformat_minor": 4
}
